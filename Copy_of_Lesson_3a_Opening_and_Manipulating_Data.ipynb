{
  "cells": [
    {
      "cell_type": "markdown",
      "metadata": {
        "id": "view-in-github",
        "colab_type": "text"
      },
      "source": [
        "<a href=\"https://colab.research.google.com/github/aliawofford9317/LSAMP_Python_Course2024/blob/Valeria/Copy_of_Lesson_3a_Opening_and_Manipulating_Data.ipynb\" target=\"_parent\"><img src=\"https://colab.research.google.com/assets/colab-badge.svg\" alt=\"Open In Colab\"/></a>"
      ]
    },
    {
      "cell_type": "markdown",
      "id": "8077feb6",
      "metadata": {
        "id": "8077feb6"
      },
      "source": [
        "## Opening and reading different file types\n",
        "\n",
        "Python allows us to read and write to different file types such as .txt, .csv, FITs.\n",
        "\n",
        "Lets start by reading and writing to .txt files\n",
        "\n",
        "Python includes the `open()` function, it has different paramenters:\n",
        "- 'r' read, opens the file, return an error if not found.\n",
        "- 'a' append, open the file to write at the end of the file, it will not overwrite.\n",
        "- 'w' write, writes over the existing file, create a new file if not found.\n",
        "- 'x' create, creates a new file, returns an error if not found.\n",
        "\n",
        "Included with this lesson there is a .txt file named 'planetary_data.txt', we will use this file for our example."
      ]
    },
    {
      "cell_type": "code",
      "source": [
        "def fetch_data():\n",
        "  import os, shutil\n",
        "  cwd = os.getcwd()\n",
        "  if os.path.exists(\"LSAMP_Python_Course2024\"):\n",
        "    shutil.rmtree(\"LSAMP_Python_Course2024\")\n",
        "  !git clone https://github.com/aliawofford9317/LSAMP_Python_Course2024.git\n",
        "  for file in os.listdir(\"LSAMP_Python_Course2024\"):\n",
        "    if file.endswith((\".txt\",\".csv\")):\n",
        "      shutil.copy(\"LSAMP_Python_Course2024/{}\".format(file),cwd)\n",
        "fetch_data()"
      ],
      "metadata": {
        "id": "EdndoSDojup0"
      },
      "id": "EdndoSDojup0",
      "execution_count": null,
      "outputs": []
    },
    {
      "cell_type": "markdown",
      "source": [
        "This block"
      ],
      "metadata": {
        "id": "GAetu7OnnXeb"
      },
      "id": "GAetu7OnnXeb"
    },
    {
      "cell_type": "code",
      "source": [
        "import os\n",
        "os.getcwd\n"
      ],
      "metadata": {
        "id": "9zg2Od4tmaw3"
      },
      "id": "9zg2Od4tmaw3",
      "execution_count": null,
      "outputs": []
    },
    {
      "cell_type": "code",
      "source": [
        "data = open('planetary_data.txt')"
      ],
      "metadata": {
        "id": "mNbYanaaY1-2"
      },
      "id": "mNbYanaaY1-2",
      "execution_count": null,
      "outputs": []
    },
    {
      "cell_type": "code",
      "execution_count": null,
      "id": "e4d5fcb4",
      "metadata": {
        "id": "e4d5fcb4"
      },
      "outputs": [],
      "source": [
        "# Object wrapper\n",
        "data"
      ]
    },
    {
      "cell_type": "code",
      "execution_count": null,
      "id": "59cc6f05",
      "metadata": {
        "id": "59cc6f05"
      },
      "outputs": [],
      "source": [
        "data.read()"
      ]
    },
    {
      "cell_type": "code",
      "source": [],
      "metadata": {
        "id": "I-KU7pl6juIx"
      },
      "id": "I-KU7pl6juIx",
      "execution_count": null,
      "outputs": []
    },
    {
      "cell_type": "code",
      "execution_count": null,
      "id": "b69bda47",
      "metadata": {
        "id": "b69bda47"
      },
      "outputs": [],
      "source": [
        "# Read the first 10 characters\n",
        "data = open('planetary_data.txt')\n",
        "data.read(10)"
      ]
    },
    {
      "cell_type": "code",
      "execution_count": null,
      "id": "1615526d",
      "metadata": {
        "id": "1615526d"
      },
      "outputs": [],
      "source": [
        "# Read a line\n",
        "data = open('planetary_data.txt')\n",
        "data.readline()"
      ]
    },
    {
      "cell_type": "code",
      "execution_count": null,
      "id": "e7f6ddb7",
      "metadata": {
        "id": "e7f6ddb7"
      },
      "outputs": [],
      "source": [
        "# Read line by line\n",
        "data = open('planetary_data.txt')\n",
        "for x in data:\n",
        "    print(x)"
      ]
    },
    {
      "cell_type": "code",
      "execution_count": null,
      "id": "1fac3da3",
      "metadata": {
        "id": "1fac3da3"
      },
      "outputs": [],
      "source": [
        "# Close the reference to the object\n",
        "data.close()"
      ]
    },
    {
      "cell_type": "markdown",
      "id": "a8754955",
      "metadata": {
        "id": "a8754955"
      },
      "source": [
        "Lets open a second txt file, which does not include so much text. Open the file called `planetary_data_2.txt`"
      ]
    },
    {
      "cell_type": "code",
      "execution_count": null,
      "id": "ec9b7adb",
      "metadata": {
        "id": "ec9b7adb"
      },
      "outputs": [],
      "source": [
        "# Open our second txt file\n",
        "planets = open('planetary_data_2.txt')\n",
        "planets.read()"
      ]
    },
    {
      "cell_type": "markdown",
      "id": "ff29c736",
      "metadata": {
        "id": "ff29c736"
      },
      "source": [
        "Let try to split the radii of planets using the `line.split()` method, this will split or separate our data where an occurrence of a string is found, in this case we will use a comma to split our characters."
      ]
    },
    {
      "cell_type": "code",
      "execution_count": null,
      "id": "17de6a9d",
      "metadata": {
        "id": "17de6a9d"
      },
      "outputs": [],
      "source": [
        "bodies = []\n",
        "radii = []\n",
        "\n",
        "planets = open('planetary_data_2.txt')\n",
        "\n",
        "for line in planets:\n",
        "    splitLine = line.split(',')\n",
        "    print(splitLine) # print the splitted line\n",
        "    print(line.strip()) # print the stripped line as String\n",
        "    bodies.append(splitLine[0])\n",
        "    radii.append(splitLine[1])\n",
        "#bodies"
      ]
    },
    {
      "cell_type": "code",
      "execution_count": null,
      "id": "a0e6f0be",
      "metadata": {
        "id": "a0e6f0be"
      },
      "outputs": [],
      "source": [
        "bodies"
      ]
    },
    {
      "cell_type": "code",
      "execution_count": null,
      "id": "6371a7c4",
      "metadata": {
        "id": "6371a7c4"
      },
      "outputs": [],
      "source": [
        "radii"
      ]
    },
    {
      "cell_type": "markdown",
      "id": "0feaa69e",
      "metadata": {
        "id": "0feaa69e"
      },
      "source": [
        "### Short exercise\n",
        "Add all the masses from the planets found in the file planetary_data_2.txt. You can use a for loop similar to the code above."
      ]
    },
    {
      "cell_type": "markdown",
      "id": "fcffc6db",
      "metadata": {
        "id": "fcffc6db"
      },
      "source": [
        "### Short exercise 2\n",
        "\n",
        "- Read the data from planetary_data_2.txt, split the data by planet. Create a new list for every planet and add it to a nested list called `list_planets`. This list contains a list of all the planets and its data.\n",
        "- Write a script that gets an integer number from the user using `input()`.\n",
        "- Return one of the planets from the list, where the index number is the number entered by the user."
      ]
    },
    {
      "cell_type": "markdown",
      "id": "1053579d",
      "metadata": {
        "id": "1053579d"
      },
      "source": [
        "## Writing to an existing file\n",
        "We can use the `a` and `w` option to append and write"
      ]
    },
    {
      "cell_type": "code",
      "execution_count": null,
      "id": "e1dc08b7",
      "metadata": {
        "id": "e1dc08b7"
      },
      "outputs": [],
      "source": [
        "dat = open('append.txt', 'a')\n",
        "dat.write('Appending this to the end')\n",
        "dat.close()\n",
        "# Go check your append.txt file after this is run\n",
        "# Remember to close your file if you manually open it"
      ]
    },
    {
      "cell_type": "code",
      "execution_count": null,
      "id": "18532953",
      "metadata": {
        "id": "18532953"
      },
      "outputs": [],
      "source": [
        "dat = open('append.txt', 'r')\n",
        "dat.read()"
      ]
    },
    {
      "cell_type": "code",
      "execution_count": null,
      "id": "6a21ca31",
      "metadata": {
        "id": "6a21ca31"
      },
      "outputs": [],
      "source": [
        "# Overwrites the current file\n",
        "datos = open('append.txt', 'w')\n",
        "datos.write('Overwrite contents')"
      ]
    },
    {
      "cell_type": "code",
      "execution_count": null,
      "id": "e95841e8",
      "metadata": {
        "id": "e95841e8"
      },
      "outputs": [],
      "source": [
        "datos = open('append.txt', 'r')\n",
        "datos.read()"
      ]
    },
    {
      "cell_type": "code",
      "execution_count": null,
      "id": "ea17c091",
      "metadata": {
        "id": "ea17c091"
      },
      "outputs": [],
      "source": [
        "datos.close()"
      ]
    },
    {
      "cell_type": "markdown",
      "id": "893f33dd",
      "metadata": {
        "id": "893f33dd"
      },
      "source": [
        "### Short exercise\n",
        "Create a script that writes numbers from 1 to 100, line by line to a text file."
      ]
    },
    {
      "cell_type": "markdown",
      "id": "3c908159",
      "metadata": {
        "id": "3c908159"
      },
      "source": [
        "## Working with CSV files\n",
        "The so-called CSV (Comma Separated Values) format is the most common import and export format for spreadsheets and databases.\n",
        "\n",
        "We can use Python without any modules to read CSV files, first we need to import the `csv` module using the `import` keyword"
      ]
    },
    {
      "cell_type": "code",
      "execution_count": null,
      "id": "e959b692",
      "metadata": {
        "id": "e959b692"
      },
      "outputs": [],
      "source": [
        "# Import the csv module\n",
        "import csv\n",
        "\n",
        "with open('cereal.csv', newline='') as csvfile:\n",
        "    read = csv.reader(csvfile, delimiter=' ')\n",
        "    for row in read:\n",
        "        print(', '.join(row))"
      ]
    },
    {
      "cell_type": "markdown",
      "id": "f0955fed",
      "metadata": {
        "id": "f0955fed"
      },
      "source": [
        "### Brief intro to Pandas\n",
        "The code above works, but for this course we will be using a module named Pandas to work with our CSV data. If you want to know more about the native csv module, check out [this link](https://docs.python.org/3/library/csv.html)\n",
        "\n",
        "Python is a library used for working with data. It can analyze, clean, explore and manipulate data. Pandas makes reading datasets very easy"
      ]
    },
    {
      "cell_type": "code",
      "execution_count": null,
      "id": "ca7db5e0",
      "metadata": {
        "id": "ca7db5e0"
      },
      "outputs": [],
      "source": [
        "# Run only once to install the Pandas library\n",
        "# Run this only if you have not added pandas via pip to your environment\n",
        "!pip install pandas"
      ]
    },
    {
      "cell_type": "code",
      "execution_count": null,
      "id": "5e17a5a6",
      "metadata": {
        "id": "5e17a5a6"
      },
      "outputs": [],
      "source": [
        "# import our newly installed library\n",
        "import pandas as pd # as pd is a shortname, we us this later\n",
        "\n",
        "data = pd.read_csv('cereal.csv') # pd shortname\n",
        "data.head()"
      ]
    },
    {
      "cell_type": "markdown",
      "id": "ecd40dce",
      "metadata": {
        "id": "ecd40dce"
      },
      "source": [
        "You can see the code above is easily more readable and relevant just by using pandas. The `.head()` will show the first 5 rows by default, you can specify how many rows you want to show by typing a different number in the `.head()` method."
      ]
    },
    {
      "cell_type": "code",
      "execution_count": null,
      "id": "30e827aa",
      "metadata": {
        "id": "30e827aa"
      },
      "outputs": [],
      "source": [
        "data.head(7)"
      ]
    },
    {
      "cell_type": "code",
      "execution_count": null,
      "id": "b2ed30c0",
      "metadata": {
        "id": "b2ed30c0"
      },
      "outputs": [],
      "source": [
        "# You can define an index column by using the index_col parameter\n",
        "data = pd.read_csv('cereal.csv', index_col='name')\n",
        "data.head()"
      ]
    },
    {
      "cell_type": "markdown",
      "id": "03797341",
      "metadata": {
        "id": "03797341"
      },
      "source": [
        "To call a column simply use the column name"
      ]
    },
    {
      "cell_type": "code",
      "execution_count": null,
      "id": "6d51618b",
      "metadata": {
        "id": "6d51618b"
      },
      "outputs": [],
      "source": [
        "data.calories"
      ]
    },
    {
      "cell_type": "code",
      "execution_count": null,
      "id": "6bf52a99",
      "metadata": {
        "id": "6bf52a99"
      },
      "outputs": [],
      "source": [
        "# What data type is this?\n",
        "type(data)"
      ]
    },
    {
      "cell_type": "code",
      "execution_count": null,
      "id": "df549f88",
      "metadata": {
        "id": "df549f88"
      },
      "outputs": [],
      "source": [
        "# And what data data is each of the columns\n",
        "type(data.calories)"
      ]
    },
    {
      "cell_type": "code",
      "execution_count": null,
      "id": "c3366497",
      "metadata": {
        "id": "c3366497"
      },
      "outputs": [],
      "source": [
        "# You can also index the dataframe similar to a list\n",
        "data.iloc[0]"
      ]
    },
    {
      "cell_type": "code",
      "execution_count": null,
      "id": "50ae2f73",
      "metadata": {
        "id": "50ae2f73"
      },
      "outputs": [],
      "source": [
        "data.iloc[15]"
      ]
    },
    {
      "cell_type": "code",
      "execution_count": null,
      "id": "000672e4",
      "metadata": {
        "id": "000672e4"
      },
      "outputs": [],
      "source": [
        "# We can also index by index name\n",
        "data[data.index == 'Trix']"
      ]
    }
  ],
  "metadata": {
    "kernelspec": {
      "display_name": "Python 3 (ipykernel)",
      "language": "python",
      "name": "python3"
    },
    "language_info": {
      "codemirror_mode": {
        "name": "ipython",
        "version": 3
      },
      "file_extension": ".py",
      "mimetype": "text/x-python",
      "name": "python",
      "nbconvert_exporter": "python",
      "pygments_lexer": "ipython3",
      "version": "3.10.4"
    },
    "colab": {
      "provenance": [],
      "include_colab_link": true
    }
  },
  "nbformat": 4,
  "nbformat_minor": 5
}