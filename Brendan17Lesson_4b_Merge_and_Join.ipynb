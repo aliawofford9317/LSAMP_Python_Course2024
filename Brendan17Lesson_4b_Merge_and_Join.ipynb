{
  "cells": [
    {
      "cell_type": "markdown",
      "metadata": {
        "id": "view-in-github",
        "colab_type": "text"
      },
      "source": [
        "<a href=\"https://colab.research.google.com/github/aliawofford9317/LSAMP_Python_Course2024/blob/Brendan-Gamor/Brendan17Lesson_4b_Merge_and_Join.ipynb\" target=\"_parent\"><img src=\"https://colab.research.google.com/assets/colab-badge.svg\" alt=\"Open In Colab\"/></a>"
      ]
    },
    {
      "cell_type": "code",
      "source": [
        "def fetch_data():\n",
        "  import os, shutil\n",
        "  cwd = os.getcwd()\n",
        "  if os.path.exists(\"LSAMP_Python_Course2024\"):\n",
        "    shutil.rmtree(\"LSAMP_Python_Course2024\")\n",
        "  !git clone https://github.com/aliawofford9317/LSAMP_Python_Course2024.git\n",
        "  for file in os.listdir(\"LSAMP_Python_Course2024\"):\n",
        "    if file.endswith((\".txt\",\".csv\")):\n",
        "      shutil.copy(\"LSAMP_Python_Course2024/{}\".format(file),cwd)\n",
        "fetch_data()"
      ],
      "metadata": {
        "id": "FXME5pY2onB1",
        "outputId": "a3162bbc-4775-4522-f6eb-016a9d512839",
        "colab": {
          "base_uri": "https://localhost:8080/"
        }
      },
      "id": "FXME5pY2onB1",
      "execution_count": null,
      "outputs": [
        {
          "output_type": "stream",
          "name": "stdout",
          "text": [
            "Cloning into 'LSAMP_Python_Course2024'...\n",
            "remote: Enumerating objects: 210, done.\u001b[K\n",
            "remote: Counting objects: 100% (140/140), done.\u001b[K\n",
            "remote: Compressing objects: 100% (136/136), done.\u001b[K\n",
            "remote: Total 210 (delta 72), reused 1 (delta 1), pack-reused 70\u001b[K\n",
            "Receiving objects: 100% (210/210), 2.48 MiB | 4.74 MiB/s, done.\n",
            "Resolving deltas: 100% (108/108), done.\n"
          ]
        }
      ]
    },
    {
      "cell_type": "markdown",
      "id": "54878e00",
      "metadata": {
        "id": "54878e00"
      },
      "source": [
        "## Merge and Joins\n",
        "Pandas allows various methods to merge and join dataframes. This allows you to create efficient Dataframes from various sources\n",
        "- `pd.merge()`\n",
        "- `pd.join()`\n",
        "- `pd.concat()`\n",
        "\n",
        "We will use a display function to correctly display our Dataframes"
      ]
    },
    {
      "cell_type": "code",
      "execution_count": null,
      "id": "a7334f33",
      "metadata": {
        "id": "a7334f33"
      },
      "outputs": [],
      "source": [
        "import pandas as pd\n",
        "import numpy as np\n",
        "\n",
        "class display(object):\n",
        "    \"\"\"Display HTML representation of multiple objects\"\"\"\n",
        "    template = \"\"\"<div style=\"float: left; padding: 10px;\">\n",
        "    <p style='font-family:\"Courier New\", Courier, monospace'>{0}</p>{1}\n",
        "    </div>\"\"\"\n",
        "    def __init__(self, *args):\n",
        "        self.args = args\n",
        "\n",
        "    def _repr_html_(self):\n",
        "        return '\\n'.join(self.template.format(a, eval(a)._repr_html_())\n",
        "                         for a in self.args)\n",
        "\n",
        "    def __repr__(self):\n",
        "        return '\\n\\n'.join(a + '\\n' + repr(eval(a))\n",
        "                           for a in self.args)"
      ]
    },
    {
      "cell_type": "code",
      "execution_count": null,
      "id": "99fba33e",
      "metadata": {
        "id": "99fba33e"
      },
      "outputs": [],
      "source": [
        "df1 = pd.DataFrame({'employee': ['Bob', 'Jake', 'Lisa', 'Sue'],\n",
        "                    'group': ['Accounting', 'Engineering', 'Engineering', 'HR']})\n",
        "df2 = pd.DataFrame({'employee': ['Lisa', 'Bob', 'Jake', 'Sue'],\n",
        "                    'hire_date': [2004, 2008, 2012, 2014]})\n",
        "display('df1', 'df2')"
      ]
    },
    {
      "cell_type": "markdown",
      "id": "2115b9ad",
      "metadata": {
        "id": "2115b9ad"
      },
      "source": [
        "Lets combine our dataframes with `pd.merge()`. Our dataframe is automatically joined by the employee column."
      ]
    },
    {
      "cell_type": "code",
      "execution_count": null,
      "id": "f1d707a1",
      "metadata": {
        "id": "f1d707a1"
      },
      "outputs": [],
      "source": [
        "df3 = pd.merge(df1, df2)\n",
        "df3"
      ]
    },
    {
      "cell_type": "markdown",
      "id": "f4a85126",
      "metadata": {
        "id": "f4a85126"
      },
      "source": [
        "### Many to one combination\n",
        "Here one of the two columns contain duplicate entries"
      ]
    },
    {
      "cell_type": "code",
      "execution_count": null,
      "id": "966929e4",
      "metadata": {
        "id": "966929e4"
      },
      "outputs": [],
      "source": [
        "df4 = pd.DataFrame({'group': ['Accounting', 'Engineering', 'HR'],\n",
        "                    'supervisor': ['Carly', 'Guido', 'Steve']})\n",
        "display('df3', 'df4', 'pd.merge(df3, df4)')"
      ]
    },
    {
      "cell_type": "markdown",
      "id": "63f1f7c0",
      "metadata": {
        "id": "63f1f7c0"
      },
      "source": [
        "### Many to many combination\n",
        "Here both of the two columns contain duplicate entries"
      ]
    },
    {
      "cell_type": "code",
      "execution_count": null,
      "id": "aeac488d",
      "metadata": {
        "id": "aeac488d"
      },
      "outputs": [],
      "source": [
        "df5 = pd.DataFrame({'group': ['Accounting', 'Accounting',\n",
        "                              'Engineering', 'Engineering', 'HR', 'HR'],\n",
        "                    'skills': ['math', 'spreadsheets', 'coding', 'linux',\n",
        "                               'spreadsheets', 'organization']})\n",
        "display('df1', 'df5', \"pd.merge(df1, df5)\")"
      ]
    },
    {
      "cell_type": "markdown",
      "id": "7e8ea36a",
      "metadata": {
        "id": "7e8ea36a"
      },
      "source": [
        "Simple merge on employee column. This only works if the `employee` column exists"
      ]
    },
    {
      "cell_type": "code",
      "execution_count": null,
      "id": "ba54f745",
      "metadata": {
        "id": "ba54f745"
      },
      "outputs": [],
      "source": [
        "display('df1', 'df2', \"pd.merge(df1, df2, on='employee')\")"
      ]
    },
    {
      "cell_type": "markdown",
      "id": "3c16835e",
      "metadata": {
        "id": "3c16835e"
      },
      "source": [
        "If column names are different on both dataframes, we can use the `left_on` to specify the left column, and `right_on` to specify the other column."
      ]
    },
    {
      "cell_type": "code",
      "execution_count": null,
      "id": "e3b8bf34",
      "metadata": {
        "id": "e3b8bf34"
      },
      "outputs": [],
      "source": [
        "df3 = pd.DataFrame({'name': ['Bob', 'Jake', 'Lisa', 'Sue'],\n",
        "                    'salary': [70000, 80000, 120000, 90000]})\n",
        "display('df1', 'df3', 'pd.merge(df1, df3, left_on=\"employee\", right_on=\"name\")')"
      ]
    },
    {
      "cell_type": "markdown",
      "id": "0de910cc",
      "metadata": {
        "id": "0de910cc"
      },
      "source": [
        "The result has a redundant column that we can drop if desired–for example, by using the `drop()` method"
      ]
    },
    {
      "cell_type": "code",
      "execution_count": null,
      "id": "68353b51",
      "metadata": {
        "id": "68353b51"
      },
      "outputs": [],
      "source": [
        "pd.merge(df1, df3, left_on=\"employee\", right_on=\"name\").drop('name', axis=1)"
      ]
    },
    {
      "cell_type": "markdown",
      "id": "ece88caf",
      "metadata": {
        "id": "ece88caf"
      },
      "source": [
        "Sometimes, rather than merging on a column, you would instead like to merge on an index. For example, your data might look like this:"
      ]
    },
    {
      "cell_type": "code",
      "execution_count": null,
      "id": "b4e16a4b",
      "metadata": {
        "id": "b4e16a4b"
      },
      "outputs": [],
      "source": [
        "df1a = df1.set_index('employee')\n",
        "df2a = df2.set_index('employee')\n",
        "display('df1a', 'df2a')"
      ]
    },
    {
      "cell_type": "markdown",
      "id": "49b1b4dd",
      "metadata": {
        "id": "49b1b4dd"
      },
      "source": [
        "You can use the index as the key for merging by specifying the `left_index` and/or `right_index` flags in `pd.merge()`"
      ]
    },
    {
      "cell_type": "code",
      "execution_count": null,
      "id": "31715a76",
      "metadata": {
        "id": "31715a76"
      },
      "outputs": [],
      "source": [
        "display('df1a', 'df2a',\n",
        "        \"pd.merge(df1a, df2a, left_index=True, right_index=True)\")"
      ]
    },
    {
      "cell_type": "markdown",
      "id": "f273aec5",
      "metadata": {
        "id": "f273aec5"
      },
      "source": [
        "For convenience, DataFrames implement the `join()` method, which performs a merge that defaults to joining on indices:"
      ]
    },
    {
      "cell_type": "code",
      "execution_count": null,
      "id": "a72723f5",
      "metadata": {
        "id": "a72723f5"
      },
      "outputs": [],
      "source": [
        "display('df1a', 'df2a', 'df1a.join(df2a)')"
      ]
    },
    {
      "cell_type": "markdown",
      "id": "b79f63bd",
      "metadata": {
        "id": "b79f63bd"
      },
      "source": [
        "If you'd like to mix indices and columns, you can combine `left_index` with `right_on` or `left_on` with `right_index` to get the desired behavior"
      ]
    },
    {
      "cell_type": "code",
      "execution_count": null,
      "id": "8bf1025d",
      "metadata": {
        "id": "8bf1025d"
      },
      "outputs": [],
      "source": [
        "display('df1a', 'df3', \"pd.merge(df1a, df3, left_index=True, right_on='name')\")"
      ]
    },
    {
      "cell_type": "markdown",
      "id": "937dc2cf",
      "metadata": {
        "id": "937dc2cf"
      },
      "source": [
        "In all the preceding examples we have glossed over one important consideration in performing a join: the type of set arithmetic used in the join. This comes up when a value appears in one key column but not the other."
      ]
    },
    {
      "cell_type": "code",
      "execution_count": null,
      "id": "a98ca76c",
      "metadata": {
        "id": "a98ca76c"
      },
      "outputs": [],
      "source": [
        "df6 = pd.DataFrame({'name': ['Peter', 'Paul', 'Mary'],\n",
        "                    'food': ['fish', 'beans', 'bread']},\n",
        "                   columns=['name', 'food'])\n",
        "df7 = pd.DataFrame({'name': ['Mary', 'Joseph'],\n",
        "                    'drink': ['wine', 'beer']},\n",
        "                   columns=['name', 'drink'])\n",
        "display('df6', 'df7', 'pd.merge(df6, df7)')"
      ]
    },
    {
      "cell_type": "markdown",
      "id": "075535d9",
      "metadata": {
        "id": "075535d9"
      },
      "source": [
        "Here we have merged two datasets that have only a single \"name\" entry in common: Mary. By default, the result contains the intersection of the two sets of inputs; this is what is known as an inner join. We can specify this explicitly using the how keyword, which defaults to `\"inner\"`"
      ]
    },
    {
      "cell_type": "code",
      "execution_count": null,
      "id": "bb0125ab",
      "metadata": {
        "id": "bb0125ab"
      },
      "outputs": [],
      "source": [
        "pd.merge(df6, df7, how='inner')"
      ]
    },
    {
      "cell_type": "markdown",
      "id": "bb2a5cc4",
      "metadata": {
        "id": "bb2a5cc4"
      },
      "source": [
        "Other options for the how keyword are `'outer', 'left', and 'right'`. An outer join returns a join over the union of the input columns, and fills in all missing values with NAs:"
      ]
    },
    {
      "cell_type": "code",
      "execution_count": null,
      "id": "a01ed626",
      "metadata": {
        "id": "a01ed626"
      },
      "outputs": [],
      "source": [
        "display('df6', 'df7', \"pd.merge(df6, df7, how='outer')\")"
      ]
    },
    {
      "cell_type": "markdown",
      "id": "f1794a5d",
      "metadata": {
        "id": "f1794a5d"
      },
      "source": [
        "The left join and right join return joins over the left entries and right entries, respectively. For example:"
      ]
    },
    {
      "cell_type": "code",
      "execution_count": null,
      "id": "dd8e53b8",
      "metadata": {
        "id": "dd8e53b8"
      },
      "outputs": [],
      "source": [
        "display('df6', 'df7', \"pd.merge(df6, df7, how='left')\")"
      ]
    },
    {
      "cell_type": "markdown",
      "id": "9a1fda0f",
      "metadata": {
        "id": "9a1fda0f"
      },
      "source": [
        "The output rows now correspond to the entries in the left input. Using how='right' works in a similar manner.\n",
        "\n",
        "All of these options can be applied straightforwardly to any of the preceding join types."
      ]
    },
    {
      "cell_type": "markdown",
      "id": "5d6e4843",
      "metadata": {
        "id": "5d6e4843"
      },
      "source": [
        "### Exercises for participation credit\n",
        "1. Combine the `student_data1` and `student_data2` into a single dataframe using the `concat()` method. The dataframes must be joined through the rows axis. Both dataframes are provided below.\n",
        "2. Combine the `student_data3` and `student_data4` into a single dataframe using the common name column. The dataframes must be joined by the name column. You can use `merge()` method.\n",
        "3. Merge `data1` and `data2` using the keys from the left dataframe only. You will need to use a `left` merge for this."
      ]
    },
    {
      "cell_type": "code",
      "execution_count": null,
      "id": "430d2607",
      "metadata": {
        "id": "430d2607"
      },
      "outputs": [],
      "source": [
        "# Exercise 1 data\n",
        "student_data1 = pd.DataFrame({\n",
        "        'student_id': ['S1', 'S2', 'S3', 'S4', 'S5'],\n",
        "         'name': ['Danniella Fenton', 'Ryder Storey', 'Bryce Jensen', 'Ed Bernal', 'Kwame Morin'],\n",
        "        'marks': [200, 210, 190, 222, 199]})\n",
        "\n",
        "student_data2 = pd.DataFrame({\n",
        "        'student_id': ['S4', 'S5', 'S6', 'S7', 'S8'],\n",
        "        'name': ['Scarlette Fisher', 'Carla Williamson', 'Dante Morse', 'Kaiser William', 'Madeeha Preston'],\n",
        "        'marks': [201, 200, 198, 219, 201]})"
      ]
    },
    {
      "cell_type": "code",
      "execution_count": null,
      "id": "d5050936",
      "metadata": {
        "id": "d5050936"
      },
      "outputs": [],
      "source": [
        "# Exercise 2 data\n",
        "student_data3 = pd.DataFrame({\n",
        "        'student_id': ['S1', 'S2', 'S3', 'S4', 'S5'],\n",
        "         'name': ['Danniella Fenton', 'Ryder Storey', 'Bryce Jensen', 'Ed Bernal', 'Kwame Morin'],\n",
        "        'marks_test1': [200, 210, 190, 222, 199]})\n",
        "\n",
        "student_data4 = pd.DataFrame({\n",
        "        'student_id': ['S1', 'S2', 'S3', 'S4', 'S5'],\n",
        "        'name': ['Danniella Fenton', 'Ryder Storey', 'Bryce Jensen', 'Ed Bernal', 'Kwame Morin'],\n",
        "        'marks_test2': [201, 200, 198, 219, 201]})"
      ]
    },
    {
      "cell_type": "code",
      "execution_count": null,
      "id": "0ce30d19",
      "metadata": {
        "id": "0ce30d19"
      },
      "outputs": [],
      "source": [
        "# Exercise 3 data\n",
        "data1 = pd.DataFrame({'key1': ['K0', 'K0', 'K1', 'K2'],\n",
        "                     'key2': ['K0', 'K1', 'K0', 'K1'],\n",
        "                     'P': ['P0', 'P1', 'P2', 'P3'],\n",
        "                     'Q': ['Q0', 'Q1', 'Q2', 'Q3']})\n",
        "data2 = pd.DataFrame({'key1': ['K0', 'K1', 'K1', 'K2'],\n",
        "                      'key2': ['K0', 'K0', 'K0', 'K0'],\n",
        "                      'R': ['R0', 'R1', 'R2', 'R3'],\n",
        "                      'S': ['S0', 'S1', 'S2', 'S3']})"
      ]
    },
    {
      "cell_type": "code",
      "execution_count": 2,
      "id": "9cbe14bf",
      "metadata": {
        "id": "9cbe14bf",
        "colab": {
          "base_uri": "https://localhost:8080/"
        },
        "outputId": "090c6777-34bc-4591-f49f-f2a978e1f623"
      },
      "outputs": [
        {
          "output_type": "stream",
          "name": "stdout",
          "text": [
            "Combined student_data1 and student_data2:\n",
            "      name  age grade\n",
            "0    Alice   20     A\n",
            "1      Bob   21     B\n",
            "2  Charlie   19     C\n",
            "0    David   22     B\n",
            "1      Eva   23     A\n",
            "2    Frank   21     B\n",
            "\n",
            "Combined student_data3 and student_data4:\n",
            "    name  subject  score\n",
            "0  Alice     Math     85\n",
            "1    Bob  Science     90\n",
            "\n",
            "Merged data1 and data2 using left merge:\n",
            "  key   A   B    C    D\n",
            "0  K0  A0  B0   C0   D0\n",
            "1  K1  A1  B1   C1   D1\n",
            "2  K2  A2  B2   C2   D2\n",
            "3  K3  A3  B3  NaN  NaN\n"
          ]
        }
      ],
      "source": [
        "import pandas as pd\n",
        "\n",
        "student_data1 = pd.DataFrame({\n",
        "    'name': ['Alice', 'Bob', 'Charlie'],\n",
        "    'age': [20, 21, 19],\n",
        "    'grade': ['A', 'B', 'C']\n",
        "})\n",
        "\n",
        "student_data2 = pd.DataFrame({\n",
        "    'name': ['David', 'Eva', 'Frank'],\n",
        "    'age': [22, 23, 21],\n",
        "    'grade': ['B', 'A', 'B']\n",
        "})\n",
        "\n",
        "student_data3 = pd.DataFrame({\n",
        "    'name': ['Alice', 'Bob', 'Charlie'],\n",
        "    'subject': ['Math', 'Science', 'History']\n",
        "})\n",
        "\n",
        "student_data4 = pd.DataFrame({\n",
        "    'name': ['Alice', 'Bob', 'David'],\n",
        "    'score': [85, 90, 88]\n",
        "})\n",
        "\n",
        "data1 = pd.DataFrame({\n",
        "    'key': ['K0', 'K1', 'K2', 'K3'],\n",
        "    'A': ['A0', 'A1', 'A2', 'A3'],\n",
        "    'B': ['B0', 'B1', 'B2', 'B3']\n",
        "})\n",
        "\n",
        "data2 = pd.DataFrame({\n",
        "    'key': ['K0', 'K1', 'K2'],\n",
        "    'C': ['C0', 'C1', 'C2'],\n",
        "    'D': ['D0', 'D1', 'D2']\n",
        "})\n",
        "\n",
        "combined_student_data = pd.concat([student_data1, student_data2], axis=0)\n",
        "print(\"Combined student_data1 and student_data2:\")\n",
        "print(combined_student_data)\n",
        "\n",
        "combined_student_data_merged = pd.merge(student_data3, student_data4, on='name')\n",
        "print(\"\\nCombined student_data3 and student_data4:\")\n",
        "print(combined_student_data_merged)\n",
        "\n",
        "merged_data = pd.merge(data1, data2, on='key', how='left')\n",
        "print(\"\\nMerged data1 and data2 using left merge:\")\n",
        "print(merged_data)"
      ]
    }
  ],
  "metadata": {
    "kernelspec": {
      "display_name": "Python 3 (ipykernel)",
      "language": "python",
      "name": "python3"
    },
    "language_info": {
      "codemirror_mode": {
        "name": "ipython",
        "version": 3
      },
      "file_extension": ".py",
      "mimetype": "text/x-python",
      "name": "python",
      "nbconvert_exporter": "python",
      "pygments_lexer": "ipython3",
      "version": "3.10.4"
    },
    "colab": {
      "provenance": [],
      "include_colab_link": true
    }
  },
  "nbformat": 4,
  "nbformat_minor": 5
}