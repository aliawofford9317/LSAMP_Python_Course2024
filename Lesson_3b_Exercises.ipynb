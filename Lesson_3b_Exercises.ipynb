{
  "nbformat": 4,
  "nbformat_minor": 0,
  "metadata": {
    "colab": {
      "provenance": [],
      "authorship_tag": "ABX9TyP5nKajHNFRZKwOX2mD3g/9",
      "include_colab_link": true
    },
    "kernelspec": {
      "name": "python3",
      "display_name": "Python 3"
    },
    "language_info": {
      "name": "python"
    }
  },
  "cells": [
    {
      "cell_type": "markdown",
      "metadata": {
        "id": "view-in-github",
        "colab_type": "text"
      },
      "source": [
        "<a href=\"https://colab.research.google.com/github/aliawofford9317/LSAMP_Python_Course2024/blob/DanielaaVargas/Lesson_3b_Exercises.ipynb\" target=\"_parent\"><img src=\"https://colab.research.google.com/assets/colab-badge.svg\" alt=\"Open In Colab\"/></a>"
      ]
    },
    {
      "cell_type": "markdown",
      "source": [
        "# **Exercise 1**\n",
        "Create a new dataframe from the following data:\n",
        "\n",
        "`data = {'ages': [23, 24, 25, 26, 27, 28], 'weight': [120, 130, 150, 160, 180, 190]}\n",
        "\n",
        "You should now have two data columns ages and weight. Print only the ages column.\n",
        "\n",
        "Select the row with age = 27 using .loc[]"
      ],
      "metadata": {
        "id": "rUQbh-KTt6xP"
      }
    },
    {
      "cell_type": "code",
      "source": [
        "import pandas as pd\n",
        "data ={'ages': [23, 24, 25, 26, 27, 28], 'weight': [120, 130, 150, 160, 180, 190]}\n",
        "\n",
        "DataFr = pd.DataFrame(data)\n",
        "DataFr"
      ],
      "metadata": {
        "colab": {
          "base_uri": "https://localhost:8080/",
          "height": 237
        },
        "id": "uff6vu3TuEyu",
        "outputId": "5a505acb-33d4-4054-ca1e-93bd66feb3ea"
      },
      "execution_count": 1,
      "outputs": [
        {
          "output_type": "execute_result",
          "data": {
            "text/plain": [
              "   ages  weight\n",
              "0    23     120\n",
              "1    24     130\n",
              "2    25     150\n",
              "3    26     160\n",
              "4    27     180\n",
              "5    28     190"
            ],
            "text/html": [
              "\n",
              "  <div id=\"df-9f0740a4-a6f2-4f88-910b-40d5d903ee9c\" class=\"colab-df-container\">\n",
              "    <div>\n",
              "<style scoped>\n",
              "    .dataframe tbody tr th:only-of-type {\n",
              "        vertical-align: middle;\n",
              "    }\n",
              "\n",
              "    .dataframe tbody tr th {\n",
              "        vertical-align: top;\n",
              "    }\n",
              "\n",
              "    .dataframe thead th {\n",
              "        text-align: right;\n",
              "    }\n",
              "</style>\n",
              "<table border=\"1\" class=\"dataframe\">\n",
              "  <thead>\n",
              "    <tr style=\"text-align: right;\">\n",
              "      <th></th>\n",
              "      <th>ages</th>\n",
              "      <th>weight</th>\n",
              "    </tr>\n",
              "  </thead>\n",
              "  <tbody>\n",
              "    <tr>\n",
              "      <th>0</th>\n",
              "      <td>23</td>\n",
              "      <td>120</td>\n",
              "    </tr>\n",
              "    <tr>\n",
              "      <th>1</th>\n",
              "      <td>24</td>\n",
              "      <td>130</td>\n",
              "    </tr>\n",
              "    <tr>\n",
              "      <th>2</th>\n",
              "      <td>25</td>\n",
              "      <td>150</td>\n",
              "    </tr>\n",
              "    <tr>\n",
              "      <th>3</th>\n",
              "      <td>26</td>\n",
              "      <td>160</td>\n",
              "    </tr>\n",
              "    <tr>\n",
              "      <th>4</th>\n",
              "      <td>27</td>\n",
              "      <td>180</td>\n",
              "    </tr>\n",
              "    <tr>\n",
              "      <th>5</th>\n",
              "      <td>28</td>\n",
              "      <td>190</td>\n",
              "    </tr>\n",
              "  </tbody>\n",
              "</table>\n",
              "</div>\n",
              "    <div class=\"colab-df-buttons\">\n",
              "\n",
              "  <div class=\"colab-df-container\">\n",
              "    <button class=\"colab-df-convert\" onclick=\"convertToInteractive('df-9f0740a4-a6f2-4f88-910b-40d5d903ee9c')\"\n",
              "            title=\"Convert this dataframe to an interactive table.\"\n",
              "            style=\"display:none;\">\n",
              "\n",
              "  <svg xmlns=\"http://www.w3.org/2000/svg\" height=\"24px\" viewBox=\"0 -960 960 960\">\n",
              "    <path d=\"M120-120v-720h720v720H120Zm60-500h600v-160H180v160Zm220 220h160v-160H400v160Zm0 220h160v-160H400v160ZM180-400h160v-160H180v160Zm440 0h160v-160H620v160ZM180-180h160v-160H180v160Zm440 0h160v-160H620v160Z\"/>\n",
              "  </svg>\n",
              "    </button>\n",
              "\n",
              "  <style>\n",
              "    .colab-df-container {\n",
              "      display:flex;\n",
              "      gap: 12px;\n",
              "    }\n",
              "\n",
              "    .colab-df-convert {\n",
              "      background-color: #E8F0FE;\n",
              "      border: none;\n",
              "      border-radius: 50%;\n",
              "      cursor: pointer;\n",
              "      display: none;\n",
              "      fill: #1967D2;\n",
              "      height: 32px;\n",
              "      padding: 0 0 0 0;\n",
              "      width: 32px;\n",
              "    }\n",
              "\n",
              "    .colab-df-convert:hover {\n",
              "      background-color: #E2EBFA;\n",
              "      box-shadow: 0px 1px 2px rgba(60, 64, 67, 0.3), 0px 1px 3px 1px rgba(60, 64, 67, 0.15);\n",
              "      fill: #174EA6;\n",
              "    }\n",
              "\n",
              "    .colab-df-buttons div {\n",
              "      margin-bottom: 4px;\n",
              "    }\n",
              "\n",
              "    [theme=dark] .colab-df-convert {\n",
              "      background-color: #3B4455;\n",
              "      fill: #D2E3FC;\n",
              "    }\n",
              "\n",
              "    [theme=dark] .colab-df-convert:hover {\n",
              "      background-color: #434B5C;\n",
              "      box-shadow: 0px 1px 3px 1px rgba(0, 0, 0, 0.15);\n",
              "      filter: drop-shadow(0px 1px 2px rgba(0, 0, 0, 0.3));\n",
              "      fill: #FFFFFF;\n",
              "    }\n",
              "  </style>\n",
              "\n",
              "    <script>\n",
              "      const buttonEl =\n",
              "        document.querySelector('#df-9f0740a4-a6f2-4f88-910b-40d5d903ee9c button.colab-df-convert');\n",
              "      buttonEl.style.display =\n",
              "        google.colab.kernel.accessAllowed ? 'block' : 'none';\n",
              "\n",
              "      async function convertToInteractive(key) {\n",
              "        const element = document.querySelector('#df-9f0740a4-a6f2-4f88-910b-40d5d903ee9c');\n",
              "        const dataTable =\n",
              "          await google.colab.kernel.invokeFunction('convertToInteractive',\n",
              "                                                    [key], {});\n",
              "        if (!dataTable) return;\n",
              "\n",
              "        const docLinkHtml = 'Like what you see? Visit the ' +\n",
              "          '<a target=\"_blank\" href=https://colab.research.google.com/notebooks/data_table.ipynb>data table notebook</a>'\n",
              "          + ' to learn more about interactive tables.';\n",
              "        element.innerHTML = '';\n",
              "        dataTable['output_type'] = 'display_data';\n",
              "        await google.colab.output.renderOutput(dataTable, element);\n",
              "        const docLink = document.createElement('div');\n",
              "        docLink.innerHTML = docLinkHtml;\n",
              "        element.appendChild(docLink);\n",
              "      }\n",
              "    </script>\n",
              "  </div>\n",
              "\n",
              "\n",
              "<div id=\"df-aa3bc04a-29ea-41c3-a626-c04ed8b69318\">\n",
              "  <button class=\"colab-df-quickchart\" onclick=\"quickchart('df-aa3bc04a-29ea-41c3-a626-c04ed8b69318')\"\n",
              "            title=\"Suggest charts\"\n",
              "            style=\"display:none;\">\n",
              "\n",
              "<svg xmlns=\"http://www.w3.org/2000/svg\" height=\"24px\"viewBox=\"0 0 24 24\"\n",
              "     width=\"24px\">\n",
              "    <g>\n",
              "        <path d=\"M19 3H5c-1.1 0-2 .9-2 2v14c0 1.1.9 2 2 2h14c1.1 0 2-.9 2-2V5c0-1.1-.9-2-2-2zM9 17H7v-7h2v7zm4 0h-2V7h2v10zm4 0h-2v-4h2v4z\"/>\n",
              "    </g>\n",
              "</svg>\n",
              "  </button>\n",
              "\n",
              "<style>\n",
              "  .colab-df-quickchart {\n",
              "      --bg-color: #E8F0FE;\n",
              "      --fill-color: #1967D2;\n",
              "      --hover-bg-color: #E2EBFA;\n",
              "      --hover-fill-color: #174EA6;\n",
              "      --disabled-fill-color: #AAA;\n",
              "      --disabled-bg-color: #DDD;\n",
              "  }\n",
              "\n",
              "  [theme=dark] .colab-df-quickchart {\n",
              "      --bg-color: #3B4455;\n",
              "      --fill-color: #D2E3FC;\n",
              "      --hover-bg-color: #434B5C;\n",
              "      --hover-fill-color: #FFFFFF;\n",
              "      --disabled-bg-color: #3B4455;\n",
              "      --disabled-fill-color: #666;\n",
              "  }\n",
              "\n",
              "  .colab-df-quickchart {\n",
              "    background-color: var(--bg-color);\n",
              "    border: none;\n",
              "    border-radius: 50%;\n",
              "    cursor: pointer;\n",
              "    display: none;\n",
              "    fill: var(--fill-color);\n",
              "    height: 32px;\n",
              "    padding: 0;\n",
              "    width: 32px;\n",
              "  }\n",
              "\n",
              "  .colab-df-quickchart:hover {\n",
              "    background-color: var(--hover-bg-color);\n",
              "    box-shadow: 0 1px 2px rgba(60, 64, 67, 0.3), 0 1px 3px 1px rgba(60, 64, 67, 0.15);\n",
              "    fill: var(--button-hover-fill-color);\n",
              "  }\n",
              "\n",
              "  .colab-df-quickchart-complete:disabled,\n",
              "  .colab-df-quickchart-complete:disabled:hover {\n",
              "    background-color: var(--disabled-bg-color);\n",
              "    fill: var(--disabled-fill-color);\n",
              "    box-shadow: none;\n",
              "  }\n",
              "\n",
              "  .colab-df-spinner {\n",
              "    border: 2px solid var(--fill-color);\n",
              "    border-color: transparent;\n",
              "    border-bottom-color: var(--fill-color);\n",
              "    animation:\n",
              "      spin 1s steps(1) infinite;\n",
              "  }\n",
              "\n",
              "  @keyframes spin {\n",
              "    0% {\n",
              "      border-color: transparent;\n",
              "      border-bottom-color: var(--fill-color);\n",
              "      border-left-color: var(--fill-color);\n",
              "    }\n",
              "    20% {\n",
              "      border-color: transparent;\n",
              "      border-left-color: var(--fill-color);\n",
              "      border-top-color: var(--fill-color);\n",
              "    }\n",
              "    30% {\n",
              "      border-color: transparent;\n",
              "      border-left-color: var(--fill-color);\n",
              "      border-top-color: var(--fill-color);\n",
              "      border-right-color: var(--fill-color);\n",
              "    }\n",
              "    40% {\n",
              "      border-color: transparent;\n",
              "      border-right-color: var(--fill-color);\n",
              "      border-top-color: var(--fill-color);\n",
              "    }\n",
              "    60% {\n",
              "      border-color: transparent;\n",
              "      border-right-color: var(--fill-color);\n",
              "    }\n",
              "    80% {\n",
              "      border-color: transparent;\n",
              "      border-right-color: var(--fill-color);\n",
              "      border-bottom-color: var(--fill-color);\n",
              "    }\n",
              "    90% {\n",
              "      border-color: transparent;\n",
              "      border-bottom-color: var(--fill-color);\n",
              "    }\n",
              "  }\n",
              "</style>\n",
              "\n",
              "  <script>\n",
              "    async function quickchart(key) {\n",
              "      const quickchartButtonEl =\n",
              "        document.querySelector('#' + key + ' button');\n",
              "      quickchartButtonEl.disabled = true;  // To prevent multiple clicks.\n",
              "      quickchartButtonEl.classList.add('colab-df-spinner');\n",
              "      try {\n",
              "        const charts = await google.colab.kernel.invokeFunction(\n",
              "            'suggestCharts', [key], {});\n",
              "      } catch (error) {\n",
              "        console.error('Error during call to suggestCharts:', error);\n",
              "      }\n",
              "      quickchartButtonEl.classList.remove('colab-df-spinner');\n",
              "      quickchartButtonEl.classList.add('colab-df-quickchart-complete');\n",
              "    }\n",
              "    (() => {\n",
              "      let quickchartButtonEl =\n",
              "        document.querySelector('#df-aa3bc04a-29ea-41c3-a626-c04ed8b69318 button');\n",
              "      quickchartButtonEl.style.display =\n",
              "        google.colab.kernel.accessAllowed ? 'block' : 'none';\n",
              "    })();\n",
              "  </script>\n",
              "</div>\n",
              "\n",
              "  <div id=\"id_119678bb-be79-4b36-b936-8945ff01f277\">\n",
              "    <style>\n",
              "      .colab-df-generate {\n",
              "        background-color: #E8F0FE;\n",
              "        border: none;\n",
              "        border-radius: 50%;\n",
              "        cursor: pointer;\n",
              "        display: none;\n",
              "        fill: #1967D2;\n",
              "        height: 32px;\n",
              "        padding: 0 0 0 0;\n",
              "        width: 32px;\n",
              "      }\n",
              "\n",
              "      .colab-df-generate:hover {\n",
              "        background-color: #E2EBFA;\n",
              "        box-shadow: 0px 1px 2px rgba(60, 64, 67, 0.3), 0px 1px 3px 1px rgba(60, 64, 67, 0.15);\n",
              "        fill: #174EA6;\n",
              "      }\n",
              "\n",
              "      [theme=dark] .colab-df-generate {\n",
              "        background-color: #3B4455;\n",
              "        fill: #D2E3FC;\n",
              "      }\n",
              "\n",
              "      [theme=dark] .colab-df-generate:hover {\n",
              "        background-color: #434B5C;\n",
              "        box-shadow: 0px 1px 3px 1px rgba(0, 0, 0, 0.15);\n",
              "        filter: drop-shadow(0px 1px 2px rgba(0, 0, 0, 0.3));\n",
              "        fill: #FFFFFF;\n",
              "      }\n",
              "    </style>\n",
              "    <button class=\"colab-df-generate\" onclick=\"generateWithVariable('DataFr')\"\n",
              "            title=\"Generate code using this dataframe.\"\n",
              "            style=\"display:none;\">\n",
              "\n",
              "  <svg xmlns=\"http://www.w3.org/2000/svg\" height=\"24px\"viewBox=\"0 0 24 24\"\n",
              "       width=\"24px\">\n",
              "    <path d=\"M7,19H8.4L18.45,9,17,7.55,7,17.6ZM5,21V16.75L18.45,3.32a2,2,0,0,1,2.83,0l1.4,1.43a1.91,1.91,0,0,1,.58,1.4,1.91,1.91,0,0,1-.58,1.4L9.25,21ZM18.45,9,17,7.55Zm-12,3A5.31,5.31,0,0,0,4.9,8.1,5.31,5.31,0,0,0,1,6.5,5.31,5.31,0,0,0,4.9,4.9,5.31,5.31,0,0,0,6.5,1,5.31,5.31,0,0,0,8.1,4.9,5.31,5.31,0,0,0,12,6.5,5.46,5.46,0,0,0,6.5,12Z\"/>\n",
              "  </svg>\n",
              "    </button>\n",
              "    <script>\n",
              "      (() => {\n",
              "      const buttonEl =\n",
              "        document.querySelector('#id_119678bb-be79-4b36-b936-8945ff01f277 button.colab-df-generate');\n",
              "      buttonEl.style.display =\n",
              "        google.colab.kernel.accessAllowed ? 'block' : 'none';\n",
              "\n",
              "      buttonEl.onclick = () => {\n",
              "        google.colab.notebook.generateWithVariable('DataFr');\n",
              "      }\n",
              "      })();\n",
              "    </script>\n",
              "  </div>\n",
              "\n",
              "    </div>\n",
              "  </div>\n"
            ],
            "application/vnd.google.colaboratory.intrinsic+json": {
              "type": "dataframe",
              "variable_name": "DataFr",
              "summary": "{\n  \"name\": \"DataFr\",\n  \"rows\": 6,\n  \"fields\": [\n    {\n      \"column\": \"ages\",\n      \"properties\": {\n        \"dtype\": \"number\",\n        \"std\": 1,\n        \"min\": 23,\n        \"max\": 28,\n        \"num_unique_values\": 6,\n        \"samples\": [\n          23,\n          24,\n          28\n        ],\n        \"semantic_type\": \"\",\n        \"description\": \"\"\n      }\n    },\n    {\n      \"column\": \"weight\",\n      \"properties\": {\n        \"dtype\": \"number\",\n        \"std\": 27,\n        \"min\": 120,\n        \"max\": 190,\n        \"num_unique_values\": 6,\n        \"samples\": [\n          120,\n          130,\n          190\n        ],\n        \"semantic_type\": \"\",\n        \"description\": \"\"\n      }\n    }\n  ]\n}"
            }
          },
          "metadata": {},
          "execution_count": 1
        }
      ]
    },
    {
      "cell_type": "code",
      "source": [
        "DataFr.loc[4]"
      ],
      "metadata": {
        "colab": {
          "base_uri": "https://localhost:8080/"
        },
        "id": "_iUwmBSX3JOl",
        "outputId": "8e2b5274-39da-4780-86d1-03c3f08b2f1d"
      },
      "execution_count": 3,
      "outputs": [
        {
          "output_type": "execute_result",
          "data": {
            "text/plain": [
              "ages       27\n",
              "weight    180\n",
              "Name: 4, dtype: int64"
            ]
          },
          "metadata": {},
          "execution_count": 3
        }
      ]
    },
    {
      "cell_type": "markdown",
      "source": [
        "# **Optional Exercise 1**\n",
        "* Can you find the average sugar content of the cereals which list the portion cups size as 1.0?\n",
        "* Can you find the highest and lowest calorie content of the previous selection?"
      ],
      "metadata": {
        "id": "nZ8lZGFet-wC"
      }
    },
    {
      "cell_type": "code",
      "source": [
        "def fetch_data():\n",
        "  import os, shutil\n",
        "  cwd = os.getcwd()\n",
        "  if os.path.exists(\"LSAMP_Python_Course2024\"):\n",
        "    shutil.rmtree(\"LSAMP_Python_Course2024\")\n",
        "  !git clone https://github.com/aliawofford9317/LSAMP_Python_Course2024.git\n",
        "  for file in os.listdir(\"LSAMP_Python_Course2024\"):\n",
        "    if file.endswith((\".txt\",\".csv\")):\n",
        "      shutil.copy(\"LSAMP_Python_Course2024/{}\".format(file),cwd)\n",
        "fetch_data()"
      ],
      "metadata": {
        "colab": {
          "base_uri": "https://localhost:8080/"
        },
        "id": "end22ZBluFbO",
        "outputId": "fe823136-75ed-44df-b2c8-0b48fc008f71"
      },
      "execution_count": 6,
      "outputs": [
        {
          "output_type": "stream",
          "name": "stdout",
          "text": [
            "Cloning into 'LSAMP_Python_Course2024'...\n",
            "remote: Enumerating objects: 141, done.\u001b[K\n",
            "remote: Counting objects: 100% (71/71), done.\u001b[K\n",
            "remote: Compressing objects: 100% (68/68), done.\u001b[K\n",
            "remote: Total 141 (delta 36), reused 1 (delta 1), pack-reused 70\u001b[K\n",
            "Receiving objects: 100% (141/141), 1.41 MiB | 6.31 MiB/s, done.\n",
            "Resolving deltas: 100% (72/72), done.\n"
          ]
        }
      ]
    },
    {
      "cell_type": "code",
      "source": [
        "cereal = pd.read_csv('cereal.csv', index_col='name')\n",
        "Cereal = cereal.loc[cereal['cups'] == 1]"
      ],
      "metadata": {
        "id": "BO2O6JCq5IhY"
      },
      "execution_count": 59,
      "outputs": []
    },
    {
      "cell_type": "code",
      "source": [
        "LIST = Cereal.sugars.values.tolist() #converting the Series of sugar into a list\n",
        "\n",
        "sug = 0\n",
        "for n in range(len(LIST)): #Summing the sugar\n",
        "  sug += LIST[n]\n",
        "Avg = sug/len(LIST)\n",
        "print(f'The average sugars in cereals of serving portion = 1 cup is: {Avg} kg')"
      ],
      "metadata": {
        "colab": {
          "base_uri": "https://localhost:8080/"
        },
        "id": "nGCapvhy5KgJ",
        "outputId": "b98ff298-0007-4bad-fdbf-dfa07902d45c"
      },
      "execution_count": 60,
      "outputs": [
        {
          "output_type": "stream",
          "name": "stdout",
          "text": [
            "The average sugars in cereals of serving portion = 1 cup is: 6.4 kg\n"
          ]
        }
      ]
    },
    {
      "cell_type": "code",
      "source": [
        "HighestCal = Cereal['calories'].idxmax()\n",
        "HighestCal"
      ],
      "metadata": {
        "colab": {
          "base_uri": "https://localhost:8080/",
          "height": 35
        },
        "id": "OFb8p1vm5rve",
        "outputId": "1b28cf8e-a43e-485f-fd62-0e59f3c917aa"
      },
      "execution_count": 61,
      "outputs": [
        {
          "output_type": "execute_result",
          "data": {
            "text/plain": [
              "'Muesli Raisins; Dates; & Almonds'"
            ],
            "application/vnd.google.colaboratory.intrinsic+json": {
              "type": "string"
            }
          },
          "metadata": {},
          "execution_count": 61
        }
      ]
    },
    {
      "cell_type": "code",
      "source": [
        "LowestCal = Cereal['calories'].idxmin()\n",
        "LowestCal"
      ],
      "metadata": {
        "colab": {
          "base_uri": "https://localhost:8080/",
          "height": 35
        },
        "id": "dLhDYUyk_bfF",
        "outputId": "38ef525f-b0f5-4bf8-f5ca-49acb2c338b8"
      },
      "execution_count": 62,
      "outputs": [
        {
          "output_type": "execute_result",
          "data": {
            "text/plain": [
              "'Puffed Rice'"
            ],
            "application/vnd.google.colaboratory.intrinsic+json": {
              "type": "string"
            }
          },
          "metadata": {},
          "execution_count": 62
        }
      ]
    },
    {
      "cell_type": "markdown",
      "source": [
        "# **Optional Exercise 2**\n",
        "How many cereals by manufacturer G have a higher calorie content than 100?"
      ],
      "metadata": {
        "id": "uXfWZpHbuEAD"
      }
    },
    {
      "cell_type": "code",
      "source": [
        "Ca_list = cereal.loc[cereal['calories'] > 100]\n",
        "print(f'There are {Ca_list.shape[0]} cereals with calorie content higher than 100')"
      ],
      "metadata": {
        "colab": {
          "base_uri": "https://localhost:8080/"
        },
        "id": "Q1aQB8Y5t-Rs",
        "outputId": "bbf5ff4e-4ff9-4364-e8eb-857db1b66ff2"
      },
      "execution_count": 55,
      "outputs": [
        {
          "output_type": "stream",
          "name": "stdout",
          "text": [
            "There are 47 cereals with calorie content higher than 100\n"
          ]
        }
      ]
    },
    {
      "cell_type": "markdown",
      "source": [
        "# **Optional exercise**\n",
        "Fill out the metascore missing values with the mean of metascores.\n",
        "Verify that the movies DF has no null values."
      ],
      "metadata": {
        "id": "h9IHxouYuMIq"
      }
    },
    {
      "cell_type": "code",
      "source": [
        "movies = pd.read_csv(\"IMDB-Movie-Data.csv\", index_col='Title')"
      ],
      "metadata": {
        "id": "T5NKkvhluSF2"
      },
      "execution_count": 163,
      "outputs": []
    },
    {
      "cell_type": "code",
      "source": [
        "Mscore = movies['Metascore']\n",
        "Mscore_mean = Mscore.mean().round(2)\n",
        "Mscore_mean"
      ],
      "metadata": {
        "colab": {
          "base_uri": "https://localhost:8080/"
        },
        "id": "Qnk8lUmUEkJN",
        "outputId": "a54c159c-c6c8-4bd4-e3da-8833d9a4778c"
      },
      "execution_count": 164,
      "outputs": [
        {
          "output_type": "execute_result",
          "data": {
            "text/plain": [
              "58.99"
            ]
          },
          "metadata": {},
          "execution_count": 164
        }
      ]
    },
    {
      "cell_type": "code",
      "source": [
        "Mscore.isnull().sum()"
      ],
      "metadata": {
        "colab": {
          "base_uri": "https://localhost:8080/"
        },
        "id": "EAXlvD0kFIOR",
        "outputId": "a38ccbea-96c2-4d9b-f0e7-2b78ce0ee5fd"
      },
      "execution_count": 165,
      "outputs": [
        {
          "output_type": "execute_result",
          "data": {
            "text/plain": [
              "64"
            ]
          },
          "metadata": {},
          "execution_count": 165
        }
      ]
    },
    {
      "cell_type": "code",
      "source": [
        "Mscore.fillna(Mscore_mean, inplace=True)"
      ],
      "metadata": {
        "id": "mlZVPzkXJRmr"
      },
      "execution_count": 167,
      "outputs": []
    },
    {
      "cell_type": "code",
      "source": [
        "Mscore.isnull().sum()"
      ],
      "metadata": {
        "colab": {
          "base_uri": "https://localhost:8080/"
        },
        "id": "I94TgRoxKzcR",
        "outputId": "b3be6b62-070d-4ee8-cba8-db46e1498c7a"
      },
      "execution_count": 160,
      "outputs": [
        {
          "output_type": "execute_result",
          "data": {
            "text/plain": [
              "0"
            ]
          },
          "metadata": {},
          "execution_count": 160
        }
      ]
    },
    {
      "cell_type": "markdown",
      "source": [
        "# **Optional Exercise**\n",
        "Select the movies with ratings between 6.0 and 8.5 released between 2010 and 2016. Save this selection to a variable.\n",
        "Select movies with runtime greater than 120 and rating greater or equal to 8.0. Save this selection to a variable.\n",
        "Save these two selections to two .csv files using the df.to_csv('name_of_csv.csv') function. Where 'df' is the name of your DataFrame"
      ],
      "metadata": {
        "id": "vO0zSLs8uShh"
      }
    },
    {
      "cell_type": "code",
      "source": [
        "Movra= movies.loc[(6.0<=movies['Rating']) & (movies['Rating']<=8.5)]\n",
        "Movra.to_csv('MovieRatings.csv')\n",
        "df_read = pd.read_csv('MovieRatings.csv')\n",
        "print(df_read)"
      ],
      "metadata": {
        "colab": {
          "base_uri": "https://localhost:8080/"
        },
        "id": "Zhups26SLZut",
        "outputId": "9c26e876-3585-45a0-fca6-bc34d12b5550"
      },
      "execution_count": 195,
      "outputs": [
        {
          "output_type": "stream",
          "name": "stdout",
          "text": [
            "                       Title  Rank                     Genre  \\\n",
            "0    Guardians of the Galaxy     1   Action,Adventure,Sci-Fi   \n",
            "1                 Prometheus     2  Adventure,Mystery,Sci-Fi   \n",
            "2                      Split     3           Horror,Thriller   \n",
            "3                       Sing     4   Animation,Comedy,Family   \n",
            "4              Suicide Squad     5  Action,Adventure,Fantasy   \n",
            "..                       ...   ...                       ...   \n",
            "805         Taare Zameen Par   992        Drama,Family,Music   \n",
            "806     Take Me Home Tonight   993      Comedy,Drama,Romance   \n",
            "807                Project X   995                    Comedy   \n",
            "808     Secret in Their Eyes   996       Crime,Drama,Mystery   \n",
            "809   Step Up 2: The Streets   998       Drama,Music,Romance   \n",
            "\n",
            "                                           Description              Director  \\\n",
            "0    A group of intergalactic criminals are forced ...            James Gunn   \n",
            "1    Following clues to the origin of mankind, a te...          Ridley Scott   \n",
            "2    Three girls are kidnapped by a man with a diag...    M. Night Shyamalan   \n",
            "3    In a city of humanoid animals, a hustling thea...  Christophe Lourdelet   \n",
            "4    A secret government agency recruits some of th...            David Ayer   \n",
            "..                                                 ...                   ...   \n",
            "805  An eight-year-old boy is thought to be a lazy ...            Aamir Khan   \n",
            "806  Four years after graduation, an awkward high s...         Michael Dowse   \n",
            "807  3 high school seniors throw a birthday party t...       Nima Nourizadeh   \n",
            "808  A tight-knit team of rising investigators, alo...             Billy Ray   \n",
            "809  Romantic sparks occur between two dance studen...            Jon M. Chu   \n",
            "\n",
            "                                                Actors  Year  \\\n",
            "0    Chris Pratt, Vin Diesel, Bradley Cooper, Zoe S...  2014   \n",
            "1    Noomi Rapace, Logan Marshall-Green, Michael Fa...  2012   \n",
            "2    James McAvoy, Anya Taylor-Joy, Haley Lu Richar...  2016   \n",
            "3    Matthew McConaughey,Reese Witherspoon, Seth Ma...  2016   \n",
            "4    Will Smith, Jared Leto, Margot Robbie, Viola D...  2016   \n",
            "..                                                 ...   ...   \n",
            "805  Darsheel Safary, Aamir Khan, Tanay Chheda, Sac...  2007   \n",
            "806  Topher Grace, Anna Faris, Dan Fogler, Teresa P...  2011   \n",
            "807  Thomas Mann, Oliver Cooper, Jonathan Daniel Br...  2012   \n",
            "808  Chiwetel Ejiofor, Nicole Kidman, Julia Roberts...  2015   \n",
            "809  Robert Hoffman, Briana Evigan, Cassie Ventura,...  2008   \n",
            "\n",
            "     Runtime (Minutes)  Rating   Votes  Revenue (Millions)  Metascore  \n",
            "0                  121     8.1  757074              333.13      76.00  \n",
            "1                  124     7.0  485820              126.46      65.00  \n",
            "2                  117     7.3  157606              138.12      62.00  \n",
            "3                  108     7.2   60545              270.32      59.00  \n",
            "4                  123     6.2  393727              325.02      40.00  \n",
            "..                 ...     ...     ...                 ...        ...  \n",
            "805                165     8.5  102697                1.20      42.00  \n",
            "806                 97     6.3   45419                6.92      58.99  \n",
            "807                 88     6.7  164088               54.72      48.00  \n",
            "808                111     6.2   27585                 NaN      45.00  \n",
            "809                 98     6.2   70699               58.01      50.00  \n",
            "\n",
            "[810 rows x 12 columns]\n"
          ]
        }
      ]
    },
    {
      "cell_type": "code",
      "source": [
        "Movru = movies.loc[(8.0<=movies['Rating']) & (movies['Runtime (Minutes)']>120)]\n",
        "Movru.to_csv('MovieRuntime.csv')\n",
        "df_read = pd.read_csv('MovieRuntime.csv')\n",
        "print(df_read)"
      ],
      "metadata": {
        "colab": {
          "base_uri": "https://localhost:8080/"
        },
        "id": "t4HXF4mjQvKV",
        "outputId": "7079ceac-2c81-4eac-923b-b85a76b55bbb"
      },
      "execution_count": 196,
      "outputs": [
        {
          "output_type": "stream",
          "name": "stdout",
          "text": [
            "                                           Title  Rank  \\\n",
            "0                        Guardians of the Galaxy     1   \n",
            "1                                     La La Land     7   \n",
            "2                                  Hacksaw Ridge    17   \n",
            "3                        Bahubali: The Beginning    27   \n",
            "4                                   Interstellar    37   \n",
            "5     Star Wars: Episode VII - The Force Awakens    51   \n",
            "6                                The Dark Knight    55   \n",
            "7                                   The Prestige    65   \n",
            "8                                   The Avengers    77   \n",
            "9                           Inglourious Basterds    78   \n",
            "10                                     Inception    81   \n",
            "11                       The Wolf of Wall Street    83   \n",
            "12                                     Gone Girl    84   \n",
            "13                                     Prisoners    91   \n",
            "14                                      The Help    93   \n",
            "15                                  The Departed   100   \n",
            "16                                   The Martian   103   \n",
            "17                              12 Years a Slave   112   \n",
            "18  Harry Potter and the Deathly Hallows: Part 2   115   \n",
            "19                                        Dangal   118   \n",
            "20                         The Dark Knight Rises   125   \n",
            "21                                  The Revenant   130   \n",
            "22                        No Country for Old Men   137   \n",
            "23                                Shutter Island   139   \n",
            "24                                     Star Trek   141   \n",
            "25                              Django Unchained   145   \n",
            "26                                     Ah-ga-ssi   146   \n",
            "27                    X-Men: Days of Future Past   163   \n",
            "28                                 Casino Royale   165   \n",
            "29                                           Her   174   \n",
            "30                                    Forushande   185   \n",
            "31                                     Spotlight   193   \n",
            "32                                       Warrior   195   \n",
            "33                                 Into the Wild   198   \n",
            "34                           There Will Be Blood   300   \n",
            "35                                          Rush   335   \n",
            "36                                      3 Idiots   431   \n",
            "37                           The Lives of Others   477   \n",
            "38                                         Mommy   609   \n",
            "39                              Relatos salvajes   642   \n",
            "40                                 Blood Diamond   670   \n",
            "41                                     Incendies   714   \n",
            "42                        El secreto de sus ojos   743   \n",
            "43                                            PK   766   \n",
            "44                                Koe no katachi   862   \n",
            "45                              Taare Zameen Par   992   \n",
            "\n",
            "                        Genre  \\\n",
            "0     Action,Adventure,Sci-Fi   \n",
            "1          Comedy,Drama,Music   \n",
            "2     Biography,Drama,History   \n",
            "3      Action,Adventure,Drama   \n",
            "4      Adventure,Drama,Sci-Fi   \n",
            "5    Action,Adventure,Fantasy   \n",
            "6          Action,Crime,Drama   \n",
            "7        Drama,Mystery,Sci-Fi   \n",
            "8               Action,Sci-Fi   \n",
            "9         Adventure,Drama,War   \n",
            "10    Action,Adventure,Sci-Fi   \n",
            "11     Biography,Comedy,Crime   \n",
            "12        Crime,Drama,Mystery   \n",
            "13        Crime,Drama,Mystery   \n",
            "14                      Drama   \n",
            "15       Crime,Drama,Thriller   \n",
            "16     Adventure,Drama,Sci-Fi   \n",
            "17    Biography,Drama,History   \n",
            "18    Adventure,Drama,Fantasy   \n",
            "19     Action,Biography,Drama   \n",
            "20            Action,Thriller   \n",
            "21   Adventure,Drama,Thriller   \n",
            "22       Crime,Drama,Thriller   \n",
            "23           Mystery,Thriller   \n",
            "24    Action,Adventure,Sci-Fi   \n",
            "25              Drama,Western   \n",
            "26      Drama,Mystery,Romance   \n",
            "27    Action,Adventure,Sci-Fi   \n",
            "28  Action,Adventure,Thriller   \n",
            "29       Drama,Romance,Sci-Fi   \n",
            "30             Drama,Thriller   \n",
            "31        Crime,Drama,History   \n",
            "32         Action,Drama,Sport   \n",
            "33  Adventure,Biography,Drama   \n",
            "34              Drama,History   \n",
            "35     Action,Biography,Drama   \n",
            "36               Comedy,Drama   \n",
            "37             Drama,Thriller   \n",
            "38                      Drama   \n",
            "39      Comedy,Drama,Thriller   \n",
            "40   Adventure,Drama,Thriller   \n",
            "41          Drama,Mystery,War   \n",
            "42      Drama,Mystery,Romance   \n",
            "43       Comedy,Drama,Romance   \n",
            "44    Animation,Drama,Romance   \n",
            "45         Drama,Family,Music   \n",
            "\n",
            "                                          Description  \\\n",
            "0   A group of intergalactic criminals are forced ...   \n",
            "1   A jazz pianist falls for an aspiring actress i...   \n",
            "2   WWII American Army Medic Desmond T. Doss, who ...   \n",
            "3   In ancient India, an adventurous and daring ma...   \n",
            "4   A team of explorers travel through a wormhole ...   \n",
            "5   Three decades after the defeat of the Galactic...   \n",
            "6   When the menace known as the Joker wreaks havo...   \n",
            "7   Two stage magicians engage in competitive one-...   \n",
            "8   Earth's mightiest heroes must come together an...   \n",
            "9   In Nazi-occupied France during World War II, a...   \n",
            "10  A thief, who steals corporate secrets through ...   \n",
            "11  Based on the true story of Jordan Belfort, fro...   \n",
            "12  With his wife's disappearance having become th...   \n",
            "13  When Keller Dover's daughter and her friend go...   \n",
            "14  An aspiring author during the civil rights mov...   \n",
            "15  An undercover cop and a mole in the police att...   \n",
            "16  An astronaut becomes stranded on Mars after hi...   \n",
            "17  In the antebellum United States, Solomon North...   \n",
            "18  Harry, Ron and Hermione search for Voldemort's...   \n",
            "19  Former wrestler Mahavir Singh Phogat and his t...   \n",
            "20  Eight years after the Joker's reign of anarchy...   \n",
            "21  A frontiersman on a fur trading expedition in ...   \n",
            "22  Violence and mayhem ensue after a hunter stumb...   \n",
            "23  In 1954, a U.S. marshal investigates the disap...   \n",
            "24  The brash James T. Kirk tries to live up to hi...   \n",
            "25  With the help of a German bounty hunter , a fr...   \n",
            "26  A woman is hired as a handmaiden to a Japanese...   \n",
            "27  The X-Men send Wolverine to the past in a desp...   \n",
            "28  Armed with a licence to kill, Secret Agent Jam...   \n",
            "29  A lonely writer develops an unlikely relations...   \n",
            "30  While both participating in a production of \"D...   \n",
            "31  The true story of how the Boston Globe uncover...   \n",
            "32  The youngest son of an alcoholic former boxer ...   \n",
            "33  After graduating from Emory University, top st...   \n",
            "34  A story of family, religion, hatred, oil and m...   \n",
            "35  The merciless 1970s rivalry between Formula On...   \n",
            "36  Two friends are searching for their long lost ...   \n",
            "37  In 1984 East Berlin, an agent of the secret po...   \n",
            "38  A widowed single mother, raising her violent s...   \n",
            "39  Six short stories that explore the extremities...   \n",
            "40  A fisherman, a smuggler, and a syndicate of bu...   \n",
            "41  Twins journey to the Middle East to discover t...   \n",
            "42  A retired legal counselor writes a novel hopin...   \n",
            "43  A stranger in the city asks questions no one h...   \n",
            "44  The story revolves around Nishimiya Shoko, a g...   \n",
            "45  An eight-year-old boy is thought to be a lazy ...   \n",
            "\n",
            "                            Director  \\\n",
            "0                         James Gunn   \n",
            "1                    Damien Chazelle   \n",
            "2                         Mel Gibson   \n",
            "3                     S.S. Rajamouli   \n",
            "4                  Christopher Nolan   \n",
            "5                        J.J. Abrams   \n",
            "6                  Christopher Nolan   \n",
            "7                  Christopher Nolan   \n",
            "8                        Joss Whedon   \n",
            "9                  Quentin Tarantino   \n",
            "10                 Christopher Nolan   \n",
            "11                   Martin Scorsese   \n",
            "12                     David Fincher   \n",
            "13                  Denis Villeneuve   \n",
            "14                       Tate Taylor   \n",
            "15                   Martin Scorsese   \n",
            "16                      Ridley Scott   \n",
            "17                     Steve McQueen   \n",
            "18                       David Yates   \n",
            "19                     Nitesh Tiwari   \n",
            "20                 Christopher Nolan   \n",
            "21       Alejandro González Iñárritu   \n",
            "22                        Ethan Coen   \n",
            "23                   Martin Scorsese   \n",
            "24                       J.J. Abrams   \n",
            "25                 Quentin Tarantino   \n",
            "26                    Chan-wook Park   \n",
            "27                      Bryan Singer   \n",
            "28                   Martin Campbell   \n",
            "29                       Spike Jonze   \n",
            "30                    Asghar Farhadi   \n",
            "31                      Tom McCarthy   \n",
            "32                    Gavin O'Connor   \n",
            "33                         Sean Penn   \n",
            "34              Paul Thomas Anderson   \n",
            "35                        Ron Howard   \n",
            "36                   Rajkumar Hirani   \n",
            "37  Florian Henckel von Donnersmarck   \n",
            "38                      Xavier Dolan   \n",
            "39                    Damián Szifron   \n",
            "40                      Edward Zwick   \n",
            "41                  Denis Villeneuve   \n",
            "42              Juan José Campanella   \n",
            "43                   Rajkumar Hirani   \n",
            "44                      Naoko Yamada   \n",
            "45                        Aamir Khan   \n",
            "\n",
            "                                               Actors  Year  \\\n",
            "0   Chris Pratt, Vin Diesel, Bradley Cooper, Zoe S...  2014   \n",
            "1   Ryan Gosling, Emma Stone, Rosemarie DeWitt, J....  2016   \n",
            "2   Andrew Garfield, Sam Worthington, Luke Bracey,...  2016   \n",
            "3   Prabhas, Rana Daggubati, Anushka Shetty,Tamann...  2015   \n",
            "4   Matthew McConaughey, Anne Hathaway, Jessica Ch...  2014   \n",
            "5   Daisy Ridley, John Boyega, Oscar Isaac, Domhna...  2015   \n",
            "6   Christian Bale, Heath Ledger, Aaron Eckhart,Mi...  2008   \n",
            "7   Christian Bale, Hugh Jackman, Scarlett Johanss...  2006   \n",
            "8   Robert Downey Jr., Chris Evans, Scarlett Johan...  2012   \n",
            "9   Brad Pitt, Diane Kruger, Eli Roth,Mélanie Laurent  2009   \n",
            "10  Leonardo DiCaprio, Joseph Gordon-Levitt, Ellen...  2010   \n",
            "11  Leonardo DiCaprio, Jonah Hill, Margot Robbie,M...  2013   \n",
            "12  Ben Affleck, Rosamund Pike, Neil Patrick Harri...  2014   \n",
            "13  Hugh Jackman, Jake Gyllenhaal, Viola Davis,Mel...  2013   \n",
            "14  Emma Stone, Viola Davis, Octavia Spencer, Bryc...  2011   \n",
            "15  Leonardo DiCaprio, Matt Damon, Jack Nicholson,...  2006   \n",
            "16  Matt Damon, Jessica Chastain, Kristen Wiig, Ka...  2015   \n",
            "17  Chiwetel Ejiofor, Michael Kenneth Williams, Mi...  2013   \n",
            "18  Daniel Radcliffe, Emma Watson, Rupert Grint, M...  2011   \n",
            "19  Aamir Khan, Sakshi Tanwar, Fatima Sana Shaikh,...  2016   \n",
            "20  Christian Bale, Tom Hardy, Anne Hathaway,Gary ...  2012   \n",
            "21  Leonardo DiCaprio, Tom Hardy, Will Poulter, Do...  2015   \n",
            "22  Tommy Lee Jones, Javier Bardem, Josh Brolin, W...  2007   \n",
            "23  Leonardo DiCaprio, Emily Mortimer, Mark Ruffal...  2010   \n",
            "24  Chris Pine, Zachary Quinto, Simon Pegg, Leonar...  2009   \n",
            "25  Jamie Foxx, Christoph Waltz, Leonardo DiCaprio...  2012   \n",
            "26  Min-hee Kim, Jung-woo Ha, Jin-woong Jo, So-ri ...  2016   \n",
            "27  Patrick Stewart, Ian McKellen, Hugh Jackman, J...  2014   \n",
            "28  Daniel Craig, Eva Green, Judi Dench, Jeffrey W...  2006   \n",
            "29  Joaquin Phoenix, Amy Adams, Scarlett Johansson...  2013   \n",
            "30  Taraneh Alidoosti, Shahab Hosseini, Babak Kari...  2016   \n",
            "31  Mark Ruffalo, Michael Keaton, Rachel McAdams, ...  2015   \n",
            "32  Tom Hardy, Nick Nolte, Joel Edgerton, Jennifer...  2011   \n",
            "33  Emile Hirsch, Vince Vaughn, Catherine Keener, ...  2007   \n",
            "34  Daniel Day-Lewis, Paul Dano, Ciarán Hinds,Mart...  2007   \n",
            "35  Daniel Brühl, Chris Hemsworth, Olivia Wilde,Al...  2013   \n",
            "36    Aamir Khan, Madhavan, Mona Singh, Sharman Joshi  2009   \n",
            "37  Ulrich Mühe, Martina Gedeck,Sebastian Koch, Ul...  2006   \n",
            "38  Anne Dorval, Antoine-Olivier Pilon, Suzanne Cl...  2014   \n",
            "39  Darío Grandinetti, María Marull, Mónica Villa,...  2014   \n",
            "40  Leonardo DiCaprio, Djimon Hounsou, Jennifer Co...  2006   \n",
            "41  Lubna Azabal, Mélissa Désormeaux-Poulin, Maxim...  2010   \n",
            "42  Ricardo Darín, Soledad Villamil, Pablo Rago,Ca...  2009   \n",
            "43  Aamir Khan, Anushka Sharma, Sanjay Dutt,Boman ...  2014   \n",
            "44     Miyu Irino, Saori Hayami, Aoi Yuki, Kenshô Ono  2016   \n",
            "45  Darsheel Safary, Aamir Khan, Tanay Chheda, Sac...  2007   \n",
            "\n",
            "    Runtime (Minutes)  Rating    Votes  Revenue (Millions)  Metascore  \n",
            "0                 121     8.1   757074              333.13      76.00  \n",
            "1                 128     8.3   258682              151.06      93.00  \n",
            "2                 139     8.2   211760               67.12      71.00  \n",
            "3                 159     8.3    76193                6.50      58.99  \n",
            "4                 169     8.6  1047747              187.99      74.00  \n",
            "5                 136     8.1   661608              936.63      81.00  \n",
            "6                 152     9.0  1791916              533.32      82.00  \n",
            "7                 130     8.5   913152               53.08      66.00  \n",
            "8                 143     8.1  1045588              623.28      69.00  \n",
            "9                 153     8.3   959065              120.52      69.00  \n",
            "10                148     8.8  1583625              292.57      74.00  \n",
            "11                180     8.2   865134              116.87      75.00  \n",
            "12                149     8.1   636243              167.74      79.00  \n",
            "13                153     8.1   431185               60.96      74.00  \n",
            "14                146     8.1   342429              169.71      62.00  \n",
            "15                151     8.5   937414              132.37      85.00  \n",
            "16                144     8.0   556097              228.43      80.00  \n",
            "17                134     8.1   486338               56.67      96.00  \n",
            "18                130     8.1   590595              380.96      87.00  \n",
            "19                161     8.8    48969               11.15      58.99  \n",
            "20                164     8.5  1222645              448.13      78.00  \n",
            "21                156     8.0   499424              183.64      76.00  \n",
            "22                122     8.1   660286               74.27      91.00  \n",
            "23                138     8.1   855604              127.97      63.00  \n",
            "24                127     8.0   526324              257.70      82.00  \n",
            "25                165     8.4  1039115              162.80      81.00  \n",
            "26                144     8.1    33418                2.01      84.00  \n",
            "27                132     8.0   552298              233.91      74.00  \n",
            "28                144     8.0   495106              167.01      80.00  \n",
            "29                126     8.0   390531               25.56      90.00  \n",
            "30                124     8.0    22389                3.40      85.00  \n",
            "31                128     8.1   268282               44.99      93.00  \n",
            "32                140     8.2   355722               13.65      71.00  \n",
            "33                148     8.1   459304               18.35      73.00  \n",
            "34                158     8.1   400682               40.22      92.00  \n",
            "35                123     8.1   339722               26.90      75.00  \n",
            "36                170     8.4   238789                6.52      67.00  \n",
            "37                137     8.5   278103               11.28      89.00  \n",
            "38                139     8.1    33560                3.49      74.00  \n",
            "39                122     8.1   110100                3.08      77.00  \n",
            "40                143     8.0   422014               57.37      64.00  \n",
            "41                131     8.2    92863                6.86      80.00  \n",
            "42                129     8.2   144524               20.17      80.00  \n",
            "43                153     8.2   103279               10.57      51.00  \n",
            "44                129     8.4     2421                 NaN      80.00  \n",
            "45                165     8.5   102697                1.20      42.00  \n"
          ]
        }
      ]
    }
  ]
}