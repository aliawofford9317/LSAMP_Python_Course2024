{
  "cells": [
    {
      "cell_type": "markdown",
      "metadata": {
        "id": "view-in-github",
        "colab_type": "text"
      },
      "source": [
        "<a href=\"https://colab.research.google.com/github/aliawofford9317/LSAMP_Python_Course2024/blob/Brendan-Gamor/Lesson_2_Operators_and_Conditional_Statements_Class_Notes_(1).ipynb\" target=\"_parent\"><img src=\"https://colab.research.google.com/assets/colab-badge.svg\" alt=\"Open In Colab\"/></a>"
      ]
    },
    {
      "cell_type": "markdown",
      "id": "83898c59",
      "metadata": {
        "id": "83898c59"
      },
      "source": [
        "## Operators\n",
        "Operators are symbols that indicate how two operands should be manipulated. Operators and operants together form an expresion. Operators will always return a value\n",
        "\n",
        "### Arithmetic Operators\n",
        "- `+` add two operands\n",
        "- `-` substract two operands\n",
        "- `*` multiply two operands\n",
        "- `/` divide two operands\n",
        "- `%` modulus, return the remainder when the first number is divided from the second number.\n",
        "- `//` return integer division\n",
        "- `**` Exponentiation"
      ]
    },
    {
      "cell_type": "code",
      "source": [],
      "metadata": {
        "id": "3Am-A7EVGXk6"
      },
      "id": "3Am-A7EVGXk6",
      "execution_count": null,
      "outputs": []
    },
    {
      "cell_type": "code",
      "execution_count": 1,
      "id": "f8762c51",
      "metadata": {
        "id": "f8762c51",
        "outputId": "411d3a8b-66fa-40ff-9f60-6f388c65d744",
        "colab": {
          "base_uri": "https://localhost:8080/"
        }
      },
      "outputs": [
        {
          "output_type": "execute_result",
          "data": {
            "text/plain": [
              "9"
            ]
          },
          "metadata": {},
          "execution_count": 1
        }
      ],
      "source": [
        "x = 7\n",
        "y = 2\n",
        "x + y"
      ]
    },
    {
      "cell_type": "code",
      "execution_count": null,
      "id": "098414f0",
      "metadata": {
        "id": "098414f0",
        "outputId": "d6849128-3053-44ac-af4f-7d28c154e769",
        "colab": {
          "base_uri": "https://localhost:8080/"
        }
      },
      "outputs": [
        {
          "output_type": "execute_result",
          "data": {
            "text/plain": [
              "5"
            ]
          },
          "metadata": {},
          "execution_count": 2
        }
      ],
      "source": [
        "x - y"
      ]
    },
    {
      "cell_type": "code",
      "execution_count": null,
      "id": "57c8f4c2",
      "metadata": {
        "id": "57c8f4c2",
        "outputId": "aecf1130-45a9-4c29-bfda-b9843d873cf8",
        "colab": {
          "base_uri": "https://localhost:8080/"
        }
      },
      "outputs": [
        {
          "output_type": "execute_result",
          "data": {
            "text/plain": [
              "14"
            ]
          },
          "metadata": {},
          "execution_count": 3
        }
      ],
      "source": [
        "x * y"
      ]
    },
    {
      "cell_type": "code",
      "execution_count": null,
      "id": "5ea98586",
      "metadata": {
        "id": "5ea98586",
        "outputId": "3c0817b3-2a0d-4d6e-ca31-25add8e58179",
        "colab": {
          "base_uri": "https://localhost:8080/"
        }
      },
      "outputs": [
        {
          "output_type": "execute_result",
          "data": {
            "text/plain": [
              "3.5"
            ]
          },
          "metadata": {},
          "execution_count": 4
        }
      ],
      "source": [
        "x / y"
      ]
    },
    {
      "cell_type": "code",
      "execution_count": null,
      "id": "b3275999",
      "metadata": {
        "id": "b3275999",
        "outputId": "65e6376b-e184-42b5-a644-bea17afb1624",
        "colab": {
          "base_uri": "https://localhost:8080/"
        }
      },
      "outputs": [
        {
          "output_type": "execute_result",
          "data": {
            "text/plain": [
              "1"
            ]
          },
          "metadata": {},
          "execution_count": 5
        }
      ],
      "source": [
        "x % y"
      ]
    },
    {
      "cell_type": "code",
      "execution_count": null,
      "id": "e569b719",
      "metadata": {
        "id": "e569b719",
        "outputId": "fd516088-f91d-4888-e246-f30785e437b1",
        "colab": {
          "base_uri": "https://localhost:8080/"
        }
      },
      "outputs": [
        {
          "output_type": "execute_result",
          "data": {
            "text/plain": [
              "3"
            ]
          },
          "metadata": {},
          "execution_count": 6
        }
      ],
      "source": [
        "x // y"
      ]
    },
    {
      "cell_type": "code",
      "execution_count": null,
      "id": "05090a67",
      "metadata": {
        "id": "05090a67",
        "outputId": "f107fd15-6428-4bac-a363-ee09c30ac98b"
      },
      "outputs": [
        {
          "data": {
            "text/plain": [
              "49"
            ]
          },
          "execution_count": 7,
          "metadata": {},
          "output_type": "execute_result"
        }
      ],
      "source": [
        "x ** y"
      ]
    },
    {
      "cell_type": "markdown",
      "id": "9d9a299f",
      "metadata": {
        "id": "9d9a299f"
      },
      "source": [
        "### Comparison Operators\n",
        "\n",
        "- `==`\tEqual\tx == y\n",
        "- `!=`\tNot equal\tx != y\n",
        "-  `>`\tGreater than\tx > y\n",
        "- `<`\tLess than\tx < y\n",
        "- `>=`\tGreater than or equal to\tx >= y\n",
        "- `<=`\tLess than or equal to\tx <= y"
      ]
    },
    {
      "cell_type": "code",
      "execution_count": null,
      "id": "24b65b8d",
      "metadata": {
        "id": "24b65b8d",
        "outputId": "49d44478-541d-4117-87a5-59aff73fead0",
        "colab": {
          "base_uri": "https://localhost:8080/"
        }
      },
      "outputs": [
        {
          "output_type": "execute_result",
          "data": {
            "text/plain": [
              "False"
            ]
          },
          "metadata": {},
          "execution_count": 7
        }
      ],
      "source": [
        "x = 9\n",
        "y = 1\n",
        "x < y"
      ]
    },
    {
      "cell_type": "code",
      "execution_count": null,
      "id": "dfff367e",
      "metadata": {
        "id": "dfff367e",
        "outputId": "527f70b7-7774-4cc8-cf24-138681d3c507",
        "colab": {
          "base_uri": "https://localhost:8080/"
        }
      },
      "outputs": [
        {
          "output_type": "execute_result",
          "data": {
            "text/plain": [
              "True"
            ]
          },
          "metadata": {},
          "execution_count": 8
        }
      ],
      "source": [
        "x > y"
      ]
    },
    {
      "cell_type": "code",
      "execution_count": null,
      "id": "ff31f54b",
      "metadata": {
        "id": "ff31f54b"
      },
      "outputs": [],
      "source": [
        "x == y"
      ]
    },
    {
      "cell_type": "code",
      "execution_count": null,
      "id": "a61ae583",
      "metadata": {
        "id": "a61ae583",
        "outputId": "b3a06ca3-1747-40b9-fc75-290e637d2dfa"
      },
      "outputs": [
        {
          "data": {
            "text/plain": [
              "True"
            ]
          },
          "execution_count": 5,
          "metadata": {},
          "output_type": "execute_result"
        }
      ],
      "source": [
        "# Comparisson operators can be concatenated\n",
        "x = 9\n",
        "1 < x and x < 20"
      ]
    },
    {
      "cell_type": "markdown",
      "id": "4e75d36f",
      "metadata": {
        "id": "4e75d36f"
      },
      "source": [
        "### Logical operators\n",
        "- `and` \tReturns True if both statements are true\tx < 5 and  x < 10\n",
        "- `or`\tReturns True if one of the statements is true\tx < 5 or x < 4\n",
        "- `not`\tReverse the result, returns False if the result is true"
      ]
    },
    {
      "cell_type": "code",
      "execution_count": null,
      "id": "6021e7cd",
      "metadata": {
        "id": "6021e7cd",
        "outputId": "be1fba5c-cb0b-4ba1-a3d1-27152643be35"
      },
      "outputs": [
        {
          "data": {
            "text/plain": [
              "True"
            ]
          },
          "execution_count": 6,
          "metadata": {},
          "output_type": "execute_result"
        }
      ],
      "source": [
        "x = True\n",
        "y = False\n",
        "x or y"
      ]
    },
    {
      "cell_type": "code",
      "execution_count": null,
      "id": "29263f96",
      "metadata": {
        "id": "29263f96",
        "outputId": "3264b39f-08fe-4319-922a-099fddbea50c"
      },
      "outputs": [
        {
          "data": {
            "text/plain": [
              "False"
            ]
          },
          "execution_count": 9,
          "metadata": {},
          "output_type": "execute_result"
        }
      ],
      "source": [
        "x and y"
      ]
    },
    {
      "cell_type": "code",
      "execution_count": null,
      "id": "05abf3b1",
      "metadata": {
        "id": "05abf3b1",
        "outputId": "c0da1fb9-fd42-438e-f76b-78eaee965369"
      },
      "outputs": [
        {
          "data": {
            "text/plain": [
              "False"
            ]
          },
          "execution_count": 12,
          "metadata": {},
          "output_type": "execute_result"
        }
      ],
      "source": [
        "not x"
      ]
    },
    {
      "cell_type": "code",
      "execution_count": null,
      "id": "7b444ff8",
      "metadata": {
        "id": "7b444ff8",
        "outputId": "d429a98e-808f-46b3-849b-5835919cf064"
      },
      "outputs": [
        {
          "data": {
            "text/plain": [
              "True"
            ]
          },
          "execution_count": 15,
          "metadata": {},
          "output_type": "execute_result"
        }
      ],
      "source": [
        "not y"
      ]
    },
    {
      "cell_type": "markdown",
      "id": "54db517e",
      "metadata": {
        "id": "54db517e"
      },
      "source": [
        "### Membership Operators\n",
        "- `in` \tReturns True if a sequence with the specified value is present in the object\n",
        "- `not in`\tReturns True if a sequence with the specified value is not present in the object"
      ]
    },
    {
      "cell_type": "code",
      "execution_count": null,
      "id": "eb6d6464",
      "metadata": {
        "id": "eb6d6464",
        "outputId": "a057e9d5-d20f-49f5-84b1-3aac121fedd6",
        "colab": {
          "base_uri": "https://localhost:8080/"
        }
      },
      "outputs": [
        {
          "output_type": "execute_result",
          "data": {
            "text/plain": [
              "True"
            ]
          },
          "metadata": {},
          "execution_count": 1
        }
      ],
      "source": [
        "a = [1, 2, 3, 4, 5]\n",
        "b = 4\n",
        "\n",
        "b in a"
      ]
    },
    {
      "cell_type": "code",
      "execution_count": null,
      "id": "23972309",
      "metadata": {
        "id": "23972309",
        "outputId": "d7e5c1de-70ca-4366-9a52-5447e6bd7285",
        "colab": {
          "base_uri": "https://localhost:8080/"
        }
      },
      "outputs": [
        {
          "output_type": "execute_result",
          "data": {
            "text/plain": [
              "True"
            ]
          },
          "metadata": {},
          "execution_count": 2
        }
      ],
      "source": [
        "c = [2, 3, 4]\n",
        "\n",
        "c not in a"
      ]
    },
    {
      "cell_type": "code",
      "execution_count": null,
      "id": "15e8c91a",
      "metadata": {
        "id": "15e8c91a",
        "outputId": "6c8a7132-14b7-47e5-e37f-5eb0cada07e1",
        "colab": {
          "base_uri": "https://localhost:8080/"
        }
      },
      "outputs": [
        {
          "output_type": "execute_result",
          "data": {
            "text/plain": [
              "[1, 2, 3, 4, 5, [2, 3, 4]]"
            ]
          },
          "metadata": {},
          "execution_count": 3
        }
      ],
      "source": [
        "a.append([2, 3, 4])\n",
        "a"
      ]
    },
    {
      "cell_type": "code",
      "execution_count": null,
      "id": "336bb226",
      "metadata": {
        "id": "336bb226",
        "outputId": "62f6985a-ca24-4aef-eb59-68f1994a1474",
        "colab": {
          "base_uri": "https://localhost:8080/"
        }
      },
      "outputs": [
        {
          "output_type": "execute_result",
          "data": {
            "text/plain": [
              "True"
            ]
          },
          "metadata": {},
          "execution_count": 4
        }
      ],
      "source": [
        "c in a"
      ]
    },
    {
      "cell_type": "markdown",
      "id": "d7c98cc2",
      "metadata": {
        "id": "d7c98cc2"
      },
      "source": [
        "## Conditional statements\n",
        "Frequently, a program needs to skip over some statements, execute a series of statements repetitively, or choose between alternate sets of statements to execute.\n",
        "\n",
        "That is where control structures come in. A control structure directs the order of execution of the statements in a program\n",
        "\n",
        "### For Loops\n",
        "Will iterate over a list of values, executing an action until all elements are looped over"
      ]
    },
    {
      "cell_type": "code",
      "execution_count": null,
      "id": "6935c5ca",
      "metadata": {
        "id": "6935c5ca",
        "colab": {
          "base_uri": "https://localhost:8080/"
        },
        "outputId": "2b4b0b61-0800-422b-8997-db5fed216975"
      },
      "outputs": [
        {
          "output_type": "stream",
          "name": "stdout",
          "text": [
            "M\n",
            "J\n",
            "G\n",
            "T\n"
          ]
        }
      ],
      "source": [
        "# Iterate over names in a list\n",
        "names = [ 'M', 'J', 'G', 'T' ]\n",
        "\n",
        "for name in names:\n",
        "  print(name)"
      ]
    },
    {
      "cell_type": "markdown",
      "id": "3b61579d",
      "metadata": {
        "id": "3b61579d"
      },
      "source": [
        "In the previous code, we use `name` as a variable to loop over the name list, we then print the name. Notice the `:` after the for statement, this is part of the `for` syntax. Also notice the indentation (white space) after the semicolon, Python uses whitespace to denote blocks, in other languages `{}` are used."
      ]
    },
    {
      "cell_type": "code",
      "execution_count": null,
      "id": "25ac4799",
      "metadata": {
        "id": "25ac4799",
        "colab": {
          "base_uri": "https://localhost:8080/"
        },
        "outputId": "fc598aab-0eab-4102-f638-1010565803d3"
      },
      "outputs": [
        {
          "output_type": "stream",
          "name": "stdout",
          "text": [
            "j\n",
            "o\n",
            "n\n",
            " \n",
            "d\n",
            "o\n",
            "e\n"
          ]
        }
      ],
      "source": [
        "# You can also loop over strings and other collections\n",
        "for letter in 'jon doe':\n",
        "  print(letter)"
      ]
    },
    {
      "cell_type": "code",
      "execution_count": null,
      "id": "073f344e",
      "metadata": {
        "id": "073f344e",
        "colab": {
          "base_uri": "https://localhost:8080/"
        },
        "outputId": "cf0d6e93-739f-4e85-d842-362190d76753"
      },
      "outputs": [
        {
          "output_type": "stream",
          "name": "stdout",
          "text": [
            "2_4_6_8_10_"
          ]
        }
      ],
      "source": [
        "for N in [2,4,6,8,10]:\n",
        "  print(N, end='_')"
      ]
    },
    {
      "cell_type": "markdown",
      "id": "6c4ea38a",
      "metadata": {
        "id": "6c4ea38a"
      },
      "source": [
        "Notice the previous block used a sequence, in this case a list we looped over. We use the `in` operator to link them together. More precisely, the list in this case is an *iterator*, a generalized sequence we can loop over.\n",
        "\n",
        "One of the most common used *iterators* is the `range` object, which generates a sequence of numbers\n",
        "\n",
        "Range function:\n",
        "Returns a sequence of numbers in the form `range(start, stop, step)` it can be used in combination with for loops"
      ]
    },
    {
      "cell_type": "code",
      "execution_count": null,
      "id": "dd623921",
      "metadata": {
        "id": "dd623921"
      },
      "outputs": [],
      "source": []
    },
    {
      "cell_type": "code",
      "execution_count": null,
      "id": "a680b133",
      "metadata": {
        "id": "a680b133",
        "colab": {
          "base_uri": "https://localhost:8080/"
        },
        "outputId": "3f191c13-0bab-4e99-98d9-fd0fa9f43703"
      },
      "outputs": [
        {
          "output_type": "stream",
          "name": "stdout",
          "text": [
            "0\n",
            "2\n",
            "4\n",
            "6\n",
            "8\n"
          ]
        }
      ],
      "source": [
        "for i in range(0,10,2):\n",
        "  print(i)"
      ]
    },
    {
      "cell_type": "code",
      "execution_count": null,
      "id": "a08defef",
      "metadata": {
        "id": "a08defef"
      },
      "outputs": [],
      "source": []
    },
    {
      "cell_type": "markdown",
      "id": "6253eaf8",
      "metadata": {
        "id": "6253eaf8"
      },
      "source": [
        "Range starts at zero by default, and the end of the range is not included. Range can also have other values"
      ]
    },
    {
      "cell_type": "code",
      "execution_count": null,
      "id": "423d4635",
      "metadata": {
        "id": "423d4635",
        "colab": {
          "base_uri": "https://localhost:8080/"
        },
        "outputId": "8e357d25-feff-4784-81b2-8f4dacfc8090"
      },
      "outputs": [
        {
          "output_type": "execute_result",
          "data": {
            "text/plain": [
              "[5, 6, 7, 8, 9]"
            ]
          },
          "metadata": {},
          "execution_count": 13
        }
      ],
      "source": [
        "# range from 5 to 10, non inclusive\n",
        "list(range(5,10))\n"
      ]
    },
    {
      "cell_type": "code",
      "execution_count": null,
      "id": "c87cd13b",
      "metadata": {
        "id": "c87cd13b",
        "colab": {
          "base_uri": "https://localhost:8080/"
        },
        "outputId": "4adb368c-5017-44eb-9e63-62a7441ded27"
      },
      "outputs": [
        {
          "output_type": "execute_result",
          "data": {
            "text/plain": [
              "[0, 5, 10, 15, 20]"
            ]
          },
          "metadata": {},
          "execution_count": 16
        }
      ],
      "source": [
        "# range from 0 to 10 by 5\n",
        "list(range(0,21,5))"
      ]
    },
    {
      "cell_type": "markdown",
      "id": "7b45b8d0",
      "metadata": {
        "id": "7b45b8d0"
      },
      "source": [
        "### A quick review of iterators\n",
        "Many times we need to repeate a similar calculation, in an automated fashion. One of Python answers to this is using the `iterator` object. This object contains a sequence, that will output the next value as long as it is valid. This is generally easily understandable with a list."
      ]
    },
    {
      "cell_type": "code",
      "execution_count": null,
      "id": "d9c88ac4",
      "metadata": {
        "id": "d9c88ac4"
      },
      "outputs": [],
      "source": [
        "for  value"
      ]
    },
    {
      "cell_type": "markdown",
      "id": "8d6de198",
      "metadata": {
        "id": "8d6de198"
      },
      "source": [
        "We can create an `iterator` object from this previous list, and will output the next value with the built in function `next`"
      ]
    },
    {
      "cell_type": "code",
      "execution_count": null,
      "id": "e257258c",
      "metadata": {
        "id": "e257258c"
      },
      "outputs": [],
      "source": [
        "# Iterator object\n",
        "I = iter([1,3,5,7])"
      ]
    },
    {
      "cell_type": "code",
      "execution_count": null,
      "id": "dfc4ece7",
      "metadata": {
        "id": "dfc4ece7",
        "colab": {
          "base_uri": "https://localhost:8080/"
        },
        "outputId": "0561761a-b460-4924-83b0-837308db4fbc"
      },
      "outputs": [
        {
          "output_type": "stream",
          "name": "stdout",
          "text": [
            "1\n"
          ]
        }
      ],
      "source": [
        "print(next(I))"
      ]
    },
    {
      "cell_type": "code",
      "execution_count": null,
      "id": "906400ed",
      "metadata": {
        "id": "906400ed",
        "colab": {
          "base_uri": "https://localhost:8080/"
        },
        "outputId": "cd610eae-06cd-4c3f-f2d0-fd5d8cf8c91b"
      },
      "outputs": [
        {
          "output_type": "stream",
          "name": "stdout",
          "text": [
            "3\n"
          ]
        }
      ],
      "source": [
        "#print(next(I))\n",
        "print(next(I))"
      ]
    },
    {
      "cell_type": "code",
      "execution_count": null,
      "id": "191b807d",
      "metadata": {
        "id": "191b807d",
        "colab": {
          "base_uri": "https://localhost:8080/"
        },
        "outputId": "65406878-330c-47f8-dab7-0467dab1556b"
      },
      "outputs": [
        {
          "output_type": "stream",
          "name": "stdout",
          "text": [
            "5\n"
          ]
        }
      ],
      "source": [
        "#print(next(I))\n",
        "print(next(I))"
      ]
    },
    {
      "cell_type": "code",
      "execution_count": null,
      "id": "f130e256",
      "metadata": {
        "id": "f130e256",
        "colab": {
          "base_uri": "https://localhost:8080/"
        },
        "outputId": "4d2521fa-c31b-4bb6-cc4e-b0eaa093de2e"
      },
      "outputs": [
        {
          "output_type": "stream",
          "name": "stdout",
          "text": [
            "7\n"
          ]
        }
      ],
      "source": [
        "#print(next(I))\n",
        "print(next(I))"
      ]
    },
    {
      "cell_type": "code",
      "execution_count": 2,
      "id": "8b89e972",
      "metadata": {
        "id": "8b89e972",
        "colab": {
          "base_uri": "https://localhost:8080/",
          "height": 162
        },
        "outputId": "96fc8f8e-6280-479b-b19b-c165e056260e"
      },
      "outputs": [
        {
          "output_type": "error",
          "ename": "NameError",
          "evalue": "name 'I' is not defined",
          "traceback": [
            "\u001b[0;31m---------------------------------------------------------------------------\u001b[0m",
            "\u001b[0;31mNameError\u001b[0m                                 Traceback (most recent call last)",
            "\u001b[0;32m<ipython-input-2-d27eac697192>\u001b[0m in \u001b[0;36m<cell line: 2>\u001b[0;34m()\u001b[0m\n\u001b[1;32m      1\u001b[0m \u001b[0;31m#print(next(I))\u001b[0m\u001b[0;34m\u001b[0m\u001b[0;34m\u001b[0m\u001b[0m\n\u001b[0;32m----> 2\u001b[0;31m \u001b[0mprint\u001b[0m\u001b[0;34m(\u001b[0m\u001b[0mnext\u001b[0m\u001b[0;34m(\u001b[0m\u001b[0mI\u001b[0m\u001b[0;34m)\u001b[0m\u001b[0;34m)\u001b[0m\u001b[0;34m\u001b[0m\u001b[0;34m\u001b[0m\u001b[0m\n\u001b[0m",
            "\u001b[0;31mNameError\u001b[0m: name 'I' is not defined"
          ]
        }
      ],
      "source": [
        "#print(next(I))\n",
        "print(next(I))"
      ]
    },
    {
      "cell_type": "code",
      "execution_count": null,
      "id": "6439e9b3",
      "metadata": {
        "id": "6439e9b3"
      },
      "outputs": [],
      "source": [
        "#print(next(I))"
      ]
    },
    {
      "cell_type": "markdown",
      "id": "f776578a",
      "metadata": {
        "id": "f776578a"
      },
      "source": [
        "With this in mind we can see a indirect relationship with the `list` object and the iterator `object`. Lets see and example with the `range` object again. `range` like a list exposes an iterator, and Python knows to treat it *as if it's a list*."
      ]
    },
    {
      "cell_type": "code",
      "execution_count": null,
      "id": "85cccffe",
      "metadata": {
        "id": "85cccffe"
      },
      "outputs": [],
      "source": []
    },
    {
      "cell_type": "code",
      "execution_count": null,
      "id": "32162e22",
      "metadata": {
        "id": "32162e22",
        "colab": {
          "base_uri": "https://localhost:8080/"
        },
        "outputId": "bfb4d23e-e3d2-4ac6-e72a-a42d906e1e44"
      },
      "outputs": [
        {
          "output_type": "execute_result",
          "data": {
            "text/plain": [
              "<range_iterator at 0x7d4bcc5f3cc0>"
            ]
          },
          "metadata": {},
          "execution_count": 23
        }
      ],
      "source": [
        "iter(range(10))"
      ]
    },
    {
      "cell_type": "code",
      "execution_count": null,
      "id": "887d3afa",
      "metadata": {
        "id": "887d3afa",
        "colab": {
          "base_uri": "https://localhost:8080/"
        },
        "outputId": "b2fce945-a6a6-4058-cb23-2709a3e8281c"
      },
      "outputs": [
        {
          "output_type": "stream",
          "name": "stdout",
          "text": [
            "0\n",
            "1\n",
            "2\n",
            "3\n",
            "4\n",
            "5\n",
            "6\n",
            "7\n",
            "8\n",
            "9\n"
          ]
        }
      ],
      "source": [
        "for i in range(10):\n",
        "  print(i)"
      ]
    },
    {
      "cell_type": "markdown",
      "id": "d6ead6ff",
      "metadata": {
        "id": "d6ead6ff"
      },
      "source": [
        "The benefit of having an iterator is the list if never explicitely created. We can see this by doing a range calculation that would otherwise result in an error.\n",
        "\n",
        "If the following code would actually create a list of a trillion values it will use too much memory and our program would crash."
      ]
    },
    {
      "cell_type": "code",
      "execution_count": null,
      "id": "e4a13147",
      "metadata": {
        "id": "e4a13147",
        "colab": {
          "base_uri": "https://localhost:8080/"
        },
        "outputId": "1b3c248b-eddb-4dff-b16e-90765ee478ec"
      },
      "outputs": [
        {
          "output_type": "stream",
          "name": "stdout",
          "text": [
            "0\n",
            "1\n",
            "2\n",
            "3\n",
            "4\n",
            "5\n",
            "6\n",
            "7\n",
            "8\n",
            "9\n"
          ]
        }
      ],
      "source": [
        "n = 10**12\n",
        "for i in range(n):\n",
        "  if i >= 10:\n",
        "    break\n",
        "  print(i)"
      ]
    },
    {
      "cell_type": "markdown",
      "id": "ebbc5d92",
      "metadata": {
        "id": "ebbc5d92"
      },
      "source": [
        "We also have the `count` object, which acts as a infinite range iterator.\n",
        "\n",
        "If this iterator is not stopped it will continue counting up to infinity. That's why we add the `break` statement here."
      ]
    },
    {
      "cell_type": "code",
      "execution_count": null,
      "id": "94dc99c0",
      "metadata": {
        "id": "94dc99c0",
        "colab": {
          "base_uri": "https://localhost:8080/"
        },
        "outputId": "4e97ead6-fccc-4cfe-ee6d-1f02ec950abb"
      },
      "outputs": [
        {
          "output_type": "stream",
          "name": "stdout",
          "text": [
            "0\n",
            "1\n",
            "2\n",
            "3\n",
            "4\n",
            "5\n",
            "6\n",
            "7\n",
            "8\n",
            "9\n"
          ]
        }
      ],
      "source": [
        "# import itertools functionality\n",
        "from itertools import count\n",
        "\n",
        "for i in count():\n",
        "  if i >= 10:\n",
        "    break\n",
        "  print(i)"
      ]
    },
    {
      "cell_type": "markdown",
      "id": "25fb40a6",
      "metadata": {
        "id": "25fb40a6"
      },
      "source": [
        "### The if statement\n",
        "`if <expr>:\n",
        "    <statement>`\n",
        "    \n",
        "- <expr> is evaluated in a Boolean context\n",
        "- <statement> is a valid Python statement and must be indented\n",
        "- Notice the `:`, this is required"
      ]
    },
    {
      "cell_type": "code",
      "execution_count": null,
      "id": "f9e24d81",
      "metadata": {
        "id": "f9e24d81"
      },
      "outputs": [],
      "source": [
        "x = 3\n",
        "y = 10\n"
      ]
    },
    {
      "cell_type": "code",
      "execution_count": null,
      "id": "1e77ae67",
      "metadata": {
        "id": "1e77ae67",
        "colab": {
          "base_uri": "https://localhost:8080/"
        },
        "outputId": "e30e2401-d04f-4843-8510-ab2bef05c31a"
      },
      "outputs": [
        {
          "output_type": "stream",
          "name": "stdout",
          "text": [
            "x is less than y\n"
          ]
        }
      ],
      "source": [
        "if x < y:\n",
        "  print(\"x is less than y\")"
      ]
    },
    {
      "cell_type": "code",
      "execution_count": null,
      "id": "dcba6d46",
      "metadata": {
        "id": "dcba6d46",
        "colab": {
          "base_uri": "https://localhost:8080/"
        },
        "outputId": "683ef23a-5d86-4c9c-88f8-8ac464bdfacd"
      },
      "outputs": [
        {
          "output_type": "stream",
          "name": "stdout",
          "text": [
            "yes\n"
          ]
        }
      ],
      "source": [
        "if 'ello' in 'hello':\n",
        "  print('yes')"
      ]
    },
    {
      "cell_type": "code",
      "execution_count": null,
      "id": "b27629d9",
      "metadata": {
        "id": "b27629d9"
      },
      "outputs": [],
      "source": []
    },
    {
      "cell_type": "code",
      "execution_count": null,
      "id": "6bb45218",
      "metadata": {
        "id": "6bb45218"
      },
      "outputs": [],
      "source": []
    },
    {
      "cell_type": "code",
      "execution_count": null,
      "id": "a2c3f88f",
      "metadata": {
        "id": "a2c3f88f",
        "colab": {
          "base_uri": "https://localhost:8080/"
        },
        "outputId": "f010f324-867c-4dbf-d0ec-29232ca61050"
      },
      "outputs": [
        {
          "output_type": "stream",
          "name": "stdout",
          "text": [
            "yes\n",
            "x is less than y\n",
            "statement outside of second condition\n"
          ]
        }
      ],
      "source": [
        "# We can also nest if statements, remember indentations\n",
        "if 'lo' in 'hello':\n",
        "  print('yes')\n",
        "  if x < y:\n",
        "    print('x is less than y')\n",
        "  print('statement outside of second condition')"
      ]
    },
    {
      "cell_type": "code",
      "execution_count": null,
      "id": "879f1d9c",
      "metadata": {
        "id": "879f1d9c"
      },
      "outputs": [],
      "source": [
        "# What if x is not less than y?\n",
        "x = 100\n",
        "\n",
        "# this will still run, as it is outside the if statement"
      ]
    },
    {
      "cell_type": "markdown",
      "id": "99ee3f21",
      "metadata": {
        "id": "99ee3f21"
      },
      "source": [
        "Nested for loops are also possible"
      ]
    },
    {
      "cell_type": "code",
      "execution_count": null,
      "id": "12fb3c76",
      "metadata": {
        "id": "12fb3c76",
        "colab": {
          "base_uri": "https://localhost:8080/"
        },
        "outputId": "ea5d421b-8154-4595-bd95-cd06870e6e4c"
      },
      "outputs": [
        {
          "output_type": "stream",
          "name": "stdout",
          "text": [
            "1\n",
            "2\n",
            "3\n",
            "a\n",
            "b\n",
            "c\n"
          ]
        }
      ],
      "source": [
        "list1=['1','2','3']\n",
        "list2=['a','b','c']\n",
        "\n",
        "for x in list1:\n",
        "  print(x)\n",
        "for y in list2:\n",
        "  print(y)"
      ]
    },
    {
      "cell_type": "markdown",
      "id": "1c0dfb7e",
      "metadata": {
        "id": "1c0dfb7e"
      },
      "source": [
        "### Optional Exercises\n",
        "\n",
        "1. Create a for loop that prints numbers from 1 to 20 in increments of 2 e.g. 2, 4, 6, 8, ...\n",
        "\n",
        "2. Create a for loop that prints from a list of words in a list. Create a second nested for loop that prints another word from a second list. Every word should from the first list shall be printed with every other word from the second list.\n",
        "\n",
        "`list_a = [\"chicken\", \"veggie\", \"meat\", \"ham\", \"cheese\", \"beef\", \"chocolate\"]`\n",
        "\n",
        "`list_b = [\"sandwich\", \"waffles\", \"pizza\", \"burrito\", \"soup\", \"salad\", \"smoothie\"]`\n",
        "\n",
        "Tip: You may want to use `range(len(list_a))` to iterate over the length of the list.\n",
        "\n",
        "Example output for exercise 2:\n",
        "\n",
        "`chicken sandwich\n",
        "chicken waffles\n",
        "chicken pizza\n",
        "chicken burrito...`\n",
        "\n",
        "`veggie sandwich\n",
        "veggie waffles\n",
        "veggie pizza\n",
        "veggie burrito...`"
      ]
    },
    {
      "cell_type": "code",
      "source": [
        "for i in range(2, 21, 2):\n",
        "    print(i)\n",
        "list_a = [\"chicken\", \"veggie\", \"meat\", \"ham\", \"cheese\", \"beef\", \"chocolate\"]\n",
        "list_b = [\"sandwich\", \"waffles\", \"pizza\", \"burrito\", \"soup\", \"salad\", \"smoothie\"]\n",
        "\n",
        "for word_a in list_a:\n",
        "    for word_b in list_b:\n",
        "        print(f\"{word_a} {word_b}\")\n"
      ],
      "metadata": {
        "colab": {
          "base_uri": "https://localhost:8080/"
        },
        "id": "kFbwQIS7CPVX",
        "outputId": "d7ba3baf-85ed-4708-88ed-e428f2b23e64"
      },
      "id": "kFbwQIS7CPVX",
      "execution_count": 3,
      "outputs": [
        {
          "output_type": "stream",
          "name": "stdout",
          "text": [
            "2\n",
            "4\n",
            "6\n",
            "8\n",
            "10\n",
            "12\n",
            "14\n",
            "16\n",
            "18\n",
            "20\n",
            "chicken sandwich\n",
            "chicken waffles\n",
            "chicken pizza\n",
            "chicken burrito\n",
            "chicken soup\n",
            "chicken salad\n",
            "chicken smoothie\n",
            "veggie sandwich\n",
            "veggie waffles\n",
            "veggie pizza\n",
            "veggie burrito\n",
            "veggie soup\n",
            "veggie salad\n",
            "veggie smoothie\n",
            "meat sandwich\n",
            "meat waffles\n",
            "meat pizza\n",
            "meat burrito\n",
            "meat soup\n",
            "meat salad\n",
            "meat smoothie\n",
            "ham sandwich\n",
            "ham waffles\n",
            "ham pizza\n",
            "ham burrito\n",
            "ham soup\n",
            "ham salad\n",
            "ham smoothie\n",
            "cheese sandwich\n",
            "cheese waffles\n",
            "cheese pizza\n",
            "cheese burrito\n",
            "cheese soup\n",
            "cheese salad\n",
            "cheese smoothie\n",
            "beef sandwich\n",
            "beef waffles\n",
            "beef pizza\n",
            "beef burrito\n",
            "beef soup\n",
            "beef salad\n",
            "beef smoothie\n",
            "chocolate sandwich\n",
            "chocolate waffles\n",
            "chocolate pizza\n",
            "chocolate burrito\n",
            "chocolate soup\n",
            "chocolate salad\n",
            "chocolate smoothie\n"
          ]
        }
      ]
    },
    {
      "cell_type": "markdown",
      "id": "6bed564d",
      "metadata": {
        "id": "6bed564d"
      },
      "source": [
        "### Combining for and if statments\n",
        "- We can combine for loops and if statements to do different things when conditions are met.\n",
        "- In a for loop the `break` statement will stop the loop\n",
        "- In a for loop the `continue` statement will skip the element"
      ]
    },
    {
      "cell_type": "code",
      "execution_count": null,
      "id": "b26fb2db",
      "metadata": {
        "id": "b26fb2db",
        "colab": {
          "base_uri": "https://localhost:8080/"
        },
        "outputId": "8a6abcc8-205c-49e6-b185-92c77a1242db"
      },
      "outputs": [
        {
          "output_type": "stream",
          "name": "stdout",
          "text": [
            "c\n",
            "b\n",
            "t\n",
            "p\n",
            "b\n"
          ]
        }
      ],
      "source": [
        "transport = ['c','b','t','p','b']\n",
        "\n",
        "for element in transport:\n",
        "  print(element)\n"
      ]
    },
    {
      "cell_type": "code",
      "execution_count": null,
      "id": "e7df5860",
      "metadata": {
        "id": "e7df5860",
        "colab": {
          "base_uri": "https://localhost:8080/"
        },
        "outputId": "dbf07cec-ae96-4bc8-a50a-502ad5ea9c25"
      },
      "outputs": [
        {
          "output_type": "stream",
          "name": "stdout",
          "text": [
            "c\n",
            "b\n",
            "t\n",
            "p\n",
            "yes\n",
            "b\n"
          ]
        }
      ],
      "source": [
        "for element in transport:\n",
        "  print(element)\n",
        "  if element == 'p':\n",
        "    print('yes')"
      ]
    },
    {
      "cell_type": "code",
      "execution_count": null,
      "id": "35517fcc",
      "metadata": {
        "id": "35517fcc",
        "colab": {
          "base_uri": "https://localhost:8080/"
        },
        "outputId": "fd3cc285-5904-4980-87d1-703fbe08bd85"
      },
      "outputs": [
        {
          "output_type": "stream",
          "name": "stdout",
          "text": [
            "c\n",
            "b\n",
            "t\n",
            "p\n",
            "yes\n"
          ]
        }
      ],
      "source": [
        "# Break the loop if condition is met\n",
        "for element in transport:\n",
        "  print(element)\n",
        "  if element == 'p':\n",
        "     print('yes')\n",
        "     break"
      ]
    },
    {
      "cell_type": "code",
      "execution_count": null,
      "id": "b76ff230",
      "metadata": {
        "id": "b76ff230",
        "colab": {
          "base_uri": "https://localhost:8080/"
        },
        "outputId": "a23f19fd-22c1-4a44-8f86-92c9f600638e"
      },
      "outputs": [
        {
          "output_type": "stream",
          "name": "stdout",
          "text": [
            "c\n",
            "t\n",
            "p\n"
          ]
        }
      ],
      "source": [
        "# Skip if condition is met\n",
        "\n",
        "for element in transport:\n",
        "  if element == 'b':\n",
        "    continue\n",
        "  print(element)"
      ]
    },
    {
      "cell_type": "markdown",
      "id": "c6970a8d",
      "metadata": {
        "id": "c6970a8d"
      },
      "source": [
        "Else and elif clauses\n",
        "Sometimes you want to take a different path or do something different if other conditions are met. This is accomplished with an `else` clause.\n",
        "\n",
        "Branching executions can be accomplished by `elif` short for else if, will evaluate an expression and execute if True."
      ]
    },
    {
      "cell_type": "code",
      "execution_count": null,
      "id": "17477af6",
      "metadata": {
        "id": "17477af6",
        "colab": {
          "base_uri": "https://localhost:8080/"
        },
        "outputId": "ad240084-97bf-44e7-f9b9-1237908a7dcb"
      },
      "outputs": [
        {
          "output_type": "stream",
          "name": "stdout",
          "text": [
            "c\n",
            "hi\n",
            "b\n",
            "no\n",
            "t\n",
            "hi\n",
            "p\n",
            "yes\n",
            "b\n",
            "no\n"
          ]
        }
      ],
      "source": [
        "for element in transport:\n",
        "  print(element)\n",
        "  if element == 'p':\n",
        "     print('yes')\n",
        "  elif element == 'b':\n",
        "    print('no')\n",
        "  else:\n",
        "    print('hi')\n",
        "\n"
      ]
    },
    {
      "cell_type": "markdown",
      "id": "85220a7a",
      "metadata": {
        "id": "85220a7a"
      },
      "source": [
        "## Optional exercise\n",
        "Write a program that takes two integer numbers and determines if the numbers are odd or even. Remember the `input()` and `%` function and operator.\n",
        "\n",
        "Additional exercise: do the same computation as above, but for a list of numbers using a `for` loop and `if` statements."
      ]
    },
    {
      "cell_type": "code",
      "source": [
        "def check_odd_or_even(number):\n",
        "    if number % 2 == 0:\n",
        "        return \"even\"\n",
        "    else:\n",
        "        return \"odd\"\n",
        "num1 = int(input(\"Enter the first integer number: \"))\n",
        "num2 = int(input(\"Enter the second integer number: \"))\n",
        "\n",
        "result1 = check_odd_or_even(num1)\n",
        "result2 = check_odd_or_even(num2)\n",
        "\n",
        "print(f\"The number {num1} is {result1}.\")\n",
        "print(f\"The number {num2} is {result2}.\")\n"
      ],
      "metadata": {
        "colab": {
          "base_uri": "https://localhost:8080/"
        },
        "id": "GNoTTYxoCnQY",
        "outputId": "eb5eff5b-9541-4085-a98d-4dab7b4fe647"
      },
      "id": "GNoTTYxoCnQY",
      "execution_count": 4,
      "outputs": [
        {
          "output_type": "stream",
          "name": "stdout",
          "text": [
            "Enter the first integer number: 1 \n",
            "Enter the second integer number: 4\n",
            "The number 1 is odd.\n",
            "The number 4 is even.\n"
          ]
        }
      ]
    },
    {
      "cell_type": "markdown",
      "id": "aee7968e",
      "metadata": {
        "id": "aee7968e"
      },
      "source": [
        "### Conditional expressions (ternary operator)\n",
        "This is different from the if statement forms listed above because it is not a control structure that directs the flow of program execution. It acts more like an operator that defines an expression. In the above example, <conditional_expr> is evaluated first. If it is true, the expression evaluates to <expr1>. If it is false, the expression evaluates to <expr2>.\n",
        "    \n",
        "- \\<conditional_expr> ? \\<expr1> : \\<expr2>"
      ]
    },
    {
      "cell_type": "code",
      "execution_count": null,
      "id": "22237e46",
      "metadata": {
        "id": "22237e46"
      },
      "outputs": [],
      "source": [
        "#rain = True\n",
        "#print('Lets ', 'go outside' if not rain else 'stay')"
      ]
    },
    {
      "cell_type": "code",
      "execution_count": null,
      "id": "9b170387",
      "metadata": {
        "id": "9b170387"
      },
      "outputs": [],
      "source": [
        "#name = 'Bob'\n",
        "#who = 'Bob' if name == 'Bob' else 'Not Bob'\n",
        "#who"
      ]
    },
    {
      "cell_type": "code",
      "execution_count": null,
      "id": "5a676237",
      "metadata": {
        "id": "5a676237"
      },
      "outputs": [],
      "source": [
        "#name = 'Jane'\n",
        "#who = 'Bob' if name == 'Bob' else 'Not Bob'\n",
        "#who"
      ]
    },
    {
      "cell_type": "markdown",
      "id": "8536faa9",
      "metadata": {
        "id": "8536faa9"
      },
      "source": [
        "## While loops\n",
        "while \\<expr>:\n",
        "\n",
        "    <statement(s)>\n",
        "        \n",
        "<statement(s)> represents the block to be repeatedly executed, often referred to as the body of the loop. This is denoted with indentation, just as in an if statement.\n",
        "\n",
        "The controlling expression, <expr>, typically involves one or more variables that are initialized prior to starting the loop and then modified somewhere in the loop body.\n",
        "    \n",
        "While loops can also use `break` and `continue` statements. You can also use `else` statements once the condition is no longer true"
      ]
    },
    {
      "cell_type": "code",
      "execution_count": null,
      "id": "2a3797d0",
      "metadata": {
        "id": "2a3797d0",
        "colab": {
          "base_uri": "https://localhost:8080/"
        },
        "outputId": "f14bb5f5-3c78-426d-832f-9621c88ab690"
      },
      "outputs": [
        {
          "output_type": "stream",
          "name": "stdout",
          "text": [
            "4\n",
            "3\n",
            "2\n",
            "1\n",
            "0\n"
          ]
        }
      ],
      "source": [
        "n = 5\n",
        "while n>0:\n",
        "  n= n-1\n",
        "  print(n)"
      ]
    },
    {
      "cell_type": "code",
      "execution_count": null,
      "id": "edf20339",
      "metadata": {
        "id": "edf20339",
        "colab": {
          "base_uri": "https://localhost:8080/"
        },
        "outputId": "676ed86c-c8fb-4da4-d3b1-e09afd5f0242"
      },
      "outputs": [
        {
          "output_type": "stream",
          "name": "stdout",
          "text": [
            "bruce\n",
            "diana\n",
            "derek\n",
            "bob\n",
            "no more names\n"
          ]
        }
      ],
      "source": [
        "names = ['bob', 'derek','diana','bruce']\n",
        "while names:\n",
        "  print(names.pop())\n",
        "else:\n",
        "  print('no more names')"
      ]
    },
    {
      "cell_type": "markdown",
      "id": "3b4a7594",
      "metadata": {
        "id": "3b4a7594"
      },
      "source": [
        "## Exercises for participation credit\n",
        "Please complete the following exercises and upload your completed notebook to your Github repository for participation credit.\n",
        "\n",
        "1. Write a for loop that adds all numbers from 1 to 100\n",
        "2. Using the list `lst1=[\"Joe\", \"Sarah\", \"Mike\", \"Jess\", \"\", \"Matt\", \"\", \"Greg\"]` create a second list called `lst2`, iterate through the list and add the names to `lst2` only if the element is different to an empty string.\n",
        "3. Take 3 numbers from the user using `input()` save the numbers to a list. Take 3 more numbers from the user and save it to a second list. Iterate over both lists and multiply every number on the first list over every other number on the second list. Print the multiplication result only if the result is an even number, else print the words `The result is odd`."
      ]
    },
    {
      "cell_type": "code",
      "execution_count": 5,
      "id": "63de2ad5",
      "metadata": {
        "id": "63de2ad5",
        "colab": {
          "base_uri": "https://localhost:8080/"
        },
        "outputId": "de2a0ccd-0edf-41b8-ad2f-934fd751f592"
      },
      "outputs": [
        {
          "output_type": "stream",
          "name": "stdout",
          "text": [
            "The sum of all numbers from 1 to 100 is: 5050\n",
            "The list without empty strings is: ['Joe', 'Sarah', 'Mike', 'Jess', 'Matt', 'Greg']\n",
            "Enter number 1 for the first list: 1\n",
            "Enter number 2 for the first list: 2\n",
            "Enter number 3 for the first list: 3\n",
            "Enter number 1 for the second list: 1\n",
            "Enter number 2 for the second list: 2\n",
            "Enter number 3 for the second list: 3\n",
            "The result of multiplying 1 and 1 is odd.\n",
            "The result of multiplying 1 and 2 is even: 2\n",
            "The result of multiplying 1 and 3 is odd.\n",
            "The result of multiplying 2 and 1 is even: 2\n",
            "The result of multiplying 2 and 2 is even: 4\n",
            "The result of multiplying 2 and 3 is even: 6\n",
            "The result of multiplying 3 and 1 is odd.\n",
            "The result of multiplying 3 and 2 is even: 6\n",
            "The result of multiplying 3 and 3 is odd.\n"
          ]
        }
      ],
      "source": [
        "sum_numbers = 0\n",
        "for i in range(1, 101):\n",
        "    sum_numbers += i\n",
        "\n",
        "print(f\"The sum of all numbers from 1 to 100 is: {sum_numbers}\")\n",
        "\n",
        "lst1 = [\"Joe\", \"Sarah\", \"Mike\", \"Jess\", \"\", \"Matt\", \"\", \"Greg\"]\n",
        "lst2 = [name for name in lst1 if name]\n",
        "\n",
        "print(f\"The list without empty strings is: {lst2}\")\n",
        "\n",
        "list1 = []\n",
        "for i in range(3):\n",
        "    num = int(input(f\"Enter number {i + 1} for the first list: \"))\n",
        "    list1.append(num)\n",
        "\n",
        "list2 = []\n",
        "for i in range(3):\n",
        "    num = int(input(f\"Enter number {i + 1} for the second list: \"))\n",
        "    list2.append(num)\n",
        "for num1 in list1:\n",
        "    for num2 in list2:\n",
        "        result = num1 * num2\n",
        "        if result % 2 == 0:\n",
        "            print(f\"The result of multiplying {num1} and {num2} is even: {result}\")\n",
        "        else:\n",
        "            print(f\"The result of multiplying {num1} and {num2} is odd.\")\n"
      ]
    }
  ],
  "metadata": {
    "kernelspec": {
      "display_name": "Python 3 (ipykernel)",
      "language": "python",
      "name": "python3"
    },
    "language_info": {
      "codemirror_mode": {
        "name": "ipython",
        "version": 3
      },
      "file_extension": ".py",
      "mimetype": "text/x-python",
      "name": "python",
      "nbconvert_exporter": "python",
      "pygments_lexer": "ipython3",
      "version": "3.10.4"
    },
    "colab": {
      "provenance": [],
      "include_colab_link": true
    }
  },
  "nbformat": 4,
  "nbformat_minor": 5
}