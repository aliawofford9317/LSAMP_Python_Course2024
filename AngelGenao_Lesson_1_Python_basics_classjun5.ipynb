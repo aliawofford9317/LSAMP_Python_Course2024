{
  "cells": [
    {
      "cell_type": "markdown",
      "metadata": {
        "id": "view-in-github",
        "colab_type": "text"
      },
      "source": [
        "<a href=\"https://colab.research.google.com/github/aliawofford9317/LSAMP_Python_Course2024/blob/aogenao/AngelGenao_Lesson_1_Python_basics_classjun5.ipynb\" target=\"_parent\"><img src=\"https://colab.research.google.com/assets/colab-badge.svg\" alt=\"Open In Colab\"/></a>"
      ]
    },
    {
      "cell_type": "markdown",
      "id": "65297d5d",
      "metadata": {
        "id": "65297d5d"
      },
      "source": [
        "## Lesson 1 - Python basics\n",
        "In this lesson we will cover:\n",
        "- What is a variable and how to declare it\n",
        "- Python basic operators\n",
        "- Data types in Python\n",
        "- Lists\n",
        "- Dictionaries\n",
        "- Tuples\n",
        "- Optional exercises\n",
        "\n",
        "All along the lessons you will see comments on the code starting with `#`, these are comment lines and are used to describe what the code is doing"
      ]
    },
    {
      "cell_type": "markdown",
      "id": "d927a42b",
      "metadata": {
        "id": "d927a42b"
      },
      "source": [
        "## What is a variable?\n",
        "\n",
        "Imagine variables as containers to store data values.\n",
        "We can asign values to these containers using the `=` sign."
      ]
    },
    {
      "cell_type": "code",
      "execution_count": null,
      "id": "d273a7b9",
      "metadata": {
        "id": "d273a7b9"
      },
      "outputs": [],
      "source": [
        "# Here we assign a to 4, and A to \"Python\"\n",
        "a = 4\n",
        "A = \"Python\""
      ]
    },
    {
      "cell_type": "code",
      "execution_count": null,
      "id": "c6a73ac0",
      "metadata": {
        "id": "c6a73ac0",
        "colab": {
          "base_uri": "https://localhost:8080/"
        },
        "outputId": "27d9a9ef-b5ad-4cda-8ccb-1ee7890eea99"
      },
      "outputs": [
        {
          "output_type": "stream",
          "name": "stdout",
          "text": [
            "4\n",
            "Python\n"
          ]
        }
      ],
      "source": [
        "# Print the variables\n",
        "print(a)\n",
        "print(A)"
      ]
    },
    {
      "cell_type": "markdown",
      "id": "a800cba9",
      "metadata": {
        "id": "a800cba9"
      },
      "source": [
        "From the example above we can see that variables are case sensitive, so a variable named `Variable` will be different from another one called `variable`.\n",
        "Variable names can consist of uppercase and lowercase letters, digits and underscore. The first character of a variable name cannot be a digit"
      ]
    },
    {
      "cell_type": "code",
      "execution_count": null,
      "id": "36e9c3df",
      "metadata": {
        "id": "36e9c3df"
      },
      "outputs": [],
      "source": [
        "Variable = 55\n",
        "variable = 49\n",
        "print( variable)\n",
        "print (Variable)"
      ]
    },
    {
      "cell_type": "code",
      "execution_count": null,
      "id": "3ade135f",
      "metadata": {
        "id": "3ade135f",
        "colab": {
          "base_uri": "https://localhost:8080/"
        },
        "outputId": "74448df8-7445-4449-b957-4a828371ba1f"
      },
      "outputs": [
        {
          "output_type": "stream",
          "name": "stdout",
          "text": [
            "49\n",
            "55\n"
          ]
        }
      ],
      "source": [
        "a_variable = \"hello\"\n",
        "\n"
      ]
    },
    {
      "cell_type": "markdown",
      "id": "c31ad403",
      "metadata": {
        "id": "c31ad403"
      },
      "source": [
        "### Reserved words in Python\n",
        "For variable names:\n",
        "- We can use number, letters and underscores\n",
        "- Variables can include numbers, but not as the first character\n",
        "- There are some reserverd words in Python that cannot be used as variable names:\n",
        "\n",
        "`False\tdef\tif\traise\n",
        "None\tdel\timport\treturn\n",
        "True\telif\tin\ttry\n",
        "and\telse\tis\twhile\n",
        "as\texcept\tlambda\twith\n",
        "assert\tfinally\tnonlocal\tyield\n",
        "break\tfor\tnot\n",
        "class\tfrom\tor\n",
        "continue\tglobal\tpass`\n",
        "\n",
        "You can see this list any time by typing `help(\"keywords\")"
      ]
    },
    {
      "cell_type": "code",
      "execution_count": null,
      "id": "9e951328",
      "metadata": {
        "colab": {
          "base_uri": "https://localhost:8080/"
        },
        "id": "9e951328",
        "outputId": "e06b0eed-dbe2-462e-9f27-74dafa99fd6b"
      },
      "outputs": [
        {
          "output_type": "stream",
          "name": "stdout",
          "text": [
            "\n",
            "Here is a list of the Python keywords.  Enter any keyword to get more help.\n",
            "\n",
            "False               class               from                or\n",
            "None                continue            global              pass\n",
            "True                def                 if                  raise\n",
            "and                 del                 import              return\n",
            "as                  elif                in                  try\n",
            "assert              else                is                  while\n",
            "async               except              lambda              with\n",
            "await               finally             nonlocal            yield\n",
            "break               for                 not                 \n",
            "\n"
          ]
        }
      ],
      "source": [
        "help(\"keywords\")"
      ]
    },
    {
      "cell_type": "markdown",
      "id": "2ecace5e",
      "metadata": {
        "id": "2ecace5e"
      },
      "source": [
        "## Operators\n",
        "We now know how to create variables. Lets explore the basic operators in Python. Operators are special symbols in Python that carry out arithmetic or logical computations\n",
        "\n",
        "Arithmetic operators are used to perform mathematical operations like addition, substraction, multiplication, etc\n",
        "\n",
        "| Symbol | Operator | Description |\n",
        "|--------|----------|-------------|\n",
        "|   +    | Addition |  Add two operands |\n",
        "| - | Substraction | Substract two operands |\n",
        "| * | Multiplication | Multiply two operands |\n",
        "| / | Division | Divide two operands |\n",
        "| % | Modulus | Remainder of the division of left operand by the right |\n",
        "| // | Floor division |  Division that results into whole number adjusted to the left in the number line |\n",
        "| ** | Exponent | Left operand raised to the power of right |"
      ]
    },
    {
      "cell_type": "markdown",
      "id": "eb521890",
      "metadata": {
        "id": "eb521890"
      },
      "source": [
        "## Types\n",
        "Each variable can be of a particular type, but this type does not needs to be declared when you create the variable, and can even be changed after they have been set"
      ]
    },
    {
      "cell_type": "code",
      "execution_count": null,
      "id": "f1ce33e5",
      "metadata": {
        "id": "f1ce33e5"
      },
      "outputs": [],
      "source": [
        "n = 100\n",
        "print (n)\n",
        "\n"
      ]
    },
    {
      "cell_type": "code",
      "execution_count": null,
      "id": "9ba75bd0",
      "metadata": {
        "id": "9ba75bd0"
      },
      "outputs": [],
      "source": []
    },
    {
      "cell_type": "code",
      "execution_count": null,
      "id": "643fc42f",
      "metadata": {
        "id": "643fc42f",
        "colab": {
          "base_uri": "https://localhost:8080/"
        },
        "outputId": "feffeebe-d39d-41d7-ed1e-ac21dc41f525"
      },
      "outputs": [
        {
          "output_type": "stream",
          "name": "stdout",
          "text": [
            "300 300 300\n"
          ]
        }
      ],
      "source": [
        "a = b = c = 300\n",
        "#python allows for chained variable assignments\n",
        "print(a,b,c)"
      ]
    },
    {
      "cell_type": "markdown",
      "id": "e4e0ed01",
      "metadata": {
        "id": "e4e0ed01"
      },
      "source": [
        "Python is a highly object-oriented language. Every itme of data in Python is an object of a specific type or class. Consider the following code. Python does the following:\n",
        "- Create a integer object\n",
        "- Gives a value of 300\n",
        "- Displays it to the console"
      ]
    },
    {
      "cell_type": "code",
      "execution_count": null,
      "id": "a62138f0",
      "metadata": {
        "id": "a62138f0",
        "colab": {
          "base_uri": "https://localhost:8080/"
        },
        "outputId": "7f1411b8-940f-41cb-b11b-85ed17368ec4"
      },
      "outputs": [
        {
          "output_type": "stream",
          "name": "stdout",
          "text": [
            "300\n"
          ]
        }
      ],
      "source": [
        "\n",
        "print(300)\n"
      ]
    },
    {
      "cell_type": "markdown",
      "id": "85e49441",
      "metadata": {
        "id": "85e49441"
      },
      "source": [
        "To see the actual integer object you can use the `type()` function"
      ]
    },
    {
      "cell_type": "code",
      "execution_count": null,
      "id": "5cbda040",
      "metadata": {
        "id": "5cbda040",
        "colab": {
          "base_uri": "https://localhost:8080/"
        },
        "outputId": "d941a1c4-9ad4-49fc-c76b-1fdb5857af7e"
      },
      "outputs": [
        {
          "output_type": "execute_result",
          "data": {
            "text/plain": [
              "int"
            ]
          },
          "metadata": {},
          "execution_count": 12
        }
      ],
      "source": [
        "type(300)"
      ]
    },
    {
      "cell_type": "markdown",
      "id": "64edd62c",
      "metadata": {
        "id": "64edd62c"
      },
      "source": [
        "## Basic Data Types\n",
        "- Numeric (integer numbers, floating point)\n",
        "- String (letters, characters)\n",
        "- Boolean (True or False, 0 or 1)"
      ]
    },
    {
      "cell_type": "markdown",
      "id": "2f8cd151",
      "metadata": {
        "id": "2f8cd151"
      },
      "source": [
        "### Integers\n",
        "An integer value can be as big as you need it to be, this is only constrained by the amount of memory in the system. Python will interpret a sequence of decimal digits without any prefix to be a decimal number:"
      ]
    },
    {
      "cell_type": "code",
      "execution_count": null,
      "id": "46402c16",
      "metadata": {
        "id": "46402c16"
      },
      "outputs": [],
      "source": [
        "#print(123456789123456789123456789123456789123456789123456789123456789123456789123456789123456789)"
      ]
    },
    {
      "cell_type": "code",
      "execution_count": null,
      "id": "2698b8d4",
      "metadata": {
        "id": "2698b8d4"
      },
      "outputs": [],
      "source": [
        "#print(10)"
      ]
    },
    {
      "cell_type": "code",
      "execution_count": null,
      "id": "fa03d0d3",
      "metadata": {
        "id": "fa03d0d3"
      },
      "outputs": [],
      "source": [
        "#Binary representation\n",
        "#use 0b prefix\n",
        "#print(0b10)\n",
        "\n",
        "#Octal representation\n",
        "#use 0O prefix\n",
        "#print(0O10)\n",
        "\n",
        "#Hexadecimal representation\n",
        "#use 0X prefix\n",
        "#print(0X10)"
      ]
    },
    {
      "cell_type": "code",
      "source": [
        "## Quick Check for knowlege how would you check the data type for the following representations previous binary (0b10),Octal(0O10) and hexadecial (0X10) and what are they?"
      ],
      "metadata": {
        "id": "v3-ma7tY6Htw"
      },
      "execution_count": null,
      "outputs": [],
      "id": "v3-ma7tY6Htw"
    },
    {
      "cell_type": "code",
      "execution_count": null,
      "metadata": {
        "id": "36a83fc0",
        "colab": {
          "base_uri": "https://localhost:8080/"
        },
        "outputId": "c00fdc9a-e31a-4f07-ef9b-a80b91ba2821"
      },
      "outputs": [
        {
          "output_type": "stream",
          "name": "stdout",
          "text": [
            "2\n"
          ]
        },
        {
          "output_type": "execute_result",
          "data": {
            "text/plain": [
              "int"
            ]
          },
          "metadata": {},
          "execution_count": 20
        }
      ],
      "source": [
        "#Answer for binary 0b10\n",
        "print(0b10)\n",
        "type(0b10)"
      ],
      "id": "36a83fc0"
    },
    {
      "cell_type": "code",
      "execution_count": null,
      "metadata": {
        "id": "7e26ec9e",
        "colab": {
          "base_uri": "https://localhost:8080/"
        },
        "outputId": "33dd15b8-22ee-4105-a98a-b922192d4d99"
      },
      "outputs": [
        {
          "output_type": "stream",
          "name": "stdout",
          "text": [
            "8\n"
          ]
        },
        {
          "output_type": "execute_result",
          "data": {
            "text/plain": [
              "int"
            ]
          },
          "metadata": {},
          "execution_count": 18
        }
      ],
      "source": [
        "# Answer for Octal for 0O10\n",
        "print(0O10)\n",
        "type(0O10)"
      ],
      "id": "7e26ec9e"
    },
    {
      "cell_type": "code",
      "execution_count": null,
      "metadata": {
        "id": "3e11bb06",
        "colab": {
          "base_uri": "https://localhost:8080/"
        },
        "outputId": "cc496757-f87f-47e7-b479-886422630715"
      },
      "outputs": [
        {
          "output_type": "stream",
          "name": "stdout",
          "text": [
            "16\n"
          ]
        },
        {
          "output_type": "execute_result",
          "data": {
            "text/plain": [
              "int"
            ]
          },
          "metadata": {},
          "execution_count": 19
        }
      ],
      "source": [
        "#Answer for hexidecimal 0X10\n",
        "print(0X10)\n",
        "type(0X10)"
      ],
      "id": "3e11bb06"
    },
    {
      "cell_type": "markdown",
      "id": "9fe061d9",
      "metadata": {
        "id": "9fe061d9"
      },
      "source": [
        "### Floating point numbers\n",
        "The `float` type designates a floating-point number, which specifies a decimal point. This can also represent scientific notation using the character `e` or `E`"
      ]
    },
    {
      "cell_type": "code",
      "execution_count": null,
      "id": "96c151b0",
      "metadata": {
        "id": "96c151b0",
        "outputId": "713a0f02-cbe1-4008-dcc0-9872f0dae0d1",
        "colab": {
          "base_uri": "https://localhost:8080/"
        }
      },
      "outputs": [
        {
          "output_type": "execute_result",
          "data": {
            "text/plain": [
              "float"
            ]
          },
          "metadata": {},
          "execution_count": 21
        }
      ],
      "source": [
        "type(3.14)"
      ]
    },
    {
      "cell_type": "code",
      "execution_count": null,
      "id": "689dee34",
      "metadata": {
        "id": "689dee34"
      },
      "outputs": [],
      "source": [
        "#type(3.14)"
      ]
    },
    {
      "cell_type": "code",
      "execution_count": null,
      "id": "8a599c7a",
      "metadata": {
        "id": "8a599c7a",
        "colab": {
          "base_uri": "https://localhost:8080/"
        },
        "outputId": "36d7cac2-b6b7-4183-dc48-a67981753d18"
      },
      "outputs": [
        {
          "output_type": "execute_result",
          "data": {
            "text/plain": [
              "0.99"
            ]
          },
          "metadata": {},
          "execution_count": 22
        }
      ],
      "source": [
        ".99"
      ]
    },
    {
      "cell_type": "code",
      "execution_count": null,
      "id": "b597680a",
      "metadata": {
        "id": "b597680a",
        "colab": {
          "base_uri": "https://localhost:8080/"
        },
        "outputId": "2fc9f1b8-31c5-4d02-d184-ca283d7e4adb"
      },
      "outputs": [
        {
          "output_type": "execute_result",
          "data": {
            "text/plain": [
              "500000000.0"
            ]
          },
          "metadata": {},
          "execution_count": 23
        }
      ],
      "source": [
        "5e8"
      ]
    },
    {
      "cell_type": "code",
      "execution_count": null,
      "id": "6af99295",
      "metadata": {
        "id": "6af99295",
        "outputId": "2e84585c-e891-4ee1-e4d4-f828a17f5548",
        "colab": {
          "base_uri": "https://localhost:8080/"
        }
      },
      "outputs": [
        {
          "output_type": "execute_result",
          "data": {
            "text/plain": [
              "float"
            ]
          },
          "metadata": {},
          "execution_count": 24
        }
      ],
      "source": [
        "type(5e8)"
      ]
    },
    {
      "cell_type": "code",
      "execution_count": null,
      "id": "dc9d4797",
      "metadata": {
        "id": "dc9d4797",
        "colab": {
          "base_uri": "https://localhost:8080/"
        },
        "outputId": "2ff07753-f860-4743-9b84-1114db3c6309"
      },
      "outputs": [
        {
          "output_type": "execute_result",
          "data": {
            "text/plain": [
              "5.67e-06"
            ]
          },
          "metadata": {},
          "execution_count": 25
        }
      ],
      "source": [
        "5.67E-6"
      ]
    },
    {
      "cell_type": "code",
      "execution_count": null,
      "id": "c0379fb3",
      "metadata": {
        "id": "c0379fb3",
        "colab": {
          "base_uri": "https://localhost:8080/"
        },
        "outputId": "a797bbd1-86aa-48aa-87fa-e0bbd058a65b"
      },
      "outputs": [
        {
          "output_type": "execute_result",
          "data": {
            "text/plain": [
              "3.0"
            ]
          },
          "metadata": {},
          "execution_count": 26
        }
      ],
      "source": [
        "#We can also convert or cast a integer to a float with float().\n",
        "float(3)\n"
      ]
    },
    {
      "cell_type": "markdown",
      "id": "6fd43043",
      "metadata": {
        "id": "6fd43043"
      },
      "source": [
        "Almost all platforms represent Python float values as 64-bit “double-precision” values, according to the IEEE 754 standard. In that case, the maximum value a floating-point number can have is approximately 1.8 ⨉ 10308. Python will indicate a number greater than that by the string inf"
      ]
    },
    {
      "cell_type": "code",
      "execution_count": null,
      "id": "8488b000",
      "metadata": {
        "id": "8488b000",
        "colab": {
          "base_uri": "https://localhost:8080/"
        },
        "outputId": "0b3887e2-a33a-4703-9c41-bf70226ff878"
      },
      "outputs": [
        {
          "output_type": "execute_result",
          "data": {
            "text/plain": [
              "1.79e+308"
            ]
          },
          "metadata": {},
          "execution_count": 27
        }
      ],
      "source": [
        "1.79e308"
      ]
    },
    {
      "cell_type": "code",
      "execution_count": null,
      "id": "e9e58b9a",
      "metadata": {
        "id": "e9e58b9a",
        "colab": {
          "base_uri": "https://localhost:8080/"
        },
        "outputId": "348baf64-2c08-4994-edb4-5512c8ce8c62"
      },
      "outputs": [
        {
          "output_type": "execute_result",
          "data": {
            "text/plain": [
              "inf"
            ]
          },
          "metadata": {},
          "execution_count": 28
        }
      ],
      "source": [
        "1.8e308"
      ]
    },
    {
      "cell_type": "markdown",
      "id": "545099db",
      "metadata": {
        "id": "545099db"
      },
      "source": [
        "The closest a nonzero number can be to zero is approximately 5.0 ⨉ 10-324. Anything closer to zero than that is effectively zero:"
      ]
    },
    {
      "cell_type": "code",
      "execution_count": null,
      "id": "2da777ac",
      "metadata": {
        "id": "2da777ac",
        "colab": {
          "base_uri": "https://localhost:8080/"
        },
        "outputId": "d518d612-41af-477d-87b4-4820ad339f77"
      },
      "outputs": [
        {
          "output_type": "execute_result",
          "data": {
            "text/plain": [
              "5e-324"
            ]
          },
          "metadata": {},
          "execution_count": 29
        }
      ],
      "source": [
        "5e-324"
      ]
    },
    {
      "cell_type": "code",
      "execution_count": null,
      "id": "cdde2a65",
      "metadata": {
        "id": "cdde2a65",
        "colab": {
          "base_uri": "https://localhost:8080/"
        },
        "outputId": "57b3f378-3143-4ab3-b40e-c26564375d63"
      },
      "outputs": [
        {
          "output_type": "execute_result",
          "data": {
            "text/plain": [
              "0.0"
            ]
          },
          "metadata": {},
          "execution_count": 35
        }
      ],
      "source": [
        "1e-325"
      ]
    },
    {
      "cell_type": "markdown",
      "id": "69cf2b84",
      "metadata": {
        "id": "69cf2b84"
      },
      "source": [
        "In most cases the internal representation of a floating-point number is an approximation of the actual value. In practice, the difference between the actual value and the represented value is very small and should not usually cause significant problems."
      ]
    },
    {
      "cell_type": "code",
      "execution_count": null,
      "id": "05711ac5",
      "metadata": {
        "id": "05711ac5",
        "colab": {
          "base_uri": "https://localhost:8080/"
        },
        "outputId": "72f6c5ff-c539-4268-dcf8-4c063bfb13af"
      },
      "outputs": [
        {
          "output_type": "execute_result",
          "data": {
            "text/plain": [
              "False"
            ]
          },
          "metadata": {},
          "execution_count": 36
        }
      ],
      "source": [
        "# == means 'is equal?' or 'is this equal to this?'\n",
        "0.1 + 0.2 == 0.3\n"
      ]
    },
    {
      "cell_type": "code",
      "execution_count": null,
      "id": "c4f0446e",
      "metadata": {
        "id": "c4f0446e",
        "colab": {
          "base_uri": "https://localhost:8080/"
        },
        "outputId": "8170989a-b554-4c54-80c1-0822f1fe6b2b"
      },
      "outputs": [
        {
          "output_type": "stream",
          "name": "stdout",
          "text": [
            "0.1 = 0.10000000000000001\n"
          ]
        }
      ],
      "source": [
        "#Lets format our float numbers to have 17 decimal places\n",
        "print(\"0.1 = {0:.17f}\".format(0.1))"
      ]
    },
    {
      "cell_type": "code",
      "source": [],
      "metadata": {
        "id": "DQk-HiX4ZT1G"
      },
      "id": "DQk-HiX4ZT1G",
      "execution_count": null,
      "outputs": []
    },
    {
      "cell_type": "markdown",
      "id": "4f5896de",
      "metadata": {
        "id": "4f5896de"
      },
      "source": [
        "### Complex numbers\n",
        "Complex numbers are specified as `<real part>+<imaginary part>j`. You can print only the real or imaginary part by using `.imag` or `.real`"
      ]
    },
    {
      "cell_type": "code",
      "source": [],
      "metadata": {
        "id": "Mz_b4OakZUSZ"
      },
      "id": "Mz_b4OakZUSZ",
      "execution_count": null,
      "outputs": []
    },
    {
      "cell_type": "code",
      "execution_count": null,
      "id": "298bf4f7",
      "metadata": {
        "id": "298bf4f7",
        "outputId": "2f814d16-45cd-4e70-839e-43687948e8b3",
        "colab": {
          "base_uri": "https://localhost:8080/"
        }
      },
      "outputs": [
        {
          "output_type": "execute_result",
          "data": {
            "text/plain": [
              "(2+5j)"
            ]
          },
          "metadata": {},
          "execution_count": 38
        }
      ],
      "source": [
        "2+5j\n",
        "\n"
      ]
    },
    {
      "cell_type": "code",
      "execution_count": null,
      "id": "55f38c7c",
      "metadata": {
        "id": "55f38c7c",
        "outputId": "ded3f605-b6bb-4205-afe9-df9832cec8a5"
      },
      "outputs": [
        {
          "data": {
            "text/plain": [
              "complex"
            ]
          },
          "execution_count": 35,
          "metadata": {},
          "output_type": "execute_result"
        }
      ],
      "source": [
        "type(2+5j)"
      ]
    },
    {
      "cell_type": "code",
      "execution_count": null,
      "id": "d8d84ba7",
      "metadata": {
        "id": "d8d84ba7",
        "outputId": "2a8e0f2d-3151-4b74-c6db-0ac257b0b028",
        "colab": {
          "base_uri": "https://localhost:8080/"
        }
      },
      "outputs": [
        {
          "output_type": "execute_result",
          "data": {
            "text/plain": [
              "1.0"
            ]
          },
          "metadata": {},
          "execution_count": 41
        }
      ],
      "source": [
        "comp = 1+2j\n",
        "comp.real"
      ]
    },
    {
      "cell_type": "code",
      "execution_count": null,
      "id": "19826f04",
      "metadata": {
        "id": "19826f04",
        "colab": {
          "base_uri": "https://localhost:8080/"
        },
        "outputId": "1de4fe96-cf00-489e-fa43-968e9296b50e"
      },
      "outputs": [
        {
          "output_type": "stream",
          "name": "stdout",
          "text": [
            "2.0\n"
          ]
        }
      ],
      "source": [
        "# try printing the imaginary part\n",
        "\n",
        "print(comp.imag)"
      ]
    },
    {
      "cell_type": "markdown",
      "id": "59bb12dd",
      "metadata": {
        "id": "59bb12dd"
      },
      "source": [
        "### Strings\n",
        "Strings are sequences of character data. In Python this is called `str`.\n",
        "Strings can be limited by single or double quotes."
      ]
    },
    {
      "cell_type": "code",
      "execution_count": null,
      "id": "78aea91a",
      "metadata": {
        "id": "78aea91a",
        "colab": {
          "base_uri": "https://localhost:8080/"
        },
        "outputId": "87452e7d-65c3-42a1-958d-db9b08cc30c7"
      },
      "outputs": [
        {
          "output_type": "stream",
          "name": "stdout",
          "text": [
            "This is a string\n"
          ]
        },
        {
          "output_type": "execute_result",
          "data": {
            "text/plain": [
              "str"
            ]
          },
          "metadata": {},
          "execution_count": 43
        }
      ],
      "source": [
        "#Try printing using This is a string using and check data type \"\"\n",
        "print(\"This is a string\")\n",
        "type(\"What is my type?\")"
      ]
    },
    {
      "cell_type": "code",
      "execution_count": null,
      "id": "22b82343",
      "metadata": {
        "id": "22b82343",
        "colab": {
          "base_uri": "https://localhost:8080/"
        },
        "outputId": "faab076e-ac7d-4784-d3a2-9f0d4c9312e3"
      },
      "outputs": [
        {
          "output_type": "stream",
          "name": "stdout",
          "text": [
            "This is a string\n"
          ]
        },
        {
          "output_type": "execute_result",
          "data": {
            "text/plain": [
              "str"
            ]
          },
          "metadata": {},
          "execution_count": 44
        }
      ],
      "source": [
        "# Try printing string using '' and check the data type\n",
        "print('This is a string')\n",
        "type('am i a string?')\n"
      ]
    },
    {
      "cell_type": "markdown",
      "id": "145cb9e7",
      "metadata": {
        "id": "145cb9e7"
      },
      "source": [
        "A string can contain as many characters as you wish. The only limit is the computer memory. A string can also be empty."
      ]
    },
    {
      "cell_type": "code",
      "execution_count": null,
      "id": "1f921753",
      "metadata": {
        "id": "1f921753"
      },
      "outputs": [],
      "source": [
        "''\n",
        "type('')"
      ]
    },
    {
      "cell_type": "code",
      "execution_count": null,
      "id": "8d4d828d",
      "metadata": {
        "id": "8d4d828d",
        "colab": {
          "base_uri": "https://localhost:8080/"
        },
        "outputId": "1fa6712e-21a8-47a8-85ee-11aa749acfe4"
      },
      "outputs": [
        {
          "output_type": "stream",
          "name": "stdout",
          "text": [
            "\"Hi how are you\"\n"
          ]
        }
      ],
      "source": [
        "#Double and single quotes can be combined\n",
        "print('\"Hi how are you\"')\n"
      ]
    },
    {
      "cell_type": "markdown",
      "id": "78932997",
      "metadata": {
        "id": "78932997"
      },
      "source": [
        "Here are some useful string functions, concatenation and indexing"
      ]
    },
    {
      "cell_type": "code",
      "execution_count": null,
      "id": "10ae543b",
      "metadata": {
        "id": "10ae543b",
        "colab": {
          "base_uri": "https://localhost:8080/"
        },
        "outputId": "9b243766-e6e1-4064-8de0-17fb30b4424c"
      },
      "outputs": [
        {
          "output_type": "execute_result",
          "data": {
            "text/plain": [
              "17"
            ]
          },
          "metadata": {},
          "execution_count": 47
        }
      ],
      "source": [
        "message = \"what do you like?\"\n",
        "# length of string\n",
        "len(message)"
      ]
    },
    {
      "cell_type": "code",
      "execution_count": null,
      "id": "38b2f65c",
      "metadata": {
        "id": "38b2f65c",
        "colab": {
          "base_uri": "https://localhost:8080/",
          "height": 35
        },
        "outputId": "c0b48176-8d0c-4b02-e4da-d87e7c3c62fe"
      },
      "outputs": [
        {
          "output_type": "execute_result",
          "data": {
            "text/plain": [
              "'WHAT DO YOU LIKE?'"
            ],
            "application/vnd.google.colaboratory.intrinsic+json": {
              "type": "string"
            }
          },
          "metadata": {},
          "execution_count": 48
        }
      ],
      "source": [
        "# Make upper-case. See also str.lower()\n",
        "message.upper()"
      ]
    },
    {
      "cell_type": "code",
      "execution_count": null,
      "id": "f30c3eec",
      "metadata": {
        "id": "f30c3eec",
        "colab": {
          "base_uri": "https://localhost:8080/",
          "height": 35
        },
        "outputId": "fcdc1b14-384a-470a-a919-d80d6ac6474a"
      },
      "outputs": [
        {
          "output_type": "execute_result",
          "data": {
            "text/plain": [
              "'what do you like?'"
            ],
            "application/vnd.google.colaboratory.intrinsic+json": {
              "type": "string"
            }
          },
          "metadata": {},
          "execution_count": 49
        }
      ],
      "source": [
        "# Make lower-case.\n",
        "message.lower()"
      ]
    },
    {
      "cell_type": "code",
      "execution_count": null,
      "id": "58378fff",
      "metadata": {
        "id": "58378fff",
        "outputId": "2069a2fe-f66c-412d-9d62-0fafd90a999d"
      },
      "outputs": [
        {
          "data": {
            "text/plain": [
              "'What do you like?'"
            ]
          },
          "execution_count": 49,
          "metadata": {},
          "output_type": "execute_result"
        }
      ],
      "source": [
        "# Capitalize. See also str.title()\n",
        "message.capitalize()"
      ]
    },
    {
      "cell_type": "code",
      "execution_count": null,
      "id": "e6b59e79",
      "metadata": {
        "id": "e6b59e79",
        "colab": {
          "base_uri": "https://localhost:8080/",
          "height": 35
        },
        "outputId": "fbb403ec-ab6c-4f56-9dd4-ce17be2e6953"
      },
      "outputs": [
        {
          "output_type": "execute_result",
          "data": {
            "text/plain": [
              "'What Do You Like?'"
            ],
            "application/vnd.google.colaboratory.intrinsic+json": {
              "type": "string"
            }
          },
          "metadata": {},
          "execution_count": 51
        }
      ],
      "source": [
        "# Capitalize every first letter\n",
        "message.title()"
      ]
    },
    {
      "cell_type": "code",
      "execution_count": null,
      "id": "b45c0f40",
      "metadata": {
        "id": "b45c0f40",
        "colab": {
          "base_uri": "https://localhost:8080/",
          "height": 35
        },
        "outputId": "c0d2b6b6-f25d-46da-e7de-e821419405d3"
      },
      "outputs": [
        {
          "output_type": "execute_result",
          "data": {
            "text/plain": [
              "'what do you like? I like Python'"
            ],
            "application/vnd.google.colaboratory.intrinsic+json": {
              "type": "string"
            }
          },
          "metadata": {},
          "execution_count": 53
        }
      ],
      "source": [
        "# How to Concatenate or join two or more strings with +\n",
        "message + \" I like Python\"\n"
      ]
    },
    {
      "cell_type": "code",
      "execution_count": null,
      "id": "4c466e71",
      "metadata": {
        "id": "4c466e71",
        "colab": {
          "base_uri": "https://localhost:8080/",
          "height": 35
        },
        "outputId": "1c63f437-5861-4a9f-9ffd-997f8660844a"
      },
      "outputs": [
        {
          "output_type": "execute_result",
          "data": {
            "text/plain": [
              "'I like Python I like Python I like Python I like Python I like Python '"
            ],
            "application/vnd.google.colaboratory.intrinsic+json": {
              "type": "string"
            }
          },
          "metadata": {},
          "execution_count": 55
        }
      ],
      "source": [
        "# an astherisc * will multiply your string\n",
        "like = \"I like Python \"\n",
        "like *5"
      ]
    },
    {
      "cell_type": "markdown",
      "id": "a151b0f1",
      "metadata": {
        "id": "a151b0f1"
      },
      "source": [
        "Indexing means accesing the individual elements or characters of a string (or list, as you will see later). To index a string use the `[]` brackets and the number you want to index. Just remember Python uses zero-based index."
      ]
    },
    {
      "cell_type": "code",
      "execution_count": null,
      "id": "d49a55db",
      "metadata": {
        "id": "d49a55db",
        "colab": {
          "base_uri": "https://localhost:8080/",
          "height": 35
        },
        "outputId": "3c9e5676-8a40-49cb-f705-1e87df4ae88f"
      },
      "outputs": [
        {
          "output_type": "execute_result",
          "data": {
            "text/plain": [
              "'I'"
            ],
            "application/vnd.google.colaboratory.intrinsic+json": {
              "type": "string"
            }
          },
          "metadata": {},
          "execution_count": 60
        }
      ],
      "source": [
        "#indexing\n",
        "like[0]"
      ]
    },
    {
      "cell_type": "code",
      "execution_count": null,
      "id": "ff85a50d",
      "metadata": {
        "id": "ff85a50d",
        "colab": {
          "base_uri": "https://localhost:8080/"
        },
        "outputId": "2dd41e8b-0ee8-4f07-92c1-e1c09bb8f24f"
      },
      "outputs": [
        {
          "output_type": "stream",
          "name": "stdout",
          "text": [
            "I l i k\n"
          ]
        }
      ],
      "source": [
        "print(like[0],like[2],like[3],like[4])"
      ]
    },
    {
      "cell_type": "code",
      "execution_count": null,
      "id": "474dcf0c",
      "metadata": {
        "id": "474dcf0c"
      },
      "outputs": [],
      "source": []
    },
    {
      "cell_type": "code",
      "execution_count": null,
      "id": "a72d19c1",
      "metadata": {
        "id": "a72d19c1",
        "colab": {
          "base_uri": "https://localhost:8080/",
          "height": 35
        },
        "outputId": "4ce98a94-081a-499e-8c6b-5152b1833eae"
      },
      "outputs": [
        {
          "output_type": "execute_result",
          "data": {
            "text/plain": [
              "'n'"
            ],
            "application/vnd.google.colaboratory.intrinsic+json": {
              "type": "string"
            }
          },
          "metadata": {},
          "execution_count": 64
        }
      ],
      "source": [
        "# A negative index will start counting from the right side\n",
        "# Here is the last letter\n",
        "like[-2]"
      ]
    },
    {
      "cell_type": "markdown",
      "id": "5fe325f2",
      "metadata": {
        "id": "5fe325f2"
      },
      "source": [
        "### Optional Exercise\n",
        "Create two string variables, one with your first name, another with your last name.\n",
        "- Concatenate these two variables\n",
        "- Index just the first letter of your name and the first letter of your last name using `[]`, concatenate and print these two characters.\n",
        "- Can you print the initials of your first and last name but this time only in lowercase letters?\n",
        "- Try to print the following rectangle using only string multiplication with `*`\n",
        "\n",
        "`**************` \\\n",
        "`*            *` \\\n",
        "`*            *` \\\n",
        "`*            *` \\\n",
        "`*            *` \\\n",
        "`*            *` \\\n",
        "`**************`"
      ]
    },
    {
      "cell_type": "markdown",
      "id": "6a3766cf",
      "metadata": {
        "id": "6a3766cf"
      },
      "source": [
        "### Boolean Type\n",
        "Objects of Boolean type may have one of two values, `True` or `False`:\n",
        "Expressions in Python are often evaluated in Boolean context, meaning they are interpreted to represent truth or falsehood."
      ]
    },
    {
      "cell_type": "code",
      "execution_count": null,
      "id": "fbb1b3cc",
      "metadata": {
        "id": "fbb1b3cc",
        "colab": {
          "base_uri": "https://localhost:8080/"
        },
        "outputId": "7045a540-5064-484f-b8c1-0217fa3e843b"
      },
      "outputs": [
        {
          "output_type": "execute_result",
          "data": {
            "text/plain": [
              "True"
            ]
          },
          "metadata": {},
          "execution_count": 65
        }
      ],
      "source": [
        "# Compare if 4 if less than 5\n",
        "\n",
        "result = (4 < 5)\n",
        "result\n"
      ]
    },
    {
      "cell_type": "code",
      "execution_count": null,
      "id": "c61ec305",
      "metadata": {
        "id": "c61ec305",
        "outputId": "d965e588-d035-41e4-a5b9-016e805f1a9d",
        "colab": {
          "base_uri": "https://localhost:8080/"
        }
      },
      "outputs": [
        {
          "output_type": "execute_result",
          "data": {
            "text/plain": [
              "bool"
            ]
          },
          "metadata": {},
          "execution_count": 66
        }
      ],
      "source": [
        "type(result)"
      ]
    },
    {
      "cell_type": "code",
      "execution_count": null,
      "id": "b0e45897",
      "metadata": {
        "id": "b0e45897",
        "colab": {
          "base_uri": "https://localhost:8080/"
        },
        "outputId": "90b9ed4d-f883-4d8e-a8d9-4e0a5443779f"
      },
      "outputs": [
        {
          "output_type": "stream",
          "name": "stdout",
          "text": [
            "True False\n"
          ]
        }
      ],
      "source": [
        "print(True,False)"
      ]
    },
    {
      "cell_type": "code",
      "execution_count": null,
      "id": "b5aab6f0",
      "metadata": {
        "id": "b5aab6f0",
        "outputId": "805e8c59-210e-4981-c6b7-45ca1a4874a3",
        "colab": {
          "base_uri": "https://localhost:8080/"
        }
      },
      "outputs": [
        {
          "output_type": "execute_result",
          "data": {
            "text/plain": [
              "True"
            ]
          },
          "metadata": {},
          "execution_count": 68
        }
      ],
      "source": [
        "# Not zero\n",
        "bool(2014)"
      ]
    },
    {
      "cell_type": "code",
      "execution_count": null,
      "id": "3e20f5c3",
      "metadata": {
        "id": "3e20f5c3",
        "outputId": "b33f17b5-7b92-40ac-dd68-30d2a7e97dfc",
        "colab": {
          "base_uri": "https://localhost:8080/"
        }
      },
      "outputs": [
        {
          "output_type": "execute_result",
          "data": {
            "text/plain": [
              "False"
            ]
          },
          "metadata": {},
          "execution_count": 69
        }
      ],
      "source": [
        "# A zero is equal to False\n",
        "bool(0)"
      ]
    },
    {
      "cell_type": "code",
      "execution_count": null,
      "id": "67d70d06",
      "metadata": {
        "id": "67d70d06",
        "outputId": "d4703472-b991-4445-bb09-99b2d08f73d3",
        "colab": {
          "base_uri": "https://localhost:8080/"
        }
      },
      "outputs": [
        {
          "output_type": "execute_result",
          "data": {
            "text/plain": [
              "True"
            ]
          },
          "metadata": {},
          "execution_count": 70
        }
      ],
      "source": [
        "# Also not zero\n",
        "bool(3.1414)"
      ]
    },
    {
      "cell_type": "code",
      "execution_count": null,
      "id": "61a8db9a",
      "metadata": {
        "id": "61a8db9a",
        "outputId": "ef6c6fc4-aab2-4f5c-a301-8c7bd078e2a3"
      },
      "outputs": [
        {
          "data": {
            "text/plain": [
              "False"
            ]
          },
          "execution_count": 79,
          "metadata": {},
          "output_type": "execute_result"
        }
      ],
      "source": [
        "# try a bool on None\n",
        "bool(None)"
      ]
    },
    {
      "cell_type": "code",
      "execution_count": null,
      "id": "c4ac8aec",
      "metadata": {
        "id": "c4ac8aec",
        "colab": {
          "base_uri": "https://localhost:8080/"
        },
        "outputId": "83021695-4a3c-44c7-ce94-ddd1b7f8be09"
      },
      "outputs": [
        {
          "output_type": "execute_result",
          "data": {
            "text/plain": [
              "False"
            ]
          },
          "metadata": {},
          "execution_count": 71
        }
      ],
      "source": [
        "# what about an Empty string bool\n",
        "bool(\"\")"
      ]
    },
    {
      "cell_type": "code",
      "execution_count": null,
      "id": "b55886b2",
      "metadata": {
        "id": "b55886b2",
        "colab": {
          "base_uri": "https://localhost:8080/"
        },
        "outputId": "6979d03b-392f-49d8-d965-17172b45123f"
      },
      "outputs": [
        {
          "output_type": "execute_result",
          "data": {
            "text/plain": [
              "True"
            ]
          },
          "metadata": {},
          "execution_count": 72
        }
      ],
      "source": [
        "bool(\"abc\")"
      ]
    },
    {
      "cell_type": "code",
      "execution_count": null,
      "id": "510bda47",
      "metadata": {
        "id": "510bda47",
        "colab": {
          "base_uri": "https://localhost:8080/"
        },
        "outputId": "f5ba0f64-d96f-4c9a-c678-1522280da255"
      },
      "outputs": [
        {
          "output_type": "execute_result",
          "data": {
            "text/plain": [
              "True"
            ]
          },
          "metadata": {},
          "execution_count": 73
        }
      ],
      "source": [
        "bool([1, 2, 3])"
      ]
    },
    {
      "cell_type": "code",
      "execution_count": null,
      "id": "6466ab80",
      "metadata": {
        "id": "6466ab80",
        "colab": {
          "base_uri": "https://localhost:8080/"
        },
        "outputId": "61c0058e-d887-410b-b258-47105aa36f04"
      },
      "outputs": [
        {
          "output_type": "execute_result",
          "data": {
            "text/plain": [
              "False"
            ]
          },
          "metadata": {},
          "execution_count": 74
        }
      ],
      "source": [
        "# Empty list\n",
        "bool([])"
      ]
    },
    {
      "cell_type": "code",
      "execution_count": null,
      "id": "a1082049",
      "metadata": {
        "id": "a1082049",
        "colab": {
          "base_uri": "https://localhost:8080/"
        },
        "outputId": "0026fe11-49bf-4e7b-8e48-ee5ebd2c9e96"
      },
      "outputs": [
        {
          "output_type": "execute_result",
          "data": {
            "text/plain": [
              "False"
            ]
          },
          "metadata": {},
          "execution_count": 75
        }
      ],
      "source": [
        "bool(0.0)"
      ]
    },
    {
      "cell_type": "code",
      "execution_count": null,
      "id": "0f4a3cf2",
      "metadata": {
        "id": "0f4a3cf2",
        "colab": {
          "base_uri": "https://localhost:8080/"
        },
        "outputId": "afaba116-cf65-40b0-cc81-023495fe8e81"
      },
      "outputs": [
        {
          "output_type": "execute_result",
          "data": {
            "text/plain": [
              "True"
            ]
          },
          "metadata": {},
          "execution_count": 76
        }
      ],
      "source": [
        "bool(1.0)"
      ]
    },
    {
      "cell_type": "code",
      "execution_count": null,
      "id": "a5ad8551",
      "metadata": {
        "id": "a5ad8551",
        "colab": {
          "base_uri": "https://localhost:8080/"
        },
        "outputId": "1b1e7890-c52b-49bd-aa46-583d03843ac6"
      },
      "outputs": [
        {
          "output_type": "execute_result",
          "data": {
            "text/plain": [
              "1"
            ]
          },
          "metadata": {},
          "execution_count": 77
        }
      ],
      "source": [
        "int(True)"
      ]
    },
    {
      "cell_type": "code",
      "execution_count": null,
      "id": "ebaa2672",
      "metadata": {
        "id": "ebaa2672",
        "colab": {
          "base_uri": "https://localhost:8080/"
        },
        "outputId": "334a31e0-387d-4a14-f068-e3916b5856c5"
      },
      "outputs": [
        {
          "output_type": "execute_result",
          "data": {
            "text/plain": [
              "0"
            ]
          },
          "metadata": {},
          "execution_count": 78
        }
      ],
      "source": [
        "int(False)"
      ]
    },
    {
      "cell_type": "markdown",
      "id": "156dfe28",
      "metadata": {
        "id": "156dfe28"
      },
      "source": [
        "### Other useful data types\n",
        "### Lists\n",
        "Lists are mutable collections of objects, similar to arrays in other programming languages. Lists are defined in Python by enclosing a comma-separated sequence of objects in square brackets `[]`\n",
        "- Lists are ordered\n",
        "- Lists can contain different types of objects\n",
        "- List objects can be accessed by index\n",
        "- Lists can be nested to arbitrary depth e.g. list of lists\n",
        "- Lists are mutable, they can be changed"
      ]
    },
    {
      "cell_type": "code",
      "execution_count": null,
      "id": "4add7d38",
      "metadata": {
        "id": "4add7d38",
        "colab": {
          "base_uri": "https://localhost:8080/"
        },
        "outputId": "4b3bda7e-483d-43ea-b763-0717bec73edd"
      },
      "outputs": [
        {
          "output_type": "execute_result",
          "data": {
            "text/plain": [
              "['John', 'Mary', 'Max', 'Wanda']"
            ]
          },
          "metadata": {},
          "execution_count": 81
        }
      ],
      "source": [
        "# Creating a string list\n",
        "friends = ['John','Mary','Max','Wanda']\n",
        "friends"
      ]
    },
    {
      "cell_type": "code",
      "execution_count": null,
      "id": "65faca10",
      "metadata": {
        "id": "65faca10",
        "colab": {
          "base_uri": "https://localhost:8080/"
        },
        "outputId": "8a71896a-f9ee-46f4-c1fb-27c6ee994754"
      },
      "outputs": [
        {
          "output_type": "execute_result",
          "data": {
            "text/plain": [
              "False"
            ]
          },
          "metadata": {},
          "execution_count": 82
        }
      ],
      "source": [
        "# Lists are ordered\n",
        "# lists with the same elements in different order are not the same\n",
        "a = [1,2,3,4,]\n",
        "b= [2,1,3,4]\n",
        "\n",
        "a == b"
      ]
    },
    {
      "cell_type": "code",
      "execution_count": null,
      "id": "14fa7954",
      "metadata": {
        "id": "14fa7954",
        "colab": {
          "base_uri": "https://localhost:8080/"
        },
        "outputId": "ed6ceb3a-bf7e-48cc-8af1-0423757f1f33"
      },
      "outputs": [
        {
          "output_type": "execute_result",
          "data": {
            "text/plain": [
              "False"
            ]
          },
          "metadata": {},
          "execution_count": 83
        }
      ],
      "source": [
        "a is b"
      ]
    },
    {
      "cell_type": "code",
      "execution_count": null,
      "id": "d0ae682c",
      "metadata": {
        "id": "d0ae682c",
        "colab": {
          "base_uri": "https://localhost:8080/"
        },
        "outputId": "55726d62-cb17-40fb-e386-573efb9d4c1e"
      },
      "outputs": [
        {
          "output_type": "execute_result",
          "data": {
            "text/plain": [
              "[10, 3.14, 'hello', True]"
            ]
          },
          "metadata": {},
          "execution_count": 84
        }
      ],
      "source": [
        "# Lists can contain different types of objects\n",
        "c = [10, 3.14, 'hello', True]\n",
        "c"
      ]
    },
    {
      "cell_type": "code",
      "execution_count": null,
      "id": "1be3520d",
      "metadata": {
        "id": "1be3520d",
        "colab": {
          "base_uri": "https://localhost:8080/"
        },
        "outputId": "4bf19bbb-9a35-4d00-83b1-f802e1ce065e"
      },
      "outputs": [
        {
          "output_type": "execute_result",
          "data": {
            "text/plain": [
              "list"
            ]
          },
          "metadata": {},
          "execution_count": 85
        }
      ],
      "source": [
        "type(c)"
      ]
    },
    {
      "cell_type": "code",
      "execution_count": null,
      "id": "33c22ce1",
      "metadata": {
        "id": "33c22ce1",
        "colab": {
          "base_uri": "https://localhost:8080/"
        },
        "outputId": "a071689e-0a48-4e46-e5e7-96e6ec1129f3"
      },
      "outputs": [
        {
          "output_type": "execute_result",
          "data": {
            "text/plain": [
              "bool"
            ]
          },
          "metadata": {},
          "execution_count": 91
        }
      ],
      "source": [
        "type(c[3])"
      ]
    },
    {
      "cell_type": "code",
      "execution_count": null,
      "id": "64a0c4a9",
      "metadata": {
        "id": "64a0c4a9"
      },
      "outputs": [],
      "source": [
        "# Lists can contain the same object multiple times\n",
        "d = ['bark', 'cat', 'cat', 'dog']"
      ]
    },
    {
      "cell_type": "code",
      "execution_count": null,
      "id": "2ea04079",
      "metadata": {
        "id": "2ea04079",
        "colab": {
          "base_uri": "https://localhost:8080/",
          "height": 35
        },
        "outputId": "4449818d-69f6-430d-ea97-a1ac2359cefa"
      },
      "outputs": [
        {
          "output_type": "execute_result",
          "data": {
            "text/plain": [
              "'bark'"
            ],
            "application/vnd.google.colaboratory.intrinsic+json": {
              "type": "string"
            }
          },
          "metadata": {},
          "execution_count": 96
        }
      ],
      "source": [
        "# Lists objects can be accessed by index\n",
        "d[0]"
      ]
    },
    {
      "cell_type": "code",
      "execution_count": null,
      "id": "5c65e5ee",
      "metadata": {
        "id": "5c65e5ee",
        "colab": {
          "base_uri": "https://localhost:8080/",
          "height": 35
        },
        "outputId": "df6b2426-d9a1-44fa-cba8-d42edfbc6b07"
      },
      "outputs": [
        {
          "output_type": "execute_result",
          "data": {
            "text/plain": [
              "'cat'"
            ],
            "application/vnd.google.colaboratory.intrinsic+json": {
              "type": "string"
            }
          },
          "metadata": {},
          "execution_count": 97
        }
      ],
      "source": [
        "d[1]"
      ]
    },
    {
      "cell_type": "code",
      "execution_count": null,
      "id": "b0d744d5",
      "metadata": {
        "id": "b0d744d5",
        "colab": {
          "base_uri": "https://localhost:8080/",
          "height": 35
        },
        "outputId": "d4e77c4f-2b32-4cd2-c5ab-cc891e6e8422"
      },
      "outputs": [
        {
          "output_type": "execute_result",
          "data": {
            "text/plain": [
              "'bark'"
            ],
            "application/vnd.google.colaboratory.intrinsic+json": {
              "type": "string"
            }
          },
          "metadata": {},
          "execution_count": 99
        }
      ],
      "source": [
        "# Remember a negative index counts from the end of the list\n",
        "d[-4]"
      ]
    },
    {
      "cell_type": "markdown",
      "id": "1b769660",
      "metadata": {
        "id": "1b769660"
      },
      "source": [
        "Slicing a list means taking a range of the objects that exist in that list, this is done by the square brackets and two index numbers separated by `:` similar to this `[0:3]`. In a list `a`, `a[m:n]` returns the portion of a from index m to, but not including, index n"
      ]
    },
    {
      "cell_type": "code",
      "execution_count": null,
      "id": "f2db9054",
      "metadata": {
        "id": "f2db9054",
        "colab": {
          "base_uri": "https://localhost:8080/"
        },
        "outputId": "53a06c0f-6e19-415a-d8af-38aac543a655"
      },
      "outputs": [
        {
          "output_type": "execute_result",
          "data": {
            "text/plain": [
              "['John', 'Mary']"
            ]
          },
          "metadata": {},
          "execution_count": 108
        }
      ],
      "source": [
        "#slicing list\n",
        "friends\n",
        "friends[0:2]"
      ]
    },
    {
      "cell_type": "code",
      "execution_count": null,
      "id": "b6d5d7d6",
      "metadata": {
        "id": "b6d5d7d6",
        "colab": {
          "base_uri": "https://localhost:8080/"
        },
        "outputId": "3f83f1c8-23bd-4b09-ca98-c3938a023a5e"
      },
      "outputs": [
        {
          "output_type": "execute_result",
          "data": {
            "text/plain": [
              "['John', 'Mary', 'Max']"
            ]
          },
          "metadata": {},
          "execution_count": 116
        }
      ],
      "source": [
        "# not including index 3\n",
        "friends[0:3]"
      ]
    },
    {
      "cell_type": "code",
      "execution_count": null,
      "id": "000942df",
      "metadata": {
        "id": "000942df"
      },
      "outputs": [],
      "source": []
    },
    {
      "cell_type": "code",
      "execution_count": null,
      "id": "2a5e7c1e",
      "metadata": {
        "id": "2a5e7c1e",
        "colab": {
          "base_uri": "https://localhost:8080/"
        },
        "outputId": "569f023f-c789-4647-8def-27978bcef731"
      },
      "outputs": [
        {
          "output_type": "execute_result",
          "data": {
            "text/plain": [
              "['John', 'Mary', 'Max', 'Wanda']"
            ]
          },
          "metadata": {},
          "execution_count": 128
        }
      ],
      "source": [
        "# Negative slicing is supported\n",
        "friends[-4:4]"
      ]
    },
    {
      "cell_type": "code",
      "execution_count": null,
      "id": "538dcb72",
      "metadata": {
        "id": "538dcb72",
        "outputId": "c11da05c-2c15-4268-c497-b6fbc2f5d31d",
        "colab": {
          "base_uri": "https://localhost:8080/"
        }
      },
      "outputs": [
        {
          "output_type": "execute_result",
          "data": {
            "text/plain": [
              "['John', 'Mary', 'Max']"
            ]
          },
          "metadata": {},
          "execution_count": 133
        }
      ],
      "source": [
        "# Omiting the first index starts at the beginning of the list\n",
        "friends[:3]"
      ]
    },
    {
      "cell_type": "code",
      "execution_count": null,
      "id": "21e387e2",
      "metadata": {
        "id": "21e387e2",
        "colab": {
          "base_uri": "https://localhost:8080/"
        },
        "outputId": "b1448780-444c-4a34-9032-8c1e206a5236"
      },
      "outputs": [
        {
          "output_type": "execute_result",
          "data": {
            "text/plain": [
              "['John', 'Mary', 'Max', 'Wanda']"
            ]
          },
          "metadata": {},
          "execution_count": 132
        }
      ],
      "source": [
        "# Omiting the second index extend the slice to the end of the list\n",
        "friends[0:]"
      ]
    },
    {
      "cell_type": "code",
      "execution_count": null,
      "id": "187c870f",
      "metadata": {
        "id": "187c870f",
        "colab": {
          "base_uri": "https://localhost:8080/"
        },
        "outputId": "e973a832-2081-4b80-dd8e-1983a031b8fd"
      },
      "outputs": [
        {
          "output_type": "execute_result",
          "data": {
            "text/plain": [
              "['John', 'Max']"
            ]
          },
          "metadata": {},
          "execution_count": 141
        }
      ],
      "source": [
        "# You can also specify a step\n",
        "friends[0:4:2]"
      ]
    },
    {
      "cell_type": "code",
      "execution_count": null,
      "id": "7e202ccb",
      "metadata": {
        "id": "7e202ccb",
        "colab": {
          "base_uri": "https://localhost:8080/"
        },
        "outputId": "70323060-6d30-4feb-cef8-5cee87f85411"
      },
      "outputs": [
        {
          "output_type": "execute_result",
          "data": {
            "text/plain": [
              "[0, 1, 2, 3, 4, 5, 6, 7, 8, 9]"
            ]
          },
          "metadata": {},
          "execution_count": 142
        }
      ],
      "source": [
        "# Lets visualize step/stride with a numeric list\n",
        "numbers = [0, 1, 2, 3, 4, 5, 6, 7, 8, 9]\n",
        "numbers"
      ]
    },
    {
      "cell_type": "code",
      "execution_count": null,
      "id": "e5b4299b",
      "metadata": {
        "id": "e5b4299b",
        "colab": {
          "base_uri": "https://localhost:8080/"
        },
        "outputId": "82df35ac-9387-40b3-ffec-d9bd07e8f03d"
      },
      "outputs": [
        {
          "output_type": "execute_result",
          "data": {
            "text/plain": [
              "[0, 2, 4, 6, 8]"
            ]
          },
          "metadata": {},
          "execution_count": 145
        }
      ],
      "source": [
        "# Start in index 0, include all elements, step every 2 elements\n",
        "numbers[0::2]"
      ]
    },
    {
      "cell_type": "code",
      "execution_count": null,
      "id": "ae80c559",
      "metadata": {
        "id": "ae80c559",
        "colab": {
          "base_uri": "https://localhost:8080/",
          "height": 35
        },
        "outputId": "1bbc63b3-45a5-4920-de1a-d76051477418"
      },
      "outputs": [
        {
          "output_type": "execute_result",
          "data": {
            "text/plain": [
              "'llo'"
            ],
            "application/vnd.google.colaboratory.intrinsic+json": {
              "type": "string"
            }
          },
          "metadata": {},
          "execution_count": 152
        }
      ],
      "source": [
        "# You can also slice strings!\n",
        "message = 'Hello'\n",
        "message[2:5]"
      ]
    },
    {
      "cell_type": "code",
      "execution_count": null,
      "id": "499bcc44",
      "metadata": {
        "id": "499bcc44"
      },
      "outputs": [],
      "source": []
    },
    {
      "cell_type": "markdown",
      "id": "752a8084",
      "metadata": {
        "id": "752a8084"
      },
      "source": [
        "The concatenation (+) and replication (*) operators:\n"
      ]
    },
    {
      "cell_type": "code",
      "execution_count": null,
      "id": "89d9c0ee",
      "metadata": {
        "id": "89d9c0ee",
        "colab": {
          "base_uri": "https://localhost:8080/"
        },
        "outputId": "9ef321c1-eacc-4f7e-bfae-0aabac5d8263"
      },
      "outputs": [
        {
          "output_type": "execute_result",
          "data": {
            "text/plain": [
              "['hello', 'yes', 'no']"
            ]
          },
          "metadata": {},
          "execution_count": 153
        }
      ],
      "source": [
        "e = ['hello', 'yes', 'no']\n",
        "e"
      ]
    },
    {
      "cell_type": "markdown",
      "source": [],
      "metadata": {
        "id": "ACqYVH9tmUeg"
      },
      "id": "ACqYVH9tmUeg"
    },
    {
      "cell_type": "code",
      "execution_count": null,
      "id": "aa2f6237",
      "metadata": {
        "id": "aa2f6237",
        "colab": {
          "base_uri": "https://localhost:8080/"
        },
        "outputId": "f9596c86-55d7-4e40-9b2e-6730f4e327f8"
      },
      "outputs": [
        {
          "output_type": "execute_result",
          "data": {
            "text/plain": [
              "['hello', 'yes', 'no', 'here', 'mylist']"
            ]
          },
          "metadata": {},
          "execution_count": 161
        }
      ],
      "source": [
        "q = e + ['here', 'mylist']\n",
        "q"
      ]
    },
    {
      "cell_type": "code",
      "execution_count": null,
      "id": "ed1fac87",
      "metadata": {
        "id": "ed1fac87",
        "colab": {
          "base_uri": "https://localhost:8080/"
        },
        "outputId": "65a2d6e9-8323-4cef-bf8f-11eb3f10c0c3"
      },
      "outputs": [
        {
          "output_type": "execute_result",
          "data": {
            "text/plain": [
              "['hello',\n",
              " 'yes',\n",
              " 'no',\n",
              " 'here',\n",
              " 'mylist',\n",
              " 'hello',\n",
              " 'yes',\n",
              " 'no',\n",
              " 'here',\n",
              " 'mylist']"
            ]
          },
          "metadata": {},
          "execution_count": 165
        }
      ],
      "source": [
        "q * 2"
      ]
    },
    {
      "cell_type": "markdown",
      "id": "553f2fb4",
      "metadata": {
        "id": "553f2fb4"
      },
      "source": [
        "The len(), min(), and max() functions"
      ]
    },
    {
      "cell_type": "code",
      "execution_count": null,
      "id": "639a486a",
      "metadata": {
        "id": "639a486a",
        "colab": {
          "base_uri": "https://localhost:8080/"
        },
        "outputId": "de19c257-caf2-405e-9166-68528489d7a6"
      },
      "outputs": [
        {
          "output_type": "execute_result",
          "data": {
            "text/plain": [
              "5"
            ]
          },
          "metadata": {},
          "execution_count": 166
        }
      ],
      "source": [
        "f = [5, 10, 15, 20, 25]\n",
        "len(f)"
      ]
    },
    {
      "cell_type": "code",
      "execution_count": null,
      "id": "fa4cfa36",
      "metadata": {
        "id": "fa4cfa36",
        "colab": {
          "base_uri": "https://localhost:8080/"
        },
        "outputId": "2373d588-7e2b-4bb3-e9db-51efb83c777f"
      },
      "outputs": [
        {
          "output_type": "execute_result",
          "data": {
            "text/plain": [
              "5"
            ]
          },
          "metadata": {},
          "execution_count": 167
        }
      ],
      "source": [
        "min(f)\n",
        "# Try this function with a string list. Can you explain what is happening?"
      ]
    },
    {
      "cell_type": "code",
      "execution_count": null,
      "id": "43f778ea",
      "metadata": {
        "id": "43f778ea",
        "colab": {
          "base_uri": "https://localhost:8080/"
        },
        "outputId": "b885895b-cd14-47a1-8e89-dd2051de6b3c"
      },
      "outputs": [
        {
          "output_type": "execute_result",
          "data": {
            "text/plain": [
              "25"
            ]
          },
          "metadata": {},
          "execution_count": 168
        }
      ],
      "source": [
        "max(f)\n",
        "# Try this function with a string list. Can you explain what is happening?"
      ]
    },
    {
      "cell_type": "markdown",
      "id": "e93b35a1",
      "metadata": {
        "id": "e93b35a1"
      },
      "source": [
        "Lists can be nested"
      ]
    },
    {
      "cell_type": "code",
      "execution_count": null,
      "id": "67c25d8e",
      "metadata": {
        "id": "67c25d8e",
        "colab": {
          "base_uri": "https://localhost:8080/"
        },
        "outputId": "098cbbcf-23ea-4331-ca9e-a4026a9c34ef"
      },
      "outputs": [
        {
          "output_type": "execute_result",
          "data": {
            "text/plain": [
              "[[1, 2, 3, 4], [10, 20, 30], ['hello', 'from', 'my list']]"
            ]
          },
          "metadata": {},
          "execution_count": 2
        }
      ],
      "source": [
        "my_lists = [[1, 2, 3, 4], [10, 20, 30], ['hello', 'from', 'my list']]\n",
        "my_lists"
      ]
    },
    {
      "cell_type": "code",
      "execution_count": null,
      "id": "926818e8",
      "metadata": {
        "id": "926818e8",
        "colab": {
          "base_uri": "https://localhost:8080/"
        },
        "outputId": "0691d2c4-2272-4805-fb60-bc66d0617eb3"
      },
      "outputs": [
        {
          "output_type": "execute_result",
          "data": {
            "text/plain": [
              "[1, 2, 3, 4]"
            ]
          },
          "metadata": {},
          "execution_count": 3
        }
      ],
      "source": [
        "my_lists[0]"
      ]
    },
    {
      "cell_type": "code",
      "execution_count": null,
      "id": "2656eb4d",
      "metadata": {
        "id": "2656eb4d",
        "colab": {
          "base_uri": "https://localhost:8080/"
        },
        "outputId": "9f7e92d5-06f9-496a-b3e0-9dd16fc2422c"
      },
      "outputs": [
        {
          "output_type": "execute_result",
          "data": {
            "text/plain": [
              "3"
            ]
          },
          "metadata": {},
          "execution_count": 4
        }
      ],
      "source": [
        "# Accessing the second index\n",
        "my_lists[0][2]"
      ]
    },
    {
      "cell_type": "code",
      "execution_count": null,
      "id": "3f9b96c5",
      "metadata": {
        "id": "3f9b96c5",
        "colab": {
          "base_uri": "https://localhost:8080/"
        },
        "outputId": "559837e3-948d-49a4-d26b-637ceeca6a9a"
      },
      "outputs": [
        {
          "output_type": "execute_result",
          "data": {
            "text/plain": [
              "['hello', 'from', 'my list']"
            ]
          },
          "metadata": {},
          "execution_count": 6
        }
      ],
      "source": [
        "my_lists[2]"
      ]
    },
    {
      "cell_type": "markdown",
      "id": "4388b319",
      "metadata": {
        "id": "4388b319"
      },
      "source": [
        "Lists are mutable, meaning they can be changed"
      ]
    },
    {
      "cell_type": "code",
      "execution_count": null,
      "id": "c400c936",
      "metadata": {
        "id": "c400c936",
        "outputId": "57ee081c-9286-4c05-82c7-d2cf31ed5461",
        "colab": {
          "base_uri": "https://localhost:8080/"
        }
      },
      "outputs": [
        {
          "output_type": "execute_result",
          "data": {
            "text/plain": [
              "['eggs', 'cheese', 'milk', 'bread']"
            ]
          },
          "metadata": {},
          "execution_count": 7
        }
      ],
      "source": [
        "groceries = ['eggs', 'cheese', 'milk', 'bread']\n",
        "groceries"
      ]
    },
    {
      "cell_type": "code",
      "execution_count": null,
      "id": "5483caa4",
      "metadata": {
        "id": "5483caa4"
      },
      "outputs": [],
      "source": [
        "groceries[2] = 'soy milk'"
      ]
    },
    {
      "cell_type": "code",
      "execution_count": null,
      "id": "767edce9",
      "metadata": {
        "id": "767edce9",
        "outputId": "3ee17c52-773f-4a52-d705-ae957989dbe1",
        "colab": {
          "base_uri": "https://localhost:8080/"
        }
      },
      "outputs": [
        {
          "output_type": "execute_result",
          "data": {
            "text/plain": [
              "['eggs', 'cheese', 'soy milk', 'bread']"
            ]
          },
          "metadata": {},
          "execution_count": 9
        }
      ],
      "source": [
        "groceries"
      ]
    },
    {
      "cell_type": "code",
      "execution_count": null,
      "id": "2c70d911",
      "metadata": {
        "id": "2c70d911",
        "colab": {
          "base_uri": "https://localhost:8080/"
        },
        "outputId": "5e1f3087-24f0-4c45-8d32-84ba2e3667e8"
      },
      "outputs": [
        {
          "output_type": "execute_result",
          "data": {
            "text/plain": [
              "['eggs', 'soy milk', 'bread']"
            ]
          },
          "metadata": {},
          "execution_count": 10
        }
      ],
      "source": [
        "# delete an element with del()\n",
        "del groceries[1]\n",
        "groceries"
      ]
    },
    {
      "cell_type": "code",
      "execution_count": null,
      "id": "9b43a237",
      "metadata": {
        "id": "9b43a237",
        "colab": {
          "base_uri": "https://localhost:8080/"
        },
        "outputId": "b3c8b214-ec5a-4544-8cf6-13edba8e961d"
      },
      "outputs": [
        {
          "output_type": "execute_result",
          "data": {
            "text/plain": [
              "['eggs', 'soy milk', 'bread', 'coffee']"
            ]
          },
          "metadata": {},
          "execution_count": 11
        }
      ],
      "source": [
        "# Add a value at the end of a list with append\n",
        "\n",
        "groceries.append('coffee')\n",
        "groceries"
      ]
    },
    {
      "cell_type": "code",
      "execution_count": null,
      "id": "90ba3f90",
      "metadata": {
        "id": "90ba3f90",
        "outputId": "e551f862-dc30-4e12-fcc0-e30f2ee71db3",
        "colab": {
          "base_uri": "https://localhost:8080/"
        }
      },
      "outputs": [
        {
          "output_type": "execute_result",
          "data": {
            "text/plain": [
              "['bread', 'coffee', 'eggs', 'soy milk']"
            ]
          },
          "metadata": {},
          "execution_count": 12
        }
      ],
      "source": [
        "# sort a list\n",
        "groceries.sort()\n",
        "groceries"
      ]
    },
    {
      "cell_type": "code",
      "execution_count": null,
      "id": "fb475e99",
      "metadata": {
        "id": "fb475e99",
        "outputId": "24558577-9448-4951-cbb2-7a3457fa3b73",
        "colab": {
          "base_uri": "https://localhost:8080/"
        }
      },
      "outputs": [
        {
          "output_type": "execute_result",
          "data": {
            "text/plain": [
              "[22, 18, 15, 25, 26, 19, 35, 42]"
            ]
          },
          "metadata": {},
          "execution_count": 13
        }
      ],
      "source": [
        "ages = [22, 18, 15, 25, 26, 19, 35, 42]\n",
        "ages"
      ]
    },
    {
      "cell_type": "code",
      "execution_count": null,
      "id": "a35aaf5a",
      "metadata": {
        "id": "a35aaf5a",
        "colab": {
          "base_uri": "https://localhost:8080/"
        },
        "outputId": "da4154a4-2c0a-4574-8a03-61936e29ccaa"
      },
      "outputs": [
        {
          "output_type": "execute_result",
          "data": {
            "text/plain": [
              "[15, 18, 19, 22, 25, 26, 35, 42]"
            ]
          },
          "metadata": {},
          "execution_count": 15
        }
      ],
      "source": [
        "ages.sort()\n",
        "ages"
      ]
    },
    {
      "cell_type": "code",
      "execution_count": null,
      "id": "402772f3",
      "metadata": {
        "id": "402772f3",
        "colab": {
          "base_uri": "https://localhost:8080/"
        },
        "outputId": "cd9ae4d2-c062-4a91-b68c-7bc1d1346ae6"
      },
      "outputs": [
        {
          "output_type": "execute_result",
          "data": {
            "text/plain": [
              "[15, 18, 19, 22, 25, 26, 35, 42]"
            ]
          },
          "metadata": {},
          "execution_count": 16
        }
      ],
      "source": [
        "# Invert a list\n",
        "ages"
      ]
    },
    {
      "cell_type": "code",
      "execution_count": null,
      "id": "bba06ef4",
      "metadata": {
        "id": "bba06ef4",
        "colab": {
          "base_uri": "https://localhost:8080/"
        },
        "outputId": "30c0ec4b-7518-4392-ca4f-b73b47f7d280"
      },
      "outputs": [
        {
          "output_type": "execute_result",
          "data": {
            "text/plain": [
              "[42, 35, 26, 25, 22, 19, 18, 15]"
            ]
          },
          "metadata": {},
          "execution_count": 17
        }
      ],
      "source": [
        "ages[::-1]"
      ]
    },
    {
      "cell_type": "code",
      "execution_count": null,
      "id": "0579280f",
      "metadata": {
        "id": "0579280f",
        "colab": {
          "base_uri": "https://localhost:8080/"
        },
        "outputId": "290d7719-9806-4997-b420-48c3e42fb7c5"
      },
      "outputs": [
        {
          "output_type": "execute_result",
          "data": {
            "text/plain": [
              "[15, 18, 22, 25, 26, 35, 42]"
            ]
          },
          "metadata": {},
          "execution_count": 18
        }
      ],
      "source": [
        "# Delete an element from a specified index\n",
        "ages.pop(2)\n",
        "ages"
      ]
    },
    {
      "cell_type": "code",
      "execution_count": null,
      "id": "edff7aa5",
      "metadata": {
        "id": "edff7aa5",
        "colab": {
          "base_uri": "https://localhost:8080/"
        },
        "outputId": "5e17612a-831c-4c36-8377-543f2adc1210"
      },
      "outputs": [
        {
          "output_type": "execute_result",
          "data": {
            "text/plain": [
              "[15, 18, 22, 26, 35, 42]"
            ]
          },
          "metadata": {},
          "execution_count": 19
        }
      ],
      "source": [
        "# You can also specify a value to remove with .remove()\n",
        "ages.remove(25)\n",
        "ages"
      ]
    },
    {
      "cell_type": "code",
      "execution_count": null,
      "id": "1ef9eb85",
      "metadata": {
        "id": "1ef9eb85",
        "colab": {
          "base_uri": "https://localhost:8080/"
        },
        "outputId": "766141f5-d48a-4e65-f915-77af259a2f71"
      },
      "outputs": [
        {
          "output_type": "execute_result",
          "data": {
            "text/plain": [
              "[15, 18, 30, 22, 26, 35, 42]"
            ]
          },
          "metadata": {},
          "execution_count": 20
        }
      ],
      "source": [
        "# Insert a value at a specified index\n",
        "ages.insert(2, 30)\n",
        "ages"
      ]
    },
    {
      "cell_type": "code",
      "source": [],
      "metadata": {
        "id": "cTfNHM7I1c6B"
      },
      "id": "cTfNHM7I1c6B",
      "execution_count": null,
      "outputs": []
    },
    {
      "cell_type": "markdown",
      "id": "fbfce63d",
      "metadata": {
        "id": "fbfce63d"
      },
      "source": [
        "### Tuples\n",
        "Tuples are static ordered collections of objects.\n",
        "Tuples are identical to lists except in the following:\n",
        "- Tuples are defined by `()`\n",
        "- Tuples are inmutable, they cannot change"
      ]
    },
    {
      "cell_type": "code",
      "execution_count": null,
      "id": "5d74f8dc",
      "metadata": {
        "id": "5d74f8dc",
        "colab": {
          "base_uri": "https://localhost:8080/"
        },
        "outputId": "3ce51426-0b51-426b-cef1-671e586e0b1c"
      },
      "outputs": [
        {
          "output_type": "execute_result",
          "data": {
            "text/plain": [
              "('here', 'is', 'a', 'tuple')"
            ]
          },
          "metadata": {},
          "execution_count": 21
        }
      ],
      "source": [
        "t = ('here','is', 'a', 'tuple')\n",
        "t"
      ]
    },
    {
      "cell_type": "code",
      "execution_count": null,
      "id": "6a640ad9",
      "metadata": {
        "id": "6a640ad9",
        "colab": {
          "base_uri": "https://localhost:8080/",
          "height": 35
        },
        "outputId": "e267012a-e743-40f0-e351-577cee33f77d"
      },
      "outputs": [
        {
          "output_type": "execute_result",
          "data": {
            "text/plain": [
              "'here'"
            ],
            "application/vnd.google.colaboratory.intrinsic+json": {
              "type": "string"
            }
          },
          "metadata": {},
          "execution_count": 22
        }
      ],
      "source": [
        "t[0]"
      ]
    },
    {
      "cell_type": "code",
      "execution_count": null,
      "id": "1776cf43",
      "metadata": {
        "id": "1776cf43",
        "colab": {
          "base_uri": "https://localhost:8080/"
        },
        "outputId": "5c9e05ee-a3fb-4608-a10f-d3ea6c14f3ad"
      },
      "outputs": [
        {
          "output_type": "execute_result",
          "data": {
            "text/plain": [
              "('here', 'is', 'a', 'tuple')"
            ]
          },
          "metadata": {},
          "execution_count": 23
        }
      ],
      "source": [
        "t[0:]"
      ]
    },
    {
      "cell_type": "code",
      "execution_count": null,
      "id": "604bf39d",
      "metadata": {
        "id": "604bf39d",
        "colab": {
          "base_uri": "https://localhost:8080/",
          "height": 35
        },
        "outputId": "2c4231f1-963c-42b6-ff75-d41b466e5aba"
      },
      "outputs": [
        {
          "output_type": "execute_result",
          "data": {
            "text/plain": [
              "'tuple'"
            ],
            "application/vnd.google.colaboratory.intrinsic+json": {
              "type": "string"
            }
          },
          "metadata": {},
          "execution_count": 24
        }
      ],
      "source": [
        "t[-1]"
      ]
    },
    {
      "cell_type": "code",
      "execution_count": null,
      "id": "4d9d6c44",
      "metadata": {
        "id": "4d9d6c44",
        "colab": {
          "base_uri": "https://localhost:8080/"
        },
        "outputId": "65493fd5-d1a3-4829-8d54-34c219411f1c"
      },
      "outputs": [
        {
          "output_type": "execute_result",
          "data": {
            "text/plain": [
              "('is', 'a')"
            ]
          },
          "metadata": {},
          "execution_count": 25
        }
      ],
      "source": [
        "t[1:3]"
      ]
    },
    {
      "cell_type": "code",
      "execution_count": null,
      "id": "ab2dd269",
      "metadata": {
        "id": "ab2dd269",
        "colab": {
          "base_uri": "https://localhost:8080/",
          "height": 161
        },
        "outputId": "eee44db1-6886-41ef-c8ab-a3cebdb269fd"
      },
      "outputs": [
        {
          "output_type": "error",
          "ename": "TypeError",
          "evalue": "'tuple' object does not support item assignment",
          "traceback": [
            "\u001b[0;31m---------------------------------------------------------------------------\u001b[0m",
            "\u001b[0;31mTypeError\u001b[0m                                 Traceback (most recent call last)",
            "\u001b[0;32m<ipython-input-27-eba597517669>\u001b[0m in \u001b[0;36m<cell line: 2>\u001b[0;34m()\u001b[0m\n\u001b[1;32m      1\u001b[0m \u001b[0;31m# you cannot modify a tuple\u001b[0m\u001b[0;34m\u001b[0m\u001b[0;34m\u001b[0m\u001b[0m\n\u001b[0;32m----> 2\u001b[0;31m \u001b[0mt\u001b[0m\u001b[0;34m[\u001b[0m\u001b[0;36m2\u001b[0m\u001b[0;34m]\u001b[0m \u001b[0;34m=\u001b[0m \u001b[0;34m'one'\u001b[0m\u001b[0;34m\u001b[0m\u001b[0;34m\u001b[0m\u001b[0m\n\u001b[0m",
            "\u001b[0;31mTypeError\u001b[0m: 'tuple' object does not support item assignment"
          ]
        }
      ],
      "source": [
        "# you cannot modify a tuple\n",
        "t[2] = 'one'"
      ]
    },
    {
      "cell_type": "markdown",
      "id": "46859bd8",
      "metadata": {
        "id": "46859bd8"
      },
      "source": [
        "Why use a tuple?\n",
        "Program execution is faster when manipulating a tuple than it is for the equivalent list. (This is probably not going to be noticeable when the list or tuple is small.)\n",
        "\n",
        "Sometimes you don’t want data to be modified. If the values in the collection are meant to remain constant for the life of the program, using a tuple instead of a list guards against accidental modification."
      ]
    },
    {
      "cell_type": "markdown",
      "id": "6f65270a",
      "metadata": {
        "id": "6f65270a"
      },
      "source": [
        "### Finally, dictionaries\n",
        "Dictionaries and lists share the following characteristics:\n",
        "\n",
        "- Both are mutable.\n",
        "- Both are dynamic. They can grow and shrink as needed.\n",
        "- Both can be nested. A list can contain another list. A dictionary can contain another dictionary. A dictionary can also contain a list, and vice versa.\n",
        "\n",
        "Dictionaries differ from lists primarily in how elements are accessed:\n",
        "\n",
        "- List elements are accessed by their position in the list, via indexing.\n",
        "- Dictionary elements are accessed via keys.\n",
        "\n",
        "`{key:value}`"
      ]
    },
    {
      "cell_type": "code",
      "execution_count": 2,
      "id": "a629af63",
      "metadata": {
        "id": "a629af63",
        "colab": {
          "base_uri": "https://localhost:8080/"
        },
        "outputId": "cbd79904-1642-400a-adab-96a1b8e49b94"
      },
      "outputs": [
        {
          "output_type": "execute_result",
          "data": {
            "text/plain": [
              "{'USA': 'Baseball', 'Canada': 'Hockey', 'Mexico': 'Soccer'}"
            ]
          },
          "metadata": {},
          "execution_count": 2
        }
      ],
      "source": [
        "d = {'USA': 'Baseball', 'Canada':'Hockey','Mexico': 'Soccer'}\n",
        "d"
      ]
    },
    {
      "cell_type": "code",
      "execution_count": 3,
      "id": "0fb41624",
      "metadata": {
        "id": "0fb41624",
        "colab": {
          "base_uri": "https://localhost:8080/",
          "height": 35
        },
        "outputId": "48e08498-13c6-46c7-ce75-22a39601d6ea"
      },
      "outputs": [
        {
          "output_type": "execute_result",
          "data": {
            "text/plain": [
              "'Baseball'"
            ],
            "application/vnd.google.colaboratory.intrinsic+json": {
              "type": "string"
            }
          },
          "metadata": {},
          "execution_count": 3
        }
      ],
      "source": [
        "# To access a value, call the dictionary key\n",
        "d['USA']"
      ]
    },
    {
      "cell_type": "code",
      "execution_count": 4,
      "id": "50c3d9ac",
      "metadata": {
        "id": "50c3d9ac",
        "colab": {
          "base_uri": "https://localhost:8080/"
        },
        "outputId": "65092d77-58f5-4878-afcf-a28c14526340"
      },
      "outputs": [
        {
          "output_type": "execute_result",
          "data": {
            "text/plain": [
              "{'USA': 'Football', 'Canada': 'Hockey', 'Mexico': 'Soccer'}"
            ]
          },
          "metadata": {},
          "execution_count": 4
        }
      ],
      "source": [
        "# Dictionaries can be changed\n",
        "d['USA'] = 'Football'\n",
        "d"
      ]
    },
    {
      "cell_type": "code",
      "execution_count": 5,
      "id": "f879a757",
      "metadata": {
        "id": "f879a757",
        "colab": {
          "base_uri": "https://localhost:8080/"
        },
        "outputId": "138626d7-d238-4ec8-9567-89b6d1213ae3"
      },
      "outputs": [
        {
          "output_type": "execute_result",
          "data": {
            "text/plain": [
              "{'USA': 'Football',\n",
              " 'Canada': 'Hockey',\n",
              " 'Mexico': 'Soccer',\n",
              " 'Chile': 'Bird watching'}"
            ]
          },
          "metadata": {},
          "execution_count": 5
        }
      ],
      "source": [
        "# To add a new key value just assign a new one\n",
        "d['Chile'] = 'Bird watching'\n",
        "d"
      ]
    },
    {
      "cell_type": "code",
      "execution_count": 6,
      "id": "2f1c3d60",
      "metadata": {
        "id": "2f1c3d60",
        "colab": {
          "base_uri": "https://localhost:8080/"
        },
        "outputId": "7bfcfcd4-e0cb-4f66-ae4d-efafce3de36d"
      },
      "outputs": [
        {
          "output_type": "execute_result",
          "data": {
            "text/plain": [
              "{'USA': 'Football', 'Canada': 'Hockey', 'Mexico': 'Soccer', 'Chile': 'Surfing'}"
            ]
          },
          "metadata": {},
          "execution_count": 6
        }
      ],
      "source": [
        "# Updating an entry works similarly\n",
        "d['Chile']= 'Surfing'\n",
        "d"
      ]
    },
    {
      "cell_type": "code",
      "execution_count": 7,
      "id": "7a889e3f",
      "metadata": {
        "id": "7a889e3f",
        "colab": {
          "base_uri": "https://localhost:8080/"
        },
        "outputId": "1fbca77b-b7b1-4f31-c50b-a52fae4c7daa"
      },
      "outputs": [
        {
          "output_type": "execute_result",
          "data": {
            "text/plain": [
              "{'USA': 'Football', 'Canada': 'Hockey', 'Chile': 'Surfing'}"
            ]
          },
          "metadata": {},
          "execution_count": 7
        }
      ],
      "source": [
        "# To delete an element use the del statement and the key\n",
        "del d['Mexico']\n",
        "d"
      ]
    },
    {
      "cell_type": "code",
      "execution_count": 8,
      "id": "0334f47c",
      "metadata": {
        "id": "0334f47c",
        "colab": {
          "base_uri": "https://localhost:8080/"
        },
        "outputId": "48bc97e8-842d-4d1b-ca33-00d2d8cd50d3"
      },
      "outputs": [
        {
          "output_type": "execute_result",
          "data": {
            "text/plain": [
              "{3: 'd', 2: 'c', 1: 'b', 0: 'a'}"
            ]
          },
          "metadata": {},
          "execution_count": 8
        }
      ],
      "source": [
        "# Integers can also be used as keys\n",
        "d2 = {3: 'd', 2: 'c', 1: 'b', 0: 'a'}\n",
        "d2"
      ]
    },
    {
      "cell_type": "code",
      "source": [
        "d2[0]"
      ],
      "metadata": {
        "colab": {
          "base_uri": "https://localhost:8080/",
          "height": 35
        },
        "id": "oW_OCaiDu7D-",
        "outputId": "dc5d9322-f8f1-4dab-bce1-97a6058ad7b9"
      },
      "id": "oW_OCaiDu7D-",
      "execution_count": 9,
      "outputs": [
        {
          "output_type": "execute_result",
          "data": {
            "text/plain": [
              "'a'"
            ],
            "application/vnd.google.colaboratory.intrinsic+json": {
              "type": "string"
            }
          },
          "metadata": {},
          "execution_count": 9
        }
      ]
    },
    {
      "cell_type": "code",
      "execution_count": null,
      "id": "99be702d",
      "metadata": {
        "id": "99be702d"
      },
      "outputs": [],
      "source": []
    },
    {
      "cell_type": "code",
      "execution_count": 10,
      "id": "15e701ad",
      "metadata": {
        "id": "15e701ad",
        "outputId": "76796d21-77c6-457a-98fa-6b7bdb747113",
        "colab": {
          "base_uri": "https://localhost:8080/"
        }
      },
      "outputs": [
        {
          "output_type": "execute_result",
          "data": {
            "text/plain": [
              "{'names': ['Jon', 'Bob', 'Randy'],\n",
              " 'ages': [25, 26, 27],\n",
              " 'pets': {'dog': 'Max', 'cat': 'Butter', 'turtle': 'Speedy'}}"
            ]
          },
          "metadata": {},
          "execution_count": 10
        }
      ],
      "source": [
        "d3 = {}\n",
        "\n",
        "d3['names'] = ['Jon', 'Bob', 'Randy']\n",
        "d3['ages'] = [ 25, 26, 27]\n",
        "d3['pets'] = {'dog' : 'Max', 'cat' : 'Butter', 'turtle' : 'Speedy'}\n",
        "\n",
        "d3"
      ]
    },
    {
      "cell_type": "code",
      "execution_count": 11,
      "id": "c944027e",
      "metadata": {
        "id": "c944027e",
        "colab": {
          "base_uri": "https://localhost:8080/",
          "height": 35
        },
        "outputId": "3bcb462d-1790-4351-d52e-2ae48a528332"
      },
      "outputs": [
        {
          "output_type": "execute_result",
          "data": {
            "text/plain": [
              "'Butter'"
            ],
            "application/vnd.google.colaboratory.intrinsic+json": {
              "type": "string"
            }
          },
          "metadata": {},
          "execution_count": 11
        }
      ],
      "source": [
        "# Access a nested dictionary value\n",
        "d3['pets']['cat']"
      ]
    },
    {
      "cell_type": "code",
      "execution_count": 12,
      "id": "6b9ddfa5",
      "metadata": {
        "id": "6b9ddfa5",
        "colab": {
          "base_uri": "https://localhost:8080/"
        },
        "outputId": "09a7b3b7-03f6-4f7b-da9f-30dad444e033"
      },
      "outputs": [
        {
          "output_type": "execute_result",
          "data": {
            "text/plain": [
              "27"
            ]
          },
          "metadata": {},
          "execution_count": 12
        }
      ],
      "source": [
        "# Access a nested list value\n",
        "d3['ages'][2]"
      ]
    },
    {
      "cell_type": "markdown",
      "id": "c7ee73a0",
      "metadata": {
        "id": "c7ee73a0"
      },
      "source": [
        "Some dictionary methods\n",
        "- keys()\n",
        "- values()\n",
        "- clear()\n",
        "- pop()"
      ]
    },
    {
      "cell_type": "code",
      "execution_count": 13,
      "id": "0ead69bf",
      "metadata": {
        "id": "0ead69bf",
        "colab": {
          "base_uri": "https://localhost:8080/"
        },
        "outputId": "045b4427-d99e-4abe-f2ee-ea07897a96af"
      },
      "outputs": [
        {
          "output_type": "execute_result",
          "data": {
            "text/plain": [
              "dict_keys(['names', 'ages', 'pets'])"
            ]
          },
          "metadata": {},
          "execution_count": 13
        }
      ],
      "source": [
        "# Return keys in dictionary\n",
        "d3.keys()"
      ]
    },
    {
      "cell_type": "code",
      "execution_count": 16,
      "id": "296fc747",
      "metadata": {
        "id": "296fc747",
        "colab": {
          "base_uri": "https://localhost:8080/"
        },
        "outputId": "07cabf67-726a-4987-b823-62a494bac1f4"
      },
      "outputs": [
        {
          "output_type": "execute_result",
          "data": {
            "text/plain": [
              "dict_values([['Jon', 'Bob', 'Randy'], [25, 26, 27], {'dog': 'Max', 'cat': 'Butter', 'turtle': 'Speedy'}])"
            ]
          },
          "metadata": {},
          "execution_count": 16
        }
      ],
      "source": [
        "# Return values in dictionary\n",
        "d3.values()"
      ]
    },
    {
      "cell_type": "code",
      "execution_count": 17,
      "id": "228dc067",
      "metadata": {
        "id": "228dc067",
        "colab": {
          "base_uri": "https://localhost:8080/"
        },
        "outputId": "b5d28853-af20-45ff-ab7e-bc9018382f6a"
      },
      "outputs": [
        {
          "output_type": "execute_result",
          "data": {
            "text/plain": [
              "{'dog': 'Max', 'cat': 'Butter', 'turtle': 'Speedy'}"
            ]
          },
          "metadata": {},
          "execution_count": 17
        }
      ],
      "source": [
        "d3.pop('pets')"
      ]
    },
    {
      "cell_type": "code",
      "execution_count": 18,
      "id": "119265b0",
      "metadata": {
        "id": "119265b0",
        "colab": {
          "base_uri": "https://localhost:8080/"
        },
        "outputId": "cea3b9b9-6ee7-4fe9-a488-d20dc627ae3a"
      },
      "outputs": [
        {
          "output_type": "execute_result",
          "data": {
            "text/plain": [
              "{'names': ['Jon', 'Bob', 'Randy'], 'ages': [25, 26, 27]}"
            ]
          },
          "metadata": {},
          "execution_count": 18
        }
      ],
      "source": [
        "d3"
      ]
    },
    {
      "cell_type": "code",
      "execution_count": 19,
      "id": "aec6f54e",
      "metadata": {
        "id": "aec6f54e",
        "colab": {
          "base_uri": "https://localhost:8080/"
        },
        "outputId": "8d43c2be-2900-4c95-e313-1bde0446d61d"
      },
      "outputs": [
        {
          "output_type": "execute_result",
          "data": {
            "text/plain": [
              "{}"
            ]
          },
          "metadata": {},
          "execution_count": 19
        }
      ],
      "source": [
        "# Clear a dictionary\n",
        "d3.clear()\n",
        "d3"
      ]
    },
    {
      "cell_type": "markdown",
      "id": "80ae6538",
      "metadata": {
        "id": "80ae6538"
      },
      "source": [
        "## Converting Data types\n",
        "- To convert to String `str()`\n",
        "- To convert to Integer `int()`\n",
        "- To convert to Float `float()`\n",
        "- To convert to Bool `bool()`"
      ]
    },
    {
      "cell_type": "code",
      "execution_count": 20,
      "id": "9bb3accb",
      "metadata": {
        "id": "9bb3accb",
        "colab": {
          "base_uri": "https://localhost:8080/",
          "height": 35
        },
        "outputId": "2459cf44-ab9c-4c53-ffa1-e3ecf0fa78fc"
      },
      "outputs": [
        {
          "output_type": "execute_result",
          "data": {
            "text/plain": [
              "'23'"
            ],
            "application/vnd.google.colaboratory.intrinsic+json": {
              "type": "string"
            }
          },
          "metadata": {},
          "execution_count": 20
        }
      ],
      "source": [
        "age = 23\n",
        "str(age)"
      ]
    },
    {
      "cell_type": "code",
      "execution_count": 23,
      "id": "3d5febf9",
      "metadata": {
        "id": "3d5febf9",
        "colab": {
          "base_uri": "https://localhost:8080/"
        },
        "outputId": "36994697-fe92-49a3-9952-68fb2f2c55ea"
      },
      "outputs": [
        {
          "output_type": "stream",
          "name": "stdout",
          "text": [
            "23 years old\n"
          ]
        }
      ],
      "source": [
        "print(str(age) + \" years old\")"
      ]
    },
    {
      "cell_type": "markdown",
      "id": "74e8584c",
      "metadata": {
        "id": "74e8584c"
      },
      "source": [
        "## Exercises for participation credit\n",
        "Please complete the following exercises and upload your completed notebook to your Github repository for participation credit.\n",
        "\n",
        "We can use `input()` to catch input from the user. This is a string type variable."
      ]
    },
    {
      "cell_type": "code",
      "execution_count": null,
      "id": "311dbb98",
      "metadata": {
        "id": "311dbb98",
        "outputId": "bb5129ae-6ea0-44b1-95d8-cb669642a888",
        "colab": {
          "base_uri": "https://localhost:8080/"
        }
      },
      "outputs": [
        {
          "output_type": "stream",
          "name": "stdout",
          "text": [
            "Enter your value 8\n",
            "8\n"
          ]
        }
      ],
      "source": [
        "x = input('Enter your value ')\n",
        "print(x)"
      ]
    },
    {
      "cell_type": "markdown",
      "id": "d21d74a0",
      "metadata": {
        "id": "d21d74a0"
      },
      "source": [
        "1. Write a code that gets two integers from the user. Save the first input as `a` and the second value as `b`. Run and print the following operations:\n",
        " - a + b\n",
        " - a - b\n",
        " - a * b\n",
        " - a ** b\n",
        " - a / b"
      ]
    },
    {
      "cell_type": "code",
      "source": [
        "\n",
        "a = input('a =')\n",
        "\n",
        "b = input('b =')\n",
        "\n",
        "add = int(a) + int(b)\n",
        "\n",
        "sub = int(a) - int(b)\n",
        "\n",
        "multiply = int(a) * int(b)\n",
        "\n",
        "exp = int(a) ** int(b)\n",
        "\n",
        "div = int(a) / int(b)\n",
        "\n",
        "\n",
        "\n",
        "print('sum:',add)\n",
        "print('difference:',sub)\n",
        "print('product:',multiply)\n",
        "print('power', exp)\n",
        "print('quotient:',div)\n",
        "\n"
      ],
      "metadata": {
        "id": "yYD3KSmBKlcU"
      },
      "id": "yYD3KSmBKlcU",
      "execution_count": null,
      "outputs": []
    },
    {
      "cell_type": "markdown",
      "id": "c9cf9f05",
      "metadata": {
        "id": "c9cf9f05"
      },
      "source": [
        "2. Reverse this list aList = [100, 200, 300, 400, 500]. Expected result = [500, 400, 300, 200, 100]"
      ]
    },
    {
      "cell_type": "code",
      "source": [
        "aList = [100,200,300,400,500]\n",
        "\n",
        "print(aList[5::-1])\n"
      ],
      "metadata": {
        "id": "pukO318uKrHU"
      },
      "id": "pukO318uKrHU",
      "execution_count": null,
      "outputs": []
    },
    {
      "cell_type": "markdown",
      "id": "7793dda3",
      "metadata": {
        "id": "7793dda3"
      },
      "source": [
        "3. Create the following list ` ['My', 'name', 'is', 'Kelly']`\n",
        "\n",
        "Using only these two lists:\n",
        "- `list1 = [\"M\", \"na\", \"i\", \"Ke\"]`\n",
        "- `list2 = [\"y\", \"me\", \"s\", \"lly\"]`"
      ]
    },
    {
      "cell_type": "code",
      "source": [
        "list1 = [\"M\", \"na\", \"i\", \"Ke\"]\n",
        "list2 = [\"y\", \"me\", \"s\", \"lly\"]\n",
        "\n",
        "list3 = [(list1[0]+list2[0]),(list1[1]+list2[1]),(list1[2]+list2[2]),(list1[3]+list2[3])]\n",
        "\n",
        "print(list3)"
      ],
      "metadata": {
        "id": "dG8M0M4-KvBv"
      },
      "id": "dG8M0M4-KvBv",
      "execution_count": null,
      "outputs": []
    },
    {
      "cell_type": "markdown",
      "id": "e9f296ee",
      "metadata": {
        "id": "e9f296ee"
      },
      "source": [
        "4. Split the following list in 3 equal sized lists. Invert the the new lists\n",
        "- Original list [11, 45, 8, 23, 14, 12, 78, 45, 89]\n",
        "\n",
        "\n",
        "- Chunk 1 [11, 45, 8]\n",
        "\n",
        "After reversing it [8, 45, 11]\n",
        "\n",
        "- Chunk 2 [23, 14, 12]\n",
        "\n",
        "After reversing it [12, 14, 23]\n",
        "\n",
        "- Chunk 3 [78, 45, 89]\n",
        "\n",
        "After reversing it [89, 45, 78]"
      ]
    },
    {
      "cell_type": "code",
      "execution_count": 31,
      "id": "b02e2848",
      "metadata": {
        "id": "b02e2848",
        "colab": {
          "base_uri": "https://localhost:8080/"
        },
        "outputId": "b45190ef-1561-41c8-81d5-b4d56555054e"
      },
      "outputs": [
        {
          "output_type": "stream",
          "name": "stdout",
          "text": [
            "[8, 45, 11]\n",
            "[12, 14, 23]\n",
            "[89, 45, 78]\n"
          ]
        }
      ],
      "source": [
        "\n",
        "olist = [11, 45, 8, 23, 14, 12, 78, 45, 89]\n",
        "\n",
        "#chunk 1\n",
        "olist1 = olist[0:3]\n",
        "olist1.reverse()\n",
        "\n",
        "#chunk 2\n",
        "olist2= olist[3:6]\n",
        "olist2.reverse()\n",
        "\n",
        "#chunk3\n",
        "olist3= olist[6:9]\n",
        "olist3.reverse()\n",
        "\n",
        "print(olist1)\n",
        "print(olist2)\n",
        "print(olist3)"
      ]
    }
  ],
  "metadata": {
    "kernelspec": {
      "display_name": "Python 3 (ipykernel)",
      "language": "python",
      "name": "python3"
    },
    "language_info": {
      "codemirror_mode": {
        "name": "ipython",
        "version": 3
      },
      "file_extension": ".py",
      "mimetype": "text/x-python",
      "name": "python",
      "nbconvert_exporter": "python",
      "pygments_lexer": "ipython3",
      "version": "3.10.4"
    },
    "colab": {
      "provenance": [],
      "include_colab_link": true
    }
  },
  "nbformat": 4,
  "nbformat_minor": 5
}