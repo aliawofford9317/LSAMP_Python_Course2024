{
  "nbformat": 4,
  "nbformat_minor": 0,
  "metadata": {
    "colab": {
      "provenance": [],
      "authorship_tag": "ABX9TyN+qNT9VKh0eu9plwifdp/X",
      "include_colab_link": true
    },
    "kernelspec": {
      "name": "python3",
      "display_name": "Python 3"
    },
    "language_info": {
      "name": "python"
    }
  },
  "cells": [
    {
      "cell_type": "markdown",
      "metadata": {
        "id": "view-in-github",
        "colab_type": "text"
      },
      "source": [
        "<a href=\"https://colab.research.google.com/github/aliawofford9317/LSAMP_Python_Course2024/blob/DanielaaVargas/Lesson_2_Exercises.ipynb\" target=\"_parent\"><img src=\"https://colab.research.google.com/assets/colab-badge.svg\" alt=\"Open In Colab\"/></a>"
      ]
    },
    {
      "cell_type": "markdown",
      "source": [
        "# **Optional Exercise 1**\n",
        "1.   Create a for loop that prints numbers from 1 to 20 in increments of 2 e.g. 2, 4, 6, 8, ...\n",
        "2.   Create a for loop that prints from a list of words in a list. Create a second nested for loop that prints another word from a second list. Every word should from the first list shall be printed with every other word from the second list.\n",
        "\n",
        "(Tip: You may want to use range(len(list_a)) to iterate over the length of the list.\n",
        "\n",
        "Example output for exercise 2:\n",
        "\n",
        "chicken sandwich chicken waffles chicken pizza chicken burrito...\n",
        "\n",
        "veggie sandwich veggie waffles veggie pizza veggie burrito...)"
      ],
      "metadata": {
        "id": "j2Ryon7Zbnr6"
      }
    },
    {
      "cell_type": "code",
      "source": [
        "numbers = []\n",
        "\n",
        "for number in range (0,21,2):\n",
        "  numbers.append(number)\n",
        "numbers"
      ],
      "metadata": {
        "colab": {
          "base_uri": "https://localhost:8080/"
        },
        "id": "3nckSkekbzyd",
        "outputId": "54a0de35-7ae3-4bd5-c978-90a68c3ef9a0"
      },
      "execution_count": 8,
      "outputs": [
        {
          "output_type": "execute_result",
          "data": {
            "text/plain": [
              "[0, 2, 4, 6, 8, 10, 12, 14, 16, 18, 20]"
            ]
          },
          "metadata": {},
          "execution_count": 8
        }
      ]
    },
    {
      "cell_type": "code",
      "source": [
        "list_a = [\"chicken\", \"veggie\", \"meat\", \"ham\", \"cheese\", \"beef\", \"chocolate\"]\n",
        "list_b = [\"sandwich\", \"waffles\", \"pizza\", \"burrito\", \"soup\", \"salad\", \"smoothie\"]\n",
        "\n",
        "n=0\n",
        "for item in list_a:\n",
        "  for n in range(len(list_a)):\n",
        "    print(item, list_b[n])\n",
        "    n += 1"
      ],
      "metadata": {
        "colab": {
          "base_uri": "https://localhost:8080/"
        },
        "id": "4dccPATmgGMo",
        "outputId": "5d28a5b6-3c26-4396-d71f-8fd20e7212b9"
      },
      "execution_count": 19,
      "outputs": [
        {
          "output_type": "stream",
          "name": "stdout",
          "text": [
            "chicken sandwich\n",
            "chicken waffles\n",
            "chicken pizza\n",
            "chicken burrito\n",
            "chicken soup\n",
            "chicken salad\n",
            "chicken smoothie\n",
            "veggie sandwich\n",
            "veggie waffles\n",
            "veggie pizza\n",
            "veggie burrito\n",
            "veggie soup\n",
            "veggie salad\n",
            "veggie smoothie\n",
            "meat sandwich\n",
            "meat waffles\n",
            "meat pizza\n",
            "meat burrito\n",
            "meat soup\n",
            "meat salad\n",
            "meat smoothie\n",
            "ham sandwich\n",
            "ham waffles\n",
            "ham pizza\n",
            "ham burrito\n",
            "ham soup\n",
            "ham salad\n",
            "ham smoothie\n",
            "cheese sandwich\n",
            "cheese waffles\n",
            "cheese pizza\n",
            "cheese burrito\n",
            "cheese soup\n",
            "cheese salad\n",
            "cheese smoothie\n",
            "beef sandwich\n",
            "beef waffles\n",
            "beef pizza\n",
            "beef burrito\n",
            "beef soup\n",
            "beef salad\n",
            "beef smoothie\n",
            "chocolate sandwich\n",
            "chocolate waffles\n",
            "chocolate pizza\n",
            "chocolate burrito\n",
            "chocolate soup\n",
            "chocolate salad\n",
            "chocolate smoothie\n"
          ]
        }
      ]
    },
    {
      "cell_type": "markdown",
      "source": [
        "# **Optional Exercise 2**\n",
        "Write a program that takes two integer numbers and determines if the numbers are odd or even. Remember the input() and % function and operator.\n",
        "\n",
        "Additional exercise: do the same computation as above, but for a list of numbers using a for loop and if statements."
      ],
      "metadata": {
        "id": "pXc2fMmAb-9M"
      }
    },
    {
      "cell_type": "code",
      "source": [
        "int1 = int(input())\n",
        "int2 = int(input())\n",
        "\n",
        "if int1 % 2 == 0:\n",
        "  print('The first number is even')\n",
        "else:\n",
        "  print('The first number is odd')\n",
        "\n",
        "if int2 % 2 == 0:\n",
        "  print('The second number is even')\n",
        "else:\n",
        "  print('The second number is odd')"
      ],
      "metadata": {
        "colab": {
          "base_uri": "https://localhost:8080/"
        },
        "id": "aosHff0vcIfN",
        "outputId": "2eba6bd9-78e2-453c-fe83-d85df93e08fa"
      },
      "execution_count": 22,
      "outputs": [
        {
          "output_type": "stream",
          "name": "stdout",
          "text": [
            "0\n",
            "19\n",
            "The first number is even\n",
            "The second number is odd\n"
          ]
        }
      ]
    },
    {
      "cell_type": "code",
      "source": [
        "numbers = []\n",
        "length = int(input('How many numbers do you want to introduce? '))\n",
        "n=1\n",
        "for n in range(1,length+1):\n",
        "  item = int(input())\n",
        "  numbers.append(item)\n",
        "  n += 1\n",
        "\n",
        "for item in numbers:\n",
        "  if item % 2 ==0:\n",
        "    print(f'\\n{item} is even')\n",
        "  else:\n",
        "    print(f'\\n{item} is odd')"
      ],
      "metadata": {
        "colab": {
          "base_uri": "https://localhost:8080/"
        },
        "id": "HhR_aoClcO_0",
        "outputId": "db331133-e910-4407-de09-c2ac74009f08"
      },
      "execution_count": 32,
      "outputs": [
        {
          "output_type": "stream",
          "name": "stdout",
          "text": [
            "How many numbers do you want to introduce? 1\n",
            "1\n",
            "\n",
            "1 is odd\n"
          ]
        }
      ]
    },
    {
      "cell_type": "markdown",
      "source": [
        "# **Exercises for participation credit**\n",
        "Please complete the following exercises and upload your completed notebook to your Github repository for participation credit.\n",
        "\n",
        "* Write a for loop that adds all numbers from 1 to 100\n",
        "* Using the list lst1=[\"Joe\", \"Sarah\", \"Mike\", \"Jess\", \"\", \"Matt\", \"\", \"Greg\"] create a second list called lst2, iterate through the list and add the names to lst2 only if the element is different to an empty string.\n",
        "* Take 3 numbers from the user using input() save the numbers to a list Take 3 more numbers from the user and save it to a second list. Iterate over both lists and multiply every number on the first list over every other number on the second list. Print the multiplication result only if the result is an even number, else print the words The result is odd."
      ],
      "metadata": {
        "id": "7VBH6ervcPYJ"
      }
    },
    {
      "cell_type": "code",
      "source": [
        "Numbers = []\n",
        "for i in range(1,101):\n",
        "  Numbers.append(i)\n",
        "Sum = sum(Numbers)\n",
        "print('The sum of numbers from 1 to 100 is: ', Sum)"
      ],
      "metadata": {
        "colab": {
          "base_uri": "https://localhost:8080/"
        },
        "id": "xmzzMamecUv5",
        "outputId": "b7bea3e3-d658-4b4e-d293-6b1e098c136e"
      },
      "execution_count": 36,
      "outputs": [
        {
          "output_type": "stream",
          "name": "stdout",
          "text": [
            "The sum of numbers from 1 to 100 is:  5050\n"
          ]
        }
      ]
    },
    {
      "cell_type": "code",
      "source": [
        "lst1 = [\"Joe\", \"Sarah\", \"Mike\", \"Jess\", \"\", \"Matt\", \"\", \"Greg\"]\n",
        "lst2 = []\n",
        "\n",
        "for element in lst1:\n",
        "  if element != \"\":\n",
        "    lst2.append(element)\n",
        "lst2"
      ],
      "metadata": {
        "colab": {
          "base_uri": "https://localhost:8080/"
        },
        "id": "nS4WfPO3os2g",
        "outputId": "f5bf8fdc-28a0-4cf5-8272-5895578b85f1"
      },
      "execution_count": 37,
      "outputs": [
        {
          "output_type": "execute_result",
          "data": {
            "text/plain": [
              "['Joe', 'Sarah', 'Mike', 'Jess', 'Matt', 'Greg']"
            ]
          },
          "metadata": {},
          "execution_count": 37
        }
      ]
    },
    {
      "cell_type": "code",
      "source": [
        "list_1 = []\n",
        "list_2 = []\n",
        "\n",
        "for n in range (1,4):\n",
        "  num = int(input())\n",
        "  list_1.append(num)\n",
        "  n += 1\n",
        "print(list_1)\n",
        "\n",
        "for n in range (1,4):\n",
        "  num = int(input())\n",
        "  list_2.append(num)\n",
        "  n += 1\n",
        "print(list_2)"
      ],
      "metadata": {
        "colab": {
          "base_uri": "https://localhost:8080/"
        },
        "id": "DWG_OcNfpWTM",
        "outputId": "79c8737a-f871-4835-e299-ee92426558fe"
      },
      "execution_count": 55,
      "outputs": [
        {
          "output_type": "stream",
          "name": "stdout",
          "text": [
            "24\n",
            "245\n",
            "0\n",
            "[24, 245, 0]\n",
            "24\n",
            "53\n",
            "45\n",
            "[24, 53, 45]\n"
          ]
        }
      ]
    },
    {
      "cell_type": "code",
      "source": [
        "for item in range(len(list_1)):\n",
        "  product = list_1[item]*list_2[item]\n",
        "  if product % 2 == 0:\n",
        "    print(product)\n",
        "  else:\n",
        "    print('The result is odd')"
      ],
      "metadata": {
        "colab": {
          "base_uri": "https://localhost:8080/"
        },
        "id": "ccqfxS5otIfE",
        "outputId": "fce36ee8-b57c-438c-8847-c1b4cffb094f"
      },
      "execution_count": 56,
      "outputs": [
        {
          "output_type": "stream",
          "name": "stdout",
          "text": [
            "576\n",
            "The result is odd\n",
            "0\n"
          ]
        }
      ]
    }
  ]
}