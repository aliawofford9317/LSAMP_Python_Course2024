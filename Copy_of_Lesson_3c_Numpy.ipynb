{
  "cells": [
    {
      "cell_type": "markdown",
      "metadata": {
        "id": "view-in-github",
        "colab_type": "text"
      },
      "source": [
        "<a href=\"https://colab.research.google.com/github/aliawofford9317/LSAMP_Python_Course2024/blob/Lucilla/Copy_of_Lesson_3c_Numpy.ipynb\" target=\"_parent\"><img src=\"https://colab.research.google.com/assets/colab-badge.svg\" alt=\"Open In Colab\"/></a>"
      ]
    },
    {
      "cell_type": "markdown",
      "id": "33e7cd2d",
      "metadata": {
        "id": "33e7cd2d"
      },
      "source": [
        "## Numpy\n",
        "\n",
        "Numpy is a numerical library that makes it easy to work with big arrays and matrices.\n",
        "\n",
        "It can be used to make fast arithmetic operations with matrixes. Pandas and Numpy are usually used together, as Pandas builds on NumPy functionality to work with DataFrames.\n",
        "\n",
        "Since Pandas is designed to work with Numpy, almost any Numpy function will work with Pandas Series and DataFrames, lets run some examples."
      ]
    },
    {
      "cell_type": "code",
      "execution_count": 1,
      "id": "aa244662",
      "metadata": {
        "id": "aa244662"
      },
      "outputs": [],
      "source": [
        "import numpy as np\n",
        "import pandas as pd"
      ]
    },
    {
      "cell_type": "code",
      "source": [
        "def fetch_data():\n",
        "  import os, shutil\n",
        "  cwd = os.getcwd()\n",
        "  if os.path.exists(\"LSAMP_Python_Course2024\"):\n",
        "    shutil.rmtree(\"LSAMP_Python_Course2024\")\n",
        "  !git clone https://github.com/aliawofford9317/LSAMP_Python_Course2024.git\n",
        "  for file in os.listdir(\"LSAMP_Python_Course2024\"):\n",
        "    if file.endswith((\".txt\",\".csv\")):\n",
        "      shutil.copy(\"LSAMP_Python_Course2024/{}\".format(file),cwd)\n",
        "fetch_data()"
      ],
      "metadata": {
        "id": "zxMPiQt6DQdS",
        "colab": {
          "base_uri": "https://localhost:8080/"
        },
        "outputId": "80ee19b2-8305-4359-da9d-674a7e6479bc"
      },
      "id": "zxMPiQt6DQdS",
      "execution_count": 2,
      "outputs": [
        {
          "output_type": "stream",
          "name": "stdout",
          "text": [
            "Cloning into 'LSAMP_Python_Course2024'...\n",
            "remote: Enumerating objects: 237, done.\u001b[K\n",
            "remote: Counting objects: 100% (167/167), done.\u001b[K\n",
            "remote: Compressing objects: 100% (99/99), done.\u001b[K\n",
            "remote: Total 237 (delta 94), reused 123 (delta 65), pack-reused 70\u001b[K\n",
            "Receiving objects: 100% (237/237), 2.58 MiB | 7.44 MiB/s, done.\n",
            "Resolving deltas: 100% (130/130), done.\n"
          ]
        }
      ]
    },
    {
      "cell_type": "code",
      "execution_count": 3,
      "id": "e43fd3b8",
      "metadata": {
        "id": "e43fd3b8",
        "colab": {
          "base_uri": "https://localhost:8080/"
        },
        "outputId": "a936f456-b80e-4efd-8886-d5448d427e74"
      },
      "outputs": [
        {
          "output_type": "execute_result",
          "data": {
            "text/plain": [
              "0    8\n",
              "1    5\n",
              "2    1\n",
              "3    4\n",
              "dtype: int64"
            ]
          },
          "metadata": {},
          "execution_count": 3
        }
      ],
      "source": [
        "# Create a container for a pseudo random generator\n",
        "rng = np.random.RandomState()\n",
        "# Create a Pandas Series from our random generator\n",
        "series = pd.Series(rng.randint(0, 10, 4))\n",
        "series"
      ]
    },
    {
      "cell_type": "code",
      "execution_count": 4,
      "id": "232435b3",
      "metadata": {
        "id": "232435b3",
        "colab": {
          "base_uri": "https://localhost:8080/",
          "height": 142
        },
        "outputId": "d5cb2c35-07b9-4497-e292-4b299dbb9c40"
      },
      "outputs": [
        {
          "output_type": "execute_result",
          "data": {
            "text/plain": [
              "   A  B  C  D\n",
              "0  5  8  0  6\n",
              "1  4  1  5  2\n",
              "2  2  2  9  7"
            ],
            "text/html": [
              "\n",
              "  <div id=\"df-49a5b1b4-7d37-410d-bb32-9243572d15f0\" class=\"colab-df-container\">\n",
              "    <div>\n",
              "<style scoped>\n",
              "    .dataframe tbody tr th:only-of-type {\n",
              "        vertical-align: middle;\n",
              "    }\n",
              "\n",
              "    .dataframe tbody tr th {\n",
              "        vertical-align: top;\n",
              "    }\n",
              "\n",
              "    .dataframe thead th {\n",
              "        text-align: right;\n",
              "    }\n",
              "</style>\n",
              "<table border=\"1\" class=\"dataframe\">\n",
              "  <thead>\n",
              "    <tr style=\"text-align: right;\">\n",
              "      <th></th>\n",
              "      <th>A</th>\n",
              "      <th>B</th>\n",
              "      <th>C</th>\n",
              "      <th>D</th>\n",
              "    </tr>\n",
              "  </thead>\n",
              "  <tbody>\n",
              "    <tr>\n",
              "      <th>0</th>\n",
              "      <td>5</td>\n",
              "      <td>8</td>\n",
              "      <td>0</td>\n",
              "      <td>6</td>\n",
              "    </tr>\n",
              "    <tr>\n",
              "      <th>1</th>\n",
              "      <td>4</td>\n",
              "      <td>1</td>\n",
              "      <td>5</td>\n",
              "      <td>2</td>\n",
              "    </tr>\n",
              "    <tr>\n",
              "      <th>2</th>\n",
              "      <td>2</td>\n",
              "      <td>2</td>\n",
              "      <td>9</td>\n",
              "      <td>7</td>\n",
              "    </tr>\n",
              "  </tbody>\n",
              "</table>\n",
              "</div>\n",
              "    <div class=\"colab-df-buttons\">\n",
              "\n",
              "  <div class=\"colab-df-container\">\n",
              "    <button class=\"colab-df-convert\" onclick=\"convertToInteractive('df-49a5b1b4-7d37-410d-bb32-9243572d15f0')\"\n",
              "            title=\"Convert this dataframe to an interactive table.\"\n",
              "            style=\"display:none;\">\n",
              "\n",
              "  <svg xmlns=\"http://www.w3.org/2000/svg\" height=\"24px\" viewBox=\"0 -960 960 960\">\n",
              "    <path d=\"M120-120v-720h720v720H120Zm60-500h600v-160H180v160Zm220 220h160v-160H400v160Zm0 220h160v-160H400v160ZM180-400h160v-160H180v160Zm440 0h160v-160H620v160ZM180-180h160v-160H180v160Zm440 0h160v-160H620v160Z\"/>\n",
              "  </svg>\n",
              "    </button>\n",
              "\n",
              "  <style>\n",
              "    .colab-df-container {\n",
              "      display:flex;\n",
              "      gap: 12px;\n",
              "    }\n",
              "\n",
              "    .colab-df-convert {\n",
              "      background-color: #E8F0FE;\n",
              "      border: none;\n",
              "      border-radius: 50%;\n",
              "      cursor: pointer;\n",
              "      display: none;\n",
              "      fill: #1967D2;\n",
              "      height: 32px;\n",
              "      padding: 0 0 0 0;\n",
              "      width: 32px;\n",
              "    }\n",
              "\n",
              "    .colab-df-convert:hover {\n",
              "      background-color: #E2EBFA;\n",
              "      box-shadow: 0px 1px 2px rgba(60, 64, 67, 0.3), 0px 1px 3px 1px rgba(60, 64, 67, 0.15);\n",
              "      fill: #174EA6;\n",
              "    }\n",
              "\n",
              "    .colab-df-buttons div {\n",
              "      margin-bottom: 4px;\n",
              "    }\n",
              "\n",
              "    [theme=dark] .colab-df-convert {\n",
              "      background-color: #3B4455;\n",
              "      fill: #D2E3FC;\n",
              "    }\n",
              "\n",
              "    [theme=dark] .colab-df-convert:hover {\n",
              "      background-color: #434B5C;\n",
              "      box-shadow: 0px 1px 3px 1px rgba(0, 0, 0, 0.15);\n",
              "      filter: drop-shadow(0px 1px 2px rgba(0, 0, 0, 0.3));\n",
              "      fill: #FFFFFF;\n",
              "    }\n",
              "  </style>\n",
              "\n",
              "    <script>\n",
              "      const buttonEl =\n",
              "        document.querySelector('#df-49a5b1b4-7d37-410d-bb32-9243572d15f0 button.colab-df-convert');\n",
              "      buttonEl.style.display =\n",
              "        google.colab.kernel.accessAllowed ? 'block' : 'none';\n",
              "\n",
              "      async function convertToInteractive(key) {\n",
              "        const element = document.querySelector('#df-49a5b1b4-7d37-410d-bb32-9243572d15f0');\n",
              "        const dataTable =\n",
              "          await google.colab.kernel.invokeFunction('convertToInteractive',\n",
              "                                                    [key], {});\n",
              "        if (!dataTable) return;\n",
              "\n",
              "        const docLinkHtml = 'Like what you see? Visit the ' +\n",
              "          '<a target=\"_blank\" href=https://colab.research.google.com/notebooks/data_table.ipynb>data table notebook</a>'\n",
              "          + ' to learn more about interactive tables.';\n",
              "        element.innerHTML = '';\n",
              "        dataTable['output_type'] = 'display_data';\n",
              "        await google.colab.output.renderOutput(dataTable, element);\n",
              "        const docLink = document.createElement('div');\n",
              "        docLink.innerHTML = docLinkHtml;\n",
              "        element.appendChild(docLink);\n",
              "      }\n",
              "    </script>\n",
              "  </div>\n",
              "\n",
              "\n",
              "<div id=\"df-089473f3-a083-4f25-9072-b33310a20bca\">\n",
              "  <button class=\"colab-df-quickchart\" onclick=\"quickchart('df-089473f3-a083-4f25-9072-b33310a20bca')\"\n",
              "            title=\"Suggest charts\"\n",
              "            style=\"display:none;\">\n",
              "\n",
              "<svg xmlns=\"http://www.w3.org/2000/svg\" height=\"24px\"viewBox=\"0 0 24 24\"\n",
              "     width=\"24px\">\n",
              "    <g>\n",
              "        <path d=\"M19 3H5c-1.1 0-2 .9-2 2v14c0 1.1.9 2 2 2h14c1.1 0 2-.9 2-2V5c0-1.1-.9-2-2-2zM9 17H7v-7h2v7zm4 0h-2V7h2v10zm4 0h-2v-4h2v4z\"/>\n",
              "    </g>\n",
              "</svg>\n",
              "  </button>\n",
              "\n",
              "<style>\n",
              "  .colab-df-quickchart {\n",
              "      --bg-color: #E8F0FE;\n",
              "      --fill-color: #1967D2;\n",
              "      --hover-bg-color: #E2EBFA;\n",
              "      --hover-fill-color: #174EA6;\n",
              "      --disabled-fill-color: #AAA;\n",
              "      --disabled-bg-color: #DDD;\n",
              "  }\n",
              "\n",
              "  [theme=dark] .colab-df-quickchart {\n",
              "      --bg-color: #3B4455;\n",
              "      --fill-color: #D2E3FC;\n",
              "      --hover-bg-color: #434B5C;\n",
              "      --hover-fill-color: #FFFFFF;\n",
              "      --disabled-bg-color: #3B4455;\n",
              "      --disabled-fill-color: #666;\n",
              "  }\n",
              "\n",
              "  .colab-df-quickchart {\n",
              "    background-color: var(--bg-color);\n",
              "    border: none;\n",
              "    border-radius: 50%;\n",
              "    cursor: pointer;\n",
              "    display: none;\n",
              "    fill: var(--fill-color);\n",
              "    height: 32px;\n",
              "    padding: 0;\n",
              "    width: 32px;\n",
              "  }\n",
              "\n",
              "  .colab-df-quickchart:hover {\n",
              "    background-color: var(--hover-bg-color);\n",
              "    box-shadow: 0 1px 2px rgba(60, 64, 67, 0.3), 0 1px 3px 1px rgba(60, 64, 67, 0.15);\n",
              "    fill: var(--button-hover-fill-color);\n",
              "  }\n",
              "\n",
              "  .colab-df-quickchart-complete:disabled,\n",
              "  .colab-df-quickchart-complete:disabled:hover {\n",
              "    background-color: var(--disabled-bg-color);\n",
              "    fill: var(--disabled-fill-color);\n",
              "    box-shadow: none;\n",
              "  }\n",
              "\n",
              "  .colab-df-spinner {\n",
              "    border: 2px solid var(--fill-color);\n",
              "    border-color: transparent;\n",
              "    border-bottom-color: var(--fill-color);\n",
              "    animation:\n",
              "      spin 1s steps(1) infinite;\n",
              "  }\n",
              "\n",
              "  @keyframes spin {\n",
              "    0% {\n",
              "      border-color: transparent;\n",
              "      border-bottom-color: var(--fill-color);\n",
              "      border-left-color: var(--fill-color);\n",
              "    }\n",
              "    20% {\n",
              "      border-color: transparent;\n",
              "      border-left-color: var(--fill-color);\n",
              "      border-top-color: var(--fill-color);\n",
              "    }\n",
              "    30% {\n",
              "      border-color: transparent;\n",
              "      border-left-color: var(--fill-color);\n",
              "      border-top-color: var(--fill-color);\n",
              "      border-right-color: var(--fill-color);\n",
              "    }\n",
              "    40% {\n",
              "      border-color: transparent;\n",
              "      border-right-color: var(--fill-color);\n",
              "      border-top-color: var(--fill-color);\n",
              "    }\n",
              "    60% {\n",
              "      border-color: transparent;\n",
              "      border-right-color: var(--fill-color);\n",
              "    }\n",
              "    80% {\n",
              "      border-color: transparent;\n",
              "      border-right-color: var(--fill-color);\n",
              "      border-bottom-color: var(--fill-color);\n",
              "    }\n",
              "    90% {\n",
              "      border-color: transparent;\n",
              "      border-bottom-color: var(--fill-color);\n",
              "    }\n",
              "  }\n",
              "</style>\n",
              "\n",
              "  <script>\n",
              "    async function quickchart(key) {\n",
              "      const quickchartButtonEl =\n",
              "        document.querySelector('#' + key + ' button');\n",
              "      quickchartButtonEl.disabled = true;  // To prevent multiple clicks.\n",
              "      quickchartButtonEl.classList.add('colab-df-spinner');\n",
              "      try {\n",
              "        const charts = await google.colab.kernel.invokeFunction(\n",
              "            'suggestCharts', [key], {});\n",
              "      } catch (error) {\n",
              "        console.error('Error during call to suggestCharts:', error);\n",
              "      }\n",
              "      quickchartButtonEl.classList.remove('colab-df-spinner');\n",
              "      quickchartButtonEl.classList.add('colab-df-quickchart-complete');\n",
              "    }\n",
              "    (() => {\n",
              "      let quickchartButtonEl =\n",
              "        document.querySelector('#df-089473f3-a083-4f25-9072-b33310a20bca button');\n",
              "      quickchartButtonEl.style.display =\n",
              "        google.colab.kernel.accessAllowed ? 'block' : 'none';\n",
              "    })();\n",
              "  </script>\n",
              "</div>\n",
              "\n",
              "  <div id=\"id_db846cf2-04a2-4646-b660-081d738b850c\">\n",
              "    <style>\n",
              "      .colab-df-generate {\n",
              "        background-color: #E8F0FE;\n",
              "        border: none;\n",
              "        border-radius: 50%;\n",
              "        cursor: pointer;\n",
              "        display: none;\n",
              "        fill: #1967D2;\n",
              "        height: 32px;\n",
              "        padding: 0 0 0 0;\n",
              "        width: 32px;\n",
              "      }\n",
              "\n",
              "      .colab-df-generate:hover {\n",
              "        background-color: #E2EBFA;\n",
              "        box-shadow: 0px 1px 2px rgba(60, 64, 67, 0.3), 0px 1px 3px 1px rgba(60, 64, 67, 0.15);\n",
              "        fill: #174EA6;\n",
              "      }\n",
              "\n",
              "      [theme=dark] .colab-df-generate {\n",
              "        background-color: #3B4455;\n",
              "        fill: #D2E3FC;\n",
              "      }\n",
              "\n",
              "      [theme=dark] .colab-df-generate:hover {\n",
              "        background-color: #434B5C;\n",
              "        box-shadow: 0px 1px 3px 1px rgba(0, 0, 0, 0.15);\n",
              "        filter: drop-shadow(0px 1px 2px rgba(0, 0, 0, 0.3));\n",
              "        fill: #FFFFFF;\n",
              "      }\n",
              "    </style>\n",
              "    <button class=\"colab-df-generate\" onclick=\"generateWithVariable('df')\"\n",
              "            title=\"Generate code using this dataframe.\"\n",
              "            style=\"display:none;\">\n",
              "\n",
              "  <svg xmlns=\"http://www.w3.org/2000/svg\" height=\"24px\"viewBox=\"0 0 24 24\"\n",
              "       width=\"24px\">\n",
              "    <path d=\"M7,19H8.4L18.45,9,17,7.55,7,17.6ZM5,21V16.75L18.45,3.32a2,2,0,0,1,2.83,0l1.4,1.43a1.91,1.91,0,0,1,.58,1.4,1.91,1.91,0,0,1-.58,1.4L9.25,21ZM18.45,9,17,7.55Zm-12,3A5.31,5.31,0,0,0,4.9,8.1,5.31,5.31,0,0,0,1,6.5,5.31,5.31,0,0,0,4.9,4.9,5.31,5.31,0,0,0,6.5,1,5.31,5.31,0,0,0,8.1,4.9,5.31,5.31,0,0,0,12,6.5,5.46,5.46,0,0,0,6.5,12Z\"/>\n",
              "  </svg>\n",
              "    </button>\n",
              "    <script>\n",
              "      (() => {\n",
              "      const buttonEl =\n",
              "        document.querySelector('#id_db846cf2-04a2-4646-b660-081d738b850c button.colab-df-generate');\n",
              "      buttonEl.style.display =\n",
              "        google.colab.kernel.accessAllowed ? 'block' : 'none';\n",
              "\n",
              "      buttonEl.onclick = () => {\n",
              "        google.colab.notebook.generateWithVariable('df');\n",
              "      }\n",
              "      })();\n",
              "    </script>\n",
              "  </div>\n",
              "\n",
              "    </div>\n",
              "  </div>\n"
            ],
            "application/vnd.google.colaboratory.intrinsic+json": {
              "type": "dataframe",
              "variable_name": "df",
              "summary": "{\n  \"name\": \"df\",\n  \"rows\": 3,\n  \"fields\": [\n    {\n      \"column\": \"A\",\n      \"properties\": {\n        \"dtype\": \"number\",\n        \"std\": 1,\n        \"min\": 2,\n        \"max\": 5,\n        \"num_unique_values\": 3,\n        \"samples\": [\n          5,\n          4,\n          2\n        ],\n        \"semantic_type\": \"\",\n        \"description\": \"\"\n      }\n    },\n    {\n      \"column\": \"B\",\n      \"properties\": {\n        \"dtype\": \"number\",\n        \"std\": 3,\n        \"min\": 1,\n        \"max\": 8,\n        \"num_unique_values\": 3,\n        \"samples\": [\n          8,\n          1,\n          2\n        ],\n        \"semantic_type\": \"\",\n        \"description\": \"\"\n      }\n    },\n    {\n      \"column\": \"C\",\n      \"properties\": {\n        \"dtype\": \"number\",\n        \"std\": 4,\n        \"min\": 0,\n        \"max\": 9,\n        \"num_unique_values\": 3,\n        \"samples\": [\n          0,\n          5,\n          9\n        ],\n        \"semantic_type\": \"\",\n        \"description\": \"\"\n      }\n    },\n    {\n      \"column\": \"D\",\n      \"properties\": {\n        \"dtype\": \"number\",\n        \"std\": 2,\n        \"min\": 2,\n        \"max\": 7,\n        \"num_unique_values\": 3,\n        \"samples\": [\n          6,\n          2,\n          7\n        ],\n        \"semantic_type\": \"\",\n        \"description\": \"\"\n      }\n    }\n  ]\n}"
            }
          },
          "metadata": {},
          "execution_count": 4
        }
      ],
      "source": [
        "# Create a Pandas Dataframe with our Numpy random generator\n",
        "# Integer numbers between 0 and 10, 3 rows and 4 columns\n",
        "df = pd.DataFrame(rng.randint(0, 10, (3, 4)),\n",
        "                 columns=['A', 'B', 'C', 'D'])\n",
        "df"
      ]
    },
    {
      "cell_type": "markdown",
      "id": "4d4ed5ee",
      "metadata": {
        "id": "4d4ed5ee"
      },
      "source": [
        "We can use a Numpy function on these Pandas objects and still keep our indexes for order"
      ]
    },
    {
      "cell_type": "code",
      "execution_count": 5,
      "id": "5224bee5",
      "metadata": {
        "id": "5224bee5",
        "colab": {
          "base_uri": "https://localhost:8080/"
        },
        "outputId": "2b6360fa-4ef2-4b48-b795-fc9d24e67472"
      },
      "outputs": [
        {
          "output_type": "execute_result",
          "data": {
            "text/plain": [
              "0    2980.957987\n",
              "1     148.413159\n",
              "2       2.718282\n",
              "3      54.598150\n",
              "dtype: float64"
            ]
          },
          "metadata": {},
          "execution_count": 5
        }
      ],
      "source": [
        "# Calculate e^x, where x is every element of our array\n",
        "np.exp(series)"
      ]
    },
    {
      "cell_type": "code",
      "execution_count": 6,
      "id": "35bafe79",
      "metadata": {
        "id": "35bafe79",
        "colab": {
          "base_uri": "https://localhost:8080/",
          "height": 142
        },
        "outputId": "888b8312-fd91-4c96-f490-f42b91657aa9"
      },
      "outputs": [
        {
          "output_type": "execute_result",
          "data": {
            "text/plain": [
              "              A             B         C         D\n",
              "0 -7.071068e-01 -2.449294e-16  0.000000 -1.000000\n",
              "1  1.224647e-16  7.071068e-01 -0.707107  1.000000\n",
              "2  1.000000e+00  1.000000e+00  0.707107 -0.707107"
            ],
            "text/html": [
              "\n",
              "  <div id=\"df-dca92f8a-0d5d-46df-b24e-4abe1f0cf7a5\" class=\"colab-df-container\">\n",
              "    <div>\n",
              "<style scoped>\n",
              "    .dataframe tbody tr th:only-of-type {\n",
              "        vertical-align: middle;\n",
              "    }\n",
              "\n",
              "    .dataframe tbody tr th {\n",
              "        vertical-align: top;\n",
              "    }\n",
              "\n",
              "    .dataframe thead th {\n",
              "        text-align: right;\n",
              "    }\n",
              "</style>\n",
              "<table border=\"1\" class=\"dataframe\">\n",
              "  <thead>\n",
              "    <tr style=\"text-align: right;\">\n",
              "      <th></th>\n",
              "      <th>A</th>\n",
              "      <th>B</th>\n",
              "      <th>C</th>\n",
              "      <th>D</th>\n",
              "    </tr>\n",
              "  </thead>\n",
              "  <tbody>\n",
              "    <tr>\n",
              "      <th>0</th>\n",
              "      <td>-7.071068e-01</td>\n",
              "      <td>-2.449294e-16</td>\n",
              "      <td>0.000000</td>\n",
              "      <td>-1.000000</td>\n",
              "    </tr>\n",
              "    <tr>\n",
              "      <th>1</th>\n",
              "      <td>1.224647e-16</td>\n",
              "      <td>7.071068e-01</td>\n",
              "      <td>-0.707107</td>\n",
              "      <td>1.000000</td>\n",
              "    </tr>\n",
              "    <tr>\n",
              "      <th>2</th>\n",
              "      <td>1.000000e+00</td>\n",
              "      <td>1.000000e+00</td>\n",
              "      <td>0.707107</td>\n",
              "      <td>-0.707107</td>\n",
              "    </tr>\n",
              "  </tbody>\n",
              "</table>\n",
              "</div>\n",
              "    <div class=\"colab-df-buttons\">\n",
              "\n",
              "  <div class=\"colab-df-container\">\n",
              "    <button class=\"colab-df-convert\" onclick=\"convertToInteractive('df-dca92f8a-0d5d-46df-b24e-4abe1f0cf7a5')\"\n",
              "            title=\"Convert this dataframe to an interactive table.\"\n",
              "            style=\"display:none;\">\n",
              "\n",
              "  <svg xmlns=\"http://www.w3.org/2000/svg\" height=\"24px\" viewBox=\"0 -960 960 960\">\n",
              "    <path d=\"M120-120v-720h720v720H120Zm60-500h600v-160H180v160Zm220 220h160v-160H400v160Zm0 220h160v-160H400v160ZM180-400h160v-160H180v160Zm440 0h160v-160H620v160ZM180-180h160v-160H180v160Zm440 0h160v-160H620v160Z\"/>\n",
              "  </svg>\n",
              "    </button>\n",
              "\n",
              "  <style>\n",
              "    .colab-df-container {\n",
              "      display:flex;\n",
              "      gap: 12px;\n",
              "    }\n",
              "\n",
              "    .colab-df-convert {\n",
              "      background-color: #E8F0FE;\n",
              "      border: none;\n",
              "      border-radius: 50%;\n",
              "      cursor: pointer;\n",
              "      display: none;\n",
              "      fill: #1967D2;\n",
              "      height: 32px;\n",
              "      padding: 0 0 0 0;\n",
              "      width: 32px;\n",
              "    }\n",
              "\n",
              "    .colab-df-convert:hover {\n",
              "      background-color: #E2EBFA;\n",
              "      box-shadow: 0px 1px 2px rgba(60, 64, 67, 0.3), 0px 1px 3px 1px rgba(60, 64, 67, 0.15);\n",
              "      fill: #174EA6;\n",
              "    }\n",
              "\n",
              "    .colab-df-buttons div {\n",
              "      margin-bottom: 4px;\n",
              "    }\n",
              "\n",
              "    [theme=dark] .colab-df-convert {\n",
              "      background-color: #3B4455;\n",
              "      fill: #D2E3FC;\n",
              "    }\n",
              "\n",
              "    [theme=dark] .colab-df-convert:hover {\n",
              "      background-color: #434B5C;\n",
              "      box-shadow: 0px 1px 3px 1px rgba(0, 0, 0, 0.15);\n",
              "      filter: drop-shadow(0px 1px 2px rgba(0, 0, 0, 0.3));\n",
              "      fill: #FFFFFF;\n",
              "    }\n",
              "  </style>\n",
              "\n",
              "    <script>\n",
              "      const buttonEl =\n",
              "        document.querySelector('#df-dca92f8a-0d5d-46df-b24e-4abe1f0cf7a5 button.colab-df-convert');\n",
              "      buttonEl.style.display =\n",
              "        google.colab.kernel.accessAllowed ? 'block' : 'none';\n",
              "\n",
              "      async function convertToInteractive(key) {\n",
              "        const element = document.querySelector('#df-dca92f8a-0d5d-46df-b24e-4abe1f0cf7a5');\n",
              "        const dataTable =\n",
              "          await google.colab.kernel.invokeFunction('convertToInteractive',\n",
              "                                                    [key], {});\n",
              "        if (!dataTable) return;\n",
              "\n",
              "        const docLinkHtml = 'Like what you see? Visit the ' +\n",
              "          '<a target=\"_blank\" href=https://colab.research.google.com/notebooks/data_table.ipynb>data table notebook</a>'\n",
              "          + ' to learn more about interactive tables.';\n",
              "        element.innerHTML = '';\n",
              "        dataTable['output_type'] = 'display_data';\n",
              "        await google.colab.output.renderOutput(dataTable, element);\n",
              "        const docLink = document.createElement('div');\n",
              "        docLink.innerHTML = docLinkHtml;\n",
              "        element.appendChild(docLink);\n",
              "      }\n",
              "    </script>\n",
              "  </div>\n",
              "\n",
              "\n",
              "<div id=\"df-85b32b10-3b2a-46e8-9339-642c274bc3a5\">\n",
              "  <button class=\"colab-df-quickchart\" onclick=\"quickchart('df-85b32b10-3b2a-46e8-9339-642c274bc3a5')\"\n",
              "            title=\"Suggest charts\"\n",
              "            style=\"display:none;\">\n",
              "\n",
              "<svg xmlns=\"http://www.w3.org/2000/svg\" height=\"24px\"viewBox=\"0 0 24 24\"\n",
              "     width=\"24px\">\n",
              "    <g>\n",
              "        <path d=\"M19 3H5c-1.1 0-2 .9-2 2v14c0 1.1.9 2 2 2h14c1.1 0 2-.9 2-2V5c0-1.1-.9-2-2-2zM9 17H7v-7h2v7zm4 0h-2V7h2v10zm4 0h-2v-4h2v4z\"/>\n",
              "    </g>\n",
              "</svg>\n",
              "  </button>\n",
              "\n",
              "<style>\n",
              "  .colab-df-quickchart {\n",
              "      --bg-color: #E8F0FE;\n",
              "      --fill-color: #1967D2;\n",
              "      --hover-bg-color: #E2EBFA;\n",
              "      --hover-fill-color: #174EA6;\n",
              "      --disabled-fill-color: #AAA;\n",
              "      --disabled-bg-color: #DDD;\n",
              "  }\n",
              "\n",
              "  [theme=dark] .colab-df-quickchart {\n",
              "      --bg-color: #3B4455;\n",
              "      --fill-color: #D2E3FC;\n",
              "      --hover-bg-color: #434B5C;\n",
              "      --hover-fill-color: #FFFFFF;\n",
              "      --disabled-bg-color: #3B4455;\n",
              "      --disabled-fill-color: #666;\n",
              "  }\n",
              "\n",
              "  .colab-df-quickchart {\n",
              "    background-color: var(--bg-color);\n",
              "    border: none;\n",
              "    border-radius: 50%;\n",
              "    cursor: pointer;\n",
              "    display: none;\n",
              "    fill: var(--fill-color);\n",
              "    height: 32px;\n",
              "    padding: 0;\n",
              "    width: 32px;\n",
              "  }\n",
              "\n",
              "  .colab-df-quickchart:hover {\n",
              "    background-color: var(--hover-bg-color);\n",
              "    box-shadow: 0 1px 2px rgba(60, 64, 67, 0.3), 0 1px 3px 1px rgba(60, 64, 67, 0.15);\n",
              "    fill: var(--button-hover-fill-color);\n",
              "  }\n",
              "\n",
              "  .colab-df-quickchart-complete:disabled,\n",
              "  .colab-df-quickchart-complete:disabled:hover {\n",
              "    background-color: var(--disabled-bg-color);\n",
              "    fill: var(--disabled-fill-color);\n",
              "    box-shadow: none;\n",
              "  }\n",
              "\n",
              "  .colab-df-spinner {\n",
              "    border: 2px solid var(--fill-color);\n",
              "    border-color: transparent;\n",
              "    border-bottom-color: var(--fill-color);\n",
              "    animation:\n",
              "      spin 1s steps(1) infinite;\n",
              "  }\n",
              "\n",
              "  @keyframes spin {\n",
              "    0% {\n",
              "      border-color: transparent;\n",
              "      border-bottom-color: var(--fill-color);\n",
              "      border-left-color: var(--fill-color);\n",
              "    }\n",
              "    20% {\n",
              "      border-color: transparent;\n",
              "      border-left-color: var(--fill-color);\n",
              "      border-top-color: var(--fill-color);\n",
              "    }\n",
              "    30% {\n",
              "      border-color: transparent;\n",
              "      border-left-color: var(--fill-color);\n",
              "      border-top-color: var(--fill-color);\n",
              "      border-right-color: var(--fill-color);\n",
              "    }\n",
              "    40% {\n",
              "      border-color: transparent;\n",
              "      border-right-color: var(--fill-color);\n",
              "      border-top-color: var(--fill-color);\n",
              "    }\n",
              "    60% {\n",
              "      border-color: transparent;\n",
              "      border-right-color: var(--fill-color);\n",
              "    }\n",
              "    80% {\n",
              "      border-color: transparent;\n",
              "      border-right-color: var(--fill-color);\n",
              "      border-bottom-color: var(--fill-color);\n",
              "    }\n",
              "    90% {\n",
              "      border-color: transparent;\n",
              "      border-bottom-color: var(--fill-color);\n",
              "    }\n",
              "  }\n",
              "</style>\n",
              "\n",
              "  <script>\n",
              "    async function quickchart(key) {\n",
              "      const quickchartButtonEl =\n",
              "        document.querySelector('#' + key + ' button');\n",
              "      quickchartButtonEl.disabled = true;  // To prevent multiple clicks.\n",
              "      quickchartButtonEl.classList.add('colab-df-spinner');\n",
              "      try {\n",
              "        const charts = await google.colab.kernel.invokeFunction(\n",
              "            'suggestCharts', [key], {});\n",
              "      } catch (error) {\n",
              "        console.error('Error during call to suggestCharts:', error);\n",
              "      }\n",
              "      quickchartButtonEl.classList.remove('colab-df-spinner');\n",
              "      quickchartButtonEl.classList.add('colab-df-quickchart-complete');\n",
              "    }\n",
              "    (() => {\n",
              "      let quickchartButtonEl =\n",
              "        document.querySelector('#df-85b32b10-3b2a-46e8-9339-642c274bc3a5 button');\n",
              "      quickchartButtonEl.style.display =\n",
              "        google.colab.kernel.accessAllowed ? 'block' : 'none';\n",
              "    })();\n",
              "  </script>\n",
              "</div>\n",
              "\n",
              "    </div>\n",
              "  </div>\n"
            ],
            "application/vnd.google.colaboratory.intrinsic+json": {
              "type": "dataframe",
              "summary": "{\n  \"name\": \"np\",\n  \"rows\": 3,\n  \"fields\": [\n    {\n      \"column\": \"A\",\n      \"properties\": {\n        \"dtype\": \"number\",\n        \"std\": 0.8577308787699763,\n        \"min\": -0.7071067811865475,\n        \"max\": 1.0,\n        \"num_unique_values\": 3,\n        \"samples\": [\n          -0.7071067811865475,\n          1.2246467991473532e-16,\n          1.0\n        ],\n        \"semantic_type\": \"\",\n        \"description\": \"\"\n      }\n    },\n    {\n      \"column\": \"B\",\n      \"properties\": {\n        \"dtype\": \"number\",\n        \"std\": 0.5140989589607086,\n        \"min\": -2.4492935982947064e-16,\n        \"max\": 1.0,\n        \"num_unique_values\": 3,\n        \"samples\": [\n          -2.4492935982947064e-16,\n          0.7071067811865475,\n          1.0\n        ],\n        \"semantic_type\": \"\",\n        \"description\": \"\"\n      }\n    },\n    {\n      \"column\": \"C\",\n      \"properties\": {\n        \"dtype\": \"number\",\n        \"std\": 0.7071067811865475,\n        \"min\": -0.7071067811865475,\n        \"max\": 0.7071067811865474,\n        \"num_unique_values\": 3,\n        \"samples\": [\n          0.0,\n          -0.7071067811865475,\n          0.7071067811865474\n        ],\n        \"semantic_type\": \"\",\n        \"description\": \"\"\n      }\n    },\n    {\n      \"column\": \"D\",\n      \"properties\": {\n        \"dtype\": \"number\",\n        \"std\": 1.0801234497346435,\n        \"min\": -1.0,\n        \"max\": 1.0,\n        \"num_unique_values\": 3,\n        \"samples\": [\n          -1.0,\n          1.0,\n          -0.7071067811865477\n        ],\n        \"semantic_type\": \"\",\n        \"description\": \"\"\n      }\n    }\n  ]\n}"
            }
          },
          "metadata": {},
          "execution_count": 6
        }
      ],
      "source": [
        "# Calculate sin() of every value in the DataFrame multiplied by pi and divided by 4\n",
        "np.sin(df * np.pi / 4)"
      ]
    },
    {
      "cell_type": "markdown",
      "id": "e1c32e4e",
      "metadata": {
        "id": "e1c32e4e"
      },
      "source": [
        "### The Numpy Array\n",
        "Numpy provides mutidimentional arrays, with high efficiency and designed for scientific calculations.\n",
        "\n",
        "An array is similar to a list in Python and can be created from a list.\n",
        "\n",
        "Array have useful atributes we can use. Lets start by defining three random arrays, a single dimension, a two dimension and a tri dimensional array. We will use Numpy random number generator."
      ]
    },
    {
      "cell_type": "code",
      "execution_count": 7,
      "id": "83817357",
      "metadata": {
        "id": "83817357"
      },
      "outputs": [],
      "source": [
        "# Import our Numpy package\n",
        "import numpy as np\n",
        "np.random.seed(0) #this will generate the same random arrays every time\n",
        "\n",
        "x1 = np.random.randint(10, size=6) # one dimension\n",
        "x2 = np.random.randint(10, size=(3, 4)) # two dimensions\n",
        "x3 = np.random.randint(10, size=(3, 4, 5)) # tri dimensional array"
      ]
    },
    {
      "cell_type": "markdown",
      "id": "10c39897",
      "metadata": {
        "id": "10c39897"
      },
      "source": [
        "All arrays have the `ndim` (number of dimensions) attribute, `shape` the size of each dimension, and `size` the total array size"
      ]
    },
    {
      "cell_type": "code",
      "execution_count": 8,
      "id": "b09dda83",
      "metadata": {
        "id": "b09dda83",
        "colab": {
          "base_uri": "https://localhost:8080/"
        },
        "outputId": "ed0f372e-6ec0-4a16-9a0a-ce235bbaa9cd"
      },
      "outputs": [
        {
          "output_type": "stream",
          "name": "stdout",
          "text": [
            "x3 ndim: 3\n",
            "x3 sahpe: (3, 4, 5)\n",
            "x3 size: 60\n"
          ]
        }
      ],
      "source": [
        "print(\"x3 ndim:\", x3.ndim)\n",
        "print(\"x3 sahpe:\", x3.shape)\n",
        "print(\"x3 size:\", x3.size)"
      ]
    },
    {
      "cell_type": "markdown",
      "id": "6732b761",
      "metadata": {
        "id": "6732b761"
      },
      "source": [
        "Other attributes for arrays are `itemsize` shows the byte size of every element in the array, and `nbytes` shows the total bytes size of the array:"
      ]
    },
    {
      "cell_type": "code",
      "execution_count": 9,
      "id": "fc1497b3",
      "metadata": {
        "id": "fc1497b3",
        "colab": {
          "base_uri": "https://localhost:8080/"
        },
        "outputId": "740a9878-7874-4efd-8924-779dec416de4"
      },
      "outputs": [
        {
          "output_type": "stream",
          "name": "stdout",
          "text": [
            "x3 itemsize: 8 bytes\n",
            "x3 nbytes 480 bytes\n"
          ]
        }
      ],
      "source": [
        "print(\"x3 itemsize:\", x3.itemsize, \"bytes\")\n",
        "print(\"x3 nbytes\", x3.nbytes, \"bytes\")"
      ]
    },
    {
      "cell_type": "markdown",
      "id": "cd72b1c5",
      "metadata": {
        "id": "cd72b1c5"
      },
      "source": [
        "#### Optional Exercise\n",
        "- Create a 3x3x3 array that contains all random numbers.\n",
        "- Using the previous array, square all the numbers in the array."
      ]
    },
    {
      "cell_type": "code",
      "source": [
        "import numpy as np\n",
        "\n",
        "x = np.random.random((3,3,3))\n",
        "\n",
        "print(x)\n",
        "np.sqrt(x)\n"
      ],
      "metadata": {
        "colab": {
          "base_uri": "https://localhost:8080/"
        },
        "id": "AZuDLvDk-lrY",
        "outputId": "cd3f0119-1b6e-4c51-f2ae-b19d2499db65"
      },
      "id": "AZuDLvDk-lrY",
      "execution_count": 79,
      "outputs": [
        {
          "output_type": "stream",
          "name": "stdout",
          "text": [
            "[[[0.09785878 0.12446372 0.42253024]\n",
            "  [0.39034562 0.35621026 0.99663284]\n",
            "  [0.55823601 0.84371046 0.78986544]]\n",
            "\n",
            " [[0.99105381 0.28137886 0.01765187]\n",
            "  [0.6559858  0.61765416 0.17973144]\n",
            "  [0.84749539 0.46820265 0.97459109]]\n",
            "\n",
            " [[0.60303019 0.31209932 0.63006004]\n",
            "  [0.93992516 0.36891447 0.86732999]\n",
            "  [0.45108972 0.67813826 0.82235473]]]\n"
          ]
        },
        {
          "output_type": "execute_result",
          "data": {
            "text/plain": [
              "array([[[0.31282388, 0.35279416, 0.65002326],\n",
              "        [0.62477645, 0.59683353, 0.998315  ],\n",
              "        [0.74715193, 0.91853713, 0.88874374]],\n",
              "\n",
              "       [[0.99551685, 0.53045156, 0.13286033],\n",
              "        [0.8099295 , 0.78590977, 0.42394744],\n",
              "        [0.92059513, 0.68425335, 0.9872138 ]],\n",
              "\n",
              "       [[0.77655018, 0.5586585 , 0.79376322],\n",
              "        [0.96949737, 0.6073833 , 0.93130553],\n",
              "        [0.67163213, 0.82349151, 0.90683776]]])"
            ]
          },
          "metadata": {},
          "execution_count": 79
        }
      ]
    },
    {
      "cell_type": "markdown",
      "id": "375bb4fc",
      "metadata": {
        "id": "375bb4fc"
      },
      "source": [
        "### Creating arrays with Numpy methods\n",
        "Specially for largers arrays we can use the more efficient methods from Numpy."
      ]
    },
    {
      "cell_type": "code",
      "execution_count": 12,
      "id": "35422cd0",
      "metadata": {
        "id": "35422cd0",
        "colab": {
          "base_uri": "https://localhost:8080/"
        },
        "outputId": "16322a83-bded-4268-abde-e392901e838c"
      },
      "outputs": [
        {
          "output_type": "execute_result",
          "data": {
            "text/plain": [
              "array([0, 0, 0, 0, 0, 0, 0, 0, 0, 0])"
            ]
          },
          "metadata": {},
          "execution_count": 12
        }
      ],
      "source": [
        "# Create a length 10 integer array filled with zeros\n",
        "np.zeros(10, dtype=int)"
      ]
    },
    {
      "cell_type": "code",
      "execution_count": 13,
      "id": "084f00c9",
      "metadata": {
        "id": "084f00c9",
        "colab": {
          "base_uri": "https://localhost:8080/"
        },
        "outputId": "965eb104-7fa3-42d6-991c-49a2f47ab88d"
      },
      "outputs": [
        {
          "output_type": "execute_result",
          "data": {
            "text/plain": [
              "array([[1., 1., 1., 1., 1.],\n",
              "       [1., 1., 1., 1., 1.],\n",
              "       [1., 1., 1., 1., 1.]])"
            ]
          },
          "metadata": {},
          "execution_count": 13
        }
      ],
      "source": [
        "# Create a 3x5 float array filled with ones\n",
        "np.ones((3, 5), dtype=float)"
      ]
    },
    {
      "cell_type": "code",
      "execution_count": 14,
      "id": "75a5e0bc",
      "metadata": {
        "id": "75a5e0bc",
        "colab": {
          "base_uri": "https://localhost:8080/"
        },
        "outputId": "c313bb0e-aaa7-4e23-a209-d51aafea398a"
      },
      "outputs": [
        {
          "output_type": "execute_result",
          "data": {
            "text/plain": [
              "array([[3.14, 3.14, 3.14, 3.14, 3.14],\n",
              "       [3.14, 3.14, 3.14, 3.14, 3.14],\n",
              "       [3.14, 3.14, 3.14, 3.14, 3.14]])"
            ]
          },
          "metadata": {},
          "execution_count": 14
        }
      ],
      "source": [
        "# Create a 3x5 array filled with 3.14\n",
        "np.full((3, 5), 3.14)"
      ]
    },
    {
      "cell_type": "code",
      "execution_count": 15,
      "id": "3ae0beea",
      "metadata": {
        "id": "3ae0beea",
        "colab": {
          "base_uri": "https://localhost:8080/"
        },
        "outputId": "85950be7-4c74-42b3-fef4-4b273dd0ffc6"
      },
      "outputs": [
        {
          "output_type": "execute_result",
          "data": {
            "text/plain": [
              "array([ 0,  2,  4,  6,  8, 10, 12, 14, 16, 18])"
            ]
          },
          "metadata": {},
          "execution_count": 15
        }
      ],
      "source": [
        "# Create an array filled with a linear sequence\n",
        "# Start at 0, end at 20, step size 2\n",
        "np.arange(0, 20, 2)"
      ]
    },
    {
      "cell_type": "code",
      "execution_count": 16,
      "id": "db34ed9d",
      "metadata": {
        "id": "db34ed9d",
        "colab": {
          "base_uri": "https://localhost:8080/"
        },
        "outputId": "c9d217b7-346f-406a-ce22-58f2b44a4e62"
      },
      "outputs": [
        {
          "output_type": "execute_result",
          "data": {
            "text/plain": [
              "array([0.  , 0.25, 0.5 , 0.75, 1.  ])"
            ]
          },
          "metadata": {},
          "execution_count": 16
        }
      ],
      "source": [
        "# Create an array of five values evenly spaced between 0 and 1\n",
        "np.linspace(0, 1, 5)"
      ]
    },
    {
      "cell_type": "code",
      "execution_count": 17,
      "id": "04480d0a",
      "metadata": {
        "id": "04480d0a",
        "colab": {
          "base_uri": "https://localhost:8080/"
        },
        "outputId": "c9400b31-02be-4c05-fb10-fee063b1e7d5"
      },
      "outputs": [
        {
          "output_type": "execute_result",
          "data": {
            "text/plain": [
              "array([[0.65279032, 0.63505887, 0.99529957],\n",
              "       [0.58185033, 0.41436859, 0.4746975 ],\n",
              "       [0.6235101 , 0.33800761, 0.67475232]])"
            ]
          },
          "metadata": {},
          "execution_count": 17
        }
      ],
      "source": [
        "# Create a 3x3 array of uniformly distributed random values between 0 and 1\n",
        "np.random.random((3, 3))"
      ]
    },
    {
      "cell_type": "code",
      "execution_count": 18,
      "id": "2dce3446",
      "metadata": {
        "id": "2dce3446",
        "colab": {
          "base_uri": "https://localhost:8080/"
        },
        "outputId": "ff3b816f-8750-4ba3-d747-6db5d047a476"
      },
      "outputs": [
        {
          "output_type": "execute_result",
          "data": {
            "text/plain": [
              "array([[ 1.0657892 , -0.69993739,  0.14407911],\n",
              "       [ 0.3985421 ,  0.02686925,  1.05583713],\n",
              "       [-0.07318342, -0.66572066, -0.04411241]])"
            ]
          },
          "metadata": {},
          "execution_count": 18
        }
      ],
      "source": [
        "# Create a 3x3 array of normally distributed random values\n",
        "# with mean 0 and standard deviation 1\n",
        "np.random.normal(0, 1, (3, 3))"
      ]
    },
    {
      "cell_type": "code",
      "execution_count": 19,
      "id": "8b001f0f",
      "metadata": {
        "id": "8b001f0f",
        "colab": {
          "base_uri": "https://localhost:8080/"
        },
        "outputId": "4c6b88ba-3b33-4a54-8013-6f51173b94f2"
      },
      "outputs": [
        {
          "output_type": "execute_result",
          "data": {
            "text/plain": [
              "array([[7, 2, 9],\n",
              "       [2, 3, 3],\n",
              "       [2, 3, 4]])"
            ]
          },
          "metadata": {},
          "execution_count": 19
        }
      ],
      "source": [
        "# Create a 3x3 array of random integer in the interval [0, 10]\n",
        "np.random.randint(0, 10, (3, 3))"
      ]
    },
    {
      "cell_type": "code",
      "execution_count": 20,
      "id": "be6db5ca",
      "metadata": {
        "id": "be6db5ca",
        "colab": {
          "base_uri": "https://localhost:8080/"
        },
        "outputId": "59671dd7-0182-4f85-d560-088d819defd7"
      },
      "outputs": [
        {
          "output_type": "execute_result",
          "data": {
            "text/plain": [
              "array([[1., 0., 0.],\n",
              "       [0., 1., 0.],\n",
              "       [0., 0., 1.]])"
            ]
          },
          "metadata": {},
          "execution_count": 20
        }
      ],
      "source": [
        "# Create a 3x3 identity matrix\n",
        "np.eye(3)"
      ]
    },
    {
      "cell_type": "code",
      "execution_count": 21,
      "id": "7246c404",
      "metadata": {
        "id": "7246c404",
        "colab": {
          "base_uri": "https://localhost:8080/"
        },
        "outputId": "046983f5-b725-4416-cbe3-ea867e45fe54"
      },
      "outputs": [
        {
          "output_type": "execute_result",
          "data": {
            "text/plain": [
              "array([1., 1., 1.])"
            ]
          },
          "metadata": {},
          "execution_count": 21
        }
      ],
      "source": [
        "# Create an uninitialized array of three integers\n",
        "# The values will be whatever happens to already exist at that memory location\n",
        "np.empty(3)"
      ]
    },
    {
      "cell_type": "markdown",
      "id": "aa580ec3",
      "metadata": {
        "id": "aa580ec3"
      },
      "source": [
        "#### Array indexing\n",
        "Similar to Python lists we can access individual elements in the array. For single dimensional arrays we can use the indexing format using `[]`"
      ]
    },
    {
      "cell_type": "code",
      "execution_count": 22,
      "id": "f8b243a5",
      "metadata": {
        "id": "f8b243a5",
        "colab": {
          "base_uri": "https://localhost:8080/"
        },
        "outputId": "7e5dbff6-337a-4cff-dae4-53b9cd3aa2db"
      },
      "outputs": [
        {
          "output_type": "execute_result",
          "data": {
            "text/plain": [
              "array([5, 0, 3, 3, 7, 9])"
            ]
          },
          "metadata": {},
          "execution_count": 22
        }
      ],
      "source": [
        "x1"
      ]
    },
    {
      "cell_type": "code",
      "execution_count": 23,
      "id": "6889691d",
      "metadata": {
        "id": "6889691d",
        "colab": {
          "base_uri": "https://localhost:8080/"
        },
        "outputId": "7047239d-5ee6-4026-ee35-e0e0d039f357"
      },
      "outputs": [
        {
          "output_type": "execute_result",
          "data": {
            "text/plain": [
              "5"
            ]
          },
          "metadata": {},
          "execution_count": 23
        }
      ],
      "source": [
        "x1[0]"
      ]
    },
    {
      "cell_type": "code",
      "execution_count": 24,
      "id": "d1658fee",
      "metadata": {
        "id": "d1658fee",
        "colab": {
          "base_uri": "https://localhost:8080/"
        },
        "outputId": "805754ae-b1a5-479f-a6bf-acf19156b9f7"
      },
      "outputs": [
        {
          "output_type": "execute_result",
          "data": {
            "text/plain": [
              "7"
            ]
          },
          "metadata": {},
          "execution_count": 24
        }
      ],
      "source": [
        "x1[4]"
      ]
    },
    {
      "cell_type": "code",
      "execution_count": 25,
      "id": "0cd32e10",
      "metadata": {
        "id": "0cd32e10",
        "colab": {
          "base_uri": "https://localhost:8080/"
        },
        "outputId": "3360b417-e9da-41f5-d29f-a89b4cfd52f4"
      },
      "outputs": [
        {
          "output_type": "execute_result",
          "data": {
            "text/plain": [
              "5"
            ]
          },
          "metadata": {},
          "execution_count": 25
        }
      ],
      "source": [
        "x1[-6]"
      ]
    },
    {
      "cell_type": "markdown",
      "id": "6d268527",
      "metadata": {
        "id": "6d268527"
      },
      "source": [
        "We can use a similar logic for multi dimensional arrays"
      ]
    },
    {
      "cell_type": "code",
      "execution_count": 26,
      "id": "d3fd841c",
      "metadata": {
        "id": "d3fd841c",
        "colab": {
          "base_uri": "https://localhost:8080/"
        },
        "outputId": "89147810-f09f-484a-b93e-a1cd3ba09d8c"
      },
      "outputs": [
        {
          "output_type": "execute_result",
          "data": {
            "text/plain": [
              "array([[3, 5, 2, 4],\n",
              "       [7, 6, 8, 8],\n",
              "       [1, 6, 7, 7]])"
            ]
          },
          "metadata": {},
          "execution_count": 26
        }
      ],
      "source": [
        "x2"
      ]
    },
    {
      "cell_type": "code",
      "execution_count": 27,
      "id": "c8b6f86b",
      "metadata": {
        "id": "c8b6f86b",
        "colab": {
          "base_uri": "https://localhost:8080/"
        },
        "outputId": "8248512f-1500-454a-c2cb-f3083fbc0e77"
      },
      "outputs": [
        {
          "output_type": "execute_result",
          "data": {
            "text/plain": [
              "4"
            ]
          },
          "metadata": {},
          "execution_count": 27
        }
      ],
      "source": [
        "x2[0, 3] # Access row 0, column index 3"
      ]
    },
    {
      "cell_type": "code",
      "execution_count": 28,
      "id": "97aff3e1",
      "metadata": {
        "id": "97aff3e1",
        "colab": {
          "base_uri": "https://localhost:8080/"
        },
        "outputId": "e0a04fa5-79ea-4896-eac0-da1408c1ff15"
      },
      "outputs": [
        {
          "output_type": "execute_result",
          "data": {
            "text/plain": [
              "7"
            ]
          },
          "metadata": {},
          "execution_count": 28
        }
      ],
      "source": [
        "x2[2, -1] # Access row index 2, column index -1"
      ]
    },
    {
      "cell_type": "markdown",
      "id": "d6ae8509",
      "metadata": {
        "id": "d6ae8509"
      },
      "source": [
        "We can use the same logic to change values using array indexing"
      ]
    },
    {
      "cell_type": "code",
      "execution_count": 29,
      "id": "125bab47",
      "metadata": {
        "id": "125bab47"
      },
      "outputs": [],
      "source": [
        "x2[2, -1] = 2"
      ]
    },
    {
      "cell_type": "markdown",
      "id": "1935bd53",
      "metadata": {
        "id": "1935bd53"
      },
      "source": [
        "#### Optional Exercise\n",
        "- Create a new array using `arange` this array should contain a total of 4 values.\n",
        "- Select only values in index 2 and index 4.\n",
        "- Change the value of index 3 to 99"
      ]
    },
    {
      "cell_type": "code",
      "source": [
        "import numpy as np\n",
        "\n",
        "x = np.arange(4)\n",
        "\n",
        "values = x[[2, 3]]\n",
        "\n",
        "x[3] = 99\n",
        "\n",
        "print(\"Original array:\", x)\n",
        "print(\"Selected values at index 2 and 3:\", values)"
      ],
      "metadata": {
        "colab": {
          "base_uri": "https://localhost:8080/"
        },
        "id": "7TWfqzvJ3qaW",
        "outputId": "72018fd7-cd0c-4149-a516-14b5e6f52e2c"
      },
      "id": "7TWfqzvJ3qaW",
      "execution_count": 82,
      "outputs": [
        {
          "output_type": "stream",
          "name": "stdout",
          "text": [
            "Original array: [ 0  1  2 99]\n",
            "Selected values at index 2 and 3: [2 3]\n"
          ]
        }
      ]
    },
    {
      "cell_type": "markdown",
      "id": "6ab321d4",
      "metadata": {
        "id": "6ab321d4"
      },
      "source": [
        "#### Sub arrays (slicing)\n",
        "We can also use a similar syntax to Python list slicing to access only parts of the array. The syntax goes as follows:\n",
        "\n",
        "`x[start:stop:step]`\n",
        "Where default start value = 0, stop is the non inclusive stop index, and step the number of items we want to count"
      ]
    },
    {
      "cell_type": "code",
      "execution_count": 30,
      "id": "e9fffdca",
      "metadata": {
        "id": "e9fffdca",
        "colab": {
          "base_uri": "https://localhost:8080/"
        },
        "outputId": "75b7992f-bea2-4b38-a5cd-1eda46abc775"
      },
      "outputs": [
        {
          "output_type": "execute_result",
          "data": {
            "text/plain": [
              "array([0, 1, 2, 3, 4, 5, 6, 7, 8, 9])"
            ]
          },
          "metadata": {},
          "execution_count": 30
        }
      ],
      "source": [
        "x = np.arange(10)\n",
        "x"
      ]
    },
    {
      "cell_type": "code",
      "execution_count": 31,
      "id": "a3f86d6d",
      "metadata": {
        "id": "a3f86d6d",
        "colab": {
          "base_uri": "https://localhost:8080/"
        },
        "outputId": "33b61a57-419c-46bd-dbe2-64d2fa13fa94"
      },
      "outputs": [
        {
          "output_type": "execute_result",
          "data": {
            "text/plain": [
              "array([0, 1, 2, 3, 4])"
            ]
          },
          "metadata": {},
          "execution_count": 31
        }
      ],
      "source": [
        "x[:5] # first five elements"
      ]
    },
    {
      "cell_type": "code",
      "execution_count": 32,
      "id": "0ae14e3a",
      "metadata": {
        "id": "0ae14e3a",
        "colab": {
          "base_uri": "https://localhost:8080/"
        },
        "outputId": "ffd56b83-8ec4-45d2-83d0-4240755b4649"
      },
      "outputs": [
        {
          "output_type": "execute_result",
          "data": {
            "text/plain": [
              "array([5, 6, 7, 8, 9])"
            ]
          },
          "metadata": {},
          "execution_count": 32
        }
      ],
      "source": [
        "x[5:] # elements starting from the fifth index"
      ]
    },
    {
      "cell_type": "code",
      "execution_count": 33,
      "id": "c03943c1",
      "metadata": {
        "id": "c03943c1",
        "colab": {
          "base_uri": "https://localhost:8080/"
        },
        "outputId": "b0e73947-e7d9-4811-e093-bcbc9e344df3"
      },
      "outputs": [
        {
          "output_type": "execute_result",
          "data": {
            "text/plain": [
              "array([4, 5, 6])"
            ]
          },
          "metadata": {},
          "execution_count": 33
        }
      ],
      "source": [
        "x[4:7] # elements between 4 and non inclusive 7"
      ]
    },
    {
      "cell_type": "code",
      "execution_count": 34,
      "id": "f2118cd2",
      "metadata": {
        "id": "f2118cd2",
        "colab": {
          "base_uri": "https://localhost:8080/"
        },
        "outputId": "cda56e28-ca41-4c19-b3c5-e3bba959fb44"
      },
      "outputs": [
        {
          "output_type": "execute_result",
          "data": {
            "text/plain": [
              "array([0, 2, 4, 6, 8])"
            ]
          },
          "metadata": {},
          "execution_count": 34
        }
      ],
      "source": [
        "x[::2] # all elements but step size 2"
      ]
    },
    {
      "cell_type": "code",
      "execution_count": 35,
      "id": "cf0e7875",
      "metadata": {
        "id": "cf0e7875",
        "colab": {
          "base_uri": "https://localhost:8080/"
        },
        "outputId": "2b2ca8d9-fa40-4b4c-9d85-ad5f41be739f"
      },
      "outputs": [
        {
          "output_type": "execute_result",
          "data": {
            "text/plain": [
              "array([1, 3, 5, 7, 9])"
            ]
          },
          "metadata": {},
          "execution_count": 35
        }
      ],
      "source": [
        "x[1::2] # elements every two steps, starting from index 1"
      ]
    },
    {
      "cell_type": "markdown",
      "id": "fc4116ed",
      "metadata": {
        "id": "fc4116ed"
      },
      "source": [
        "We can also use negative step index. In this case the default start and stop values are inverted. This makes it a convenient way to invert an array."
      ]
    },
    {
      "cell_type": "code",
      "execution_count": 36,
      "id": "c51433ad",
      "metadata": {
        "id": "c51433ad",
        "colab": {
          "base_uri": "https://localhost:8080/"
        },
        "outputId": "45377e60-520b-4111-ebec-37de00056acc"
      },
      "outputs": [
        {
          "output_type": "execute_result",
          "data": {
            "text/plain": [
              "array([9, 8, 7, 6, 5, 4, 3, 2, 1, 0])"
            ]
          },
          "metadata": {},
          "execution_count": 36
        }
      ],
      "source": [
        "x[::-1] # reverse the array"
      ]
    },
    {
      "cell_type": "code",
      "execution_count": 37,
      "id": "679b7a8e",
      "metadata": {
        "id": "679b7a8e",
        "colab": {
          "base_uri": "https://localhost:8080/"
        },
        "outputId": "12984fca-0382-4e17-e747-109ca41cc429"
      },
      "outputs": [
        {
          "output_type": "execute_result",
          "data": {
            "text/plain": [
              "array([5, 3, 1])"
            ]
          },
          "metadata": {},
          "execution_count": 37
        }
      ],
      "source": [
        "x[5::-2] # inverted array starting from the fifth index at minus two step interval"
      ]
    },
    {
      "cell_type": "markdown",
      "id": "5670d312",
      "metadata": {
        "id": "5670d312"
      },
      "source": [
        "We can also select multi dimension sectors of an array. The syntax is similar, with every sector separated by a comma"
      ]
    },
    {
      "cell_type": "code",
      "execution_count": 38,
      "id": "592911bc",
      "metadata": {
        "id": "592911bc",
        "colab": {
          "base_uri": "https://localhost:8080/"
        },
        "outputId": "0d5b702f-43dd-45d9-9b7d-bad1ce7c22f7"
      },
      "outputs": [
        {
          "output_type": "execute_result",
          "data": {
            "text/plain": [
              "array([[3, 5, 2, 4],\n",
              "       [7, 6, 8, 8],\n",
              "       [1, 6, 7, 2]])"
            ]
          },
          "metadata": {},
          "execution_count": 38
        }
      ],
      "source": [
        "x2"
      ]
    },
    {
      "cell_type": "code",
      "execution_count": 39,
      "id": "a64ef513",
      "metadata": {
        "id": "a64ef513",
        "colab": {
          "base_uri": "https://localhost:8080/"
        },
        "outputId": "29cc5e16-fb24-4da9-939c-b068c6986269"
      },
      "outputs": [
        {
          "output_type": "execute_result",
          "data": {
            "text/plain": [
              "array([[3, 5, 2],\n",
              "       [7, 6, 8]])"
            ]
          },
          "metadata": {},
          "execution_count": 39
        }
      ],
      "source": [
        "x2[:2, :3] # rows with index 0 and 1, and columns with index 0, 1 and 2"
      ]
    },
    {
      "cell_type": "code",
      "execution_count": 40,
      "id": "48a6e77d",
      "metadata": {
        "id": "48a6e77d",
        "colab": {
          "base_uri": "https://localhost:8080/"
        },
        "outputId": "4d928423-fae9-40ab-98ea-c99631529d68"
      },
      "outputs": [
        {
          "output_type": "execute_result",
          "data": {
            "text/plain": [
              "array([[3, 2],\n",
              "       [7, 8],\n",
              "       [1, 7]])"
            ]
          },
          "metadata": {},
          "execution_count": 40
        }
      ],
      "source": [
        "x2[:3, ::2] # all rows but step size 2"
      ]
    },
    {
      "cell_type": "markdown",
      "id": "0bec0e6f",
      "metadata": {
        "id": "0bec0e6f"
      },
      "source": [
        "#### Reshaping arrays\n",
        "Another useful operation is reshaping, we can use the `reshape()` method. If we wanted to reshape an array by a 3 x 3 array we can use the following syntax"
      ]
    },
    {
      "cell_type": "code",
      "execution_count": 41,
      "id": "dd3e54d6",
      "metadata": {
        "id": "dd3e54d6",
        "colab": {
          "base_uri": "https://localhost:8080/"
        },
        "outputId": "f29c51d3-8b0d-4450-93f9-8e8d4601857f"
      },
      "outputs": [
        {
          "output_type": "execute_result",
          "data": {
            "text/plain": [
              "array([[1, 2, 3],\n",
              "       [4, 5, 6],\n",
              "       [7, 8, 9]])"
            ]
          },
          "metadata": {},
          "execution_count": 41
        }
      ],
      "source": [
        "grid = np.arange(1, 10).reshape((3, 3))\n",
        "grid"
      ]
    },
    {
      "cell_type": "markdown",
      "id": "103616e1",
      "metadata": {
        "id": "103616e1"
      },
      "source": [
        "For this to work the size of the initial array must match the reshaped array.\n",
        "\n",
        "Another common form of reshaping is converting an unidimensional array of rows or columns. We can either use `reshape` or the `nexaxis` keyword inside a slicing operation"
      ]
    },
    {
      "cell_type": "code",
      "execution_count": 42,
      "id": "e3a38488",
      "metadata": {
        "id": "e3a38488",
        "colab": {
          "base_uri": "https://localhost:8080/"
        },
        "outputId": "f1f7ba70-ad81-4dae-fc18-94f027af9cd0"
      },
      "outputs": [
        {
          "output_type": "execute_result",
          "data": {
            "text/plain": [
              "array([[1, 2, 3]])"
            ]
          },
          "metadata": {},
          "execution_count": 42
        }
      ],
      "source": [
        "x = np.array([1, 2, 3])\n",
        "\n",
        "# row vector via reshape\n",
        "x.reshape(1, 3)"
      ]
    },
    {
      "cell_type": "code",
      "execution_count": 43,
      "id": "e8948177",
      "metadata": {
        "id": "e8948177",
        "colab": {
          "base_uri": "https://localhost:8080/"
        },
        "outputId": "8c6d4642-8b69-4229-f58e-21bfbaa0c430"
      },
      "outputs": [
        {
          "output_type": "execute_result",
          "data": {
            "text/plain": [
              "array([[1, 2, 3]])"
            ]
          },
          "metadata": {},
          "execution_count": 43
        }
      ],
      "source": [
        "# row vector via newaxis\n",
        "x[np.newaxis, :]"
      ]
    },
    {
      "cell_type": "code",
      "execution_count": 44,
      "id": "c906262d",
      "metadata": {
        "id": "c906262d",
        "colab": {
          "base_uri": "https://localhost:8080/"
        },
        "outputId": "5fb5400b-708c-4593-96b0-74f35a1096c8"
      },
      "outputs": [
        {
          "output_type": "execute_result",
          "data": {
            "text/plain": [
              "array([[1],\n",
              "       [2],\n",
              "       [3]])"
            ]
          },
          "metadata": {},
          "execution_count": 44
        }
      ],
      "source": [
        "# column vector via reshape\n",
        "x.reshape((3, 1))"
      ]
    },
    {
      "cell_type": "code",
      "execution_count": 45,
      "id": "34c1ba40",
      "metadata": {
        "id": "34c1ba40",
        "colab": {
          "base_uri": "https://localhost:8080/"
        },
        "outputId": "43e8d66b-eaa4-4476-dcd8-7e4116f73678"
      },
      "outputs": [
        {
          "output_type": "execute_result",
          "data": {
            "text/plain": [
              "array([[1],\n",
              "       [2],\n",
              "       [3]])"
            ]
          },
          "metadata": {},
          "execution_count": 45
        }
      ],
      "source": [
        "# column vector via newaxis\n",
        "x[:, np.newaxis]"
      ]
    },
    {
      "cell_type": "markdown",
      "id": "1f15b0e7",
      "metadata": {
        "id": "1f15b0e7"
      },
      "source": [
        "#### Optional exercise\n",
        "- Create a new 4x4 array.\n",
        "- Select and print only the first two rows.\n",
        "- Select and print only the last two columns.\n",
        "- Select only the last two rows and first two columns.\n",
        "- Reshape the array into a 8x2 array."
      ]
    },
    {
      "cell_type": "code",
      "source": [
        "import numpy as np\n",
        "\n",
        "new = np.arange(16).reshape(4, 4)\n",
        "print(\"Original 4x4 array:\")\n",
        "print(new)\n",
        "print()"
      ],
      "metadata": {
        "colab": {
          "base_uri": "https://localhost:8080/"
        },
        "id": "oJTDNjgwALCU",
        "outputId": "09a124fa-b657-45a3-a835-089ee22df987"
      },
      "id": "oJTDNjgwALCU",
      "execution_count": 83,
      "outputs": [
        {
          "output_type": "stream",
          "name": "stdout",
          "text": [
            "Original 4x4 array:\n",
            "[[ 0  1  2  3]\n",
            " [ 4  5  6  7]\n",
            " [ 8  9 10 11]\n",
            " [12 13 14 15]]\n",
            "\n"
          ]
        }
      ]
    },
    {
      "cell_type": "code",
      "source": [
        "first_two_rows = new[:2, :]\n",
        "print(\"First two rows:\")\n",
        "print(first_two_rows)\n",
        "print()"
      ],
      "metadata": {
        "colab": {
          "base_uri": "https://localhost:8080/"
        },
        "id": "6cemyXVVAsjp",
        "outputId": "fa355c6e-b0b1-4bb5-e980-b43336b1cf66"
      },
      "id": "6cemyXVVAsjp",
      "execution_count": 84,
      "outputs": [
        {
          "output_type": "stream",
          "name": "stdout",
          "text": [
            "First two rows:\n",
            "[[0 1 2 3]\n",
            " [4 5 6 7]]\n",
            "\n"
          ]
        }
      ]
    },
    {
      "cell_type": "code",
      "source": [
        "last_two_rows_first_two_columns = new[2:, :2]\n",
        "print(\"Last two rows and first two columns:\")\n",
        "print(last_two_rows_first_two_columns)\n",
        "print()"
      ],
      "metadata": {
        "colab": {
          "base_uri": "https://localhost:8080/"
        },
        "id": "jcu45GDOA2s5",
        "outputId": "cc760f0b-e9cd-490b-e388-7878b6313f8c"
      },
      "id": "jcu45GDOA2s5",
      "execution_count": 85,
      "outputs": [
        {
          "output_type": "stream",
          "name": "stdout",
          "text": [
            "Last two rows and first two columns:\n",
            "[[ 8  9]\n",
            " [12 13]]\n",
            "\n"
          ]
        }
      ]
    },
    {
      "cell_type": "code",
      "source": [
        "reshaped_new = new.reshape(8, 2)\n",
        "print(\"Reshaped 8x2 array:\")\n",
        "print(reshaped_new)"
      ],
      "metadata": {
        "colab": {
          "base_uri": "https://localhost:8080/"
        },
        "id": "lQQb1GZuBAdF",
        "outputId": "565a5e0e-5fd7-46ac-95a8-d5c5f1aee3e7"
      },
      "id": "lQQb1GZuBAdF",
      "execution_count": 86,
      "outputs": [
        {
          "output_type": "stream",
          "name": "stdout",
          "text": [
            "Reshaped 8x2 array:\n",
            "[[ 0  1]\n",
            " [ 2  3]\n",
            " [ 4  5]\n",
            " [ 6  7]\n",
            " [ 8  9]\n",
            " [10 11]\n",
            " [12 13]\n",
            " [14 15]]\n"
          ]
        }
      ]
    },
    {
      "cell_type": "markdown",
      "id": "f80ed534",
      "metadata": {
        "id": "f80ed534"
      },
      "source": [
        "#### Array concatenation and division\n",
        "We can also combine multiple arrays into one and vice versa\n",
        "\n",
        "Concatenation can be achieved using the `np.concatenate`, `np.vstack` and `np.hstack`. `np.concatenate` takes a list of arrays as its first argument"
      ]
    },
    {
      "cell_type": "code",
      "execution_count": 46,
      "id": "aca79f3c",
      "metadata": {
        "id": "aca79f3c",
        "colab": {
          "base_uri": "https://localhost:8080/"
        },
        "outputId": "a3ad02e7-7135-4d5a-c6a8-4807b5bf004c"
      },
      "outputs": [
        {
          "output_type": "execute_result",
          "data": {
            "text/plain": [
              "array([1, 2, 3, 3, 2, 1])"
            ]
          },
          "metadata": {},
          "execution_count": 46
        }
      ],
      "source": [
        "x = np.array([1, 2, 3]) # create an array from a list\n",
        "y = np.array([3, 2, 1]) # create a second array from a list\n",
        "np.concatenate([x, y]) # array list to concatenate"
      ]
    },
    {
      "cell_type": "code",
      "execution_count": 47,
      "id": "b1ae7000",
      "metadata": {
        "id": "b1ae7000",
        "colab": {
          "base_uri": "https://localhost:8080/"
        },
        "outputId": "459a3663-ab2f-43c6-ffbe-9049c9a196b8"
      },
      "outputs": [
        {
          "output_type": "stream",
          "name": "stdout",
          "text": [
            "[ 1  2  3  3  2  1 99 88 77]\n"
          ]
        }
      ],
      "source": [
        "# we can concatenate more than one array at a time\n",
        "z = [99, 88, 77]\n",
        "print(np.concatenate([x, y, z]))"
      ]
    },
    {
      "cell_type": "markdown",
      "id": "704c9f27",
      "metadata": {
        "id": "704c9f27"
      },
      "source": [
        "We can use the same logic for multidimensional arrays"
      ]
    },
    {
      "cell_type": "code",
      "execution_count": 48,
      "id": "9ee83245",
      "metadata": {
        "id": "9ee83245",
        "colab": {
          "base_uri": "https://localhost:8080/"
        },
        "outputId": "a4afc599-b0bd-4829-c926-c2fbc103e1dc"
      },
      "outputs": [
        {
          "output_type": "execute_result",
          "data": {
            "text/plain": [
              "array([[1, 2, 3],\n",
              "       [4, 5, 6],\n",
              "       [1, 2, 3],\n",
              "       [4, 5, 6]])"
            ]
          },
          "metadata": {},
          "execution_count": 48
        }
      ],
      "source": [
        "grid = np.array([[1, 2, 3],\n",
        "                [4, 5, 6]])\n",
        "np.concatenate([grid, grid]) # concatenate on the first axis. Rows"
      ]
    },
    {
      "cell_type": "code",
      "execution_count": 49,
      "id": "3a224c6d",
      "metadata": {
        "id": "3a224c6d",
        "colab": {
          "base_uri": "https://localhost:8080/"
        },
        "outputId": "7547fce7-f35a-4cec-c6ed-06d23262e554"
      },
      "outputs": [
        {
          "output_type": "execute_result",
          "data": {
            "text/plain": [
              "array([[1, 2, 3],\n",
              "       [4, 5, 6]])"
            ]
          },
          "metadata": {},
          "execution_count": 49
        }
      ],
      "source": [
        "grid"
      ]
    },
    {
      "cell_type": "code",
      "execution_count": 50,
      "id": "816d430c",
      "metadata": {
        "id": "816d430c",
        "colab": {
          "base_uri": "https://localhost:8080/"
        },
        "outputId": "b30406f7-628a-43e9-9e3f-900fdf1ebde5"
      },
      "outputs": [
        {
          "output_type": "execute_result",
          "data": {
            "text/plain": [
              "array([[1, 2, 3, 1, 2, 3],\n",
              "       [4, 5, 6, 4, 5, 6]])"
            ]
          },
          "metadata": {},
          "execution_count": 50
        }
      ],
      "source": [
        "# Concatenate on the second axis (zero indexed)\n",
        "np.concatenate([grid, grid], axis=1) # concatenate on columns"
      ]
    },
    {
      "cell_type": "markdown",
      "id": "b7ae51f9",
      "metadata": {
        "id": "b7ae51f9"
      },
      "source": [
        "To work with diferent sized arrays it may be easier to work with `np.vstack` vertical stack, and `np.hstack` horizontal stack"
      ]
    },
    {
      "cell_type": "code",
      "execution_count": 51,
      "id": "fde98bad",
      "metadata": {
        "id": "fde98bad",
        "colab": {
          "base_uri": "https://localhost:8080/"
        },
        "outputId": "528dec23-2728-49aa-b134-abd0594a91fb"
      },
      "outputs": [
        {
          "output_type": "execute_result",
          "data": {
            "text/plain": [
              "array([[1, 2, 3],\n",
              "       [9, 8, 7],\n",
              "       [6, 5, 4]])"
            ]
          },
          "metadata": {},
          "execution_count": 51
        }
      ],
      "source": [
        "x = np.array([1, 2, 3])\n",
        "grid = np.array([[9, 8, 7],\n",
        "                [6, 5, 4]])\n",
        "# stack vertically\n",
        "np.vstack([x, grid])"
      ]
    },
    {
      "cell_type": "code",
      "execution_count": 52,
      "id": "5221e2ed",
      "metadata": {
        "id": "5221e2ed",
        "colab": {
          "base_uri": "https://localhost:8080/"
        },
        "outputId": "a76de25d-69eb-48d9-c390-49b083582797"
      },
      "outputs": [
        {
          "output_type": "execute_result",
          "data": {
            "text/plain": [
              "array([[ 9,  8,  7, 99],\n",
              "       [ 6,  5,  4, 99]])"
            ]
          },
          "metadata": {},
          "execution_count": 52
        }
      ],
      "source": [
        "# stack horizontally\n",
        "y = np.array([[99],\n",
        "              [99]])\n",
        "np.hstack([grid, y])"
      ]
    },
    {
      "cell_type": "markdown",
      "id": "9feb1cfa",
      "metadata": {
        "id": "9feb1cfa"
      },
      "source": [
        "#### Split arrays\n",
        "Finally we can split arrays using the `np.split`, `np.hplit` and `np.vsplit`. For each of these we need to pass a list of indexes that divide/split our array"
      ]
    },
    {
      "cell_type": "code",
      "execution_count": 53,
      "id": "797524e4",
      "metadata": {
        "id": "797524e4",
        "colab": {
          "base_uri": "https://localhost:8080/"
        },
        "outputId": "a53cb057-c741-452c-be05-352846d43abc"
      },
      "outputs": [
        {
          "output_type": "stream",
          "name": "stdout",
          "text": [
            "[1 2 3] [99 88] [77  4  5  6]\n"
          ]
        }
      ],
      "source": [
        "x = [1, 2, 3, 99, 88, 77, 4, 5, 6]\n",
        "x1, x2, x3 = np.split(x, [3, 5]) # split at index 3 and 5, non inclusive\n",
        "print(x1, x2, x3)"
      ]
    },
    {
      "cell_type": "markdown",
      "id": "e5e53a06",
      "metadata": {
        "id": "e5e53a06"
      },
      "source": [
        "Observe that N division/split points lead to N + 1 sub arrays. Similarly `np.hsplit` and `np.vsplit` can be used"
      ]
    },
    {
      "cell_type": "code",
      "execution_count": 54,
      "id": "b3efd34f",
      "metadata": {
        "id": "b3efd34f"
      },
      "outputs": [],
      "source": [
        "grid = np.arange(16).reshape((4, 4))"
      ]
    },
    {
      "cell_type": "code",
      "execution_count": 55,
      "id": "af0e782b",
      "metadata": {
        "id": "af0e782b",
        "colab": {
          "base_uri": "https://localhost:8080/"
        },
        "outputId": "8c9a5576-db20-4bf3-be3b-00cbac45164a"
      },
      "outputs": [
        {
          "output_type": "execute_result",
          "data": {
            "text/plain": [
              "array([[ 0,  1,  2,  3],\n",
              "       [ 4,  5,  6,  7],\n",
              "       [ 8,  9, 10, 11],\n",
              "       [12, 13, 14, 15]])"
            ]
          },
          "metadata": {},
          "execution_count": 55
        }
      ],
      "source": [
        "grid"
      ]
    },
    {
      "cell_type": "code",
      "execution_count": 56,
      "id": "76bafa23",
      "metadata": {
        "id": "76bafa23",
        "colab": {
          "base_uri": "https://localhost:8080/"
        },
        "outputId": "dd4ddac5-1cf2-46d5-ba7f-b1b3aff27902"
      },
      "outputs": [
        {
          "output_type": "stream",
          "name": "stdout",
          "text": [
            "[[0 1 2 3]\n",
            " [4 5 6 7]]\n",
            "[[ 8  9 10 11]\n",
            " [12 13 14 15]]\n"
          ]
        }
      ],
      "source": [
        "upper, lower = np.vsplit(grid, [2])\n",
        "print(upper)\n",
        "print(lower)"
      ]
    },
    {
      "cell_type": "code",
      "execution_count": 57,
      "id": "4a4474be",
      "metadata": {
        "id": "4a4474be",
        "colab": {
          "base_uri": "https://localhost:8080/"
        },
        "outputId": "bbe1f3fd-ca35-4251-c76c-81dca1d3d550"
      },
      "outputs": [
        {
          "output_type": "stream",
          "name": "stdout",
          "text": [
            "[[ 0  1]\n",
            " [ 4  5]\n",
            " [ 8  9]\n",
            " [12 13]]\n",
            "[[ 2  3]\n",
            " [ 6  7]\n",
            " [10 11]\n",
            " [14 15]]\n"
          ]
        }
      ],
      "source": [
        "left, right = np.hsplit(grid, [2])\n",
        "print(left)\n",
        "print(right)"
      ]
    },
    {
      "cell_type": "markdown",
      "id": "ec8b4ee0",
      "metadata": {
        "id": "ec8b4ee0"
      },
      "source": [
        "### Universal Functions\n",
        "Next we will look at why Numpy is important for data science and working with arrays.\n",
        "\n",
        "The key to making computation with Numpy very fast is using vectorized operations with Numpy, they key to this is using Numpy Universal Functions.\n",
        "\n",
        "Here is a speed comparison between a traditional for loop and a vectorized operation in Numpy using and array that contains a million values."
      ]
    },
    {
      "cell_type": "code",
      "execution_count": 58,
      "id": "7a24439a",
      "metadata": {
        "id": "7a24439a",
        "colab": {
          "base_uri": "https://localhost:8080/"
        },
        "outputId": "83b51b52-3a99-4ef7-efb8-2b200b683df2"
      },
      "outputs": [
        {
          "output_type": "execute_result",
          "data": {
            "text/plain": [
              "array([0.16666667, 1.        , 0.25      , 0.25      , 0.125     ])"
            ]
          },
          "metadata": {},
          "execution_count": 58
        }
      ],
      "source": [
        "# Traditional implementation\n",
        "import numpy as np\n",
        "np.random.seed(0)\n",
        "\n",
        "def compute_reciprocals(values):\n",
        "    output = np.empty(len(values))\n",
        "    for i in range(len(values)):\n",
        "        output[i] = 1.0 / values[i]\n",
        "    return output\n",
        "\n",
        "values = np.random.randint(1, 10, size=5)\n",
        "compute_reciprocals(values)"
      ]
    },
    {
      "cell_type": "code",
      "execution_count": 59,
      "id": "bdb47a25",
      "metadata": {
        "id": "bdb47a25",
        "colab": {
          "base_uri": "https://localhost:8080/"
        },
        "outputId": "4b4de401-f263-4689-9f26-8617b5d54be9"
      },
      "outputs": [
        {
          "output_type": "stream",
          "name": "stdout",
          "text": [
            "2.03 s ± 370 ms per loop (mean ± std. dev. of 7 runs, 1 loop each)\n"
          ]
        }
      ],
      "source": [
        "big_array = np.random.randint(1, 100, size=1000000)\n",
        "%timeit compute_reciprocals(big_array)"
      ]
    },
    {
      "cell_type": "markdown",
      "id": "baca9ecf",
      "metadata": {
        "id": "baca9ecf"
      },
      "source": [
        "The code above takes several seconds to run. Lets run it now with a vectorized operation."
      ]
    },
    {
      "cell_type": "code",
      "execution_count": 60,
      "id": "06e78ce7",
      "metadata": {
        "id": "06e78ce7",
        "colab": {
          "base_uri": "https://localhost:8080/"
        },
        "outputId": "2cdfb4b3-0d79-450b-b0ac-7485c323f941"
      },
      "outputs": [
        {
          "output_type": "stream",
          "name": "stdout",
          "text": [
            "[0.16666667 1.         0.25       0.25       0.125     ]\n",
            "[0.16666667 1.         0.25       0.25       0.125     ]\n"
          ]
        }
      ],
      "source": [
        "print(compute_reciprocals(values))\n",
        "print(1.0 / values)"
      ]
    },
    {
      "cell_type": "code",
      "execution_count": 61,
      "id": "04fb63fa",
      "metadata": {
        "id": "04fb63fa",
        "colab": {
          "base_uri": "https://localhost:8080/"
        },
        "outputId": "e0b46f7c-5cf3-4b69-b8e5-67c7685c0429"
      },
      "outputs": [
        {
          "output_type": "stream",
          "name": "stdout",
          "text": [
            "1.93 ms ± 241 µs per loop (mean ± std. dev. of 7 runs, 1000 loops each)\n"
          ]
        }
      ],
      "source": [
        "%timeit (1.0 / big_array)"
      ]
    },
    {
      "cell_type": "markdown",
      "id": "64b0da49",
      "metadata": {
        "id": "64b0da49"
      },
      "source": [
        "We can see that each loop and the consequent total execution time is orders of magnitude faster that the first iteration. Vectorized operations are implemented via ufuncs whose main function is to exectute repeteated operations on values in Numpy arrays.\n",
        "\n",
        "Ufuncs (universal functions) can run between scalars and arrays, two arrays, and multi dimensional arrays."
      ]
    },
    {
      "cell_type": "code",
      "execution_count": 62,
      "id": "e3502491",
      "metadata": {
        "id": "e3502491",
        "colab": {
          "base_uri": "https://localhost:8080/"
        },
        "outputId": "88a869d2-e611-4231-ffa1-f6155529159d"
      },
      "outputs": [
        {
          "output_type": "execute_result",
          "data": {
            "text/plain": [
              "array([0.        , 0.5       , 0.66666667, 0.75      , 0.8       ])"
            ]
          },
          "metadata": {},
          "execution_count": 62
        }
      ],
      "source": [
        "np.arange(5) / np.arange(1, 6)"
      ]
    },
    {
      "cell_type": "code",
      "execution_count": 63,
      "id": "e222d042",
      "metadata": {
        "id": "e222d042",
        "colab": {
          "base_uri": "https://localhost:8080/"
        },
        "outputId": "303a32e5-c2c5-4438-ac73-18ba67a5ec0e"
      },
      "outputs": [
        {
          "output_type": "execute_result",
          "data": {
            "text/plain": [
              "array([[  1,   2,   4],\n",
              "       [  8,  16,  32],\n",
              "       [ 64, 128, 256]])"
            ]
          },
          "metadata": {},
          "execution_count": 63
        }
      ],
      "source": [
        "# multidimensional example\n",
        "x = np.arange(9).reshape((3, 3))\n",
        "2 ** x"
      ]
    },
    {
      "cell_type": "markdown",
      "id": "ed58e4a8",
      "metadata": {
        "id": "ed58e4a8"
      },
      "source": [
        "### Numpy UFuncs\n",
        "#### Array arithmetic\n",
        "We have standard addition, substraction, multiplication and division"
      ]
    },
    {
      "cell_type": "code",
      "execution_count": 64,
      "id": "aa70044e",
      "metadata": {
        "id": "aa70044e",
        "colab": {
          "base_uri": "https://localhost:8080/"
        },
        "outputId": "2478d620-a8ff-4440-c91f-8a1afcae0f69"
      },
      "outputs": [
        {
          "output_type": "stream",
          "name": "stdout",
          "text": [
            "x     = [0 1 2 3]\n",
            "x + 5 = [5 6 7 8]\n",
            "x - 5 = [-5 -4 -3 -2]\n",
            "x * 2 = [0 2 4 6]\n",
            "x / 2 = [0.  0.5 1.  1.5]\n",
            "x // 2 = [0 0 1 1]\n"
          ]
        }
      ],
      "source": [
        "x = np.arange(4)\n",
        "print(\"x     =\", x)\n",
        "print(\"x + 5 =\", x + 5)\n",
        "print(\"x - 5 =\", x - 5)\n",
        "print(\"x * 2 =\", x * 2)\n",
        "print(\"x / 2 =\", x / 2)\n",
        "print(\"x // 2 =\", x // 2)  # floor division"
      ]
    },
    {
      "cell_type": "code",
      "execution_count": 65,
      "id": "ac9d9a4b",
      "metadata": {
        "id": "ac9d9a4b",
        "colab": {
          "base_uri": "https://localhost:8080/"
        },
        "outputId": "aa3b3c64-ca06-4d48-d45a-e58a6c0d26ca"
      },
      "outputs": [
        {
          "output_type": "stream",
          "name": "stdout",
          "text": [
            "-x     =  [ 0 -1 -2 -3]\n",
            "x ** 2 =  [0 1 4 9]\n",
            "x % 2  =  [0 1 0 1]\n"
          ]
        }
      ],
      "source": [
        "# unary functions for negation, exponentiation, and modulus\n",
        "print(\"-x     = \", -x)\n",
        "print(\"x ** 2 = \", x ** 2)\n",
        "print(\"x % 2  = \", x % 2)"
      ]
    },
    {
      "cell_type": "markdown",
      "id": "87f006ab",
      "metadata": {
        "id": "87f006ab"
      },
      "source": [
        "All these arithmetic operations are wrappers for Numpy functions\n",
        "\n",
        "|Operator|\tEquivalent ufunc |\tDescription |\n",
        "|:--------:|:--------|:--------|\n",
        "|+ |\tnp.add\t| Addition (e.g., 1 + 1 = 2) |\n",
        "|- |\tnp.subtract | Subtraction (e.g., 3 - 2 = 1)\n",
        "|- |\tnp.negative |\tUnary negation (e.g., -2)\n",
        "|* |\tnp.multiply |\tMultiplication (e.g., 2 * 3 = 6)\n",
        "|/ |\tnp.divide |\tDivision (e.g., 3 / 2 = 1.5)\n",
        "|// |\tnp.floor_divide |\tFloor division (e.g., 3 // 2 = 1)\n",
        "|** |\tnp.power |\tExponentiation (e.g., 2 ** 3 = 8)\n",
        "|% |\tnp.mod |\tModulus/remainder (e.g., 9 % 4 = 1)"
      ]
    },
    {
      "cell_type": "markdown",
      "id": "35b9c0bd",
      "metadata": {
        "id": "35b9c0bd"
      },
      "source": [
        "#### Trigonometric functions\n",
        "We will explore trigonometric functions. Lets start by defining an array of angles."
      ]
    },
    {
      "cell_type": "code",
      "execution_count": 66,
      "id": "0b766c19",
      "metadata": {
        "id": "0b766c19"
      },
      "outputs": [],
      "source": [
        "theta = np.linspace(0, np.pi, 3)"
      ]
    },
    {
      "cell_type": "code",
      "execution_count": 67,
      "id": "47f52d91",
      "metadata": {
        "id": "47f52d91",
        "colab": {
          "base_uri": "https://localhost:8080/"
        },
        "outputId": "f21148a8-d57c-4a04-87bc-67a9b349c001"
      },
      "outputs": [
        {
          "output_type": "stream",
          "name": "stdout",
          "text": [
            "theta      =  [0.         1.57079633 3.14159265]\n",
            "sin(theta) =  [0.0000000e+00 1.0000000e+00 1.2246468e-16]\n",
            "cos(theta) =  [ 1.000000e+00  6.123234e-17 -1.000000e+00]\n",
            "tan(theta) =  [ 0.00000000e+00  1.63312394e+16 -1.22464680e-16]\n"
          ]
        }
      ],
      "source": [
        "print(\"theta      = \", theta)\n",
        "print(\"sin(theta) = \", np.sin(theta))\n",
        "print(\"cos(theta) = \", np.cos(theta))\n",
        "print(\"tan(theta) = \", np.tan(theta))"
      ]
    },
    {
      "cell_type": "code",
      "execution_count": 68,
      "id": "5426ce58",
      "metadata": {
        "id": "5426ce58",
        "colab": {
          "base_uri": "https://localhost:8080/"
        },
        "outputId": "5e3548e8-5b54-4f0b-8c83-b8c48bf6f8c7"
      },
      "outputs": [
        {
          "output_type": "stream",
          "name": "stdout",
          "text": [
            "x         =  [-1, 0, 1]\n",
            "arcsin(x) =  [-1.57079633  0.          1.57079633]\n",
            "arccos(x) =  [3.14159265 1.57079633 0.        ]\n",
            "arctan(x) =  [-0.78539816  0.          0.78539816]\n"
          ]
        }
      ],
      "source": [
        "# inverse functions\n",
        "x = [-1, 0, 1]\n",
        "print(\"x         = \", x)\n",
        "print(\"arcsin(x) = \", np.arcsin(x))\n",
        "print(\"arccos(x) = \", np.arccos(x))\n",
        "print(\"arctan(x) = \", np.arctan(x))"
      ]
    },
    {
      "cell_type": "markdown",
      "id": "8032e04e",
      "metadata": {
        "id": "8032e04e"
      },
      "source": [
        "#### Exponents and logarithms"
      ]
    },
    {
      "cell_type": "code",
      "execution_count": 69,
      "id": "2e2c8677",
      "metadata": {
        "id": "2e2c8677",
        "colab": {
          "base_uri": "https://localhost:8080/"
        },
        "outputId": "a5e4357a-ca3f-42fc-9b10-f8fca3ca0848"
      },
      "outputs": [
        {
          "output_type": "stream",
          "name": "stdout",
          "text": [
            "x     = [1, 2, 3]\n",
            "e^x   = [ 2.71828183  7.3890561  20.08553692]\n",
            "2^x   = [2. 4. 8.]\n",
            "3^x   = [ 3  9 27]\n"
          ]
        }
      ],
      "source": [
        "x = [1, 2, 3]\n",
        "print(\"x     =\", x)\n",
        "print(\"e^x   =\", np.exp(x))\n",
        "print(\"2^x   =\", np.exp2(x))\n",
        "print(\"3^x   =\", np.power(3, x))"
      ]
    },
    {
      "cell_type": "code",
      "execution_count": 70,
      "id": "ca1fad6a",
      "metadata": {
        "id": "ca1fad6a",
        "colab": {
          "base_uri": "https://localhost:8080/"
        },
        "outputId": "a037883b-97ed-426c-b1c4-f922ba357789"
      },
      "outputs": [
        {
          "output_type": "stream",
          "name": "stdout",
          "text": [
            "x        = [1, 2, 4, 10]\n",
            "ln(x)    = [0.         0.69314718 1.38629436 2.30258509]\n",
            "log2(x)  = [0.         1.         2.         3.32192809]\n",
            "log10(x) = [0.         0.30103    0.60205999 1.        ]\n"
          ]
        }
      ],
      "source": [
        "# log functions\n",
        "x = [1, 2, 4, 10]\n",
        "print(\"x        =\", x)\n",
        "print(\"ln(x)    =\", np.log(x))\n",
        "print(\"log2(x)  =\", np.log2(x))\n",
        "print(\"log10(x) =\", np.log10(x))"
      ]
    },
    {
      "cell_type": "markdown",
      "id": "353b9c48",
      "metadata": {
        "id": "353b9c48"
      },
      "source": [
        "#### Agregates\n",
        "We can reduce array operations of any ufunc. A reduce repeatedly applies a given operation to the elements of the array until a single result remains.\n",
        "\n",
        "Calling `reduce` on the `add` ufunc results in the sum of all elements in the array"
      ]
    },
    {
      "cell_type": "code",
      "execution_count": 71,
      "id": "d17fb9de",
      "metadata": {
        "id": "d17fb9de",
        "colab": {
          "base_uri": "https://localhost:8080/"
        },
        "outputId": "8208c89c-b8ee-478f-96dc-3a8351e8f760"
      },
      "outputs": [
        {
          "output_type": "execute_result",
          "data": {
            "text/plain": [
              "15"
            ]
          },
          "metadata": {},
          "execution_count": 71
        }
      ],
      "source": [
        "x = np.arange(1, 6)\n",
        "np.add.reduce(x)"
      ]
    },
    {
      "cell_type": "code",
      "execution_count": 72,
      "id": "1222f617",
      "metadata": {
        "id": "1222f617",
        "colab": {
          "base_uri": "https://localhost:8080/"
        },
        "outputId": "482bb985-fcb4-4773-9fa3-c0c3634df75d"
      },
      "outputs": [
        {
          "output_type": "execute_result",
          "data": {
            "text/plain": [
              "array([1, 2, 3, 4, 5])"
            ]
          },
          "metadata": {},
          "execution_count": 72
        }
      ],
      "source": [
        "x"
      ]
    },
    {
      "cell_type": "code",
      "execution_count": 73,
      "id": "54adf270",
      "metadata": {
        "id": "54adf270",
        "colab": {
          "base_uri": "https://localhost:8080/"
        },
        "outputId": "2f6efb45-9fba-4215-a919-850153ae9dd7"
      },
      "outputs": [
        {
          "output_type": "execute_result",
          "data": {
            "text/plain": [
              "120"
            ]
          },
          "metadata": {},
          "execution_count": 73
        }
      ],
      "source": [
        "# calling reduce on multiply\n",
        "# results in the product of all array elements\n",
        "np.multiply.reduce(x)"
      ]
    },
    {
      "cell_type": "code",
      "execution_count": 74,
      "id": "aef70bb4",
      "metadata": {
        "id": "aef70bb4",
        "colab": {
          "base_uri": "https://localhost:8080/"
        },
        "outputId": "3076ec85-ba9c-4395-e650-a8cea004f33d"
      },
      "outputs": [
        {
          "output_type": "execute_result",
          "data": {
            "text/plain": [
              "array([ 1,  3,  6, 10, 15])"
            ]
          },
          "metadata": {},
          "execution_count": 74
        }
      ],
      "source": [
        "# if we would like to store all the intermediate results\n",
        "# we can use accumulate instead\n",
        "np.add.accumulate(x)"
      ]
    },
    {
      "cell_type": "code",
      "execution_count": 75,
      "id": "9d35b93b",
      "metadata": {
        "id": "9d35b93b",
        "colab": {
          "base_uri": "https://localhost:8080/"
        },
        "outputId": "8ee957e5-647f-4f20-ee76-c2986da34651"
      },
      "outputs": [
        {
          "output_type": "execute_result",
          "data": {
            "text/plain": [
              "array([  1,   2,   6,  24, 120])"
            ]
          },
          "metadata": {},
          "execution_count": 75
        }
      ],
      "source": [
        "np.multiply.accumulate(x)\n"
      ]
    },
    {
      "cell_type": "markdown",
      "id": "35b9023b",
      "metadata": {
        "id": "35b9023b"
      },
      "source": [
        "### Exercises for participation credit\n",
        "1. Create a new random integer array with Numpy functions. Use a random seed to guarantee the same array every time. Array must be of size (20, 5).\n",
        "2. Calculate the average value of the second column of the array created in exercise 1. Calculate the sum of all elements in columns 3 and 4. You can use built in ufuncs and indexing.\n",
        "\n",
        "We will now use a simple IoT readings dataset for this exercise. This dataset contains IoT temperature readings, where the reading was made (room) and location (reading was outside or inside a room).\n",
        "\n",
        "3. Open the data file `IOT-temp.csv` inside the `iotdata-compressed` file, you will need some program like 7zip or Winrar to uncompress this `iotdata-compressed` folder. Open this file with Pandas and create a new Dataframe with this data. Show the first 10 rows of data. Show the last 10 rows of data. Show data points for index 300 to 350.\n",
        "4. Create a new dataframe from index 1000 to 2000. Rename column `out/in` to `location`. Rename colum `room_id/id` to `room` How many of these readings were made outside? How many were inside?\n",
        "5. Split your new dataframe into readings that were made inside and readings that were made outside. Create a new dataframe with only inside readings. Create a new dataframe only with outside readings. Print the mean value of the temperature for both new dataframes.\n",
        "6. Save both dataframes created in exercise 5 to `csv` files.\n",
        "\n",
        "More information about the dataset for exercises 3 and 4 in [this link](https://www.kaggle.com/datasets/atulanandjha/temperature-readings-iot-devices)"
      ]
    },
    {
      "cell_type": "code",
      "source": [
        "import numpy as np\n",
        "np.random.seed(0)\n",
        "random_array = np.random.randint(0, 100, size=(20, 5))\n",
        "average_second_column = np.mean(random_array[:, 1])\n",
        "sum_columns_3_4 = np.sum(random_array[:, 2:4])\n",
        "\n",
        "\n",
        "print(\"Random Array:\")\n",
        "print(random_array)\n",
        "print()\n",
        "print(f\"Average value of the second column: {average_second_column}\")\n",
        "print(f\"Sum of all elements in columns 3 and 4: {sum_columns_3_4}\")"
      ],
      "metadata": {
        "colab": {
          "base_uri": "https://localhost:8080/"
        },
        "id": "wYYBowIPBL-p",
        "outputId": "98602259-0413-4db9-b161-a37b91978a27"
      },
      "id": "wYYBowIPBL-p",
      "execution_count": 88,
      "outputs": [
        {
          "output_type": "stream",
          "name": "stdout",
          "text": [
            "Random Array:\n",
            "[[44 47 64 67 67]\n",
            " [ 9 83 21 36 87]\n",
            " [70 88 88 12 58]\n",
            " [65 39 87 46 88]\n",
            " [81 37 25 77 72]\n",
            " [ 9 20 80 69 79]\n",
            " [47 64 82 99 88]\n",
            " [49 29 19 19 14]\n",
            " [39 32 65  9 57]\n",
            " [32 31 74 23 35]\n",
            " [75 55 28 34  0]\n",
            " [ 0 36 53  5 38]\n",
            " [17 79  4 42 58]\n",
            " [31  1 65 41 57]\n",
            " [35 11 46 82 91]\n",
            " [ 0 14 99 53 12]\n",
            " [42 84 75 68  6]\n",
            " [68 47  3 76 52]\n",
            " [78 15 20 99 58]\n",
            " [23 79 13 85 48]]\n",
            "\n",
            "Average value of the second column: 44.55\n",
            "Sum of all elements in columns 3 and 4: 2053\n"
          ]
        }
      ]
    }
  ],
  "metadata": {
    "kernelspec": {
      "display_name": "Python 3 (ipykernel)",
      "language": "python",
      "name": "python3"
    },
    "language_info": {
      "codemirror_mode": {
        "name": "ipython",
        "version": 3
      },
      "file_extension": ".py",
      "mimetype": "text/x-python",
      "name": "python",
      "nbconvert_exporter": "python",
      "pygments_lexer": "ipython3",
      "version": "3.10.4"
    },
    "colab": {
      "provenance": [],
      "include_colab_link": true
    }
  },
  "nbformat": 4,
  "nbformat_minor": 5
}