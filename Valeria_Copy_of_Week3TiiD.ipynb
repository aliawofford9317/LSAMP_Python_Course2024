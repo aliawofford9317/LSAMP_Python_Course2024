{
  "nbformat": 4,
  "nbformat_minor": 0,
  "metadata": {
    "colab": {
      "provenance": [],
      "include_colab_link": true
    },
    "kernelspec": {
      "name": "python3",
      "display_name": "Python 3"
    },
    "language_info": {
      "name": "python"
    }
  },
  "cells": [
    {
      "cell_type": "markdown",
      "metadata": {
        "id": "view-in-github",
        "colab_type": "text"
      },
      "source": [
        "<a href=\"https://colab.research.google.com/github/aliawofford9317/LSAMP_Python_Course2024/blob/Valeria/Valeria_Copy_of_Week3TiiD.ipynb\" target=\"_parent\"><img src=\"https://colab.research.google.com/assets/colab-badge.svg\" alt=\"Open In Colab\"/></a>"
      ]
    },
    {
      "cell_type": "markdown",
      "source": [
        "Take this list of fruit:\n",
        "\n",
        " \"apple\", \"banana\", \"orange\", \"grape\", \"strawberry\", \"pineapple\", \"watermelon\", \"kiwi\", \"blueberry\", \"mango\"\n",
        "\n",
        "In a for loop, print the name of the fruit. Additionally, If the fruit name has 5 characters or less, print \"Small name\" else print \"Big name\""
      ],
      "metadata": {
        "id": "w4j1C0XxrzkS"
      }
    },
    {
      "cell_type": "code",
      "execution_count": 1,
      "metadata": {
        "id": "ofGqwGB4q8HQ",
        "colab": {
          "base_uri": "https://localhost:8080/"
        },
        "outputId": "9051052a-7a80-4b9f-e908-5577e25a2d44"
      },
      "outputs": [
        {
          "output_type": "stream",
          "name": "stdout",
          "text": [
            "apple\n",
            "Small name\n",
            "banana\n",
            "Big name\n",
            "orange\n",
            "Big name\n",
            "grape\n",
            "Small name\n",
            "strawberry\n",
            "Big name\n",
            "pineapple\n",
            "Big name\n",
            "watermelon\n",
            "Big name\n",
            "kiwi\n",
            "Small name\n",
            "blueberry\n",
            "Big name\n",
            "mango\n",
            "Small name\n"
          ]
        }
      ],
      "source": [
        "fruits = [\"apple\", \"banana\", \"orange\", \"grape\", \"strawberry\", \"pineapple\",\n",
        "          \"watermelon\", \"kiwi\", \"blueberry\", \"mango\"]\n",
        "\n",
        "for fruit in fruits:\n",
        "  print(fruit)\n",
        "  if len(fruit) <= 5:\n",
        "    print(\"Small name\")\n",
        "  else:\n",
        "    print(\"Big name\")"
      ]
    },
    {
      "cell_type": "code",
      "source": [
        "# For a more concise answer, move the print into a single line\n",
        "fruits = [\"apple\", \"banana\", \"orange\", \"grape\", \"strawberry\", \"pineapple\",\n",
        "          \"watermelon\", \"kiwi\", \"blueberry\", \"mango\"]\n",
        "for fruit in fruits:\n",
        "    if len(fruit) <= 5:\n",
        "        print(f\"{fruit}: Small name\")\n",
        "    else:\n",
        "        print(f\"{fruit}: Big name\")"
      ],
      "metadata": {
        "colab": {
          "base_uri": "https://localhost:8080/"
        },
        "id": "N9fRW0e4uxe3",
        "outputId": "104b918f-4af6-4a85-89e3-4c3c5e00d75f"
      },
      "execution_count": null,
      "outputs": [
        {
          "output_type": "stream",
          "name": "stdout",
          "text": [
            "apple: Small name\n",
            "banana: Big name\n",
            "orange: Big name\n",
            "grape: Small name\n",
            "strawberry: Big name\n",
            "pineapple: Big name\n",
            "watermelon: Big name\n",
            "kiwi: Small name\n",
            "blueberry: Big name\n",
            "mango: Small name\n"
          ]
        }
      ]
    },
    {
      "cell_type": "markdown",
      "source": [
        "Today is my birthday and I am 29 years old. Write a while loop that to tell me what year I was born\n",
        "\n",
        "Hint: n = 0, year = 2024, n < 29"
      ],
      "metadata": {
        "id": "MpLm1qmjseKL"
      }
    },
    {
      "cell_type": "code",
      "source": [
        "# If starting at 0 , use less than\n",
        "n = 0\n",
        "year = 2024\n",
        "while n < 29:\n",
        "  year = year - 1\n",
        "  n = n + 1\n",
        "print(year)"
      ],
      "metadata": {
        "colab": {
          "base_uri": "https://localhost:8080/"
        },
        "id": "5SfVgDPWstaa",
        "outputId": "90b37ef1-28d6-4bfe-c6b0-debf625ba248"
      },
      "execution_count": null,
      "outputs": [
        {
          "output_type": "stream",
          "name": "stdout",
          "text": [
            "1995\n"
          ]
        }
      ]
    },
    {
      "cell_type": "code",
      "source": [
        "# If starting at 1 , use less than or equal\n",
        "n = 1\n",
        "year = 2024\n",
        "while n <= 29:\n",
        "  year = year - 1\n",
        "  n = n + 1\n",
        "print(year)"
      ],
      "metadata": {
        "colab": {
          "base_uri": "https://localhost:8080/"
        },
        "id": "2S5FeX-UtAPA",
        "outputId": "d363ccc9-d8af-423b-fd92-98c2a455a282"
      },
      "execution_count": null,
      "outputs": [
        {
          "output_type": "stream",
          "name": "stdout",
          "text": [
            "1995\n"
          ]
        }
      ]
    },
    {
      "cell_type": "code",
      "source": [],
      "metadata": {
        "id": "QBQW0qqBtb4R"
      },
      "execution_count": null,
      "outputs": []
    }
  ]
}