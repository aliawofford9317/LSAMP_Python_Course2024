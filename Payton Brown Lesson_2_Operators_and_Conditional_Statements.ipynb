{
  "cells": [
    {
      "cell_type": "markdown",
      "metadata": {
        "id": "view-in-github",
        "colab_type": "text"
      },
      "source": [
        "<a href=\"https://colab.research.google.com/github/aliawofford9317/LSAMP_Python_Course2024/blob/Payton-Brown/Payton%20Brown%20Lesson_2_Operators_and_Conditional_Statements.ipynb\" target=\"_parent\"><img src=\"https://colab.research.google.com/assets/colab-badge.svg\" alt=\"Open In Colab\"/></a>"
      ]
    },
    {
      "cell_type": "markdown",
      "id": "83898c59",
      "metadata": {
        "id": "83898c59"
      },
      "source": [
        "## Operators\n",
        "Operators are symbols that indicate how two operands should be manipulated. Operators and operants together form an expresion. Operators will always return a value\n",
        "\n",
        "### Arithmetic Operators\n",
        "- `+` add two operands\n",
        "- `-` substract two operands\n",
        "- `*` multiply two operands\n",
        "- `/` divide two operands\n",
        "- `%` modulus, return the remainder when the first number is divided from the second number.\n",
        "- `//` return integer division\n",
        "- `**` Exponentiation"
      ]
    },
    {
      "cell_type": "code",
      "execution_count": 1,
      "id": "f8762c51",
      "metadata": {
        "id": "f8762c51",
        "outputId": "bdae9f3e-c5dc-4c18-a8a0-d445f0c062f6",
        "colab": {
          "base_uri": "https://localhost:8080/"
        }
      },
      "outputs": [
        {
          "output_type": "execute_result",
          "data": {
            "text/plain": [
              "9"
            ]
          },
          "metadata": {},
          "execution_count": 1
        }
      ],
      "source": [
        "x = 7\n",
        "y = 2\n",
        "x + y"
      ]
    },
    {
      "cell_type": "code",
      "execution_count": 2,
      "id": "098414f0",
      "metadata": {
        "id": "098414f0",
        "outputId": "f596efac-d1ee-4222-acc5-8523dd3009a1",
        "colab": {
          "base_uri": "https://localhost:8080/"
        }
      },
      "outputs": [
        {
          "output_type": "execute_result",
          "data": {
            "text/plain": [
              "5"
            ]
          },
          "metadata": {},
          "execution_count": 2
        }
      ],
      "source": [
        "x - y"
      ]
    },
    {
      "cell_type": "code",
      "execution_count": 3,
      "id": "57c8f4c2",
      "metadata": {
        "id": "57c8f4c2",
        "outputId": "ac8c2e6c-98d5-4a7a-e9c1-d514de3c6b3a",
        "colab": {
          "base_uri": "https://localhost:8080/"
        }
      },
      "outputs": [
        {
          "output_type": "execute_result",
          "data": {
            "text/plain": [
              "14"
            ]
          },
          "metadata": {},
          "execution_count": 3
        }
      ],
      "source": [
        "x * y"
      ]
    },
    {
      "cell_type": "code",
      "execution_count": 4,
      "id": "5ea98586",
      "metadata": {
        "id": "5ea98586",
        "outputId": "6ac6c25e-335b-46e8-d013-76b099b18447",
        "colab": {
          "base_uri": "https://localhost:8080/"
        }
      },
      "outputs": [
        {
          "output_type": "execute_result",
          "data": {
            "text/plain": [
              "3.5"
            ]
          },
          "metadata": {},
          "execution_count": 4
        }
      ],
      "source": [
        "x / y"
      ]
    },
    {
      "cell_type": "code",
      "execution_count": 5,
      "id": "b3275999",
      "metadata": {
        "id": "b3275999",
        "outputId": "924abae6-e2d9-4524-baef-6abf74b29e78",
        "colab": {
          "base_uri": "https://localhost:8080/"
        }
      },
      "outputs": [
        {
          "output_type": "execute_result",
          "data": {
            "text/plain": [
              "1"
            ]
          },
          "metadata": {},
          "execution_count": 5
        }
      ],
      "source": [
        "x % y"
      ]
    },
    {
      "cell_type": "code",
      "execution_count": 6,
      "id": "e569b719",
      "metadata": {
        "id": "e569b719",
        "outputId": "3942cedb-cf0e-4df3-f857-3f2d7d567c69",
        "colab": {
          "base_uri": "https://localhost:8080/"
        }
      },
      "outputs": [
        {
          "output_type": "execute_result",
          "data": {
            "text/plain": [
              "3"
            ]
          },
          "metadata": {},
          "execution_count": 6
        }
      ],
      "source": [
        "x // y"
      ]
    },
    {
      "cell_type": "code",
      "execution_count": 7,
      "id": "05090a67",
      "metadata": {
        "id": "05090a67",
        "outputId": "2a064584-2467-4b0d-996e-07ba9327d021",
        "colab": {
          "base_uri": "https://localhost:8080/"
        }
      },
      "outputs": [
        {
          "output_type": "execute_result",
          "data": {
            "text/plain": [
              "49"
            ]
          },
          "metadata": {},
          "execution_count": 7
        }
      ],
      "source": [
        "x ** y"
      ]
    },
    {
      "cell_type": "markdown",
      "id": "9d9a299f",
      "metadata": {
        "id": "9d9a299f"
      },
      "source": [
        "### Comparison Operators\n",
        "\n",
        "- `==`\tEqual\tx == y\n",
        "- `!=`\tNot equal\tx != y\n",
        "-  `>`\tGreater than\tx > y\n",
        "- `<`\tLess than\tx < y\n",
        "- `>=`\tGreater than or equal to\tx >= y\n",
        "- `<=`\tLess than or equal to\tx <= y"
      ]
    },
    {
      "cell_type": "code",
      "execution_count": 8,
      "id": "24b65b8d",
      "metadata": {
        "id": "24b65b8d",
        "outputId": "fd039f59-71aa-4e0d-cebd-ceb7e110fccd",
        "colab": {
          "base_uri": "https://localhost:8080/"
        }
      },
      "outputs": [
        {
          "output_type": "execute_result",
          "data": {
            "text/plain": [
              "False"
            ]
          },
          "metadata": {},
          "execution_count": 8
        }
      ],
      "source": [
        "x = 9\n",
        "y = 1\n",
        "x < y"
      ]
    },
    {
      "cell_type": "code",
      "execution_count": 9,
      "id": "dfff367e",
      "metadata": {
        "id": "dfff367e",
        "outputId": "66d54f5b-374c-4518-dc59-e371af2e194b",
        "colab": {
          "base_uri": "https://localhost:8080/"
        }
      },
      "outputs": [
        {
          "output_type": "execute_result",
          "data": {
            "text/plain": [
              "True"
            ]
          },
          "metadata": {},
          "execution_count": 9
        }
      ],
      "source": [
        "x > y"
      ]
    },
    {
      "cell_type": "code",
      "execution_count": 10,
      "id": "ff31f54b",
      "metadata": {
        "id": "ff31f54b",
        "outputId": "879c3c97-2673-4fb3-dbad-494f18e28de5",
        "colab": {
          "base_uri": "https://localhost:8080/"
        }
      },
      "outputs": [
        {
          "output_type": "execute_result",
          "data": {
            "text/plain": [
              "False"
            ]
          },
          "metadata": {},
          "execution_count": 10
        }
      ],
      "source": [
        "x == y"
      ]
    },
    {
      "cell_type": "code",
      "execution_count": 11,
      "id": "a61ae583",
      "metadata": {
        "id": "a61ae583",
        "outputId": "69f53c7b-64c7-4cf9-b956-b8c309fcd99a",
        "colab": {
          "base_uri": "https://localhost:8080/"
        }
      },
      "outputs": [
        {
          "output_type": "execute_result",
          "data": {
            "text/plain": [
              "True"
            ]
          },
          "metadata": {},
          "execution_count": 11
        }
      ],
      "source": [
        "# Comparisson operators can be concatenated\n",
        "x = 9\n",
        "1 < x and x < 20"
      ]
    },
    {
      "cell_type": "markdown",
      "id": "4e75d36f",
      "metadata": {
        "id": "4e75d36f"
      },
      "source": [
        "### Logical operators\n",
        "- `and` \tReturns True if both statements are true\tx < 5 and  x < 10\n",
        "- `or`\tReturns True if one of the statements is true\tx < 5 or x < 4\n",
        "- `not`\tReverse the result, returns False if the result is true"
      ]
    },
    {
      "cell_type": "code",
      "execution_count": 12,
      "id": "6021e7cd",
      "metadata": {
        "id": "6021e7cd",
        "outputId": "1c2d6089-72d8-4cde-99c9-ea129c4d1fa6",
        "colab": {
          "base_uri": "https://localhost:8080/"
        }
      },
      "outputs": [
        {
          "output_type": "execute_result",
          "data": {
            "text/plain": [
              "True"
            ]
          },
          "metadata": {},
          "execution_count": 12
        }
      ],
      "source": [
        "x = True\n",
        "y = False\n",
        "x or y"
      ]
    },
    {
      "cell_type": "code",
      "execution_count": 13,
      "id": "29263f96",
      "metadata": {
        "id": "29263f96",
        "outputId": "a6715c51-65d7-4263-8039-ed3d51639e3e",
        "colab": {
          "base_uri": "https://localhost:8080/"
        }
      },
      "outputs": [
        {
          "output_type": "execute_result",
          "data": {
            "text/plain": [
              "False"
            ]
          },
          "metadata": {},
          "execution_count": 13
        }
      ],
      "source": [
        "x and y"
      ]
    },
    {
      "cell_type": "code",
      "execution_count": 14,
      "id": "05abf3b1",
      "metadata": {
        "id": "05abf3b1",
        "outputId": "6c5b3c97-a558-4713-9ae5-82cfc68b19d3",
        "colab": {
          "base_uri": "https://localhost:8080/"
        }
      },
      "outputs": [
        {
          "output_type": "execute_result",
          "data": {
            "text/plain": [
              "False"
            ]
          },
          "metadata": {},
          "execution_count": 14
        }
      ],
      "source": [
        "not x"
      ]
    },
    {
      "cell_type": "code",
      "execution_count": 15,
      "id": "7b444ff8",
      "metadata": {
        "id": "7b444ff8",
        "outputId": "27ab9848-8640-469d-c404-fa6719ce567e",
        "colab": {
          "base_uri": "https://localhost:8080/"
        }
      },
      "outputs": [
        {
          "output_type": "execute_result",
          "data": {
            "text/plain": [
              "True"
            ]
          },
          "metadata": {},
          "execution_count": 15
        }
      ],
      "source": [
        "not y"
      ]
    },
    {
      "cell_type": "markdown",
      "id": "54db517e",
      "metadata": {
        "id": "54db517e"
      },
      "source": [
        "### Membership Operators\n",
        "- `in` \tReturns True if a sequence with the specified value is present in the object\n",
        "- `not in`\tReturns True if a sequence with the specified value is not present in the object"
      ]
    },
    {
      "cell_type": "code",
      "execution_count": 16,
      "id": "eb6d6464",
      "metadata": {
        "id": "eb6d6464",
        "outputId": "db91c737-e865-4021-c71a-c98e3a8e295d",
        "colab": {
          "base_uri": "https://localhost:8080/"
        }
      },
      "outputs": [
        {
          "output_type": "execute_result",
          "data": {
            "text/plain": [
              "True"
            ]
          },
          "metadata": {},
          "execution_count": 16
        }
      ],
      "source": [
        "a = [1, 2, 3, 4, 5]\n",
        "b = 4\n",
        "\n",
        "b in a"
      ]
    },
    {
      "cell_type": "code",
      "execution_count": 17,
      "id": "23972309",
      "metadata": {
        "id": "23972309",
        "outputId": "ba37001d-8ccc-4bce-c844-222f715d710e",
        "colab": {
          "base_uri": "https://localhost:8080/"
        }
      },
      "outputs": [
        {
          "output_type": "execute_result",
          "data": {
            "text/plain": [
              "True"
            ]
          },
          "metadata": {},
          "execution_count": 17
        }
      ],
      "source": [
        "c = [2, 3, 4]\n",
        "\n",
        "c not in a"
      ]
    },
    {
      "cell_type": "code",
      "execution_count": 18,
      "id": "15e8c91a",
      "metadata": {
        "id": "15e8c91a",
        "outputId": "fa8b3206-d8af-449d-bcf9-b3ab773048ea",
        "colab": {
          "base_uri": "https://localhost:8080/"
        }
      },
      "outputs": [
        {
          "output_type": "execute_result",
          "data": {
            "text/plain": [
              "[1, 2, 3, 4, 5, [2, 3, 4]]"
            ]
          },
          "metadata": {},
          "execution_count": 18
        }
      ],
      "source": [
        "a.append([2, 3, 4])\n",
        "a"
      ]
    },
    {
      "cell_type": "code",
      "execution_count": 19,
      "id": "336bb226",
      "metadata": {
        "id": "336bb226",
        "outputId": "a328b034-1390-4997-b283-9352853602e7",
        "colab": {
          "base_uri": "https://localhost:8080/"
        }
      },
      "outputs": [
        {
          "output_type": "execute_result",
          "data": {
            "text/plain": [
              "True"
            ]
          },
          "metadata": {},
          "execution_count": 19
        }
      ],
      "source": [
        "c in a"
      ]
    },
    {
      "cell_type": "markdown",
      "id": "d7c98cc2",
      "metadata": {
        "id": "d7c98cc2"
      },
      "source": [
        "## Conditional statements\n",
        "Frequently, a program needs to skip over some statements, execute a series of statements repetitively, or choose between alternate sets of statements to execute.\n",
        "\n",
        "That is where control structures come in. A control structure directs the order of execution of the statements in a program\n",
        "\n",
        "### For Loops\n",
        "Will iterate over a list of values, executing an action until all elements are looped over"
      ]
    },
    {
      "cell_type": "code",
      "execution_count": null,
      "id": "6935c5ca",
      "metadata": {
        "id": "6935c5ca",
        "colab": {
          "base_uri": "https://localhost:8080/"
        },
        "outputId": "b6ed16ea-0897-4f29-be40-570f30652a6c"
      },
      "outputs": [
        {
          "output_type": "stream",
          "name": "stdout",
          "text": [
            "Mary\n",
            "Joseph\n",
            "Garard\n",
            "Tom\n"
          ]
        }
      ],
      "source": [
        "# Iterate over names in a list\n",
        "names = ['Mary', 'Joseph', 'Garard', 'Tom']\n",
        "\n",
        "for name in names:\n",
        "  print(name)"
      ]
    },
    {
      "cell_type": "markdown",
      "id": "3b61579d",
      "metadata": {
        "id": "3b61579d"
      },
      "source": [
        "In the previous code, we use `name` as a variable to loop over the name list, we then print the name. Notice the `:` after the for statement, this is part of the `for` syntax. Also notice the indentation (white space) after the semicolon, Python uses whitespace to denote blocks, in other languages `{}` are used."
      ]
    },
    {
      "cell_type": "code",
      "execution_count": null,
      "id": "25ac4799",
      "metadata": {
        "id": "25ac4799",
        "colab": {
          "base_uri": "https://localhost:8080/"
        },
        "outputId": "64034ed1-fe20-4e6b-b1ae-eda8b3426d02"
      },
      "outputs": [
        {
          "output_type": "stream",
          "name": "stdout",
          "text": [
            "J\n",
            "o\n",
            "n\n",
            " \n",
            "D\n",
            "o\n",
            "e\n"
          ]
        }
      ],
      "source": [
        "# You can also loop over strings and other collections\n",
        "for letter in 'Jon Doe':\n",
        "  print(letter)"
      ]
    },
    {
      "cell_type": "code",
      "execution_count": null,
      "id": "073f344e",
      "metadata": {
        "id": "073f344e",
        "colab": {
          "base_uri": "https://localhost:8080/"
        },
        "outputId": "a10e5f87-7cdc-416b-b454-e712ddfe8d36"
      },
      "outputs": [
        {
          "output_type": "stream",
          "name": "stdout",
          "text": [
            "2_4_6_8_10_"
          ]
        }
      ],
      "source": [
        "for N in [2,4,6,8,10] :\n",
        "  print(N, end='_')"
      ]
    },
    {
      "cell_type": "markdown",
      "id": "6c4ea38a",
      "metadata": {
        "id": "6c4ea38a"
      },
      "source": [
        "Notice the previous block used a sequence, in this case a list we looped over. We use the `in` operator to link them together. More precisely, the list in this case is an *iterator*, a generalized sequence we can loop over.\n",
        "\n",
        "One of the most common used *iterators* is the `range` object, which generates a sequence of numbers\n",
        "\n",
        "Range function:\n",
        "Returns a sequence of numbers in the form `range(start, stop, step)` it can be used in combination with for loops"
      ]
    },
    {
      "cell_type": "code",
      "execution_count": null,
      "id": "dd623921",
      "metadata": {
        "id": "dd623921",
        "colab": {
          "base_uri": "https://localhost:8080/"
        },
        "outputId": "5e7c6a89-947a-44fa-cfa4-d548339e26d9"
      },
      "outputs": [
        {
          "output_type": "stream",
          "name": "stdout",
          "text": [
            "0\n",
            "1\n",
            "2\n",
            "3\n",
            "4\n"
          ]
        }
      ],
      "source": [
        "for i in range (0,5):\n",
        "  print(i)"
      ]
    },
    {
      "cell_type": "code",
      "execution_count": null,
      "id": "a680b133",
      "metadata": {
        "id": "a680b133",
        "colab": {
          "base_uri": "https://localhost:8080/"
        },
        "outputId": "49da7853-c8d8-4afd-ec3d-86c7207caa52"
      },
      "outputs": [
        {
          "output_type": "stream",
          "name": "stdout",
          "text": [
            "0\n",
            "2\n",
            "4\n",
            "6\n",
            "8\n"
          ]
        }
      ],
      "source": [
        "for i in range(0, 10, 2):\n",
        "  print(i)"
      ]
    },
    {
      "cell_type": "code",
      "execution_count": null,
      "id": "a08defef",
      "metadata": {
        "id": "a08defef",
        "colab": {
          "base_uri": "https://localhost:8080/"
        },
        "outputId": "6ec028ce-b162-4d05-99b6-a45ed230580d"
      },
      "outputs": [
        {
          "output_type": "stream",
          "name": "stdout",
          "text": [
            "0 1 2 "
          ]
        }
      ],
      "source": [
        "for i in range(3):\n",
        "  print(i, end= ' ')"
      ]
    },
    {
      "cell_type": "markdown",
      "id": "6253eaf8",
      "metadata": {
        "id": "6253eaf8"
      },
      "source": [
        "Range starts at zero by default, and the end of the range is not included. Range can also have other values"
      ]
    },
    {
      "cell_type": "code",
      "execution_count": null,
      "id": "423d4635",
      "metadata": {
        "id": "423d4635",
        "colab": {
          "base_uri": "https://localhost:8080/"
        },
        "outputId": "1a9599ad-c259-4435-9a10-a625323f0e64"
      },
      "outputs": [
        {
          "output_type": "execute_result",
          "data": {
            "text/plain": [
              "[5, 6, 7, 8, 9]"
            ]
          },
          "metadata": {},
          "execution_count": 30
        }
      ],
      "source": [
        "# range from 5 to 10, non inclusive\n",
        "list(range(5,10))"
      ]
    },
    {
      "cell_type": "code",
      "execution_count": null,
      "id": "c87cd13b",
      "metadata": {
        "id": "c87cd13b",
        "colab": {
          "base_uri": "https://localhost:8080/"
        },
        "outputId": "06ac3ac4-1b5b-4a00-f7fd-7ffe08bad822"
      },
      "outputs": [
        {
          "output_type": "execute_result",
          "data": {
            "text/plain": [
              "[0, 5, 10, 15, 20]"
            ]
          },
          "metadata": {},
          "execution_count": 31
        }
      ],
      "source": [
        "# range from 0 to 10 by 5\n",
        "list(range(0, 21, 5))"
      ]
    },
    {
      "cell_type": "markdown",
      "id": "7b45b8d0",
      "metadata": {
        "id": "7b45b8d0"
      },
      "source": [
        "### A quick review of iterators\n",
        "Many times we need to repeate a similar calculation, in an automated fashion. One of Python answers to this is using the `iterator` object. This object contains a sequence, that will output the next value as long as it is valid. This is generally easily understandable with a list."
      ]
    },
    {
      "cell_type": "code",
      "execution_count": null,
      "id": "d9c88ac4",
      "metadata": {
        "id": "d9c88ac4",
        "colab": {
          "base_uri": "https://localhost:8080/"
        },
        "outputId": "56faf226-fd50-4665-810f-94ae98a78f07"
      },
      "outputs": [
        {
          "output_type": "stream",
          "name": "stdout",
          "text": [
            "2 4 6 8 "
          ]
        }
      ],
      "source": [
        "for value in ( 1, 3, 5, 7):\n",
        "  print(value + 1, end=' ')"
      ]
    },
    {
      "cell_type": "markdown",
      "id": "8d6de198",
      "metadata": {
        "id": "8d6de198"
      },
      "source": [
        "We can create an `iterator` object from this previous list, and will output the next value with the built in function `next`"
      ]
    },
    {
      "cell_type": "code",
      "execution_count": null,
      "id": "e257258c",
      "metadata": {
        "id": "e257258c",
        "colab": {
          "base_uri": "https://localhost:8080/"
        },
        "outputId": "251560d1-8438-4882-c4f0-246e0c9463f8"
      },
      "outputs": [
        {
          "output_type": "execute_result",
          "data": {
            "text/plain": [
              "<list_iterator at 0x7cff7ff539a0>"
            ]
          },
          "metadata": {},
          "execution_count": 33
        }
      ],
      "source": [
        "# Iterator object\n",
        "iter([1, 3, 5, 7])"
      ]
    },
    {
      "cell_type": "code",
      "execution_count": null,
      "id": "dfc4ece7",
      "metadata": {
        "id": "dfc4ece7"
      },
      "outputs": [],
      "source": [
        "I = iter([1,3,5,7])"
      ]
    },
    {
      "cell_type": "code",
      "execution_count": null,
      "id": "906400ed",
      "metadata": {
        "id": "906400ed",
        "colab": {
          "base_uri": "https://localhost:8080/"
        },
        "outputId": "aa8a0901-0a7d-48a2-f9bc-15621e09d9bb"
      },
      "outputs": [
        {
          "output_type": "stream",
          "name": "stdout",
          "text": [
            "1\n"
          ]
        }
      ],
      "source": [
        "print(next(I))\n"
      ]
    },
    {
      "cell_type": "code",
      "execution_count": null,
      "id": "191b807d",
      "metadata": {
        "id": "191b807d",
        "colab": {
          "base_uri": "https://localhost:8080/"
        },
        "outputId": "64c64b7c-ae66-483a-f72e-d4144e676d3e"
      },
      "outputs": [
        {
          "output_type": "stream",
          "name": "stdout",
          "text": [
            "3\n"
          ]
        }
      ],
      "source": [
        "print(next(I))"
      ]
    },
    {
      "cell_type": "code",
      "execution_count": null,
      "id": "f130e256",
      "metadata": {
        "id": "f130e256",
        "colab": {
          "base_uri": "https://localhost:8080/"
        },
        "outputId": "d3d7ef7a-971d-4b2a-fa50-049f7583251b"
      },
      "outputs": [
        {
          "output_type": "stream",
          "name": "stdout",
          "text": [
            "5\n"
          ]
        }
      ],
      "source": [
        "print(next(I))"
      ]
    },
    {
      "cell_type": "code",
      "execution_count": null,
      "id": "8b89e972",
      "metadata": {
        "id": "8b89e972",
        "colab": {
          "base_uri": "https://localhost:8080/"
        },
        "outputId": "caa292a6-bfe7-4b48-aed7-c5081ae301ad"
      },
      "outputs": [
        {
          "output_type": "stream",
          "name": "stdout",
          "text": [
            "7\n"
          ]
        }
      ],
      "source": [
        "print(next(I))"
      ]
    },
    {
      "cell_type": "code",
      "execution_count": null,
      "id": "6439e9b3",
      "metadata": {
        "id": "6439e9b3",
        "colab": {
          "base_uri": "https://localhost:8080/",
          "height": 141
        },
        "outputId": "ff3513eb-264a-422d-c6d9-61eb14815bd3"
      },
      "outputs": [
        {
          "output_type": "error",
          "ename": "StopIteration",
          "evalue": "",
          "traceback": [
            "\u001b[0;31m---------------------------------------------------------------------------\u001b[0m",
            "\u001b[0;31mStopIteration\u001b[0m                             Traceback (most recent call last)",
            "\u001b[0;32m<ipython-input-40-ea704dfd936c>\u001b[0m in \u001b[0;36m<cell line: 1>\u001b[0;34m()\u001b[0m\n\u001b[0;32m----> 1\u001b[0;31m \u001b[0mprint\u001b[0m\u001b[0;34m(\u001b[0m\u001b[0mnext\u001b[0m\u001b[0;34m(\u001b[0m\u001b[0mI\u001b[0m\u001b[0;34m)\u001b[0m\u001b[0;34m)\u001b[0m\u001b[0;34m\u001b[0m\u001b[0;34m\u001b[0m\u001b[0m\n\u001b[0m",
            "\u001b[0;31mStopIteration\u001b[0m: "
          ]
        }
      ],
      "source": [
        "print(next(I))"
      ]
    },
    {
      "cell_type": "markdown",
      "id": "f776578a",
      "metadata": {
        "id": "f776578a"
      },
      "source": [
        "With this in mind we can see a indirect relationship with the `list` object and the iterator `object`. Lets see and example with the `range` object again. `range` like a list exposes an iterator, and Python knows to treat it *as if it's a list*."
      ]
    },
    {
      "cell_type": "code",
      "execution_count": null,
      "id": "85cccffe",
      "metadata": {
        "id": "85cccffe",
        "colab": {
          "base_uri": "https://localhost:8080/"
        },
        "outputId": "01a238d3-0941-487e-f3e0-08de8547b288"
      },
      "outputs": [
        {
          "output_type": "execute_result",
          "data": {
            "text/plain": [
              "range"
            ]
          },
          "metadata": {},
          "execution_count": 41
        }
      ],
      "source": [
        "type(range(0,10))"
      ]
    },
    {
      "cell_type": "code",
      "execution_count": null,
      "id": "32162e22",
      "metadata": {
        "id": "32162e22",
        "colab": {
          "base_uri": "https://localhost:8080/"
        },
        "outputId": "5f844ef2-3e2d-4fc2-ab77-abccaf9c7a6b"
      },
      "outputs": [
        {
          "output_type": "execute_result",
          "data": {
            "text/plain": [
              "<range_iterator at 0x7cff7ff53480>"
            ]
          },
          "metadata": {},
          "execution_count": 42
        }
      ],
      "source": [
        "iter(range(10))"
      ]
    },
    {
      "cell_type": "code",
      "execution_count": null,
      "id": "887d3afa",
      "metadata": {
        "id": "887d3afa",
        "colab": {
          "base_uri": "https://localhost:8080/"
        },
        "outputId": "06f55329-b5ec-42aa-9137-1c6fe6bd60c6"
      },
      "outputs": [
        {
          "output_type": "stream",
          "name": "stdout",
          "text": [
            "0*1*2*3*4*5*6*7*8*9*"
          ]
        }
      ],
      "source": [
        "for i in range(10):\n",
        "  print (i, end='*')"
      ]
    },
    {
      "cell_type": "markdown",
      "id": "d6ead6ff",
      "metadata": {
        "id": "d6ead6ff"
      },
      "source": [
        "The benefit of having an iterator is the list if never explicitely created. We can see this by doing a range calculation that would otherwise result in an error.\n",
        "\n",
        "If the following code would actually create a list of a trillion values it will use too much memory and our program would crash."
      ]
    },
    {
      "cell_type": "code",
      "execution_count": null,
      "id": "e4a13147",
      "metadata": {
        "id": "e4a13147",
        "colab": {
          "base_uri": "https://localhost:8080/"
        },
        "outputId": "872f5af8-dc8c-4c11-d826-92e3b62ccde4"
      },
      "outputs": [
        {
          "output_type": "stream",
          "name": "stdout",
          "text": [
            "0\n",
            "1\n",
            "2\n",
            "3\n",
            "4\n",
            "5\n",
            "6\n",
            "7\n",
            "8\n",
            "9\n"
          ]
        }
      ],
      "source": [
        "n = 10 ** 12\n",
        "for i in range(n):\n",
        "  if i >= 10:\n",
        "    break\n",
        "  print(i)"
      ]
    },
    {
      "cell_type": "markdown",
      "id": "ebbc5d92",
      "metadata": {
        "id": "ebbc5d92"
      },
      "source": [
        "We also have the `count` object, which acts as a infinite range iterator.\n",
        "\n",
        "If this iterator is not stopped it will continue counting up to infinity. That's why we add the `break` statement here."
      ]
    },
    {
      "cell_type": "code",
      "execution_count": null,
      "id": "94dc99c0",
      "metadata": {
        "id": "94dc99c0",
        "colab": {
          "base_uri": "https://localhost:8080/"
        },
        "outputId": "0b2b4f62-59f1-4520-dde1-b271eb452955"
      },
      "outputs": [
        {
          "output_type": "stream",
          "name": "stdout",
          "text": [
            "0\n",
            "1\n",
            "2\n",
            "3\n",
            "4\n",
            "5\n",
            "6\n",
            "7\n",
            "8\n",
            "9\n"
          ]
        }
      ],
      "source": [
        "# import itertools functionality\n",
        "from itertools import count\n",
        "\n",
        "for i in count():\n",
        "  if i >= 10:\n",
        "    break\n",
        "  print(i)"
      ]
    },
    {
      "cell_type": "markdown",
      "id": "25fb40a6",
      "metadata": {
        "id": "25fb40a6"
      },
      "source": [
        "### The if statement\n",
        "`if <expr>:\n",
        "    <statement>`\n",
        "    \n",
        "- <expr> is evaluated in a Boolean context\n",
        "- <statement> is a valid Python statement and must be indented\n",
        "- Notice the `:`, this is required"
      ]
    },
    {
      "cell_type": "code",
      "execution_count": null,
      "id": "f9e24d81",
      "metadata": {
        "id": "f9e24d81"
      },
      "outputs": [],
      "source": [
        "x = 3\n",
        "y = 10"
      ]
    },
    {
      "cell_type": "code",
      "execution_count": null,
      "id": "1e77ae67",
      "metadata": {
        "id": "1e77ae67",
        "colab": {
          "base_uri": "https://localhost:8080/"
        },
        "outputId": "2b88d458-8493-4260-e4fe-179a930b1eda"
      },
      "outputs": [
        {
          "output_type": "stream",
          "name": "stdout",
          "text": [
            "x is less than y\n"
          ]
        }
      ],
      "source": [
        "if x < y:\n",
        "  print ('x is less than y')"
      ]
    },
    {
      "cell_type": "code",
      "execution_count": null,
      "id": "dcba6d46",
      "metadata": {
        "id": "dcba6d46",
        "colab": {
          "base_uri": "https://localhost:8080/"
        },
        "outputId": "be42554d-d19b-4eb1-c2c9-a524e9734c3c"
      },
      "outputs": [
        {
          "output_type": "execute_result",
          "data": {
            "text/plain": [
              "False"
            ]
          },
          "metadata": {},
          "execution_count": 50
        }
      ],
      "source": [
        "x > y"
      ]
    },
    {
      "cell_type": "code",
      "execution_count": null,
      "id": "b27629d9",
      "metadata": {
        "id": "b27629d9"
      },
      "outputs": [],
      "source": [
        "if x > y:\n",
        "  print('x is greater than y')"
      ]
    },
    {
      "cell_type": "code",
      "execution_count": null,
      "id": "6bb45218",
      "metadata": {
        "id": "6bb45218",
        "colab": {
          "base_uri": "https://localhost:8080/"
        },
        "outputId": "1a329e84-75a4-4d13-e5d5-af93360fe0e6"
      },
      "outputs": [
        {
          "output_type": "stream",
          "name": "stdout",
          "text": [
            "Its there\n"
          ]
        }
      ],
      "source": [
        "if 'ello' in 'hello':\n",
        "  print('Its there')"
      ]
    },
    {
      "cell_type": "code",
      "execution_count": null,
      "id": "a2c3f88f",
      "metadata": {
        "id": "a2c3f88f",
        "colab": {
          "base_uri": "https://localhost:8080/"
        },
        "outputId": "e6c35b44-8d9c-4ce0-a936-50e4fcfbea73"
      },
      "outputs": [
        {
          "output_type": "stream",
          "name": "stdout",
          "text": [
            "lo is in hello\n",
            "x is less than y\n",
            "Statement outside of the second condition\n"
          ]
        }
      ],
      "source": [
        "# We can also nest if statements, remember indentations\n",
        "if 'lo' in 'hello':\n",
        "  print('lo is in hello')\n",
        "  if x < y :\n",
        "    print('x is less than y')\n",
        "  print('Statement outside of the second condition')"
      ]
    },
    {
      "cell_type": "code",
      "execution_count": null,
      "id": "879f1d9c",
      "metadata": {
        "id": "879f1d9c",
        "colab": {
          "base_uri": "https://localhost:8080/"
        },
        "outputId": "e8dbcb57-33ce-474b-9dfb-20866e5d693a"
      },
      "outputs": [
        {
          "output_type": "stream",
          "name": "stdout",
          "text": [
            "lo is in hello\n",
            "statement outside of the second condition\n"
          ]
        }
      ],
      "source": [
        "# What if x is not less than y?\n",
        "x = 100\n",
        "if 'lo' in 'hello':\n",
        "  print('lo is in hello')\n",
        "\n",
        "\n",
        "  if x < y:  #this is false\n",
        "    print('x is less than y')\n",
        "  print('statement outside of the second condition')\n",
        "\n",
        "# this will still run, as it is outside the if statement"
      ]
    },
    {
      "cell_type": "markdown",
      "id": "99ee3f21",
      "metadata": {
        "id": "99ee3f21"
      },
      "source": [
        "Nested for loops are also possible"
      ]
    },
    {
      "cell_type": "code",
      "execution_count": null,
      "id": "12fb3c76",
      "metadata": {
        "id": "12fb3c76",
        "colab": {
          "base_uri": "https://localhost:8080/"
        },
        "outputId": "d624ccea-669b-4981-a31c-31137c3b8a14"
      },
      "outputs": [
        {
          "output_type": "stream",
          "name": "stdout",
          "text": [
            "a\n",
            "1\n",
            "2\n",
            "3\n",
            "b\n",
            "1\n",
            "2\n",
            "3\n",
            "c\n",
            "1\n",
            "2\n",
            "3\n"
          ]
        }
      ],
      "source": [
        "list1 = [\"a\", \"b\", \"c\"]\n",
        "list2 = [\"1\", \"2\", \"3\"]\n",
        "\n",
        "for x in list1:\n",
        "  print(x)\n",
        "  for y in list2:\n",
        "    print(y)"
      ]
    },
    {
      "cell_type": "markdown",
      "id": "1c0dfb7e",
      "metadata": {
        "id": "1c0dfb7e"
      },
      "source": [
        "### Optional Exercises\n",
        "\n",
        "1. Create a for loop that prints numbers from 1 to 20 in increments of 2 e.g. 2, 4, 6, 8, ...\n",
        "\n",
        "2. Create a for loop that prints from a list of words in a list. Create a second nested for loop that prints another word from a second list. Every word should from the first list shall be printed with every other word from the second list.\n",
        "\n",
        "`list_a = [\"chicken\", \"veggie\", \"meat\", \"ham\", \"cheese\", \"beef\", \"chocolate\"]`\n",
        "\n",
        "`list_b = [\"sandwich\", \"waffles\", \"pizza\", \"burrito\", \"soup\", \"salad\", \"smoothie\"]`\n",
        "\n",
        "Tip: You may want to use `range(len(list_a))` to iterate over the length of the list.\n",
        "\n",
        "Example output for exercise 2:\n",
        "\n",
        "`chicken sandwich\n",
        "chicken waffles\n",
        "chicken pizza\n",
        "chicken burrito...`\n",
        "\n",
        "`veggie sandwich\n",
        "veggie waffles\n",
        "veggie pizza\n",
        "veggie burrito...`"
      ]
    },
    {
      "cell_type": "markdown",
      "id": "6bed564d",
      "metadata": {
        "id": "6bed564d"
      },
      "source": [
        "### Combining for and if statments\n",
        "- We can combine for loops and if statements to do different things when conditions are met.\n",
        "- In a for loop the `break` statement will stop the loop\n",
        "- In a for loop the `continue` statement will skip the element"
      ]
    },
    {
      "cell_type": "code",
      "execution_count": null,
      "id": "b26fb2db",
      "metadata": {
        "id": "b26fb2db",
        "colab": {
          "base_uri": "https://localhost:8080/"
        },
        "outputId": "bd14b7bf-902e-4c10-e476-a42f417e5f50"
      },
      "outputs": [
        {
          "output_type": "stream",
          "name": "stdout",
          "text": [
            "car\n",
            "bike\n",
            "truck\n",
            "plane\n",
            "boat\n"
          ]
        }
      ],
      "source": [
        "transport = ['car', 'bike', 'truck', 'plane', 'boat']\n",
        "\n",
        "for element in transport:\n",
        "  print(element)\n"
      ]
    },
    {
      "cell_type": "code",
      "execution_count": null,
      "id": "e7df5860",
      "metadata": {
        "id": "e7df5860",
        "colab": {
          "base_uri": "https://localhost:8080/"
        },
        "outputId": "449ab15c-4ad4-48f6-c9f5-8d83687a9e88"
      },
      "outputs": [
        {
          "output_type": "stream",
          "name": "stdout",
          "text": [
            "plane\n",
            "you can fly\n",
            "plane\n",
            "you can fly\n",
            "plane\n",
            "you can fly\n",
            "plane\n",
            "you can fly\n",
            "plane\n",
            "you can fly\n"
          ]
        }
      ],
      "source": [
        "for elemtn in transport:\n",
        "  print(element)\n",
        "  if element == 'plane':\n",
        "    print(\"you can fly\")"
      ]
    },
    {
      "cell_type": "code",
      "execution_count": null,
      "id": "35517fcc",
      "metadata": {
        "id": "35517fcc",
        "colab": {
          "base_uri": "https://localhost:8080/"
        },
        "outputId": "03241214-ad01-4ac0-f3a7-172e9d66d802"
      },
      "outputs": [
        {
          "output_type": "stream",
          "name": "stdout",
          "text": [
            "car\n",
            "bike\n",
            "truck\n",
            "plane\n",
            "yu can fly\n"
          ]
        }
      ],
      "source": [
        "from ast import Break\n",
        "# Break the loop if condition is met\n",
        "for element in transport:\n",
        "  print(element)\n",
        "  if element == 'plane':\n",
        "    print('yu can fly')\n",
        "    break"
      ]
    },
    {
      "cell_type": "code",
      "execution_count": null,
      "id": "b76ff230",
      "metadata": {
        "id": "b76ff230",
        "colab": {
          "base_uri": "https://localhost:8080/"
        },
        "outputId": "811a57f0-5aed-45c7-9747-0c2e693cae3c"
      },
      "outputs": [
        {
          "output_type": "stream",
          "name": "stdout",
          "text": [
            "car\n",
            "truck\n",
            "plane\n",
            "boat\n"
          ]
        }
      ],
      "source": [
        "# Skip if condition is met\n",
        "for element in transport:\n",
        "  if element == 'bike':\n",
        "    continue\n",
        "  print(element)"
      ]
    },
    {
      "cell_type": "markdown",
      "id": "c6970a8d",
      "metadata": {
        "id": "c6970a8d"
      },
      "source": [
        "Else and elif clauses\n",
        "Sometimes you want to take a different path or do something different if other conditions are met. This is accomplished with an `else` clause.\n",
        "\n",
        "Branching executions can be accomplished by `elif` short for else if, will evaluate an expression and execute if True."
      ]
    },
    {
      "cell_type": "code",
      "execution_count": null,
      "id": "17477af6",
      "metadata": {
        "id": "17477af6",
        "colab": {
          "base_uri": "https://localhost:8080/"
        },
        "outputId": "7c79ea80-419c-4fc9-e19e-d25ff6a48712"
      },
      "outputs": [
        {
          "output_type": "stream",
          "name": "stdout",
          "text": [
            "car\n",
            "you can drive\n",
            "bike\n",
            "you can drive\n",
            "truck\n",
            "you can drive\n",
            "plane\n",
            "you can fly\n",
            "boat\n",
            "you can float\n"
          ]
        }
      ],
      "source": [
        "for element in transport:\n",
        "  print(element)\n",
        "  if element == 'plane':\n",
        "    print('you can fly')\n",
        "  elif element == 'boat':\n",
        "    print('you can float')\n",
        "  else:\n",
        "    print('you can drive')\n"
      ]
    },
    {
      "cell_type": "markdown",
      "id": "85220a7a",
      "metadata": {
        "id": "85220a7a"
      },
      "source": [
        "## Optional exercise\n",
        "Write a program that takes two integer numbers and determines if the numbers are odd or even. Remember the `input()` and `%` function and operator.\n",
        "\n",
        "Additional exercise: do the same computation as above, but for a list of numbers using a `for` loop and `if` statements."
      ]
    },
    {
      "cell_type": "markdown",
      "id": "aee7968e",
      "metadata": {
        "id": "aee7968e"
      },
      "source": [
        "### Conditional expressions (ternary operator)\n",
        "This is different from the if statement forms listed above because it is not a control structure that directs the flow of program execution. It acts more like an operator that defines an expression. In the above example, <conditional_expr> is evaluated first. If it is true, the expression evaluates to <expr1>. If it is false, the expression evaluates to <expr2>.\n",
        "    \n",
        "- \\<conditional_expr> ? \\<expr1> : \\<expr2>"
      ]
    },
    {
      "cell_type": "code",
      "execution_count": null,
      "id": "22237e46",
      "metadata": {
        "id": "22237e46",
        "colab": {
          "base_uri": "https://localhost:8080/"
        },
        "outputId": "31828669-2c0f-48b1-c6c0-686be6563ac5"
      },
      "outputs": [
        {
          "output_type": "stream",
          "name": "stdout",
          "text": [
            "Lets  stay\n"
          ]
        }
      ],
      "source": [
        "rain = True\n",
        "print('Lets ', 'go outside' if not rain else 'stay')"
      ]
    },
    {
      "cell_type": "code",
      "execution_count": null,
      "id": "9b170387",
      "metadata": {
        "id": "9b170387",
        "colab": {
          "base_uri": "https://localhost:8080/",
          "height": 35
        },
        "outputId": "8ba731ee-f132-43cc-9127-214bebc041b6"
      },
      "outputs": [
        {
          "output_type": "execute_result",
          "data": {
            "text/plain": [
              "'Bob'"
            ],
            "application/vnd.google.colaboratory.intrinsic+json": {
              "type": "string"
            }
          },
          "metadata": {},
          "execution_count": 70
        }
      ],
      "source": [
        "name = 'Bob'\n",
        "who = 'Bob' if name == 'Bob' else 'Not Bob'\n",
        "who"
      ]
    },
    {
      "cell_type": "code",
      "execution_count": null,
      "id": "5a676237",
      "metadata": {
        "id": "5a676237",
        "colab": {
          "base_uri": "https://localhost:8080/",
          "height": 35
        },
        "outputId": "3c4b5b98-7927-4758-9c79-b05017fe50dc"
      },
      "outputs": [
        {
          "output_type": "execute_result",
          "data": {
            "text/plain": [
              "'Not Bob'"
            ],
            "application/vnd.google.colaboratory.intrinsic+json": {
              "type": "string"
            }
          },
          "metadata": {},
          "execution_count": 71
        }
      ],
      "source": [
        "name = 'Jane'\n",
        "who = 'Bob' if name == 'Bob' else 'Not Bob'\n",
        "who"
      ]
    },
    {
      "cell_type": "markdown",
      "id": "8536faa9",
      "metadata": {
        "id": "8536faa9"
      },
      "source": [
        "## While loops\n",
        "while \\<expr>:\n",
        "\n",
        "    <statement(s)>\n",
        "        \n",
        "<statement(s)> represents the block to be repeatedly executed, often referred to as the body of the loop. This is denoted with indentation, just as in an if statement.\n",
        "\n",
        "The controlling expression, <expr>, typically involves one or more variables that are initialized prior to starting the loop and then modified somewhere in the loop body.\n",
        "    \n",
        "While loops can also use `break` and `continue` statements. You can also use `else` statements once the condition is no longer true"
      ]
    },
    {
      "cell_type": "code",
      "execution_count": null,
      "id": "2a3797d0",
      "metadata": {
        "id": "2a3797d0",
        "colab": {
          "base_uri": "https://localhost:8080/"
        },
        "outputId": "0ef3d29b-f777-472d-fff2-17c8727750ca"
      },
      "outputs": [
        {
          "output_type": "stream",
          "name": "stdout",
          "text": [
            "4\n",
            "3\n",
            "2\n",
            "1\n",
            "0\n"
          ]
        }
      ],
      "source": [
        "n = 5\n",
        "while n > 0:\n",
        "  n = n -1\n",
        "  print(n)\n"
      ]
    },
    {
      "cell_type": "code",
      "execution_count": null,
      "id": "edf20339",
      "metadata": {
        "id": "edf20339",
        "colab": {
          "base_uri": "https://localhost:8080/"
        },
        "outputId": "5bb60187-fde8-4d4f-8849-46d07c738ab0"
      },
      "outputs": [
        {
          "output_type": "stream",
          "name": "stdout",
          "text": [
            "Bruce\n",
            "Diana\n",
            "Derek\n",
            "Bob\n",
            "no more names\n"
          ]
        }
      ],
      "source": [
        "names = ['Bob', 'Derek', 'Diana', 'Bruce']\n",
        "while names:\n",
        "  print(names.pop())\n",
        "else:\n",
        "  print('no more names')"
      ]
    },
    {
      "cell_type": "markdown",
      "id": "3b4a7594",
      "metadata": {
        "id": "3b4a7594"
      },
      "source": [
        "## Exercises for participation credit\n",
        "Please complete the following exercises and upload your completed notebook to your Github repository for participation credit.\n",
        "\n",
        "1. Write a for loop that adds all numbers from 1 to 100\n",
        "2. Using the list `lst1=[\"Joe\", \"Sarah\", \"Mike\", \"Jess\", \"\", \"Matt\", \"\", \"Greg\"]` create a second list called `lst2`, iterate through the list and add the names to `lst2` only if the element is different to an empty string.\n",
        "3. Take 3 numbers from the user using `input()` save the numbers to a list. Take 3 more numbers from the user and save it to a second list. Iterate over both lists and multiply every number on the first list over every other number on the second list. Print the multiplication result only if the result is an even number, else print the words `The result is odd`."
      ]
    },
    {
      "cell_type": "code",
      "execution_count": 20,
      "id": "63de2ad5",
      "metadata": {
        "id": "63de2ad5",
        "colab": {
          "base_uri": "https://localhost:8080/"
        },
        "outputId": "5546430c-6cc4-44da-b6f1-f600d30dd641"
      },
      "outputs": [
        {
          "output_type": "stream",
          "name": "stdout",
          "text": [
            "The sum of numbers from 1 to 100 is: 5050\n"
          ]
        }
      ],
      "source": [
        "total = 0\n",
        "\n",
        "for i in range(1, 101):\n",
        "    total +=i\n",
        "\n",
        "print(\"The sum of numbers from 1 to 100 is:\", total)\n"
      ]
    },
    {
      "cell_type": "code",
      "source": [
        "lst1 = [\"Joe\", \"Sarah\", \"Mike\", \"Jess\", \"\", \"Matt\", \"\", \"Greg\"]\n",
        "lst2 = []\n",
        "\n",
        "for names in lst1:\n",
        "    if names != \"\":\n",
        "        lst2.append(names)\n",
        "\n",
        "print(\"The list is:\", lst2)"
      ],
      "metadata": {
        "colab": {
          "base_uri": "https://localhost:8080/"
        },
        "id": "8DoTbOHZ6UMO",
        "outputId": "af513b82-fa76-4228-a428-b2cd724cc77e"
      },
      "id": "8DoTbOHZ6UMO",
      "execution_count": 21,
      "outputs": [
        {
          "output_type": "stream",
          "name": "stdout",
          "text": [
            "The list is: ['Joe', 'Sarah', 'Mike', 'Jess', 'Matt', 'Greg']\n"
          ]
        }
      ]
    }
  ],
  "metadata": {
    "kernelspec": {
      "display_name": "Python 3 (ipykernel)",
      "language": "python",
      "name": "python3"
    },
    "language_info": {
      "codemirror_mode": {
        "name": "ipython",
        "version": 3
      },
      "file_extension": ".py",
      "mimetype": "text/x-python",
      "name": "python",
      "nbconvert_exporter": "python",
      "pygments_lexer": "ipython3",
      "version": "3.10.4"
    },
    "colab": {
      "provenance": [],
      "include_colab_link": true
    }
  },
  "nbformat": 4,
  "nbformat_minor": 5
}