{
  "cells": [
    {
      "cell_type": "markdown",
      "metadata": {
        "id": "view-in-github",
        "colab_type": "text"
      },
      "source": [
        "<a href=\"https://colab.research.google.com/github/aliawofford9317/LSAMP_Python_Course2024/blob/Ibeth818/Lesson_1_Python_basics_June_5.ipynb\" target=\"_parent\"><img src=\"https://colab.research.google.com/assets/colab-badge.svg\" alt=\"Open In Colab\"/></a>"
      ]
    },
    {
      "cell_type": "markdown",
      "id": "65297d5d",
      "metadata": {
        "id": "65297d5d"
      },
      "source": [
        "## Lesson 1 - Python basics\n",
        "In this lesson we will cover:\n",
        "- What is a variable and how to declare it\n",
        "- Python basic operators\n",
        "- Data types in Python\n",
        "- Lists\n",
        "- Dictionaries\n",
        "- Tuples\n",
        "- Optional exercises\n",
        "\n",
        "All along the lessons you will see comments on the code starting with `#`, these are comment lines and are used to describe what the code is doing"
      ]
    },
    {
      "cell_type": "markdown",
      "id": "d927a42b",
      "metadata": {
        "id": "d927a42b"
      },
      "source": [
        "## What is a variable?\n",
        "\n",
        "Imagine variables as containers to store data values.\n",
        "We can asign values to these containers using the `=` sign."
      ]
    },
    {
      "cell_type": "code",
      "execution_count": null,
      "id": "d273a7b9",
      "metadata": {
        "id": "d273a7b9"
      },
      "outputs": [],
      "source": [
        "# Here we assign a to 4, and A to \"Python\"\n",
        "a = 4\n",
        "A = \"Python\""
      ]
    },
    {
      "cell_type": "code",
      "execution_count": null,
      "id": "c6a73ac0",
      "metadata": {
        "colab": {
          "base_uri": "https://localhost:8080/"
        },
        "id": "c6a73ac0",
        "outputId": "ad8240c7-83d8-404b-bb6c-c4730522ff9e"
      },
      "outputs": [
        {
          "name": "stdout",
          "output_type": "stream",
          "text": [
            "4\n",
            "Python\n"
          ]
        }
      ],
      "source": [
        "# Print the variables\n",
        "print(a)\n",
        "print(A)"
      ]
    },
    {
      "cell_type": "markdown",
      "id": "a800cba9",
      "metadata": {
        "id": "a800cba9"
      },
      "source": [
        "From the example above we can see that variables are case sensitive, so a variable named `Variable` will be different from another one called `variable`.\n",
        "Variable names can consist of uppercase and lowercase letters, digits and underscore. The first character of a variable name cannot be a digit"
      ]
    },
    {
      "cell_type": "code",
      "execution_count": null,
      "id": "36e9c3df",
      "metadata": {
        "colab": {
          "base_uri": "https://localhost:8080/"
        },
        "id": "36e9c3df",
        "outputId": "88f75749-bb19-4c74-d6cb-cff7c6f94aad"
      },
      "outputs": [
        {
          "name": "stdout",
          "output_type": "stream",
          "text": [
            "55\n",
            "49\n"
          ]
        }
      ],
      "source": [
        "Variable =55\n",
        "variable =49\n",
        "print (Variable)\n",
        "print (variable)"
      ]
    },
    {
      "cell_type": "code",
      "execution_count": null,
      "id": "3ade135f",
      "metadata": {
        "id": "3ade135f"
      },
      "outputs": [],
      "source": [
        "a_variable = \"Hello\"\n",
        "1_variable"
      ]
    },
    {
      "cell_type": "markdown",
      "id": "c31ad403",
      "metadata": {
        "id": "c31ad403"
      },
      "source": [
        "### Reserved words in Python\n",
        "For variable names:\n",
        "- We can use number, letters and underscores\n",
        "- Variables can include numbers, but not as the first character\n",
        "- There are some reserverd words in Python that cannot be used as variable names:\n",
        "\n",
        "`False\tdef\tif\traise\n",
        "None\tdel\timport\treturn\n",
        "True\telif\tin\ttry\n",
        "and\telse\tis\twhile\n",
        "as\texcept\tlambda\twith\n",
        "assert\tfinally\tnonlocal\tyield\n",
        "break\tfor\tnot\n",
        "class\tfrom\tor\n",
        "continue\tglobal\tpass`\n",
        "\n",
        "You can see this list any time by typing `help(\"keywords\")"
      ]
    },
    {
      "cell_type": "code",
      "execution_count": null,
      "id": "9e951328",
      "metadata": {
        "colab": {
          "base_uri": "https://localhost:8080/"
        },
        "id": "9e951328",
        "outputId": "04db24b1-9f55-44b0-9b68-4c507473a82f"
      },
      "outputs": [
        {
          "name": "stdout",
          "output_type": "stream",
          "text": [
            "\n",
            "Here is a list of the Python keywords.  Enter any keyword to get more help.\n",
            "\n",
            "False               class               from                or\n",
            "None                continue            global              pass\n",
            "True                def                 if                  raise\n",
            "and                 del                 import              return\n",
            "as                  elif                in                  try\n",
            "assert              else                is                  while\n",
            "async               except              lambda              with\n",
            "await               finally             nonlocal            yield\n",
            "break               for                 not                 \n",
            "\n"
          ]
        }
      ],
      "source": [
        "help(\"keywords\")"
      ]
    },
    {
      "cell_type": "markdown",
      "id": "2ecace5e",
      "metadata": {
        "id": "2ecace5e"
      },
      "source": [
        "## Operators\n",
        "We now know how to create variables. Lets explore the basic operators in Python. Operators are special symbols in Python that carry out arithmetic or logical computations\n",
        "\n",
        "Arithmetic operators are used to perform mathematical operations like addition, substraction, multiplication, etc\n",
        "\n",
        "| Symbol | Operator | Description |\n",
        "|--------|----------|-------------|\n",
        "|   +    | Addition |  Add two operands |\n",
        "| - | Substraction | Substract two operands |\n",
        "| * | Multiplication | Multiply two operands |\n",
        "| / | Division | Divide two operands |\n",
        "| % | Modulus | Remainder of the division of left operand by the right |\n",
        "| // | Floor division |  Division that results into whole number adjusted to the left in the number line |\n",
        "| ** | Exponent | Left operand raised to the power of right |"
      ]
    },
    {
      "cell_type": "markdown",
      "id": "eb521890",
      "metadata": {
        "id": "eb521890"
      },
      "source": [
        "## Types\n",
        "Each variable can be of a particular type, but this type does not needs to be declared when you create the variable, and can even be changed after they have been set"
      ]
    },
    {
      "cell_type": "code",
      "execution_count": null,
      "id": "f1ce33e5",
      "metadata": {
        "colab": {
          "base_uri": "https://localhost:8080/"
        },
        "id": "f1ce33e5",
        "outputId": "b5d80218-90c2-4b87-f0e0-32e80bb68e90"
      },
      "outputs": [
        {
          "name": "stdout",
          "output_type": "stream",
          "text": [
            "100\n"
          ]
        }
      ],
      "source": [
        "n = 100 # variable of type integer\n",
        "print (n)"
      ]
    },
    {
      "cell_type": "code",
      "execution_count": null,
      "id": "9ba75bd0",
      "metadata": {
        "colab": {
          "base_uri": "https://localhost:8080/"
        },
        "id": "9ba75bd0",
        "outputId": "c6556412-fa32-49ef-d444-0281bb56813f"
      },
      "outputs": [
        {
          "name": "stdout",
          "output_type": "stream",
          "text": [
            "Now Im a different vaiable of type string\n"
          ]
        }
      ],
      "source": [
        "n = \"Now Im a different vaiable of type string\"\n",
        "print (n)"
      ]
    },
    {
      "cell_type": "code",
      "execution_count": null,
      "id": "643fc42f",
      "metadata": {
        "colab": {
          "base_uri": "https://localhost:8080/"
        },
        "id": "643fc42f",
        "outputId": "6e4f6c29-e798-4002-b201-0d248df12dd6"
      },
      "outputs": [
        {
          "name": "stdout",
          "output_type": "stream",
          "text": [
            "300 300 300\n"
          ]
        }
      ],
      "source": [
        "#python allows for a change variable assignment\n",
        "a = b = c = 300\n",
        "print (a,b,c)"
      ]
    },
    {
      "cell_type": "markdown",
      "id": "e4e0ed01",
      "metadata": {
        "id": "e4e0ed01"
      },
      "source": [
        "Python is a highly object-oriented language. Every itme of data in Python is an object of a specific type or class. Consider the following code. Python does the following:\n",
        "- Create a integer object\n",
        "- Gives a value of 300\n",
        "- Displays it to the console"
      ]
    },
    {
      "cell_type": "code",
      "execution_count": null,
      "id": "a62138f0",
      "metadata": {
        "colab": {
          "base_uri": "https://localhost:8080/"
        },
        "id": "a62138f0",
        "outputId": "c50e6808-4fa0-4725-b9df-becf473f07ba"
      },
      "outputs": [
        {
          "name": "stdout",
          "output_type": "stream",
          "text": [
            "100\n"
          ]
        }
      ],
      "source": [
        "print (100)\n"
      ]
    },
    {
      "cell_type": "markdown",
      "id": "85e49441",
      "metadata": {
        "id": "85e49441"
      },
      "source": [
        "To see the actual integer object you can use the `type()` function"
      ]
    },
    {
      "cell_type": "code",
      "execution_count": null,
      "id": "5cbda040",
      "metadata": {
        "colab": {
          "base_uri": "https://localhost:8080/"
        },
        "id": "5cbda040",
        "outputId": "20477b30-0f53-4dd6-a926-ac3c48ec5464"
      },
      "outputs": [
        {
          "data": {
            "text/plain": [
              "int"
            ]
          },
          "execution_count": 14,
          "metadata": {},
          "output_type": "execute_result"
        }
      ],
      "source": [
        "type (100)"
      ]
    },
    {
      "cell_type": "markdown",
      "id": "64edd62c",
      "metadata": {
        "id": "64edd62c"
      },
      "source": [
        "## Basic Data Types\n",
        "- Numeric (integer numbers, floating point)\n",
        "- String (letters, characters)\n",
        "- Boolean (True or False, 0 or 1)"
      ]
    },
    {
      "cell_type": "markdown",
      "id": "2f8cd151",
      "metadata": {
        "id": "2f8cd151"
      },
      "source": [
        "### Integers\n",
        "An integer value can be as big as you need it to be, this is only constrained by the amount of memory in the system. Python will interpret a sequence of decimal digits without any prefix to be a decimal number:"
      ]
    },
    {
      "cell_type": "code",
      "execution_count": null,
      "id": "46402c16",
      "metadata": {
        "colab": {
          "base_uri": "https://localhost:8080/"
        },
        "id": "46402c16",
        "outputId": "082032ff-3c84-4d93-dbfb-303131ffa7cd"
      },
      "outputs": [
        {
          "name": "stdout",
          "output_type": "stream",
          "text": [
            "123456789123456789123456789123456789123456789123456789123456789123456789123456789123456789\n"
          ]
        }
      ],
      "source": [
        "print(123456789123456789123456789123456789123456789123456789123456789123456789123456789123456789)"
      ]
    },
    {
      "cell_type": "code",
      "execution_count": null,
      "id": "2698b8d4",
      "metadata": {
        "colab": {
          "base_uri": "https://localhost:8080/"
        },
        "id": "2698b8d4",
        "outputId": "6576fa8c-bb47-438c-e265-495ffd78c514"
      },
      "outputs": [
        {
          "name": "stdout",
          "output_type": "stream",
          "text": [
            "10\n"
          ]
        }
      ],
      "source": [
        "print(10)"
      ]
    },
    {
      "cell_type": "code",
      "execution_count": null,
      "id": "fa03d0d3",
      "metadata": {
        "colab": {
          "base_uri": "https://localhost:8080/"
        },
        "id": "fa03d0d3",
        "outputId": "5a8e9f31-1c07-4a1d-ccfd-2c6e12e56962"
      },
      "outputs": [
        {
          "name": "stdout",
          "output_type": "stream",
          "text": [
            "2\n",
            "8\n",
            "16\n"
          ]
        }
      ],
      "source": [
        "#Binary representation\n",
        "#use 0b prefix\n",
        "print(0b10)\n",
        "\n",
        "#Octal representation\n",
        "#use 0O prefix\n",
        "print(0O10)\n",
        "\n",
        "#Hexadecimal representation\n",
        "#use 0X prefix\n",
        "print(0X10)"
      ]
    },
    {
      "cell_type": "code",
      "execution_count": null,
      "id": "v3-ma7tY6Htw",
      "metadata": {
        "id": "v3-ma7tY6Htw"
      },
      "outputs": [],
      "source": [
        "## Quick Check for knowlege how would you check the data type for the following representations previous binary (0b10),Octal(0O10) and hexadecial (0X10) and what are they?"
      ]
    },
    {
      "cell_type": "code",
      "execution_count": null,
      "id": "36a83fc0",
      "metadata": {
        "colab": {
          "base_uri": "https://localhost:8080/"
        },
        "id": "36a83fc0",
        "outputId": "c19a560d-1e2e-4580-d9b2-56d5da00fa0a"
      },
      "outputs": [
        {
          "data": {
            "text/plain": [
              "int"
            ]
          },
          "execution_count": 19,
          "metadata": {},
          "output_type": "execute_result"
        }
      ],
      "source": [
        "#Answer for binary 0b10\n",
        "type (0b10)"
      ]
    },
    {
      "cell_type": "markdown",
      "id": "IR--K81pXv8N",
      "metadata": {
        "id": "IR--K81pXv8N"
      },
      "source": []
    },
    {
      "cell_type": "code",
      "execution_count": null,
      "id": "7e26ec9e",
      "metadata": {
        "colab": {
          "base_uri": "https://localhost:8080/"
        },
        "id": "7e26ec9e",
        "outputId": "e2fa1d35-7140-46ce-ebe2-967d7b4258b5"
      },
      "outputs": [
        {
          "data": {
            "text/plain": [
              "int"
            ]
          },
          "execution_count": 20,
          "metadata": {},
          "output_type": "execute_result"
        }
      ],
      "source": [
        "# Answer for Octal for 0O10\n",
        "type (0O10)"
      ]
    },
    {
      "cell_type": "code",
      "execution_count": null,
      "id": "3e11bb06",
      "metadata": {
        "colab": {
          "base_uri": "https://localhost:8080/"
        },
        "id": "3e11bb06",
        "outputId": "fe76d4c9-97b7-4de4-e456-c3b2556e03ae"
      },
      "outputs": [
        {
          "data": {
            "text/plain": [
              "int"
            ]
          },
          "execution_count": 21,
          "metadata": {},
          "output_type": "execute_result"
        }
      ],
      "source": [
        "#Answer for hexidecimal 0X10\n",
        "type(0X10)"
      ]
    },
    {
      "cell_type": "markdown",
      "id": "9fe061d9",
      "metadata": {
        "id": "9fe061d9"
      },
      "source": [
        "### Floating point numbers\n",
        "The `float` type designates a floating-point number, which specifies a decimal point. This can also represent scientific notation using the character `e` or `E`"
      ]
    },
    {
      "cell_type": "code",
      "execution_count": null,
      "id": "96c151b0",
      "metadata": {
        "colab": {
          "base_uri": "https://localhost:8080/"
        },
        "id": "96c151b0",
        "outputId": "93f4aecc-e7ec-49e8-ee7c-899ff3d9a572"
      },
      "outputs": [
        {
          "data": {
            "text/plain": [
              "3.14"
            ]
          },
          "execution_count": 22,
          "metadata": {},
          "output_type": "execute_result"
        }
      ],
      "source": [
        "3.14"
      ]
    },
    {
      "cell_type": "code",
      "execution_count": null,
      "id": "689dee34",
      "metadata": {
        "colab": {
          "base_uri": "https://localhost:8080/"
        },
        "id": "689dee34",
        "outputId": "da11acab-3679-46a5-9008-750dc2e327c4"
      },
      "outputs": [
        {
          "data": {
            "text/plain": [
              "float"
            ]
          },
          "execution_count": 23,
          "metadata": {},
          "output_type": "execute_result"
        }
      ],
      "source": [
        "type(3.14)"
      ]
    },
    {
      "cell_type": "code",
      "execution_count": null,
      "id": "8a599c7a",
      "metadata": {
        "colab": {
          "base_uri": "https://localhost:8080/"
        },
        "id": "8a599c7a",
        "outputId": "6713c655-4f1b-4b0c-fa33-b7a9c681bf82"
      },
      "outputs": [
        {
          "data": {
            "text/plain": [
              "0.99"
            ]
          },
          "execution_count": 24,
          "metadata": {},
          "output_type": "execute_result"
        }
      ],
      "source": [
        ".99"
      ]
    },
    {
      "cell_type": "code",
      "execution_count": null,
      "id": "b597680a",
      "metadata": {
        "colab": {
          "base_uri": "https://localhost:8080/"
        },
        "id": "b597680a",
        "outputId": "d2a5a947-1066-4da8-ae58-66e2fbb4f68b"
      },
      "outputs": [
        {
          "data": {
            "text/plain": [
              "500000000.0"
            ]
          },
          "execution_count": 25,
          "metadata": {},
          "output_type": "execute_result"
        }
      ],
      "source": [
        "5e8"
      ]
    },
    {
      "cell_type": "code",
      "execution_count": null,
      "id": "6af99295",
      "metadata": {
        "colab": {
          "base_uri": "https://localhost:8080/"
        },
        "id": "6af99295",
        "outputId": "c7b56070-d6d2-48b5-bb39-56ba5da1d841"
      },
      "outputs": [
        {
          "data": {
            "text/plain": [
              "float"
            ]
          },
          "execution_count": 26,
          "metadata": {},
          "output_type": "execute_result"
        }
      ],
      "source": [
        "type(5e8)"
      ]
    },
    {
      "cell_type": "code",
      "execution_count": null,
      "id": "dc9d4797",
      "metadata": {
        "colab": {
          "base_uri": "https://localhost:8080/"
        },
        "id": "dc9d4797",
        "outputId": "6521fca3-d3f4-4f1a-e54e-1c72daff367d"
      },
      "outputs": [
        {
          "data": {
            "text/plain": [
              "5.67e-06"
            ]
          },
          "execution_count": 27,
          "metadata": {},
          "output_type": "execute_result"
        }
      ],
      "source": [
        "5.67E-6"
      ]
    },
    {
      "cell_type": "code",
      "execution_count": null,
      "id": "c0379fb3",
      "metadata": {
        "colab": {
          "base_uri": "https://localhost:8080/"
        },
        "id": "c0379fb3",
        "outputId": "93cd3c97-b54e-4cfb-8512-b1d99a8ca8ca"
      },
      "outputs": [
        {
          "data": {
            "text/plain": [
              "10.0"
            ]
          },
          "execution_count": 31,
          "metadata": {},
          "output_type": "execute_result"
        }
      ],
      "source": [
        "#We can also convert or cast a integer to a float with float().\n",
        "\n",
        "float (10)"
      ]
    },
    {
      "cell_type": "markdown",
      "id": "6fd43043",
      "metadata": {
        "id": "6fd43043"
      },
      "source": [
        "Almost all platforms represent Python float values as 64-bit “double-precision” values, according to the IEEE 754 standard. In that case, the maximum value a floating-point number can have is approximately 1.8 ⨉ 10308. Python will indicate a number greater than that by the string inf"
      ]
    },
    {
      "cell_type": "code",
      "execution_count": null,
      "id": "8488b000",
      "metadata": {
        "colab": {
          "base_uri": "https://localhost:8080/"
        },
        "id": "8488b000",
        "outputId": "4c0db8e2-e58d-4e0a-b112-ff5c86356b91"
      },
      "outputs": [
        {
          "data": {
            "text/plain": [
              "1.79e+308"
            ]
          },
          "execution_count": 33,
          "metadata": {},
          "output_type": "execute_result"
        }
      ],
      "source": [
        "1.79e308"
      ]
    },
    {
      "cell_type": "code",
      "execution_count": null,
      "id": "e9e58b9a",
      "metadata": {
        "colab": {
          "base_uri": "https://localhost:8080/"
        },
        "id": "e9e58b9a",
        "outputId": "a22ddc23-6d33-4eea-a631-2ac943508c69"
      },
      "outputs": [
        {
          "data": {
            "text/plain": [
              "inf"
            ]
          },
          "execution_count": 34,
          "metadata": {},
          "output_type": "execute_result"
        }
      ],
      "source": [
        "1.8e308"
      ]
    },
    {
      "cell_type": "markdown",
      "id": "545099db",
      "metadata": {
        "id": "545099db"
      },
      "source": [
        "The closest a nonzero number can be to zero is approximately 5.0 ⨉ 10-324. Anything closer to zero than that is effectively zero:"
      ]
    },
    {
      "cell_type": "code",
      "execution_count": null,
      "id": "2da777ac",
      "metadata": {
        "colab": {
          "base_uri": "https://localhost:8080/"
        },
        "id": "2da777ac",
        "outputId": "2c8493d0-2a44-4f49-d14a-899bfc773086"
      },
      "outputs": [
        {
          "data": {
            "text/plain": [
              "5e-324"
            ]
          },
          "execution_count": 35,
          "metadata": {},
          "output_type": "execute_result"
        }
      ],
      "source": [
        "5e-324"
      ]
    },
    {
      "cell_type": "code",
      "execution_count": null,
      "id": "cdde2a65",
      "metadata": {
        "colab": {
          "base_uri": "https://localhost:8080/"
        },
        "id": "cdde2a65",
        "outputId": "b3b93c9b-6324-4093-c2e8-3c997e53de2f"
      },
      "outputs": [
        {
          "data": {
            "text/plain": [
              "0.0"
            ]
          },
          "execution_count": 36,
          "metadata": {},
          "output_type": "execute_result"
        }
      ],
      "source": [
        "1e-325"
      ]
    },
    {
      "cell_type": "markdown",
      "id": "69cf2b84",
      "metadata": {
        "id": "69cf2b84"
      },
      "source": [
        "In most cases the internal representation of a floating-point number is an approximation of the actual value. In practice, the difference between the actual value and the represented value is very small and should not usually cause significant problems."
      ]
    },
    {
      "cell_type": "code",
      "execution_count": null,
      "id": "05711ac5",
      "metadata": {
        "colab": {
          "base_uri": "https://localhost:8080/"
        },
        "id": "05711ac5",
        "outputId": "39ab5364-f7d3-4a92-a878-8836f28374a5"
      },
      "outputs": [
        {
          "data": {
            "text/plain": [
              "False"
            ]
          },
          "execution_count": 37,
          "metadata": {},
          "output_type": "execute_result"
        }
      ],
      "source": [
        "# == means 'is equal?' or 'is this equal to this?'\n",
        "0.1+ 0.2 == 0.3"
      ]
    },
    {
      "cell_type": "code",
      "execution_count": null,
      "id": "c4f0446e",
      "metadata": {
        "colab": {
          "base_uri": "https://localhost:8080/"
        },
        "id": "c4f0446e",
        "outputId": "b17d1821-adfe-4762-935d-c5bdc5eb85fe"
      },
      "outputs": [
        {
          "name": "stdout",
          "output_type": "stream",
          "text": [
            "True\n"
          ]
        }
      ],
      "source": [
        "#Lets format our float numbers to have 17 decimal places\n",
        "print (\"0.1 = {0:.17f}\"> format (0.1))"
      ]
    },
    {
      "cell_type": "markdown",
      "id": "4f5896de",
      "metadata": {
        "id": "4f5896de"
      },
      "source": [
        "### Complex numbers\n",
        "Complex numbers are specified as `<real part>+<imaginary part>j`. You can print only the real or imaginary part by using `.imag` or `.real`"
      ]
    },
    {
      "cell_type": "code",
      "execution_count": null,
      "id": "298bf4f7",
      "metadata": {
        "colab": {
          "base_uri": "https://localhost:8080/",
          "height": 106
        },
        "id": "298bf4f7",
        "outputId": "173fe6f8-d25a-4e3b-cefc-6bd259a88391"
      },
      "outputs": [
        {
          "ename": "SyntaxError",
          "evalue": "invalid syntax (<ipython-input-43-d845dbd22217>, line 1)",
          "output_type": "error",
          "traceback": [
            "\u001b[0;36m  File \u001b[0;32m\"<ipython-input-43-d845dbd22217>\"\u001b[0;36m, line \u001b[0;32m1\u001b[0m\n\u001b[0;31m    [133]2+5j\u001b[0m\n\u001b[0m         ^\u001b[0m\n\u001b[0;31mSyntaxError\u001b[0m\u001b[0;31m:\u001b[0m invalid syntax\n"
          ]
        }
      ],
      "source": [
        "[133]2+5j"
      ]
    },
    {
      "cell_type": "code",
      "execution_count": null,
      "id": "55f38c7c",
      "metadata": {
        "id": "55f38c7c",
        "outputId": "ded3f605-b6bb-4205-afe9-df9832cec8a5"
      },
      "outputs": [
        {
          "data": {
            "text/plain": [
              "complex"
            ]
          },
          "execution_count": 35,
          "metadata": {},
          "output_type": "execute_result"
        }
      ],
      "source": [
        "type(2+5j)"
      ]
    },
    {
      "cell_type": "code",
      "execution_count": null,
      "id": "d8d84ba7",
      "metadata": {
        "id": "d8d84ba7",
        "outputId": "3ffc4012-2f56-41ee-b211-a36f1fd3b5ff"
      },
      "outputs": [
        {
          "data": {
            "text/plain": [
              "1.0"
            ]
          },
          "execution_count": 37,
          "metadata": {},
          "output_type": "execute_result"
        }
      ],
      "source": [
        "#comp = 1+2j\n"
      ]
    },
    {
      "cell_type": "code",
      "execution_count": null,
      "id": "19826f04",
      "metadata": {
        "id": "19826f04"
      },
      "outputs": [],
      "source": [
        "# try printing the imaginary part"
      ]
    },
    {
      "cell_type": "markdown",
      "id": "59bb12dd",
      "metadata": {
        "id": "59bb12dd"
      },
      "source": [
        "### Strings\n",
        "Strings are sequences of character data. In Python this is called `str`.\n",
        "Strings can be limited by single or double quotes."
      ]
    },
    {
      "cell_type": "code",
      "execution_count": null,
      "id": "78aea91a",
      "metadata": {
        "colab": {
          "base_uri": "https://localhost:8080/"
        },
        "id": "78aea91a",
        "outputId": "5567ffb2-6153-4e12-a43a-ab34c57f6979"
      },
      "outputs": [
        {
          "name": "stdout",
          "output_type": "stream",
          "text": [
            "This is a string\n"
          ]
        },
        {
          "data": {
            "text/plain": [
              "str"
            ]
          },
          "execution_count": 44,
          "metadata": {},
          "output_type": "execute_result"
        }
      ],
      "source": [
        "#Try printing using This is a string using and check data type \"\"\n",
        "print (\"This is a string\")\n",
        "type (\"what is my type?\")"
      ]
    },
    {
      "cell_type": "code",
      "execution_count": null,
      "id": "22b82343",
      "metadata": {
        "colab": {
          "base_uri": "https://localhost:8080/"
        },
        "id": "22b82343",
        "outputId": "511cffcd-5796-403b-be37-b6dc863e00e0"
      },
      "outputs": [
        {
          "name": "stdout",
          "output_type": "stream",
          "text": [
            "This is a string\n"
          ]
        },
        {
          "data": {
            "text/plain": [
              "str"
            ]
          },
          "execution_count": 46,
          "metadata": {},
          "output_type": "execute_result"
        }
      ],
      "source": [
        "# Try printing string using '' and check the data type\n",
        "print('This is a string')\n",
        "type (\"what is my type?\")"
      ]
    },
    {
      "cell_type": "markdown",
      "id": "145cb9e7",
      "metadata": {
        "id": "145cb9e7"
      },
      "source": [
        "A string can contain as many characters as you wish. The only limit is the computer memory. A string can also be empty."
      ]
    },
    {
      "cell_type": "code",
      "execution_count": null,
      "id": "1f921753",
      "metadata": {
        "colab": {
          "base_uri": "https://localhost:8080/"
        },
        "id": "1f921753",
        "outputId": "ab75f70e-8e3c-4648-8ee0-765221903aae"
      },
      "outputs": [
        {
          "data": {
            "text/plain": [
              "str"
            ]
          },
          "execution_count": 47,
          "metadata": {},
          "output_type": "execute_result"
        }
      ],
      "source": [
        "''\n",
        "type ('')"
      ]
    },
    {
      "cell_type": "code",
      "execution_count": null,
      "id": "8d4d828d",
      "metadata": {
        "colab": {
          "base_uri": "https://localhost:8080/"
        },
        "id": "8d4d828d",
        "outputId": "baf703be-c907-47d9-c4f1-cc6be30ac3e0"
      },
      "outputs": [
        {
          "name": "stdout",
          "output_type": "stream",
          "text": [
            "\"HI HOW ARE YOU\"\n"
          ]
        }
      ],
      "source": [
        "#Double and single quotes can be combined\n",
        "print('\"HI HOW ARE YOU\"')"
      ]
    },
    {
      "cell_type": "markdown",
      "id": "78932997",
      "metadata": {
        "id": "78932997"
      },
      "source": [
        "Here are some useful string functions, concatenation and indexing"
      ]
    },
    {
      "cell_type": "code",
      "execution_count": null,
      "id": "10ae543b",
      "metadata": {
        "colab": {
          "base_uri": "https://localhost:8080/"
        },
        "id": "10ae543b",
        "outputId": "8c1b3569-75ae-412e-abb6-96916a4e3d9d"
      },
      "outputs": [
        {
          "data": {
            "text/plain": [
              "17"
            ]
          },
          "execution_count": 49,
          "metadata": {},
          "output_type": "execute_result"
        }
      ],
      "source": [
        "message = \"what do you like?\"\n",
        "# length of string\n",
        "len (message)"
      ]
    },
    {
      "cell_type": "code",
      "execution_count": null,
      "id": "38b2f65c",
      "metadata": {
        "colab": {
          "base_uri": "https://localhost:8080/",
          "height": 35
        },
        "id": "38b2f65c",
        "outputId": "75b96cd7-459a-4bf8-b4f0-9875cdec3444"
      },
      "outputs": [
        {
          "data": {
            "application/vnd.google.colaboratory.intrinsic+json": {
              "type": "string"
            },
            "text/plain": [
              "'WHAT DO YOU LIKE?'"
            ]
          },
          "execution_count": 50,
          "metadata": {},
          "output_type": "execute_result"
        }
      ],
      "source": [
        "# Make upper-case. See also str.lower()\n",
        "message.upper()"
      ]
    },
    {
      "cell_type": "code",
      "execution_count": null,
      "id": "f30c3eec",
      "metadata": {
        "colab": {
          "base_uri": "https://localhost:8080/",
          "height": 35
        },
        "id": "f30c3eec",
        "outputId": "0a677d74-f809-4873-fe95-de18871ef161"
      },
      "outputs": [
        {
          "data": {
            "application/vnd.google.colaboratory.intrinsic+json": {
              "type": "string"
            },
            "text/plain": [
              "'what do you like?'"
            ]
          },
          "execution_count": 51,
          "metadata": {},
          "output_type": "execute_result"
        }
      ],
      "source": [
        "# Make lower-case.\n",
        "message.lower()"
      ]
    },
    {
      "cell_type": "code",
      "execution_count": null,
      "id": "58378fff",
      "metadata": {
        "id": "58378fff",
        "outputId": "2069a2fe-f66c-412d-9d62-0fafd90a999d"
      },
      "outputs": [
        {
          "data": {
            "text/plain": [
              "'What do you like?'"
            ]
          },
          "execution_count": 49,
          "metadata": {},
          "output_type": "execute_result"
        }
      ],
      "source": [
        "# Capitalize. See also str.title()\n",
        "message.capitalize()"
      ]
    },
    {
      "cell_type": "code",
      "execution_count": null,
      "id": "e6b59e79",
      "metadata": {
        "colab": {
          "base_uri": "https://localhost:8080/",
          "height": 35
        },
        "id": "e6b59e79",
        "outputId": "34c74a9d-c9d5-4ce4-9bf7-fc2e3ded06b3"
      },
      "outputs": [
        {
          "data": {
            "application/vnd.google.colaboratory.intrinsic+json": {
              "type": "string"
            },
            "text/plain": [
              "'What Do You Like?'"
            ]
          },
          "execution_count": 53,
          "metadata": {},
          "output_type": "execute_result"
        }
      ],
      "source": [
        "# Capitalize every first letter\n",
        "message.title()"
      ]
    },
    {
      "cell_type": "code",
      "execution_count": null,
      "id": "b45c0f40",
      "metadata": {
        "colab": {
          "base_uri": "https://localhost:8080/",
          "height": 35
        },
        "id": "b45c0f40",
        "outputId": "48094cb4-94e9-463a-887b-480e7a5542b3"
      },
      "outputs": [
        {
          "data": {
            "application/vnd.google.colaboratory.intrinsic+json": {
              "type": "string"
            },
            "text/plain": [
              "'what do you like? I like python'"
            ]
          },
          "execution_count": 55,
          "metadata": {},
          "output_type": "execute_result"
        }
      ],
      "source": [
        "# How to Concatenate or join two or more strings with +\n",
        "message + \" I like python\""
      ]
    },
    {
      "cell_type": "code",
      "execution_count": null,
      "id": "4c466e71",
      "metadata": {
        "colab": {
          "base_uri": "https://localhost:8080/",
          "height": 35
        },
        "id": "4c466e71",
        "outputId": "22d43891-9daf-471d-d0be-677354e620c1"
      },
      "outputs": [
        {
          "data": {
            "application/vnd.google.colaboratory.intrinsic+json": {
              "type": "string"
            },
            "text/plain": [
              "'I like PythonI like PythonI like PythonI like PythonI like Python'"
            ]
          },
          "execution_count": 56,
          "metadata": {},
          "output_type": "execute_result"
        }
      ],
      "source": [
        "# an astherisc * will multiply your string\n",
        "like = \"I like Python\"\n",
        "like * 5"
      ]
    },
    {
      "cell_type": "markdown",
      "id": "a151b0f1",
      "metadata": {
        "id": "a151b0f1"
      },
      "source": [
        "Indexing means accesing the individual elements or characters of a string (or list, as you will see later). To index a string use the `[]` brackets and the number you want to index. Just remember Python uses zero-based index."
      ]
    },
    {
      "cell_type": "code",
      "execution_count": null,
      "id": "d49a55db",
      "metadata": {
        "colab": {
          "base_uri": "https://localhost:8080/",
          "height": 35
        },
        "id": "d49a55db",
        "outputId": "50fd62b7-5f21-47c0-f3eb-5cb05c3fe25d"
      },
      "outputs": [
        {
          "data": {
            "application/vnd.google.colaboratory.intrinsic+json": {
              "type": "string"
            },
            "text/plain": [
              "'I'"
            ]
          },
          "execution_count": 57,
          "metadata": {},
          "output_type": "execute_result"
        }
      ],
      "source": [
        "#indexing\n",
        "like[0]"
      ]
    },
    {
      "cell_type": "code",
      "execution_count": null,
      "id": "ff85a50d",
      "metadata": {
        "colab": {
          "base_uri": "https://localhost:8080/"
        },
        "id": "ff85a50d",
        "outputId": "db6d8494-f88a-429f-fea1-24c65ab1d905"
      },
      "outputs": [
        {
          "name": "stdout",
          "output_type": "stream",
          "text": [
            "  l i k\n"
          ]
        }
      ],
      "source": [
        "print (like[1],like[2],like[3],like[4])"
      ]
    },
    {
      "cell_type": "code",
      "execution_count": null,
      "id": "474dcf0c",
      "metadata": {
        "id": "474dcf0c"
      },
      "outputs": [],
      "source": []
    },
    {
      "cell_type": "code",
      "execution_count": null,
      "id": "a72d19c1",
      "metadata": {
        "colab": {
          "base_uri": "https://localhost:8080/",
          "height": 35
        },
        "id": "a72d19c1",
        "outputId": "414908c0-67e3-4cf6-8980-09eca463589e"
      },
      "outputs": [
        {
          "data": {
            "application/vnd.google.colaboratory.intrinsic+json": {
              "type": "string"
            },
            "text/plain": [
              "'n'"
            ]
          },
          "execution_count": 59,
          "metadata": {},
          "output_type": "execute_result"
        }
      ],
      "source": [
        "# A negative index will start counting from the right side\n",
        "# Here is the last letter\n",
        "like [-1]"
      ]
    },
    {
      "cell_type": "markdown",
      "id": "5fe325f2",
      "metadata": {
        "id": "5fe325f2"
      },
      "source": [
        "### Optional Exercise\n",
        "Create two string variables, one with your first name, another with your last name.\n",
        "- Concatenate these two variables\n",
        "- Index just the first letter of your name and the first letter of your last name using `[]`, concatenate and print these two characters.\n",
        "- Can you print the initials of your first and last name but this time only in lowercase letters?\n",
        "- Try to print the following rectangle using only string multiplication with `*`\n",
        "\n",
        "`**************` \\\n",
        "`*            *` \\\n",
        "`*            *` \\\n",
        "`*            *` \\\n",
        "`*            *` \\\n",
        "`*            *` \\\n",
        "`**************`"
      ]
    },
    {
      "cell_type": "markdown",
      "id": "6a3766cf",
      "metadata": {
        "id": "6a3766cf"
      },
      "source": [
        "### Boolean Type\n",
        "Objects of Boolean type may have one of two values, `True` or `False`:\n",
        "Expressions in Python are often evaluated in Boolean context, meaning they are interpreted to represent truth or falsehood."
      ]
    },
    {
      "cell_type": "code",
      "execution_count": null,
      "id": "fbb1b3cc",
      "metadata": {
        "colab": {
          "base_uri": "https://localhost:8080/"
        },
        "id": "fbb1b3cc",
        "outputId": "7fba13d4-c79a-4620-b485-2b5d8434c8b3"
      },
      "outputs": [
        {
          "data": {
            "text/plain": [
              "True"
            ]
          },
          "execution_count": 61,
          "metadata": {},
          "output_type": "execute_result"
        }
      ],
      "source": [
        "# Compare if 4 if less than 5\n",
        "result = (4<5)\n",
        "result"
      ]
    },
    {
      "cell_type": "code",
      "execution_count": null,
      "id": "c61ec305",
      "metadata": {
        "colab": {
          "base_uri": "https://localhost:8080/"
        },
        "id": "c61ec305",
        "outputId": "4a648a1b-1192-4fba-f52f-6fc7d0c23781"
      },
      "outputs": [
        {
          "data": {
            "text/plain": [
              "bool"
            ]
          },
          "execution_count": 62,
          "metadata": {},
          "output_type": "execute_result"
        }
      ],
      "source": [
        "type (result)"
      ]
    },
    {
      "cell_type": "code",
      "execution_count": null,
      "id": "b0e45897",
      "metadata": {
        "colab": {
          "base_uri": "https://localhost:8080/"
        },
        "id": "b0e45897",
        "outputId": "7603c5e4-c776-4e00-e2ad-dd61673494c8"
      },
      "outputs": [
        {
          "name": "stdout",
          "output_type": "stream",
          "text": [
            "True False\n"
          ]
        }
      ],
      "source": [
        "print (True,False)"
      ]
    },
    {
      "cell_type": "code",
      "execution_count": null,
      "id": "b5aab6f0",
      "metadata": {
        "colab": {
          "base_uri": "https://localhost:8080/"
        },
        "id": "b5aab6f0",
        "outputId": "2dc1e99e-a1c3-464e-ee6b-730d317e32fe"
      },
      "outputs": [
        {
          "data": {
            "text/plain": [
              "True"
            ]
          },
          "execution_count": 64,
          "metadata": {},
          "output_type": "execute_result"
        }
      ],
      "source": [
        "# Not zero\n",
        "bool (2014)"
      ]
    },
    {
      "cell_type": "code",
      "execution_count": null,
      "id": "3e20f5c3",
      "metadata": {
        "colab": {
          "base_uri": "https://localhost:8080/"
        },
        "id": "3e20f5c3",
        "outputId": "29612cc2-9c7c-43ab-f9fa-f93db4d1d833"
      },
      "outputs": [
        {
          "data": {
            "text/plain": [
              "False"
            ]
          },
          "execution_count": 65,
          "metadata": {},
          "output_type": "execute_result"
        }
      ],
      "source": [
        "# A zero is equal to False\n",
        "bool (0)"
      ]
    },
    {
      "cell_type": "code",
      "execution_count": null,
      "id": "67d70d06",
      "metadata": {
        "colab": {
          "base_uri": "https://localhost:8080/"
        },
        "id": "67d70d06",
        "outputId": "723ccff4-d6d8-4dad-b782-4c8bf0b8f115"
      },
      "outputs": [
        {
          "data": {
            "text/plain": [
              "True"
            ]
          },
          "execution_count": 66,
          "metadata": {},
          "output_type": "execute_result"
        }
      ],
      "source": [
        "# Also not zero\n",
        "bool (3.1414)"
      ]
    },
    {
      "cell_type": "code",
      "execution_count": null,
      "id": "61a8db9a",
      "metadata": {
        "colab": {
          "base_uri": "https://localhost:8080/"
        },
        "id": "61a8db9a",
        "outputId": "6be20559-76b2-4b37-cac0-7521be69d870"
      },
      "outputs": [
        {
          "data": {
            "text/plain": [
              "False"
            ]
          },
          "execution_count": 67,
          "metadata": {},
          "output_type": "execute_result"
        }
      ],
      "source": [
        "# try a bool on None\n",
        "bool(None)\n"
      ]
    },
    {
      "cell_type": "code",
      "execution_count": null,
      "id": "c4ac8aec",
      "metadata": {
        "colab": {
          "base_uri": "https://localhost:8080/"
        },
        "id": "c4ac8aec",
        "outputId": "c48e9740-e9e7-46ed-b35b-fe5a22d3a6ef"
      },
      "outputs": [
        {
          "data": {
            "text/plain": [
              "False"
            ]
          },
          "execution_count": 68,
          "metadata": {},
          "output_type": "execute_result"
        }
      ],
      "source": [
        "# what about an Empty string bool\n",
        "bool (\"\")"
      ]
    },
    {
      "cell_type": "code",
      "execution_count": null,
      "id": "b55886b2",
      "metadata": {
        "colab": {
          "base_uri": "https://localhost:8080/"
        },
        "id": "b55886b2",
        "outputId": "e0f56ba6-f69e-4f7b-84d4-fe33131fe6b0"
      },
      "outputs": [
        {
          "data": {
            "text/plain": [
              "True"
            ]
          },
          "execution_count": 69,
          "metadata": {},
          "output_type": "execute_result"
        }
      ],
      "source": [
        "#bool(\"abc\")\n",
        "bool (\"abc\")"
      ]
    },
    {
      "cell_type": "code",
      "execution_count": null,
      "id": "510bda47",
      "metadata": {
        "colab": {
          "base_uri": "https://localhost:8080/"
        },
        "id": "510bda47",
        "outputId": "29da46e3-a7ad-4e14-cb7b-304882027b89"
      },
      "outputs": [
        {
          "data": {
            "text/plain": [
              "True"
            ]
          },
          "execution_count": 70,
          "metadata": {},
          "output_type": "execute_result"
        }
      ],
      "source": [
        "bool([1, 2, 3])"
      ]
    },
    {
      "cell_type": "code",
      "execution_count": null,
      "id": "6466ab80",
      "metadata": {
        "colab": {
          "base_uri": "https://localhost:8080/"
        },
        "id": "6466ab80",
        "outputId": "5743f61e-6e44-46de-ef54-b3bfb3a559cf"
      },
      "outputs": [
        {
          "data": {
            "text/plain": [
              "False"
            ]
          },
          "execution_count": 72,
          "metadata": {},
          "output_type": "execute_result"
        }
      ],
      "source": [
        "#Empty list\n",
        "bool([])"
      ]
    },
    {
      "cell_type": "code",
      "execution_count": null,
      "id": "a1082049",
      "metadata": {
        "colab": {
          "base_uri": "https://localhost:8080/"
        },
        "id": "a1082049",
        "outputId": "133db304-a331-4a3d-b3b1-a667c7ff6fa2"
      },
      "outputs": [
        {
          "data": {
            "text/plain": [
              "False"
            ]
          },
          "execution_count": 73,
          "metadata": {},
          "output_type": "execute_result"
        }
      ],
      "source": [
        "bool(0.0)"
      ]
    },
    {
      "cell_type": "code",
      "execution_count": null,
      "id": "0f4a3cf2",
      "metadata": {
        "colab": {
          "base_uri": "https://localhost:8080/"
        },
        "id": "0f4a3cf2",
        "outputId": "d804e2c3-4ed0-4d9f-bba4-0aa560e0c89d"
      },
      "outputs": [
        {
          "data": {
            "text/plain": [
              "True"
            ]
          },
          "execution_count": 74,
          "metadata": {},
          "output_type": "execute_result"
        }
      ],
      "source": [
        "bool(1.0)"
      ]
    },
    {
      "cell_type": "code",
      "execution_count": null,
      "id": "a5ad8551",
      "metadata": {
        "colab": {
          "base_uri": "https://localhost:8080/"
        },
        "id": "a5ad8551",
        "outputId": "e11a5787-9db3-4c07-f09b-1a21a78595ae"
      },
      "outputs": [
        {
          "data": {
            "text/plain": [
              "1"
            ]
          },
          "execution_count": 75,
          "metadata": {},
          "output_type": "execute_result"
        }
      ],
      "source": [
        "int(True)"
      ]
    },
    {
      "cell_type": "code",
      "execution_count": null,
      "id": "ebaa2672",
      "metadata": {
        "colab": {
          "base_uri": "https://localhost:8080/"
        },
        "id": "ebaa2672",
        "outputId": "6d5bb1e3-0e03-43fc-fbfc-dd78cfda6bc1"
      },
      "outputs": [
        {
          "data": {
            "text/plain": [
              "0"
            ]
          },
          "execution_count": 76,
          "metadata": {},
          "output_type": "execute_result"
        }
      ],
      "source": [
        "int(False)"
      ]
    },
    {
      "cell_type": "markdown",
      "id": "156dfe28",
      "metadata": {
        "id": "156dfe28"
      },
      "source": [
        "### Other useful data types\n",
        "### Lists\n",
        "Lists are mutable collections of objects, similar to arrays in other programming languages. Lists are defined in Python by enclosing a comma-separated sequence of objects in square brackets `[]`\n",
        "- Lists are ordered\n",
        "- Lists can contain different types of objects\n",
        "- List objects can be accessed by index\n",
        "- Lists can be nested to arbitrary depth e.g. list of lists\n",
        "- Lists are mutable, they can be changed"
      ]
    },
    {
      "cell_type": "code",
      "execution_count": null,
      "id": "4add7d38",
      "metadata": {
        "colab": {
          "base_uri": "https://localhost:8080/"
        },
        "id": "4add7d38",
        "outputId": "647ebeb6-0b32-4fd8-dbea-36f739b419c0"
      },
      "outputs": [
        {
          "data": {
            "text/plain": [
              "['John', 'Mary', 'Max', 'Wanda']"
            ]
          },
          "execution_count": 80,
          "metadata": {},
          "output_type": "execute_result"
        }
      ],
      "source": [
        "# Creating a string list\n",
        "friends = ['John', 'Mary', 'Max','Wanda']\n",
        "friends"
      ]
    },
    {
      "cell_type": "code",
      "execution_count": null,
      "id": "65faca10",
      "metadata": {
        "colab": {
          "base_uri": "https://localhost:8080/"
        },
        "id": "65faca10",
        "outputId": "1bda64b7-77ac-4044-bb6c-bc4bd73b4ae5"
      },
      "outputs": [
        {
          "data": {
            "text/plain": [
              "False"
            ]
          },
          "execution_count": 89,
          "metadata": {},
          "output_type": "execute_result"
        }
      ],
      "source": [
        "# Lists are ordered\n",
        "# lists with the same elements in different order are not the same\n",
        "a =[ 1,2,3,4 ]\n",
        "b =[ 2,1,3,4 ]\n",
        "a == b"
      ]
    },
    {
      "cell_type": "code",
      "execution_count": null,
      "id": "14fa7954",
      "metadata": {
        "colab": {
          "base_uri": "https://localhost:8080/"
        },
        "id": "14fa7954",
        "outputId": "600e02c2-f7d4-4d8a-d48e-d6a651161dea"
      },
      "outputs": [
        {
          "data": {
            "text/plain": [
              "False"
            ]
          },
          "execution_count": 90,
          "metadata": {},
          "output_type": "execute_result"
        }
      ],
      "source": [
        "a is b"
      ]
    },
    {
      "cell_type": "code",
      "execution_count": null,
      "id": "d0ae682c",
      "metadata": {
        "colab": {
          "base_uri": "https://localhost:8080/"
        },
        "id": "d0ae682c",
        "outputId": "36ffc220-1e48-4bf3-ff86-626e28cc9b27"
      },
      "outputs": [
        {
          "data": {
            "text/plain": [
              "[10, 3.14, 'hello', True]"
            ]
          },
          "execution_count": 93,
          "metadata": {},
          "output_type": "execute_result"
        }
      ],
      "source": [
        "# Lists can contain different types of objects\n",
        "c = [10,3.14, 'hello', True]\n",
        "c"
      ]
    },
    {
      "cell_type": "code",
      "execution_count": null,
      "id": "1be3520d",
      "metadata": {
        "colab": {
          "base_uri": "https://localhost:8080/"
        },
        "id": "1be3520d",
        "outputId": "92c8666b-ba50-46bb-dce3-e7d0257babf0"
      },
      "outputs": [
        {
          "data": {
            "text/plain": [
              "list"
            ]
          },
          "execution_count": 94,
          "metadata": {},
          "output_type": "execute_result"
        }
      ],
      "source": [
        "type (c)"
      ]
    },
    {
      "cell_type": "code",
      "execution_count": null,
      "id": "33c22ce1",
      "metadata": {
        "colab": {
          "base_uri": "https://localhost:8080/"
        },
        "id": "33c22ce1",
        "outputId": "0bb4b45d-d521-4649-8047-9e20f2e1bb09"
      },
      "outputs": [
        {
          "data": {
            "text/plain": [
              "bool"
            ]
          },
          "execution_count": 95,
          "metadata": {},
          "output_type": "execute_result"
        }
      ],
      "source": [
        "type (c[3])"
      ]
    },
    {
      "cell_type": "code",
      "execution_count": null,
      "id": "64a0c4a9",
      "metadata": {
        "id": "64a0c4a9"
      },
      "outputs": [],
      "source": [
        "# Lists can contain the same object multiple times\n",
        "d = ['bark', 'cat','dog']"
      ]
    },
    {
      "cell_type": "code",
      "execution_count": null,
      "id": "2ea04079",
      "metadata": {
        "colab": {
          "base_uri": "https://localhost:8080/",
          "height": 35
        },
        "id": "2ea04079",
        "outputId": "9e3ad594-1af0-4270-8348-9e9dbe7efdb2"
      },
      "outputs": [
        {
          "data": {
            "application/vnd.google.colaboratory.intrinsic+json": {
              "type": "string"
            },
            "text/plain": [
              "'bark'"
            ]
          },
          "execution_count": 98,
          "metadata": {},
          "output_type": "execute_result"
        }
      ],
      "source": [
        "# Lists objects can be accessed by index\n",
        "d[0]"
      ]
    },
    {
      "cell_type": "code",
      "execution_count": null,
      "id": "5c65e5ee",
      "metadata": {
        "id": "5c65e5ee"
      },
      "outputs": [],
      "source": [
        "d [1]"
      ]
    },
    {
      "cell_type": "code",
      "execution_count": null,
      "id": "b0d744d5",
      "metadata": {
        "colab": {
          "base_uri": "https://localhost:8080/",
          "height": 35
        },
        "id": "b0d744d5",
        "outputId": "d97bd482-4e74-419e-95cd-b1a4043318e9"
      },
      "outputs": [
        {
          "data": {
            "application/vnd.google.colaboratory.intrinsic+json": {
              "type": "string"
            },
            "text/plain": [
              "'dog'"
            ]
          },
          "execution_count": 100,
          "metadata": {},
          "output_type": "execute_result"
        }
      ],
      "source": [
        "# Remember a negative index counts from the end of the list\n",
        "d[-1]"
      ]
    },
    {
      "cell_type": "markdown",
      "id": "1b769660",
      "metadata": {
        "id": "1b769660"
      },
      "source": [
        "Slicing a list means taking a range of the objects that exist in that list, this is done by the square brackets and two index numbers separated by `:` similar to this `[0:3]`. In a list `a`, `a[m:n]` returns the portion of a from index m to, but not including, index n"
      ]
    },
    {
      "cell_type": "code",
      "execution_count": null,
      "id": "-0jPUgWYjg8j",
      "metadata": {
        "colab": {
          "base_uri": "https://localhost:8080/"
        },
        "id": "-0jPUgWYjg8j",
        "outputId": "62ffe6d9-7f4c-442e-9ce8-617c08f494f5"
      },
      "outputs": [
        {
          "data": {
            "text/plain": [
              "['John', 'Mary', 'Max', 'Wanda']"
            ]
          },
          "execution_count": 104,
          "metadata": {},
          "output_type": "execute_result"
        }
      ],
      "source": [
        "#slicing list\n",
        "friends\n",
        "#freinds [0.2]\n"
      ]
    },
    {
      "cell_type": "code",
      "execution_count": null,
      "id": "b6d5d7d6",
      "metadata": {
        "colab": {
          "base_uri": "https://localhost:8080/"
        },
        "id": "b6d5d7d6",
        "outputId": "90320cda-a543-4df3-e598-fd6e69b56ca7"
      },
      "outputs": [
        {
          "data": {
            "text/plain": [
              "['John', 'Mary']"
            ]
          },
          "execution_count": 105,
          "metadata": {},
          "output_type": "execute_result"
        }
      ],
      "source": [
        "# not including index 3\n",
        "#friends\n",
        "friends [0:2]\n"
      ]
    },
    {
      "cell_type": "code",
      "execution_count": null,
      "id": "000942df",
      "metadata": {
        "id": "000942df"
      },
      "outputs": [],
      "source": []
    },
    {
      "cell_type": "code",
      "execution_count": null,
      "id": "2a5e7c1e",
      "metadata": {
        "colab": {
          "base_uri": "https://localhost:8080/"
        },
        "id": "2a5e7c1e",
        "outputId": "ca5ca5a1-ab71-4d62-f6f4-bf5e9c8ef7a5"
      },
      "outputs": [
        {
          "data": {
            "text/plain": [
              "['Mary', 'Max', 'Wanda']"
            ]
          },
          "execution_count": 107,
          "metadata": {},
          "output_type": "execute_result"
        }
      ],
      "source": [
        "# Negative slicing is supported\n",
        "friends[-3 : 4]"
      ]
    },
    {
      "cell_type": "code",
      "execution_count": null,
      "id": "538dcb72",
      "metadata": {
        "colab": {
          "base_uri": "https://localhost:8080/"
        },
        "id": "538dcb72",
        "outputId": "437c34f6-8df1-4fef-ddd8-943b5a29d91d"
      },
      "outputs": [
        {
          "data": {
            "text/plain": [
              "['John', 'Mary', 'Max']"
            ]
          },
          "execution_count": 109,
          "metadata": {},
          "output_type": "execute_result"
        }
      ],
      "source": [
        "# Omiting the first index starts at the beginning of the list\n",
        "friends [:3]"
      ]
    },
    {
      "cell_type": "code",
      "execution_count": null,
      "id": "21e387e2",
      "metadata": {
        "colab": {
          "base_uri": "https://localhost:8080/"
        },
        "id": "21e387e2",
        "outputId": "37312203-7d13-4067-98d7-99e2980856b1"
      },
      "outputs": [
        {
          "data": {
            "text/plain": [
              "['John', 'Mary', 'Max', 'Wanda']"
            ]
          },
          "execution_count": 110,
          "metadata": {},
          "output_type": "execute_result"
        }
      ],
      "source": [
        "# Omiting the second index extend the slice to the end of the list\n",
        "friends [0:]"
      ]
    },
    {
      "cell_type": "code",
      "execution_count": null,
      "id": "187c870f",
      "metadata": {
        "colab": {
          "base_uri": "https://localhost:8080/",
          "height": 106
        },
        "id": "187c870f",
        "outputId": "7ff579ba-3cbc-438a-beeb-2679526ebd84"
      },
      "outputs": [
        {
          "ename": "IndentationError",
          "evalue": "unexpected indent (<ipython-input-119-5e3e19fc3aa8>, line 2)",
          "output_type": "error",
          "traceback": [
            "\u001b[0;36m  File \u001b[0;32m\"<ipython-input-119-5e3e19fc3aa8>\"\u001b[0;36m, line \u001b[0;32m2\u001b[0m\n\u001b[0;31m    friends[0:4:2]\u001b[0m\n\u001b[0m    ^\u001b[0m\n\u001b[0;31mIndentationError\u001b[0m\u001b[0;31m:\u001b[0m unexpected indent\n"
          ]
        }
      ],
      "source": [
        "# You can also specify a step\n",
        " friends[0:4:2]"
      ]
    },
    {
      "cell_type": "code",
      "execution_count": null,
      "id": "7e202ccb",
      "metadata": {
        "colab": {
          "base_uri": "https://localhost:8080/"
        },
        "id": "7e202ccb",
        "outputId": "0224580f-c336-44b9-ebb8-b8979061390d"
      },
      "outputs": [
        {
          "data": {
            "text/plain": [
              "[0, 1, 2, 3, 4, 5, 6, 7, 8, 9]"
            ]
          },
          "execution_count": 116,
          "metadata": {},
          "output_type": "execute_result"
        }
      ],
      "source": [
        "# Lets visualize step/stride with a numeric list\n",
        "numbers = [0, 1, 2, 3, 4, 5, 6, 7, 8, 9]\n",
        "numbers"
      ]
    },
    {
      "cell_type": "code",
      "execution_count": null,
      "id": "e5b4299b",
      "metadata": {
        "colab": {
          "base_uri": "https://localhost:8080/"
        },
        "id": "e5b4299b",
        "outputId": "6566a9da-0abe-4a3d-8ca5-99a5ec0bf60b"
      },
      "outputs": [
        {
          "data": {
            "text/plain": [
              "[0, 2, 4, 6, 8]"
            ]
          },
          "execution_count": 118,
          "metadata": {},
          "output_type": "execute_result"
        }
      ],
      "source": [
        "# Start in index 0, include all elements, step every 2 elements\n",
        "numbers [0::2]"
      ]
    },
    {
      "cell_type": "code",
      "execution_count": null,
      "id": "ae80c559",
      "metadata": {
        "colab": {
          "base_uri": "https://localhost:8080/",
          "height": 35
        },
        "id": "ae80c559",
        "outputId": "a57de5c4-b193-4ff1-bcd0-d04ac745c1ce"
      },
      "outputs": [
        {
          "data": {
            "application/vnd.google.colaboratory.intrinsic+json": {
              "type": "string"
            },
            "text/plain": [
              "'Hello'"
            ]
          },
          "execution_count": 120,
          "metadata": {},
          "output_type": "execute_result"
        }
      ],
      "source": [
        "# You can also slice strings!\n",
        "message = 'Hello'\n",
        "message [:]"
      ]
    },
    {
      "cell_type": "code",
      "execution_count": null,
      "id": "499bcc44",
      "metadata": {
        "colab": {
          "base_uri": "https://localhost:8080/",
          "height": 35
        },
        "id": "499bcc44",
        "outputId": "765861f7-0194-4fa2-aa61-78f1305a441d"
      },
      "outputs": [
        {
          "data": {
            "application/vnd.google.colaboratory.intrinsic+json": {
              "type": "string"
            },
            "text/plain": [
              "'llo'"
            ]
          },
          "execution_count": 121,
          "metadata": {},
          "output_type": "execute_result"
        }
      ],
      "source": [
        "message [2:5]"
      ]
    },
    {
      "cell_type": "markdown",
      "id": "752a8084",
      "metadata": {
        "id": "752a8084"
      },
      "source": [
        "The concatenation (+) and replication (*) operators:\n"
      ]
    },
    {
      "cell_type": "code",
      "execution_count": null,
      "id": "89d9c0ee",
      "metadata": {
        "colab": {
          "base_uri": "https://localhost:8080/"
        },
        "id": "89d9c0ee",
        "outputId": "a5d13952-7443-41c2-80b3-dd5830f3e27c"
      },
      "outputs": [
        {
          "data": {
            "text/plain": [
              "['hello', 'yes', 'no']"
            ]
          },
          "execution_count": 122,
          "metadata": {},
          "output_type": "execute_result"
        }
      ],
      "source": [
        "e = ['hello', 'yes', 'no']\n",
        "e\n"
      ]
    },
    {
      "cell_type": "code",
      "execution_count": null,
      "id": "aa2f6237",
      "metadata": {
        "colab": {
          "base_uri": "https://localhost:8080/"
        },
        "id": "aa2f6237",
        "outputId": "59378f6d-28a8-4b7e-adc6-4f015055d15f"
      },
      "outputs": [
        {
          "data": {
            "text/plain": [
              "['hello', 'yes', 'no', 'here', 'mylist']"
            ]
          },
          "execution_count": 123,
          "metadata": {},
          "output_type": "execute_result"
        }
      ],
      "source": [
        "e+ ['here','mylist']"
      ]
    },
    {
      "cell_type": "code",
      "execution_count": null,
      "id": "ed1fac87",
      "metadata": {
        "colab": {
          "base_uri": "https://localhost:8080/"
        },
        "id": "ed1fac87",
        "outputId": "9508f487-c8b3-4d4f-c280-cc6f44a4bb7e"
      },
      "outputs": [
        {
          "data": {
            "text/plain": [
              "['hello', 'yes', 'no', 'hello', 'yes', 'no']"
            ]
          },
          "execution_count": 124,
          "metadata": {},
          "output_type": "execute_result"
        }
      ],
      "source": [
        "e * 2"
      ]
    },
    {
      "cell_type": "markdown",
      "id": "553f2fb4",
      "metadata": {
        "id": "553f2fb4"
      },
      "source": [
        "The len(), min(), and max() functions"
      ]
    },
    {
      "cell_type": "code",
      "execution_count": null,
      "id": "639a486a",
      "metadata": {
        "colab": {
          "base_uri": "https://localhost:8080/"
        },
        "id": "639a486a",
        "outputId": "10255dfb-fbdc-424f-d66b-d228cb178c18"
      },
      "outputs": [
        {
          "data": {
            "text/plain": [
              "5"
            ]
          },
          "execution_count": 125,
          "metadata": {},
          "output_type": "execute_result"
        }
      ],
      "source": [
        "f = [5, 10, 15, 20, 25]\n",
        "len(f)"
      ]
    },
    {
      "cell_type": "code",
      "execution_count": null,
      "id": "fa4cfa36",
      "metadata": {
        "colab": {
          "base_uri": "https://localhost:8080/"
        },
        "id": "fa4cfa36",
        "outputId": "375169a6-2285-4da5-df0d-2d5aa42c7afb"
      },
      "outputs": [
        {
          "data": {
            "text/plain": [
              "5"
            ]
          },
          "execution_count": 126,
          "metadata": {},
          "output_type": "execute_result"
        }
      ],
      "source": [
        "min(f)\n",
        "# Try this function with a string list. Can you explain what is happening?"
      ]
    },
    {
      "cell_type": "code",
      "execution_count": null,
      "id": "43f778ea",
      "metadata": {
        "colab": {
          "base_uri": "https://localhost:8080/"
        },
        "id": "43f778ea",
        "outputId": "6c19aa88-37a2-4b13-f177-63cf6394b068"
      },
      "outputs": [
        {
          "data": {
            "text/plain": [
              "25"
            ]
          },
          "execution_count": 127,
          "metadata": {},
          "output_type": "execute_result"
        }
      ],
      "source": [
        "max(f)\n",
        "# Try this function with a string list. Can you explain what is happening?"
      ]
    },
    {
      "cell_type": "markdown",
      "id": "e93b35a1",
      "metadata": {
        "id": "e93b35a1"
      },
      "source": [
        "Lists can be nested"
      ]
    },
    {
      "cell_type": "code",
      "execution_count": null,
      "id": "67c25d8e",
      "metadata": {
        "colab": {
          "base_uri": "https://localhost:8080/"
        },
        "id": "67c25d8e",
        "outputId": "b024cb51-729b-4a69-d849-fa8405772e0d"
      },
      "outputs": [
        {
          "data": {
            "text/plain": [
              "[[1, 2, 3, 4], [10, 20, 30], ['hello', 'from', 'my list']]"
            ]
          },
          "execution_count": 128,
          "metadata": {},
          "output_type": "execute_result"
        }
      ],
      "source": [
        "my_lists = [[1, 2, 3, 4], [10, 20, 30], ['hello', 'from', 'my list']]\n",
        "my_lists"
      ]
    },
    {
      "cell_type": "code",
      "execution_count": null,
      "id": "926818e8",
      "metadata": {
        "colab": {
          "base_uri": "https://localhost:8080/"
        },
        "id": "926818e8",
        "outputId": "398b37ad-507a-48e0-a7d1-df74b346038b"
      },
      "outputs": [
        {
          "data": {
            "text/plain": [
              "[1, 2, 3, 4]"
            ]
          },
          "execution_count": 129,
          "metadata": {},
          "output_type": "execute_result"
        }
      ],
      "source": [
        "my_lists[0]"
      ]
    },
    {
      "cell_type": "code",
      "execution_count": null,
      "id": "2656eb4d",
      "metadata": {
        "colab": {
          "base_uri": "https://localhost:8080/"
        },
        "id": "2656eb4d",
        "outputId": "f1a04b7b-2b7c-4863-c3ae-eb955676a294"
      },
      "outputs": [
        {
          "data": {
            "text/plain": [
              "3"
            ]
          },
          "execution_count": 132,
          "metadata": {},
          "output_type": "execute_result"
        }
      ],
      "source": [
        "# Accessing the second index\n",
        "my_lists[0][2]"
      ]
    },
    {
      "cell_type": "code",
      "execution_count": null,
      "id": "3f9b96c5",
      "metadata": {
        "colab": {
          "base_uri": "https://localhost:8080/"
        },
        "id": "3f9b96c5",
        "outputId": "5e8582c0-e8d9-4405-a251-eeb4f889863d"
      },
      "outputs": [
        {
          "data": {
            "text/plain": [
              "['hello', 'from', 'my list']"
            ]
          },
          "execution_count": 133,
          "metadata": {},
          "output_type": "execute_result"
        }
      ],
      "source": [
        "my_lists [2]"
      ]
    },
    {
      "cell_type": "markdown",
      "id": "4388b319",
      "metadata": {
        "id": "4388b319"
      },
      "source": [
        "Lists are mutable, meaning they can be changed"
      ]
    },
    {
      "cell_type": "code",
      "execution_count": null,
      "id": "c400c936",
      "metadata": {
        "colab": {
          "base_uri": "https://localhost:8080/"
        },
        "id": "c400c936",
        "outputId": "0d07d1bf-c8de-498d-f26f-232df564343b"
      },
      "outputs": [
        {
          "data": {
            "text/plain": [
              "['eggs', 'cheese', 'milk', 'bread']"
            ]
          },
          "execution_count": 159,
          "metadata": {},
          "output_type": "execute_result"
        }
      ],
      "source": [
        "groceries = ['eggs', 'cheese', 'milk', 'bread']\n",
        "groceries"
      ]
    },
    {
      "cell_type": "code",
      "execution_count": null,
      "id": "5483caa4",
      "metadata": {
        "colab": {
          "base_uri": "https://localhost:8080/"
        },
        "id": "5483caa4",
        "outputId": "124cd275-71c4-4c1f-8b48-e3e4c0b5a2cd"
      },
      "outputs": [
        {
          "data": {
            "text/plain": [
              "['eggs', 'cheese', 'soy milk', 'bread']"
            ]
          },
          "execution_count": 162,
          "metadata": {},
          "output_type": "execute_result"
        }
      ],
      "source": [
        "groceries [2]= 'soy milk'\n",
        "groceries"
      ]
    },
    {
      "cell_type": "code",
      "execution_count": null,
      "id": "767edce9",
      "metadata": {
        "colab": {
          "base_uri": "https://localhost:8080/"
        },
        "id": "767edce9",
        "outputId": "cf89f231-6d06-4156-e7d2-6f089fe1de93"
      },
      "outputs": [
        {
          "data": {
            "text/plain": [
              "['eggs', 'cheese', 'soy milk', 'bread']"
            ]
          },
          "execution_count": 163,
          "metadata": {},
          "output_type": "execute_result"
        }
      ],
      "source": [
        "groceries"
      ]
    },
    {
      "cell_type": "code",
      "execution_count": null,
      "id": "2c70d911",
      "metadata": {
        "colab": {
          "base_uri": "https://localhost:8080/"
        },
        "id": "2c70d911",
        "outputId": "78aa1a58-97ce-4d03-84e0-098dbe5cb0e5"
      },
      "outputs": [
        {
          "data": {
            "text/plain": [
              "['eggs', 'soy milk', 'bread']"
            ]
          },
          "execution_count": 164,
          "metadata": {},
          "output_type": "execute_result"
        }
      ],
      "source": [
        "# delete an element with del()\n",
        "del groceries [1]\n",
        "groceries"
      ]
    },
    {
      "cell_type": "code",
      "execution_count": null,
      "id": "9b43a237",
      "metadata": {
        "colab": {
          "base_uri": "https://localhost:8080/"
        },
        "id": "9b43a237",
        "outputId": "495a2b47-73fb-419d-fe6c-bbd76b02bb42"
      },
      "outputs": [
        {
          "data": {
            "text/plain": [
              "['eggs', 'soy milk', 'bread', 'coffe']"
            ]
          },
          "execution_count": 165,
          "metadata": {},
          "output_type": "execute_result"
        }
      ],
      "source": [
        "# Add a value at the end of a list with append\n",
        "groceries .append ('coffe')\n",
        "groceries\n"
      ]
    },
    {
      "cell_type": "code",
      "execution_count": null,
      "id": "90ba3f90",
      "metadata": {
        "colab": {
          "base_uri": "https://localhost:8080/"
        },
        "id": "90ba3f90",
        "outputId": "7f34658f-8fc7-409a-8264-5d71d48d4330"
      },
      "outputs": [
        {
          "name": "stdout",
          "output_type": "stream",
          "text": [
            "['bread', 'coffe', 'eggs', 'soy milk']\n"
          ]
        }
      ],
      "source": [
        "# sort a list\n",
        "groceries.sort()\n",
        "print (groceries)"
      ]
    },
    {
      "cell_type": "code",
      "execution_count": null,
      "id": "fb475e99",
      "metadata": {
        "colab": {
          "base_uri": "https://localhost:8080/"
        },
        "id": "fb475e99",
        "outputId": "eda6fcaf-54a9-48e6-97db-6bad646440c7"
      },
      "outputs": [
        {
          "data": {
            "text/plain": [
              "[22, 18, 15, 25, 26, 19, 35, 42]"
            ]
          },
          "execution_count": 156,
          "metadata": {},
          "output_type": "execute_result"
        }
      ],
      "source": [
        "ages = [22, 18, 15, 25, 26, 19, 35, 42]\n",
        "ages"
      ]
    },
    {
      "cell_type": "code",
      "execution_count": null,
      "id": "a35aaf5a",
      "metadata": {
        "colab": {
          "base_uri": "https://localhost:8080/"
        },
        "id": "a35aaf5a",
        "outputId": "35ee933e-a2f5-4bbe-9594-8f91eb4a141e"
      },
      "outputs": [
        {
          "data": {
            "text/plain": [
              "[15, 18, 19, 22, 25, 26, 35, 42]"
            ]
          },
          "execution_count": 169,
          "metadata": {},
          "output_type": "execute_result"
        }
      ],
      "source": [
        "ages.sort()\n",
        "ages"
      ]
    },
    {
      "cell_type": "code",
      "execution_count": null,
      "id": "402772f3",
      "metadata": {
        "colab": {
          "base_uri": "https://localhost:8080/"
        },
        "id": "402772f3",
        "outputId": "c511053f-bb97-438a-c895-24c96e55a7b0"
      },
      "outputs": [
        {
          "data": {
            "text/plain": [
              "[42, 35, 26, 25, 22, 19, 18, 15]"
            ]
          },
          "execution_count": 170,
          "metadata": {},
          "output_type": "execute_result"
        }
      ],
      "source": [
        "# Invert a list\n",
        "ages [::-1]"
      ]
    },
    {
      "cell_type": "code",
      "execution_count": null,
      "id": "bba06ef4",
      "metadata": {
        "id": "bba06ef4"
      },
      "outputs": [],
      "source": []
    },
    {
      "cell_type": "code",
      "execution_count": null,
      "id": "0579280f",
      "metadata": {
        "colab": {
          "base_uri": "https://localhost:8080/"
        },
        "id": "0579280f",
        "outputId": "d2ba1647-7a18-4d62-fb9d-a2d46c014663"
      },
      "outputs": [
        {
          "data": {
            "text/plain": [
              "[15, 18, 22, 25, 26, 35, 42]"
            ]
          },
          "execution_count": 171,
          "metadata": {},
          "output_type": "execute_result"
        }
      ],
      "source": [
        "# Delete an element from a specified index\n",
        "ages.pop (2)\n",
        "ages"
      ]
    },
    {
      "cell_type": "code",
      "execution_count": null,
      "id": "edff7aa5",
      "metadata": {
        "colab": {
          "base_uri": "https://localhost:8080/"
        },
        "id": "edff7aa5",
        "outputId": "53cf6494-a694-4153-b391-470041b7940d"
      },
      "outputs": [
        {
          "data": {
            "text/plain": [
              "[15, 18, 22, 26, 35, 42]"
            ]
          },
          "execution_count": 172,
          "metadata": {},
          "output_type": "execute_result"
        }
      ],
      "source": [
        "# You can also specify a value to remove with .remove()\n",
        "ages.remove (25)\n",
        "ages"
      ]
    },
    {
      "cell_type": "code",
      "execution_count": null,
      "id": "1ef9eb85",
      "metadata": {
        "colab": {
          "base_uri": "https://localhost:8080/"
        },
        "id": "1ef9eb85",
        "outputId": "0db5caf5-ffc6-4c2a-c2f5-8d3f24ac1b0f"
      },
      "outputs": [
        {
          "data": {
            "text/plain": [
              "[15, 18, 30, 22, 26, 35, 42]"
            ]
          },
          "execution_count": 173,
          "metadata": {},
          "output_type": "execute_result"
        }
      ],
      "source": [
        "# Insert a value at a specified index\n",
        "ages.insert (2,30)\n",
        "ages"
      ]
    },
    {
      "cell_type": "markdown",
      "id": "fbfce63d",
      "metadata": {
        "id": "fbfce63d"
      },
      "source": [
        "### Tuples\n",
        "Tuples are static ordered collections of objects.\n",
        "Tuples are identical to lists except in the following:\n",
        "- Tuples are defined by `()`\n",
        "- Tuples are inmutable, they cannot change"
      ]
    },
    {
      "cell_type": "code",
      "execution_count": null,
      "id": "5d74f8dc",
      "metadata": {
        "colab": {
          "base_uri": "https://localhost:8080/"
        },
        "id": "5d74f8dc",
        "outputId": "ce116953-5d31-468b-fe53-877a60f253b1"
      },
      "outputs": [
        {
          "data": {
            "text/plain": [
              "('here', 'is', 'a', 'tuple')"
            ]
          },
          "execution_count": 176,
          "metadata": {},
          "output_type": "execute_result"
        }
      ],
      "source": [
        "t=('here','is','a','tuple')\n",
        "t"
      ]
    },
    {
      "cell_type": "code",
      "execution_count": null,
      "id": "6a640ad9",
      "metadata": {
        "colab": {
          "base_uri": "https://localhost:8080/",
          "height": 35
        },
        "id": "6a640ad9",
        "outputId": "efa2a454-1d20-4bf3-936f-eb41c89ae73e"
      },
      "outputs": [
        {
          "data": {
            "application/vnd.google.colaboratory.intrinsic+json": {
              "type": "string"
            },
            "text/plain": [
              "'here'"
            ]
          },
          "execution_count": 177,
          "metadata": {},
          "output_type": "execute_result"
        }
      ],
      "source": [
        "t[0]"
      ]
    },
    {
      "cell_type": "code",
      "execution_count": null,
      "id": "1776cf43",
      "metadata": {
        "colab": {
          "base_uri": "https://localhost:8080/"
        },
        "id": "1776cf43",
        "outputId": "4ee1e37b-9845-4fba-e924-954dad29b4bb"
      },
      "outputs": [
        {
          "data": {
            "text/plain": [
              "('here', 'is', 'a', 'tuple')"
            ]
          },
          "execution_count": 178,
          "metadata": {},
          "output_type": "execute_result"
        }
      ],
      "source": [
        "t[0:]"
      ]
    },
    {
      "cell_type": "code",
      "execution_count": null,
      "id": "604bf39d",
      "metadata": {
        "colab": {
          "base_uri": "https://localhost:8080/",
          "height": 35
        },
        "id": "604bf39d",
        "outputId": "9a03365a-cce1-4b5f-cd9f-2f350b0bb3c9"
      },
      "outputs": [
        {
          "data": {
            "application/vnd.google.colaboratory.intrinsic+json": {
              "type": "string"
            },
            "text/plain": [
              "'tuple'"
            ]
          },
          "execution_count": 179,
          "metadata": {},
          "output_type": "execute_result"
        }
      ],
      "source": [
        "t[-1]"
      ]
    },
    {
      "cell_type": "code",
      "execution_count": null,
      "id": "4d9d6c44",
      "metadata": {
        "colab": {
          "base_uri": "https://localhost:8080/"
        },
        "id": "4d9d6c44",
        "outputId": "590357e0-fe7d-4e3a-8b9e-ca19687120b2"
      },
      "outputs": [
        {
          "data": {
            "text/plain": [
              "('is', 'a')"
            ]
          },
          "execution_count": 180,
          "metadata": {},
          "output_type": "execute_result"
        }
      ],
      "source": [
        "t[1:3]"
      ]
    },
    {
      "cell_type": "code",
      "execution_count": null,
      "id": "ab2dd269",
      "metadata": {
        "id": "ab2dd269"
      },
      "outputs": [],
      "source": [
        "# you cannot modify a tuple\n"
      ]
    },
    {
      "cell_type": "markdown",
      "id": "46859bd8",
      "metadata": {
        "id": "46859bd8"
      },
      "source": [
        "Why use a tuple?\n",
        "Program execution is faster when manipulating a tuple than it is for the equivalent list. (This is probably not going to be noticeable when the list or tuple is small.)\n",
        "\n",
        "Sometimes you don’t want data to be modified. If the values in the collection are meant to remain constant for the life of the program, using a tuple instead of a list guards against accidental modification."
      ]
    },
    {
      "cell_type": "markdown",
      "id": "6f65270a",
      "metadata": {
        "id": "6f65270a"
      },
      "source": [
        "### Finally, dictionaries\n",
        "Dictionaries and lists share the following characteristics:\n",
        "\n",
        "- Both are mutable.\n",
        "- Both are dynamic. They can grow and shrink as needed.\n",
        "- Both can be nested. A list can contain another list. A dictionary can contain another dictionary. A dictionary can also contain a list, and vice versa.\n",
        "\n",
        "Dictionaries differ from lists primarily in how elements are accessed:\n",
        "\n",
        "- List elements are accessed by their position in the list, via indexing.\n",
        "- Dictionary elements are accessed via keys.\n",
        "\n",
        "`{key:value}`"
      ]
    },
    {
      "cell_type": "code",
      "execution_count": null,
      "id": "a629af63",
      "metadata": {
        "colab": {
          "base_uri": "https://localhost:8080/"
        },
        "id": "a629af63",
        "outputId": "63ccde5f-3f9f-41e8-b786-ca8ef58750aa"
      },
      "outputs": [
        {
          "data": {
            "text/plain": [
              "{'USA': 'Baseball', 'Canada': 'Hockey', 'Mexico': 'Soccer'}"
            ]
          },
          "execution_count": 185,
          "metadata": {},
          "output_type": "execute_result"
        }
      ],
      "source": [
        "d = {'USA':'Baseball','Canada': 'Hockey','Mexico':'Soccer'}\n",
        "d"
      ]
    },
    {
      "cell_type": "code",
      "execution_count": null,
      "id": "0fb41624",
      "metadata": {
        "colab": {
          "base_uri": "https://localhost:8080/",
          "height": 35
        },
        "id": "0fb41624",
        "outputId": "f5d348cf-e1af-4019-cef1-f6177da15c96"
      },
      "outputs": [
        {
          "data": {
            "application/vnd.google.colaboratory.intrinsic+json": {
              "type": "string"
            },
            "text/plain": [
              "'Baseball'"
            ]
          },
          "execution_count": 186,
          "metadata": {},
          "output_type": "execute_result"
        }
      ],
      "source": [
        "# To access a value, call the dictionary key\n",
        "d ['USA']\n"
      ]
    },
    {
      "cell_type": "code",
      "execution_count": null,
      "id": "50c3d9ac",
      "metadata": {
        "colab": {
          "base_uri": "https://localhost:8080/"
        },
        "id": "50c3d9ac",
        "outputId": "649e3f9f-9ae1-4ae8-94d7-23fb378f77ee"
      },
      "outputs": [
        {
          "data": {
            "text/plain": [
              "{'USA': 'Football', 'Canada': 'Hockey', 'Mexico': 'Soccer'}"
            ]
          },
          "execution_count": 187,
          "metadata": {},
          "output_type": "execute_result"
        }
      ],
      "source": [
        "# Dictionaries can be changed\n",
        "d['USA']= 'Football'\n",
        "d"
      ]
    },
    {
      "cell_type": "code",
      "execution_count": null,
      "id": "f879a757",
      "metadata": {
        "colab": {
          "base_uri": "https://localhost:8080/"
        },
        "id": "f879a757",
        "outputId": "7bb8245e-9ee9-4def-cba8-20421956b389"
      },
      "outputs": [
        {
          "data": {
            "text/plain": [
              "{'USA': 'Football',\n",
              " 'Canada': 'Hockey',\n",
              " 'Mexico': 'Soccer',\n",
              " 'Chile': 'Bird watching'}"
            ]
          },
          "execution_count": 189,
          "metadata": {},
          "output_type": "execute_result"
        }
      ],
      "source": [
        "# To add a new key value just assign a new one\n",
        "d ['Chile']='Bird watching'\n",
        "d"
      ]
    },
    {
      "cell_type": "code",
      "execution_count": null,
      "id": "2f1c3d60",
      "metadata": {
        "colab": {
          "base_uri": "https://localhost:8080/"
        },
        "id": "2f1c3d60",
        "outputId": "38fc5d79-8521-4224-eb3a-5636646086b1"
      },
      "outputs": [
        {
          "data": {
            "text/plain": [
              "{'USA': 'Football', 'Canada': 'Hockey', 'Mexico': 'Soccer', 'Chile': 'Surfing'}"
            ]
          },
          "execution_count": 191,
          "metadata": {},
          "output_type": "execute_result"
        }
      ],
      "source": [
        "# Updating an entry works similarly\n",
        "d['Chile']= 'Surfing'\n",
        "d"
      ]
    },
    {
      "cell_type": "code",
      "execution_count": null,
      "id": "7a889e3f",
      "metadata": {
        "colab": {
          "base_uri": "https://localhost:8080/"
        },
        "id": "7a889e3f",
        "outputId": "b7fe4072-b435-457c-bae5-9cc8cda46cd9"
      },
      "outputs": [
        {
          "data": {
            "text/plain": [
              "{'USA': 'Football', 'Canada': 'Hockey', 'Chile': 'Surfing'}"
            ]
          },
          "execution_count": 194,
          "metadata": {},
          "output_type": "execute_result"
        }
      ],
      "source": [
        "# To delete an element use the del statement and the key\n",
        "del d['Mexico']\n",
        "d"
      ]
    },
    {
      "cell_type": "code",
      "execution_count": null,
      "id": "0334f47c",
      "metadata": {
        "colab": {
          "base_uri": "https://localhost:8080/"
        },
        "id": "0334f47c",
        "outputId": "7a646cc5-9737-421f-9575-ebe19287e500"
      },
      "outputs": [
        {
          "data": {
            "text/plain": [
              "{3: 'd', 2: 'c', 1: 'b', 0: 'a'}"
            ]
          },
          "execution_count": 195,
          "metadata": {},
          "output_type": "execute_result"
        }
      ],
      "source": [
        "# Integers can also be used as keys\n",
        "d2={3:'d',2: 'c',1:'b',0:'a'}\n",
        "d2"
      ]
    },
    {
      "cell_type": "code",
      "execution_count": null,
      "id": "99be702d",
      "metadata": {
        "colab": {
          "base_uri": "https://localhost:8080/",
          "height": 35
        },
        "id": "99be702d",
        "outputId": "286c7320-3518-4e23-c0b4-0ebcc4d55427"
      },
      "outputs": [
        {
          "data": {
            "application/vnd.google.colaboratory.intrinsic+json": {
              "type": "string"
            },
            "text/plain": [
              "'a'"
            ]
          },
          "execution_count": 196,
          "metadata": {},
          "output_type": "execute_result"
        }
      ],
      "source": [
        "d2[0]"
      ]
    },
    {
      "cell_type": "code",
      "execution_count": null,
      "id": "15e701ad",
      "metadata": {
        "colab": {
          "base_uri": "https://localhost:8080/"
        },
        "id": "15e701ad",
        "outputId": "d416221e-a1f4-4efc-dcfa-57e078a03bed"
      },
      "outputs": [
        {
          "data": {
            "text/plain": [
              "{'names': ['Jon', 'Bob', 'Randy'],\n",
              " 'ages': [25, 26, 27],\n",
              " 'pets': {'dog': 'Max', 'cat': 'Butter', 'turtle': 'Speedy'}}"
            ]
          },
          "execution_count": 197,
          "metadata": {},
          "output_type": "execute_result"
        }
      ],
      "source": [
        "d3 = {}\n",
        "\n",
        "d3['names'] = ['Jon', 'Bob', 'Randy']\n",
        "d3['ages'] = [ 25, 26, 27]\n",
        "d3['pets'] = {'dog' : 'Max', 'cat' : 'Butter', 'turtle' : 'Speedy'}\n",
        "\n",
        "d3"
      ]
    },
    {
      "cell_type": "code",
      "execution_count": null,
      "id": "c944027e",
      "metadata": {
        "colab": {
          "base_uri": "https://localhost:8080/",
          "height": 35
        },
        "id": "c944027e",
        "outputId": "379a5789-191d-429a-dfba-b607fe2ada01"
      },
      "outputs": [
        {
          "data": {
            "application/vnd.google.colaboratory.intrinsic+json": {
              "type": "string"
            },
            "text/plain": [
              "'Butter'"
            ]
          },
          "execution_count": 199,
          "metadata": {},
          "output_type": "execute_result"
        }
      ],
      "source": [
        "# Access a nested dictionary value\n",
        "d3['pets']['cat']\n"
      ]
    },
    {
      "cell_type": "code",
      "execution_count": null,
      "id": "6b9ddfa5",
      "metadata": {
        "id": "6b9ddfa5"
      },
      "outputs": [],
      "source": [
        "# Access a nested list value\n",
        "d3 ['ages']['3']\n",
        "d3"
      ]
    },
    {
      "cell_type": "markdown",
      "id": "c7ee73a0",
      "metadata": {
        "id": "c7ee73a0"
      },
      "source": [
        "Some dictionary methods\n",
        "- keys()\n",
        "- values()\n",
        "- clear()\n",
        "- pop()"
      ]
    },
    {
      "cell_type": "code",
      "execution_count": null,
      "id": "0ead69bf",
      "metadata": {
        "colab": {
          "base_uri": "https://localhost:8080/"
        },
        "id": "0ead69bf",
        "outputId": "db1a8911-859a-43f0-98e0-58e0ca18f76b"
      },
      "outputs": [
        {
          "data": {
            "text/plain": [
              "dict_keys(['names', 'ages', 'pets'])"
            ]
          },
          "execution_count": 203,
          "metadata": {},
          "output_type": "execute_result"
        }
      ],
      "source": [
        "# Return keys in dictionary\n",
        "d3.keys()"
      ]
    },
    {
      "cell_type": "code",
      "execution_count": null,
      "id": "296fc747",
      "metadata": {
        "colab": {
          "base_uri": "https://localhost:8080/"
        },
        "id": "296fc747",
        "outputId": "fddaf723-b0c8-4dbc-dba0-d0814c6e6d88"
      },
      "outputs": [
        {
          "data": {
            "text/plain": [
              "{'dog': 'Max', 'cat': 'Butter', 'turtle': 'Speedy'}"
            ]
          },
          "execution_count": 205,
          "metadata": {},
          "output_type": "execute_result"
        }
      ],
      "source": [
        "# Return values in dictionary\n",
        "d3.pop('pets')"
      ]
    },
    {
      "cell_type": "code",
      "execution_count": null,
      "id": "228dc067",
      "metadata": {
        "id": "228dc067"
      },
      "outputs": [],
      "source": []
    },
    {
      "cell_type": "code",
      "execution_count": null,
      "id": "119265b0",
      "metadata": {
        "id": "119265b0"
      },
      "outputs": [],
      "source": []
    },
    {
      "cell_type": "code",
      "execution_count": null,
      "id": "aec6f54e",
      "metadata": {
        "id": "aec6f54e"
      },
      "outputs": [],
      "source": [
        "# Clear a dictionary\n"
      ]
    },
    {
      "cell_type": "markdown",
      "id": "80ae6538",
      "metadata": {
        "id": "80ae6538"
      },
      "source": [
        "## Converting Data types\n",
        "- To convert to String `str()`\n",
        "- To convert to Integer `int()`\n",
        "- To convert to Float `float()`\n",
        "- To convert to Bool `bool()`"
      ]
    },
    {
      "cell_type": "code",
      "execution_count": null,
      "id": "9bb3accb",
      "metadata": {
        "colab": {
          "base_uri": "https://localhost:8080/",
          "height": 35
        },
        "id": "9bb3accb",
        "outputId": "bb5c2ba3-f02d-445a-f5c8-bbd5de957326"
      },
      "outputs": [
        {
          "data": {
            "application/vnd.google.colaboratory.intrinsic+json": {
              "type": "string"
            },
            "text/plain": [
              "'23'"
            ]
          },
          "execution_count": 209,
          "metadata": {},
          "output_type": "execute_result"
        }
      ],
      "source": [
        "age = 23\n",
        "str (age)"
      ]
    },
    {
      "cell_type": "code",
      "execution_count": null,
      "id": "3d5febf9",
      "metadata": {
        "colab": {
          "base_uri": "https://localhost:8080/"
        },
        "id": "3d5febf9",
        "outputId": "dd2f8536-68cf-43b5-a4a3-8ecf5e1070a6"
      },
      "outputs": [
        {
          "name": "stdout",
          "output_type": "stream",
          "text": [
            "23 year old\n"
          ]
        }
      ],
      "source": [
        " print (str(age)+ \" year old\")"
      ]
    },
    {
      "cell_type": "markdown",
      "id": "74e8584c",
      "metadata": {
        "id": "74e8584c"
      },
      "source": [
        "## Exercises for participation credit\n",
        "Please complete the following exercises and upload your completed notebook to your Github repository for participation credit.\n",
        "\n",
        "We can use `input()` to catch input from the user. This is a string type variable."
      ]
    },
    {
      "cell_type": "code",
      "execution_count": null,
      "id": "311dbb98",
      "metadata": {
        "id": "311dbb98"
      },
      "outputs": [],
      "source": [
        "x = input('Hello ')\n",
        "print(x)"
      ]
    },
    {
      "cell_type": "markdown",
      "id": "d21d74a0",
      "metadata": {
        "id": "d21d74a0"
      },
      "source": [
        "1. Write a code that gets two integers from the user. Save the first input as `a` and the second value as `b`. Run and print the following operations:\n",
        " - a + b\n",
        " - a - b\n",
        " - a * b\n",
        " - a ** b\n",
        " - a / b"
      ]
    },
    {
      "cell_type": "code",
      "execution_count": 13,
      "id": "1fXccH4NzVI1",
      "metadata": {
        "id": "1fXccH4NzVI1",
        "colab": {
          "base_uri": "https://localhost:8080/"
        },
        "outputId": "79a38688-6c13-494f-c27e-ed9443bd9ecf"
      },
      "outputs": [
        {
          "output_type": "execute_result",
          "data": {
            "text/plain": [
              "5"
            ]
          },
          "metadata": {},
          "execution_count": 13
        }
      ],
      "source": [
        "int(5)\n",
        "\n",
        "\n",
        "\n",
        "\n",
        "\n"
      ]
    },
    {
      "cell_type": "code",
      "source": [
        "a=5\n",
        "b=6\n",
        "print (a +b)\n"
      ],
      "metadata": {
        "colab": {
          "base_uri": "https://localhost:8080/"
        },
        "id": "HnUkZe-VZ9YU",
        "outputId": "4435a734-26ea-4e52-ca3f-c44286447c22"
      },
      "id": "HnUkZe-VZ9YU",
      "execution_count": 15,
      "outputs": [
        {
          "output_type": "stream",
          "name": "stdout",
          "text": [
            "11\n"
          ]
        }
      ]
    },
    {
      "cell_type": "code",
      "source": [
        "print (a-b)"
      ],
      "metadata": {
        "colab": {
          "base_uri": "https://localhost:8080/"
        },
        "id": "enYHq2dwad4w",
        "outputId": "c668dffe-90a1-4f75-de5b-e4285752120b"
      },
      "id": "enYHq2dwad4w",
      "execution_count": 16,
      "outputs": [
        {
          "output_type": "stream",
          "name": "stdout",
          "text": [
            "-1\n"
          ]
        }
      ]
    },
    {
      "cell_type": "code",
      "source": [
        "print (a*b)"
      ],
      "metadata": {
        "colab": {
          "base_uri": "https://localhost:8080/"
        },
        "id": "2AwhayBNamKY",
        "outputId": "d7f1899a-7fb8-40a6-ac02-1a62df517ca6"
      },
      "id": "2AwhayBNamKY",
      "execution_count": 18,
      "outputs": [
        {
          "output_type": "stream",
          "name": "stdout",
          "text": [
            "30\n"
          ]
        }
      ]
    },
    {
      "cell_type": "code",
      "source": [
        "print (a**b)"
      ],
      "metadata": {
        "colab": {
          "base_uri": "https://localhost:8080/"
        },
        "id": "EI1YUhamascI",
        "outputId": "279a40f2-dbce-4268-cfef-a636f3994aca"
      },
      "id": "EI1YUhamascI",
      "execution_count": 19,
      "outputs": [
        {
          "output_type": "stream",
          "name": "stdout",
          "text": [
            "15625\n"
          ]
        }
      ]
    },
    {
      "cell_type": "code",
      "source": [
        "print (a/b)"
      ],
      "metadata": {
        "colab": {
          "base_uri": "https://localhost:8080/"
        },
        "id": "AceyopQlay79",
        "outputId": "624d09f9-6201-49f3-9803-694dee7029c8"
      },
      "id": "AceyopQlay79",
      "execution_count": 20,
      "outputs": [
        {
          "output_type": "stream",
          "name": "stdout",
          "text": [
            "0.8333333333333334\n"
          ]
        }
      ]
    },
    {
      "cell_type": "markdown",
      "id": "c9cf9f05",
      "metadata": {
        "id": "c9cf9f05"
      },
      "source": [
        "2. Reverse this list aList = [100, 200, 300, 400, 500]. Expected result = [500, 400, 300, 200, 100]\n",
        "\n"
      ]
    },
    {
      "cell_type": "code",
      "execution_count": null,
      "id": "0Rkb7_daWinZ",
      "metadata": {
        "colab": {
          "base_uri": "https://localhost:8080/"
        },
        "id": "0Rkb7_daWinZ",
        "outputId": "942ddd50-3d98-419a-f47e-dc360f367952"
      },
      "outputs": [
        {
          "name": "stdout",
          "output_type": "stream",
          "text": [
            "[500, 400, 300, 200, 100]\n"
          ]
        }
      ],
      "source": [
        "numbers = [100,200,300,400,500]\n",
        "numbers = numbers [::-1]\n",
        "print (numbers)\n"
      ]
    },
    {
      "cell_type": "markdown",
      "id": "7793dda3",
      "metadata": {
        "id": "7793dda3"
      },
      "source": [
        "3. Create the following list ` ['My', 'name', 'is', 'Kelly']`\n",
        "\n",
        "Using only these two lists:\n",
        "- `list1 = [\"M\", \"na\", \"i\", \"Ke\"]`\n",
        "- `list2 = [\"y\", \"me\", \"s\", \"lly\"]`"
      ]
    },
    {
      "cell_type": "code",
      "execution_count": null,
      "id": "B7NSeGeuXy6T",
      "metadata": {
        "colab": {
          "base_uri": "https://localhost:8080/"
        },
        "id": "B7NSeGeuXy6T",
        "outputId": "a900f7e6-70a4-47b3-8d0d-3d9e3464aeec"
      },
      "outputs": [
        {
          "name": "stdout",
          "output_type": "stream",
          "text": [
            "['My', 'name', 'is', 'Kelly']\n"
          ]
        }
      ],
      "source": [
        "list1 = [\"M\", \"na\", \"i\", \"Ke\"]\n",
        "list2 = [\"y\", \"me\",\"s\",\"lly\"]\n",
        "List3 = [i + j for i, j in zip (list1, list2)]\n",
        "print (List3)"
      ]
    },
    {
      "cell_type": "markdown",
      "id": "e9f296ee",
      "metadata": {
        "id": "e9f296ee"
      },
      "source": [
        "4. Split the following list in 3 equal sized lists. Invert the the new lists\n",
        "- Original list [11, 45, 8, 23, 14, 12, 78, 45, 89]\n",
        "\n",
        "\n",
        "- Chunk 1 [11, 45, 8]\n",
        "\n",
        "After reversing it [8, 45, 11]\n",
        "\n",
        "- Chunk 2 [23, 14, 12]\n",
        "\n",
        "After reversing it [12, 14, 23]\n",
        "\n",
        "- Chunk 3 [78, 45, 89]\n",
        "\n",
        "After reversing it [89, 45, 78]"
      ]
    },
    {
      "cell_type": "code",
      "execution_count": 50,
      "id": "b02e2848",
      "metadata": {
        "colab": {
          "base_uri": "https://localhost:8080/"
        },
        "id": "b02e2848",
        "outputId": "ac1031f8-e325-4273-87c4-c0cd34693525"
      },
      "outputs": [
        {
          "output_type": "execute_result",
          "data": {
            "text/plain": [
              "['11', '45', '8']"
            ]
          },
          "metadata": {},
          "execution_count": 50
        }
      ],
      "source": [
        "original =['11','45','8','23','14','12','78','45','89']\n",
        "original [0:3]\n"
      ]
    },
    {
      "cell_type": "code",
      "source": [
        "original [3:6]"
      ],
      "metadata": {
        "colab": {
          "base_uri": "https://localhost:8080/"
        },
        "id": "pMCwyc3fa9Xl",
        "outputId": "28a4585c-b289-464a-a99f-0e13ee0737e4"
      },
      "id": "pMCwyc3fa9Xl",
      "execution_count": 44,
      "outputs": [
        {
          "output_type": "execute_result",
          "data": {
            "text/plain": [
              "['23', '14', '12']"
            ]
          },
          "metadata": {},
          "execution_count": 44
        }
      ]
    },
    {
      "cell_type": "code",
      "source": [
        "original [6:9]"
      ],
      "metadata": {
        "colab": {
          "base_uri": "https://localhost:8080/"
        },
        "id": "BYBVXoAEeQVM",
        "outputId": "4317864f-fabd-4393-b241-68b8e44de4cf"
      },
      "id": "BYBVXoAEeQVM",
      "execution_count": 45,
      "outputs": [
        {
          "output_type": "execute_result",
          "data": {
            "text/plain": [
              "['78', '45', '89']"
            ]
          },
          "metadata": {},
          "execution_count": 45
        }
      ]
    }
  ],
  "metadata": {
    "colab": {
      "provenance": [],
      "include_colab_link": true
    },
    "kernelspec": {
      "display_name": "Python 3 (ipykernel)",
      "language": "python",
      "name": "python3"
    },
    "language_info": {
      "codemirror_mode": {
        "name": "ipython",
        "version": 3
      },
      "file_extension": ".py",
      "mimetype": "text/x-python",
      "name": "python",
      "nbconvert_exporter": "python",
      "pygments_lexer": "ipython3",
      "version": "3.10.4"
    }
  },
  "nbformat": 4,
  "nbformat_minor": 5
}