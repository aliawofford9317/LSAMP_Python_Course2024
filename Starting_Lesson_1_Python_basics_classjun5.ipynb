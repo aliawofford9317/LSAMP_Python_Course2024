{
  "cells": [
    {
      "cell_type": "markdown",
      "metadata": {
        "id": "view-in-github",
        "colab_type": "text"
      },
      "source": [
        "<a href=\"https://colab.research.google.com/github/aliawofford9317/LSAMP_Python_Course2024/blob/Abdellatif_2024/Starting_Lesson_1_Python_basics_classjun5.ipynb\" target=\"_parent\"><img src=\"https://colab.research.google.com/assets/colab-badge.svg\" alt=\"Open In Colab\"/></a>"
      ]
    },
    {
      "cell_type": "markdown",
      "id": "65297d5d",
      "metadata": {
        "id": "65297d5d"
      },
      "source": [
        "## Lesson 1 - Python basics\n",
        "In this lesson we will cover:\n",
        "- What is a variable and how to declare it\n",
        "- Python basic operators\n",
        "- Data types in Python\n",
        "- Lists\n",
        "- Dictionaries\n",
        "- Tuples\n",
        "- Optional exercises\n",
        "\n",
        "All along the lessons you will see comments on the code starting with `#`, these are comment lines and are used to describe what the code is doing"
      ]
    },
    {
      "cell_type": "code",
      "source": [],
      "metadata": {
        "id": "54F1Y2GaQFuI"
      },
      "id": "54F1Y2GaQFuI",
      "execution_count": null,
      "outputs": []
    },
    {
      "cell_type": "markdown",
      "id": "d927a42b",
      "metadata": {
        "id": "d927a42b"
      },
      "source": [
        "## What is a variable?\n",
        "\n",
        "Imagine variables as containers to store data values.\n",
        "We can asign values to these containers using the `=` sign."
      ]
    },
    {
      "cell_type": "code",
      "execution_count": null,
      "id": "d273a7b9",
      "metadata": {
        "id": "d273a7b9"
      },
      "outputs": [],
      "source": [
        "# Here we assign a to 4, and A to \"Python\"\n",
        "a = 4\n",
        "A = \"Python\""
      ]
    },
    {
      "cell_type": "code",
      "source": [],
      "metadata": {
        "id": "6flkWZDpSpN8"
      },
      "id": "6flkWZDpSpN8",
      "execution_count": null,
      "outputs": []
    },
    {
      "cell_type": "code",
      "execution_count": null,
      "id": "c6a73ac0",
      "metadata": {
        "id": "c6a73ac0",
        "colab": {
          "base_uri": "https://localhost:8080/"
        },
        "outputId": "c8baec00-cd22-4107-ee01-b20b57295b3c"
      },
      "outputs": [
        {
          "output_type": "stream",
          "name": "stdout",
          "text": [
            "4\n",
            "Python\n"
          ]
        }
      ],
      "source": [
        "# Print the variables\n",
        "print(a)\n",
        "print(A)"
      ]
    },
    {
      "cell_type": "markdown",
      "id": "a800cba9",
      "metadata": {
        "id": "a800cba9"
      },
      "source": [
        "From the example above we can see that variables are case sensitive, so a variable named `Variable` will be different from another one called `variable`.\n",
        "Variable names can consist of uppercase and lowercase letters, digits and underscore. The first character of a variable name cannot be a digit"
      ]
    },
    {
      "cell_type": "code",
      "execution_count": null,
      "id": "36e9c3df",
      "metadata": {
        "id": "36e9c3df",
        "colab": {
          "base_uri": "https://localhost:8080/"
        },
        "outputId": "6832bf09-5ef3-4a9b-c424-f2aa82402e6c"
      },
      "outputs": [
        {
          "output_type": "stream",
          "name": "stdout",
          "text": [
            "49\n",
            "55\n"
          ]
        }
      ],
      "source": [
        "Variable = 55\n",
        "variable = 49\n",
        "print(variable)\n",
        "print(Variable)\n"
      ]
    },
    {
      "cell_type": "code",
      "execution_count": null,
      "id": "3ade135f",
      "metadata": {
        "id": "3ade135f",
        "colab": {
          "base_uri": "https://localhost:8080/",
          "height": 105
        },
        "outputId": "b8b07067-ed47-46bd-ea43-5089d478ab9f"
      },
      "outputs": [
        {
          "output_type": "error",
          "ename": "SyntaxError",
          "evalue": "invalid decimal literal (<ipython-input-4-e447f5205760>, line 2)",
          "traceback": [
            "\u001b[0;36m  File \u001b[0;32m\"<ipython-input-4-e447f5205760>\"\u001b[0;36m, line \u001b[0;32m2\u001b[0m\n\u001b[0;31m    1_variable = \"Hi\"\u001b[0m\n\u001b[0m     ^\u001b[0m\n\u001b[0;31mSyntaxError\u001b[0m\u001b[0;31m:\u001b[0m invalid decimal literal\n"
          ]
        }
      ],
      "source": [
        "a_variable = \"Hello\"\n",
        "1_variable = \"Hi\""
      ]
    },
    {
      "cell_type": "markdown",
      "id": "c31ad403",
      "metadata": {
        "id": "c31ad403"
      },
      "source": [
        "### Reserved words in Python\n",
        "For variable names:\n",
        "- We can use number, letters and underscores\n",
        "- Variables can include numbers, but not as the first character\n",
        "- There are some reserverd words in Python that cannot be used as variable names:\n",
        "\n",
        "`False\tdef\tif\traise\n",
        "None\tdel\timport\treturn\n",
        "True\telif\tin\ttry\n",
        "and\telse\tis\twhile\n",
        "as\texcept\tlambda\twith\n",
        "assert\tfinally\tnonlocal\tyield\n",
        "break\tfor\tnot\n",
        "class\tfrom\tor\n",
        "continue\tglobal\tpass`\n",
        "\n",
        "You can see this list any time by typing `help(\"keywords\")"
      ]
    },
    {
      "cell_type": "code",
      "execution_count": null,
      "id": "9e951328",
      "metadata": {
        "colab": {
          "base_uri": "https://localhost:8080/"
        },
        "id": "9e951328",
        "outputId": "95cf81b0-ad1f-4393-ac8e-06eefbc01005"
      },
      "outputs": [
        {
          "output_type": "stream",
          "name": "stdout",
          "text": [
            "\n",
            "Here is a list of the Python keywords.  Enter any keyword to get more help.\n",
            "\n",
            "False               class               from                or\n",
            "None                continue            global              pass\n",
            "True                def                 if                  raise\n",
            "and                 del                 import              return\n",
            "as                  elif                in                  try\n",
            "assert              else                is                  while\n",
            "async               except              lambda              with\n",
            "await               finally             nonlocal            yield\n",
            "break               for                 not                 \n",
            "\n"
          ]
        }
      ],
      "source": [
        "help(\"keywords\")"
      ]
    },
    {
      "cell_type": "markdown",
      "id": "2ecace5e",
      "metadata": {
        "id": "2ecace5e"
      },
      "source": [
        "## Operators\n",
        "We now know how to create variables. Lets explore the basic operators in Python. Operators are special symbols in Python that carry out arithmetic or logical computations\n",
        "\n",
        "Arithmetic operators are used to perform mathematical operations like addition, substraction, multiplication, etc\n",
        "\n",
        "| Symbol | Operator | Description |\n",
        "|--------|----------|-------------|\n",
        "|   +    | Addition |  Add two operands |\n",
        "| - | Substraction | Substract two operands |\n",
        "| * | Multiplication | Multiply two operands |\n",
        "| / | Division | Divide two operands |\n",
        "| % | Modulus | Remainder of the division of left operand by the right |\n",
        "| // | Floor division |  Division that results into whole number adjusted to the left in the number line |\n",
        "| ** | Exponent | Left operand raised to the power of right |"
      ]
    },
    {
      "cell_type": "markdown",
      "id": "eb521890",
      "metadata": {
        "id": "eb521890"
      },
      "source": [
        "## Types\n",
        "Each variable can be of a particular type, but this type does not needs to be declared when you create the variable, and can even be changed after they have been set"
      ]
    },
    {
      "cell_type": "code",
      "execution_count": null,
      "id": "f1ce33e5",
      "metadata": {
        "id": "f1ce33e5",
        "colab": {
          "base_uri": "https://localhost:8080/"
        },
        "outputId": "e22c55f9-c788-4ea4-d52f-c4fb47c07fdc"
      },
      "outputs": [
        {
          "output_type": "stream",
          "name": "stdout",
          "text": [
            "100\n"
          ]
        }
      ],
      "source": [
        "n = 100 # variable of type integer\n",
        "print(n)"
      ]
    },
    {
      "cell_type": "code",
      "execution_count": null,
      "id": "9ba75bd0",
      "metadata": {
        "id": "9ba75bd0",
        "colab": {
          "base_uri": "https://localhost:8080/"
        },
        "outputId": "86f07851-cb6f-4f44-9031-c7c189d59f01"
      },
      "outputs": [
        {
          "output_type": "stream",
          "name": "stdout",
          "text": [
            " Now im a different variable of a type string\n"
          ]
        }
      ],
      "source": [
        "n = \" Now im a different variable of a type string\"\n",
        "print(n)"
      ]
    },
    {
      "cell_type": "code",
      "execution_count": null,
      "id": "643fc42f",
      "metadata": {
        "id": "643fc42f",
        "colab": {
          "base_uri": "https://localhost:8080/"
        },
        "outputId": "21cc99b9-34fb-4654-8dfa-bb40bb0f53bd"
      },
      "outputs": [
        {
          "output_type": "stream",
          "name": "stdout",
          "text": [
            "300 300 300\n"
          ]
        }
      ],
      "source": [
        "# python allows for a chanied varaible assignments\n",
        "a = b = c = 300\n",
        "print(a,b,c)"
      ]
    },
    {
      "cell_type": "markdown",
      "id": "e4e0ed01",
      "metadata": {
        "id": "e4e0ed01"
      },
      "source": [
        "Python is a highly object-oriented language. Every itme of data in Python is an object of a specific type or class. Consider the following code. Python does the following:\n",
        "- Create a integer object\n",
        "- Gives a value of 300\n",
        "- Displays it to the console"
      ]
    },
    {
      "cell_type": "code",
      "execution_count": null,
      "id": "a62138f0",
      "metadata": {
        "id": "a62138f0",
        "colab": {
          "base_uri": "https://localhost:8080/"
        },
        "outputId": "c0b916aa-940f-49c8-93a1-5c51ddb52472"
      },
      "outputs": [
        {
          "output_type": "stream",
          "name": "stdout",
          "text": [
            "100\n"
          ]
        }
      ],
      "source": [
        "print(100)"
      ]
    },
    {
      "cell_type": "markdown",
      "id": "85e49441",
      "metadata": {
        "id": "85e49441"
      },
      "source": [
        "To see the actual integer object you can use the `type()` function"
      ]
    },
    {
      "cell_type": "code",
      "execution_count": null,
      "id": "5cbda040",
      "metadata": {
        "id": "5cbda040",
        "colab": {
          "base_uri": "https://localhost:8080/"
        },
        "outputId": "fb9e1887-23dc-4195-fc63-bc70eb362d49"
      },
      "outputs": [
        {
          "output_type": "execute_result",
          "data": {
            "text/plain": [
              "int"
            ]
          },
          "metadata": {},
          "execution_count": 11
        }
      ],
      "source": [
        "type(100)"
      ]
    },
    {
      "cell_type": "markdown",
      "id": "64edd62c",
      "metadata": {
        "id": "64edd62c"
      },
      "source": [
        "## Basic Data Types\n",
        "- Numeric (integer numbers, floating point)\n",
        "- String (letters, characters)\n",
        "- Boolean (True or False, 0 or 1)"
      ]
    },
    {
      "cell_type": "markdown",
      "id": "2f8cd151",
      "metadata": {
        "id": "2f8cd151"
      },
      "source": [
        "### Integers\n",
        "An integer value can be as big as you need it to be, this is only constrained by the amount of memory in the system. Python will interpret a sequence of decimal digits without any prefix to be a decimal number:"
      ]
    },
    {
      "cell_type": "code",
      "execution_count": null,
      "id": "46402c16",
      "metadata": {
        "id": "46402c16",
        "colab": {
          "base_uri": "https://localhost:8080/"
        },
        "outputId": "c233f021-009e-4f4e-ad2b-c7bb9c72687b"
      },
      "outputs": [
        {
          "output_type": "stream",
          "name": "stdout",
          "text": [
            "123456789123456789123456789123456789123456789123456789123456789123456789123456789123456789\n"
          ]
        }
      ],
      "source": [
        "print(123456789123456789123456789123456789123456789123456789123456789123456789123456789123456789)"
      ]
    },
    {
      "cell_type": "code",
      "execution_count": null,
      "id": "2698b8d4",
      "metadata": {
        "id": "2698b8d4",
        "colab": {
          "base_uri": "https://localhost:8080/"
        },
        "outputId": "b862d8c1-93ec-40f6-f685-1db56f0a3479"
      },
      "outputs": [
        {
          "output_type": "stream",
          "name": "stdout",
          "text": [
            "10\n"
          ]
        }
      ],
      "source": [
        "print(10)"
      ]
    },
    {
      "cell_type": "code",
      "execution_count": null,
      "id": "fa03d0d3",
      "metadata": {
        "id": "fa03d0d3",
        "colab": {
          "base_uri": "https://localhost:8080/"
        },
        "outputId": "87bc2e5c-e1e7-462d-fefe-2c1392bae831"
      },
      "outputs": [
        {
          "output_type": "stream",
          "name": "stdout",
          "text": [
            "2\n",
            "8\n",
            "16\n"
          ]
        }
      ],
      "source": [
        "#Binary representation\n",
        "#use 0b prefix\n",
        "print(0b10)\n",
        "\n",
        "#Octal representation\n",
        "#use 0O prefix\n",
        "print(0O10)\n",
        "\n",
        "#Hexadecimal representation\n",
        "#use 0X prefix\n",
        "print(0X10)"
      ]
    },
    {
      "cell_type": "code",
      "source": [
        "## Quick Check for knowlege how would you check the data type for the following representations previous binary (0b10),Octal(0O10) and hexadecial (0X10) and what are they?"
      ],
      "metadata": {
        "id": "v3-ma7tY6Htw"
      },
      "execution_count": null,
      "outputs": [],
      "id": "v3-ma7tY6Htw"
    },
    {
      "cell_type": "code",
      "execution_count": null,
      "metadata": {
        "id": "36a83fc0",
        "colab": {
          "base_uri": "https://localhost:8080/"
        },
        "outputId": "35fe34c6-42ae-4098-bc07-90dba567a384"
      },
      "outputs": [
        {
          "output_type": "stream",
          "name": "stdout",
          "text": [
            "2\n"
          ]
        }
      ],
      "source": [
        "#Answer for binary 0b10\n",
        "\n",
        "type(0b10)\n",
        "\n",
        "print(0b10)\n"
      ],
      "id": "36a83fc0"
    },
    {
      "cell_type": "code",
      "execution_count": null,
      "metadata": {
        "id": "7e26ec9e",
        "colab": {
          "base_uri": "https://localhost:8080/"
        },
        "outputId": "945651d3-1121-4fe9-d726-a4cb1eb663f6"
      },
      "outputs": [
        {
          "output_type": "stream",
          "name": "stdout",
          "text": [
            "8\n"
          ]
        }
      ],
      "source": [
        "# Answer for Octal for 0O10\n",
        "type(0O10)\n",
        "\n",
        "print(0O10)"
      ],
      "id": "7e26ec9e"
    },
    {
      "cell_type": "code",
      "execution_count": null,
      "metadata": {
        "id": "3e11bb06",
        "colab": {
          "base_uri": "https://localhost:8080/"
        },
        "outputId": "420173d7-f75c-4e34-d5f6-467e6ae40d89"
      },
      "outputs": [
        {
          "output_type": "stream",
          "name": "stdout",
          "text": [
            "16\n"
          ]
        }
      ],
      "source": [
        "#Answer for hexidecimal 0X10\n",
        "type( 0X10)\n",
        "\n",
        "print( 0X10)\n"
      ],
      "id": "3e11bb06"
    },
    {
      "cell_type": "markdown",
      "id": "9fe061d9",
      "metadata": {
        "id": "9fe061d9"
      },
      "source": [
        "### Floating point numbers\n",
        "The `float` type designates a floating-point number, which specifies a decimal point. This can also represent scientific notation using the character `e` or `E`"
      ]
    },
    {
      "cell_type": "code",
      "execution_count": null,
      "id": "96c151b0",
      "metadata": {
        "id": "96c151b0",
        "outputId": "f9a0936f-f0d3-43e6-b4c6-32224e0a92db"
      },
      "outputs": [
        {
          "data": {
            "text/plain": [
              "3.14"
            ]
          },
          "execution_count": 19,
          "metadata": {},
          "output_type": "execute_result"
        }
      ],
      "source": [
        "3.14"
      ]
    },
    {
      "cell_type": "code",
      "execution_count": null,
      "id": "689dee34",
      "metadata": {
        "id": "689dee34",
        "colab": {
          "base_uri": "https://localhost:8080/"
        },
        "outputId": "6f0f9e7d-ba81-4447-b74d-24be3f7d9835"
      },
      "outputs": [
        {
          "output_type": "execute_result",
          "data": {
            "text/plain": [
              "float"
            ]
          },
          "metadata": {},
          "execution_count": 20
        }
      ],
      "source": [
        "type(3.14)"
      ]
    },
    {
      "cell_type": "code",
      "execution_count": null,
      "id": "8a599c7a",
      "metadata": {
        "id": "8a599c7a",
        "colab": {
          "base_uri": "https://localhost:8080/"
        },
        "outputId": "ed86a8be-1975-49ed-f662-32e825aefe49"
      },
      "outputs": [
        {
          "output_type": "execute_result",
          "data": {
            "text/plain": [
              "float"
            ]
          },
          "metadata": {},
          "execution_count": 21
        }
      ],
      "source": [
        "#.99\n",
        "\n",
        "type(.99)"
      ]
    },
    {
      "cell_type": "code",
      "execution_count": null,
      "id": "b597680a",
      "metadata": {
        "id": "b597680a",
        "colab": {
          "base_uri": "https://localhost:8080/"
        },
        "outputId": "1ccdadc2-34f6-4872-94e0-df0dcccee21a"
      },
      "outputs": [
        {
          "output_type": "execute_result",
          "data": {
            "text/plain": [
              "float"
            ]
          },
          "metadata": {},
          "execution_count": 22
        }
      ],
      "source": [
        "#5e8\n",
        "type(5e8)"
      ]
    },
    {
      "cell_type": "code",
      "execution_count": null,
      "id": "6af99295",
      "metadata": {
        "id": "6af99295",
        "outputId": "9c3b03ed-31e9-41d9-b264-8301cc93e24f",
        "colab": {
          "base_uri": "https://localhost:8080/"
        }
      },
      "outputs": [
        {
          "output_type": "execute_result",
          "data": {
            "text/plain": [
              "float"
            ]
          },
          "metadata": {},
          "execution_count": 23
        }
      ],
      "source": [
        "type(5e8)"
      ]
    },
    {
      "cell_type": "code",
      "execution_count": null,
      "id": "dc9d4797",
      "metadata": {
        "id": "dc9d4797",
        "colab": {
          "base_uri": "https://localhost:8080/"
        },
        "outputId": "f99a1048-3c0a-485e-fca2-3ffcb3f2cea1"
      },
      "outputs": [
        {
          "output_type": "execute_result",
          "data": {
            "text/plain": [
              "float"
            ]
          },
          "metadata": {},
          "execution_count": 26
        }
      ],
      "source": [
        "5.67E-6\n",
        "\n",
        "type(5.67E-6)"
      ]
    },
    {
      "cell_type": "code",
      "execution_count": null,
      "id": "c0379fb3",
      "metadata": {
        "id": "c0379fb3",
        "colab": {
          "base_uri": "https://localhost:8080/"
        },
        "outputId": "c6bb1bb3-264b-4659-e4f1-fafd15dd9128"
      },
      "outputs": [
        {
          "output_type": "execute_result",
          "data": {
            "text/plain": [
              "10.0"
            ]
          },
          "metadata": {},
          "execution_count": 25
        }
      ],
      "source": [
        "#We can also convert or cast a integer to a float with float().\n",
        "\n",
        "float(10)"
      ]
    },
    {
      "cell_type": "markdown",
      "id": "6fd43043",
      "metadata": {
        "id": "6fd43043"
      },
      "source": [
        "Almost all platforms represent Python float values as 64-bit “double-precision” values, according to the IEEE 754 standard. In that case, the maximum value a floating-point number can have is approximately 1.8 ⨉ 10308. Python will indicate a number greater than that by the string inf"
      ]
    },
    {
      "cell_type": "code",
      "execution_count": null,
      "id": "8488b000",
      "metadata": {
        "id": "8488b000",
        "colab": {
          "base_uri": "https://localhost:8080/"
        },
        "outputId": "4ec733e3-aae9-49e7-8a7d-c2c44e73c8f9"
      },
      "outputs": [
        {
          "output_type": "execute_result",
          "data": {
            "text/plain": [
              "1.79e+308"
            ]
          },
          "metadata": {},
          "execution_count": 27
        }
      ],
      "source": [
        "1.79e308\n",
        "\n"
      ]
    },
    {
      "cell_type": "code",
      "execution_count": null,
      "id": "e9e58b9a",
      "metadata": {
        "id": "e9e58b9a",
        "colab": {
          "base_uri": "https://localhost:8080/"
        },
        "outputId": "785b21a1-e3cc-4ac9-86d1-8d7417ef1154"
      },
      "outputs": [
        {
          "output_type": "execute_result",
          "data": {
            "text/plain": [
              "inf"
            ]
          },
          "metadata": {},
          "execution_count": 28
        }
      ],
      "source": [
        "1.8e308"
      ]
    },
    {
      "cell_type": "markdown",
      "id": "545099db",
      "metadata": {
        "id": "545099db"
      },
      "source": [
        "The closest a nonzero number can be to zero is approximately 5.0 ⨉ 10-324. Anything closer to zero than that is effectively zero:"
      ]
    },
    {
      "cell_type": "code",
      "execution_count": null,
      "id": "2da777ac",
      "metadata": {
        "id": "2da777ac",
        "colab": {
          "base_uri": "https://localhost:8080/"
        },
        "outputId": "4628a8f4-23fa-48f3-ac86-3092c19374c7"
      },
      "outputs": [
        {
          "output_type": "execute_result",
          "data": {
            "text/plain": [
              "5e-324"
            ]
          },
          "metadata": {},
          "execution_count": 29
        }
      ],
      "source": [
        "5e-324"
      ]
    },
    {
      "cell_type": "code",
      "execution_count": null,
      "id": "cdde2a65",
      "metadata": {
        "id": "cdde2a65",
        "colab": {
          "base_uri": "https://localhost:8080/"
        },
        "outputId": "7a58bc46-ec1d-472d-b5b8-794565448757"
      },
      "outputs": [
        {
          "output_type": "execute_result",
          "data": {
            "text/plain": [
              "0.0"
            ]
          },
          "metadata": {},
          "execution_count": 30
        }
      ],
      "source": [
        "1e-325"
      ]
    },
    {
      "cell_type": "markdown",
      "id": "69cf2b84",
      "metadata": {
        "id": "69cf2b84"
      },
      "source": [
        "In most cases the internal representation of a floating-point number is an approximation of the actual value. In practice, the difference between the actual value and the represented value is very small and should not usually cause significant problems."
      ]
    },
    {
      "cell_type": "code",
      "execution_count": null,
      "id": "05711ac5",
      "metadata": {
        "id": "05711ac5",
        "colab": {
          "base_uri": "https://localhost:8080/"
        },
        "outputId": "9980ec29-e4c4-4f8d-e2d4-9b6351318cc3"
      },
      "outputs": [
        {
          "output_type": "execute_result",
          "data": {
            "text/plain": [
              "False"
            ]
          },
          "metadata": {},
          "execution_count": 31
        }
      ],
      "source": [
        "# == means 'is equal?' or 'is this equal to this?'\n",
        "\n",
        "0.1+ 0.2 == 0.3"
      ]
    },
    {
      "cell_type": "code",
      "execution_count": null,
      "id": "c4f0446e",
      "metadata": {
        "id": "c4f0446e",
        "colab": {
          "base_uri": "https://localhost:8080/"
        },
        "outputId": "acd0df78-7d76-4d1d-ed23-f87d6fb45fac"
      },
      "outputs": [
        {
          "output_type": "stream",
          "name": "stdout",
          "text": [
            "0.1 =0.10000000000000001\n"
          ]
        }
      ],
      "source": [
        "#Lets format our float numbers to have 17 decimal places\n",
        "print(\"0.1 ={0:.17f}\".format(0.1))"
      ]
    },
    {
      "cell_type": "markdown",
      "id": "4f5896de",
      "metadata": {
        "id": "4f5896de"
      },
      "source": [
        "### Complex numbers\n",
        "Complex numbers are specified as `<real part>+<imaginary part>j`. You can print only the real or imaginary part by using `.imag` or `.real`"
      ]
    },
    {
      "cell_type": "code",
      "execution_count": null,
      "id": "298bf4f7",
      "metadata": {
        "id": "298bf4f7",
        "outputId": "5bd1e3c5-7b14-49b7-d594-ced69a7ed17e",
        "colab": {
          "base_uri": "https://localhost:8080/"
        }
      },
      "outputs": [
        {
          "output_type": "execute_result",
          "data": {
            "text/plain": [
              "(2+5j)"
            ]
          },
          "metadata": {},
          "execution_count": 36
        }
      ],
      "source": [
        "2+5j"
      ]
    },
    {
      "cell_type": "code",
      "execution_count": null,
      "id": "55f38c7c",
      "metadata": {
        "id": "55f38c7c",
        "outputId": "fc760332-bf7d-450c-b855-5f164ec3597d",
        "colab": {
          "base_uri": "https://localhost:8080/"
        }
      },
      "outputs": [
        {
          "output_type": "execute_result",
          "data": {
            "text/plain": [
              "complex"
            ]
          },
          "metadata": {},
          "execution_count": 37
        }
      ],
      "source": [
        "type(2+5j)"
      ]
    },
    {
      "cell_type": "code",
      "execution_count": null,
      "id": "d8d84ba7",
      "metadata": {
        "id": "d8d84ba7",
        "outputId": "75f33413-7d91-41a6-db14-7da01f3c76d2",
        "colab": {
          "base_uri": "https://localhost:8080/"
        }
      },
      "outputs": [
        {
          "output_type": "execute_result",
          "data": {
            "text/plain": [
              "1.0"
            ]
          },
          "metadata": {},
          "execution_count": 38
        }
      ],
      "source": [
        "comp = 1+2j\n",
        "\n",
        "comp.real\n"
      ]
    },
    {
      "cell_type": "code",
      "execution_count": null,
      "id": "19826f04",
      "metadata": {
        "id": "19826f04",
        "colab": {
          "base_uri": "https://localhost:8080/"
        },
        "outputId": "862a4ab7-92bf-4d0d-b955-8ed63dde6c81"
      },
      "outputs": [
        {
          "output_type": "execute_result",
          "data": {
            "text/plain": [
              "2.0"
            ]
          },
          "metadata": {},
          "execution_count": 39
        }
      ],
      "source": [
        "# try printing the imaginary part\n",
        "\n",
        "comp.imag"
      ]
    },
    {
      "cell_type": "markdown",
      "id": "59bb12dd",
      "metadata": {
        "id": "59bb12dd"
      },
      "source": [
        "### Strings\n",
        "Strings are sequences of character data. In Python this is called `str`.\n",
        "Strings can be limited by single or double quotes."
      ]
    },
    {
      "cell_type": "code",
      "execution_count": null,
      "id": "78aea91a",
      "metadata": {
        "id": "78aea91a",
        "colab": {
          "base_uri": "https://localhost:8080/"
        },
        "outputId": "3a4cfdfa-d13e-4ee7-d208-c7a7a8996418"
      },
      "outputs": [
        {
          "output_type": "stream",
          "name": "stdout",
          "text": [
            "this is a string\n"
          ]
        },
        {
          "output_type": "execute_result",
          "data": {
            "text/plain": [
              "str"
            ]
          },
          "metadata": {},
          "execution_count": 40
        }
      ],
      "source": [
        "#Try printing using This is a string using and check data type \"\"\n",
        "\n",
        "print(\"this is a string\")\n",
        "type(\"this is a string\")"
      ]
    },
    {
      "cell_type": "code",
      "execution_count": null,
      "id": "22b82343",
      "metadata": {
        "id": "22b82343",
        "colab": {
          "base_uri": "https://localhost:8080/"
        },
        "outputId": "d0d9c06d-3827-4a8e-a070-bd4f8f2dc17f"
      },
      "outputs": [
        {
          "output_type": "stream",
          "name": "stdout",
          "text": [
            "this is a string\n"
          ]
        },
        {
          "output_type": "execute_result",
          "data": {
            "text/plain": [
              "str"
            ]
          },
          "metadata": {},
          "execution_count": 41
        }
      ],
      "source": [
        "# Try printing string using '' and check the data type\n",
        "\n",
        "print('this is a string')\n",
        "\n",
        "type('this is a string')"
      ]
    },
    {
      "cell_type": "markdown",
      "id": "145cb9e7",
      "metadata": {
        "id": "145cb9e7"
      },
      "source": [
        "A string can contain as many characters as you wish. The only limit is the computer memory. A string can also be empty."
      ]
    },
    {
      "cell_type": "code",
      "execution_count": null,
      "id": "1f921753",
      "metadata": {
        "id": "1f921753",
        "colab": {
          "base_uri": "https://localhost:8080/"
        },
        "outputId": "a03dd367-8923-4338-bad7-94ebe0b0519b"
      },
      "outputs": [
        {
          "output_type": "execute_result",
          "data": {
            "text/plain": [
              "str"
            ]
          },
          "metadata": {},
          "execution_count": 42
        }
      ],
      "source": [
        "''\n",
        "type('')"
      ]
    },
    {
      "cell_type": "code",
      "execution_count": null,
      "id": "8d4d828d",
      "metadata": {
        "id": "8d4d828d",
        "colab": {
          "base_uri": "https://localhost:8080/"
        },
        "outputId": "d15bdaa2-161a-4b01-ab9b-855b21f590ba"
      },
      "outputs": [
        {
          "output_type": "stream",
          "name": "stdout",
          "text": [
            "\"Hi how are you\"\n"
          ]
        }
      ],
      "source": [
        "#Double and single quotes can be combined\n",
        "print('\"Hi how are you\"')\n"
      ]
    },
    {
      "cell_type": "markdown",
      "id": "78932997",
      "metadata": {
        "id": "78932997"
      },
      "source": [
        "Here are some useful string functions, concatenation and indexing"
      ]
    },
    {
      "cell_type": "code",
      "execution_count": null,
      "id": "10ae543b",
      "metadata": {
        "id": "10ae543b",
        "colab": {
          "base_uri": "https://localhost:8080/"
        },
        "outputId": "dddf910d-113a-4ad2-881e-5bad48910616"
      },
      "outputs": [
        {
          "output_type": "execute_result",
          "data": {
            "text/plain": [
              "17"
            ]
          },
          "metadata": {},
          "execution_count": 44
        }
      ],
      "source": [
        "message = \"what do you like?\"\n",
        "# length of string\n",
        "len(message)\n"
      ]
    },
    {
      "cell_type": "code",
      "execution_count": null,
      "id": "38b2f65c",
      "metadata": {
        "id": "38b2f65c",
        "colab": {
          "base_uri": "https://localhost:8080/",
          "height": 35
        },
        "outputId": "ebab6503-a59f-42db-b332-3ae062b0e433"
      },
      "outputs": [
        {
          "output_type": "execute_result",
          "data": {
            "text/plain": [
              "'WHAT DO YOU LIKE?'"
            ],
            "application/vnd.google.colaboratory.intrinsic+json": {
              "type": "string"
            }
          },
          "metadata": {},
          "execution_count": 45
        }
      ],
      "source": [
        "# Make upper-case. See also str.lower()\n",
        "\n",
        "message.upper()\n"
      ]
    },
    {
      "cell_type": "code",
      "execution_count": null,
      "id": "f30c3eec",
      "metadata": {
        "id": "f30c3eec",
        "colab": {
          "base_uri": "https://localhost:8080/",
          "height": 35
        },
        "outputId": "e48f7af9-86ed-4b2d-871c-d40e679cd168"
      },
      "outputs": [
        {
          "output_type": "execute_result",
          "data": {
            "text/plain": [
              "'what do you like?'"
            ],
            "application/vnd.google.colaboratory.intrinsic+json": {
              "type": "string"
            }
          },
          "metadata": {},
          "execution_count": 46
        }
      ],
      "source": [
        "# Make lower-case.\n",
        "\n",
        "message.lower()\n"
      ]
    },
    {
      "cell_type": "code",
      "execution_count": null,
      "id": "58378fff",
      "metadata": {
        "id": "58378fff",
        "outputId": "7f90d95b-a019-4a83-f2d4-ba4cea3a74f8",
        "colab": {
          "base_uri": "https://localhost:8080/",
          "height": 35
        }
      },
      "outputs": [
        {
          "output_type": "execute_result",
          "data": {
            "text/plain": [
              "'What do you like?'"
            ],
            "application/vnd.google.colaboratory.intrinsic+json": {
              "type": "string"
            }
          },
          "metadata": {},
          "execution_count": 47
        }
      ],
      "source": [
        "# Capitalize. See also str.title()\n",
        "message.capitalize()"
      ]
    },
    {
      "cell_type": "code",
      "execution_count": null,
      "id": "e6b59e79",
      "metadata": {
        "id": "e6b59e79",
        "colab": {
          "base_uri": "https://localhost:8080/",
          "height": 35
        },
        "outputId": "7ce92899-af59-4e28-fe74-027dcf7f4428"
      },
      "outputs": [
        {
          "output_type": "execute_result",
          "data": {
            "text/plain": [
              "'What Do You Like?'"
            ],
            "application/vnd.google.colaboratory.intrinsic+json": {
              "type": "string"
            }
          },
          "metadata": {},
          "execution_count": 48
        }
      ],
      "source": [
        "# Capitalize every first letter\n",
        "\n",
        "message.title()\n"
      ]
    },
    {
      "cell_type": "code",
      "execution_count": null,
      "id": "b45c0f40",
      "metadata": {
        "id": "b45c0f40",
        "colab": {
          "base_uri": "https://localhost:8080/",
          "height": 35
        },
        "outputId": "29343a46-8a9f-4391-f4c5-653e5037ff48"
      },
      "outputs": [
        {
          "output_type": "execute_result",
          "data": {
            "text/plain": [
              "'what do you like? I like python'"
            ],
            "application/vnd.google.colaboratory.intrinsic+json": {
              "type": "string"
            }
          },
          "metadata": {},
          "execution_count": 50
        }
      ],
      "source": [
        "# How to Concatenate or join two or more strings with +\n",
        "\n",
        "message + \" I like python\""
      ]
    },
    {
      "cell_type": "code",
      "execution_count": null,
      "id": "4c466e71",
      "metadata": {
        "id": "4c466e71",
        "colab": {
          "base_uri": "https://localhost:8080/",
          "height": 35
        },
        "outputId": "e5e9afcb-dc96-48b9-8d75-0627621fed38"
      },
      "outputs": [
        {
          "output_type": "execute_result",
          "data": {
            "text/plain": [
              "'I like PythonI like PythonI like PythonI like PythonI like Python'"
            ],
            "application/vnd.google.colaboratory.intrinsic+json": {
              "type": "string"
            }
          },
          "metadata": {},
          "execution_count": 51
        }
      ],
      "source": [
        "# an astherisc * will multiply your string\n",
        "like = \"I like Python\"\n",
        "\n",
        "like * 5\n"
      ]
    },
    {
      "cell_type": "markdown",
      "id": "a151b0f1",
      "metadata": {
        "id": "a151b0f1"
      },
      "source": [
        "Indexing means accesing the individual elements or characters of a string (or list, as you will see later). To index a string use the `[]` brackets and the number you want to index. Just remember Python uses zero-based index."
      ]
    },
    {
      "cell_type": "code",
      "execution_count": null,
      "id": "d49a55db",
      "metadata": {
        "id": "d49a55db",
        "colab": {
          "base_uri": "https://localhost:8080/",
          "height": 35
        },
        "outputId": "e6dac251-723d-4b0c-afdc-c0ef7a1e7a54"
      },
      "outputs": [
        {
          "output_type": "execute_result",
          "data": {
            "text/plain": [
              "'I'"
            ],
            "application/vnd.google.colaboratory.intrinsic+json": {
              "type": "string"
            }
          },
          "metadata": {},
          "execution_count": 52
        }
      ],
      "source": [
        "#indexing\n",
        "like[0]"
      ]
    },
    {
      "cell_type": "code",
      "execution_count": null,
      "id": "ff85a50d",
      "metadata": {
        "id": "ff85a50d",
        "colab": {
          "base_uri": "https://localhost:8080/"
        },
        "outputId": "400bdd2e-4644-4fe9-8f75-020b7a079556"
      },
      "outputs": [
        {
          "output_type": "stream",
          "name": "stdout",
          "text": [
            "I  \n"
          ]
        }
      ],
      "source": [
        "print(like[0],like[1])"
      ]
    },
    {
      "cell_type": "code",
      "execution_count": null,
      "id": "474dcf0c",
      "metadata": {
        "id": "474dcf0c"
      },
      "outputs": [],
      "source": []
    },
    {
      "cell_type": "code",
      "execution_count": null,
      "id": "a72d19c1",
      "metadata": {
        "id": "a72d19c1",
        "colab": {
          "base_uri": "https://localhost:8080/",
          "height": 35
        },
        "outputId": "94d9772d-b8e6-466f-cb79-22f93a45736b"
      },
      "outputs": [
        {
          "output_type": "execute_result",
          "data": {
            "text/plain": [
              "'n'"
            ],
            "application/vnd.google.colaboratory.intrinsic+json": {
              "type": "string"
            }
          },
          "metadata": {},
          "execution_count": 54
        }
      ],
      "source": [
        "# A negative index will start counting from the right side\n",
        "# Here is the last letter\n",
        "like[-1]"
      ]
    },
    {
      "cell_type": "markdown",
      "id": "5fe325f2",
      "metadata": {
        "id": "5fe325f2"
      },
      "source": [
        "### Optional Exercise\n",
        "Create two string variables, one with your first name, another with your last name.\n",
        "- Concatenate these two variables\n",
        "- Index just the first letter of your name and the first letter of your last name using `[]`, concatenate and print these two characters.\n",
        "- Can you print the initials of your first and last name but this time only in lowercase letters?\n",
        "- Try to print the following rectangle using only string multiplication with `*`\n",
        "\n",
        "`**************` \\\n",
        "`*            *` \\\n",
        "`*            *` \\\n",
        "`*            *` \\\n",
        "`*            *` \\\n",
        "`*            *` \\\n",
        "`**************`"
      ]
    },
    {
      "cell_type": "markdown",
      "id": "6a3766cf",
      "metadata": {
        "id": "6a3766cf"
      },
      "source": [
        "### Boolean Type\n",
        "Objects of Boolean type may have one of two values, `True` or `False`:\n",
        "Expressions in Python are often evaluated in Boolean context, meaning they are interpreted to represent truth or falsehood."
      ]
    },
    {
      "cell_type": "code",
      "execution_count": null,
      "id": "fbb1b3cc",
      "metadata": {
        "id": "fbb1b3cc",
        "colab": {
          "base_uri": "https://localhost:8080/"
        },
        "outputId": "dbc0e59f-f599-4d14-b82d-d5aef28ddeb0"
      },
      "outputs": [
        {
          "output_type": "execute_result",
          "data": {
            "text/plain": [
              "True"
            ]
          },
          "metadata": {},
          "execution_count": 56
        }
      ],
      "source": [
        "# Compare if 4 if less than 5\n",
        "result = (4<5)\n",
        "\n",
        "result"
      ]
    },
    {
      "cell_type": "code",
      "execution_count": null,
      "id": "c61ec305",
      "metadata": {
        "id": "c61ec305",
        "outputId": "7ea8e82f-4911-46be-ad17-47328b8e5698",
        "colab": {
          "base_uri": "https://localhost:8080/"
        }
      },
      "outputs": [
        {
          "output_type": "execute_result",
          "data": {
            "text/plain": [
              "bool"
            ]
          },
          "metadata": {},
          "execution_count": 57
        }
      ],
      "source": [
        "type(result)"
      ]
    },
    {
      "cell_type": "code",
      "execution_count": null,
      "id": "b0e45897",
      "metadata": {
        "id": "b0e45897",
        "colab": {
          "base_uri": "https://localhost:8080/"
        },
        "outputId": "ce006317-1938-4064-91ad-3c05c20fd7b2"
      },
      "outputs": [
        {
          "output_type": "stream",
          "name": "stdout",
          "text": [
            "True False\n"
          ]
        }
      ],
      "source": [
        "print(True,False)"
      ]
    },
    {
      "cell_type": "code",
      "execution_count": null,
      "id": "b5aab6f0",
      "metadata": {
        "id": "b5aab6f0",
        "outputId": "6a1b4903-d505-4711-8dca-003beb8c7840",
        "colab": {
          "base_uri": "https://localhost:8080/"
        }
      },
      "outputs": [
        {
          "output_type": "execute_result",
          "data": {
            "text/plain": [
              "True"
            ]
          },
          "metadata": {},
          "execution_count": 59
        }
      ],
      "source": [
        "# Not zero\n",
        "\n",
        "bool(2014)\n"
      ]
    },
    {
      "cell_type": "code",
      "execution_count": null,
      "id": "3e20f5c3",
      "metadata": {
        "id": "3e20f5c3",
        "outputId": "609199d0-f5f8-47d6-82b0-c95aa39bf990",
        "colab": {
          "base_uri": "https://localhost:8080/"
        }
      },
      "outputs": [
        {
          "output_type": "execute_result",
          "data": {
            "text/plain": [
              "False"
            ]
          },
          "metadata": {},
          "execution_count": 60
        }
      ],
      "source": [
        "# A zero is equal to False\n",
        "bool(0)"
      ]
    },
    {
      "cell_type": "code",
      "execution_count": null,
      "id": "67d70d06",
      "metadata": {
        "id": "67d70d06",
        "outputId": "e570462a-09f8-4c35-84d6-9bc061b8fe7e",
        "colab": {
          "base_uri": "https://localhost:8080/"
        }
      },
      "outputs": [
        {
          "output_type": "execute_result",
          "data": {
            "text/plain": [
              "True"
            ]
          },
          "metadata": {},
          "execution_count": 61
        }
      ],
      "source": [
        "# Also not zero\n",
        "bool(3.14)"
      ]
    },
    {
      "cell_type": "code",
      "execution_count": null,
      "id": "61a8db9a",
      "metadata": {
        "id": "61a8db9a",
        "outputId": "7bcdb15d-7006-4ada-b78c-d92eca95ad2e",
        "colab": {
          "base_uri": "https://localhost:8080/"
        }
      },
      "outputs": [
        {
          "output_type": "execute_result",
          "data": {
            "text/plain": [
              "False"
            ]
          },
          "metadata": {},
          "execution_count": 62
        }
      ],
      "source": [
        "# try a bool on None\n",
        "bool(None)"
      ]
    },
    {
      "cell_type": "code",
      "execution_count": null,
      "id": "c4ac8aec",
      "metadata": {
        "id": "c4ac8aec",
        "colab": {
          "base_uri": "https://localhost:8080/"
        },
        "outputId": "d9070b2b-6329-437f-b576-69684a81314f"
      },
      "outputs": [
        {
          "output_type": "execute_result",
          "data": {
            "text/plain": [
              "False"
            ]
          },
          "metadata": {},
          "execution_count": 63
        }
      ],
      "source": [
        "# what about an Empty string bool\n",
        "bool(\"\")"
      ]
    },
    {
      "cell_type": "code",
      "execution_count": null,
      "id": "b55886b2",
      "metadata": {
        "id": "b55886b2",
        "colab": {
          "base_uri": "https://localhost:8080/"
        },
        "outputId": "44f47ab8-acd4-428c-8ce6-51557baaf421"
      },
      "outputs": [
        {
          "output_type": "execute_result",
          "data": {
            "text/plain": [
              "True"
            ]
          },
          "metadata": {},
          "execution_count": 64
        }
      ],
      "source": [
        "#bool(\"abc\")\n",
        "\n",
        "bool(\"abc\")"
      ]
    },
    {
      "cell_type": "code",
      "execution_count": null,
      "id": "510bda47",
      "metadata": {
        "id": "510bda47",
        "colab": {
          "base_uri": "https://localhost:8080/"
        },
        "outputId": "93a26731-d74a-44d1-e641-1a1443b31b2f"
      },
      "outputs": [
        {
          "output_type": "execute_result",
          "data": {
            "text/plain": [
              "True"
            ]
          },
          "metadata": {},
          "execution_count": 70
        }
      ],
      "source": [
        "bool([1, 2, 3])\n",
        "\n"
      ]
    },
    {
      "cell_type": "code",
      "execution_count": null,
      "id": "6466ab80",
      "metadata": {
        "id": "6466ab80",
        "colab": {
          "base_uri": "https://localhost:8080/"
        },
        "outputId": "6a8d4944-6553-49d6-86af-e169410f5394"
      },
      "outputs": [
        {
          "output_type": "execute_result",
          "data": {
            "text/plain": [
              "False"
            ]
          },
          "metadata": {},
          "execution_count": 69
        }
      ],
      "source": [
        "# Empty list\n",
        "bool([])"
      ]
    },
    {
      "cell_type": "code",
      "execution_count": null,
      "id": "a1082049",
      "metadata": {
        "id": "a1082049",
        "colab": {
          "base_uri": "https://localhost:8080/"
        },
        "outputId": "2cb02eca-8f3d-479b-8b82-fe70ea568664"
      },
      "outputs": [
        {
          "output_type": "execute_result",
          "data": {
            "text/plain": [
              "False"
            ]
          },
          "metadata": {},
          "execution_count": 65
        }
      ],
      "source": [
        "bool(0.0)"
      ]
    },
    {
      "cell_type": "code",
      "execution_count": null,
      "id": "0f4a3cf2",
      "metadata": {
        "id": "0f4a3cf2",
        "colab": {
          "base_uri": "https://localhost:8080/"
        },
        "outputId": "0c8f2721-d66b-4159-ab2f-e346a675cd1a"
      },
      "outputs": [
        {
          "output_type": "execute_result",
          "data": {
            "text/plain": [
              "True"
            ]
          },
          "metadata": {},
          "execution_count": 66
        }
      ],
      "source": [
        "bool(1.0)"
      ]
    },
    {
      "cell_type": "code",
      "execution_count": null,
      "id": "a5ad8551",
      "metadata": {
        "id": "a5ad8551",
        "colab": {
          "base_uri": "https://localhost:8080/"
        },
        "outputId": "57075781-3f9d-46c5-bed3-44ea71944e84"
      },
      "outputs": [
        {
          "output_type": "execute_result",
          "data": {
            "text/plain": [
              "1"
            ]
          },
          "metadata": {},
          "execution_count": 67
        }
      ],
      "source": [
        "int(True)"
      ]
    },
    {
      "cell_type": "code",
      "execution_count": null,
      "id": "ebaa2672",
      "metadata": {
        "id": "ebaa2672",
        "colab": {
          "base_uri": "https://localhost:8080/"
        },
        "outputId": "3abf2224-3bf4-48f7-d3f6-2348f554ec6e"
      },
      "outputs": [
        {
          "output_type": "execute_result",
          "data": {
            "text/plain": [
              "0"
            ]
          },
          "metadata": {},
          "execution_count": 68
        }
      ],
      "source": [
        "int(False)"
      ]
    },
    {
      "cell_type": "markdown",
      "id": "156dfe28",
      "metadata": {
        "id": "156dfe28"
      },
      "source": [
        "### Other useful data types\n",
        "### Lists\n",
        "Lists are mutable collections of objects, similar to arrays in other programming languages. Lists are defined in Python by enclosing a comma-separated sequence of objects in square brackets `[]`\n",
        "- Lists are ordered\n",
        "- Lists can contain different types of objects\n",
        "- List objects can be accessed by index\n",
        "- Lists can be nested to arbitrary depth e.g. list of lists\n",
        "- Lists are mutable, they can be changed"
      ]
    },
    {
      "cell_type": "code",
      "execution_count": null,
      "id": "4add7d38",
      "metadata": {
        "id": "4add7d38",
        "colab": {
          "base_uri": "https://localhost:8080/"
        },
        "outputId": "f327c4d2-0366-470f-8a47-f0151dd4cde0"
      },
      "outputs": [
        {
          "output_type": "execute_result",
          "data": {
            "text/plain": [
              "['john', 'Mary', 'max', ' jonny']"
            ]
          },
          "metadata": {},
          "execution_count": 73
        }
      ],
      "source": [
        "# Creating a string list\n",
        "\n",
        "friends =[\"john\",\"Mary\",\"max\",\" jonny\"]\n",
        "friends"
      ]
    },
    {
      "cell_type": "code",
      "execution_count": null,
      "id": "65faca10",
      "metadata": {
        "id": "65faca10",
        "colab": {
          "base_uri": "https://localhost:8080/"
        },
        "outputId": "231df6e0-fe0b-40c4-c1c5-8da113916cb3"
      },
      "outputs": [
        {
          "output_type": "execute_result",
          "data": {
            "text/plain": [
              "False"
            ]
          },
          "metadata": {},
          "execution_count": 74
        }
      ],
      "source": [
        "# Lists are ordered\n",
        "# lists with the same elements in different order are not the same\n",
        "\n",
        "a = [1,2,3,4,]\n",
        "b = [2,1,3,4,]\n",
        "\n",
        "a == b"
      ]
    },
    {
      "cell_type": "code",
      "execution_count": null,
      "id": "14fa7954",
      "metadata": {
        "id": "14fa7954",
        "colab": {
          "base_uri": "https://localhost:8080/"
        },
        "outputId": "0a278f6d-682b-4786-a57a-d46fec5b276d"
      },
      "outputs": [
        {
          "output_type": "execute_result",
          "data": {
            "text/plain": [
              "False"
            ]
          },
          "metadata": {},
          "execution_count": 75
        }
      ],
      "source": [
        "a is b"
      ]
    },
    {
      "cell_type": "code",
      "execution_count": null,
      "id": "d0ae682c",
      "metadata": {
        "id": "d0ae682c",
        "colab": {
          "base_uri": "https://localhost:8080/"
        },
        "outputId": "8086f38f-5f08-4be4-c522-9b778da1d3d3"
      },
      "outputs": [
        {
          "output_type": "execute_result",
          "data": {
            "text/plain": [
              "[10, 3.14, 'hellow', True]"
            ]
          },
          "metadata": {},
          "execution_count": 76
        }
      ],
      "source": [
        "# Lists can contain different types of objects\n",
        "c = [10,3.14,'hellow', True]\n",
        "\n",
        "c"
      ]
    },
    {
      "cell_type": "code",
      "execution_count": null,
      "id": "1be3520d",
      "metadata": {
        "id": "1be3520d",
        "colab": {
          "base_uri": "https://localhost:8080/"
        },
        "outputId": "e128a4db-7507-4955-8aeb-523927fd02d1"
      },
      "outputs": [
        {
          "output_type": "execute_result",
          "data": {
            "text/plain": [
              "list"
            ]
          },
          "metadata": {},
          "execution_count": 77
        }
      ],
      "source": [
        "type(c)"
      ]
    },
    {
      "cell_type": "code",
      "execution_count": null,
      "id": "33c22ce1",
      "metadata": {
        "id": "33c22ce1",
        "colab": {
          "base_uri": "https://localhost:8080/"
        },
        "outputId": "2079c183-245a-49b9-a8aa-3a667b909f32"
      },
      "outputs": [
        {
          "output_type": "execute_result",
          "data": {
            "text/plain": [
              "bool"
            ]
          },
          "metadata": {},
          "execution_count": 78
        }
      ],
      "source": [
        "type(c[3])"
      ]
    },
    {
      "cell_type": "code",
      "execution_count": null,
      "id": "64a0c4a9",
      "metadata": {
        "id": "64a0c4a9",
        "colab": {
          "base_uri": "https://localhost:8080/"
        },
        "outputId": "4aa9aa0c-1787-412d-8ce9-9572aa2da71b"
      },
      "outputs": [
        {
          "output_type": "execute_result",
          "data": {
            "text/plain": [
              "['bark', 'cat', 'cat', 'dog']"
            ]
          },
          "metadata": {},
          "execution_count": 80
        }
      ],
      "source": [
        "# Lists can contain the same object multiple times\n",
        "\n",
        "d = ['bark','cat','cat','dog']\n",
        "\n",
        "d"
      ]
    },
    {
      "cell_type": "code",
      "execution_count": null,
      "id": "2ea04079",
      "metadata": {
        "id": "2ea04079",
        "colab": {
          "base_uri": "https://localhost:8080/",
          "height": 35
        },
        "outputId": "51ce0a66-1621-4d2a-c62b-d7ccd14abdbf"
      },
      "outputs": [
        {
          "output_type": "execute_result",
          "data": {
            "text/plain": [
              "'bark'"
            ],
            "application/vnd.google.colaboratory.intrinsic+json": {
              "type": "string"
            }
          },
          "metadata": {},
          "execution_count": 81
        }
      ],
      "source": [
        "# Lists objects can be accessed by index\n",
        "\n",
        "d[0]\n"
      ]
    },
    {
      "cell_type": "code",
      "execution_count": null,
      "id": "5c65e5ee",
      "metadata": {
        "id": "5c65e5ee",
        "colab": {
          "base_uri": "https://localhost:8080/",
          "height": 35
        },
        "outputId": "5fbfc1b1-96d0-440c-e2d4-dac07c8b832a"
      },
      "outputs": [
        {
          "output_type": "execute_result",
          "data": {
            "text/plain": [
              "'cat'"
            ],
            "application/vnd.google.colaboratory.intrinsic+json": {
              "type": "string"
            }
          },
          "metadata": {},
          "execution_count": 82
        }
      ],
      "source": [
        "d[1]"
      ]
    },
    {
      "cell_type": "code",
      "execution_count": null,
      "id": "b0d744d5",
      "metadata": {
        "id": "b0d744d5",
        "colab": {
          "base_uri": "https://localhost:8080/",
          "height": 35
        },
        "outputId": "c830fb3d-3e53-4a6c-95c7-3a3af2c8df46"
      },
      "outputs": [
        {
          "output_type": "execute_result",
          "data": {
            "text/plain": [
              "'dog'"
            ],
            "application/vnd.google.colaboratory.intrinsic+json": {
              "type": "string"
            }
          },
          "metadata": {},
          "execution_count": 83
        }
      ],
      "source": [
        "# Remember a negative index counts from the end of the list\n",
        "\n",
        "d[-1]\n"
      ]
    },
    {
      "cell_type": "markdown",
      "id": "1b769660",
      "metadata": {
        "id": "1b769660"
      },
      "source": [
        "Slicing a list means taking a range of the objects that exist in that list, this is done by the square brackets and two index numbers separated by `:` similar to this `[0:3]`. In a list `a`, `a[m:n]` returns the portion of a from index m to, but not including, index n"
      ]
    },
    {
      "cell_type": "code",
      "execution_count": null,
      "id": "f2db9054",
      "metadata": {
        "id": "f2db9054",
        "colab": {
          "base_uri": "https://localhost:8080/"
        },
        "outputId": "cfcf475a-b7b9-403e-f8db-31884f6e2e31"
      },
      "outputs": [
        {
          "output_type": "execute_result",
          "data": {
            "text/plain": [
              "['john', 'Mary']"
            ]
          },
          "metadata": {},
          "execution_count": 84
        }
      ],
      "source": [
        "#slicing list\n",
        "friends\n",
        "\n",
        "friends[0:2]"
      ]
    },
    {
      "cell_type": "code",
      "execution_count": null,
      "id": "b6d5d7d6",
      "metadata": {
        "id": "b6d5d7d6",
        "colab": {
          "base_uri": "https://localhost:8080/"
        },
        "outputId": "fca404f9-8035-46fc-d1bd-423e67535414"
      },
      "outputs": [
        {
          "output_type": "execute_result",
          "data": {
            "text/plain": [
              "['john', 'Mary']"
            ]
          },
          "metadata": {},
          "execution_count": 91
        }
      ],
      "source": [
        "# not including index 3\n",
        "#friends[1:3]\n",
        "\n",
        "friends[0:2]"
      ]
    },
    {
      "cell_type": "code",
      "execution_count": null,
      "id": "000942df",
      "metadata": {
        "id": "000942df"
      },
      "outputs": [],
      "source": []
    },
    {
      "cell_type": "code",
      "execution_count": null,
      "id": "2a5e7c1e",
      "metadata": {
        "id": "2a5e7c1e",
        "colab": {
          "base_uri": "https://localhost:8080/"
        },
        "outputId": "3e74c989-882c-4abe-928a-ca43ac2f324e"
      },
      "outputs": [
        {
          "output_type": "execute_result",
          "data": {
            "text/plain": [
              "['Mary', 'max', ' jonny']"
            ]
          },
          "metadata": {},
          "execution_count": 92
        }
      ],
      "source": [
        "# Negative slicing is supported\n",
        "friends[-3:4]"
      ]
    },
    {
      "cell_type": "code",
      "execution_count": null,
      "id": "538dcb72",
      "metadata": {
        "id": "538dcb72",
        "outputId": "3913e300-82d0-4600-e28e-1972abdce04f",
        "colab": {
          "base_uri": "https://localhost:8080/"
        }
      },
      "outputs": [
        {
          "output_type": "execute_result",
          "data": {
            "text/plain": [
              "['john', 'Mary', 'max']"
            ]
          },
          "metadata": {},
          "execution_count": 93
        }
      ],
      "source": [
        "# Omiting the first index starts at the beginning of the list\n",
        "\n",
        "friends[:3]"
      ]
    },
    {
      "cell_type": "code",
      "execution_count": null,
      "id": "21e387e2",
      "metadata": {
        "id": "21e387e2",
        "colab": {
          "base_uri": "https://localhost:8080/"
        },
        "outputId": "e8f324d7-f4c9-4202-b519-62a70de53de4"
      },
      "outputs": [
        {
          "output_type": "execute_result",
          "data": {
            "text/plain": [
              "['john', 'Mary', 'max', ' jonny']"
            ]
          },
          "metadata": {},
          "execution_count": 96
        }
      ],
      "source": [
        "# Omiting the second index extend the slice to the end of the list\n",
        "\n",
        "friends[0:]\n"
      ]
    },
    {
      "cell_type": "code",
      "execution_count": null,
      "id": "187c870f",
      "metadata": {
        "id": "187c870f",
        "colab": {
          "base_uri": "https://localhost:8080/"
        },
        "outputId": "808f09b8-92dc-48b9-f717-e7a4e09d99c1"
      },
      "outputs": [
        {
          "output_type": "execute_result",
          "data": {
            "text/plain": [
              "['john', 'max']"
            ]
          },
          "metadata": {},
          "execution_count": 97
        }
      ],
      "source": [
        "# You can also specify a step\n",
        "friends[0:4:2]"
      ]
    },
    {
      "cell_type": "code",
      "execution_count": null,
      "id": "7e202ccb",
      "metadata": {
        "id": "7e202ccb",
        "colab": {
          "base_uri": "https://localhost:8080/"
        },
        "outputId": "244a48e6-a0c4-4b11-a182-842a7dc915f3"
      },
      "outputs": [
        {
          "output_type": "execute_result",
          "data": {
            "text/plain": [
              "[0, 1, 2, 3, 4, 5, 6, 7, 8, 9]"
            ]
          },
          "metadata": {},
          "execution_count": 98
        }
      ],
      "source": [
        "# Lets visualize step/stride with a numeric list\n",
        "numbers = [0, 1, 2, 3, 4, 5, 6, 7, 8, 9]\n",
        "numbers"
      ]
    },
    {
      "cell_type": "code",
      "execution_count": null,
      "id": "e5b4299b",
      "metadata": {
        "id": "e5b4299b",
        "colab": {
          "base_uri": "https://localhost:8080/",
          "height": 173
        },
        "outputId": "86a0889e-d6df-436e-9b01-6247c11acce6"
      },
      "outputs": [
        {
          "output_type": "error",
          "ename": "NameError",
          "evalue": "name 'numbers' is not defined",
          "traceback": [
            "\u001b[0;31m---------------------------------------------------------------------------\u001b[0m",
            "\u001b[0;31mNameError\u001b[0m                                 Traceback (most recent call last)",
            "\u001b[0;32m<ipython-input-69-c4dc8921ac31>\u001b[0m in \u001b[0;36m<cell line: 3>\u001b[0;34m()\u001b[0m\n\u001b[1;32m      1\u001b[0m \u001b[0;31m# Start in index 0, include all elements, step every 2 elements\u001b[0m\u001b[0;34m\u001b[0m\u001b[0;34m\u001b[0m\u001b[0m\n\u001b[1;32m      2\u001b[0m \u001b[0;34m\u001b[0m\u001b[0m\n\u001b[0;32m----> 3\u001b[0;31m \u001b[0mnumbers\u001b[0m\u001b[0;34m[\u001b[0m\u001b[0;36m0\u001b[0m\u001b[0;34m:\u001b[0m\u001b[0;34m:\u001b[0m\u001b[0;36m2\u001b[0m\u001b[0;34m]\u001b[0m\u001b[0;34m\u001b[0m\u001b[0;34m\u001b[0m\u001b[0m\n\u001b[0m",
            "\u001b[0;31mNameError\u001b[0m: name 'numbers' is not defined"
          ]
        }
      ],
      "source": [
        "# Start in index 0, include all elements, step every 2 elements\n",
        "\n",
        "numbers[0::2]\n"
      ]
    },
    {
      "cell_type": "code",
      "execution_count": null,
      "id": "ae80c559",
      "metadata": {
        "id": "ae80c559",
        "colab": {
          "base_uri": "https://localhost:8080/",
          "height": 35
        },
        "outputId": "20f91efc-8b95-4a9a-f81e-792c3e2bbbde"
      },
      "outputs": [
        {
          "output_type": "execute_result",
          "data": {
            "text/plain": [
              "'Hello'"
            ],
            "application/vnd.google.colaboratory.intrinsic+json": {
              "type": "string"
            }
          },
          "metadata": {},
          "execution_count": 102
        }
      ],
      "source": [
        "# You can also slice strings!\n",
        "message = 'Hello'\n",
        "\n",
        "message[:]\n"
      ]
    },
    {
      "cell_type": "code",
      "execution_count": null,
      "id": "499bcc44",
      "metadata": {
        "id": "499bcc44",
        "colab": {
          "base_uri": "https://localhost:8080/",
          "height": 35
        },
        "outputId": "e8051b1d-035e-40b9-9cb0-7d80db1d65ac"
      },
      "outputs": [
        {
          "output_type": "execute_result",
          "data": {
            "text/plain": [
              "'llo'"
            ],
            "application/vnd.google.colaboratory.intrinsic+json": {
              "type": "string"
            }
          },
          "metadata": {},
          "execution_count": 104
        }
      ],
      "source": [
        "message[2:5]"
      ]
    },
    {
      "cell_type": "markdown",
      "id": "752a8084",
      "metadata": {
        "id": "752a8084"
      },
      "source": [
        "The concatenation (+) and replication (*) operators:\n"
      ]
    },
    {
      "cell_type": "code",
      "execution_count": null,
      "id": "89d9c0ee",
      "metadata": {
        "id": "89d9c0ee",
        "colab": {
          "base_uri": "https://localhost:8080/"
        },
        "outputId": "55a2aa26-5e38-430f-8ab1-6b681dd6efdd"
      },
      "outputs": [
        {
          "output_type": "execute_result",
          "data": {
            "text/plain": [
              "['hello', 'yes', 'no']"
            ]
          },
          "metadata": {},
          "execution_count": 105
        }
      ],
      "source": [
        "e = ['hello', 'yes', 'no']\n",
        "e"
      ]
    },
    {
      "cell_type": "code",
      "execution_count": null,
      "id": "aa2f6237",
      "metadata": {
        "id": "aa2f6237",
        "colab": {
          "base_uri": "https://localhost:8080/"
        },
        "outputId": "0e0cc4e3-09db-415b-d85e-d287a3318bbd"
      },
      "outputs": [
        {
          "output_type": "execute_result",
          "data": {
            "text/plain": [
              "['hello', 'yes', 'no', 'here', 'mylist']"
            ]
          },
          "metadata": {},
          "execution_count": 106
        }
      ],
      "source": [
        "e +['here','mylist']"
      ]
    },
    {
      "cell_type": "code",
      "execution_count": null,
      "id": "ed1fac87",
      "metadata": {
        "id": "ed1fac87",
        "colab": {
          "base_uri": "https://localhost:8080/"
        },
        "outputId": "4cd6d760-0337-49ac-9a16-aebcf78dc0a8"
      },
      "outputs": [
        {
          "output_type": "execute_result",
          "data": {
            "text/plain": [
              "['hello', 'yes', 'no', 'hello', 'yes', 'no']"
            ]
          },
          "metadata": {},
          "execution_count": 107
        }
      ],
      "source": [
        "e*2"
      ]
    },
    {
      "cell_type": "markdown",
      "id": "553f2fb4",
      "metadata": {
        "id": "553f2fb4"
      },
      "source": [
        "The len(), min(), and max() functions"
      ]
    },
    {
      "cell_type": "code",
      "execution_count": null,
      "id": "639a486a",
      "metadata": {
        "id": "639a486a",
        "colab": {
          "base_uri": "https://localhost:8080/"
        },
        "outputId": "958b9359-18da-4d26-849e-7bfc64680107"
      },
      "outputs": [
        {
          "output_type": "execute_result",
          "data": {
            "text/plain": [
              "5"
            ]
          },
          "metadata": {},
          "execution_count": 110
        }
      ],
      "source": [
        "f = [5, 10, 15, 20, 25]\n",
        "len(f)"
      ]
    },
    {
      "cell_type": "code",
      "execution_count": null,
      "id": "fa4cfa36",
      "metadata": {
        "id": "fa4cfa36",
        "colab": {
          "base_uri": "https://localhost:8080/"
        },
        "outputId": "7223f936-2189-448f-faf4-c62dd5b7f930"
      },
      "outputs": [
        {
          "output_type": "execute_result",
          "data": {
            "text/plain": [
              "5"
            ]
          },
          "metadata": {},
          "execution_count": 111
        }
      ],
      "source": [
        "min(f)\n",
        "# Try this function with a string list. Can you explain what is happening?"
      ]
    },
    {
      "cell_type": "code",
      "execution_count": null,
      "id": "43f778ea",
      "metadata": {
        "id": "43f778ea",
        "colab": {
          "base_uri": "https://localhost:8080/"
        },
        "outputId": "28812d76-f3d7-4d78-b748-821fdd8426d8"
      },
      "outputs": [
        {
          "output_type": "execute_result",
          "data": {
            "text/plain": [
              "25"
            ]
          },
          "metadata": {},
          "execution_count": 112
        }
      ],
      "source": [
        "max(f)\n",
        "# Try this function with a string list. Can you explain what is happening?"
      ]
    },
    {
      "cell_type": "markdown",
      "id": "e93b35a1",
      "metadata": {
        "id": "e93b35a1"
      },
      "source": [
        "Lists can be nested"
      ]
    },
    {
      "cell_type": "code",
      "execution_count": null,
      "id": "67c25d8e",
      "metadata": {
        "id": "67c25d8e",
        "colab": {
          "base_uri": "https://localhost:8080/"
        },
        "outputId": "91d105d3-7a66-49d8-9e1f-55847c293f7a"
      },
      "outputs": [
        {
          "output_type": "execute_result",
          "data": {
            "text/plain": [
              "[[1, 2, 3, 4], [10, 20, 30], ['hello', 'from', 'my list']]"
            ]
          },
          "metadata": {},
          "execution_count": 113
        }
      ],
      "source": [
        "my_lists = [[1, 2, 3, 4], [10, 20, 30], ['hello', 'from', 'my list']]\n",
        "my_lists"
      ]
    },
    {
      "cell_type": "code",
      "execution_count": null,
      "id": "926818e8",
      "metadata": {
        "id": "926818e8",
        "colab": {
          "base_uri": "https://localhost:8080/"
        },
        "outputId": "b4d782c3-1e6f-4505-8234-196acc39381c"
      },
      "outputs": [
        {
          "output_type": "execute_result",
          "data": {
            "text/plain": [
              "[1, 2, 3, 4]"
            ]
          },
          "metadata": {},
          "execution_count": 114
        }
      ],
      "source": [
        "my_lists[0]"
      ]
    },
    {
      "cell_type": "code",
      "execution_count": null,
      "id": "2656eb4d",
      "metadata": {
        "id": "2656eb4d",
        "colab": {
          "base_uri": "https://localhost:8080/"
        },
        "outputId": "b8ade184-7a52-41f9-9eb1-30627f326b1c"
      },
      "outputs": [
        {
          "output_type": "execute_result",
          "data": {
            "text/plain": [
              "3"
            ]
          },
          "metadata": {},
          "execution_count": 115
        }
      ],
      "source": [
        "# Accessing the second index\n",
        "\n",
        "my_lists[0][2]\n"
      ]
    },
    {
      "cell_type": "code",
      "execution_count": null,
      "id": "3f9b96c5",
      "metadata": {
        "id": "3f9b96c5",
        "colab": {
          "base_uri": "https://localhost:8080/"
        },
        "outputId": "6a9fe022-6c36-4ad1-8b95-3b0028299bf1"
      },
      "outputs": [
        {
          "output_type": "execute_result",
          "data": {
            "text/plain": [
              "['hello', 'from', 'my list']"
            ]
          },
          "metadata": {},
          "execution_count": 116
        }
      ],
      "source": [
        "my_lists[2]"
      ]
    },
    {
      "cell_type": "markdown",
      "id": "4388b319",
      "metadata": {
        "id": "4388b319"
      },
      "source": [
        "Lists are mutable, meaning they can be changed"
      ]
    },
    {
      "cell_type": "code",
      "execution_count": null,
      "id": "c400c936",
      "metadata": {
        "id": "c400c936",
        "outputId": "865a2f25-d09f-4add-8707-16de1b563f5a",
        "colab": {
          "base_uri": "https://localhost:8080/"
        }
      },
      "outputs": [
        {
          "output_type": "execute_result",
          "data": {
            "text/plain": [
              "['eggs', 'cheese', 'milk', 'bread']"
            ]
          },
          "metadata": {},
          "execution_count": 118
        }
      ],
      "source": [
        "groceries = ['eggs', 'cheese', 'milk', 'bread']\n",
        "groceries"
      ]
    },
    {
      "cell_type": "code",
      "execution_count": null,
      "id": "5483caa4",
      "metadata": {
        "id": "5483caa4"
      },
      "outputs": [],
      "source": [
        "groceries[2] = ' soy milk'"
      ]
    },
    {
      "cell_type": "code",
      "execution_count": null,
      "id": "767edce9",
      "metadata": {
        "id": "767edce9",
        "outputId": "ad8ad4fc-aadf-4c44-e589-14e83d51eeab",
        "colab": {
          "base_uri": "https://localhost:8080/"
        }
      },
      "outputs": [
        {
          "output_type": "execute_result",
          "data": {
            "text/plain": [
              "['eggs', 'cheese', ' soy milk', 'bread']"
            ]
          },
          "metadata": {},
          "execution_count": 120
        }
      ],
      "source": [
        "groceries\n"
      ]
    },
    {
      "cell_type": "code",
      "execution_count": null,
      "id": "2c70d911",
      "metadata": {
        "id": "2c70d911",
        "colab": {
          "base_uri": "https://localhost:8080/"
        },
        "outputId": "cd1e9b9a-fcca-4a65-9598-d862e267857f"
      },
      "outputs": [
        {
          "output_type": "execute_result",
          "data": {
            "text/plain": [
              "['eggs']"
            ]
          },
          "metadata": {},
          "execution_count": 123
        }
      ],
      "source": [
        "# delete an element with del()\n",
        "del groceries[1]\n",
        "\n",
        "groceries"
      ]
    },
    {
      "cell_type": "code",
      "execution_count": null,
      "id": "9b43a237",
      "metadata": {
        "id": "9b43a237",
        "colab": {
          "base_uri": "https://localhost:8080/"
        },
        "outputId": "08c568f1-70de-4e5d-ddf2-186421c4183f"
      },
      "outputs": [
        {
          "output_type": "execute_result",
          "data": {
            "text/plain": [
              "['eggs', 'coffee', 'coffee']"
            ]
          },
          "metadata": {},
          "execution_count": 125
        }
      ],
      "source": [
        "# Add a value at the end of a list with append\n",
        "\n",
        "groceries.append('coffee')\n",
        "\n",
        "groceries\n"
      ]
    },
    {
      "cell_type": "code",
      "execution_count": null,
      "id": "90ba3f90",
      "metadata": {
        "id": "90ba3f90",
        "outputId": "bbf733c1-45ec-4608-ec94-6696e1867e30",
        "colab": {
          "base_uri": "https://localhost:8080/"
        }
      },
      "outputs": [
        {
          "output_type": "execute_result",
          "data": {
            "text/plain": [
              "['coffee', 'coffee', 'eggs']"
            ]
          },
          "metadata": {},
          "execution_count": 127
        }
      ],
      "source": [
        "# sort a list\n",
        "\n",
        "groceries.sort()\n",
        "\n",
        "groceries"
      ]
    },
    {
      "cell_type": "code",
      "execution_count": null,
      "id": "fb475e99",
      "metadata": {
        "id": "fb475e99",
        "outputId": "48e5d159-efbe-4004-b259-a782ebf1ffac",
        "colab": {
          "base_uri": "https://localhost:8080/"
        }
      },
      "outputs": [
        {
          "output_type": "execute_result",
          "data": {
            "text/plain": [
              "[22, 18, 15, 25, 26, 19, 35, 42]"
            ]
          },
          "metadata": {},
          "execution_count": 129
        }
      ],
      "source": [
        "ages = [22, 18, 15, 25, 26, 19, 35, 42]\n",
        "ages"
      ]
    },
    {
      "cell_type": "code",
      "execution_count": null,
      "id": "a35aaf5a",
      "metadata": {
        "id": "a35aaf5a",
        "colab": {
          "base_uri": "https://localhost:8080/"
        },
        "outputId": "0f0b0c58-bf78-4621-db1c-d362549217db"
      },
      "outputs": [
        {
          "output_type": "execute_result",
          "data": {
            "text/plain": [
              "[15, 18, 19, 22, 25, 26, 35, 42]"
            ]
          },
          "metadata": {},
          "execution_count": 131
        }
      ],
      "source": [
        "ages.sort()\n",
        "ages"
      ]
    },
    {
      "cell_type": "code",
      "execution_count": null,
      "id": "402772f3",
      "metadata": {
        "id": "402772f3",
        "colab": {
          "base_uri": "https://localhost:8080/"
        },
        "outputId": "e92b7642-35e0-4e91-f637-653bbe586d9c"
      },
      "outputs": [
        {
          "output_type": "execute_result",
          "data": {
            "text/plain": [
              "[42, 35, 26, 25, 22, 19, 18, 15]"
            ]
          },
          "metadata": {},
          "execution_count": 132
        }
      ],
      "source": [
        "# Invert a list\n",
        "ages[::-1]"
      ]
    },
    {
      "cell_type": "code",
      "execution_count": null,
      "id": "bba06ef4",
      "metadata": {
        "id": "bba06ef4"
      },
      "outputs": [],
      "source": []
    },
    {
      "cell_type": "code",
      "execution_count": null,
      "id": "0579280f",
      "metadata": {
        "id": "0579280f",
        "colab": {
          "base_uri": "https://localhost:8080/"
        },
        "outputId": "0fb091cc-2f2d-4722-9927-b41a4848cf50"
      },
      "outputs": [
        {
          "output_type": "execute_result",
          "data": {
            "text/plain": [
              "[15, 18, 22, 25, 26, 35, 42]"
            ]
          },
          "metadata": {},
          "execution_count": 133
        }
      ],
      "source": [
        "# Delete an element from a specified index\n",
        "ages.pop(2)\n",
        "ages"
      ]
    },
    {
      "cell_type": "code",
      "execution_count": null,
      "id": "edff7aa5",
      "metadata": {
        "id": "edff7aa5",
        "colab": {
          "base_uri": "https://localhost:8080/"
        },
        "outputId": "1ea75cf2-b6d8-4dd1-f7e0-1069ba4227c4"
      },
      "outputs": [
        {
          "output_type": "execute_result",
          "data": {
            "text/plain": [
              "[15, 18, 22, 26, 35, 42]"
            ]
          },
          "metadata": {},
          "execution_count": 134
        }
      ],
      "source": [
        "# You can also specify a value to remove with .remove()\n",
        "ages.remove(25)\n",
        "ages"
      ]
    },
    {
      "cell_type": "code",
      "execution_count": null,
      "id": "1ef9eb85",
      "metadata": {
        "id": "1ef9eb85",
        "colab": {
          "base_uri": "https://localhost:8080/"
        },
        "outputId": "3360fd01-b57c-4f08-ee3e-2a7b59fce8c9"
      },
      "outputs": [
        {
          "output_type": "execute_result",
          "data": {
            "text/plain": [
              "[15, 18, 30, 22, 26, 35, 42]"
            ]
          },
          "metadata": {},
          "execution_count": 135
        }
      ],
      "source": [
        "# Insert a value at a specified index\n",
        "ages.insert(2,30)\n",
        "\n",
        "ages"
      ]
    },
    {
      "cell_type": "markdown",
      "id": "fbfce63d",
      "metadata": {
        "id": "fbfce63d"
      },
      "source": [
        "### Tuples\n",
        "Tuples are static ordered collections of objects.\n",
        "Tuples are identical to lists except in the following:\n",
        "- Tuples are defined by `()`\n",
        "- Tuples are inmutable, they cannot change"
      ]
    },
    {
      "cell_type": "code",
      "execution_count": null,
      "id": "5d74f8dc",
      "metadata": {
        "id": "5d74f8dc",
        "colab": {
          "base_uri": "https://localhost:8080/"
        },
        "outputId": "8691fc78-152f-4ad7-911b-3ae5d924f30e"
      },
      "outputs": [
        {
          "output_type": "execute_result",
          "data": {
            "text/plain": [
              "('here', 'is', 'a', 'tuple')"
            ]
          },
          "metadata": {},
          "execution_count": 136
        }
      ],
      "source": [
        "t = ('here' , 'is' , 'a' , 'tuple')\n",
        "t"
      ]
    },
    {
      "cell_type": "code",
      "execution_count": null,
      "id": "6a640ad9",
      "metadata": {
        "id": "6a640ad9",
        "colab": {
          "base_uri": "https://localhost:8080/",
          "height": 35
        },
        "outputId": "8c55b353-f807-4cfb-cfdf-ded54d1a5258"
      },
      "outputs": [
        {
          "output_type": "execute_result",
          "data": {
            "text/plain": [
              "'here'"
            ],
            "application/vnd.google.colaboratory.intrinsic+json": {
              "type": "string"
            }
          },
          "metadata": {},
          "execution_count": 137
        }
      ],
      "source": [
        "t[0]"
      ]
    },
    {
      "cell_type": "code",
      "execution_count": null,
      "id": "1776cf43",
      "metadata": {
        "id": "1776cf43",
        "colab": {
          "base_uri": "https://localhost:8080/"
        },
        "outputId": "3e1feb80-9076-47fb-9f08-04976a589ff9"
      },
      "outputs": [
        {
          "output_type": "execute_result",
          "data": {
            "text/plain": [
              "('here', 'is', 'a', 'tuple')"
            ]
          },
          "metadata": {},
          "execution_count": 138
        }
      ],
      "source": [
        "t[0:]"
      ]
    },
    {
      "cell_type": "code",
      "execution_count": null,
      "id": "604bf39d",
      "metadata": {
        "id": "604bf39d",
        "colab": {
          "base_uri": "https://localhost:8080/",
          "height": 35
        },
        "outputId": "9c18d6d9-6eca-4ccd-aef5-23c5a93f0527"
      },
      "outputs": [
        {
          "output_type": "execute_result",
          "data": {
            "text/plain": [
              "'tuple'"
            ],
            "application/vnd.google.colaboratory.intrinsic+json": {
              "type": "string"
            }
          },
          "metadata": {},
          "execution_count": 139
        }
      ],
      "source": [
        "t[-1]"
      ]
    },
    {
      "cell_type": "code",
      "execution_count": null,
      "id": "4d9d6c44",
      "metadata": {
        "id": "4d9d6c44",
        "colab": {
          "base_uri": "https://localhost:8080/"
        },
        "outputId": "cbad85bb-c922-4f36-9f1a-be035e8bb85d"
      },
      "outputs": [
        {
          "output_type": "execute_result",
          "data": {
            "text/plain": [
              "('is', 'a')"
            ]
          },
          "metadata": {},
          "execution_count": 140
        }
      ],
      "source": [
        "t[1:3]\n"
      ]
    },
    {
      "cell_type": "code",
      "execution_count": null,
      "id": "ab2dd269",
      "metadata": {
        "id": "ab2dd269",
        "colab": {
          "base_uri": "https://localhost:8080/",
          "height": 156
        },
        "outputId": "34cd4e06-131f-4fb8-a898-0d9bd4d5ce74"
      },
      "outputs": [
        {
          "output_type": "error",
          "ename": "TypeError",
          "evalue": "'tuple' object does not support item assignment",
          "traceback": [
            "\u001b[0;31m---------------------------------------------------------------------------\u001b[0m",
            "\u001b[0;31mTypeError\u001b[0m                                 Traceback (most recent call last)",
            "\u001b[0;32m<ipython-input-141-eba597517669>\u001b[0m in \u001b[0;36m<cell line: 2>\u001b[0;34m()\u001b[0m\n\u001b[1;32m      1\u001b[0m \u001b[0;31m# you cannot modify a tuple\u001b[0m\u001b[0;34m\u001b[0m\u001b[0;34m\u001b[0m\u001b[0m\n\u001b[0;32m----> 2\u001b[0;31m \u001b[0mt\u001b[0m\u001b[0;34m[\u001b[0m\u001b[0;36m2\u001b[0m\u001b[0;34m]\u001b[0m \u001b[0;34m=\u001b[0m \u001b[0;34m'one'\u001b[0m\u001b[0;34m\u001b[0m\u001b[0;34m\u001b[0m\u001b[0m\n\u001b[0m",
            "\u001b[0;31mTypeError\u001b[0m: 'tuple' object does not support item assignment"
          ]
        }
      ],
      "source": [
        "# you cannot modify a tuple\n",
        "t[2] = 'one'"
      ]
    },
    {
      "cell_type": "markdown",
      "id": "46859bd8",
      "metadata": {
        "id": "46859bd8"
      },
      "source": [
        "Why use a tuple?\n",
        "Program execution is faster when manipulating a tuple than it is for the equivalent list. (This is probably not going to be noticeable when the list or tuple is small.)\n",
        "\n",
        "Sometimes you don’t want data to be modified. If the values in the collection are meant to remain constant for the life of the program, using a tuple instead of a list guards against accidental modification."
      ]
    },
    {
      "cell_type": "markdown",
      "id": "6f65270a",
      "metadata": {
        "id": "6f65270a"
      },
      "source": [
        "### Finally, dictionaries\n",
        "Dictionaries and lists share the following characteristics:\n",
        "\n",
        "- Both are mutable.\n",
        "- Both are dynamic. They can grow and shrink as needed.\n",
        "- Both can be nested. A list can contain another list. A dictionary can contain another dictionary. A dictionary can also contain a list, and vice versa.\n",
        "\n",
        "Dictionaries differ from lists primarily in how elements are accessed:\n",
        "\n",
        "- List elements are accessed by their position in the list, via indexing.\n",
        "- Dictionary elements are accessed via keys.\n",
        "\n",
        "`{key:value}`"
      ]
    },
    {
      "cell_type": "code",
      "execution_count": null,
      "id": "a629af63",
      "metadata": {
        "id": "a629af63",
        "colab": {
          "base_uri": "https://localhost:8080/"
        },
        "outputId": "66140338-0321-4dda-f8e9-5bfb1d9b570f"
      },
      "outputs": [
        {
          "output_type": "execute_result",
          "data": {
            "text/plain": [
              "{'USA': 'Baseball', 'Canada': 'Hockey', 'Mexico': 'Soccer'}"
            ]
          },
          "metadata": {},
          "execution_count": 152
        }
      ],
      "source": [
        "d ={'USA': 'Baseball', 'Canada' : 'Hockey', 'Mexico' : 'Soccer'}\n",
        "\n",
        "d"
      ]
    },
    {
      "cell_type": "code",
      "execution_count": null,
      "id": "0fb41624",
      "metadata": {
        "id": "0fb41624",
        "colab": {
          "base_uri": "https://localhost:8080/",
          "height": 35
        },
        "outputId": "40bc01ed-06e8-4503-a63f-a03a2a2faad8"
      },
      "outputs": [
        {
          "output_type": "execute_result",
          "data": {
            "text/plain": [
              "'Football'"
            ],
            "application/vnd.google.colaboratory.intrinsic+json": {
              "type": "string"
            }
          },
          "metadata": {},
          "execution_count": 156
        }
      ],
      "source": [
        "# To access a value, call the dictionary key\n",
        "d['USA']"
      ]
    },
    {
      "cell_type": "code",
      "execution_count": null,
      "id": "50c3d9ac",
      "metadata": {
        "id": "50c3d9ac",
        "colab": {
          "base_uri": "https://localhost:8080/"
        },
        "outputId": "5ea5f5c2-1603-4b83-dd26-5beb35cde6c5"
      },
      "outputs": [
        {
          "output_type": "execute_result",
          "data": {
            "text/plain": [
              "{'USA': 'Football',\n",
              " 'Canada': 'Hockey',\n",
              " 'Mexico': 'Soccer',\n",
              " 'chile': 'Bird watching'}"
            ]
          },
          "metadata": {},
          "execution_count": 155
        }
      ],
      "source": [
        "# Dictionaries can be changed\n",
        "d['USA']='Football'\n",
        "d"
      ]
    },
    {
      "cell_type": "code",
      "execution_count": null,
      "id": "f879a757",
      "metadata": {
        "id": "f879a757",
        "colab": {
          "base_uri": "https://localhost:8080/"
        },
        "outputId": "dbf4ed7b-a651-4417-c8aa-8c4f21f2b1c2"
      },
      "outputs": [
        {
          "output_type": "execute_result",
          "data": {
            "text/plain": [
              "{'USA': 'Baseball',\n",
              " 'Canada': 'Hockey',\n",
              " 'Mexico': 'Soccer',\n",
              " 'chile': 'Bird watching'}"
            ]
          },
          "metadata": {},
          "execution_count": 154
        }
      ],
      "source": [
        "# To add a new key value just assign a new one\n",
        "d['chile']='Bird watching'\n",
        "\n",
        "d"
      ]
    },
    {
      "cell_type": "code",
      "execution_count": null,
      "id": "2f1c3d60",
      "metadata": {
        "id": "2f1c3d60",
        "colab": {
          "base_uri": "https://localhost:8080/"
        },
        "outputId": "b714c61b-3675-4c4d-acf7-eafaf0baa27e"
      },
      "outputs": [
        {
          "output_type": "execute_result",
          "data": {
            "text/plain": [
              "{'USA': 'Baseball', 'Canada': 'Hockey', 'Mexico': 'Soccer', 'chile': 'Surfing'}"
            ]
          },
          "metadata": {},
          "execution_count": 153
        }
      ],
      "source": [
        "# Updating an entry works similarly\n",
        "d['chile']='Surfing'\n",
        "d"
      ]
    },
    {
      "cell_type": "code",
      "execution_count": null,
      "id": "7a889e3f",
      "metadata": {
        "id": "7a889e3f",
        "colab": {
          "base_uri": "https://localhost:8080/"
        },
        "outputId": "45fe90c5-67e9-42b7-c5e6-fd87b106cfbc"
      },
      "outputs": [
        {
          "output_type": "execute_result",
          "data": {
            "text/plain": [
              "{'USA': 'Football', 'Canada': 'Hockey', 'chile': 'Bird watching'}"
            ]
          },
          "metadata": {},
          "execution_count": 157
        }
      ],
      "source": [
        "# To delete an element use the del statement and the key\n",
        "\n",
        "del d['Mexico']\n",
        "d\n"
      ]
    },
    {
      "cell_type": "code",
      "execution_count": null,
      "id": "0334f47c",
      "metadata": {
        "id": "0334f47c",
        "colab": {
          "base_uri": "https://localhost:8080/"
        },
        "outputId": "8c21338f-599c-4329-e8c4-a2565c7a8b1c"
      },
      "outputs": [
        {
          "output_type": "execute_result",
          "data": {
            "text/plain": [
              "{3: 'd', 2: 'c', 1: 'b', 0: 'A'}"
            ]
          },
          "metadata": {},
          "execution_count": 158
        }
      ],
      "source": [
        "# Integers can also be used as keys\n",
        "d2={3:'d',2: 'c',1: 'b', 0:'A'}\n",
        "d2"
      ]
    },
    {
      "cell_type": "code",
      "execution_count": null,
      "id": "99be702d",
      "metadata": {
        "id": "99be702d",
        "colab": {
          "base_uri": "https://localhost:8080/",
          "height": 35
        },
        "outputId": "e890838c-ed60-4b36-94ec-cb4fa9c037cc"
      },
      "outputs": [
        {
          "output_type": "execute_result",
          "data": {
            "text/plain": [
              "'A'"
            ],
            "application/vnd.google.colaboratory.intrinsic+json": {
              "type": "string"
            }
          },
          "metadata": {},
          "execution_count": 159
        }
      ],
      "source": [
        "d2[0]"
      ]
    },
    {
      "cell_type": "code",
      "execution_count": null,
      "id": "15e701ad",
      "metadata": {
        "id": "15e701ad",
        "outputId": "c99c4b1a-4bf5-4000-d774-91b5edaa8627",
        "colab": {
          "base_uri": "https://localhost:8080/"
        }
      },
      "outputs": [
        {
          "output_type": "execute_result",
          "data": {
            "text/plain": [
              "{'names': ['Jon', 'Bob', 'Randy'],\n",
              " 'ages': [25, 26, 27],\n",
              " 'pets': {'dog': 'Max', 'cat': 'Butter', 'turtle': 'Speedy'}}"
            ]
          },
          "metadata": {},
          "execution_count": 160
        }
      ],
      "source": [
        "d3 = {}\n",
        "\n",
        "d3['names'] = ['Jon', 'Bob', 'Randy']\n",
        "d3['ages'] = [ 25, 26, 27]\n",
        "d3['pets'] = {'dog' : 'Max', 'cat' : 'Butter', 'turtle' : 'Speedy'}\n",
        "\n",
        "d3"
      ]
    },
    {
      "cell_type": "code",
      "execution_count": null,
      "id": "c944027e",
      "metadata": {
        "id": "c944027e",
        "colab": {
          "base_uri": "https://localhost:8080/",
          "height": 35
        },
        "outputId": "f72b20ee-c780-422d-fac3-4d9133656e07"
      },
      "outputs": [
        {
          "output_type": "execute_result",
          "data": {
            "text/plain": [
              "'Butter'"
            ],
            "application/vnd.google.colaboratory.intrinsic+json": {
              "type": "string"
            }
          },
          "metadata": {},
          "execution_count": 164
        }
      ],
      "source": [
        "# Access a nested dictionary value\n",
        "d3['pets']['cat']\n"
      ]
    },
    {
      "cell_type": "code",
      "execution_count": null,
      "id": "6b9ddfa5",
      "metadata": {
        "id": "6b9ddfa5",
        "colab": {
          "base_uri": "https://localhost:8080/"
        },
        "outputId": "dabee460-8380-467d-e807-1b184e189761"
      },
      "outputs": [
        {
          "output_type": "execute_result",
          "data": {
            "text/plain": [
              "27"
            ]
          },
          "metadata": {},
          "execution_count": 166
        }
      ],
      "source": [
        "# Access a nested list value\n",
        "\n",
        "d3['ages'][2]\n"
      ]
    },
    {
      "cell_type": "markdown",
      "id": "c7ee73a0",
      "metadata": {
        "id": "c7ee73a0"
      },
      "source": [
        "Some dictionary methods\n",
        "- keys()\n",
        "- values()\n",
        "- clear()\n",
        "- pop()"
      ]
    },
    {
      "cell_type": "code",
      "execution_count": null,
      "id": "0ead69bf",
      "metadata": {
        "id": "0ead69bf",
        "colab": {
          "base_uri": "https://localhost:8080/"
        },
        "outputId": "97c11553-7cab-4605-f184-f6544c7d4cfc"
      },
      "outputs": [
        {
          "output_type": "execute_result",
          "data": {
            "text/plain": [
              "dict_keys(['names', 'ages', 'pets'])"
            ]
          },
          "metadata": {},
          "execution_count": 167
        }
      ],
      "source": [
        "# Return keys in dictionary\n",
        "\n",
        "d3.keys()"
      ]
    },
    {
      "cell_type": "code",
      "execution_count": null,
      "id": "296fc747",
      "metadata": {
        "id": "296fc747",
        "colab": {
          "base_uri": "https://localhost:8080/"
        },
        "outputId": "e6eb63ed-44e9-4521-bebf-f23b90f467ee"
      },
      "outputs": [
        {
          "output_type": "execute_result",
          "data": {
            "text/plain": [
              "{'dog': 'Max', 'cat': 'Butter', 'turtle': 'Speedy'}"
            ]
          },
          "metadata": {},
          "execution_count": 168
        }
      ],
      "source": [
        "# Return values in dictionary\n",
        "d3.pop('pets')"
      ]
    },
    {
      "cell_type": "code",
      "execution_count": null,
      "id": "228dc067",
      "metadata": {
        "id": "228dc067"
      },
      "outputs": [],
      "source": [
        "d3.clear()"
      ]
    },
    {
      "cell_type": "code",
      "execution_count": null,
      "id": "119265b0",
      "metadata": {
        "id": "119265b0",
        "colab": {
          "base_uri": "https://localhost:8080/"
        },
        "outputId": "677505cc-cbc8-471a-b781-ada0f67c7b86"
      },
      "outputs": [
        {
          "output_type": "execute_result",
          "data": {
            "text/plain": [
              "{}"
            ]
          },
          "metadata": {},
          "execution_count": 170
        }
      ],
      "source": [
        "d3"
      ]
    },
    {
      "cell_type": "code",
      "execution_count": null,
      "id": "aec6f54e",
      "metadata": {
        "id": "aec6f54e"
      },
      "outputs": [],
      "source": [
        "# Clear a dictionary\n"
      ]
    },
    {
      "cell_type": "markdown",
      "id": "80ae6538",
      "metadata": {
        "id": "80ae6538"
      },
      "source": [
        "## Converting Data types\n",
        "- To convert to String `str()`\n",
        "- To convert to Integer `int()`\n",
        "- To convert to Float `float()`\n",
        "- To convert to Bool `bool()`"
      ]
    },
    {
      "cell_type": "code",
      "execution_count": null,
      "id": "9bb3accb",
      "metadata": {
        "id": "9bb3accb",
        "colab": {
          "base_uri": "https://localhost:8080/",
          "height": 35
        },
        "outputId": "aa8d8217-8b0d-4e28-97fb-b3eb99a8cfc3"
      },
      "outputs": [
        {
          "output_type": "execute_result",
          "data": {
            "text/plain": [
              "'23'"
            ],
            "application/vnd.google.colaboratory.intrinsic+json": {
              "type": "string"
            }
          },
          "metadata": {},
          "execution_count": 171
        }
      ],
      "source": [
        "age =23\n",
        "str(age)"
      ]
    },
    {
      "cell_type": "code",
      "execution_count": null,
      "id": "3d5febf9",
      "metadata": {
        "id": "3d5febf9",
        "colab": {
          "base_uri": "https://localhost:8080/"
        },
        "outputId": "3a71ade1-5bc4-419d-f904-be583df48194"
      },
      "outputs": [
        {
          "output_type": "stream",
          "name": "stdout",
          "text": [
            "23 year old\n"
          ]
        }
      ],
      "source": [
        "print(str(age)+' year old')"
      ]
    },
    {
      "cell_type": "markdown",
      "id": "74e8584c",
      "metadata": {
        "id": "74e8584c"
      },
      "source": [
        "## Exercises for participation credit\n",
        "Please complete the following exercises and upload your completed notebook to your Github repository for participation credit.\n",
        "\n",
        "We can use `input()` to catch input from the user. This is a string type variable."
      ]
    },
    {
      "cell_type": "code",
      "execution_count": null,
      "id": "311dbb98",
      "metadata": {
        "id": "311dbb98",
        "outputId": "bb5129ae-6ea0-44b1-95d8-cb669642a888",
        "colab": {
          "base_uri": "https://localhost:8080/"
        }
      },
      "outputs": [
        {
          "output_type": "stream",
          "name": "stdout",
          "text": [
            "Enter your value 8\n",
            "8\n"
          ]
        }
      ],
      "source": [
        "x = input('Enter your value ')\n",
        "print(x)"
      ]
    },
    {
      "cell_type": "markdown",
      "id": "d21d74a0",
      "metadata": {
        "id": "d21d74a0"
      },
      "source": [
        "1. Write a code that gets two integers from the user. Save the first input as `a` and the second value as `b`. Run and print the following operations:\n",
        " - a + b\n",
        " - a - b\n",
        " - a * b\n",
        " - a ** b\n",
        " - a / b"
      ]
    },
    {
      "cell_type": "code",
      "source": [
        "a = input('Enter your a value')\n",
        "\n",
        "b = input('Enter your b value')\n",
        "\n",
        "sum = int(a)+int(b)\n",
        "sub = int(a)-int(b)\n",
        "multi = int(a)*int(b)\n",
        "mod = int(a)**int(b)\n",
        "div = int(a)/int(b)\n",
        "\n",
        "print(\"The sum is \" ,  sum)\n",
        "print(\"The sub is \" , sub)\n",
        "print(\"The multi is \" , multi )\n",
        "print(\"The mod is \" , mod)\n",
        "print(\"The div is \", div)\n"
      ],
      "metadata": {
        "id": "4xIcQonuzZax",
        "colab": {
          "base_uri": "https://localhost:8080/"
        },
        "outputId": "5ee472a5-71d3-4afc-ebaa-7738ac066369"
      },
      "id": "4xIcQonuzZax",
      "execution_count": null,
      "outputs": [
        {
          "output_type": "stream",
          "name": "stdout",
          "text": [
            "Enter your a value8\n",
            "Enter your b value8\n",
            "The sum is  16\n",
            "The sub is  0\n",
            "The multi is  64\n",
            "The mod is  16777216\n",
            "The div is  1.0\n"
          ]
        }
      ]
    },
    {
      "cell_type": "markdown",
      "id": "c9cf9f05",
      "metadata": {
        "id": "c9cf9f05"
      },
      "source": [
        "2. Reverse this list aList = [100, 200, 300, 400, 500]. Expected result = [500, 400, 300, 200, 100]"
      ]
    },
    {
      "cell_type": "code",
      "source": [
        " aList = [100, 200, 300, 400, 500]\n",
        "\n",
        "aList[::-1]\n"
      ],
      "metadata": {
        "colab": {
          "base_uri": "https://localhost:8080/"
        },
        "id": "lpRnh-TBuSJf",
        "outputId": "684c1dbd-61da-49fa-8035-8e043acf1ddf"
      },
      "id": "lpRnh-TBuSJf",
      "execution_count": null,
      "outputs": [
        {
          "output_type": "execute_result",
          "data": {
            "text/plain": [
              "[500, 400, 300, 200, 100]"
            ]
          },
          "metadata": {},
          "execution_count": 23
        }
      ]
    },
    {
      "cell_type": "markdown",
      "id": "7793dda3",
      "metadata": {
        "id": "7793dda3"
      },
      "source": [
        "3. Create the following list ` ['My', 'name', 'is', 'Kelly']`\n",
        "\n",
        "Using only these two lists:\n",
        "- `list1 = [\"M\", \"na\", \"i\", \"Ke\"]`\n",
        "- `list2 = [\"y\", \"me\", \"s\", \"lly\"]`"
      ]
    },
    {
      "cell_type": "code",
      "source": [
        "list1 = [\"M\", \"na\", \"i\", \"ke\"]\n",
        "\n",
        "list2 = [\"y\", \"me\", \"s\", \"ke\"]\n",
        "\n",
        "print(list1[0]+list2[0] +) list1[1]\n",
        "\n",
        "\n",
        "\n",
        "\n",
        "\n",
        "\n",
        "\n"
      ],
      "metadata": {
        "colab": {
          "base_uri": "https://localhost:8080/"
        },
        "id": "YGGjDUjKQpXD",
        "outputId": "32d60ba9-d602-4ca8-9efe-2cd6550d27ce"
      },
      "id": "YGGjDUjKQpXD",
      "execution_count": 2,
      "outputs": [
        {
          "output_type": "stream",
          "name": "stdout",
          "text": [
            "My\n"
          ]
        }
      ]
    },
    {
      "cell_type": "code",
      "source": [],
      "metadata": {
        "id": "Md985fZEflv0"
      },
      "id": "Md985fZEflv0",
      "execution_count": null,
      "outputs": []
    },
    {
      "cell_type": "markdown",
      "id": "e9f296ee",
      "metadata": {
        "id": "e9f296ee"
      },
      "source": [
        "4. Split the following list in 3 equal sized lists. Invert the the new lists\n",
        "- Original list [11, 45, 8, 23, 14, 12, 78, 45, 89]\n",
        "\n",
        "\n",
        "- Chunk 1 [11, 45, 8]\n",
        "\n",
        "After reversing it [8, 45, 11]\n",
        "\n",
        "- Chunk 2 [23, 14, 12]\n",
        "\n",
        "After reversing it [12, 14, 23]\n",
        "\n",
        "- Chunk 3 [78, 45, 89]\n",
        "\n",
        "After reversing it [89, 45, 78]"
      ]
    },
    {
      "cell_type": "code",
      "execution_count": 8,
      "id": "b02e2848",
      "metadata": {
        "id": "b02e2848",
        "colab": {
          "base_uri": "https://localhost:8080/"
        },
        "outputId": "2ec9085c-188b-48f4-c5d9-616beac00e9b"
      },
      "outputs": [
        {
          "output_type": "stream",
          "name": "stdout",
          "text": [
            "[8, 45, 11]\n",
            "[12, 14, 23]\n",
            "[89, 45, 78]\n"
          ]
        }
      ],
      "source": [
        "list_1 = [11,45,8,23,14,12,78,45,89]\n",
        "##list_1[0:3]\n",
        "\n",
        "list_2 = [11,45,8],[23,14,12],[78,45,89]\n",
        "\n",
        "list_2[0].reverse()\n",
        "print(list_2[0])\n",
        "list_2[1].reverse()\n",
        "print(list_2[1])\n",
        "list_2[2].reverse()\n",
        "print(list_2[2])\n",
        "\n",
        "\n",
        "\n",
        "\n",
        "\n",
        "\n",
        "\n",
        "\n",
        "\n"
      ]
    }
  ],
  "metadata": {
    "kernelspec": {
      "display_name": "Python 3 (ipykernel)",
      "language": "python",
      "name": "python3"
    },
    "language_info": {
      "codemirror_mode": {
        "name": "ipython",
        "version": 3
      },
      "file_extension": ".py",
      "mimetype": "text/x-python",
      "name": "python",
      "nbconvert_exporter": "python",
      "pygments_lexer": "ipython3",
      "version": "3.10.4"
    },
    "colab": {
      "provenance": [],
      "include_colab_link": true
    }
  },
  "nbformat": 4,
  "nbformat_minor": 5
}