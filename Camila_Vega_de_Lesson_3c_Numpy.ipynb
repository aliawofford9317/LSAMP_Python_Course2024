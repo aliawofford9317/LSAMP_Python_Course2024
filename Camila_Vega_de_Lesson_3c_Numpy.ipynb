{
  "cells": [
    {
      "cell_type": "markdown",
      "id": "33e7cd2d",
      "metadata": {
        "id": "33e7cd2d"
      },
      "source": [
        "## Numpy\n",
        "\n",
        "Numpy is a numerical library that makes it easy to work with big arrays and matrices.\n",
        "\n",
        "It can be used to make fast arithmetic operations with matrixes. Pandas and Numpy are usually used together, as Pandas builds on NumPy functionality to work with DataFrames.\n",
        "\n",
        "Since Pandas is designed to work with Numpy, almost any Numpy function will work with Pandas Series and DataFrames, lets run some examples."
      ]
    },
    {
      "cell_type": "code",
      "execution_count": null,
      "id": "aa244662",
      "metadata": {
        "id": "aa244662"
      },
      "outputs": [],
      "source": [
        "import numpy as np\n",
        "import pandas as pd"
      ]
    },
    {
      "cell_type": "code",
      "source": [
        "def fetch_data():\n",
        "  import os, shutil\n",
        "  cwd = os.getcwd()\n",
        "  if os.path.exists(\"LSAMP_Python_Course2024\"):\n",
        "    shutil.rmtree(\"LSAMP_Python_Course2024\")\n",
        "  !git clone https://github.com/aliawofford9317/LSAMP_Python_Course2024.git\n",
        "  for file in os.listdir(\"LSAMP_Python_Course2024\"):\n",
        "    if file.endswith((\".txt\",\".csv\")):\n",
        "      shutil.copy(\"LSAMP_Python_Course2024/{}\".format(file),cwd)\n",
        "fetch_data()"
      ],
      "metadata": {
        "id": "zxMPiQt6DQdS",
        "colab": {
          "base_uri": "https://localhost:8080/"
        },
        "outputId": "b933e594-08ba-471c-ee7e-d77b1be80c0f"
      },
      "id": "zxMPiQt6DQdS",
      "execution_count": null,
      "outputs": [
        {
          "output_type": "stream",
          "name": "stdout",
          "text": [
            "Cloning into 'LSAMP_Python_Course2024'...\n",
            "remote: Enumerating objects: 210, done.\u001b[K\n",
            "remote: Counting objects: 100% (140/140), done.\u001b[K\n",
            "remote: Compressing objects: 100% (136/136), done.\u001b[K\n",
            "remote: Total 210 (delta 72), reused 1 (delta 1), pack-reused 70\u001b[K\n",
            "Receiving objects: 100% (210/210), 2.48 MiB | 3.06 MiB/s, done.\n",
            "Resolving deltas: 100% (108/108), done.\n"
          ]
        }
      ]
    },
    {
      "cell_type": "code",
      "execution_count": null,
      "id": "e43fd3b8",
      "metadata": {
        "id": "e43fd3b8",
        "colab": {
          "base_uri": "https://localhost:8080/"
        },
        "outputId": "ed02f2ee-ce76-47f3-d859-72bc90974f97"
      },
      "outputs": [
        {
          "output_type": "execute_result",
          "data": {
            "text/plain": [
              "0    7\n",
              "1    5\n",
              "2    0\n",
              "3    4\n",
              "dtype: int64"
            ]
          },
          "metadata": {},
          "execution_count": 3
        }
      ],
      "source": [
        "# Create a container for a pseudo random generator\n",
        "rng = np.random.RandomState()\n",
        "# Create a Pandas Series from our random generator\n",
        "series = pd.Series(rng.randint(0, 10, 4))\n",
        "series"
      ]
    },
    {
      "cell_type": "code",
      "execution_count": null,
      "id": "232435b3",
      "metadata": {
        "id": "232435b3",
        "colab": {
          "base_uri": "https://localhost:8080/",
          "height": 143
        },
        "outputId": "008b4fe7-a5e3-4473-8275-8c2476e9ae61"
      },
      "outputs": [
        {
          "output_type": "execute_result",
          "data": {
            "text/plain": [
              "   A  B  C  D\n",
              "0  6  6  3  7\n",
              "1  8  3  2  1\n",
              "2  3  1  7  6"
            ],
            "text/html": [
              "\n",
              "  <div id=\"df-7f156d7e-8348-4f5a-8337-bbcf8957cd76\" class=\"colab-df-container\">\n",
              "    <div>\n",
              "<style scoped>\n",
              "    .dataframe tbody tr th:only-of-type {\n",
              "        vertical-align: middle;\n",
              "    }\n",
              "\n",
              "    .dataframe tbody tr th {\n",
              "        vertical-align: top;\n",
              "    }\n",
              "\n",
              "    .dataframe thead th {\n",
              "        text-align: right;\n",
              "    }\n",
              "</style>\n",
              "<table border=\"1\" class=\"dataframe\">\n",
              "  <thead>\n",
              "    <tr style=\"text-align: right;\">\n",
              "      <th></th>\n",
              "      <th>A</th>\n",
              "      <th>B</th>\n",
              "      <th>C</th>\n",
              "      <th>D</th>\n",
              "    </tr>\n",
              "  </thead>\n",
              "  <tbody>\n",
              "    <tr>\n",
              "      <th>0</th>\n",
              "      <td>6</td>\n",
              "      <td>6</td>\n",
              "      <td>3</td>\n",
              "      <td>7</td>\n",
              "    </tr>\n",
              "    <tr>\n",
              "      <th>1</th>\n",
              "      <td>8</td>\n",
              "      <td>3</td>\n",
              "      <td>2</td>\n",
              "      <td>1</td>\n",
              "    </tr>\n",
              "    <tr>\n",
              "      <th>2</th>\n",
              "      <td>3</td>\n",
              "      <td>1</td>\n",
              "      <td>7</td>\n",
              "      <td>6</td>\n",
              "    </tr>\n",
              "  </tbody>\n",
              "</table>\n",
              "</div>\n",
              "    <div class=\"colab-df-buttons\">\n",
              "\n",
              "  <div class=\"colab-df-container\">\n",
              "    <button class=\"colab-df-convert\" onclick=\"convertToInteractive('df-7f156d7e-8348-4f5a-8337-bbcf8957cd76')\"\n",
              "            title=\"Convert this dataframe to an interactive table.\"\n",
              "            style=\"display:none;\">\n",
              "\n",
              "  <svg xmlns=\"http://www.w3.org/2000/svg\" height=\"24px\" viewBox=\"0 -960 960 960\">\n",
              "    <path d=\"M120-120v-720h720v720H120Zm60-500h600v-160H180v160Zm220 220h160v-160H400v160Zm0 220h160v-160H400v160ZM180-400h160v-160H180v160Zm440 0h160v-160H620v160ZM180-180h160v-160H180v160Zm440 0h160v-160H620v160Z\"/>\n",
              "  </svg>\n",
              "    </button>\n",
              "\n",
              "  <style>\n",
              "    .colab-df-container {\n",
              "      display:flex;\n",
              "      gap: 12px;\n",
              "    }\n",
              "\n",
              "    .colab-df-convert {\n",
              "      background-color: #E8F0FE;\n",
              "      border: none;\n",
              "      border-radius: 50%;\n",
              "      cursor: pointer;\n",
              "      display: none;\n",
              "      fill: #1967D2;\n",
              "      height: 32px;\n",
              "      padding: 0 0 0 0;\n",
              "      width: 32px;\n",
              "    }\n",
              "\n",
              "    .colab-df-convert:hover {\n",
              "      background-color: #E2EBFA;\n",
              "      box-shadow: 0px 1px 2px rgba(60, 64, 67, 0.3), 0px 1px 3px 1px rgba(60, 64, 67, 0.15);\n",
              "      fill: #174EA6;\n",
              "    }\n",
              "\n",
              "    .colab-df-buttons div {\n",
              "      margin-bottom: 4px;\n",
              "    }\n",
              "\n",
              "    [theme=dark] .colab-df-convert {\n",
              "      background-color: #3B4455;\n",
              "      fill: #D2E3FC;\n",
              "    }\n",
              "\n",
              "    [theme=dark] .colab-df-convert:hover {\n",
              "      background-color: #434B5C;\n",
              "      box-shadow: 0px 1px 3px 1px rgba(0, 0, 0, 0.15);\n",
              "      filter: drop-shadow(0px 1px 2px rgba(0, 0, 0, 0.3));\n",
              "      fill: #FFFFFF;\n",
              "    }\n",
              "  </style>\n",
              "\n",
              "    <script>\n",
              "      const buttonEl =\n",
              "        document.querySelector('#df-7f156d7e-8348-4f5a-8337-bbcf8957cd76 button.colab-df-convert');\n",
              "      buttonEl.style.display =\n",
              "        google.colab.kernel.accessAllowed ? 'block' : 'none';\n",
              "\n",
              "      async function convertToInteractive(key) {\n",
              "        const element = document.querySelector('#df-7f156d7e-8348-4f5a-8337-bbcf8957cd76');\n",
              "        const dataTable =\n",
              "          await google.colab.kernel.invokeFunction('convertToInteractive',\n",
              "                                                    [key], {});\n",
              "        if (!dataTable) return;\n",
              "\n",
              "        const docLinkHtml = 'Like what you see? Visit the ' +\n",
              "          '<a target=\"_blank\" href=https://colab.research.google.com/notebooks/data_table.ipynb>data table notebook</a>'\n",
              "          + ' to learn more about interactive tables.';\n",
              "        element.innerHTML = '';\n",
              "        dataTable['output_type'] = 'display_data';\n",
              "        await google.colab.output.renderOutput(dataTable, element);\n",
              "        const docLink = document.createElement('div');\n",
              "        docLink.innerHTML = docLinkHtml;\n",
              "        element.appendChild(docLink);\n",
              "      }\n",
              "    </script>\n",
              "  </div>\n",
              "\n",
              "\n",
              "<div id=\"df-2bf4ce21-2c87-4877-9dea-8557ade04765\">\n",
              "  <button class=\"colab-df-quickchart\" onclick=\"quickchart('df-2bf4ce21-2c87-4877-9dea-8557ade04765')\"\n",
              "            title=\"Suggest charts\"\n",
              "            style=\"display:none;\">\n",
              "\n",
              "<svg xmlns=\"http://www.w3.org/2000/svg\" height=\"24px\"viewBox=\"0 0 24 24\"\n",
              "     width=\"24px\">\n",
              "    <g>\n",
              "        <path d=\"M19 3H5c-1.1 0-2 .9-2 2v14c0 1.1.9 2 2 2h14c1.1 0 2-.9 2-2V5c0-1.1-.9-2-2-2zM9 17H7v-7h2v7zm4 0h-2V7h2v10zm4 0h-2v-4h2v4z\"/>\n",
              "    </g>\n",
              "</svg>\n",
              "  </button>\n",
              "\n",
              "<style>\n",
              "  .colab-df-quickchart {\n",
              "      --bg-color: #E8F0FE;\n",
              "      --fill-color: #1967D2;\n",
              "      --hover-bg-color: #E2EBFA;\n",
              "      --hover-fill-color: #174EA6;\n",
              "      --disabled-fill-color: #AAA;\n",
              "      --disabled-bg-color: #DDD;\n",
              "  }\n",
              "\n",
              "  [theme=dark] .colab-df-quickchart {\n",
              "      --bg-color: #3B4455;\n",
              "      --fill-color: #D2E3FC;\n",
              "      --hover-bg-color: #434B5C;\n",
              "      --hover-fill-color: #FFFFFF;\n",
              "      --disabled-bg-color: #3B4455;\n",
              "      --disabled-fill-color: #666;\n",
              "  }\n",
              "\n",
              "  .colab-df-quickchart {\n",
              "    background-color: var(--bg-color);\n",
              "    border: none;\n",
              "    border-radius: 50%;\n",
              "    cursor: pointer;\n",
              "    display: none;\n",
              "    fill: var(--fill-color);\n",
              "    height: 32px;\n",
              "    padding: 0;\n",
              "    width: 32px;\n",
              "  }\n",
              "\n",
              "  .colab-df-quickchart:hover {\n",
              "    background-color: var(--hover-bg-color);\n",
              "    box-shadow: 0 1px 2px rgba(60, 64, 67, 0.3), 0 1px 3px 1px rgba(60, 64, 67, 0.15);\n",
              "    fill: var(--button-hover-fill-color);\n",
              "  }\n",
              "\n",
              "  .colab-df-quickchart-complete:disabled,\n",
              "  .colab-df-quickchart-complete:disabled:hover {\n",
              "    background-color: var(--disabled-bg-color);\n",
              "    fill: var(--disabled-fill-color);\n",
              "    box-shadow: none;\n",
              "  }\n",
              "\n",
              "  .colab-df-spinner {\n",
              "    border: 2px solid var(--fill-color);\n",
              "    border-color: transparent;\n",
              "    border-bottom-color: var(--fill-color);\n",
              "    animation:\n",
              "      spin 1s steps(1) infinite;\n",
              "  }\n",
              "\n",
              "  @keyframes spin {\n",
              "    0% {\n",
              "      border-color: transparent;\n",
              "      border-bottom-color: var(--fill-color);\n",
              "      border-left-color: var(--fill-color);\n",
              "    }\n",
              "    20% {\n",
              "      border-color: transparent;\n",
              "      border-left-color: var(--fill-color);\n",
              "      border-top-color: var(--fill-color);\n",
              "    }\n",
              "    30% {\n",
              "      border-color: transparent;\n",
              "      border-left-color: var(--fill-color);\n",
              "      border-top-color: var(--fill-color);\n",
              "      border-right-color: var(--fill-color);\n",
              "    }\n",
              "    40% {\n",
              "      border-color: transparent;\n",
              "      border-right-color: var(--fill-color);\n",
              "      border-top-color: var(--fill-color);\n",
              "    }\n",
              "    60% {\n",
              "      border-color: transparent;\n",
              "      border-right-color: var(--fill-color);\n",
              "    }\n",
              "    80% {\n",
              "      border-color: transparent;\n",
              "      border-right-color: var(--fill-color);\n",
              "      border-bottom-color: var(--fill-color);\n",
              "    }\n",
              "    90% {\n",
              "      border-color: transparent;\n",
              "      border-bottom-color: var(--fill-color);\n",
              "    }\n",
              "  }\n",
              "</style>\n",
              "\n",
              "  <script>\n",
              "    async function quickchart(key) {\n",
              "      const quickchartButtonEl =\n",
              "        document.querySelector('#' + key + ' button');\n",
              "      quickchartButtonEl.disabled = true;  // To prevent multiple clicks.\n",
              "      quickchartButtonEl.classList.add('colab-df-spinner');\n",
              "      try {\n",
              "        const charts = await google.colab.kernel.invokeFunction(\n",
              "            'suggestCharts', [key], {});\n",
              "      } catch (error) {\n",
              "        console.error('Error during call to suggestCharts:', error);\n",
              "      }\n",
              "      quickchartButtonEl.classList.remove('colab-df-spinner');\n",
              "      quickchartButtonEl.classList.add('colab-df-quickchart-complete');\n",
              "    }\n",
              "    (() => {\n",
              "      let quickchartButtonEl =\n",
              "        document.querySelector('#df-2bf4ce21-2c87-4877-9dea-8557ade04765 button');\n",
              "      quickchartButtonEl.style.display =\n",
              "        google.colab.kernel.accessAllowed ? 'block' : 'none';\n",
              "    })();\n",
              "  </script>\n",
              "</div>\n",
              "\n",
              "  <div id=\"id_5591ead0-5f7c-4abb-9302-a868f7735558\">\n",
              "    <style>\n",
              "      .colab-df-generate {\n",
              "        background-color: #E8F0FE;\n",
              "        border: none;\n",
              "        border-radius: 50%;\n",
              "        cursor: pointer;\n",
              "        display: none;\n",
              "        fill: #1967D2;\n",
              "        height: 32px;\n",
              "        padding: 0 0 0 0;\n",
              "        width: 32px;\n",
              "      }\n",
              "\n",
              "      .colab-df-generate:hover {\n",
              "        background-color: #E2EBFA;\n",
              "        box-shadow: 0px 1px 2px rgba(60, 64, 67, 0.3), 0px 1px 3px 1px rgba(60, 64, 67, 0.15);\n",
              "        fill: #174EA6;\n",
              "      }\n",
              "\n",
              "      [theme=dark] .colab-df-generate {\n",
              "        background-color: #3B4455;\n",
              "        fill: #D2E3FC;\n",
              "      }\n",
              "\n",
              "      [theme=dark] .colab-df-generate:hover {\n",
              "        background-color: #434B5C;\n",
              "        box-shadow: 0px 1px 3px 1px rgba(0, 0, 0, 0.15);\n",
              "        filter: drop-shadow(0px 1px 2px rgba(0, 0, 0, 0.3));\n",
              "        fill: #FFFFFF;\n",
              "      }\n",
              "    </style>\n",
              "    <button class=\"colab-df-generate\" onclick=\"generateWithVariable('df')\"\n",
              "            title=\"Generate code using this dataframe.\"\n",
              "            style=\"display:none;\">\n",
              "\n",
              "  <svg xmlns=\"http://www.w3.org/2000/svg\" height=\"24px\"viewBox=\"0 0 24 24\"\n",
              "       width=\"24px\">\n",
              "    <path d=\"M7,19H8.4L18.45,9,17,7.55,7,17.6ZM5,21V16.75L18.45,3.32a2,2,0,0,1,2.83,0l1.4,1.43a1.91,1.91,0,0,1,.58,1.4,1.91,1.91,0,0,1-.58,1.4L9.25,21ZM18.45,9,17,7.55Zm-12,3A5.31,5.31,0,0,0,4.9,8.1,5.31,5.31,0,0,0,1,6.5,5.31,5.31,0,0,0,4.9,4.9,5.31,5.31,0,0,0,6.5,1,5.31,5.31,0,0,0,8.1,4.9,5.31,5.31,0,0,0,12,6.5,5.46,5.46,0,0,0,6.5,12Z\"/>\n",
              "  </svg>\n",
              "    </button>\n",
              "    <script>\n",
              "      (() => {\n",
              "      const buttonEl =\n",
              "        document.querySelector('#id_5591ead0-5f7c-4abb-9302-a868f7735558 button.colab-df-generate');\n",
              "      buttonEl.style.display =\n",
              "        google.colab.kernel.accessAllowed ? 'block' : 'none';\n",
              "\n",
              "      buttonEl.onclick = () => {\n",
              "        google.colab.notebook.generateWithVariable('df');\n",
              "      }\n",
              "      })();\n",
              "    </script>\n",
              "  </div>\n",
              "\n",
              "    </div>\n",
              "  </div>\n"
            ],
            "application/vnd.google.colaboratory.intrinsic+json": {
              "type": "dataframe",
              "variable_name": "df",
              "summary": "{\n  \"name\": \"df\",\n  \"rows\": 3,\n  \"fields\": [\n    {\n      \"column\": \"A\",\n      \"properties\": {\n        \"dtype\": \"number\",\n        \"std\": 2,\n        \"min\": 3,\n        \"max\": 8,\n        \"num_unique_values\": 3,\n        \"samples\": [\n          6,\n          8,\n          3\n        ],\n        \"semantic_type\": \"\",\n        \"description\": \"\"\n      }\n    },\n    {\n      \"column\": \"B\",\n      \"properties\": {\n        \"dtype\": \"number\",\n        \"std\": 2,\n        \"min\": 1,\n        \"max\": 6,\n        \"num_unique_values\": 3,\n        \"samples\": [\n          6,\n          3,\n          1\n        ],\n        \"semantic_type\": \"\",\n        \"description\": \"\"\n      }\n    },\n    {\n      \"column\": \"C\",\n      \"properties\": {\n        \"dtype\": \"number\",\n        \"std\": 2,\n        \"min\": 2,\n        \"max\": 7,\n        \"num_unique_values\": 3,\n        \"samples\": [\n          3,\n          2,\n          7\n        ],\n        \"semantic_type\": \"\",\n        \"description\": \"\"\n      }\n    },\n    {\n      \"column\": \"D\",\n      \"properties\": {\n        \"dtype\": \"number\",\n        \"std\": 3,\n        \"min\": 1,\n        \"max\": 7,\n        \"num_unique_values\": 3,\n        \"samples\": [\n          7,\n          1,\n          6\n        ],\n        \"semantic_type\": \"\",\n        \"description\": \"\"\n      }\n    }\n  ]\n}"
            }
          },
          "metadata": {},
          "execution_count": 4
        }
      ],
      "source": [
        "# Create a Pandas Dataframe with our Numpy random generator\n",
        "# Integer numbers between 0 and 10, 3 rows and 4 columns\n",
        "df = pd.DataFrame(rng.randint(0, 10, (3, 4)),\n",
        "                 columns=['A', 'B', 'C', 'D'])\n",
        "df"
      ]
    },
    {
      "cell_type": "markdown",
      "id": "4d4ed5ee",
      "metadata": {
        "id": "4d4ed5ee"
      },
      "source": [
        "We can use a Numpy function on these Pandas objects and still keep our indexes for order"
      ]
    },
    {
      "cell_type": "code",
      "execution_count": null,
      "id": "5224bee5",
      "metadata": {
        "id": "5224bee5",
        "colab": {
          "base_uri": "https://localhost:8080/"
        },
        "outputId": "d39c137e-7ae8-4df5-91b9-b62b463b86bd"
      },
      "outputs": [
        {
          "output_type": "execute_result",
          "data": {
            "text/plain": [
              "0    1096.633158\n",
              "1     148.413159\n",
              "2       1.000000\n",
              "3      54.598150\n",
              "dtype: float64"
            ]
          },
          "metadata": {},
          "execution_count": 5
        }
      ],
      "source": [
        "# Calculate e^x, where x is every element of our array\n",
        "np.exp(series)"
      ]
    },
    {
      "cell_type": "code",
      "execution_count": null,
      "id": "35bafe79",
      "metadata": {
        "id": "35bafe79",
        "colab": {
          "base_uri": "https://localhost:8080/",
          "height": 143
        },
        "outputId": "8a419eb9-b0cd-47ff-fff2-389069a8036e"
      },
      "outputs": [
        {
          "output_type": "execute_result",
          "data": {
            "text/plain": [
              "              A         B         C         D\n",
              "0 -1.000000e+00 -1.000000  0.707107 -0.707107\n",
              "1 -2.449294e-16  0.707107  1.000000  0.707107\n",
              "2  7.071068e-01  0.707107 -0.707107 -1.000000"
            ],
            "text/html": [
              "\n",
              "  <div id=\"df-fb12919d-4451-4f7f-bcb3-713582d17984\" class=\"colab-df-container\">\n",
              "    <div>\n",
              "<style scoped>\n",
              "    .dataframe tbody tr th:only-of-type {\n",
              "        vertical-align: middle;\n",
              "    }\n",
              "\n",
              "    .dataframe tbody tr th {\n",
              "        vertical-align: top;\n",
              "    }\n",
              "\n",
              "    .dataframe thead th {\n",
              "        text-align: right;\n",
              "    }\n",
              "</style>\n",
              "<table border=\"1\" class=\"dataframe\">\n",
              "  <thead>\n",
              "    <tr style=\"text-align: right;\">\n",
              "      <th></th>\n",
              "      <th>A</th>\n",
              "      <th>B</th>\n",
              "      <th>C</th>\n",
              "      <th>D</th>\n",
              "    </tr>\n",
              "  </thead>\n",
              "  <tbody>\n",
              "    <tr>\n",
              "      <th>0</th>\n",
              "      <td>-1.000000e+00</td>\n",
              "      <td>-1.000000</td>\n",
              "      <td>0.707107</td>\n",
              "      <td>-0.707107</td>\n",
              "    </tr>\n",
              "    <tr>\n",
              "      <th>1</th>\n",
              "      <td>-2.449294e-16</td>\n",
              "      <td>0.707107</td>\n",
              "      <td>1.000000</td>\n",
              "      <td>0.707107</td>\n",
              "    </tr>\n",
              "    <tr>\n",
              "      <th>2</th>\n",
              "      <td>7.071068e-01</td>\n",
              "      <td>0.707107</td>\n",
              "      <td>-0.707107</td>\n",
              "      <td>-1.000000</td>\n",
              "    </tr>\n",
              "  </tbody>\n",
              "</table>\n",
              "</div>\n",
              "    <div class=\"colab-df-buttons\">\n",
              "\n",
              "  <div class=\"colab-df-container\">\n",
              "    <button class=\"colab-df-convert\" onclick=\"convertToInteractive('df-fb12919d-4451-4f7f-bcb3-713582d17984')\"\n",
              "            title=\"Convert this dataframe to an interactive table.\"\n",
              "            style=\"display:none;\">\n",
              "\n",
              "  <svg xmlns=\"http://www.w3.org/2000/svg\" height=\"24px\" viewBox=\"0 -960 960 960\">\n",
              "    <path d=\"M120-120v-720h720v720H120Zm60-500h600v-160H180v160Zm220 220h160v-160H400v160Zm0 220h160v-160H400v160ZM180-400h160v-160H180v160Zm440 0h160v-160H620v160ZM180-180h160v-160H180v160Zm440 0h160v-160H620v160Z\"/>\n",
              "  </svg>\n",
              "    </button>\n",
              "\n",
              "  <style>\n",
              "    .colab-df-container {\n",
              "      display:flex;\n",
              "      gap: 12px;\n",
              "    }\n",
              "\n",
              "    .colab-df-convert {\n",
              "      background-color: #E8F0FE;\n",
              "      border: none;\n",
              "      border-radius: 50%;\n",
              "      cursor: pointer;\n",
              "      display: none;\n",
              "      fill: #1967D2;\n",
              "      height: 32px;\n",
              "      padding: 0 0 0 0;\n",
              "      width: 32px;\n",
              "    }\n",
              "\n",
              "    .colab-df-convert:hover {\n",
              "      background-color: #E2EBFA;\n",
              "      box-shadow: 0px 1px 2px rgba(60, 64, 67, 0.3), 0px 1px 3px 1px rgba(60, 64, 67, 0.15);\n",
              "      fill: #174EA6;\n",
              "    }\n",
              "\n",
              "    .colab-df-buttons div {\n",
              "      margin-bottom: 4px;\n",
              "    }\n",
              "\n",
              "    [theme=dark] .colab-df-convert {\n",
              "      background-color: #3B4455;\n",
              "      fill: #D2E3FC;\n",
              "    }\n",
              "\n",
              "    [theme=dark] .colab-df-convert:hover {\n",
              "      background-color: #434B5C;\n",
              "      box-shadow: 0px 1px 3px 1px rgba(0, 0, 0, 0.15);\n",
              "      filter: drop-shadow(0px 1px 2px rgba(0, 0, 0, 0.3));\n",
              "      fill: #FFFFFF;\n",
              "    }\n",
              "  </style>\n",
              "\n",
              "    <script>\n",
              "      const buttonEl =\n",
              "        document.querySelector('#df-fb12919d-4451-4f7f-bcb3-713582d17984 button.colab-df-convert');\n",
              "      buttonEl.style.display =\n",
              "        google.colab.kernel.accessAllowed ? 'block' : 'none';\n",
              "\n",
              "      async function convertToInteractive(key) {\n",
              "        const element = document.querySelector('#df-fb12919d-4451-4f7f-bcb3-713582d17984');\n",
              "        const dataTable =\n",
              "          await google.colab.kernel.invokeFunction('convertToInteractive',\n",
              "                                                    [key], {});\n",
              "        if (!dataTable) return;\n",
              "\n",
              "        const docLinkHtml = 'Like what you see? Visit the ' +\n",
              "          '<a target=\"_blank\" href=https://colab.research.google.com/notebooks/data_table.ipynb>data table notebook</a>'\n",
              "          + ' to learn more about interactive tables.';\n",
              "        element.innerHTML = '';\n",
              "        dataTable['output_type'] = 'display_data';\n",
              "        await google.colab.output.renderOutput(dataTable, element);\n",
              "        const docLink = document.createElement('div');\n",
              "        docLink.innerHTML = docLinkHtml;\n",
              "        element.appendChild(docLink);\n",
              "      }\n",
              "    </script>\n",
              "  </div>\n",
              "\n",
              "\n",
              "<div id=\"df-701ed520-a2ac-43d6-af78-4a6790e56f10\">\n",
              "  <button class=\"colab-df-quickchart\" onclick=\"quickchart('df-701ed520-a2ac-43d6-af78-4a6790e56f10')\"\n",
              "            title=\"Suggest charts\"\n",
              "            style=\"display:none;\">\n",
              "\n",
              "<svg xmlns=\"http://www.w3.org/2000/svg\" height=\"24px\"viewBox=\"0 0 24 24\"\n",
              "     width=\"24px\">\n",
              "    <g>\n",
              "        <path d=\"M19 3H5c-1.1 0-2 .9-2 2v14c0 1.1.9 2 2 2h14c1.1 0 2-.9 2-2V5c0-1.1-.9-2-2-2zM9 17H7v-7h2v7zm4 0h-2V7h2v10zm4 0h-2v-4h2v4z\"/>\n",
              "    </g>\n",
              "</svg>\n",
              "  </button>\n",
              "\n",
              "<style>\n",
              "  .colab-df-quickchart {\n",
              "      --bg-color: #E8F0FE;\n",
              "      --fill-color: #1967D2;\n",
              "      --hover-bg-color: #E2EBFA;\n",
              "      --hover-fill-color: #174EA6;\n",
              "      --disabled-fill-color: #AAA;\n",
              "      --disabled-bg-color: #DDD;\n",
              "  }\n",
              "\n",
              "  [theme=dark] .colab-df-quickchart {\n",
              "      --bg-color: #3B4455;\n",
              "      --fill-color: #D2E3FC;\n",
              "      --hover-bg-color: #434B5C;\n",
              "      --hover-fill-color: #FFFFFF;\n",
              "      --disabled-bg-color: #3B4455;\n",
              "      --disabled-fill-color: #666;\n",
              "  }\n",
              "\n",
              "  .colab-df-quickchart {\n",
              "    background-color: var(--bg-color);\n",
              "    border: none;\n",
              "    border-radius: 50%;\n",
              "    cursor: pointer;\n",
              "    display: none;\n",
              "    fill: var(--fill-color);\n",
              "    height: 32px;\n",
              "    padding: 0;\n",
              "    width: 32px;\n",
              "  }\n",
              "\n",
              "  .colab-df-quickchart:hover {\n",
              "    background-color: var(--hover-bg-color);\n",
              "    box-shadow: 0 1px 2px rgba(60, 64, 67, 0.3), 0 1px 3px 1px rgba(60, 64, 67, 0.15);\n",
              "    fill: var(--button-hover-fill-color);\n",
              "  }\n",
              "\n",
              "  .colab-df-quickchart-complete:disabled,\n",
              "  .colab-df-quickchart-complete:disabled:hover {\n",
              "    background-color: var(--disabled-bg-color);\n",
              "    fill: var(--disabled-fill-color);\n",
              "    box-shadow: none;\n",
              "  }\n",
              "\n",
              "  .colab-df-spinner {\n",
              "    border: 2px solid var(--fill-color);\n",
              "    border-color: transparent;\n",
              "    border-bottom-color: var(--fill-color);\n",
              "    animation:\n",
              "      spin 1s steps(1) infinite;\n",
              "  }\n",
              "\n",
              "  @keyframes spin {\n",
              "    0% {\n",
              "      border-color: transparent;\n",
              "      border-bottom-color: var(--fill-color);\n",
              "      border-left-color: var(--fill-color);\n",
              "    }\n",
              "    20% {\n",
              "      border-color: transparent;\n",
              "      border-left-color: var(--fill-color);\n",
              "      border-top-color: var(--fill-color);\n",
              "    }\n",
              "    30% {\n",
              "      border-color: transparent;\n",
              "      border-left-color: var(--fill-color);\n",
              "      border-top-color: var(--fill-color);\n",
              "      border-right-color: var(--fill-color);\n",
              "    }\n",
              "    40% {\n",
              "      border-color: transparent;\n",
              "      border-right-color: var(--fill-color);\n",
              "      border-top-color: var(--fill-color);\n",
              "    }\n",
              "    60% {\n",
              "      border-color: transparent;\n",
              "      border-right-color: var(--fill-color);\n",
              "    }\n",
              "    80% {\n",
              "      border-color: transparent;\n",
              "      border-right-color: var(--fill-color);\n",
              "      border-bottom-color: var(--fill-color);\n",
              "    }\n",
              "    90% {\n",
              "      border-color: transparent;\n",
              "      border-bottom-color: var(--fill-color);\n",
              "    }\n",
              "  }\n",
              "</style>\n",
              "\n",
              "  <script>\n",
              "    async function quickchart(key) {\n",
              "      const quickchartButtonEl =\n",
              "        document.querySelector('#' + key + ' button');\n",
              "      quickchartButtonEl.disabled = true;  // To prevent multiple clicks.\n",
              "      quickchartButtonEl.classList.add('colab-df-spinner');\n",
              "      try {\n",
              "        const charts = await google.colab.kernel.invokeFunction(\n",
              "            'suggestCharts', [key], {});\n",
              "      } catch (error) {\n",
              "        console.error('Error during call to suggestCharts:', error);\n",
              "      }\n",
              "      quickchartButtonEl.classList.remove('colab-df-spinner');\n",
              "      quickchartButtonEl.classList.add('colab-df-quickchart-complete');\n",
              "    }\n",
              "    (() => {\n",
              "      let quickchartButtonEl =\n",
              "        document.querySelector('#df-701ed520-a2ac-43d6-af78-4a6790e56f10 button');\n",
              "      quickchartButtonEl.style.display =\n",
              "        google.colab.kernel.accessAllowed ? 'block' : 'none';\n",
              "    })();\n",
              "  </script>\n",
              "</div>\n",
              "\n",
              "    </div>\n",
              "  </div>\n"
            ],
            "application/vnd.google.colaboratory.intrinsic+json": {
              "type": "dataframe",
              "summary": "{\n  \"name\": \"np\",\n  \"rows\": 3,\n  \"fields\": [\n    {\n      \"column\": \"A\",\n      \"properties\": {\n        \"dtype\": \"number\",\n        \"std\": 0.8577308787699763,\n        \"min\": -1.0,\n        \"max\": 0.7071067811865476,\n        \"num_unique_values\": 3,\n        \"samples\": [\n          -1.0,\n          -2.4492935982947064e-16,\n          0.7071067811865476\n        ],\n        \"semantic_type\": \"\",\n        \"description\": \"\"\n      }\n    },\n    {\n      \"column\": \"B\",\n      \"properties\": {\n        \"dtype\": \"number\",\n        \"std\": 0.9855985596534887,\n        \"min\": -1.0,\n        \"max\": 0.7071067811865476,\n        \"num_unique_values\": 3,\n        \"samples\": [\n          -1.0,\n          0.7071067811865476,\n          0.7071067811865475\n        ],\n        \"semantic_type\": \"\",\n        \"description\": \"\"\n      }\n    },\n    {\n      \"column\": \"C\",\n      \"properties\": {\n        \"dtype\": \"number\",\n        \"std\": 0.9128709291752769,\n        \"min\": -0.7071067811865477,\n        \"max\": 1.0,\n        \"num_unique_values\": 3,\n        \"samples\": [\n          0.7071067811865476,\n          1.0,\n          -0.7071067811865477\n        ],\n        \"semantic_type\": \"\",\n        \"description\": \"\"\n      }\n    },\n    {\n      \"column\": \"D\",\n      \"properties\": {\n        \"dtype\": \"number\",\n        \"std\": 0.9128709291752768,\n        \"min\": -1.0,\n        \"max\": 0.7071067811865475,\n        \"num_unique_values\": 3,\n        \"samples\": [\n          -0.7071067811865477,\n          0.7071067811865475,\n          -1.0\n        ],\n        \"semantic_type\": \"\",\n        \"description\": \"\"\n      }\n    }\n  ]\n}"
            }
          },
          "metadata": {},
          "execution_count": 6
        }
      ],
      "source": [
        "# Calculate sin() of every value in the DataFrame multiplied by pi and divided by 4\n",
        "np.sin(df * np.pi / 4)"
      ]
    },
    {
      "cell_type": "markdown",
      "id": "e1c32e4e",
      "metadata": {
        "id": "e1c32e4e"
      },
      "source": [
        "### The Numpy Array\n",
        "Numpy provides mutidimentional arrays, with high efficiency and designed for scientific calculations.\n",
        "\n",
        "An array is similar to a list in Python and can be created from a list.\n",
        "\n",
        "Array have useful atributes we can use. Lets start by defining three random arrays, a single dimension, a two dimension and a tri dimensional array. We will use Numpy random number generator."
      ]
    },
    {
      "cell_type": "code",
      "execution_count": null,
      "id": "83817357",
      "metadata": {
        "id": "83817357"
      },
      "outputs": [],
      "source": [
        "# Import our Numpy package\n",
        "import numpy as np\n",
        "np.random.seed(0) #this will generate the same random arrays every time\n",
        "\n",
        "x1 = np.random.randint(10, size=6) # one dimension\n",
        "x2 = np.random.randint(10, size=(3, 4)) # two dimensions\n",
        "x3 = np.random.randint(10, size=(3, 4, 5)) # tri dimensional array"
      ]
    },
    {
      "cell_type": "markdown",
      "id": "10c39897",
      "metadata": {
        "id": "10c39897"
      },
      "source": [
        "All arrays have the `ndim` (number of dimensions) attribute, `shape` the size of each dimension, and `size` the total array size"
      ]
    },
    {
      "cell_type": "code",
      "execution_count": null,
      "id": "b09dda83",
      "metadata": {
        "id": "b09dda83",
        "colab": {
          "base_uri": "https://localhost:8080/"
        },
        "outputId": "076daa3c-fd84-4b84-e3d3-9ec5842ae99c"
      },
      "outputs": [
        {
          "output_type": "stream",
          "name": "stdout",
          "text": [
            "x3 ndim: 3\n",
            "x3 sahpe: (3, 4, 5)\n",
            "x3 size: 60\n"
          ]
        }
      ],
      "source": [
        "print(\"x3 ndim:\", x3.ndim)\n",
        "print(\"x3 sahpe:\", x3.shape)\n",
        "print(\"x3 size:\", x3.size)"
      ]
    },
    {
      "cell_type": "markdown",
      "id": "6732b761",
      "metadata": {
        "id": "6732b761"
      },
      "source": [
        "Other attributes for arrays are `itemsize` shows the byte size of every element in the array, and `nbytes` shows the total bytes size of the array:"
      ]
    },
    {
      "cell_type": "code",
      "execution_count": null,
      "id": "fc1497b3",
      "metadata": {
        "id": "fc1497b3",
        "colab": {
          "base_uri": "https://localhost:8080/"
        },
        "outputId": "1b70af82-a718-412c-c93e-340cd40e4226"
      },
      "outputs": [
        {
          "output_type": "stream",
          "name": "stdout",
          "text": [
            "x3 itemsize: 8 bytes\n",
            "x3 nbytes 480 bytes\n"
          ]
        }
      ],
      "source": [
        "print(\"x3 itemsize:\", x3.itemsize, \"bytes\")\n",
        "print(\"x3 nbytes\", x3.nbytes, \"bytes\")"
      ]
    },
    {
      "cell_type": "markdown",
      "id": "cd72b1c5",
      "metadata": {
        "id": "cd72b1c5"
      },
      "source": [
        "#### Optional Exercise\n",
        "- Create a 3x3x3 array that contains all random numbers.\n",
        "- Using the previous array, square all the numbers in the array."
      ]
    },
    {
      "cell_type": "markdown",
      "id": "375bb4fc",
      "metadata": {
        "id": "375bb4fc"
      },
      "source": [
        "### Creating arrays with Numpy methods\n",
        "Specially for largers arrays we can use the more efficient methods from Numpy."
      ]
    },
    {
      "cell_type": "code",
      "execution_count": null,
      "id": "35422cd0",
      "metadata": {
        "id": "35422cd0",
        "colab": {
          "base_uri": "https://localhost:8080/"
        },
        "outputId": "e03b4151-6afa-4752-f4f4-ee3532af0ea5"
      },
      "outputs": [
        {
          "output_type": "execute_result",
          "data": {
            "text/plain": [
              "array([0, 0, 0, 0, 0, 0, 0, 0, 0, 0])"
            ]
          },
          "metadata": {},
          "execution_count": 10
        }
      ],
      "source": [
        "# Create a length 10 integer array filled with zeros\n",
        "np.zeros(10, dtype=int)"
      ]
    },
    {
      "cell_type": "code",
      "execution_count": null,
      "id": "084f00c9",
      "metadata": {
        "id": "084f00c9",
        "colab": {
          "base_uri": "https://localhost:8080/"
        },
        "outputId": "4fc1b44f-12ea-4db4-dfec-ae7a02895294"
      },
      "outputs": [
        {
          "output_type": "execute_result",
          "data": {
            "text/plain": [
              "array([[1., 1., 1., 1., 1.],\n",
              "       [1., 1., 1., 1., 1.],\n",
              "       [1., 1., 1., 1., 1.]])"
            ]
          },
          "metadata": {},
          "execution_count": 11
        }
      ],
      "source": [
        "# Create a 3x5 float array filled with ones\n",
        "np.ones((3, 5), dtype=float)"
      ]
    },
    {
      "cell_type": "code",
      "execution_count": null,
      "id": "75a5e0bc",
      "metadata": {
        "id": "75a5e0bc",
        "colab": {
          "base_uri": "https://localhost:8080/"
        },
        "outputId": "c6f789bd-68d4-435c-cf8f-0c78870d76cc"
      },
      "outputs": [
        {
          "output_type": "execute_result",
          "data": {
            "text/plain": [
              "array([[3.14, 3.14, 3.14, 3.14, 3.14],\n",
              "       [3.14, 3.14, 3.14, 3.14, 3.14],\n",
              "       [3.14, 3.14, 3.14, 3.14, 3.14]])"
            ]
          },
          "metadata": {},
          "execution_count": 12
        }
      ],
      "source": [
        "# Create a 3x5 array filled with 3.14\n",
        "np.full((3, 5), 3.14)"
      ]
    },
    {
      "cell_type": "code",
      "execution_count": null,
      "id": "3ae0beea",
      "metadata": {
        "id": "3ae0beea",
        "colab": {
          "base_uri": "https://localhost:8080/"
        },
        "outputId": "b5db9c47-53bb-4e21-f485-58c3281ecab2"
      },
      "outputs": [
        {
          "output_type": "execute_result",
          "data": {
            "text/plain": [
              "array([ 0,  2,  4,  6,  8, 10, 12, 14, 16, 18])"
            ]
          },
          "metadata": {},
          "execution_count": 13
        }
      ],
      "source": [
        "# Create an array filled with a linear sequence\n",
        "# Start at 0, end at 20, step size 2\n",
        "np.arange(0, 20, 2)"
      ]
    },
    {
      "cell_type": "code",
      "execution_count": null,
      "id": "db34ed9d",
      "metadata": {
        "id": "db34ed9d",
        "colab": {
          "base_uri": "https://localhost:8080/"
        },
        "outputId": "1ae76908-5450-4916-8ad9-cff9d26b464d"
      },
      "outputs": [
        {
          "output_type": "execute_result",
          "data": {
            "text/plain": [
              "array([0.  , 0.25, 0.5 , 0.75, 1.  ])"
            ]
          },
          "metadata": {},
          "execution_count": 14
        }
      ],
      "source": [
        "# Create an array of five values evenly spaced between 0 and 1\n",
        "np.linspace(0, 1, 5)"
      ]
    },
    {
      "cell_type": "code",
      "execution_count": null,
      "id": "04480d0a",
      "metadata": {
        "id": "04480d0a",
        "colab": {
          "base_uri": "https://localhost:8080/"
        },
        "outputId": "411a71f0-3c81-441f-89f5-05033242186f"
      },
      "outputs": [
        {
          "output_type": "execute_result",
          "data": {
            "text/plain": [
              "array([[0.65279032, 0.63505887, 0.99529957],\n",
              "       [0.58185033, 0.41436859, 0.4746975 ],\n",
              "       [0.6235101 , 0.33800761, 0.67475232]])"
            ]
          },
          "metadata": {},
          "execution_count": 15
        }
      ],
      "source": [
        "# Create a 3x3 array of uniformly distributed random values between 0 and 1\n",
        "np.random.random((3, 3))"
      ]
    },
    {
      "cell_type": "code",
      "execution_count": null,
      "id": "2dce3446",
      "metadata": {
        "id": "2dce3446",
        "colab": {
          "base_uri": "https://localhost:8080/"
        },
        "outputId": "2f8a3161-bc9e-4e9b-d85f-8c34b24be5e7"
      },
      "outputs": [
        {
          "output_type": "execute_result",
          "data": {
            "text/plain": [
              "array([[ 1.0657892 , -0.69993739,  0.14407911],\n",
              "       [ 0.3985421 ,  0.02686925,  1.05583713],\n",
              "       [-0.07318342, -0.66572066, -0.04411241]])"
            ]
          },
          "metadata": {},
          "execution_count": 16
        }
      ],
      "source": [
        "# Create a 3x3 array of normally distributed random values\n",
        "# with mean 0 and standard deviation 1\n",
        "np.random.normal(0, 1, (3, 3))"
      ]
    },
    {
      "cell_type": "code",
      "execution_count": null,
      "id": "8b001f0f",
      "metadata": {
        "id": "8b001f0f",
        "colab": {
          "base_uri": "https://localhost:8080/"
        },
        "outputId": "9d6f4d1e-5033-4f6c-b30b-e27a131257b5"
      },
      "outputs": [
        {
          "output_type": "execute_result",
          "data": {
            "text/plain": [
              "array([[7, 2, 9],\n",
              "       [2, 3, 3],\n",
              "       [2, 3, 4]])"
            ]
          },
          "metadata": {},
          "execution_count": 17
        }
      ],
      "source": [
        "# Create a 3x3 array of random integer in the interval [0, 10]\n",
        "np.random.randint(0, 10, (3, 3))"
      ]
    },
    {
      "cell_type": "code",
      "execution_count": null,
      "id": "be6db5ca",
      "metadata": {
        "id": "be6db5ca",
        "colab": {
          "base_uri": "https://localhost:8080/"
        },
        "outputId": "284e62d0-3a41-4a62-da75-bb9e0651e651"
      },
      "outputs": [
        {
          "output_type": "execute_result",
          "data": {
            "text/plain": [
              "array([[1., 0., 0.],\n",
              "       [0., 1., 0.],\n",
              "       [0., 0., 1.]])"
            ]
          },
          "metadata": {},
          "execution_count": 18
        }
      ],
      "source": [
        "# Create a 3x3 identity matrix\n",
        "np.eye(3)"
      ]
    },
    {
      "cell_type": "code",
      "execution_count": null,
      "id": "7246c404",
      "metadata": {
        "id": "7246c404",
        "colab": {
          "base_uri": "https://localhost:8080/"
        },
        "outputId": "8ad923a7-3154-4b32-8959-5a471d65b52b"
      },
      "outputs": [
        {
          "output_type": "execute_result",
          "data": {
            "text/plain": [
              "array([1., 1., 1.])"
            ]
          },
          "metadata": {},
          "execution_count": 19
        }
      ],
      "source": [
        "# Create an uninitialized array of three integers\n",
        "# The values will be whatever happens to already exist at that memory location\n",
        "np.empty(3)"
      ]
    },
    {
      "cell_type": "markdown",
      "id": "aa580ec3",
      "metadata": {
        "id": "aa580ec3"
      },
      "source": [
        "#### Array indexing\n",
        "Similar to Python lists we can access individual elements in the array. For single dimensional arrays we can use the indexing format using `[]`"
      ]
    },
    {
      "cell_type": "code",
      "execution_count": null,
      "id": "f8b243a5",
      "metadata": {
        "id": "f8b243a5",
        "colab": {
          "base_uri": "https://localhost:8080/"
        },
        "outputId": "223aded6-1325-4876-db17-7ad308497081"
      },
      "outputs": [
        {
          "output_type": "execute_result",
          "data": {
            "text/plain": [
              "array([5, 0, 3, 3, 7, 9])"
            ]
          },
          "metadata": {},
          "execution_count": 20
        }
      ],
      "source": [
        "x1"
      ]
    },
    {
      "cell_type": "code",
      "execution_count": null,
      "id": "6889691d",
      "metadata": {
        "id": "6889691d",
        "colab": {
          "base_uri": "https://localhost:8080/"
        },
        "outputId": "e66590c7-e6f1-4362-bfc2-375c1fc7e78f"
      },
      "outputs": [
        {
          "output_type": "execute_result",
          "data": {
            "text/plain": [
              "5"
            ]
          },
          "metadata": {},
          "execution_count": 21
        }
      ],
      "source": [
        "x1[0]"
      ]
    },
    {
      "cell_type": "code",
      "execution_count": null,
      "id": "d1658fee",
      "metadata": {
        "id": "d1658fee",
        "colab": {
          "base_uri": "https://localhost:8080/"
        },
        "outputId": "553a8596-8490-47d2-a222-08e3c9fea4d7"
      },
      "outputs": [
        {
          "output_type": "execute_result",
          "data": {
            "text/plain": [
              "7"
            ]
          },
          "metadata": {},
          "execution_count": 22
        }
      ],
      "source": [
        "x1[4]"
      ]
    },
    {
      "cell_type": "code",
      "execution_count": null,
      "id": "0cd32e10",
      "metadata": {
        "id": "0cd32e10",
        "colab": {
          "base_uri": "https://localhost:8080/"
        },
        "outputId": "eb01d2fd-973b-450b-fa46-75945bdb8b88"
      },
      "outputs": [
        {
          "output_type": "execute_result",
          "data": {
            "text/plain": [
              "5"
            ]
          },
          "metadata": {},
          "execution_count": 23
        }
      ],
      "source": [
        "x1[-6]"
      ]
    },
    {
      "cell_type": "markdown",
      "id": "6d268527",
      "metadata": {
        "id": "6d268527"
      },
      "source": [
        "We can use a similar logic for multi dimensional arrays"
      ]
    },
    {
      "cell_type": "code",
      "execution_count": null,
      "id": "d3fd841c",
      "metadata": {
        "id": "d3fd841c",
        "colab": {
          "base_uri": "https://localhost:8080/"
        },
        "outputId": "89b69d88-27ab-4350-d241-fec74e715f92"
      },
      "outputs": [
        {
          "output_type": "execute_result",
          "data": {
            "text/plain": [
              "array([[3, 5, 2, 4],\n",
              "       [7, 6, 8, 8],\n",
              "       [1, 6, 7, 7]])"
            ]
          },
          "metadata": {},
          "execution_count": 24
        }
      ],
      "source": [
        "x2"
      ]
    },
    {
      "cell_type": "code",
      "execution_count": null,
      "id": "c8b6f86b",
      "metadata": {
        "id": "c8b6f86b",
        "colab": {
          "base_uri": "https://localhost:8080/"
        },
        "outputId": "03da4f89-7d2e-415a-f7df-a428f91576f9"
      },
      "outputs": [
        {
          "output_type": "execute_result",
          "data": {
            "text/plain": [
              "4"
            ]
          },
          "metadata": {},
          "execution_count": 25
        }
      ],
      "source": [
        "x2[0, 3] # Access row 0, column index 3"
      ]
    },
    {
      "cell_type": "code",
      "execution_count": null,
      "id": "97aff3e1",
      "metadata": {
        "id": "97aff3e1",
        "colab": {
          "base_uri": "https://localhost:8080/"
        },
        "outputId": "4833f1ec-9b16-4c22-c5aa-4fc8dd0e1c63"
      },
      "outputs": [
        {
          "output_type": "execute_result",
          "data": {
            "text/plain": [
              "7"
            ]
          },
          "metadata": {},
          "execution_count": 26
        }
      ],
      "source": [
        "x2[2, -1] # Access row index 2, column index -1"
      ]
    },
    {
      "cell_type": "markdown",
      "id": "d6ae8509",
      "metadata": {
        "id": "d6ae8509"
      },
      "source": [
        "We can use the same logic to change values using array indexing"
      ]
    },
    {
      "cell_type": "code",
      "execution_count": null,
      "id": "125bab47",
      "metadata": {
        "id": "125bab47"
      },
      "outputs": [],
      "source": [
        "x2[2, -1] = 2"
      ]
    },
    {
      "cell_type": "markdown",
      "id": "1935bd53",
      "metadata": {
        "id": "1935bd53"
      },
      "source": [
        "#### Optional Exercise\n",
        "- Create a new array using `arange` this array should contain a total of 4 values.\n",
        "- Select only values in index 2 and index 4.\n",
        "- Change the value of index 3 to 99"
      ]
    },
    {
      "cell_type": "code",
      "source": [
        "import numpy as np\n",
        "array = np.arange(4)\n",
        "\n",
        "selected_values = array[[2, 3]]\n",
        "\n",
        "array[3] = 99\n",
        "\n",
        "print(\"Array:\", array)\n",
        "print(\"Selected values at indexes 2 and 4:\", selected_values)\n"
      ],
      "metadata": {
        "colab": {
          "base_uri": "https://localhost:8080/"
        },
        "id": "u1kwy3-r1Kky",
        "outputId": "c8e5e3e9-0dd6-4cba-b86e-7370756ad5ae"
      },
      "id": "u1kwy3-r1Kky",
      "execution_count": null,
      "outputs": [
        {
          "output_type": "stream",
          "name": "stdout",
          "text": [
            "Array: [ 0  1  2 99]\n",
            "Selected values at indexes 2 and 4: [2 3]\n"
          ]
        }
      ]
    },
    {
      "cell_type": "markdown",
      "id": "6ab321d4",
      "metadata": {
        "id": "6ab321d4"
      },
      "source": [
        "#### Sub arrays (slicing)\n",
        "We can also use a similar syntax to Python list slicing to access only parts of the array. The syntax goes as follows:\n",
        "\n",
        "`x[start:stop:step]`\n",
        "Where default start value = 0, stop is the non inclusive stop index, and step the number of items we want to count"
      ]
    },
    {
      "cell_type": "code",
      "execution_count": null,
      "id": "e9fffdca",
      "metadata": {
        "id": "e9fffdca",
        "colab": {
          "base_uri": "https://localhost:8080/"
        },
        "outputId": "12c2c1c3-cd90-499b-a3c5-9f39dda86555"
      },
      "outputs": [
        {
          "output_type": "execute_result",
          "data": {
            "text/plain": [
              "array([0, 1, 2, 3, 4, 5, 6, 7, 8, 9])"
            ]
          },
          "metadata": {},
          "execution_count": 28
        }
      ],
      "source": [
        "x = np.arange(10)\n",
        "x"
      ]
    },
    {
      "cell_type": "code",
      "execution_count": null,
      "id": "a3f86d6d",
      "metadata": {
        "id": "a3f86d6d",
        "colab": {
          "base_uri": "https://localhost:8080/"
        },
        "outputId": "9bf4ccfb-380c-4c9d-ca86-ccf359186c43"
      },
      "outputs": [
        {
          "output_type": "execute_result",
          "data": {
            "text/plain": [
              "array([0, 1, 2, 3, 4])"
            ]
          },
          "metadata": {},
          "execution_count": 29
        }
      ],
      "source": [
        "x[:5] # first five elements"
      ]
    },
    {
      "cell_type": "code",
      "execution_count": null,
      "id": "0ae14e3a",
      "metadata": {
        "id": "0ae14e3a",
        "colab": {
          "base_uri": "https://localhost:8080/"
        },
        "outputId": "de374032-4607-4c27-a63c-b7c2b8b51985"
      },
      "outputs": [
        {
          "output_type": "execute_result",
          "data": {
            "text/plain": [
              "array([5, 6, 7, 8, 9])"
            ]
          },
          "metadata": {},
          "execution_count": 30
        }
      ],
      "source": [
        "x[5:] # elements starting from the fifth index"
      ]
    },
    {
      "cell_type": "code",
      "execution_count": null,
      "id": "c03943c1",
      "metadata": {
        "id": "c03943c1",
        "colab": {
          "base_uri": "https://localhost:8080/"
        },
        "outputId": "b6facec1-8ce2-43e3-e5b9-89b79ed2426d"
      },
      "outputs": [
        {
          "output_type": "execute_result",
          "data": {
            "text/plain": [
              "array([4, 5, 6])"
            ]
          },
          "metadata": {},
          "execution_count": 31
        }
      ],
      "source": [
        "x[4:7] # elements between 4 and non inclusive 7"
      ]
    },
    {
      "cell_type": "code",
      "execution_count": null,
      "id": "f2118cd2",
      "metadata": {
        "id": "f2118cd2",
        "colab": {
          "base_uri": "https://localhost:8080/"
        },
        "outputId": "c07dda65-7c9a-4e05-f35b-443955b5296f"
      },
      "outputs": [
        {
          "output_type": "execute_result",
          "data": {
            "text/plain": [
              "array([0, 2, 4, 6, 8])"
            ]
          },
          "metadata": {},
          "execution_count": 32
        }
      ],
      "source": [
        "x[::2] # all elements but step size 2"
      ]
    },
    {
      "cell_type": "code",
      "execution_count": null,
      "id": "cf0e7875",
      "metadata": {
        "id": "cf0e7875",
        "colab": {
          "base_uri": "https://localhost:8080/"
        },
        "outputId": "05a54340-d846-485c-dd50-457e19880c3e"
      },
      "outputs": [
        {
          "output_type": "execute_result",
          "data": {
            "text/plain": [
              "array([1, 3, 5, 7, 9])"
            ]
          },
          "metadata": {},
          "execution_count": 33
        }
      ],
      "source": [
        "x[1::2] # elements every two steps, starting from index 1"
      ]
    },
    {
      "cell_type": "markdown",
      "id": "fc4116ed",
      "metadata": {
        "id": "fc4116ed"
      },
      "source": [
        "We can also use negative step index. In this case the default start and stop values are inverted. This makes it a convenient way to invert an array."
      ]
    },
    {
      "cell_type": "code",
      "execution_count": null,
      "id": "c51433ad",
      "metadata": {
        "id": "c51433ad",
        "colab": {
          "base_uri": "https://localhost:8080/"
        },
        "outputId": "62c7551c-ac17-4482-9126-55e7abdce21d"
      },
      "outputs": [
        {
          "output_type": "execute_result",
          "data": {
            "text/plain": [
              "array([9, 8, 7, 6, 5, 4, 3, 2, 1, 0])"
            ]
          },
          "metadata": {},
          "execution_count": 34
        }
      ],
      "source": [
        "x[::-1] # reverse the array"
      ]
    },
    {
      "cell_type": "code",
      "execution_count": null,
      "id": "679b7a8e",
      "metadata": {
        "id": "679b7a8e",
        "colab": {
          "base_uri": "https://localhost:8080/"
        },
        "outputId": "e73cf53b-1085-46a2-a4cd-c38e30d30755"
      },
      "outputs": [
        {
          "output_type": "execute_result",
          "data": {
            "text/plain": [
              "array([5, 3, 1])"
            ]
          },
          "metadata": {},
          "execution_count": 35
        }
      ],
      "source": [
        "x[5::-2] # inverted array starting from the fifth index at minus two step interval"
      ]
    },
    {
      "cell_type": "markdown",
      "id": "5670d312",
      "metadata": {
        "id": "5670d312"
      },
      "source": [
        "We can also select multi dimension sectors of an array. The syntax is similar, with every sector separated by a comma"
      ]
    },
    {
      "cell_type": "code",
      "execution_count": null,
      "id": "592911bc",
      "metadata": {
        "id": "592911bc",
        "colab": {
          "base_uri": "https://localhost:8080/"
        },
        "outputId": "72e8a206-0b02-421c-99ba-72aaf8f9713c"
      },
      "outputs": [
        {
          "output_type": "execute_result",
          "data": {
            "text/plain": [
              "array([[3, 5, 2, 4],\n",
              "       [7, 6, 8, 8],\n",
              "       [1, 6, 7, 2]])"
            ]
          },
          "metadata": {},
          "execution_count": 36
        }
      ],
      "source": [
        "x2"
      ]
    },
    {
      "cell_type": "code",
      "execution_count": null,
      "id": "a64ef513",
      "metadata": {
        "id": "a64ef513",
        "colab": {
          "base_uri": "https://localhost:8080/"
        },
        "outputId": "1198220b-70d1-4ba4-a3b2-baa92090fbcc"
      },
      "outputs": [
        {
          "output_type": "execute_result",
          "data": {
            "text/plain": [
              "array([[3, 5, 2],\n",
              "       [7, 6, 8]])"
            ]
          },
          "metadata": {},
          "execution_count": 37
        }
      ],
      "source": [
        "x2[:2, :3] # rows with index 0 and 1, and columns with index 0, 1 and 2"
      ]
    },
    {
      "cell_type": "code",
      "execution_count": null,
      "id": "48a6e77d",
      "metadata": {
        "id": "48a6e77d",
        "colab": {
          "base_uri": "https://localhost:8080/"
        },
        "outputId": "e04e033c-20f6-4486-9bc7-416cf5ec57fc"
      },
      "outputs": [
        {
          "output_type": "execute_result",
          "data": {
            "text/plain": [
              "array([[3, 2],\n",
              "       [7, 8],\n",
              "       [1, 7]])"
            ]
          },
          "metadata": {},
          "execution_count": 38
        }
      ],
      "source": [
        "x2[:3, ::2] # all rows but step size 2"
      ]
    },
    {
      "cell_type": "markdown",
      "id": "0bec0e6f",
      "metadata": {
        "id": "0bec0e6f"
      },
      "source": [
        "#### Reshaping arrays\n",
        "Another useful operation is reshaping, we can use the `reshape()` method. If we wanted to reshape an array by a 3 x 3 array we can use the following syntax"
      ]
    },
    {
      "cell_type": "code",
      "execution_count": null,
      "id": "dd3e54d6",
      "metadata": {
        "id": "dd3e54d6",
        "colab": {
          "base_uri": "https://localhost:8080/"
        },
        "outputId": "a943b8fd-a0d5-47ab-b36a-eb84e87e4fd1"
      },
      "outputs": [
        {
          "output_type": "execute_result",
          "data": {
            "text/plain": [
              "array([[1, 2, 3],\n",
              "       [4, 5, 6],\n",
              "       [7, 8, 9]])"
            ]
          },
          "metadata": {},
          "execution_count": 39
        }
      ],
      "source": [
        "grid = np.arange(1, 10).reshape((3, 3))\n",
        "grid"
      ]
    },
    {
      "cell_type": "markdown",
      "id": "103616e1",
      "metadata": {
        "id": "103616e1"
      },
      "source": [
        "For this to work the size of the initial array must match the reshaped array.\n",
        "\n",
        "Another common form of reshaping is converting an unidimensional array of rows or columns. We can either use `reshape` or the `nexaxis` keyword inside a slicing operation"
      ]
    },
    {
      "cell_type": "code",
      "execution_count": null,
      "id": "e3a38488",
      "metadata": {
        "id": "e3a38488",
        "colab": {
          "base_uri": "https://localhost:8080/"
        },
        "outputId": "ed1ecd7c-09ee-4854-e955-87501dbbdd61"
      },
      "outputs": [
        {
          "output_type": "execute_result",
          "data": {
            "text/plain": [
              "array([[1, 2, 3]])"
            ]
          },
          "metadata": {},
          "execution_count": 40
        }
      ],
      "source": [
        "x = np.array([1, 2, 3])\n",
        "\n",
        "# row vector via reshape\n",
        "x.reshape(1, 3)"
      ]
    },
    {
      "cell_type": "code",
      "execution_count": null,
      "id": "e8948177",
      "metadata": {
        "id": "e8948177",
        "colab": {
          "base_uri": "https://localhost:8080/"
        },
        "outputId": "b0352fdb-0763-421d-f0fa-054579145a05"
      },
      "outputs": [
        {
          "output_type": "execute_result",
          "data": {
            "text/plain": [
              "array([[1, 2, 3]])"
            ]
          },
          "metadata": {},
          "execution_count": 41
        }
      ],
      "source": [
        "# row vector via newaxis\n",
        "x[np.newaxis, :]"
      ]
    },
    {
      "cell_type": "code",
      "execution_count": null,
      "id": "c906262d",
      "metadata": {
        "id": "c906262d",
        "colab": {
          "base_uri": "https://localhost:8080/"
        },
        "outputId": "672a76c1-d288-4db9-8dbe-6673a3aef14b"
      },
      "outputs": [
        {
          "output_type": "execute_result",
          "data": {
            "text/plain": [
              "array([[1],\n",
              "       [2],\n",
              "       [3]])"
            ]
          },
          "metadata": {},
          "execution_count": 42
        }
      ],
      "source": [
        "# column vector via reshape\n",
        "x.reshape((3, 1))"
      ]
    },
    {
      "cell_type": "code",
      "execution_count": null,
      "id": "34c1ba40",
      "metadata": {
        "id": "34c1ba40",
        "colab": {
          "base_uri": "https://localhost:8080/"
        },
        "outputId": "b9d5b2d8-f156-4e54-a910-52a22154894d"
      },
      "outputs": [
        {
          "output_type": "execute_result",
          "data": {
            "text/plain": [
              "array([[1],\n",
              "       [2],\n",
              "       [3]])"
            ]
          },
          "metadata": {},
          "execution_count": 43
        }
      ],
      "source": [
        "# column vector via newaxis\n",
        "x[:, np.newaxis]"
      ]
    },
    {
      "cell_type": "markdown",
      "id": "1f15b0e7",
      "metadata": {
        "id": "1f15b0e7"
      },
      "source": [
        "#### Optional exercise\n",
        "- Create a new 4x4 array.\n",
        "- Select and print only the first two rows.\n",
        "- Select and print only the last two columns.\n",
        "- Select only the last two rows and first two columns.\n",
        "- Reshape the array into a 8x2 array."
      ]
    },
    {
      "cell_type": "code",
      "source": [
        "import numpy as np\n",
        "\n",
        "array = np.arange(1, 17).reshape(4, 4)\n",
        "\n",
        "first_two_rows = array[:2, :]\n",
        "print(\"First two rows:\\n\", first_two_rows)\n",
        "\n",
        "last_two_columns = array[:, -2:]\n",
        "print(\"Last two columns:\\n\", last_two_columns)\n",
        "\n",
        "last_two_rows_first_two_columns = array[-2:, :2]\n",
        "print(\"Last two rows and first two columns:\\n\", last_two_rows_first_two_columns)\n",
        "\n",
        "reshaped_array = array.reshape(8, 2)\n",
        "print(\"Reshaped array (8x2):\\n\", reshaped_array)\n"
      ],
      "metadata": {
        "colab": {
          "base_uri": "https://localhost:8080/"
        },
        "id": "_hEcNU6Z3FBU",
        "outputId": "42514293-eebd-44a5-b238-a44f7c7b2163"
      },
      "id": "_hEcNU6Z3FBU",
      "execution_count": null,
      "outputs": [
        {
          "output_type": "stream",
          "name": "stdout",
          "text": [
            "First two rows:\n",
            " [[1 2 3 4]\n",
            " [5 6 7 8]]\n",
            "Last two columns:\n",
            " [[ 3  4]\n",
            " [ 7  8]\n",
            " [11 12]\n",
            " [15 16]]\n",
            "Last two rows and first two columns:\n",
            " [[ 9 10]\n",
            " [13 14]]\n",
            "Reshaped array (8x2):\n",
            " [[ 1  2]\n",
            " [ 3  4]\n",
            " [ 5  6]\n",
            " [ 7  8]\n",
            " [ 9 10]\n",
            " [11 12]\n",
            " [13 14]\n",
            " [15 16]]\n"
          ]
        }
      ]
    },
    {
      "cell_type": "markdown",
      "id": "f80ed534",
      "metadata": {
        "id": "f80ed534"
      },
      "source": [
        "#### Array concatenation and division\n",
        "We can also combine multiple arrays into one and vice versa\n",
        "\n",
        "Concatenation can be achieved using the `np.concatenate`, `np.vstack` and `np.hstack`. `np.concatenate` takes a list of arrays as its first argument"
      ]
    },
    {
      "cell_type": "code",
      "execution_count": null,
      "id": "aca79f3c",
      "metadata": {
        "id": "aca79f3c"
      },
      "outputs": [],
      "source": [
        "x = np.array([1, 2, 3]) # create an array from a list\n",
        "y = np.array([3, 2, 1]) # create a second array from a list\n",
        "np.concatenate([x, y]) # array list to concatenate"
      ]
    },
    {
      "cell_type": "code",
      "execution_count": null,
      "id": "b1ae7000",
      "metadata": {
        "id": "b1ae7000"
      },
      "outputs": [],
      "source": [
        "# we can concatenate more than one array at a time\n",
        "z = [99, 88, 77]\n",
        "print(np.concatenate([x, y, z]))"
      ]
    },
    {
      "cell_type": "markdown",
      "id": "704c9f27",
      "metadata": {
        "id": "704c9f27"
      },
      "source": [
        "We can use the same logic for multidimensional arrays"
      ]
    },
    {
      "cell_type": "code",
      "execution_count": null,
      "id": "9ee83245",
      "metadata": {
        "id": "9ee83245",
        "colab": {
          "base_uri": "https://localhost:8080/"
        },
        "outputId": "55ebf25c-f1f9-43a6-af1d-e3f97142b503"
      },
      "outputs": [
        {
          "output_type": "execute_result",
          "data": {
            "text/plain": [
              "array([[1, 2, 3],\n",
              "       [4, 5, 6],\n",
              "       [1, 2, 3],\n",
              "       [4, 5, 6]])"
            ]
          },
          "metadata": {},
          "execution_count": 44
        }
      ],
      "source": [
        "grid = np.array([[1, 2, 3],\n",
        "                [4, 5, 6]])\n",
        "np.concatenate([grid, grid]) # concatenate on the first axis. Rows"
      ]
    },
    {
      "cell_type": "code",
      "execution_count": null,
      "id": "3a224c6d",
      "metadata": {
        "id": "3a224c6d",
        "colab": {
          "base_uri": "https://localhost:8080/"
        },
        "outputId": "28474a20-a91f-463a-eb66-743bfc3945de"
      },
      "outputs": [
        {
          "output_type": "execute_result",
          "data": {
            "text/plain": [
              "array([[1, 2, 3],\n",
              "       [4, 5, 6]])"
            ]
          },
          "metadata": {},
          "execution_count": 45
        }
      ],
      "source": [
        "grid"
      ]
    },
    {
      "cell_type": "code",
      "execution_count": null,
      "id": "816d430c",
      "metadata": {
        "id": "816d430c",
        "colab": {
          "base_uri": "https://localhost:8080/"
        },
        "outputId": "9b95481c-0ef8-4597-a39b-c6d8fd16cd21"
      },
      "outputs": [
        {
          "output_type": "execute_result",
          "data": {
            "text/plain": [
              "array([[1, 2, 3, 1, 2, 3],\n",
              "       [4, 5, 6, 4, 5, 6]])"
            ]
          },
          "metadata": {},
          "execution_count": 46
        }
      ],
      "source": [
        "# Concatenate on the second axis (zero indexed)\n",
        "np.concatenate([grid, grid], axis=1) # concatenate on columns"
      ]
    },
    {
      "cell_type": "markdown",
      "id": "b7ae51f9",
      "metadata": {
        "id": "b7ae51f9"
      },
      "source": [
        "To work with diferent sized arrays it may be easier to work with `np.vstack` vertical stack, and `np.hstack` horizontal stack"
      ]
    },
    {
      "cell_type": "code",
      "execution_count": null,
      "id": "fde98bad",
      "metadata": {
        "id": "fde98bad",
        "colab": {
          "base_uri": "https://localhost:8080/"
        },
        "outputId": "32e06785-877f-47c6-df7d-137b73617412"
      },
      "outputs": [
        {
          "output_type": "execute_result",
          "data": {
            "text/plain": [
              "array([[1, 2, 3],\n",
              "       [9, 8, 7],\n",
              "       [6, 5, 4]])"
            ]
          },
          "metadata": {},
          "execution_count": 47
        }
      ],
      "source": [
        "x = np.array([1, 2, 3])\n",
        "grid = np.array([[9, 8, 7],\n",
        "                [6, 5, 4]])\n",
        "# stack vertically\n",
        "np.vstack([x, grid])"
      ]
    },
    {
      "cell_type": "code",
      "execution_count": null,
      "id": "5221e2ed",
      "metadata": {
        "id": "5221e2ed",
        "colab": {
          "base_uri": "https://localhost:8080/"
        },
        "outputId": "40910b56-7e42-4abd-b84f-c163d2467313"
      },
      "outputs": [
        {
          "output_type": "execute_result",
          "data": {
            "text/plain": [
              "array([[ 9,  8,  7, 99],\n",
              "       [ 6,  5,  4, 99]])"
            ]
          },
          "metadata": {},
          "execution_count": 48
        }
      ],
      "source": [
        "# stack horizontally\n",
        "y = np.array([[99],\n",
        "              [99]])\n",
        "np.hstack([grid, y])"
      ]
    },
    {
      "cell_type": "markdown",
      "id": "9feb1cfa",
      "metadata": {
        "id": "9feb1cfa"
      },
      "source": [
        "#### Split arrays\n",
        "Finally we can split arrays using the `np.split`, `np.hplit` and `np.vsplit`. For each of these we need to pass a list of indexes that divide/split our array"
      ]
    },
    {
      "cell_type": "code",
      "execution_count": null,
      "id": "797524e4",
      "metadata": {
        "id": "797524e4",
        "colab": {
          "base_uri": "https://localhost:8080/"
        },
        "outputId": "7445e0c4-ac8d-4a47-8066-78e297260f73"
      },
      "outputs": [
        {
          "output_type": "stream",
          "name": "stdout",
          "text": [
            "[1 2 3] [99 88] [77  4  5  6]\n"
          ]
        }
      ],
      "source": [
        "x = [1, 2, 3, 99, 88, 77, 4, 5, 6]\n",
        "x1, x2, x3 = np.split(x, [3, 5]) # split at index 3 and 5, non inclusive\n",
        "print(x1, x2, x3)"
      ]
    },
    {
      "cell_type": "markdown",
      "id": "e5e53a06",
      "metadata": {
        "id": "e5e53a06"
      },
      "source": [
        "Observe that N division/split points lead to N + 1 sub arrays. Similarly `np.hsplit` and `np.vsplit` can be used"
      ]
    },
    {
      "cell_type": "code",
      "execution_count": null,
      "id": "b3efd34f",
      "metadata": {
        "id": "b3efd34f"
      },
      "outputs": [],
      "source": [
        "grid = np.arange(16).reshape((4, 4))"
      ]
    },
    {
      "cell_type": "code",
      "execution_count": null,
      "id": "af0e782b",
      "metadata": {
        "id": "af0e782b",
        "colab": {
          "base_uri": "https://localhost:8080/"
        },
        "outputId": "97f8b4b3-0e61-461f-d0c5-5cd4250ee45f"
      },
      "outputs": [
        {
          "output_type": "execute_result",
          "data": {
            "text/plain": [
              "array([[ 0,  1,  2,  3],\n",
              "       [ 4,  5,  6,  7],\n",
              "       [ 8,  9, 10, 11],\n",
              "       [12, 13, 14, 15]])"
            ]
          },
          "metadata": {},
          "execution_count": 51
        }
      ],
      "source": [
        "grid"
      ]
    },
    {
      "cell_type": "code",
      "execution_count": null,
      "id": "76bafa23",
      "metadata": {
        "id": "76bafa23",
        "colab": {
          "base_uri": "https://localhost:8080/"
        },
        "outputId": "716225a6-07e2-431e-9c0b-900f7ee10f0f"
      },
      "outputs": [
        {
          "output_type": "stream",
          "name": "stdout",
          "text": [
            "[[0 1 2 3]\n",
            " [4 5 6 7]]\n",
            "[[ 8  9 10 11]\n",
            " [12 13 14 15]]\n"
          ]
        }
      ],
      "source": [
        "upper, lower = np.vsplit(grid, [2])\n",
        "print(upper)\n",
        "print(lower)"
      ]
    },
    {
      "cell_type": "code",
      "execution_count": null,
      "id": "4a4474be",
      "metadata": {
        "id": "4a4474be",
        "colab": {
          "base_uri": "https://localhost:8080/"
        },
        "outputId": "d87500e6-827f-43b1-805c-17e0617f803c"
      },
      "outputs": [
        {
          "output_type": "stream",
          "name": "stdout",
          "text": [
            "[[ 0  1]\n",
            " [ 4  5]\n",
            " [ 8  9]\n",
            " [12 13]]\n",
            "[[ 2  3]\n",
            " [ 6  7]\n",
            " [10 11]\n",
            " [14 15]]\n"
          ]
        }
      ],
      "source": [
        "left, right = np.hsplit(grid, [2])\n",
        "print(left)\n",
        "print(right)"
      ]
    },
    {
      "cell_type": "markdown",
      "id": "ec8b4ee0",
      "metadata": {
        "id": "ec8b4ee0"
      },
      "source": [
        "### Universal Functions\n",
        "Next we will look at why Numpy is important for data science and working with arrays.\n",
        "\n",
        "The key to making computation with Numpy very fast is using vectorized operations with Numpy, they key to this is using Numpy Universal Functions.\n",
        "\n",
        "Here is a speed comparison between a traditional for loop and a vectorized operation in Numpy using and array that contains a million values."
      ]
    },
    {
      "cell_type": "code",
      "execution_count": null,
      "id": "7a24439a",
      "metadata": {
        "id": "7a24439a",
        "colab": {
          "base_uri": "https://localhost:8080/"
        },
        "outputId": "918c9dac-8a60-48da-c76e-99678e1af26e"
      },
      "outputs": [
        {
          "output_type": "execute_result",
          "data": {
            "text/plain": [
              "array([0.16666667, 1.        , 0.25      , 0.25      , 0.125     ])"
            ]
          },
          "metadata": {},
          "execution_count": 54
        }
      ],
      "source": [
        "# Traditional implementation\n",
        "import numpy as np\n",
        "np.random.seed(0)\n",
        "\n",
        "def compute_reciprocals(values):\n",
        "    output = np.empty(len(values))\n",
        "    for i in range(len(values)):\n",
        "        output[i] = 1.0 / values[i]\n",
        "    return output\n",
        "\n",
        "values = np.random.randint(1, 10, size=5)\n",
        "compute_reciprocals(values)"
      ]
    },
    {
      "cell_type": "code",
      "execution_count": null,
      "id": "bdb47a25",
      "metadata": {
        "id": "bdb47a25",
        "colab": {
          "base_uri": "https://localhost:8080/"
        },
        "outputId": "c9adb161-4ed2-458c-ed2c-0a0ae35ad952"
      },
      "outputs": [
        {
          "output_type": "stream",
          "name": "stdout",
          "text": [
            "2.01 s ± 340 ms per loop (mean ± std. dev. of 7 runs, 1 loop each)\n"
          ]
        }
      ],
      "source": [
        "big_array = np.random.randint(1, 100, size=1000000)\n",
        "%timeit compute_reciprocals(big_array)"
      ]
    },
    {
      "cell_type": "markdown",
      "id": "baca9ecf",
      "metadata": {
        "id": "baca9ecf"
      },
      "source": [
        "The code above takes several seconds to run. Lets run it now with a vectorized operation."
      ]
    },
    {
      "cell_type": "code",
      "execution_count": null,
      "id": "06e78ce7",
      "metadata": {
        "id": "06e78ce7",
        "colab": {
          "base_uri": "https://localhost:8080/"
        },
        "outputId": "97c0e9f4-82d0-4cf6-d6cf-0c7cc04cb0bb"
      },
      "outputs": [
        {
          "output_type": "stream",
          "name": "stdout",
          "text": [
            "[0.16666667 1.         0.25       0.25       0.125     ]\n",
            "[0.16666667 1.         0.25       0.25       0.125     ]\n"
          ]
        }
      ],
      "source": [
        "print(compute_reciprocals(values))\n",
        "print(1.0 / values)"
      ]
    },
    {
      "cell_type": "code",
      "execution_count": null,
      "id": "04fb63fa",
      "metadata": {
        "id": "04fb63fa",
        "colab": {
          "base_uri": "https://localhost:8080/"
        },
        "outputId": "3d2caf42-2a1d-462f-afa3-1e5603239c27"
      },
      "outputs": [
        {
          "output_type": "stream",
          "name": "stdout",
          "text": [
            "1.61 ms ± 225 µs per loop (mean ± std. dev. of 7 runs, 1000 loops each)\n"
          ]
        }
      ],
      "source": [
        "%timeit (1.0 / big_array)"
      ]
    },
    {
      "cell_type": "markdown",
      "id": "64b0da49",
      "metadata": {
        "id": "64b0da49"
      },
      "source": [
        "We can see that each loop and the consequent total execution time is orders of magnitude faster that the first iteration. Vectorized operations are implemented via ufuncs whose main function is to exectute repeteated operations on values in Numpy arrays.\n",
        "\n",
        "Ufuncs (universal functions) can run between scalars and arrays, two arrays, and multi dimensional arrays."
      ]
    },
    {
      "cell_type": "code",
      "execution_count": null,
      "id": "e3502491",
      "metadata": {
        "id": "e3502491",
        "colab": {
          "base_uri": "https://localhost:8080/"
        },
        "outputId": "e0152fbe-676e-4b02-bce8-eb9ee4c6f01e"
      },
      "outputs": [
        {
          "output_type": "execute_result",
          "data": {
            "text/plain": [
              "array([0.        , 0.5       , 0.66666667, 0.75      , 0.8       ])"
            ]
          },
          "metadata": {},
          "execution_count": 58
        }
      ],
      "source": [
        "np.arange(5) / np.arange(1, 6)"
      ]
    },
    {
      "cell_type": "code",
      "execution_count": null,
      "id": "e222d042",
      "metadata": {
        "id": "e222d042",
        "colab": {
          "base_uri": "https://localhost:8080/"
        },
        "outputId": "779b03b8-3d02-41dc-fe87-43bf95def34d"
      },
      "outputs": [
        {
          "output_type": "execute_result",
          "data": {
            "text/plain": [
              "array([[  1,   2,   4],\n",
              "       [  8,  16,  32],\n",
              "       [ 64, 128, 256]])"
            ]
          },
          "metadata": {},
          "execution_count": 59
        }
      ],
      "source": [
        "# multidimensional example\n",
        "x = np.arange(9).reshape((3, 3))\n",
        "2 ** x"
      ]
    },
    {
      "cell_type": "markdown",
      "id": "ed58e4a8",
      "metadata": {
        "id": "ed58e4a8"
      },
      "source": [
        "### Numpy UFuncs\n",
        "#### Array arithmetic\n",
        "We have standard addition, substraction, multiplication and division"
      ]
    },
    {
      "cell_type": "code",
      "execution_count": null,
      "id": "aa70044e",
      "metadata": {
        "id": "aa70044e",
        "colab": {
          "base_uri": "https://localhost:8080/"
        },
        "outputId": "70376892-8e64-4881-8eab-76fc896a25ff"
      },
      "outputs": [
        {
          "output_type": "stream",
          "name": "stdout",
          "text": [
            "x     = [0 1 2 3]\n",
            "x + 5 = [5 6 7 8]\n",
            "x - 5 = [-5 -4 -3 -2]\n",
            "x * 2 = [0 2 4 6]\n",
            "x / 2 = [0.  0.5 1.  1.5]\n",
            "x // 2 = [0 0 1 1]\n"
          ]
        }
      ],
      "source": [
        "x = np.arange(4)\n",
        "print(\"x     =\", x)\n",
        "print(\"x + 5 =\", x + 5)\n",
        "print(\"x - 5 =\", x - 5)\n",
        "print(\"x * 2 =\", x * 2)\n",
        "print(\"x / 2 =\", x / 2)\n",
        "print(\"x // 2 =\", x // 2)  # floor division"
      ]
    },
    {
      "cell_type": "code",
      "execution_count": null,
      "id": "ac9d9a4b",
      "metadata": {
        "id": "ac9d9a4b",
        "colab": {
          "base_uri": "https://localhost:8080/"
        },
        "outputId": "7a8458b6-fd30-41a8-82ce-9b56d90bea27"
      },
      "outputs": [
        {
          "output_type": "stream",
          "name": "stdout",
          "text": [
            "-x     =  [ 0 -1 -2 -3]\n",
            "x ** 2 =  [0 1 4 9]\n",
            "x % 2  =  [0 1 0 1]\n"
          ]
        }
      ],
      "source": [
        "# unary functions for negation, exponentiation, and modulus\n",
        "print(\"-x     = \", -x)\n",
        "print(\"x ** 2 = \", x ** 2)\n",
        "print(\"x % 2  = \", x % 2)"
      ]
    },
    {
      "cell_type": "markdown",
      "id": "87f006ab",
      "metadata": {
        "id": "87f006ab"
      },
      "source": [
        "All these arithmetic operations are wrappers for Numpy functions\n",
        "\n",
        "|Operator|\tEquivalent ufunc |\tDescription |\n",
        "|:--------:|:--------|:--------|\n",
        "|+ |\tnp.add\t| Addition (e.g., 1 + 1 = 2) |\n",
        "|- |\tnp.subtract | Subtraction (e.g., 3 - 2 = 1)\n",
        "|- |\tnp.negative |\tUnary negation (e.g., -2)\n",
        "|* |\tnp.multiply |\tMultiplication (e.g., 2 * 3 = 6)\n",
        "|/ |\tnp.divide |\tDivision (e.g., 3 / 2 = 1.5)\n",
        "|// |\tnp.floor_divide |\tFloor division (e.g., 3 // 2 = 1)\n",
        "|** |\tnp.power |\tExponentiation (e.g., 2 ** 3 = 8)\n",
        "|% |\tnp.mod |\tModulus/remainder (e.g., 9 % 4 = 1)"
      ]
    },
    {
      "cell_type": "markdown",
      "id": "35b9c0bd",
      "metadata": {
        "id": "35b9c0bd"
      },
      "source": [
        "#### Trigonometric functions\n",
        "We will explore trigonometric functions. Lets start by defining an array of angles."
      ]
    },
    {
      "cell_type": "code",
      "execution_count": null,
      "id": "0b766c19",
      "metadata": {
        "id": "0b766c19"
      },
      "outputs": [],
      "source": [
        "theta = np.linspace(0, np.pi, 3)"
      ]
    },
    {
      "cell_type": "code",
      "execution_count": null,
      "id": "47f52d91",
      "metadata": {
        "id": "47f52d91",
        "colab": {
          "base_uri": "https://localhost:8080/"
        },
        "outputId": "48f68a50-c8d6-4805-a605-3c4087f1d725"
      },
      "outputs": [
        {
          "output_type": "stream",
          "name": "stdout",
          "text": [
            "theta      =  [0.         1.57079633 3.14159265]\n",
            "sin(theta) =  [0.0000000e+00 1.0000000e+00 1.2246468e-16]\n",
            "cos(theta) =  [ 1.000000e+00  6.123234e-17 -1.000000e+00]\n",
            "tan(theta) =  [ 0.00000000e+00  1.63312394e+16 -1.22464680e-16]\n"
          ]
        }
      ],
      "source": [
        "print(\"theta      = \", theta)\n",
        "print(\"sin(theta) = \", np.sin(theta))\n",
        "print(\"cos(theta) = \", np.cos(theta))\n",
        "print(\"tan(theta) = \", np.tan(theta))"
      ]
    },
    {
      "cell_type": "code",
      "execution_count": null,
      "id": "5426ce58",
      "metadata": {
        "id": "5426ce58",
        "colab": {
          "base_uri": "https://localhost:8080/"
        },
        "outputId": "324ee932-356d-4186-f671-9a57fec67824"
      },
      "outputs": [
        {
          "output_type": "stream",
          "name": "stdout",
          "text": [
            "x         =  [-1, 0, 1]\n",
            "arcsin(x) =  [-1.57079633  0.          1.57079633]\n",
            "arccos(x) =  [3.14159265 1.57079633 0.        ]\n",
            "arctan(x) =  [-0.78539816  0.          0.78539816]\n"
          ]
        }
      ],
      "source": [
        "# inverse functions\n",
        "x = [-1, 0, 1]\n",
        "print(\"x         = \", x)\n",
        "print(\"arcsin(x) = \", np.arcsin(x))\n",
        "print(\"arccos(x) = \", np.arccos(x))\n",
        "print(\"arctan(x) = \", np.arctan(x))"
      ]
    },
    {
      "cell_type": "markdown",
      "id": "8032e04e",
      "metadata": {
        "id": "8032e04e"
      },
      "source": [
        "#### Exponents and logarithms"
      ]
    },
    {
      "cell_type": "code",
      "execution_count": null,
      "id": "2e2c8677",
      "metadata": {
        "id": "2e2c8677",
        "colab": {
          "base_uri": "https://localhost:8080/"
        },
        "outputId": "a0594445-83da-44a8-ba41-04c5c238f04e"
      },
      "outputs": [
        {
          "output_type": "stream",
          "name": "stdout",
          "text": [
            "x     = [1, 2, 3]\n",
            "e^x   = [ 2.71828183  7.3890561  20.08553692]\n",
            "2^x   = [2. 4. 8.]\n",
            "3^x   = [ 3  9 27]\n"
          ]
        }
      ],
      "source": [
        "x = [1, 2, 3]\n",
        "print(\"x     =\", x)\n",
        "print(\"e^x   =\", np.exp(x))\n",
        "print(\"2^x   =\", np.exp2(x))\n",
        "print(\"3^x   =\", np.power(3, x))"
      ]
    },
    {
      "cell_type": "code",
      "execution_count": null,
      "id": "ca1fad6a",
      "metadata": {
        "id": "ca1fad6a",
        "colab": {
          "base_uri": "https://localhost:8080/"
        },
        "outputId": "a8d58db9-66e9-48cd-ae11-95d006306e23"
      },
      "outputs": [
        {
          "output_type": "stream",
          "name": "stdout",
          "text": [
            "x        = [1, 2, 4, 10]\n",
            "ln(x)    = [0.         0.69314718 1.38629436 2.30258509]\n",
            "log2(x)  = [0.         1.         2.         3.32192809]\n",
            "log10(x) = [0.         0.30103    0.60205999 1.        ]\n"
          ]
        }
      ],
      "source": [
        "# log functions\n",
        "x = [1, 2, 4, 10]\n",
        "print(\"x        =\", x)\n",
        "print(\"ln(x)    =\", np.log(x))\n",
        "print(\"log2(x)  =\", np.log2(x))\n",
        "print(\"log10(x) =\", np.log10(x))"
      ]
    },
    {
      "cell_type": "markdown",
      "id": "353b9c48",
      "metadata": {
        "id": "353b9c48"
      },
      "source": [
        "#### Agregates\n",
        "We can reduce array operations of any ufunc. A reduce repeatedly applies a given operation to the elements of the array until a single result remains.\n",
        "\n",
        "Calling `reduce` on the `add` ufunc results in the sum of all elements in the array"
      ]
    },
    {
      "cell_type": "code",
      "execution_count": null,
      "id": "d17fb9de",
      "metadata": {
        "id": "d17fb9de",
        "colab": {
          "base_uri": "https://localhost:8080/"
        },
        "outputId": "c70b06a0-284a-482f-cf1e-a2d7b0937177"
      },
      "outputs": [
        {
          "output_type": "execute_result",
          "data": {
            "text/plain": [
              "15"
            ]
          },
          "metadata": {},
          "execution_count": 67
        }
      ],
      "source": [
        "x = np.arange(1, 6)\n",
        "np.add.reduce(x)"
      ]
    },
    {
      "cell_type": "code",
      "execution_count": null,
      "id": "1222f617",
      "metadata": {
        "id": "1222f617",
        "colab": {
          "base_uri": "https://localhost:8080/"
        },
        "outputId": "0dee4644-ab4c-4bb6-f09f-64ebc0015dd0"
      },
      "outputs": [
        {
          "output_type": "execute_result",
          "data": {
            "text/plain": [
              "array([1, 2, 3, 4, 5])"
            ]
          },
          "metadata": {},
          "execution_count": 68
        }
      ],
      "source": [
        "x"
      ]
    },
    {
      "cell_type": "code",
      "execution_count": null,
      "id": "54adf270",
      "metadata": {
        "id": "54adf270",
        "colab": {
          "base_uri": "https://localhost:8080/"
        },
        "outputId": "aa3cec5c-5e16-4bfe-a8d2-96083ed0e72b"
      },
      "outputs": [
        {
          "output_type": "execute_result",
          "data": {
            "text/plain": [
              "120"
            ]
          },
          "metadata": {},
          "execution_count": 69
        }
      ],
      "source": [
        "# calling reduce on multiply\n",
        "# results in the product of all array elements\n",
        "np.multiply.reduce(x)"
      ]
    },
    {
      "cell_type": "code",
      "execution_count": null,
      "id": "aef70bb4",
      "metadata": {
        "id": "aef70bb4",
        "colab": {
          "base_uri": "https://localhost:8080/"
        },
        "outputId": "f4bbecfa-570b-4100-ecaf-8073f9e02c9a"
      },
      "outputs": [
        {
          "output_type": "execute_result",
          "data": {
            "text/plain": [
              "array([ 1,  3,  6, 10, 15])"
            ]
          },
          "metadata": {},
          "execution_count": 70
        }
      ],
      "source": [
        "# if we would like to store all the intermediate results\n",
        "# we can use accumulate instead\n",
        "np.add.accumulate(x)"
      ]
    },
    {
      "cell_type": "code",
      "execution_count": null,
      "id": "9d35b93b",
      "metadata": {
        "id": "9d35b93b",
        "colab": {
          "base_uri": "https://localhost:8080/"
        },
        "outputId": "e9ac2899-1502-45ef-8b45-38fbf6b5ef75"
      },
      "outputs": [
        {
          "output_type": "execute_result",
          "data": {
            "text/plain": [
              "array([  1,   2,   6,  24, 120])"
            ]
          },
          "metadata": {},
          "execution_count": 71
        }
      ],
      "source": [
        "np.multiply.accumulate(x)\n"
      ]
    },
    {
      "cell_type": "markdown",
      "id": "35b9023b",
      "metadata": {
        "id": "35b9023b"
      },
      "source": [
        "### Exercises for participation credit\n",
        "1. Create a new random integer array with Numpy functions. Use a random seed to guarantee the same array every time. Array must be of size (20, 5).\n",
        "2. Calculate the average value of the second column of the array created in exercise 1. Calculate the sum of all elements in columns 3 and 4. You can use built in ufuncs and indexing.\n",
        "\n",
        "We will now use a simple IoT readings dataset for this exercise. This dataset contains IoT temperature readings, where the reading was made (room) and location (reading was outside or inside a room).\n",
        "\n",
        "3. Open the data file `IOT-temp.csv` inside the `iotdata-compressed` file, you will need some program like 7zip or Winrar to uncompress this `iotdata-compressed` folder. Open this file with Pandas and create a new Dataframe with this data. Show the first 10 rows of data. Show the last 10 rows of data. Show data points for index 300 to 350.\n",
        "4. Create a new dataframe from index 1000 to 2000. Rename column `out/in` to `location`. Rename colum `room_id/id` to `room` How many of these readings were made outside? How many were inside?\n",
        "5. Split your new dataframe into readings that were made inside and readings that were made outside. Create a new dataframe with only inside readings. Create a new dataframe only with outside readings. Print the mean value of the temperature for both new dataframes.\n",
        "6. Save both dataframes created in exercise 5 to `csv` files.\n",
        "\n",
        "More information about the dataset for exercises 3 and 4 in [this link](https://www.kaggle.com/datasets/atulanandjha/temperature-readings-iot-devices)"
      ]
    },
    {
      "cell_type": "code",
      "source": [
        "import zipfile\n",
        "import pandas as pd\n",
        "import numpy as np\n",
        "from google.colab import files\n",
        "\n",
        "uploaded = files.upload()\n",
        "\n",
        "zip_file_name = 'archive.zip'\n",
        "\n",
        "with zipfile.ZipFile(zip_file_name, 'r') as zip_ref:\n",
        "    zip_ref.extractall()\n",
        "\n",
        "csv_file_name = 'IOT-temp.csv'\n",
        "df = pd.read_csv(csv_file_name)\n",
        "\n",
        "\n",
        "np.random.seed(42)\n",
        "\n",
        "random_array = np.random.randint(1, 101, size=(20, 5))\n",
        "\n",
        "average_second_column = np.mean(random_array[:, 1])\n",
        "\n",
        "sum_columns_3_and_4 = np.sum(random_array[:, 2]) + np.sum(random_array[:, 3])\n",
        "\n",
        "print(\"Average of the second column:\", average_second_column)\n",
        "print(\"Sum of all elements in columns 3 and 4:\", sum_columns_3_and_4)\n",
        "\n",
        "print(\"First 10 rows of data:\")\n",
        "print(df.head(10))\n",
        "\n",
        "print(\"Last 10 rows of data:\")\n",
        "print(df.tail(10))\n",
        "\n",
        "print(\"Data points for index 300 to 350:\")\n",
        "print(df.iloc[300:351])\n",
        "\n",
        "new_df = df.iloc[1000:2001].copy()\n",
        "\n",
        "new_df.rename(columns={'out/in': 'location', 'room_id/id': 'room'}, inplace=True)\n",
        "\n",
        "outside_readings_count = new_df[new_df['location'] == 'out'].shape[0]\n",
        "inside_readings_count = new_df[new_df['location'] == 'in'].shape[0]\n",
        "\n",
        "print(\"Number of outside readings:\", outside_readings_count)\n",
        "print(\"Number of inside readings:\", inside_readings_count)\n",
        "\n",
        "inside_readings = new_df[new_df['location'] == 'in']\n",
        "outside_readings = new_df[new_df['location'] == 'out']\n",
        "\n",
        "mean_inside_temp = inside_readings['temp'].mean()\n",
        "\n",
        "mean_outside_temp = outside_readings['temp'].mean()\n",
        "\n",
        "print(\"Mean temp for inside readings:\", mean_inside_temp)\n",
        "print(\"Mean temp for outside readings:\", mean_outside_temp)\n",
        "\n",
        "inside_csv_file_path = 'inside_readings.csv'\n",
        "inside_readings.to_csv(inside_csv_file_path, index=False)\n",
        "\n",
        "outside_csv_file_path = 'outside_readings.csv'\n",
        "outside_readings.to_csv(outside_csv_file_path, index=False)\n"
      ],
      "metadata": {
        "colab": {
          "base_uri": "https://localhost:8080/",
          "height": 1000
        },
        "id": "SWFM0bx8ImTB",
        "outputId": "01100872-7e27-4a02-8901-9dcb1cf10b2e"
      },
      "id": "SWFM0bx8ImTB",
      "execution_count": null,
      "outputs": [
        {
          "output_type": "display_data",
          "data": {
            "text/plain": [
              "<IPython.core.display.HTML object>"
            ],
            "text/html": [
              "\n",
              "     <input type=\"file\" id=\"files-c654f606-5527-40b3-8e36-67c57045ff90\" name=\"files[]\" multiple disabled\n",
              "        style=\"border:none\" />\n",
              "     <output id=\"result-c654f606-5527-40b3-8e36-67c57045ff90\">\n",
              "      Upload widget is only available when the cell has been executed in the\n",
              "      current browser session. Please rerun this cell to enable.\n",
              "      </output>\n",
              "      <script>// Copyright 2017 Google LLC\n",
              "//\n",
              "// Licensed under the Apache License, Version 2.0 (the \"License\");\n",
              "// you may not use this file except in compliance with the License.\n",
              "// You may obtain a copy of the License at\n",
              "//\n",
              "//      http://www.apache.org/licenses/LICENSE-2.0\n",
              "//\n",
              "// Unless required by applicable law or agreed to in writing, software\n",
              "// distributed under the License is distributed on an \"AS IS\" BASIS,\n",
              "// WITHOUT WARRANTIES OR CONDITIONS OF ANY KIND, either express or implied.\n",
              "// See the License for the specific language governing permissions and\n",
              "// limitations under the License.\n",
              "\n",
              "/**\n",
              " * @fileoverview Helpers for google.colab Python module.\n",
              " */\n",
              "(function(scope) {\n",
              "function span(text, styleAttributes = {}) {\n",
              "  const element = document.createElement('span');\n",
              "  element.textContent = text;\n",
              "  for (const key of Object.keys(styleAttributes)) {\n",
              "    element.style[key] = styleAttributes[key];\n",
              "  }\n",
              "  return element;\n",
              "}\n",
              "\n",
              "// Max number of bytes which will be uploaded at a time.\n",
              "const MAX_PAYLOAD_SIZE = 100 * 1024;\n",
              "\n",
              "function _uploadFiles(inputId, outputId) {\n",
              "  const steps = uploadFilesStep(inputId, outputId);\n",
              "  const outputElement = document.getElementById(outputId);\n",
              "  // Cache steps on the outputElement to make it available for the next call\n",
              "  // to uploadFilesContinue from Python.\n",
              "  outputElement.steps = steps;\n",
              "\n",
              "  return _uploadFilesContinue(outputId);\n",
              "}\n",
              "\n",
              "// This is roughly an async generator (not supported in the browser yet),\n",
              "// where there are multiple asynchronous steps and the Python side is going\n",
              "// to poll for completion of each step.\n",
              "// This uses a Promise to block the python side on completion of each step,\n",
              "// then passes the result of the previous step as the input to the next step.\n",
              "function _uploadFilesContinue(outputId) {\n",
              "  const outputElement = document.getElementById(outputId);\n",
              "  const steps = outputElement.steps;\n",
              "\n",
              "  const next = steps.next(outputElement.lastPromiseValue);\n",
              "  return Promise.resolve(next.value.promise).then((value) => {\n",
              "    // Cache the last promise value to make it available to the next\n",
              "    // step of the generator.\n",
              "    outputElement.lastPromiseValue = value;\n",
              "    return next.value.response;\n",
              "  });\n",
              "}\n",
              "\n",
              "/**\n",
              " * Generator function which is called between each async step of the upload\n",
              " * process.\n",
              " * @param {string} inputId Element ID of the input file picker element.\n",
              " * @param {string} outputId Element ID of the output display.\n",
              " * @return {!Iterable<!Object>} Iterable of next steps.\n",
              " */\n",
              "function* uploadFilesStep(inputId, outputId) {\n",
              "  const inputElement = document.getElementById(inputId);\n",
              "  inputElement.disabled = false;\n",
              "\n",
              "  const outputElement = document.getElementById(outputId);\n",
              "  outputElement.innerHTML = '';\n",
              "\n",
              "  const pickedPromise = new Promise((resolve) => {\n",
              "    inputElement.addEventListener('change', (e) => {\n",
              "      resolve(e.target.files);\n",
              "    });\n",
              "  });\n",
              "\n",
              "  const cancel = document.createElement('button');\n",
              "  inputElement.parentElement.appendChild(cancel);\n",
              "  cancel.textContent = 'Cancel upload';\n",
              "  const cancelPromise = new Promise((resolve) => {\n",
              "    cancel.onclick = () => {\n",
              "      resolve(null);\n",
              "    };\n",
              "  });\n",
              "\n",
              "  // Wait for the user to pick the files.\n",
              "  const files = yield {\n",
              "    promise: Promise.race([pickedPromise, cancelPromise]),\n",
              "    response: {\n",
              "      action: 'starting',\n",
              "    }\n",
              "  };\n",
              "\n",
              "  cancel.remove();\n",
              "\n",
              "  // Disable the input element since further picks are not allowed.\n",
              "  inputElement.disabled = true;\n",
              "\n",
              "  if (!files) {\n",
              "    return {\n",
              "      response: {\n",
              "        action: 'complete',\n",
              "      }\n",
              "    };\n",
              "  }\n",
              "\n",
              "  for (const file of files) {\n",
              "    const li = document.createElement('li');\n",
              "    li.append(span(file.name, {fontWeight: 'bold'}));\n",
              "    li.append(span(\n",
              "        `(${file.type || 'n/a'}) - ${file.size} bytes, ` +\n",
              "        `last modified: ${\n",
              "            file.lastModifiedDate ? file.lastModifiedDate.toLocaleDateString() :\n",
              "                                    'n/a'} - `));\n",
              "    const percent = span('0% done');\n",
              "    li.appendChild(percent);\n",
              "\n",
              "    outputElement.appendChild(li);\n",
              "\n",
              "    const fileDataPromise = new Promise((resolve) => {\n",
              "      const reader = new FileReader();\n",
              "      reader.onload = (e) => {\n",
              "        resolve(e.target.result);\n",
              "      };\n",
              "      reader.readAsArrayBuffer(file);\n",
              "    });\n",
              "    // Wait for the data to be ready.\n",
              "    let fileData = yield {\n",
              "      promise: fileDataPromise,\n",
              "      response: {\n",
              "        action: 'continue',\n",
              "      }\n",
              "    };\n",
              "\n",
              "    // Use a chunked sending to avoid message size limits. See b/62115660.\n",
              "    let position = 0;\n",
              "    do {\n",
              "      const length = Math.min(fileData.byteLength - position, MAX_PAYLOAD_SIZE);\n",
              "      const chunk = new Uint8Array(fileData, position, length);\n",
              "      position += length;\n",
              "\n",
              "      const base64 = btoa(String.fromCharCode.apply(null, chunk));\n",
              "      yield {\n",
              "        response: {\n",
              "          action: 'append',\n",
              "          file: file.name,\n",
              "          data: base64,\n",
              "        },\n",
              "      };\n",
              "\n",
              "      let percentDone = fileData.byteLength === 0 ?\n",
              "          100 :\n",
              "          Math.round((position / fileData.byteLength) * 100);\n",
              "      percent.textContent = `${percentDone}% done`;\n",
              "\n",
              "    } while (position < fileData.byteLength);\n",
              "  }\n",
              "\n",
              "  // All done.\n",
              "  yield {\n",
              "    response: {\n",
              "      action: 'complete',\n",
              "    }\n",
              "  };\n",
              "}\n",
              "\n",
              "scope.google = scope.google || {};\n",
              "scope.google.colab = scope.google.colab || {};\n",
              "scope.google.colab._files = {\n",
              "  _uploadFiles,\n",
              "  _uploadFilesContinue,\n",
              "};\n",
              "})(self);\n",
              "</script> "
            ]
          },
          "metadata": {}
        },
        {
          "output_type": "stream",
          "name": "stdout",
          "text": [
            "Saving archive.zip to archive (3).zip\n",
            "Average of the second column: 49.75\n",
            "Sum of all elements in columns 3 and 4: 2234\n",
            "First 10 rows of data:\n",
            "                                    id  room_id/id        noted_date  temp  \\\n",
            "0  __export__.temp_log_196134_bd201015  Room Admin  08-12-2018 09:30    29   \n",
            "1  __export__.temp_log_196131_7bca51bc  Room Admin  08-12-2018 09:30    29   \n",
            "2  __export__.temp_log_196127_522915e3  Room Admin  08-12-2018 09:29    41   \n",
            "3  __export__.temp_log_196128_be0919cf  Room Admin  08-12-2018 09:29    41   \n",
            "4  __export__.temp_log_196126_d30b72fb  Room Admin  08-12-2018 09:29    31   \n",
            "5  __export__.temp_log_196125_b0fa0b41  Room Admin  08-12-2018 09:29    31   \n",
            "6  __export__.temp_log_196121_01544d45  Room Admin  08-12-2018 09:28    29   \n",
            "7  __export__.temp_log_196122_f8b80a9f  Room Admin  08-12-2018 09:28    29   \n",
            "8  __export__.temp_log_196111_6b7a0848  Room Admin  08-12-2018 09:26    29   \n",
            "9  __export__.temp_log_196112_e134aebd  Room Admin  08-12-2018 09:26    29   \n",
            "\n",
            "  out/in  \n",
            "0     In  \n",
            "1     In  \n",
            "2    Out  \n",
            "3    Out  \n",
            "4     In  \n",
            "5     In  \n",
            "6     In  \n",
            "7     In  \n",
            "8     In  \n",
            "9     In  \n",
            "Last 10 rows of data:\n",
            "                                        id  room_id/id        noted_date  \\\n",
            "97596  __export__.temp_log_111718_05b8d88d  Room Admin  28-07-2018 07:07   \n",
            "97597   __export__.temp_log_96677_28b0568f  Room Admin  28-07-2018 07:07   \n",
            "97598  __export__.temp_log_110269_898976fc  Room Admin  28-07-2018 07:07   \n",
            "97599  __export__.temp_log_124155_da310d7b  Room Admin  28-07-2018 07:07   \n",
            "97600  __export__.temp_log_121414_9004c748  Room Admin  28-07-2018 07:07   \n",
            "97601   __export__.temp_log_91076_7fbd08ca  Room Admin  28-07-2018 07:07   \n",
            "97602  __export__.temp_log_147733_62c03f31  Room Admin  28-07-2018 07:07   \n",
            "97603  __export__.temp_log_100386_84093a68  Room Admin  28-07-2018 07:06   \n",
            "97604  __export__.temp_log_123297_4d8e690b  Room Admin  28-07-2018 07:06   \n",
            "97605  __export__.temp_log_133741_32958703  Room Admin  28-07-2018 07:06   \n",
            "\n",
            "       temp out/in  \n",
            "97596    32    Out  \n",
            "97597    31     In  \n",
            "97598    31     In  \n",
            "97599    32    Out  \n",
            "97600    31     In  \n",
            "97601    31     In  \n",
            "97602    31     In  \n",
            "97603    31     In  \n",
            "97604    31     In  \n",
            "97605    31     In  \n",
            "Data points for index 300 to 350:\n",
            "                                      id  room_id/id        noted_date  temp  \\\n",
            "300  __export__.temp_log_195177_d33112e6  Room Admin  08-12-2018 04:20    36   \n",
            "301  __export__.temp_log_195176_b9e9dbb5  Room Admin  08-12-2018 04:19    36   \n",
            "302  __export__.temp_log_195175_07586658  Room Admin  08-12-2018 04:19    29   \n",
            "303  __export__.temp_log_195174_72be5b21  Room Admin  08-12-2018 04:19    29   \n",
            "304  __export__.temp_log_195167_e8fa1d81  Room Admin  08-12-2018 04:18    36   \n",
            "305  __export__.temp_log_195166_abde5476  Room Admin  08-12-2018 04:17    36   \n",
            "306  __export__.temp_log_195165_99840a1c  Room Admin  08-12-2018 04:17    29   \n",
            "307  __export__.temp_log_195164_4ff2549b  Room Admin  08-12-2018 04:17    29   \n",
            "308  __export__.temp_log_195158_b42b3e8b  Room Admin  08-12-2018 04:16    37   \n",
            "309  __export__.temp_log_195159_f47207dc  Room Admin  08-12-2018 04:15    37   \n",
            "310  __export__.temp_log_195153_1fbbf291  Room Admin  08-12-2018 04:14    37   \n",
            "311  __export__.temp_log_195152_0912cefe  Room Admin  08-12-2018 04:14    37   \n",
            "312  __export__.temp_log_195146_7b25971b  Room Admin  08-12-2018 04:11    29   \n",
            "313  __export__.temp_log_195147_1be17b84  Room Admin  08-12-2018 04:11    29   \n",
            "314  __export__.temp_log_195139_3ae05a53  Room Admin  08-12-2018 04:09    29   \n",
            "315  __export__.temp_log_195138_4c528c59  Room Admin  08-12-2018 04:09    29   \n",
            "316  __export__.temp_log_195132_88aa5b76  Room Admin  08-12-2018 04:08    36   \n",
            "317  __export__.temp_log_195133_2e87c162  Room Admin  08-12-2018 04:08    36   \n",
            "318  __export__.temp_log_195131_f2bc3d99  Room Admin  08-12-2018 04:07    29   \n",
            "319  __export__.temp_log_195130_e2128775  Room Admin  08-12-2018 04:07    29   \n",
            "320  __export__.temp_log_195119_950652c4  Room Admin  08-12-2018 04:04    36   \n",
            "321  __export__.temp_log_195118_818af56d  Room Admin  08-12-2018 04:04    36   \n",
            "322  __export__.temp_log_195117_0310e550  Room Admin  08-12-2018 04:03    29   \n",
            "323  __export__.temp_log_195116_d31657b9  Room Admin  08-12-2018 04:03    29   \n",
            "324  __export__.temp_log_195114_0302145d  Room Admin  08-12-2018 04:03    30   \n",
            "325  __export__.temp_log_195115_7de36953  Room Admin  08-12-2018 04:03    30   \n",
            "326  __export__.temp_log_195109_8368b845  Room Admin  08-12-2018 04:02    36   \n",
            "327  __export__.temp_log_195108_1520c580  Room Admin  08-12-2018 04:02    36   \n",
            "328  __export__.temp_log_195107_e9bd831a  Room Admin  08-12-2018 04:01    29   \n",
            "329  __export__.temp_log_195106_1161a490  Room Admin  08-12-2018 04:01    29   \n",
            "330  __export__.temp_log_195099_94fff493  Room Admin  08-12-2018 04:00    36   \n",
            "331  __export__.temp_log_195098_6d37924f  Room Admin  08-12-2018 04:00    36   \n",
            "332  __export__.temp_log_195097_7fb4f591  Room Admin  08-12-2018 03:59    29   \n",
            "333  __export__.temp_log_195096_206056de  Room Admin  08-12-2018 03:59    29   \n",
            "334  __export__.temp_log_195091_b1536e7c  Room Admin  08-12-2018 03:59    30   \n",
            "335  __export__.temp_log_195090_a0dcc099  Room Admin  08-12-2018 03:59    30   \n",
            "336  __export__.temp_log_195088_79fc3ddd  Room Admin  08-12-2018 03:58    36   \n",
            "337  __export__.temp_log_195089_c24769a4  Room Admin  08-12-2018 03:58    36   \n",
            "338  __export__.temp_log_195087_2785ae71  Room Admin  08-12-2018 03:57    29   \n",
            "339  __export__.temp_log_195086_09d4d68c  Room Admin  08-12-2018 03:57    29   \n",
            "340  __export__.temp_log_195083_ea67bfee  Room Admin  08-12-2018 03:55    29   \n",
            "341  __export__.temp_log_195082_07be8615  Room Admin  08-12-2018 03:55    29   \n",
            "342  __export__.temp_log_195076_e7d5b616  Room Admin  08-12-2018 03:54    36   \n",
            "343  __export__.temp_log_195077_fe2b50d1  Room Admin  08-12-2018 03:54    36   \n",
            "344  __export__.temp_log_195075_9de50453  Room Admin  08-12-2018 03:53    29   \n",
            "345  __export__.temp_log_195074_8841b10a  Room Admin  08-12-2018 03:53    29   \n",
            "346  __export__.temp_log_195071_7362ce83  Room Admin  08-12-2018 03:53    30   \n",
            "347  __export__.temp_log_195069_1cc7bf5d  Room Admin  08-12-2018 03:53    30   \n",
            "348  __export__.temp_log_195066_732e758f  Room Admin  08-12-2018 03:51    29   \n",
            "349  __export__.temp_log_195067_02305247  Room Admin  08-12-2018 03:51    29   \n",
            "350  __export__.temp_log_195063_41d106fd  Room Admin  08-12-2018 03:50    35   \n",
            "\n",
            "    out/in  \n",
            "300    Out  \n",
            "301    Out  \n",
            "302     In  \n",
            "303     In  \n",
            "304    Out  \n",
            "305    Out  \n",
            "306     In  \n",
            "307     In  \n",
            "308    Out  \n",
            "309    Out  \n",
            "310    Out  \n",
            "311    Out  \n",
            "312     In  \n",
            "313     In  \n",
            "314     In  \n",
            "315     In  \n",
            "316    Out  \n",
            "317    Out  \n",
            "318     In  \n",
            "319     In  \n",
            "320    Out  \n",
            "321    Out  \n",
            "322     In  \n",
            "323     In  \n",
            "324     In  \n",
            "325     In  \n",
            "326    Out  \n",
            "327    Out  \n",
            "328     In  \n",
            "329     In  \n",
            "330    Out  \n",
            "331    Out  \n",
            "332     In  \n",
            "333     In  \n",
            "334     In  \n",
            "335     In  \n",
            "336    Out  \n",
            "337    Out  \n",
            "338     In  \n",
            "339     In  \n",
            "340     In  \n",
            "341     In  \n",
            "342    Out  \n",
            "343    Out  \n",
            "344     In  \n",
            "345     In  \n",
            "346     In  \n",
            "347     In  \n",
            "348     In  \n",
            "349     In  \n",
            "350    Out  \n",
            "Number of outside readings: 0\n",
            "Number of inside readings: 0\n",
            "Mean temp for inside readings: nan\n",
            "Mean temp for outside readings: nan\n"
          ]
        }
      ]
    }
  ],
  "metadata": {
    "kernelspec": {
      "display_name": "Python 3 (ipykernel)",
      "language": "python",
      "name": "python3"
    },
    "language_info": {
      "codemirror_mode": {
        "name": "ipython",
        "version": 3
      },
      "file_extension": ".py",
      "mimetype": "text/x-python",
      "name": "python",
      "nbconvert_exporter": "python",
      "pygments_lexer": "ipython3",
      "version": "3.10.4"
    },
    "colab": {
      "provenance": []
    }
  },
  "nbformat": 4,
  "nbformat_minor": 5
}