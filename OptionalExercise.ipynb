{
  "nbformat": 4,
  "nbformat_minor": 0,
  "metadata": {
    "colab": {
      "provenance": [],
      "authorship_tag": "ABX9TyMsQTJqMKCZAef6SOK5DVM5",
      "include_colab_link": true
    },
    "kernelspec": {
      "name": "python3",
      "display_name": "Python 3"
    },
    "language_info": {
      "name": "python"
    }
  },
  "cells": [
    {
      "cell_type": "markdown",
      "metadata": {
        "id": "view-in-github",
        "colab_type": "text"
      },
      "source": [
        "<a href=\"https://colab.research.google.com/github/aliawofford9317/LSAMP_Python_Course2024/blob/DanielaaVargas/OptionalExercise.ipynb\" target=\"_parent\"><img src=\"https://colab.research.google.com/assets/colab-badge.svg\" alt=\"Open In Colab\"/></a>"
      ]
    },
    {
      "cell_type": "code",
      "execution_count": 20,
      "metadata": {
        "colab": {
          "base_uri": "https://localhost:8080/"
        },
        "id": "-YNBtHTx7jcH",
        "outputId": "365c2bff-2490-4e86-8651-dd87d0e2f5ab"
      },
      "outputs": [
        {
          "output_type": "stream",
          "name": "stdout",
          "text": [
            "Daniela Vargas\n",
            "D s\n",
            "d s\n",
            "**************\n",
            "**\n",
            "**\n",
            "**\n",
            "**\n",
            "**\n",
            "**************\n"
          ]
        }
      ],
      "source": [
        "#OPTIONAL EXERCISE 06/07/24\n",
        "\n",
        "#String variables creation\n",
        "Name = 'Daniela'\n",
        "Last_Name = 'Vargas'\n",
        "\n",
        "# Concatenation\n",
        "Full_Name = Name + \" \" + Last_Name\n",
        "print (Full_Name)\n",
        "\n",
        "#Indexing\n",
        "IndN = Name[0]\n",
        "IndL = Last_Name[-1]\n",
        "print (IndN, IndL)\n",
        "\n",
        "#Lowercasing\n",
        "LcN = IndN.lower()\n",
        "LcL = IndL.lower()\n",
        "print(LcN, LcL)\n",
        "\n",
        "#String Multiplication\n",
        "star = '*'\n",
        "print(star*14 + '\\n' + (star*2 +'\\n')*5 + star*14)\n",
        "\n"
      ]
    }
  ]
}