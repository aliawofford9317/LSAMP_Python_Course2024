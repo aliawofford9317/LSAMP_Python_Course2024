{
  "cells": [
    {
      "cell_type": "markdown",
      "metadata": {
        "id": "view-in-github",
        "colab_type": "text"
      },
      "source": [
        "<a href=\"https://colab.research.google.com/github/aliawofford9317/LSAMP_Python_Course2024/blob/awells_2024/Lesson_1_Python_basics_class_awells.ipynb\" target=\"_parent\"><img src=\"https://colab.research.google.com/assets/colab-badge.svg\" alt=\"Open In Colab\"/></a>"
      ]
    },
    {
      "cell_type": "markdown",
      "id": "65297d5d",
      "metadata": {
        "id": "65297d5d"
      },
      "source": [
        "## Lesson 1 - Python basics\n",
        "In this lesson we will cover:\n",
        "- What is a variable and how to declare it\n",
        "- Python basic operators\n",
        "- Data types in Python\n",
        "- Lists\n",
        "- Dictionaries\n",
        "- Tuples\n",
        "- Optional exercises\n",
        "\n",
        "All along the lessons you will see comments on the code starting with `#`, these are comment lines and are used to describe what the code is doing"
      ]
    },
    {
      "cell_type": "code",
      "source": [
        "print(\"My Class Notes\")"
      ],
      "metadata": {
        "id": "G7P-ViuSHqCN",
        "colab": {
          "base_uri": "https://localhost:8080/"
        },
        "outputId": "32887220-bfac-4de8-a75e-775d500936aa"
      },
      "id": "G7P-ViuSHqCN",
      "execution_count": 1,
      "outputs": [
        {
          "output_type": "stream",
          "name": "stdout",
          "text": [
            "My Class Notes\n"
          ]
        }
      ]
    },
    {
      "cell_type": "markdown",
      "id": "d927a42b",
      "metadata": {
        "id": "d927a42b"
      },
      "source": [
        "## What is a variable?\n",
        "\n",
        "Imagine variables as containers to store data values.\n",
        "We can asign values to these containers using the `=` sign."
      ]
    },
    {
      "cell_type": "code",
      "execution_count": null,
      "id": "d273a7b9",
      "metadata": {
        "id": "d273a7b9"
      },
      "outputs": [],
      "source": [
        "# Here we assign a to 4, and A to \"Python\"\n",
        "a = 4\n",
        "A = \"Python\""
      ]
    },
    {
      "cell_type": "code",
      "execution_count": null,
      "id": "c6a73ac0",
      "metadata": {
        "id": "c6a73ac0"
      },
      "outputs": [],
      "source": [
        "# Print the variables\n"
      ]
    },
    {
      "cell_type": "markdown",
      "id": "a800cba9",
      "metadata": {
        "id": "a800cba9"
      },
      "source": [
        "From the example above we can see that variables are case sensitive, so a variable named `Variable` will be different from another one called `variable`.\n",
        "Variable names can consist of uppercase and lowercase letters, digits and underscore. The first character of a variable name cannot be a digit"
      ]
    },
    {
      "cell_type": "code",
      "execution_count": null,
      "id": "36e9c3df",
      "metadata": {
        "id": "36e9c3df"
      },
      "outputs": [],
      "source": []
    },
    {
      "cell_type": "code",
      "execution_count": null,
      "id": "3ade135f",
      "metadata": {
        "id": "3ade135f"
      },
      "outputs": [],
      "source": []
    },
    {
      "cell_type": "markdown",
      "id": "c31ad403",
      "metadata": {
        "id": "c31ad403"
      },
      "source": [
        "### Reserved words in Python\n",
        "For variable names:\n",
        "- We can use number, letters and underscores\n",
        "- Variables can include numbers, but not as the first character\n",
        "- There are some reserverd words in Python that cannot be used as variable names:\n",
        "\n",
        "`False\tdef\tif\traise\n",
        "None\tdel\timport\treturn\n",
        "True\telif\tin\ttry\n",
        "and\telse\tis\twhile\n",
        "as\texcept\tlambda\twith\n",
        "assert\tfinally\tnonlocal\tyield\n",
        "break\tfor\tnot\n",
        "class\tfrom\tor\n",
        "continue\tglobal\tpass`\n",
        "\n",
        "You can see this list any time by typing `help(\"keywords\")"
      ]
    },
    {
      "cell_type": "code",
      "execution_count": null,
      "id": "9e951328",
      "metadata": {
        "colab": {
          "base_uri": "https://localhost:8080/"
        },
        "id": "9e951328",
        "outputId": "f8def180-c2e2-4632-b9cd-932a72f7f32d"
      },
      "outputs": [
        {
          "output_type": "stream",
          "name": "stdout",
          "text": [
            "\n",
            "Here is a list of the Python keywords.  Enter any keyword to get more help.\n",
            "\n",
            "False               class               from                or\n",
            "None                continue            global              pass\n",
            "True                def                 if                  raise\n",
            "and                 del                 import              return\n",
            "as                  elif                in                  try\n",
            "assert              else                is                  while\n",
            "async               except              lambda              with\n",
            "await               finally             nonlocal            yield\n",
            "break               for                 not                 \n",
            "\n"
          ]
        }
      ],
      "source": [
        "help(\"keywords\")"
      ]
    },
    {
      "cell_type": "markdown",
      "id": "2ecace5e",
      "metadata": {
        "id": "2ecace5e"
      },
      "source": [
        "## Operators\n",
        "We now know how to create variables. Lets explore the basic operators in Python. Operators are special symbols in Python that carry out arithmetic or logical computations\n",
        "\n",
        "Arithmetic operators are used to perform mathematical operations like addition, substraction, multiplication, etc\n",
        "\n",
        "| Symbol | Operator | Description |\n",
        "|--------|----------|-------------|\n",
        "|   +    | Addition |  Add two operands |\n",
        "| - | Substraction | Substract two operands |\n",
        "| * | Multiplication | Multiply two operands |\n",
        "| / | Division | Divide two operands |\n",
        "| % | Modulus | Remainder of the division of left operand by the right |\n",
        "| // | Floor division |  Division that results into whole number adjusted to the left in the number line |\n",
        "| ** | Exponent | Left operand raised to the power of right |"
      ]
    },
    {
      "cell_type": "markdown",
      "id": "eb521890",
      "metadata": {
        "id": "eb521890"
      },
      "source": [
        "## Types\n",
        "Each variable can be of a particular type, but this type does not needs to be declared when you create the variable, and can even be changed after they have been set"
      ]
    },
    {
      "cell_type": "code",
      "execution_count": null,
      "id": "f1ce33e5",
      "metadata": {
        "id": "f1ce33e5"
      },
      "outputs": [],
      "source": []
    },
    {
      "cell_type": "code",
      "execution_count": null,
      "id": "9ba75bd0",
      "metadata": {
        "id": "9ba75bd0"
      },
      "outputs": [],
      "source": []
    },
    {
      "cell_type": "code",
      "execution_count": null,
      "id": "643fc42f",
      "metadata": {
        "id": "643fc42f"
      },
      "outputs": [],
      "source": []
    },
    {
      "cell_type": "markdown",
      "id": "e4e0ed01",
      "metadata": {
        "id": "e4e0ed01"
      },
      "source": [
        "Python is a highly object-oriented language. Every itme of data in Python is an object of a specific type or class. Consider the following code. Python does the following:\n",
        "- Create a integer object\n",
        "- Gives a value of 300\n",
        "- Displays it to the console"
      ]
    },
    {
      "cell_type": "code",
      "execution_count": null,
      "id": "a62138f0",
      "metadata": {
        "id": "a62138f0"
      },
      "outputs": [],
      "source": []
    },
    {
      "cell_type": "markdown",
      "id": "85e49441",
      "metadata": {
        "id": "85e49441"
      },
      "source": [
        "To see the actual integer object you can use the `type()` function"
      ]
    },
    {
      "cell_type": "code",
      "execution_count": null,
      "id": "5cbda040",
      "metadata": {
        "id": "5cbda040"
      },
      "outputs": [],
      "source": []
    },
    {
      "cell_type": "markdown",
      "id": "64edd62c",
      "metadata": {
        "id": "64edd62c"
      },
      "source": [
        "## Basic Data Types\n",
        "- Numeric (integer numbers, floating point)\n",
        "- String (letters, characters)\n",
        "- Boolean (True or False, 0 or 1)"
      ]
    },
    {
      "cell_type": "markdown",
      "id": "2f8cd151",
      "metadata": {
        "id": "2f8cd151"
      },
      "source": [
        "### Integers\n",
        "An integer value can be as big as you need it to be, this is only constrained by the amount of memory in the system. Python will interpret a sequence of decimal digits without any prefix to be a decimal number:"
      ]
    },
    {
      "cell_type": "code",
      "execution_count": null,
      "id": "46402c16",
      "metadata": {
        "id": "46402c16"
      },
      "outputs": [],
      "source": [
        "#print(123456789123456789123456789123456789123456789123456789123456789123456789123456789123456789)"
      ]
    },
    {
      "cell_type": "code",
      "execution_count": null,
      "id": "2698b8d4",
      "metadata": {
        "id": "2698b8d4"
      },
      "outputs": [],
      "source": [
        "#print(10)"
      ]
    },
    {
      "cell_type": "code",
      "execution_count": null,
      "id": "fa03d0d3",
      "metadata": {
        "id": "fa03d0d3"
      },
      "outputs": [],
      "source": [
        "#Binary representation\n",
        "#use 0b prefix\n",
        "#print(0b10)\n",
        "\n",
        "#Octal representation\n",
        "#use 0O prefix\n",
        "#print(0O10)\n",
        "\n",
        "#Hexadecimal representation\n",
        "#use 0X prefix\n",
        "#print(0X10)"
      ]
    },
    {
      "cell_type": "code",
      "source": [
        "## Quick Check for knowlege how would you check the data type for the following representations previous binary (0b10),Octal(0O10) and hexadecial (0X10) and what are they?"
      ],
      "metadata": {
        "id": "v3-ma7tY6Htw"
      },
      "execution_count": null,
      "outputs": [],
      "id": "v3-ma7tY6Htw"
    },
    {
      "cell_type": "code",
      "execution_count": null,
      "metadata": {
        "id": "36a83fc0"
      },
      "outputs": [],
      "source": [
        "#Answer for binary 0b10\n"
      ],
      "id": "36a83fc0"
    },
    {
      "cell_type": "code",
      "execution_count": null,
      "metadata": {
        "id": "7e26ec9e"
      },
      "outputs": [],
      "source": [
        "# Answer for Octal for 0O10"
      ],
      "id": "7e26ec9e"
    },
    {
      "cell_type": "code",
      "execution_count": null,
      "metadata": {
        "id": "3e11bb06"
      },
      "outputs": [],
      "source": [
        "#Answer for hexidecimal 0X10"
      ],
      "id": "3e11bb06"
    },
    {
      "cell_type": "markdown",
      "id": "9fe061d9",
      "metadata": {
        "id": "9fe061d9"
      },
      "source": [
        "### Floating point numbers\n",
        "The `float` type designates a floating-point number, which specifies a decimal point. This can also represent scientific notation using the character `e` or `E`"
      ]
    },
    {
      "cell_type": "code",
      "execution_count": null,
      "id": "96c151b0",
      "metadata": {
        "id": "96c151b0",
        "outputId": "f9a0936f-f0d3-43e6-b4c6-32224e0a92db"
      },
      "outputs": [
        {
          "data": {
            "text/plain": [
              "3.14"
            ]
          },
          "execution_count": 19,
          "metadata": {},
          "output_type": "execute_result"
        }
      ],
      "source": [
        "3.14"
      ]
    },
    {
      "cell_type": "code",
      "execution_count": null,
      "id": "689dee34",
      "metadata": {
        "id": "689dee34"
      },
      "outputs": [],
      "source": [
        "#type(3.14)"
      ]
    },
    {
      "cell_type": "code",
      "execution_count": null,
      "id": "8a599c7a",
      "metadata": {
        "id": "8a599c7a"
      },
      "outputs": [],
      "source": [
        "#.99"
      ]
    },
    {
      "cell_type": "code",
      "execution_count": null,
      "id": "b597680a",
      "metadata": {
        "id": "b597680a"
      },
      "outputs": [],
      "source": [
        "#5e8"
      ]
    },
    {
      "cell_type": "code",
      "execution_count": null,
      "id": "6af99295",
      "metadata": {
        "id": "6af99295",
        "outputId": "52d205ea-35be-4408-df90-8e8863e69442"
      },
      "outputs": [
        {
          "data": {
            "text/plain": [
              "float"
            ]
          },
          "execution_count": 23,
          "metadata": {},
          "output_type": "execute_result"
        }
      ],
      "source": [
        "#type(5e8)"
      ]
    },
    {
      "cell_type": "code",
      "execution_count": null,
      "id": "dc9d4797",
      "metadata": {
        "id": "dc9d4797"
      },
      "outputs": [],
      "source": [
        "#5.67E-6"
      ]
    },
    {
      "cell_type": "code",
      "execution_count": null,
      "id": "c0379fb3",
      "metadata": {
        "id": "c0379fb3"
      },
      "outputs": [],
      "source": [
        "#We can also convert or cast a integer to a float with float().\n",
        "\n"
      ]
    },
    {
      "cell_type": "markdown",
      "id": "6fd43043",
      "metadata": {
        "id": "6fd43043"
      },
      "source": [
        "Almost all platforms represent Python float values as 64-bit “double-precision” values, according to the IEEE 754 standard. In that case, the maximum value a floating-point number can have is approximately 1.8 ⨉ 10308. Python will indicate a number greater than that by the string inf"
      ]
    },
    {
      "cell_type": "code",
      "execution_count": null,
      "id": "8488b000",
      "metadata": {
        "id": "8488b000"
      },
      "outputs": [],
      "source": [
        "#1.79e308"
      ]
    },
    {
      "cell_type": "code",
      "execution_count": null,
      "id": "e9e58b9a",
      "metadata": {
        "id": "e9e58b9a"
      },
      "outputs": [],
      "source": [
        "#1.8e308"
      ]
    },
    {
      "cell_type": "markdown",
      "id": "545099db",
      "metadata": {
        "id": "545099db"
      },
      "source": [
        "The closest a nonzero number can be to zero is approximately 5.0 ⨉ 10-324. Anything closer to zero than that is effectively zero:"
      ]
    },
    {
      "cell_type": "code",
      "execution_count": null,
      "id": "2da777ac",
      "metadata": {
        "id": "2da777ac"
      },
      "outputs": [],
      "source": [
        "#5e-324"
      ]
    },
    {
      "cell_type": "code",
      "execution_count": null,
      "id": "cdde2a65",
      "metadata": {
        "id": "cdde2a65"
      },
      "outputs": [],
      "source": [
        "#1e-325"
      ]
    },
    {
      "cell_type": "markdown",
      "id": "69cf2b84",
      "metadata": {
        "id": "69cf2b84"
      },
      "source": [
        "In most cases the internal representation of a floating-point number is an approximation of the actual value. In practice, the difference between the actual value and the represented value is very small and should not usually cause significant problems."
      ]
    },
    {
      "cell_type": "code",
      "execution_count": null,
      "id": "05711ac5",
      "metadata": {
        "id": "05711ac5"
      },
      "outputs": [],
      "source": [
        "# == means 'is equal?' or 'is this equal to this?'\n"
      ]
    },
    {
      "cell_type": "code",
      "execution_count": null,
      "id": "c4f0446e",
      "metadata": {
        "id": "c4f0446e"
      },
      "outputs": [],
      "source": [
        "#Lets format our float numbers to have 17 decimal places\n"
      ]
    },
    {
      "cell_type": "markdown",
      "id": "4f5896de",
      "metadata": {
        "id": "4f5896de"
      },
      "source": [
        "### Complex numbers\n",
        "Complex numbers are specified as `<real part>+<imaginary part>j`. You can print only the real or imaginary part by using `.imag` or `.real`"
      ]
    },
    {
      "cell_type": "code",
      "execution_count": null,
      "id": "298bf4f7",
      "metadata": {
        "id": "298bf4f7",
        "outputId": "3e961100-44e1-4c7d-e310-9a9902c199ee",
        "colab": {
          "base_uri": "https://localhost:8080/"
        }
      },
      "outputs": [
        {
          "output_type": "execute_result",
          "data": {
            "text/plain": [
              "(2+5j)"
            ]
          },
          "metadata": {},
          "execution_count": 25
        }
      ],
      "source": [
        "2+5j"
      ]
    },
    {
      "cell_type": "code",
      "execution_count": null,
      "id": "55f38c7c",
      "metadata": {
        "id": "55f38c7c",
        "outputId": "ded3f605-b6bb-4205-afe9-df9832cec8a5"
      },
      "outputs": [
        {
          "data": {
            "text/plain": [
              "complex"
            ]
          },
          "execution_count": 35,
          "metadata": {},
          "output_type": "execute_result"
        }
      ],
      "source": [
        "type(2+5j)"
      ]
    },
    {
      "cell_type": "code",
      "execution_count": null,
      "id": "d8d84ba7",
      "metadata": {
        "id": "d8d84ba7",
        "outputId": "3ffc4012-2f56-41ee-b211-a36f1fd3b5ff"
      },
      "outputs": [
        {
          "data": {
            "text/plain": [
              "1.0"
            ]
          },
          "execution_count": 37,
          "metadata": {},
          "output_type": "execute_result"
        }
      ],
      "source": [
        "#comp = 1+2j\n"
      ]
    },
    {
      "cell_type": "code",
      "execution_count": null,
      "id": "19826f04",
      "metadata": {
        "id": "19826f04"
      },
      "outputs": [],
      "source": [
        "# try printing the imaginary part"
      ]
    },
    {
      "cell_type": "markdown",
      "id": "59bb12dd",
      "metadata": {
        "id": "59bb12dd"
      },
      "source": [
        "### Strings\n",
        "Strings are sequences of character data. In Python this is called `str`.\n",
        "Strings can be limited by single or double quotes."
      ]
    },
    {
      "cell_type": "code",
      "execution_count": null,
      "id": "78aea91a",
      "metadata": {
        "id": "78aea91a"
      },
      "outputs": [],
      "source": [
        "#Try printing using This is a string using and check data type \"\""
      ]
    },
    {
      "cell_type": "code",
      "execution_count": null,
      "id": "22b82343",
      "metadata": {
        "id": "22b82343"
      },
      "outputs": [],
      "source": [
        "# Try printing string using '' and check the data type"
      ]
    },
    {
      "cell_type": "markdown",
      "id": "145cb9e7",
      "metadata": {
        "id": "145cb9e7"
      },
      "source": [
        "A string can contain as many characters as you wish. The only limit is the computer memory. A string can also be empty."
      ]
    },
    {
      "cell_type": "code",
      "execution_count": null,
      "id": "1f921753",
      "metadata": {
        "id": "1f921753"
      },
      "outputs": [],
      "source": []
    },
    {
      "cell_type": "code",
      "execution_count": null,
      "id": "8d4d828d",
      "metadata": {
        "id": "8d4d828d"
      },
      "outputs": [],
      "source": [
        "#Double and single quotes can be combined\n",
        "\n"
      ]
    },
    {
      "cell_type": "markdown",
      "id": "78932997",
      "metadata": {
        "id": "78932997"
      },
      "source": [
        "Here are some useful string functions, concatenation and indexing"
      ]
    },
    {
      "cell_type": "code",
      "execution_count": null,
      "id": "10ae543b",
      "metadata": {
        "id": "10ae543b"
      },
      "outputs": [],
      "source": [
        "#message = \"what do you like?\"\n",
        "# length of string\n"
      ]
    },
    {
      "cell_type": "code",
      "execution_count": null,
      "id": "38b2f65c",
      "metadata": {
        "id": "38b2f65c"
      },
      "outputs": [],
      "source": [
        "# Make upper-case. See also str.lower()\n"
      ]
    },
    {
      "cell_type": "code",
      "execution_count": null,
      "id": "f30c3eec",
      "metadata": {
        "id": "f30c3eec"
      },
      "outputs": [],
      "source": [
        "# Make lower-case.\n"
      ]
    },
    {
      "cell_type": "code",
      "execution_count": null,
      "id": "58378fff",
      "metadata": {
        "id": "58378fff",
        "outputId": "2069a2fe-f66c-412d-9d62-0fafd90a999d"
      },
      "outputs": [
        {
          "data": {
            "text/plain": [
              "'What do you like?'"
            ]
          },
          "execution_count": 49,
          "metadata": {},
          "output_type": "execute_result"
        }
      ],
      "source": [
        "# Capitalize. See also str.title()\n",
        "message.capitalize()"
      ]
    },
    {
      "cell_type": "code",
      "execution_count": null,
      "id": "e6b59e79",
      "metadata": {
        "id": "e6b59e79"
      },
      "outputs": [],
      "source": [
        "# Capitalize every first letter\n"
      ]
    },
    {
      "cell_type": "code",
      "execution_count": null,
      "id": "b45c0f40",
      "metadata": {
        "id": "b45c0f40"
      },
      "outputs": [],
      "source": [
        "# How to Concatenate or join two or more strings with +\n"
      ]
    },
    {
      "cell_type": "code",
      "execution_count": null,
      "id": "4c466e71",
      "metadata": {
        "id": "4c466e71"
      },
      "outputs": [],
      "source": [
        "# an astherisc * will multiply your string\n",
        "#like = \"I like Python\"\n"
      ]
    },
    {
      "cell_type": "markdown",
      "id": "a151b0f1",
      "metadata": {
        "id": "a151b0f1"
      },
      "source": [
        "Indexing means accesing the individual elements or characters of a string (or list, as you will see later). To index a string use the `[]` brackets and the number you want to index. Just remember Python uses zero-based index."
      ]
    },
    {
      "cell_type": "code",
      "execution_count": null,
      "id": "d49a55db",
      "metadata": {
        "id": "d49a55db"
      },
      "outputs": [],
      "source": [
        "#indexing\n"
      ]
    },
    {
      "cell_type": "code",
      "execution_count": null,
      "id": "ff85a50d",
      "metadata": {
        "id": "ff85a50d"
      },
      "outputs": [],
      "source": []
    },
    {
      "cell_type": "code",
      "execution_count": null,
      "id": "474dcf0c",
      "metadata": {
        "id": "474dcf0c"
      },
      "outputs": [],
      "source": []
    },
    {
      "cell_type": "code",
      "execution_count": null,
      "id": "a72d19c1",
      "metadata": {
        "id": "a72d19c1"
      },
      "outputs": [],
      "source": [
        "# A negative index will start counting from the right side\n",
        "# Here is the last letter\n"
      ]
    },
    {
      "cell_type": "markdown",
      "id": "5fe325f2",
      "metadata": {
        "id": "5fe325f2"
      },
      "source": [
        "### Optional Exercise\n",
        "Create two string variables, one with your first name, another with your last name.\n",
        "- Concatenate these two variables\n",
        "- Index just the first letter of your name and the first letter of your last name using `[]`, concatenate and print these two characters.\n",
        "- Can you print the initials of your first and last name but this time only in lowercase letters?\n",
        "- Try to print the following rectangle using only string multiplication with `*`\n",
        "\n",
        "`**************` \\\n",
        "`*            *` \\\n",
        "`*            *` \\\n",
        "`*            *` \\\n",
        "`*            *` \\\n",
        "`*            *` \\\n",
        "`**************`"
      ]
    },
    {
      "cell_type": "markdown",
      "id": "6a3766cf",
      "metadata": {
        "id": "6a3766cf"
      },
      "source": [
        "### Boolean Type\n",
        "Objects of Boolean type may have one of two values, `True` or `False`:\n",
        "Expressions in Python are often evaluated in Boolean context, meaning they are interpreted to represent truth or falsehood."
      ]
    },
    {
      "cell_type": "code",
      "execution_count": null,
      "id": "fbb1b3cc",
      "metadata": {
        "id": "fbb1b3cc"
      },
      "outputs": [],
      "source": [
        "# Compare if 4 if less than 5\n"
      ]
    },
    {
      "cell_type": "code",
      "execution_count": null,
      "id": "c61ec305",
      "metadata": {
        "id": "c61ec305",
        "outputId": "0ae30f1d-bf97-49c0-9190-a690610c6e1e"
      },
      "outputs": [
        {
          "data": {
            "text/plain": [
              "bool"
            ]
          },
          "execution_count": 71,
          "metadata": {},
          "output_type": "execute_result"
        }
      ],
      "source": []
    },
    {
      "cell_type": "code",
      "execution_count": null,
      "id": "b0e45897",
      "metadata": {
        "id": "b0e45897"
      },
      "outputs": [],
      "source": []
    },
    {
      "cell_type": "code",
      "execution_count": null,
      "id": "b5aab6f0",
      "metadata": {
        "id": "b5aab6f0",
        "outputId": "5d693b92-1a18-4c9b-f446-feb5be1fbcea"
      },
      "outputs": [
        {
          "data": {
            "text/plain": [
              "True"
            ]
          },
          "execution_count": 76,
          "metadata": {},
          "output_type": "execute_result"
        }
      ],
      "source": [
        "# Not zero\n"
      ]
    },
    {
      "cell_type": "code",
      "execution_count": null,
      "id": "3e20f5c3",
      "metadata": {
        "id": "3e20f5c3",
        "outputId": "e0775f95-39cd-40e3-c823-d7a48a88ff35"
      },
      "outputs": [
        {
          "data": {
            "text/plain": [
              "False"
            ]
          },
          "execution_count": 77,
          "metadata": {},
          "output_type": "execute_result"
        }
      ],
      "source": [
        "# A zero is equal to False\n"
      ]
    },
    {
      "cell_type": "code",
      "execution_count": null,
      "id": "67d70d06",
      "metadata": {
        "id": "67d70d06",
        "outputId": "f5082d59-bd32-4dc1-932d-2fc6ae639e45"
      },
      "outputs": [
        {
          "data": {
            "text/plain": [
              "True"
            ]
          },
          "execution_count": 78,
          "metadata": {},
          "output_type": "execute_result"
        }
      ],
      "source": [
        "# Also not zero\n"
      ]
    },
    {
      "cell_type": "code",
      "execution_count": null,
      "id": "61a8db9a",
      "metadata": {
        "id": "61a8db9a",
        "outputId": "ef6c6fc4-aab2-4f5c-a301-8c7bd078e2a3"
      },
      "outputs": [
        {
          "data": {
            "text/plain": [
              "False"
            ]
          },
          "execution_count": 79,
          "metadata": {},
          "output_type": "execute_result"
        }
      ],
      "source": [
        "# try a bool on None\n",
        "bool(None)"
      ]
    },
    {
      "cell_type": "code",
      "execution_count": null,
      "id": "c4ac8aec",
      "metadata": {
        "id": "c4ac8aec"
      },
      "outputs": [],
      "source": [
        "# what about an Empty string bool\n"
      ]
    },
    {
      "cell_type": "code",
      "execution_count": null,
      "id": "b55886b2",
      "metadata": {
        "id": "b55886b2"
      },
      "outputs": [],
      "source": [
        "#bool(\"abc\")"
      ]
    },
    {
      "cell_type": "code",
      "execution_count": null,
      "id": "510bda47",
      "metadata": {
        "id": "510bda47"
      },
      "outputs": [],
      "source": [
        "#bool([1, 2, 3])"
      ]
    },
    {
      "cell_type": "code",
      "execution_count": null,
      "id": "6466ab80",
      "metadata": {
        "id": "6466ab80"
      },
      "outputs": [],
      "source": [
        "# Empty list\n",
        "#bool([])"
      ]
    },
    {
      "cell_type": "code",
      "execution_count": null,
      "id": "a1082049",
      "metadata": {
        "id": "a1082049"
      },
      "outputs": [],
      "source": [
        "#bool(0.0)"
      ]
    },
    {
      "cell_type": "code",
      "execution_count": null,
      "id": "0f4a3cf2",
      "metadata": {
        "id": "0f4a3cf2"
      },
      "outputs": [],
      "source": [
        "#bool(1.0)"
      ]
    },
    {
      "cell_type": "code",
      "execution_count": null,
      "id": "a5ad8551",
      "metadata": {
        "id": "a5ad8551"
      },
      "outputs": [],
      "source": [
        "#int(True)"
      ]
    },
    {
      "cell_type": "code",
      "execution_count": null,
      "id": "ebaa2672",
      "metadata": {
        "id": "ebaa2672"
      },
      "outputs": [],
      "source": [
        "#int(False)"
      ]
    },
    {
      "cell_type": "markdown",
      "id": "156dfe28",
      "metadata": {
        "id": "156dfe28"
      },
      "source": [
        "### Other useful data types\n",
        "### Lists\n",
        "Lists are mutable collections of objects, similar to arrays in other programming languages. Lists are defined in Python by enclosing a comma-separated sequence of objects in square brackets `[]`\n",
        "- Lists are ordered\n",
        "- Lists can contain different types of objects\n",
        "- List objects can be accessed by index\n",
        "- Lists can be nested to arbitrary depth e.g. list of lists\n",
        "- Lists are mutable, they can be changed"
      ]
    },
    {
      "cell_type": "code",
      "execution_count": null,
      "id": "4add7d38",
      "metadata": {
        "id": "4add7d38"
      },
      "outputs": [],
      "source": [
        "# Creating a string list\n"
      ]
    },
    {
      "cell_type": "code",
      "execution_count": null,
      "id": "65faca10",
      "metadata": {
        "id": "65faca10"
      },
      "outputs": [],
      "source": [
        "# Lists are ordered\n",
        "# lists with the same elements in different order are not the same\n"
      ]
    },
    {
      "cell_type": "code",
      "execution_count": null,
      "id": "14fa7954",
      "metadata": {
        "id": "14fa7954"
      },
      "outputs": [],
      "source": []
    },
    {
      "cell_type": "code",
      "execution_count": null,
      "id": "d0ae682c",
      "metadata": {
        "id": "d0ae682c"
      },
      "outputs": [],
      "source": [
        "# Lists can contain different types of objects\n"
      ]
    },
    {
      "cell_type": "code",
      "execution_count": null,
      "id": "1be3520d",
      "metadata": {
        "id": "1be3520d"
      },
      "outputs": [],
      "source": []
    },
    {
      "cell_type": "code",
      "execution_count": null,
      "id": "33c22ce1",
      "metadata": {
        "id": "33c22ce1"
      },
      "outputs": [],
      "source": []
    },
    {
      "cell_type": "code",
      "execution_count": null,
      "id": "64a0c4a9",
      "metadata": {
        "id": "64a0c4a9"
      },
      "outputs": [],
      "source": [
        "# Lists can contain the same object multiple times\n"
      ]
    },
    {
      "cell_type": "code",
      "execution_count": null,
      "id": "2ea04079",
      "metadata": {
        "id": "2ea04079"
      },
      "outputs": [],
      "source": [
        "# Lists objects can be accessed by index\n"
      ]
    },
    {
      "cell_type": "code",
      "execution_count": null,
      "id": "5c65e5ee",
      "metadata": {
        "id": "5c65e5ee"
      },
      "outputs": [],
      "source": []
    },
    {
      "cell_type": "code",
      "execution_count": null,
      "id": "b0d744d5",
      "metadata": {
        "id": "b0d744d5"
      },
      "outputs": [],
      "source": [
        "# Remember a negative index counts from the end of the list\n"
      ]
    },
    {
      "cell_type": "markdown",
      "id": "1b769660",
      "metadata": {
        "id": "1b769660"
      },
      "source": [
        "Slicing a list means taking a range of the objects that exist in that list, this is done by the square brackets and two index numbers separated by `:` similar to this `[0:3]`. In a list `a`, `a[m:n]` returns the portion of a from index m to, but not including, index n"
      ]
    },
    {
      "cell_type": "code",
      "execution_count": null,
      "id": "f2db9054",
      "metadata": {
        "id": "f2db9054"
      },
      "outputs": [],
      "source": [
        "#slicing list\n"
      ]
    },
    {
      "cell_type": "code",
      "execution_count": null,
      "id": "b6d5d7d6",
      "metadata": {
        "id": "b6d5d7d6"
      },
      "outputs": [],
      "source": [
        "# not including index 3\n"
      ]
    },
    {
      "cell_type": "code",
      "execution_count": null,
      "id": "000942df",
      "metadata": {
        "id": "000942df"
      },
      "outputs": [],
      "source": []
    },
    {
      "cell_type": "code",
      "execution_count": null,
      "id": "2a5e7c1e",
      "metadata": {
        "id": "2a5e7c1e"
      },
      "outputs": [],
      "source": [
        "# Negative slicing is supported\n"
      ]
    },
    {
      "cell_type": "code",
      "execution_count": null,
      "id": "538dcb72",
      "metadata": {
        "id": "538dcb72",
        "outputId": "36e6319d-689b-40e9-8459-e94dc49e8a69"
      },
      "outputs": [
        {
          "data": {
            "text/plain": [
              "['John', 'Mary', 'Max']"
            ]
          },
          "execution_count": 119,
          "metadata": {},
          "output_type": "execute_result"
        }
      ],
      "source": [
        "# Omiting the first index starts at the beginning of the list\n"
      ]
    },
    {
      "cell_type": "code",
      "execution_count": null,
      "id": "21e387e2",
      "metadata": {
        "id": "21e387e2"
      },
      "outputs": [],
      "source": [
        "# Omiting the second index extend the slice to the end of the list\n"
      ]
    },
    {
      "cell_type": "code",
      "execution_count": null,
      "id": "187c870f",
      "metadata": {
        "id": "187c870f"
      },
      "outputs": [],
      "source": [
        "# You can also specify a step\n"
      ]
    },
    {
      "cell_type": "code",
      "execution_count": null,
      "id": "7e202ccb",
      "metadata": {
        "id": "7e202ccb"
      },
      "outputs": [],
      "source": [
        "# Lets visualize step/stride with a numeric list\n",
        "#numbers = [0, 1, 2, 3, 4, 5, 6, 7, 8, 9]\n",
        "#numbers"
      ]
    },
    {
      "cell_type": "code",
      "execution_count": null,
      "id": "e5b4299b",
      "metadata": {
        "id": "e5b4299b"
      },
      "outputs": [],
      "source": [
        "# Start in index 0, include all elements, step every 2 elements\n"
      ]
    },
    {
      "cell_type": "code",
      "execution_count": null,
      "id": "ae80c559",
      "metadata": {
        "id": "ae80c559"
      },
      "outputs": [],
      "source": [
        "# You can also slice strings!\n",
        "message = 'Hello'\n"
      ]
    },
    {
      "cell_type": "code",
      "execution_count": null,
      "id": "499bcc44",
      "metadata": {
        "id": "499bcc44"
      },
      "outputs": [],
      "source": []
    },
    {
      "cell_type": "markdown",
      "id": "752a8084",
      "metadata": {
        "id": "752a8084"
      },
      "source": [
        "The concatenation (+) and replication (*) operators:\n"
      ]
    },
    {
      "cell_type": "code",
      "execution_count": null,
      "id": "89d9c0ee",
      "metadata": {
        "id": "89d9c0ee"
      },
      "outputs": [],
      "source": [
        "#e = ['hello', 'yes', 'no']\n",
        "#e"
      ]
    },
    {
      "cell_type": "code",
      "execution_count": null,
      "id": "aa2f6237",
      "metadata": {
        "id": "aa2f6237"
      },
      "outputs": [],
      "source": []
    },
    {
      "cell_type": "code",
      "execution_count": null,
      "id": "ed1fac87",
      "metadata": {
        "id": "ed1fac87"
      },
      "outputs": [],
      "source": []
    },
    {
      "cell_type": "markdown",
      "id": "553f2fb4",
      "metadata": {
        "id": "553f2fb4"
      },
      "source": [
        "The len(), min(), and max() functions"
      ]
    },
    {
      "cell_type": "code",
      "execution_count": null,
      "id": "639a486a",
      "metadata": {
        "id": "639a486a"
      },
      "outputs": [],
      "source": [
        "#f = [5, 10, 15, 20, 25]\n"
      ]
    },
    {
      "cell_type": "code",
      "execution_count": null,
      "id": "fa4cfa36",
      "metadata": {
        "id": "fa4cfa36"
      },
      "outputs": [],
      "source": [
        "\n",
        "# Try this function with a string list. Can you explain what is happening?"
      ]
    },
    {
      "cell_type": "code",
      "execution_count": null,
      "id": "43f778ea",
      "metadata": {
        "id": "43f778ea"
      },
      "outputs": [],
      "source": [
        "\n",
        "# Try this function with a string list. Can you explain what is happening?"
      ]
    },
    {
      "cell_type": "markdown",
      "id": "e93b35a1",
      "metadata": {
        "id": "e93b35a1"
      },
      "source": [
        "Lists can be nested"
      ]
    },
    {
      "cell_type": "code",
      "execution_count": null,
      "id": "67c25d8e",
      "metadata": {
        "id": "67c25d8e"
      },
      "outputs": [],
      "source": [
        "#my_lists = [[1, 2, 3, 4], [10, 20, 30], ['hello', 'from', 'my list']]\n",
        "#my_lists"
      ]
    },
    {
      "cell_type": "code",
      "execution_count": null,
      "id": "926818e8",
      "metadata": {
        "id": "926818e8"
      },
      "outputs": [],
      "source": [
        "#my_lists[0]"
      ]
    },
    {
      "cell_type": "code",
      "execution_count": null,
      "id": "2656eb4d",
      "metadata": {
        "id": "2656eb4d"
      },
      "outputs": [],
      "source": [
        "# Accessing the second index\n"
      ]
    },
    {
      "cell_type": "code",
      "execution_count": null,
      "id": "3f9b96c5",
      "metadata": {
        "id": "3f9b96c5"
      },
      "outputs": [],
      "source": []
    },
    {
      "cell_type": "markdown",
      "id": "4388b319",
      "metadata": {
        "id": "4388b319"
      },
      "source": [
        "Lists are mutable, meaning they can be changed"
      ]
    },
    {
      "cell_type": "code",
      "execution_count": null,
      "id": "c400c936",
      "metadata": {
        "id": "c400c936",
        "outputId": "7690e2a1-88fd-468f-a2f7-f2266edbf945"
      },
      "outputs": [
        {
          "data": {
            "text/plain": [
              "['eggs', 'cheese', 'milk', 'bread']"
            ]
          },
          "execution_count": 161,
          "metadata": {},
          "output_type": "execute_result"
        }
      ],
      "source": [
        "#groceries = ['eggs', 'cheese', 'milk', 'bread']\n",
        "#groceries"
      ]
    },
    {
      "cell_type": "code",
      "execution_count": null,
      "id": "5483caa4",
      "metadata": {
        "id": "5483caa4"
      },
      "outputs": [],
      "source": []
    },
    {
      "cell_type": "code",
      "execution_count": null,
      "id": "767edce9",
      "metadata": {
        "id": "767edce9",
        "outputId": "7800a1d9-8a1d-431f-8013-de30d3a57cec"
      },
      "outputs": [
        {
          "data": {
            "text/plain": [
              "['eggs', 'cheese', 'soy milk', 'bread']"
            ]
          },
          "execution_count": 163,
          "metadata": {},
          "output_type": "execute_result"
        }
      ],
      "source": []
    },
    {
      "cell_type": "code",
      "execution_count": null,
      "id": "2c70d911",
      "metadata": {
        "id": "2c70d911"
      },
      "outputs": [],
      "source": [
        "# delete an element with del()\n"
      ]
    },
    {
      "cell_type": "code",
      "execution_count": null,
      "id": "9b43a237",
      "metadata": {
        "id": "9b43a237"
      },
      "outputs": [],
      "source": [
        "# Add a value at the end of a list with append\n",
        "\n"
      ]
    },
    {
      "cell_type": "code",
      "execution_count": null,
      "id": "90ba3f90",
      "metadata": {
        "id": "90ba3f90",
        "outputId": "c236aa64-6c5f-4103-8ceb-5e2b652d235c"
      },
      "outputs": [
        {
          "data": {
            "text/plain": [
              "['bread', 'coffee', 'eggs', 'soy milk']"
            ]
          },
          "execution_count": 167,
          "metadata": {},
          "output_type": "execute_result"
        }
      ],
      "source": [
        "# sort a list\n"
      ]
    },
    {
      "cell_type": "code",
      "execution_count": null,
      "id": "fb475e99",
      "metadata": {
        "id": "fb475e99",
        "outputId": "1d0b2a1f-6f1b-4245-daae-09a027e9154e"
      },
      "outputs": [
        {
          "data": {
            "text/plain": [
              "[22, 18, 15, 25, 26, 19, 35, 42]"
            ]
          },
          "execution_count": 168,
          "metadata": {},
          "output_type": "execute_result"
        }
      ],
      "source": [
        "#ages = [22, 18, 15, 25, 26, 19, 35, 42]\n",
        "#ages"
      ]
    },
    {
      "cell_type": "code",
      "execution_count": null,
      "id": "a35aaf5a",
      "metadata": {
        "id": "a35aaf5a"
      },
      "outputs": [],
      "source": []
    },
    {
      "cell_type": "code",
      "execution_count": null,
      "id": "402772f3",
      "metadata": {
        "id": "402772f3"
      },
      "outputs": [],
      "source": [
        "# Invert a list\n"
      ]
    },
    {
      "cell_type": "code",
      "execution_count": null,
      "id": "bba06ef4",
      "metadata": {
        "id": "bba06ef4"
      },
      "outputs": [],
      "source": []
    },
    {
      "cell_type": "code",
      "execution_count": null,
      "id": "0579280f",
      "metadata": {
        "id": "0579280f"
      },
      "outputs": [],
      "source": [
        "# Delete an element from a specified index\n"
      ]
    },
    {
      "cell_type": "code",
      "execution_count": null,
      "id": "edff7aa5",
      "metadata": {
        "id": "edff7aa5"
      },
      "outputs": [],
      "source": [
        "# You can also specify a value to remove with .remove()\n"
      ]
    },
    {
      "cell_type": "code",
      "execution_count": null,
      "id": "1ef9eb85",
      "metadata": {
        "id": "1ef9eb85"
      },
      "outputs": [],
      "source": [
        "# Insert a value at a specified index\n"
      ]
    },
    {
      "cell_type": "markdown",
      "id": "fbfce63d",
      "metadata": {
        "id": "fbfce63d"
      },
      "source": [
        "### Tuples\n",
        "Tuples are static ordered collections of objects.\n",
        "Tuples are identical to lists except in the following:\n",
        "- Tuples are defined by `()`\n",
        "- Tuples are inmutable, they cannot change"
      ]
    },
    {
      "cell_type": "code",
      "execution_count": null,
      "id": "5d74f8dc",
      "metadata": {
        "id": "5d74f8dc"
      },
      "outputs": [],
      "source": []
    },
    {
      "cell_type": "code",
      "execution_count": null,
      "id": "6a640ad9",
      "metadata": {
        "id": "6a640ad9"
      },
      "outputs": [],
      "source": []
    },
    {
      "cell_type": "code",
      "execution_count": null,
      "id": "1776cf43",
      "metadata": {
        "id": "1776cf43"
      },
      "outputs": [],
      "source": []
    },
    {
      "cell_type": "code",
      "execution_count": null,
      "id": "604bf39d",
      "metadata": {
        "id": "604bf39d"
      },
      "outputs": [],
      "source": []
    },
    {
      "cell_type": "code",
      "execution_count": null,
      "id": "4d9d6c44",
      "metadata": {
        "id": "4d9d6c44"
      },
      "outputs": [],
      "source": []
    },
    {
      "cell_type": "code",
      "execution_count": null,
      "id": "ab2dd269",
      "metadata": {
        "id": "ab2dd269"
      },
      "outputs": [],
      "source": [
        "# you cannot modify a tuple\n"
      ]
    },
    {
      "cell_type": "markdown",
      "id": "46859bd8",
      "metadata": {
        "id": "46859bd8"
      },
      "source": [
        "Why use a tuple?\n",
        "Program execution is faster when manipulating a tuple than it is for the equivalent list. (This is probably not going to be noticeable when the list or tuple is small.)\n",
        "\n",
        "Sometimes you don’t want data to be modified. If the values in the collection are meant to remain constant for the life of the program, using a tuple instead of a list guards against accidental modification."
      ]
    },
    {
      "cell_type": "markdown",
      "id": "6f65270a",
      "metadata": {
        "id": "6f65270a"
      },
      "source": [
        "### Finally, dictionaries\n",
        "Dictionaries and lists share the following characteristics:\n",
        "\n",
        "- Both are mutable.\n",
        "- Both are dynamic. They can grow and shrink as needed.\n",
        "- Both can be nested. A list can contain another list. A dictionary can contain another dictionary. A dictionary can also contain a list, and vice versa.\n",
        "\n",
        "Dictionaries differ from lists primarily in how elements are accessed:\n",
        "\n",
        "- List elements are accessed by their position in the list, via indexing.\n",
        "- Dictionary elements are accessed via keys.\n",
        "\n",
        "`{key:value}`"
      ]
    },
    {
      "cell_type": "code",
      "execution_count": null,
      "id": "a629af63",
      "metadata": {
        "id": "a629af63",
        "outputId": "363725b1-6d23-4c00-f30e-bca2f8abec48"
      },
      "outputs": [
        {
          "data": {
            "text/plain": [
              "{'USA': 'Baseball', 'Canada': 'Hockey', 'Mexico': 'Soccer'}"
            ]
          },
          "execution_count": 181,
          "metadata": {},
          "output_type": "execute_result"
        }
      ],
      "source": [
        "d = {'USA' : 'Baseball', 'Canada' : 'Hockey', 'Mexico' : 'Soccer'}\n",
        "d"
      ]
    },
    {
      "cell_type": "code",
      "execution_count": null,
      "id": "0fb41624",
      "metadata": {
        "id": "0fb41624",
        "outputId": "295ecd6b-973d-4cff-95d8-7a70f5dc9d52"
      },
      "outputs": [
        {
          "data": {
            "text/plain": [
              "'Baseball'"
            ]
          },
          "execution_count": 182,
          "metadata": {},
          "output_type": "execute_result"
        }
      ],
      "source": [
        "# To access a value, call the dictionary key\n",
        "d['USA']"
      ]
    },
    {
      "cell_type": "code",
      "execution_count": null,
      "id": "50c3d9ac",
      "metadata": {
        "id": "50c3d9ac",
        "outputId": "51ab1036-2465-4c8d-bbe4-1a7f87ea018b"
      },
      "outputs": [
        {
          "data": {
            "text/plain": [
              "{'USA': 'Football', 'Canada': 'Hockey', 'Mexico': 'Soccer'}"
            ]
          },
          "execution_count": 184,
          "metadata": {},
          "output_type": "execute_result"
        }
      ],
      "source": [
        "# Dictionaries can be changed\n",
        "d['USA'] = 'Football'\n",
        "d"
      ]
    },
    {
      "cell_type": "code",
      "execution_count": null,
      "id": "f879a757",
      "metadata": {
        "id": "f879a757",
        "outputId": "08a26c26-9f42-4706-8908-9fe64d4e372c"
      },
      "outputs": [
        {
          "data": {
            "text/plain": [
              "{'USA': 'Football',\n",
              " 'Canada': 'Hockey',\n",
              " 'Mexico': 'Soccer',\n",
              " 'Chile': 'Bird watching'}"
            ]
          },
          "execution_count": 185,
          "metadata": {},
          "output_type": "execute_result"
        }
      ],
      "source": [
        "# To add a new key value just assign a new one\n",
        "d['Chile'] = 'Bird watching'\n",
        "d"
      ]
    },
    {
      "cell_type": "code",
      "execution_count": null,
      "id": "2f1c3d60",
      "metadata": {
        "id": "2f1c3d60",
        "outputId": "80c19813-d2b5-4a56-ab76-1e40c742c523"
      },
      "outputs": [
        {
          "data": {
            "text/plain": [
              "{'USA': 'Football', 'Canada': 'Hockey', 'Mexico': 'Soccer', 'Chile': 'Surfing'}"
            ]
          },
          "execution_count": 186,
          "metadata": {},
          "output_type": "execute_result"
        }
      ],
      "source": [
        "# Updating an entry works similarly\n",
        "d['Chile'] = 'Surfing'\n",
        "d"
      ]
    },
    {
      "cell_type": "code",
      "execution_count": null,
      "id": "7a889e3f",
      "metadata": {
        "id": "7a889e3f",
        "outputId": "f3aacfcf-8844-455c-ccfe-4f84b74b3c5c"
      },
      "outputs": [
        {
          "data": {
            "text/plain": [
              "{'USA': 'Football', 'Canada': 'Hockey', 'Chile': 'Surfing'}"
            ]
          },
          "execution_count": 187,
          "metadata": {},
          "output_type": "execute_result"
        }
      ],
      "source": [
        "# To delete an element use the del statement and the key\n",
        "del d['Mexico']\n",
        "d"
      ]
    },
    {
      "cell_type": "code",
      "execution_count": null,
      "id": "0334f47c",
      "metadata": {
        "id": "0334f47c",
        "outputId": "aab03273-4251-404e-aab6-855c8e0b5021"
      },
      "outputs": [
        {
          "data": {
            "text/plain": [
              "{3: 'd', 2: 'c', 1: 'b', 0: 'a'}"
            ]
          },
          "execution_count": 192,
          "metadata": {},
          "output_type": "execute_result"
        }
      ],
      "source": [
        "# Integers can also be used as keys\n",
        "d2 = {3: 'd', 2: 'c', 1: 'b', 0: 'a'}\n",
        "d2"
      ]
    },
    {
      "cell_type": "code",
      "execution_count": null,
      "id": "99be702d",
      "metadata": {
        "id": "99be702d",
        "outputId": "d0538e70-bff3-4801-d04c-32be9b2db075"
      },
      "outputs": [
        {
          "data": {
            "text/plain": [
              "'a'"
            ]
          },
          "execution_count": 193,
          "metadata": {},
          "output_type": "execute_result"
        }
      ],
      "source": [
        "d2[0]"
      ]
    },
    {
      "cell_type": "code",
      "execution_count": null,
      "id": "15e701ad",
      "metadata": {
        "id": "15e701ad",
        "outputId": "6bed1fb9-6925-451d-a069-a2439781d2b9"
      },
      "outputs": [
        {
          "data": {
            "text/plain": [
              "{'names': ['Jon', 'Bob', 'Randy'],\n",
              " 'ages': [25, 26, 27],\n",
              " 'pets': {'dog': 'Max', 'cat': 'Butter', 'turtle': 'Speedy'}}"
            ]
          },
          "execution_count": 206,
          "metadata": {},
          "output_type": "execute_result"
        }
      ],
      "source": [
        "d3 = {}\n",
        "\n",
        "d3['names'] = ['Jon', 'Bob', 'Randy']\n",
        "d3['ages'] = [ 25, 26, 27]\n",
        "d3['pets'] = {'dog' : 'Max', 'cat' : 'Butter', 'turtle' : 'Speedy'}\n",
        "\n",
        "d3"
      ]
    },
    {
      "cell_type": "code",
      "execution_count": null,
      "id": "c944027e",
      "metadata": {
        "id": "c944027e",
        "outputId": "ecbefb49-38ff-445a-fee6-3e4e7571a921"
      },
      "outputs": [
        {
          "data": {
            "text/plain": [
              "'Butter'"
            ]
          },
          "execution_count": 207,
          "metadata": {},
          "output_type": "execute_result"
        }
      ],
      "source": [
        "# Access a nested dictionary value\n",
        "d3['pets']['cat']"
      ]
    },
    {
      "cell_type": "code",
      "execution_count": null,
      "id": "6b9ddfa5",
      "metadata": {
        "id": "6b9ddfa5",
        "outputId": "00fe22e4-6045-45df-dc6f-2aa44b315245"
      },
      "outputs": [
        {
          "data": {
            "text/plain": [
              "27"
            ]
          },
          "execution_count": 208,
          "metadata": {},
          "output_type": "execute_result"
        }
      ],
      "source": [
        "# Access a nested list value\n",
        "d3['ages'][2]"
      ]
    },
    {
      "cell_type": "markdown",
      "id": "c7ee73a0",
      "metadata": {
        "id": "c7ee73a0"
      },
      "source": [
        "Some dictionary methods\n",
        "- keys()\n",
        "- values()\n",
        "- clear()\n",
        "- pop()"
      ]
    },
    {
      "cell_type": "code",
      "execution_count": null,
      "id": "0ead69bf",
      "metadata": {
        "id": "0ead69bf",
        "outputId": "163ffb15-fffa-411f-d69a-80591e6550fd"
      },
      "outputs": [
        {
          "data": {
            "text/plain": [
              "dict_keys(['names', 'ages', 'pets'])"
            ]
          },
          "execution_count": 209,
          "metadata": {},
          "output_type": "execute_result"
        }
      ],
      "source": [
        "# Return keys in dictionary\n",
        "d3.keys()"
      ]
    },
    {
      "cell_type": "code",
      "execution_count": null,
      "id": "296fc747",
      "metadata": {
        "id": "296fc747",
        "outputId": "e951b832-a99d-43f7-d9ed-bfae147c9fa7"
      },
      "outputs": [
        {
          "data": {
            "text/plain": [
              "dict_values([['Jon', 'Bob', 'Randy'], [25, 26, 27], {'dog': 'Max', 'cat': 'Butter', 'turtle': 'Speedy'}])"
            ]
          },
          "execution_count": 210,
          "metadata": {},
          "output_type": "execute_result"
        }
      ],
      "source": [
        "# Return values in dictionary\n",
        "d3.values()"
      ]
    },
    {
      "cell_type": "code",
      "execution_count": null,
      "id": "228dc067",
      "metadata": {
        "id": "228dc067",
        "outputId": "b6f7aefc-8c37-49b9-949c-9849bd4dc3e6"
      },
      "outputs": [
        {
          "data": {
            "text/plain": [
              "{'dog': 'Max', 'cat': 'Butter', 'turtle': 'Speedy'}"
            ]
          },
          "execution_count": 212,
          "metadata": {},
          "output_type": "execute_result"
        }
      ],
      "source": [
        "d3.pop('pets')"
      ]
    },
    {
      "cell_type": "code",
      "execution_count": null,
      "id": "119265b0",
      "metadata": {
        "id": "119265b0",
        "outputId": "a0878405-68c9-4e38-a712-e173be884db5"
      },
      "outputs": [
        {
          "data": {
            "text/plain": [
              "{'names': ['Jon', 'Bob', 'Randy'], 'ages': [25, 26, 27]}"
            ]
          },
          "execution_count": 213,
          "metadata": {},
          "output_type": "execute_result"
        }
      ],
      "source": [
        "d3"
      ]
    },
    {
      "cell_type": "code",
      "execution_count": null,
      "id": "aec6f54e",
      "metadata": {
        "id": "aec6f54e",
        "outputId": "300fa7e6-5987-4bbf-aa9b-00ae8a65d880"
      },
      "outputs": [
        {
          "data": {
            "text/plain": [
              "{}"
            ]
          },
          "execution_count": 214,
          "metadata": {},
          "output_type": "execute_result"
        }
      ],
      "source": [
        "# Clear a dictionary\n",
        "d3.clear()\n",
        "d3"
      ]
    },
    {
      "cell_type": "markdown",
      "id": "80ae6538",
      "metadata": {
        "id": "80ae6538"
      },
      "source": [
        "## Converting Data types\n",
        "- To convert to String `str()`\n",
        "- To convert to Integer `int()`\n",
        "- To convert to Float `float()`\n",
        "- To convert to Bool `bool()`"
      ]
    },
    {
      "cell_type": "code",
      "execution_count": null,
      "id": "9bb3accb",
      "metadata": {
        "id": "9bb3accb",
        "outputId": "bf5149d3-b045-4030-ee1c-ea655ca13a59"
      },
      "outputs": [
        {
          "data": {
            "text/plain": [
              "'23'"
            ]
          },
          "execution_count": 215,
          "metadata": {},
          "output_type": "execute_result"
        }
      ],
      "source": [
        "age = 23\n",
        "str(age)"
      ]
    },
    {
      "cell_type": "code",
      "execution_count": null,
      "id": "3d5febf9",
      "metadata": {
        "id": "3d5febf9",
        "outputId": "13d26e65-a772-4ac6-e1d7-8f685e9c565f"
      },
      "outputs": [
        {
          "name": "stdout",
          "output_type": "stream",
          "text": [
            "23 years old\n"
          ]
        }
      ],
      "source": [
        "print(str(age) + \" years old\")"
      ]
    },
    {
      "cell_type": "markdown",
      "id": "74e8584c",
      "metadata": {
        "id": "74e8584c"
      },
      "source": [
        "## Exercises for participation credit\n",
        "Please complete the following exercises and upload your completed notebook to your Github repository for participation credit.\n",
        "\n",
        "We can use `input()` to catch input from the user. This is a string type variable."
      ]
    },
    {
      "cell_type": "code",
      "execution_count": null,
      "id": "311dbb98",
      "metadata": {
        "id": "311dbb98",
        "outputId": "bb5129ae-6ea0-44b1-95d8-cb669642a888",
        "colab": {
          "base_uri": "https://localhost:8080/"
        }
      },
      "outputs": [
        {
          "output_type": "stream",
          "name": "stdout",
          "text": [
            "Enter your value 8\n",
            "8\n"
          ]
        }
      ],
      "source": [
        "x = input('Enter your value ')\n",
        "print(x)"
      ]
    },
    {
      "cell_type": "markdown",
      "id": "d21d74a0",
      "metadata": {
        "id": "d21d74a0"
      },
      "source": [
        "1. Write a code that gets two integers from the user. Save the first input as `a` and the second value as `b`. Run and print the following operations:\n",
        " - a + b\n",
        " - a - b\n",
        " - a * b\n",
        " - a ** b\n",
        " - a / b"
      ]
    },
    {
      "cell_type": "markdown",
      "id": "c9cf9f05",
      "metadata": {
        "id": "c9cf9f05"
      },
      "source": [
        "2. Reverse this list aList = [100, 200, 300, 400, 500]. Expected result = [500, 400, 300, 200, 100]"
      ]
    },
    {
      "cell_type": "markdown",
      "id": "7793dda3",
      "metadata": {
        "id": "7793dda3"
      },
      "source": [
        "3. Create the following list ` ['My', 'name', 'is', 'Kelly']`\n",
        "\n",
        "Using only these two lists:\n",
        "- `list1 = [\"M\", \"na\", \"i\", \"Ke\"]`\n",
        "- `list2 = [\"y\", \"me\", \"s\", \"lly\"]`"
      ]
    },
    {
      "cell_type": "markdown",
      "id": "e9f296ee",
      "metadata": {
        "id": "e9f296ee"
      },
      "source": [
        "4. Split the following list in 3 equal sized lists. Invert the the new lists\n",
        "- Original list [11, 45, 8, 23, 14, 12, 78, 45, 89]\n",
        "\n",
        "\n",
        "- Chunk 1 [11, 45, 8]\n",
        "\n",
        "After reversing it [8, 45, 11]\n",
        "\n",
        "- Chunk 2 [23, 14, 12]\n",
        "\n",
        "After reversing it [12, 14, 23]\n",
        "\n",
        "- Chunk 3 [78, 45, 89]\n",
        "\n",
        "After reversing it [89, 45, 78]"
      ]
    },
    {
      "cell_type": "code",
      "execution_count": null,
      "id": "b02e2848",
      "metadata": {
        "id": "b02e2848"
      },
      "outputs": [],
      "source": []
    }
  ],
  "metadata": {
    "kernelspec": {
      "display_name": "Python 3 (ipykernel)",
      "language": "python",
      "name": "python3"
    },
    "language_info": {
      "codemirror_mode": {
        "name": "ipython",
        "version": 3
      },
      "file_extension": ".py",
      "mimetype": "text/x-python",
      "name": "python",
      "nbconvert_exporter": "python",
      "pygments_lexer": "ipython3",
      "version": "3.10.4"
    },
    "colab": {
      "provenance": [],
      "include_colab_link": true
    }
  },
  "nbformat": 4,
  "nbformat_minor": 5
}