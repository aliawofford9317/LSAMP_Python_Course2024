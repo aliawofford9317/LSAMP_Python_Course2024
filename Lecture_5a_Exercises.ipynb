{
  "nbformat": 4,
  "nbformat_minor": 0,
  "metadata": {
    "colab": {
      "provenance": [],
      "authorship_tag": "ABX9TyNkRDf3AvJ7HtXKwV3Y3/iG",
      "include_colab_link": true
    },
    "kernelspec": {
      "name": "python3",
      "display_name": "Python 3"
    },
    "language_info": {
      "name": "python"
    }
  },
  "cells": [
    {
      "cell_type": "markdown",
      "metadata": {
        "id": "view-in-github",
        "colab_type": "text"
      },
      "source": [
        "<a href=\"https://colab.research.google.com/github/aliawofford9317/LSAMP_Python_Course2024/blob/DanielaaVargas/Lecture_5a_Exercises.ipynb\" target=\"_parent\"><img src=\"https://colab.research.google.com/assets/colab-badge.svg\" alt=\"Open In Colab\"/></a>"
      ]
    },
    {
      "cell_type": "markdown",
      "source": [
        "###  **Exercises**\n",
        "1. Create a function that returns the addition, substraction, multiplication, and division of two numbers `a` and `b`, the default values for these numbers are 1.\n",
        "2. Create a similar function as exercises 1, but add a parameter that selects the operation to be performed called `op`, and has the following options `op='sum'`, `op='sub'`, `op='mul'` and `op='div'`. Each of this options correspond to a single operation. The function default value is addition. Use return statements to return the selected operation.\n",
        "3. Create a function that returns `n` terms of the Fibonacci Series. Example output:\n",
        "\n",
        "`fibonacci(10)\n",
        "0\n",
        "1\n",
        "1\n",
        "2\n",
        "3\n",
        "5\n",
        "8\n",
        "13\n",
        "21\n",
        "34`"
      ],
      "metadata": {
        "id": "VKMgZztg2Res"
      }
    },
    {
      "cell_type": "code",
      "source": [
        "def arithmetic(a, b):\n",
        "  return {\n",
        "      'sum': a + b,\n",
        "      'sub': a - b,\n",
        "      'mul': a * b,\n",
        "      'div': a / b\n",
        "  }\n",
        "\n",
        "arithmetic(1,1)"
      ],
      "metadata": {
        "colab": {
          "base_uri": "https://localhost:8080/"
        },
        "id": "n8ZWVtud2SzL",
        "outputId": "82673885-7cc2-4e07-eb37-26c921c95bae"
      },
      "execution_count": 12,
      "outputs": [
        {
          "output_type": "execute_result",
          "data": {
            "text/plain": [
              "{'sum': 2, 'sub': 0, 'mul': 1, 'div': 1.0}"
            ]
          },
          "metadata": {},
          "execution_count": 12
        }
      ]
    },
    {
      "cell_type": "code",
      "source": [
        "def Arith(a, b, op):\n",
        "  if op == 'sum':\n",
        "    return a + b\n",
        "  elif op == 'sub':\n",
        "    return a - b\n",
        "  elif op == 'mul':\n",
        "    return a * b\n",
        "  elif op == 'div':\n",
        "    return a / b\n",
        "  else:\n",
        "    return a + b\n",
        "\n",
        "Arith(1,1,'sub')"
      ],
      "metadata": {
        "colab": {
          "base_uri": "https://localhost:8080/"
        },
        "id": "VZvmV55L2r0-",
        "outputId": "6e53b2d9-78cf-440e-bed5-6c5a11918898"
      },
      "execution_count": 17,
      "outputs": [
        {
          "output_type": "execute_result",
          "data": {
            "text/plain": [
              "0"
            ]
          },
          "metadata": {},
          "execution_count": 17
        }
      ]
    },
    {
      "cell_type": "code",
      "source": [
        "def fibonacci(n):\n",
        "  F = [0,1]\n",
        "  for i in range(2,n):\n",
        "    F.append(F[i-2] + F[i-1])\n",
        "  return F\n",
        "\n",
        "fibonacci(10)"
      ],
      "metadata": {
        "colab": {
          "base_uri": "https://localhost:8080/"
        },
        "id": "X-ATchUj3YTm",
        "outputId": "3b82e050-3dd7-419e-ad12-c45f86ee1b6d"
      },
      "execution_count": 24,
      "outputs": [
        {
          "output_type": "execute_result",
          "data": {
            "text/plain": [
              "[0, 1, 1, 2, 3, 5, 8, 13, 21, 34]"
            ]
          },
          "metadata": {},
          "execution_count": 24
        }
      ]
    }
  ]
}