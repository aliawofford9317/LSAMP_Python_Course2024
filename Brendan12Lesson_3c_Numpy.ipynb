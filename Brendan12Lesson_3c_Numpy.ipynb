{
  "cells": [
    {
      "cell_type": "markdown",
      "metadata": {
        "id": "view-in-github",
        "colab_type": "text"
      },
      "source": [
        "<a href=\"https://colab.research.google.com/github/aliawofford9317/LSAMP_Python_Course2024/blob/Brendan-Gamor/Brendan12Lesson_3c_Numpy.ipynb\" target=\"_parent\"><img src=\"https://colab.research.google.com/assets/colab-badge.svg\" alt=\"Open In Colab\"/></a>"
      ]
    },
    {
      "cell_type": "markdown",
      "id": "33e7cd2d",
      "metadata": {
        "id": "33e7cd2d"
      },
      "source": [
        "## Numpy\n",
        "\n",
        "Numpy is a numerical library that makes it easy to work with big arrays and matrices.\n",
        "\n",
        "It can be used to make fast arithmetic operations with matrixes. Pandas and Numpy are usually used together, as Pandas builds on NumPy functionality to work with DataFrames.\n",
        "\n",
        "Since Pandas is designed to work with Numpy, almost any Numpy function will work with Pandas Series and DataFrames, lets run some examples."
      ]
    },
    {
      "cell_type": "code",
      "execution_count": null,
      "id": "aa244662",
      "metadata": {
        "id": "aa244662"
      },
      "outputs": [],
      "source": [
        "import numpy as np\n",
        "import pandas as pd"
      ]
    },
    {
      "cell_type": "code",
      "source": [
        "def fetch_data():\n",
        "  import os, shutil\n",
        "  cwd = os.getcwd()\n",
        "  if os.path.exists(\"LSAMP_Python_Course2024\"):\n",
        "    shutil.rmtree(\"LSAMP_Python_Course2024\")\n",
        "  !git clone https://github.com/aliawofford9317/LSAMP_Python_Course2024.git\n",
        "  for file in os.listdir(\"LSAMP_Python_Course2024\"):\n",
        "    if file.endswith((\".txt\",\".csv\")):\n",
        "      shutil.copy(\"LSAMP_Python_Course2024/{}\".format(file),cwd)\n",
        "fetch_data()"
      ],
      "metadata": {
        "id": "zxMPiQt6DQdS",
        "colab": {
          "base_uri": "https://localhost:8080/"
        },
        "outputId": "31300ef8-f5da-4d24-bb40-cf04c1dc2cd1"
      },
      "id": "zxMPiQt6DQdS",
      "execution_count": null,
      "outputs": [
        {
          "output_type": "stream",
          "name": "stdout",
          "text": [
            "Cloning into 'LSAMP_Python_Course2024'...\n",
            "remote: Enumerating objects: 210, done.\u001b[K\n",
            "remote: Counting objects: 100% (140/140), done.\u001b[K\n",
            "remote: Compressing objects: 100% (136/136), done.\u001b[K\n",
            "remote: Total 210 (delta 72), reused 1 (delta 1), pack-reused 70\u001b[K\n",
            "Receiving objects: 100% (210/210), 2.48 MiB | 6.67 MiB/s, done.\n",
            "Resolving deltas: 100% (108/108), done.\n"
          ]
        }
      ]
    },
    {
      "cell_type": "code",
      "execution_count": null,
      "id": "e43fd3b8",
      "metadata": {
        "id": "e43fd3b8",
        "colab": {
          "base_uri": "https://localhost:8080/"
        },
        "outputId": "21d6d63c-38aa-44a5-ee3f-efc1a1b1483b"
      },
      "outputs": [
        {
          "output_type": "execute_result",
          "data": {
            "text/plain": [
              "0    1\n",
              "1    5\n",
              "2    8\n",
              "3    4\n",
              "dtype: int64"
            ]
          },
          "metadata": {},
          "execution_count": 3
        }
      ],
      "source": [
        "# Create a container for a pseudo random generator\n",
        "rng = np.random.RandomState()\n",
        "# Create a Pandas Series from our random generator\n",
        "series = pd.Series(rng.randint(0, 10, 4))\n",
        "series"
      ]
    },
    {
      "cell_type": "code",
      "execution_count": null,
      "id": "232435b3",
      "metadata": {
        "id": "232435b3",
        "colab": {
          "base_uri": "https://localhost:8080/",
          "height": 143
        },
        "outputId": "ce59e504-5ce6-4348-a51c-729b1240fb21"
      },
      "outputs": [
        {
          "output_type": "execute_result",
          "data": {
            "text/plain": [
              "   A  B  C  D\n",
              "0  8  9  5  5\n",
              "1  1  1  0  0\n",
              "2  3  6  4  8"
            ],
            "text/html": [
              "\n",
              "  <div id=\"df-dd0fb1f7-3248-4699-9891-0d34b4d575b1\" class=\"colab-df-container\">\n",
              "    <div>\n",
              "<style scoped>\n",
              "    .dataframe tbody tr th:only-of-type {\n",
              "        vertical-align: middle;\n",
              "    }\n",
              "\n",
              "    .dataframe tbody tr th {\n",
              "        vertical-align: top;\n",
              "    }\n",
              "\n",
              "    .dataframe thead th {\n",
              "        text-align: right;\n",
              "    }\n",
              "</style>\n",
              "<table border=\"1\" class=\"dataframe\">\n",
              "  <thead>\n",
              "    <tr style=\"text-align: right;\">\n",
              "      <th></th>\n",
              "      <th>A</th>\n",
              "      <th>B</th>\n",
              "      <th>C</th>\n",
              "      <th>D</th>\n",
              "    </tr>\n",
              "  </thead>\n",
              "  <tbody>\n",
              "    <tr>\n",
              "      <th>0</th>\n",
              "      <td>8</td>\n",
              "      <td>9</td>\n",
              "      <td>5</td>\n",
              "      <td>5</td>\n",
              "    </tr>\n",
              "    <tr>\n",
              "      <th>1</th>\n",
              "      <td>1</td>\n",
              "      <td>1</td>\n",
              "      <td>0</td>\n",
              "      <td>0</td>\n",
              "    </tr>\n",
              "    <tr>\n",
              "      <th>2</th>\n",
              "      <td>3</td>\n",
              "      <td>6</td>\n",
              "      <td>4</td>\n",
              "      <td>8</td>\n",
              "    </tr>\n",
              "  </tbody>\n",
              "</table>\n",
              "</div>\n",
              "    <div class=\"colab-df-buttons\">\n",
              "\n",
              "  <div class=\"colab-df-container\">\n",
              "    <button class=\"colab-df-convert\" onclick=\"convertToInteractive('df-dd0fb1f7-3248-4699-9891-0d34b4d575b1')\"\n",
              "            title=\"Convert this dataframe to an interactive table.\"\n",
              "            style=\"display:none;\">\n",
              "\n",
              "  <svg xmlns=\"http://www.w3.org/2000/svg\" height=\"24px\" viewBox=\"0 -960 960 960\">\n",
              "    <path d=\"M120-120v-720h720v720H120Zm60-500h600v-160H180v160Zm220 220h160v-160H400v160Zm0 220h160v-160H400v160ZM180-400h160v-160H180v160Zm440 0h160v-160H620v160ZM180-180h160v-160H180v160Zm440 0h160v-160H620v160Z\"/>\n",
              "  </svg>\n",
              "    </button>\n",
              "\n",
              "  <style>\n",
              "    .colab-df-container {\n",
              "      display:flex;\n",
              "      gap: 12px;\n",
              "    }\n",
              "\n",
              "    .colab-df-convert {\n",
              "      background-color: #E8F0FE;\n",
              "      border: none;\n",
              "      border-radius: 50%;\n",
              "      cursor: pointer;\n",
              "      display: none;\n",
              "      fill: #1967D2;\n",
              "      height: 32px;\n",
              "      padding: 0 0 0 0;\n",
              "      width: 32px;\n",
              "    }\n",
              "\n",
              "    .colab-df-convert:hover {\n",
              "      background-color: #E2EBFA;\n",
              "      box-shadow: 0px 1px 2px rgba(60, 64, 67, 0.3), 0px 1px 3px 1px rgba(60, 64, 67, 0.15);\n",
              "      fill: #174EA6;\n",
              "    }\n",
              "\n",
              "    .colab-df-buttons div {\n",
              "      margin-bottom: 4px;\n",
              "    }\n",
              "\n",
              "    [theme=dark] .colab-df-convert {\n",
              "      background-color: #3B4455;\n",
              "      fill: #D2E3FC;\n",
              "    }\n",
              "\n",
              "    [theme=dark] .colab-df-convert:hover {\n",
              "      background-color: #434B5C;\n",
              "      box-shadow: 0px 1px 3px 1px rgba(0, 0, 0, 0.15);\n",
              "      filter: drop-shadow(0px 1px 2px rgba(0, 0, 0, 0.3));\n",
              "      fill: #FFFFFF;\n",
              "    }\n",
              "  </style>\n",
              "\n",
              "    <script>\n",
              "      const buttonEl =\n",
              "        document.querySelector('#df-dd0fb1f7-3248-4699-9891-0d34b4d575b1 button.colab-df-convert');\n",
              "      buttonEl.style.display =\n",
              "        google.colab.kernel.accessAllowed ? 'block' : 'none';\n",
              "\n",
              "      async function convertToInteractive(key) {\n",
              "        const element = document.querySelector('#df-dd0fb1f7-3248-4699-9891-0d34b4d575b1');\n",
              "        const dataTable =\n",
              "          await google.colab.kernel.invokeFunction('convertToInteractive',\n",
              "                                                    [key], {});\n",
              "        if (!dataTable) return;\n",
              "\n",
              "        const docLinkHtml = 'Like what you see? Visit the ' +\n",
              "          '<a target=\"_blank\" href=https://colab.research.google.com/notebooks/data_table.ipynb>data table notebook</a>'\n",
              "          + ' to learn more about interactive tables.';\n",
              "        element.innerHTML = '';\n",
              "        dataTable['output_type'] = 'display_data';\n",
              "        await google.colab.output.renderOutput(dataTable, element);\n",
              "        const docLink = document.createElement('div');\n",
              "        docLink.innerHTML = docLinkHtml;\n",
              "        element.appendChild(docLink);\n",
              "      }\n",
              "    </script>\n",
              "  </div>\n",
              "\n",
              "\n",
              "<div id=\"df-73650b3c-e5aa-4695-9cfe-ffea77713a1c\">\n",
              "  <button class=\"colab-df-quickchart\" onclick=\"quickchart('df-73650b3c-e5aa-4695-9cfe-ffea77713a1c')\"\n",
              "            title=\"Suggest charts\"\n",
              "            style=\"display:none;\">\n",
              "\n",
              "<svg xmlns=\"http://www.w3.org/2000/svg\" height=\"24px\"viewBox=\"0 0 24 24\"\n",
              "     width=\"24px\">\n",
              "    <g>\n",
              "        <path d=\"M19 3H5c-1.1 0-2 .9-2 2v14c0 1.1.9 2 2 2h14c1.1 0 2-.9 2-2V5c0-1.1-.9-2-2-2zM9 17H7v-7h2v7zm4 0h-2V7h2v10zm4 0h-2v-4h2v4z\"/>\n",
              "    </g>\n",
              "</svg>\n",
              "  </button>\n",
              "\n",
              "<style>\n",
              "  .colab-df-quickchart {\n",
              "      --bg-color: #E8F0FE;\n",
              "      --fill-color: #1967D2;\n",
              "      --hover-bg-color: #E2EBFA;\n",
              "      --hover-fill-color: #174EA6;\n",
              "      --disabled-fill-color: #AAA;\n",
              "      --disabled-bg-color: #DDD;\n",
              "  }\n",
              "\n",
              "  [theme=dark] .colab-df-quickchart {\n",
              "      --bg-color: #3B4455;\n",
              "      --fill-color: #D2E3FC;\n",
              "      --hover-bg-color: #434B5C;\n",
              "      --hover-fill-color: #FFFFFF;\n",
              "      --disabled-bg-color: #3B4455;\n",
              "      --disabled-fill-color: #666;\n",
              "  }\n",
              "\n",
              "  .colab-df-quickchart {\n",
              "    background-color: var(--bg-color);\n",
              "    border: none;\n",
              "    border-radius: 50%;\n",
              "    cursor: pointer;\n",
              "    display: none;\n",
              "    fill: var(--fill-color);\n",
              "    height: 32px;\n",
              "    padding: 0;\n",
              "    width: 32px;\n",
              "  }\n",
              "\n",
              "  .colab-df-quickchart:hover {\n",
              "    background-color: var(--hover-bg-color);\n",
              "    box-shadow: 0 1px 2px rgba(60, 64, 67, 0.3), 0 1px 3px 1px rgba(60, 64, 67, 0.15);\n",
              "    fill: var(--button-hover-fill-color);\n",
              "  }\n",
              "\n",
              "  .colab-df-quickchart-complete:disabled,\n",
              "  .colab-df-quickchart-complete:disabled:hover {\n",
              "    background-color: var(--disabled-bg-color);\n",
              "    fill: var(--disabled-fill-color);\n",
              "    box-shadow: none;\n",
              "  }\n",
              "\n",
              "  .colab-df-spinner {\n",
              "    border: 2px solid var(--fill-color);\n",
              "    border-color: transparent;\n",
              "    border-bottom-color: var(--fill-color);\n",
              "    animation:\n",
              "      spin 1s steps(1) infinite;\n",
              "  }\n",
              "\n",
              "  @keyframes spin {\n",
              "    0% {\n",
              "      border-color: transparent;\n",
              "      border-bottom-color: var(--fill-color);\n",
              "      border-left-color: var(--fill-color);\n",
              "    }\n",
              "    20% {\n",
              "      border-color: transparent;\n",
              "      border-left-color: var(--fill-color);\n",
              "      border-top-color: var(--fill-color);\n",
              "    }\n",
              "    30% {\n",
              "      border-color: transparent;\n",
              "      border-left-color: var(--fill-color);\n",
              "      border-top-color: var(--fill-color);\n",
              "      border-right-color: var(--fill-color);\n",
              "    }\n",
              "    40% {\n",
              "      border-color: transparent;\n",
              "      border-right-color: var(--fill-color);\n",
              "      border-top-color: var(--fill-color);\n",
              "    }\n",
              "    60% {\n",
              "      border-color: transparent;\n",
              "      border-right-color: var(--fill-color);\n",
              "    }\n",
              "    80% {\n",
              "      border-color: transparent;\n",
              "      border-right-color: var(--fill-color);\n",
              "      border-bottom-color: var(--fill-color);\n",
              "    }\n",
              "    90% {\n",
              "      border-color: transparent;\n",
              "      border-bottom-color: var(--fill-color);\n",
              "    }\n",
              "  }\n",
              "</style>\n",
              "\n",
              "  <script>\n",
              "    async function quickchart(key) {\n",
              "      const quickchartButtonEl =\n",
              "        document.querySelector('#' + key + ' button');\n",
              "      quickchartButtonEl.disabled = true;  // To prevent multiple clicks.\n",
              "      quickchartButtonEl.classList.add('colab-df-spinner');\n",
              "      try {\n",
              "        const charts = await google.colab.kernel.invokeFunction(\n",
              "            'suggestCharts', [key], {});\n",
              "      } catch (error) {\n",
              "        console.error('Error during call to suggestCharts:', error);\n",
              "      }\n",
              "      quickchartButtonEl.classList.remove('colab-df-spinner');\n",
              "      quickchartButtonEl.classList.add('colab-df-quickchart-complete');\n",
              "    }\n",
              "    (() => {\n",
              "      let quickchartButtonEl =\n",
              "        document.querySelector('#df-73650b3c-e5aa-4695-9cfe-ffea77713a1c button');\n",
              "      quickchartButtonEl.style.display =\n",
              "        google.colab.kernel.accessAllowed ? 'block' : 'none';\n",
              "    })();\n",
              "  </script>\n",
              "</div>\n",
              "\n",
              "  <div id=\"id_6f4cf7e5-562c-4e42-8781-5f77f6a7e91b\">\n",
              "    <style>\n",
              "      .colab-df-generate {\n",
              "        background-color: #E8F0FE;\n",
              "        border: none;\n",
              "        border-radius: 50%;\n",
              "        cursor: pointer;\n",
              "        display: none;\n",
              "        fill: #1967D2;\n",
              "        height: 32px;\n",
              "        padding: 0 0 0 0;\n",
              "        width: 32px;\n",
              "      }\n",
              "\n",
              "      .colab-df-generate:hover {\n",
              "        background-color: #E2EBFA;\n",
              "        box-shadow: 0px 1px 2px rgba(60, 64, 67, 0.3), 0px 1px 3px 1px rgba(60, 64, 67, 0.15);\n",
              "        fill: #174EA6;\n",
              "      }\n",
              "\n",
              "      [theme=dark] .colab-df-generate {\n",
              "        background-color: #3B4455;\n",
              "        fill: #D2E3FC;\n",
              "      }\n",
              "\n",
              "      [theme=dark] .colab-df-generate:hover {\n",
              "        background-color: #434B5C;\n",
              "        box-shadow: 0px 1px 3px 1px rgba(0, 0, 0, 0.15);\n",
              "        filter: drop-shadow(0px 1px 2px rgba(0, 0, 0, 0.3));\n",
              "        fill: #FFFFFF;\n",
              "      }\n",
              "    </style>\n",
              "    <button class=\"colab-df-generate\" onclick=\"generateWithVariable('df')\"\n",
              "            title=\"Generate code using this dataframe.\"\n",
              "            style=\"display:none;\">\n",
              "\n",
              "  <svg xmlns=\"http://www.w3.org/2000/svg\" height=\"24px\"viewBox=\"0 0 24 24\"\n",
              "       width=\"24px\">\n",
              "    <path d=\"M7,19H8.4L18.45,9,17,7.55,7,17.6ZM5,21V16.75L18.45,3.32a2,2,0,0,1,2.83,0l1.4,1.43a1.91,1.91,0,0,1,.58,1.4,1.91,1.91,0,0,1-.58,1.4L9.25,21ZM18.45,9,17,7.55Zm-12,3A5.31,5.31,0,0,0,4.9,8.1,5.31,5.31,0,0,0,1,6.5,5.31,5.31,0,0,0,4.9,4.9,5.31,5.31,0,0,0,6.5,1,5.31,5.31,0,0,0,8.1,4.9,5.31,5.31,0,0,0,12,6.5,5.46,5.46,0,0,0,6.5,12Z\"/>\n",
              "  </svg>\n",
              "    </button>\n",
              "    <script>\n",
              "      (() => {\n",
              "      const buttonEl =\n",
              "        document.querySelector('#id_6f4cf7e5-562c-4e42-8781-5f77f6a7e91b button.colab-df-generate');\n",
              "      buttonEl.style.display =\n",
              "        google.colab.kernel.accessAllowed ? 'block' : 'none';\n",
              "\n",
              "      buttonEl.onclick = () => {\n",
              "        google.colab.notebook.generateWithVariable('df');\n",
              "      }\n",
              "      })();\n",
              "    </script>\n",
              "  </div>\n",
              "\n",
              "    </div>\n",
              "  </div>\n"
            ],
            "application/vnd.google.colaboratory.intrinsic+json": {
              "type": "dataframe",
              "variable_name": "df",
              "summary": "{\n  \"name\": \"df\",\n  \"rows\": 3,\n  \"fields\": [\n    {\n      \"column\": \"A\",\n      \"properties\": {\n        \"dtype\": \"number\",\n        \"std\": 3,\n        \"min\": 1,\n        \"max\": 8,\n        \"num_unique_values\": 3,\n        \"samples\": [\n          8,\n          1,\n          3\n        ],\n        \"semantic_type\": \"\",\n        \"description\": \"\"\n      }\n    },\n    {\n      \"column\": \"B\",\n      \"properties\": {\n        \"dtype\": \"number\",\n        \"std\": 4,\n        \"min\": 1,\n        \"max\": 9,\n        \"num_unique_values\": 3,\n        \"samples\": [\n          9,\n          1,\n          6\n        ],\n        \"semantic_type\": \"\",\n        \"description\": \"\"\n      }\n    },\n    {\n      \"column\": \"C\",\n      \"properties\": {\n        \"dtype\": \"number\",\n        \"std\": 2,\n        \"min\": 0,\n        \"max\": 5,\n        \"num_unique_values\": 3,\n        \"samples\": [\n          5,\n          0,\n          4\n        ],\n        \"semantic_type\": \"\",\n        \"description\": \"\"\n      }\n    },\n    {\n      \"column\": \"D\",\n      \"properties\": {\n        \"dtype\": \"number\",\n        \"std\": 4,\n        \"min\": 0,\n        \"max\": 8,\n        \"num_unique_values\": 3,\n        \"samples\": [\n          5,\n          0,\n          8\n        ],\n        \"semantic_type\": \"\",\n        \"description\": \"\"\n      }\n    }\n  ]\n}"
            }
          },
          "metadata": {},
          "execution_count": 4
        }
      ],
      "source": [
        "# Create a Pandas Dataframe with our Numpy random generator\n",
        "# Integer numbers between 0 and 10, 3 rows and 4 columns\n",
        "df = pd.DataFrame(rng.randint(0, 10, (3, 4)),\n",
        "                 columns=['A', 'B', 'C', 'D'])\n",
        "df"
      ]
    },
    {
      "cell_type": "markdown",
      "id": "4d4ed5ee",
      "metadata": {
        "id": "4d4ed5ee"
      },
      "source": [
        "We can use a Numpy function on these Pandas objects and still keep our indexes for order"
      ]
    },
    {
      "cell_type": "code",
      "execution_count": null,
      "id": "5224bee5",
      "metadata": {
        "id": "5224bee5",
        "colab": {
          "base_uri": "https://localhost:8080/"
        },
        "outputId": "b89de15a-cdf0-4545-e1b8-120bb579a136"
      },
      "outputs": [
        {
          "output_type": "execute_result",
          "data": {
            "text/plain": [
              "0       2.718282\n",
              "1     148.413159\n",
              "2    2980.957987\n",
              "3      54.598150\n",
              "dtype: float64"
            ]
          },
          "metadata": {},
          "execution_count": 5
        }
      ],
      "source": [
        "# Calculate e^x, where x is every element of our array\n",
        "np.exp(series)"
      ]
    },
    {
      "cell_type": "code",
      "execution_count": null,
      "id": "35bafe79",
      "metadata": {
        "id": "35bafe79",
        "colab": {
          "base_uri": "https://localhost:8080/",
          "height": 143
        },
        "outputId": "43af7b31-ed7f-4250-9a63-9ad72baf46bd"
      },
      "outputs": [
        {
          "output_type": "execute_result",
          "data": {
            "text/plain": [
              "              A         B             C             D\n",
              "0 -2.449294e-16  0.707107 -7.071068e-01 -7.071068e-01\n",
              "1  7.071068e-01  0.707107  0.000000e+00  0.000000e+00\n",
              "2  7.071068e-01 -1.000000  1.224647e-16 -2.449294e-16"
            ],
            "text/html": [
              "\n",
              "  <div id=\"df-563dbdd3-86fd-4400-9691-f94617c3c820\" class=\"colab-df-container\">\n",
              "    <div>\n",
              "<style scoped>\n",
              "    .dataframe tbody tr th:only-of-type {\n",
              "        vertical-align: middle;\n",
              "    }\n",
              "\n",
              "    .dataframe tbody tr th {\n",
              "        vertical-align: top;\n",
              "    }\n",
              "\n",
              "    .dataframe thead th {\n",
              "        text-align: right;\n",
              "    }\n",
              "</style>\n",
              "<table border=\"1\" class=\"dataframe\">\n",
              "  <thead>\n",
              "    <tr style=\"text-align: right;\">\n",
              "      <th></th>\n",
              "      <th>A</th>\n",
              "      <th>B</th>\n",
              "      <th>C</th>\n",
              "      <th>D</th>\n",
              "    </tr>\n",
              "  </thead>\n",
              "  <tbody>\n",
              "    <tr>\n",
              "      <th>0</th>\n",
              "      <td>-2.449294e-16</td>\n",
              "      <td>0.707107</td>\n",
              "      <td>-7.071068e-01</td>\n",
              "      <td>-7.071068e-01</td>\n",
              "    </tr>\n",
              "    <tr>\n",
              "      <th>1</th>\n",
              "      <td>7.071068e-01</td>\n",
              "      <td>0.707107</td>\n",
              "      <td>0.000000e+00</td>\n",
              "      <td>0.000000e+00</td>\n",
              "    </tr>\n",
              "    <tr>\n",
              "      <th>2</th>\n",
              "      <td>7.071068e-01</td>\n",
              "      <td>-1.000000</td>\n",
              "      <td>1.224647e-16</td>\n",
              "      <td>-2.449294e-16</td>\n",
              "    </tr>\n",
              "  </tbody>\n",
              "</table>\n",
              "</div>\n",
              "    <div class=\"colab-df-buttons\">\n",
              "\n",
              "  <div class=\"colab-df-container\">\n",
              "    <button class=\"colab-df-convert\" onclick=\"convertToInteractive('df-563dbdd3-86fd-4400-9691-f94617c3c820')\"\n",
              "            title=\"Convert this dataframe to an interactive table.\"\n",
              "            style=\"display:none;\">\n",
              "\n",
              "  <svg xmlns=\"http://www.w3.org/2000/svg\" height=\"24px\" viewBox=\"0 -960 960 960\">\n",
              "    <path d=\"M120-120v-720h720v720H120Zm60-500h600v-160H180v160Zm220 220h160v-160H400v160Zm0 220h160v-160H400v160ZM180-400h160v-160H180v160Zm440 0h160v-160H620v160ZM180-180h160v-160H180v160Zm440 0h160v-160H620v160Z\"/>\n",
              "  </svg>\n",
              "    </button>\n",
              "\n",
              "  <style>\n",
              "    .colab-df-container {\n",
              "      display:flex;\n",
              "      gap: 12px;\n",
              "    }\n",
              "\n",
              "    .colab-df-convert {\n",
              "      background-color: #E8F0FE;\n",
              "      border: none;\n",
              "      border-radius: 50%;\n",
              "      cursor: pointer;\n",
              "      display: none;\n",
              "      fill: #1967D2;\n",
              "      height: 32px;\n",
              "      padding: 0 0 0 0;\n",
              "      width: 32px;\n",
              "    }\n",
              "\n",
              "    .colab-df-convert:hover {\n",
              "      background-color: #E2EBFA;\n",
              "      box-shadow: 0px 1px 2px rgba(60, 64, 67, 0.3), 0px 1px 3px 1px rgba(60, 64, 67, 0.15);\n",
              "      fill: #174EA6;\n",
              "    }\n",
              "\n",
              "    .colab-df-buttons div {\n",
              "      margin-bottom: 4px;\n",
              "    }\n",
              "\n",
              "    [theme=dark] .colab-df-convert {\n",
              "      background-color: #3B4455;\n",
              "      fill: #D2E3FC;\n",
              "    }\n",
              "\n",
              "    [theme=dark] .colab-df-convert:hover {\n",
              "      background-color: #434B5C;\n",
              "      box-shadow: 0px 1px 3px 1px rgba(0, 0, 0, 0.15);\n",
              "      filter: drop-shadow(0px 1px 2px rgba(0, 0, 0, 0.3));\n",
              "      fill: #FFFFFF;\n",
              "    }\n",
              "  </style>\n",
              "\n",
              "    <script>\n",
              "      const buttonEl =\n",
              "        document.querySelector('#df-563dbdd3-86fd-4400-9691-f94617c3c820 button.colab-df-convert');\n",
              "      buttonEl.style.display =\n",
              "        google.colab.kernel.accessAllowed ? 'block' : 'none';\n",
              "\n",
              "      async function convertToInteractive(key) {\n",
              "        const element = document.querySelector('#df-563dbdd3-86fd-4400-9691-f94617c3c820');\n",
              "        const dataTable =\n",
              "          await google.colab.kernel.invokeFunction('convertToInteractive',\n",
              "                                                    [key], {});\n",
              "        if (!dataTable) return;\n",
              "\n",
              "        const docLinkHtml = 'Like what you see? Visit the ' +\n",
              "          '<a target=\"_blank\" href=https://colab.research.google.com/notebooks/data_table.ipynb>data table notebook</a>'\n",
              "          + ' to learn more about interactive tables.';\n",
              "        element.innerHTML = '';\n",
              "        dataTable['output_type'] = 'display_data';\n",
              "        await google.colab.output.renderOutput(dataTable, element);\n",
              "        const docLink = document.createElement('div');\n",
              "        docLink.innerHTML = docLinkHtml;\n",
              "        element.appendChild(docLink);\n",
              "      }\n",
              "    </script>\n",
              "  </div>\n",
              "\n",
              "\n",
              "<div id=\"df-7e2ea21d-dc8d-4101-80b1-bd089dd23366\">\n",
              "  <button class=\"colab-df-quickchart\" onclick=\"quickchart('df-7e2ea21d-dc8d-4101-80b1-bd089dd23366')\"\n",
              "            title=\"Suggest charts\"\n",
              "            style=\"display:none;\">\n",
              "\n",
              "<svg xmlns=\"http://www.w3.org/2000/svg\" height=\"24px\"viewBox=\"0 0 24 24\"\n",
              "     width=\"24px\">\n",
              "    <g>\n",
              "        <path d=\"M19 3H5c-1.1 0-2 .9-2 2v14c0 1.1.9 2 2 2h14c1.1 0 2-.9 2-2V5c0-1.1-.9-2-2-2zM9 17H7v-7h2v7zm4 0h-2V7h2v10zm4 0h-2v-4h2v4z\"/>\n",
              "    </g>\n",
              "</svg>\n",
              "  </button>\n",
              "\n",
              "<style>\n",
              "  .colab-df-quickchart {\n",
              "      --bg-color: #E8F0FE;\n",
              "      --fill-color: #1967D2;\n",
              "      --hover-bg-color: #E2EBFA;\n",
              "      --hover-fill-color: #174EA6;\n",
              "      --disabled-fill-color: #AAA;\n",
              "      --disabled-bg-color: #DDD;\n",
              "  }\n",
              "\n",
              "  [theme=dark] .colab-df-quickchart {\n",
              "      --bg-color: #3B4455;\n",
              "      --fill-color: #D2E3FC;\n",
              "      --hover-bg-color: #434B5C;\n",
              "      --hover-fill-color: #FFFFFF;\n",
              "      --disabled-bg-color: #3B4455;\n",
              "      --disabled-fill-color: #666;\n",
              "  }\n",
              "\n",
              "  .colab-df-quickchart {\n",
              "    background-color: var(--bg-color);\n",
              "    border: none;\n",
              "    border-radius: 50%;\n",
              "    cursor: pointer;\n",
              "    display: none;\n",
              "    fill: var(--fill-color);\n",
              "    height: 32px;\n",
              "    padding: 0;\n",
              "    width: 32px;\n",
              "  }\n",
              "\n",
              "  .colab-df-quickchart:hover {\n",
              "    background-color: var(--hover-bg-color);\n",
              "    box-shadow: 0 1px 2px rgba(60, 64, 67, 0.3), 0 1px 3px 1px rgba(60, 64, 67, 0.15);\n",
              "    fill: var(--button-hover-fill-color);\n",
              "  }\n",
              "\n",
              "  .colab-df-quickchart-complete:disabled,\n",
              "  .colab-df-quickchart-complete:disabled:hover {\n",
              "    background-color: var(--disabled-bg-color);\n",
              "    fill: var(--disabled-fill-color);\n",
              "    box-shadow: none;\n",
              "  }\n",
              "\n",
              "  .colab-df-spinner {\n",
              "    border: 2px solid var(--fill-color);\n",
              "    border-color: transparent;\n",
              "    border-bottom-color: var(--fill-color);\n",
              "    animation:\n",
              "      spin 1s steps(1) infinite;\n",
              "  }\n",
              "\n",
              "  @keyframes spin {\n",
              "    0% {\n",
              "      border-color: transparent;\n",
              "      border-bottom-color: var(--fill-color);\n",
              "      border-left-color: var(--fill-color);\n",
              "    }\n",
              "    20% {\n",
              "      border-color: transparent;\n",
              "      border-left-color: var(--fill-color);\n",
              "      border-top-color: var(--fill-color);\n",
              "    }\n",
              "    30% {\n",
              "      border-color: transparent;\n",
              "      border-left-color: var(--fill-color);\n",
              "      border-top-color: var(--fill-color);\n",
              "      border-right-color: var(--fill-color);\n",
              "    }\n",
              "    40% {\n",
              "      border-color: transparent;\n",
              "      border-right-color: var(--fill-color);\n",
              "      border-top-color: var(--fill-color);\n",
              "    }\n",
              "    60% {\n",
              "      border-color: transparent;\n",
              "      border-right-color: var(--fill-color);\n",
              "    }\n",
              "    80% {\n",
              "      border-color: transparent;\n",
              "      border-right-color: var(--fill-color);\n",
              "      border-bottom-color: var(--fill-color);\n",
              "    }\n",
              "    90% {\n",
              "      border-color: transparent;\n",
              "      border-bottom-color: var(--fill-color);\n",
              "    }\n",
              "  }\n",
              "</style>\n",
              "\n",
              "  <script>\n",
              "    async function quickchart(key) {\n",
              "      const quickchartButtonEl =\n",
              "        document.querySelector('#' + key + ' button');\n",
              "      quickchartButtonEl.disabled = true;  // To prevent multiple clicks.\n",
              "      quickchartButtonEl.classList.add('colab-df-spinner');\n",
              "      try {\n",
              "        const charts = await google.colab.kernel.invokeFunction(\n",
              "            'suggestCharts', [key], {});\n",
              "      } catch (error) {\n",
              "        console.error('Error during call to suggestCharts:', error);\n",
              "      }\n",
              "      quickchartButtonEl.classList.remove('colab-df-spinner');\n",
              "      quickchartButtonEl.classList.add('colab-df-quickchart-complete');\n",
              "    }\n",
              "    (() => {\n",
              "      let quickchartButtonEl =\n",
              "        document.querySelector('#df-7e2ea21d-dc8d-4101-80b1-bd089dd23366 button');\n",
              "      quickchartButtonEl.style.display =\n",
              "        google.colab.kernel.accessAllowed ? 'block' : 'none';\n",
              "    })();\n",
              "  </script>\n",
              "</div>\n",
              "\n",
              "    </div>\n",
              "  </div>\n"
            ],
            "application/vnd.google.colaboratory.intrinsic+json": {
              "type": "dataframe",
              "summary": "{\n  \"name\": \"np\",\n  \"rows\": 3,\n  \"fields\": [\n    {\n      \"column\": \"A\",\n      \"properties\": {\n        \"dtype\": \"number\",\n        \"std\": 0.40824829046386313,\n        \"min\": -2.4492935982947064e-16,\n        \"max\": 0.7071067811865476,\n        \"num_unique_values\": 3,\n        \"samples\": [\n          -2.4492935982947064e-16,\n          0.7071067811865475,\n          0.7071067811865476\n        ],\n        \"semantic_type\": \"\",\n        \"description\": \"\"\n      }\n    },\n    {\n      \"column\": \"B\",\n      \"properties\": {\n        \"dtype\": \"number\",\n        \"std\": 0.9855985596534887,\n        \"min\": -1.0,\n        \"max\": 0.7071067811865475,\n        \"num_unique_values\": 3,\n        \"samples\": [\n          0.7071067811865474,\n          0.7071067811865475,\n          -1.0\n        ],\n        \"semantic_type\": \"\",\n        \"description\": \"\"\n      }\n    },\n    {\n      \"column\": \"C\",\n      \"properties\": {\n        \"dtype\": \"number\",\n        \"std\": 0.408248290463863,\n        \"min\": -0.7071067811865475,\n        \"max\": 1.2246467991473532e-16,\n        \"num_unique_values\": 3,\n        \"samples\": [\n          -0.7071067811865475,\n          0.0,\n          1.2246467991473532e-16\n        ],\n        \"semantic_type\": \"\",\n        \"description\": \"\"\n      }\n    },\n    {\n      \"column\": \"D\",\n      \"properties\": {\n        \"dtype\": \"number\",\n        \"std\": 0.4082482904638629,\n        \"min\": -0.7071067811865475,\n        \"max\": 0.0,\n        \"num_unique_values\": 3,\n        \"samples\": [\n          -0.7071067811865475,\n          0.0,\n          -2.4492935982947064e-16\n        ],\n        \"semantic_type\": \"\",\n        \"description\": \"\"\n      }\n    }\n  ]\n}"
            }
          },
          "metadata": {},
          "execution_count": 6
        }
      ],
      "source": [
        "# Calculate sin() of every value in the DataFrame multiplied by pi and divided by 4\n",
        "np.sin(df * np.pi / 4)"
      ]
    },
    {
      "cell_type": "markdown",
      "id": "e1c32e4e",
      "metadata": {
        "id": "e1c32e4e"
      },
      "source": [
        "### The Numpy Array\n",
        "Numpy provides mutidimentional arrays, with high efficiency and designed for scientific calculations.\n",
        "\n",
        "An array is similar to a list in Python and can be created from a list.\n",
        "\n",
        "Array have useful atributes we can use. Lets start by defining three random arrays, a single dimension, a two dimension and a tri dimensional array. We will use Numpy random number generator."
      ]
    },
    {
      "cell_type": "code",
      "execution_count": null,
      "id": "83817357",
      "metadata": {
        "id": "83817357"
      },
      "outputs": [],
      "source": [
        "# Import our Numpy package\n",
        "import numpy as np\n",
        "np.random.seed(0) #this will generate the same random arrays every time #seed is a function that plants the random numbers into memory\n",
        "\n",
        "x1 = np.random.randint(10, size=6) # one dimension\n",
        "x2 = np.random.randint(10, size=(3, 4)) # two dimensions\n",
        "x3 = np.random.randint(10, size=(3, 4, 5)) # tri dimensional array"
      ]
    },
    {
      "cell_type": "code",
      "source": [
        "x3"
      ],
      "metadata": {
        "colab": {
          "base_uri": "https://localhost:8080/"
        },
        "id": "Chg5bc1QE8sF",
        "outputId": "909434d3-bd08-424c-9fed-a5ffe852b9ba"
      },
      "id": "Chg5bc1QE8sF",
      "execution_count": null,
      "outputs": [
        {
          "output_type": "execute_result",
          "data": {
            "text/plain": [
              "array([[[3, 3, 8],\n",
              "        [8, 8, 2],\n",
              "        [3, 2, 0]],\n",
              "\n",
              "       [[8, 8, 3],\n",
              "        [8, 2, 8],\n",
              "        [4, 3, 0]],\n",
              "\n",
              "       [[4, 3, 6],\n",
              "        [9, 8, 0],\n",
              "        [8, 5, 9]]])"
            ]
          },
          "metadata": {},
          "execution_count": 33
        }
      ]
    },
    {
      "cell_type": "markdown",
      "id": "10c39897",
      "metadata": {
        "id": "10c39897"
      },
      "source": [
        "All arrays have the `ndim` (number of dimensions) attribute, `shape` the size of each dimension, and `size` the total array size"
      ]
    },
    {
      "cell_type": "code",
      "execution_count": null,
      "id": "b09dda83",
      "metadata": {
        "id": "b09dda83",
        "colab": {
          "base_uri": "https://localhost:8080/"
        },
        "outputId": "4259a006-7aa3-4ce3-b1db-cbf1cadcfd3b"
      },
      "outputs": [
        {
          "output_type": "stream",
          "name": "stdout",
          "text": [
            "x3 ndim: 3\n",
            "x3 sahpe: (3, 4, 5)\n",
            "x3 size: 60\n"
          ]
        }
      ],
      "source": [
        "print(\"x3 ndim:\", x3.ndim)\n",
        "print(\"x3 sahpe:\", x3.shape)\n",
        "print(\"x3 size:\", x3.size)"
      ]
    },
    {
      "cell_type": "markdown",
      "id": "6732b761",
      "metadata": {
        "id": "6732b761"
      },
      "source": [
        "Other attributes for arrays are `itemsize` shows the byte size of every element in the array, and `nbytes` shows the total bytes size of the array:"
      ]
    },
    {
      "cell_type": "code",
      "execution_count": null,
      "id": "fc1497b3",
      "metadata": {
        "id": "fc1497b3",
        "colab": {
          "base_uri": "https://localhost:8080/"
        },
        "outputId": "deca63f0-e22c-479c-d446-b5a8cb1b6725"
      },
      "outputs": [
        {
          "output_type": "stream",
          "name": "stdout",
          "text": [
            "x3 itemsize: 8 bytes\n",
            "x3 nbytes 480 bytes\n"
          ]
        }
      ],
      "source": [
        "print(\"x3 itemsize:\", x3.itemsize, \"bytes\")\n",
        "print(\"x3 nbytes\", x3.nbytes, \"bytes\")"
      ]
    },
    {
      "cell_type": "markdown",
      "id": "cd72b1c5",
      "metadata": {
        "id": "cd72b1c5"
      },
      "source": [
        "#### Optional Exercise\n",
        "- Create a 3x3x3 array that contains all random numbers.\n",
        "- Using the previous array, square all the numbers in the array."
      ]
    },
    {
      "cell_type": "code",
      "source": [
        "x4 = np.random.randint(10, size=(3, 3, 3))\n",
        "print(x4)\n",
        "np.sqrt(x4)"
      ],
      "metadata": {
        "colab": {
          "base_uri": "https://localhost:8080/"
        },
        "id": "zfYmnVaEFUng",
        "outputId": "5c6aef57-1721-43fa-a37f-31aa66c9b2b6"
      },
      "id": "zfYmnVaEFUng",
      "execution_count": null,
      "outputs": [
        {
          "output_type": "stream",
          "name": "stdout",
          "text": [
            "[[[5 3 4]\n",
            "  [5 3 3]\n",
            "  [7 9 9]]\n",
            "\n",
            " [[9 7 3]\n",
            "  [2 3 9]\n",
            "  [7 7 5]]\n",
            "\n",
            " [[1 2 2]\n",
            "  [8 1 5]\n",
            "  [8 4 0]]]\n"
          ]
        },
        {
          "output_type": "execute_result",
          "data": {
            "text/plain": [
              "array([[[2.23606798, 1.73205081, 2.        ],\n",
              "        [2.23606798, 1.73205081, 1.73205081],\n",
              "        [2.64575131, 3.        , 3.        ]],\n",
              "\n",
              "       [[3.        , 2.64575131, 1.73205081],\n",
              "        [1.41421356, 1.73205081, 3.        ],\n",
              "        [2.64575131, 2.64575131, 2.23606798]],\n",
              "\n",
              "       [[1.        , 1.41421356, 1.41421356],\n",
              "        [2.82842712, 1.        , 2.23606798],\n",
              "        [2.82842712, 2.        , 0.        ]]])"
            ]
          },
          "metadata": {},
          "execution_count": 32
        }
      ]
    },
    {
      "cell_type": "markdown",
      "id": "375bb4fc",
      "metadata": {
        "id": "375bb4fc"
      },
      "source": [
        "### Creating arrays with Numpy methods\n",
        "Specially for largers arrays we can use the more efficient methods from Numpy."
      ]
    },
    {
      "cell_type": "code",
      "execution_count": null,
      "id": "35422cd0",
      "metadata": {
        "id": "35422cd0",
        "colab": {
          "base_uri": "https://localhost:8080/"
        },
        "outputId": "b317ad14-4812-4cce-f153-7fb50b3f9294"
      },
      "outputs": [
        {
          "output_type": "execute_result",
          "data": {
            "text/plain": [
              "array([0, 0, 0, 0, 0, 0, 0, 0, 0, 0])"
            ]
          },
          "metadata": {},
          "execution_count": 19
        }
      ],
      "source": [
        "# Create a length 10 integer array filled with zeros\n",
        "np.zeros(10, dtype=int)"
      ]
    },
    {
      "cell_type": "code",
      "execution_count": null,
      "id": "084f00c9",
      "metadata": {
        "id": "084f00c9",
        "colab": {
          "base_uri": "https://localhost:8080/"
        },
        "outputId": "3229b3d8-bc2a-4fe9-b32f-398e72862c39"
      },
      "outputs": [
        {
          "output_type": "execute_result",
          "data": {
            "text/plain": [
              "array([[1., 1., 1., 1., 1.],\n",
              "       [1., 1., 1., 1., 1.],\n",
              "       [1., 1., 1., 1., 1.]])"
            ]
          },
          "metadata": {},
          "execution_count": 20
        }
      ],
      "source": [
        "# Create a 3x5 float array filled with ones\n",
        "np.ones((3, 5), dtype=float)"
      ]
    },
    {
      "cell_type": "code",
      "execution_count": null,
      "id": "75a5e0bc",
      "metadata": {
        "id": "75a5e0bc",
        "colab": {
          "base_uri": "https://localhost:8080/"
        },
        "outputId": "55532d66-f4e2-4be4-e3c2-d9dc523161ca"
      },
      "outputs": [
        {
          "output_type": "execute_result",
          "data": {
            "text/plain": [
              "array([[3.14, 3.14, 3.14, 3.14, 3.14],\n",
              "       [3.14, 3.14, 3.14, 3.14, 3.14],\n",
              "       [3.14, 3.14, 3.14, 3.14, 3.14]])"
            ]
          },
          "metadata": {},
          "execution_count": 21
        }
      ],
      "source": [
        "# Create a 3x5 array filled with 3.14\n",
        "np.full((3, 5), 3.14)"
      ]
    },
    {
      "cell_type": "code",
      "execution_count": null,
      "id": "3ae0beea",
      "metadata": {
        "id": "3ae0beea",
        "colab": {
          "base_uri": "https://localhost:8080/"
        },
        "outputId": "6515664a-cd08-4fc1-9c20-3278dc382ece"
      },
      "outputs": [
        {
          "output_type": "execute_result",
          "data": {
            "text/plain": [
              "array([ 0,  2,  4,  6,  8, 10, 12, 14, 16, 18])"
            ]
          },
          "metadata": {},
          "execution_count": 24
        }
      ],
      "source": [
        "# Create an array filled with a linear sequence\n",
        "# Start at 0, end at 20, step size 2\n",
        "np.arange(0, 20, 2)"
      ]
    },
    {
      "cell_type": "code",
      "execution_count": null,
      "id": "db34ed9d",
      "metadata": {
        "id": "db34ed9d",
        "colab": {
          "base_uri": "https://localhost:8080/"
        },
        "outputId": "fc19ce0b-4451-4f42-9cb1-2d2563d95881"
      },
      "outputs": [
        {
          "output_type": "execute_result",
          "data": {
            "text/plain": [
              "array([0.  , 0.25, 0.5 , 0.75, 1.  ])"
            ]
          },
          "metadata": {},
          "execution_count": 25
        }
      ],
      "source": [
        "# Create an array of five values evenly spaced between 0 and 1\n",
        "np.linspace(0, 1, 5)"
      ]
    },
    {
      "cell_type": "code",
      "execution_count": null,
      "id": "04480d0a",
      "metadata": {
        "id": "04480d0a",
        "colab": {
          "base_uri": "https://localhost:8080/"
        },
        "outputId": "b0fd6442-533c-4f48-b500-72131c0a301f"
      },
      "outputs": [
        {
          "output_type": "execute_result",
          "data": {
            "text/plain": [
              "array([[0.58846509, 0.65966841, 0.53320625],\n",
              "       [0.23053302, 0.39486929, 0.61880856],\n",
              "       [0.47486752, 0.47013219, 0.71607453]])"
            ]
          },
          "metadata": {},
          "execution_count": 26
        }
      ],
      "source": [
        "# Create a 3x3 array of uniformly distributed random values between 0 and 1\n",
        "np.random.random((3, 3))"
      ]
    },
    {
      "cell_type": "code",
      "execution_count": null,
      "id": "2dce3446",
      "metadata": {
        "id": "2dce3446",
        "colab": {
          "base_uri": "https://localhost:8080/"
        },
        "outputId": "935dba0c-abd0-415e-a32f-c79ed30a7ad9"
      },
      "outputs": [
        {
          "output_type": "execute_result",
          "data": {
            "text/plain": [
              "array([[-0.82086383, -1.49333996,  0.52417595],\n",
              "       [ 0.34511317,  0.72437468, -2.04038084],\n",
              "       [-1.0797781 , -0.69342441, -2.33804615]])"
            ]
          },
          "metadata": {},
          "execution_count": 27
        }
      ],
      "source": [
        "# Create a 3x3 array of normally distributed random values\n",
        "# with mean 0 and standard deviation 1\n",
        "np.random.normal(0, 1, (3, 3))"
      ]
    },
    {
      "cell_type": "code",
      "execution_count": null,
      "id": "8b001f0f",
      "metadata": {
        "id": "8b001f0f",
        "colab": {
          "base_uri": "https://localhost:8080/"
        },
        "outputId": "70ee159c-e1d4-4583-fa17-75ee42dbc506"
      },
      "outputs": [
        {
          "output_type": "execute_result",
          "data": {
            "text/plain": [
              "array([[8, 4, 6],\n",
              "       [5, 8, 2],\n",
              "       [3, 9, 7]])"
            ]
          },
          "metadata": {},
          "execution_count": 28
        }
      ],
      "source": [
        "# Create a 3x3 array of random integer in the interval [0, 10]\n",
        "np.random.randint(0, 10, (3, 3))"
      ]
    },
    {
      "cell_type": "code",
      "execution_count": null,
      "id": "be6db5ca",
      "metadata": {
        "id": "be6db5ca",
        "colab": {
          "base_uri": "https://localhost:8080/"
        },
        "outputId": "f7b9830b-465e-4195-cf40-724dcbe25299"
      },
      "outputs": [
        {
          "output_type": "execute_result",
          "data": {
            "text/plain": [
              "array([[1., 0., 0.],\n",
              "       [0., 1., 0.],\n",
              "       [0., 0., 1.]])"
            ]
          },
          "metadata": {},
          "execution_count": 29
        }
      ],
      "source": [
        "# Create a 3x3 identity matrix\n",
        "np.eye(3)"
      ]
    },
    {
      "cell_type": "code",
      "execution_count": null,
      "id": "7246c404",
      "metadata": {
        "id": "7246c404",
        "colab": {
          "base_uri": "https://localhost:8080/"
        },
        "outputId": "3d2f0988-b176-49f1-c852-27a579624f47"
      },
      "outputs": [
        {
          "output_type": "execute_result",
          "data": {
            "text/plain": [
              "array([1., 1., 1.])"
            ]
          },
          "metadata": {},
          "execution_count": 30
        }
      ],
      "source": [
        "# Create an uninitialized array of three integers\n",
        "# The values will be whatever happens to already exist at that memory location\n",
        "np.empty(3) #removes values from th array"
      ]
    },
    {
      "cell_type": "markdown",
      "id": "aa580ec3",
      "metadata": {
        "id": "aa580ec3"
      },
      "source": [
        "#### Array indexing\n",
        "Similar to Python lists we can access individual elements in the array. For single dimensional arrays we can use the indexing format using `[]`"
      ]
    },
    {
      "cell_type": "code",
      "execution_count": null,
      "id": "f8b243a5",
      "metadata": {
        "id": "f8b243a5",
        "colab": {
          "base_uri": "https://localhost:8080/"
        },
        "outputId": "eebffe3c-7d8a-4b37-a696-9cade6462d76"
      },
      "outputs": [
        {
          "output_type": "execute_result",
          "data": {
            "text/plain": [
              "array([5, 0, 3, 3, 7, 9])"
            ]
          },
          "metadata": {},
          "execution_count": 31
        }
      ],
      "source": [
        "x1"
      ]
    },
    {
      "cell_type": "code",
      "execution_count": null,
      "id": "6889691d",
      "metadata": {
        "id": "6889691d",
        "colab": {
          "base_uri": "https://localhost:8080/"
        },
        "outputId": "3c19faba-949c-48a8-d27e-12835c9446bb"
      },
      "outputs": [
        {
          "output_type": "execute_result",
          "data": {
            "text/plain": [
              "5"
            ]
          },
          "metadata": {},
          "execution_count": 35
        }
      ],
      "source": [
        "x1[0]"
      ]
    },
    {
      "cell_type": "code",
      "execution_count": null,
      "id": "d1658fee",
      "metadata": {
        "id": "d1658fee",
        "colab": {
          "base_uri": "https://localhost:8080/"
        },
        "outputId": "45d38671-0828-4e33-9588-6dcd2d58b376"
      },
      "outputs": [
        {
          "output_type": "execute_result",
          "data": {
            "text/plain": [
              "7"
            ]
          },
          "metadata": {},
          "execution_count": 36
        }
      ],
      "source": [
        "x1[4]"
      ]
    },
    {
      "cell_type": "code",
      "execution_count": null,
      "id": "0cd32e10",
      "metadata": {
        "id": "0cd32e10",
        "colab": {
          "base_uri": "https://localhost:8080/"
        },
        "outputId": "a3293a4a-7bad-4f91-f192-44955ad5db03"
      },
      "outputs": [
        {
          "output_type": "execute_result",
          "data": {
            "text/plain": [
              "5"
            ]
          },
          "metadata": {},
          "execution_count": 37
        }
      ],
      "source": [
        "x1[-6]"
      ]
    },
    {
      "cell_type": "markdown",
      "id": "6d268527",
      "metadata": {
        "id": "6d268527"
      },
      "source": [
        "We can use a similar logic for multi dimensional arrays"
      ]
    },
    {
      "cell_type": "code",
      "execution_count": null,
      "id": "d3fd841c",
      "metadata": {
        "id": "d3fd841c",
        "colab": {
          "base_uri": "https://localhost:8080/"
        },
        "outputId": "af4860dd-7309-4c34-bc18-724d49aecd79"
      },
      "outputs": [
        {
          "output_type": "execute_result",
          "data": {
            "text/plain": [
              "array([[3, 5, 2, 4],\n",
              "       [7, 6, 8, 8],\n",
              "       [1, 6, 7, 7]])"
            ]
          },
          "metadata": {},
          "execution_count": 38
        }
      ],
      "source": [
        "x2"
      ]
    },
    {
      "cell_type": "code",
      "execution_count": null,
      "id": "c8b6f86b",
      "metadata": {
        "id": "c8b6f86b",
        "colab": {
          "base_uri": "https://localhost:8080/"
        },
        "outputId": "6b9d0708-19f4-41e0-f2e7-5d5bfef8c0e5"
      },
      "outputs": [
        {
          "output_type": "execute_result",
          "data": {
            "text/plain": [
              "4"
            ]
          },
          "metadata": {},
          "execution_count": 39
        }
      ],
      "source": [
        "x2[0, 3] # Access row 0, column index 3"
      ]
    },
    {
      "cell_type": "code",
      "execution_count": null,
      "id": "97aff3e1",
      "metadata": {
        "id": "97aff3e1",
        "colab": {
          "base_uri": "https://localhost:8080/"
        },
        "outputId": "38e2b572-307c-40db-88df-b5327b5a4dab"
      },
      "outputs": [
        {
          "output_type": "execute_result",
          "data": {
            "text/plain": [
              "7"
            ]
          },
          "metadata": {},
          "execution_count": 40
        }
      ],
      "source": [
        "x2[2, -1] # Access row index 2, column index -1"
      ]
    },
    {
      "cell_type": "markdown",
      "id": "d6ae8509",
      "metadata": {
        "id": "d6ae8509"
      },
      "source": [
        "We can use the same logic to change values using array indexing"
      ]
    },
    {
      "cell_type": "code",
      "execution_count": null,
      "id": "125bab47",
      "metadata": {
        "id": "125bab47"
      },
      "outputs": [],
      "source": [
        "x2[2, -1] = 2"
      ]
    },
    {
      "cell_type": "markdown",
      "id": "1935bd53",
      "metadata": {
        "id": "1935bd53"
      },
      "source": [
        "#### Optional Exercise\n",
        "- Create a new array using `arange` this array should contain a total of 4 values.\n",
        "- Select only values in index 2 and index 4.\n",
        "- Change the value of index 3 to 99"
      ]
    },
    {
      "cell_type": "code",
      "source": [
        "import numpy as np\n",
        "\n",
        "array = np.arange(4)\n",
        "selected_values = array[[2]]\n",
        "array[3] = 99\n",
        "print(\"Original array:\", array)\n",
        "print(\"Selected values:\", selected_values)"
      ],
      "metadata": {
        "colab": {
          "base_uri": "https://localhost:8080/"
        },
        "id": "KtcEv0eMVWMn",
        "outputId": "7b6e1c9e-0d41-4e96-e678-7ddaf457a78c"
      },
      "id": "KtcEv0eMVWMn",
      "execution_count": 1,
      "outputs": [
        {
          "output_type": "stream",
          "name": "stdout",
          "text": [
            "Original array: [ 0  1  2 99]\n",
            "Selected values: [2]\n"
          ]
        }
      ]
    },
    {
      "cell_type": "markdown",
      "id": "6ab321d4",
      "metadata": {
        "id": "6ab321d4"
      },
      "source": [
        "#### Sub arrays (slicing)\n",
        "We can also use a similar syntax to Python list slicing to access only parts of the array. The syntax goes as follows:\n",
        "\n",
        "`x[start:stop:step]`\n",
        "Where default start value = 0, stop is the non inclusive stop index, and step the number of items we want to count"
      ]
    },
    {
      "cell_type": "code",
      "execution_count": null,
      "id": "e9fffdca",
      "metadata": {
        "id": "e9fffdca",
        "colab": {
          "base_uri": "https://localhost:8080/"
        },
        "outputId": "94e69939-b3a6-4e49-c8a7-c877d31c5ffc"
      },
      "outputs": [
        {
          "output_type": "execute_result",
          "data": {
            "text/plain": [
              "array([0, 1, 2, 3, 4, 5, 6, 7, 8, 9])"
            ]
          },
          "metadata": {},
          "execution_count": 42
        }
      ],
      "source": [
        "x = np.arange(10)\n",
        "x"
      ]
    },
    {
      "cell_type": "code",
      "execution_count": null,
      "id": "a3f86d6d",
      "metadata": {
        "id": "a3f86d6d",
        "colab": {
          "base_uri": "https://localhost:8080/"
        },
        "outputId": "e2d10184-26d2-4f48-8464-411871bf12ac"
      },
      "outputs": [
        {
          "output_type": "execute_result",
          "data": {
            "text/plain": [
              "array([0, 1, 2, 3, 4])"
            ]
          },
          "metadata": {},
          "execution_count": 43
        }
      ],
      "source": [
        "x[:5] # first five elements"
      ]
    },
    {
      "cell_type": "code",
      "execution_count": null,
      "id": "0ae14e3a",
      "metadata": {
        "id": "0ae14e3a",
        "colab": {
          "base_uri": "https://localhost:8080/"
        },
        "outputId": "da255d8c-815f-419e-bdb3-cc2c2baf8603"
      },
      "outputs": [
        {
          "output_type": "execute_result",
          "data": {
            "text/plain": [
              "array([5, 6, 7, 8, 9])"
            ]
          },
          "metadata": {},
          "execution_count": 44
        }
      ],
      "source": [
        "x[5:] # elements starting from the fifth index"
      ]
    },
    {
      "cell_type": "code",
      "execution_count": null,
      "id": "c03943c1",
      "metadata": {
        "id": "c03943c1",
        "colab": {
          "base_uri": "https://localhost:8080/"
        },
        "outputId": "e99a46f9-dbde-4010-c1fa-482d87812771"
      },
      "outputs": [
        {
          "output_type": "execute_result",
          "data": {
            "text/plain": [
              "array([4, 5, 6])"
            ]
          },
          "metadata": {},
          "execution_count": 45
        }
      ],
      "source": [
        "x[4:7] # elements between 4 and non inclusive 7"
      ]
    },
    {
      "cell_type": "code",
      "execution_count": null,
      "id": "f2118cd2",
      "metadata": {
        "id": "f2118cd2",
        "colab": {
          "base_uri": "https://localhost:8080/"
        },
        "outputId": "2a0a1b3b-677b-44db-ed14-31145ca93bf5"
      },
      "outputs": [
        {
          "output_type": "execute_result",
          "data": {
            "text/plain": [
              "array([0, 2, 4, 6, 8])"
            ]
          },
          "metadata": {},
          "execution_count": 46
        }
      ],
      "source": [
        "x[::2] # all elements but step size 2"
      ]
    },
    {
      "cell_type": "code",
      "execution_count": null,
      "id": "cf0e7875",
      "metadata": {
        "id": "cf0e7875",
        "colab": {
          "base_uri": "https://localhost:8080/"
        },
        "outputId": "0bcf4c0c-1ecb-4d30-ef38-3027ae7ef5fc"
      },
      "outputs": [
        {
          "output_type": "execute_result",
          "data": {
            "text/plain": [
              "array([1, 3, 5, 7, 9])"
            ]
          },
          "metadata": {},
          "execution_count": 47
        }
      ],
      "source": [
        "x[1::2] # elements every two steps, starting from index 1"
      ]
    },
    {
      "cell_type": "markdown",
      "id": "fc4116ed",
      "metadata": {
        "id": "fc4116ed"
      },
      "source": [
        "We can also use negative step index. In this case the default start and stop values are inverted. This makes it a convenient way to invert an array."
      ]
    },
    {
      "cell_type": "code",
      "execution_count": null,
      "id": "c51433ad",
      "metadata": {
        "id": "c51433ad",
        "colab": {
          "base_uri": "https://localhost:8080/"
        },
        "outputId": "aa70c409-0747-4f22-a9ff-21be3453af3d"
      },
      "outputs": [
        {
          "output_type": "execute_result",
          "data": {
            "text/plain": [
              "array([9, 8, 7, 6, 5, 4, 3, 2, 1, 0])"
            ]
          },
          "metadata": {},
          "execution_count": 48
        }
      ],
      "source": [
        "x[::-1] # reverse the array"
      ]
    },
    {
      "cell_type": "code",
      "execution_count": null,
      "id": "679b7a8e",
      "metadata": {
        "id": "679b7a8e",
        "colab": {
          "base_uri": "https://localhost:8080/"
        },
        "outputId": "4af133d0-a550-4f74-a349-980696bc236b"
      },
      "outputs": [
        {
          "output_type": "execute_result",
          "data": {
            "text/plain": [
              "array([5, 3, 1])"
            ]
          },
          "metadata": {},
          "execution_count": 49
        }
      ],
      "source": [
        "x[5::-2] # inverted array starting from the fifth index at minus two step interval"
      ]
    },
    {
      "cell_type": "markdown",
      "id": "5670d312",
      "metadata": {
        "id": "5670d312"
      },
      "source": [
        "We can also select multi dimension sectors of an array. The syntax is similar, with every sector separated by a comma"
      ]
    },
    {
      "cell_type": "code",
      "execution_count": null,
      "id": "592911bc",
      "metadata": {
        "id": "592911bc",
        "colab": {
          "base_uri": "https://localhost:8080/"
        },
        "outputId": "e6264910-aae0-496b-db8a-d6533a87d961"
      },
      "outputs": [
        {
          "output_type": "execute_result",
          "data": {
            "text/plain": [
              "array([[3, 5, 2, 4],\n",
              "       [7, 6, 8, 8],\n",
              "       [1, 6, 7, 2]])"
            ]
          },
          "metadata": {},
          "execution_count": 50
        }
      ],
      "source": [
        "x2"
      ]
    },
    {
      "cell_type": "code",
      "execution_count": null,
      "id": "a64ef513",
      "metadata": {
        "id": "a64ef513",
        "colab": {
          "base_uri": "https://localhost:8080/"
        },
        "outputId": "52e725f4-f440-48dc-d160-8d0ff7e996cf"
      },
      "outputs": [
        {
          "output_type": "execute_result",
          "data": {
            "text/plain": [
              "array([[3, 5, 2],\n",
              "       [7, 6, 8]])"
            ]
          },
          "metadata": {},
          "execution_count": 51
        }
      ],
      "source": [
        "x2[:2, :3] # rows with index 0 and 1, and columns with index 0, 1 and 2"
      ]
    },
    {
      "cell_type": "code",
      "execution_count": null,
      "id": "48a6e77d",
      "metadata": {
        "id": "48a6e77d",
        "colab": {
          "base_uri": "https://localhost:8080/"
        },
        "outputId": "e3ac917b-84c2-4122-d8d6-ee040a6eb7a6"
      },
      "outputs": [
        {
          "output_type": "execute_result",
          "data": {
            "text/plain": [
              "array([[3, 2],\n",
              "       [7, 8],\n",
              "       [1, 7]])"
            ]
          },
          "metadata": {},
          "execution_count": 52
        }
      ],
      "source": [
        "x2[:3, ::2] # all rows but step size 2"
      ]
    },
    {
      "cell_type": "markdown",
      "id": "0bec0e6f",
      "metadata": {
        "id": "0bec0e6f"
      },
      "source": [
        "#### Reshaping arrays\n",
        "Another useful operation is reshaping, we can use the `reshape()` method. If we wanted to reshape an array by a 3 x 3 array we can use the following syntax"
      ]
    },
    {
      "cell_type": "code",
      "execution_count": null,
      "id": "dd3e54d6",
      "metadata": {
        "id": "dd3e54d6",
        "colab": {
          "base_uri": "https://localhost:8080/"
        },
        "outputId": "e343d809-b21c-4b53-daaa-f20131b021a7"
      },
      "outputs": [
        {
          "output_type": "execute_result",
          "data": {
            "text/plain": [
              "array([[1, 2, 3],\n",
              "       [4, 5, 6],\n",
              "       [7, 8, 9]])"
            ]
          },
          "metadata": {},
          "execution_count": 53
        }
      ],
      "source": [
        "grid = np.arange(1, 10).reshape((3, 3))\n",
        "grid"
      ]
    },
    {
      "cell_type": "markdown",
      "id": "103616e1",
      "metadata": {
        "id": "103616e1"
      },
      "source": [
        "For this to work the size of the initial array must match the reshaped array.\n",
        "\n",
        "Another common form of reshaping is converting an unidimensional array of rows or columns. We can either use `reshape` or the `nexaxis` keyword inside a slicing operation"
      ]
    },
    {
      "cell_type": "code",
      "execution_count": null,
      "id": "e3a38488",
      "metadata": {
        "id": "e3a38488",
        "colab": {
          "base_uri": "https://localhost:8080/"
        },
        "outputId": "14714e2d-0aeb-47b7-f076-baf214615504"
      },
      "outputs": [
        {
          "output_type": "execute_result",
          "data": {
            "text/plain": [
              "array([[1, 2, 3]])"
            ]
          },
          "metadata": {},
          "execution_count": 55
        }
      ],
      "source": [
        "import numpy as np\n",
        "\n",
        "x = np.array([1, 2, 3])\n",
        "\n",
        "# row vector via reshape\n",
        "x.reshape(1, 3)"
      ]
    },
    {
      "cell_type": "code",
      "execution_count": null,
      "id": "e8948177",
      "metadata": {
        "id": "e8948177",
        "colab": {
          "base_uri": "https://localhost:8080/"
        },
        "outputId": "925bc6ae-d7ea-469f-fd7f-240a4bb70802"
      },
      "outputs": [
        {
          "output_type": "execute_result",
          "data": {
            "text/plain": [
              "array([[1, 2, 3]])"
            ]
          },
          "metadata": {},
          "execution_count": 56
        }
      ],
      "source": [
        "# row vector via newaxis\n",
        "x[np.newaxis, :]"
      ]
    },
    {
      "cell_type": "code",
      "execution_count": null,
      "id": "c906262d",
      "metadata": {
        "id": "c906262d",
        "colab": {
          "base_uri": "https://localhost:8080/"
        },
        "outputId": "b3f3d934-6fce-43df-f702-a15fa7b9a7cf"
      },
      "outputs": [
        {
          "output_type": "execute_result",
          "data": {
            "text/plain": [
              "array([[1],\n",
              "       [2],\n",
              "       [3]])"
            ]
          },
          "metadata": {},
          "execution_count": 57
        }
      ],
      "source": [
        "# column vector via reshape\n",
        "x.reshape((3, 1))"
      ]
    },
    {
      "cell_type": "code",
      "execution_count": null,
      "id": "34c1ba40",
      "metadata": {
        "id": "34c1ba40",
        "colab": {
          "base_uri": "https://localhost:8080/"
        },
        "outputId": "f4a8d114-06ef-4702-b3cf-a27ac17dba41"
      },
      "outputs": [
        {
          "output_type": "execute_result",
          "data": {
            "text/plain": [
              "array([[1],\n",
              "       [2],\n",
              "       [3]])"
            ]
          },
          "metadata": {},
          "execution_count": 59
        }
      ],
      "source": [
        "# column vector via newaxis\n",
        "x[:, np.newaxis]"
      ]
    },
    {
      "cell_type": "markdown",
      "id": "1f15b0e7",
      "metadata": {
        "id": "1f15b0e7"
      },
      "source": [
        "#### Optional exercise\n",
        "- Create a new 4x4 array.\n",
        "- Select and print only the first two rows.\n",
        "- Select and print only the last two columns.\n",
        "- Select only the last two rows and first two columns.\n",
        "- Reshape the array into a 8x2 array."
      ]
    },
    {
      "cell_type": "code",
      "source": [
        "import numpy as np\n",
        "\n",
        "array = np.arange(16).reshape(4, 4)\n",
        "first_two_rows = array[:2, :]\n",
        "print(\"First two rows:\\n\", first_two_rows)\n",
        "last_two_columns = array[:, -2:]\n",
        "print(\"Last two columns:\\n\", last_two_columns)\n",
        "last_two_rows_first_two_columns = array[-2:, :2]\n",
        "print(\"Last two rows and first two columns:\\n\", last_two_rows_first_two_columns)\n",
        "reshaped_array = array.reshape(8, 2)\n",
        "print(\"Reshaped 8x2 array:\\n\", reshaped_array)\n"
      ],
      "metadata": {
        "colab": {
          "base_uri": "https://localhost:8080/"
        },
        "id": "8mTbAuF_V5vq",
        "outputId": "a1596195-cccb-404e-a5f8-8d5846a286ec"
      },
      "id": "8mTbAuF_V5vq",
      "execution_count": 2,
      "outputs": [
        {
          "output_type": "stream",
          "name": "stdout",
          "text": [
            "First two rows:\n",
            " [[0 1 2 3]\n",
            " [4 5 6 7]]\n",
            "Last two columns:\n",
            " [[ 2  3]\n",
            " [ 6  7]\n",
            " [10 11]\n",
            " [14 15]]\n",
            "Last two rows and first two columns:\n",
            " [[ 8  9]\n",
            " [12 13]]\n",
            "Reshaped 8x2 array:\n",
            " [[ 0  1]\n",
            " [ 2  3]\n",
            " [ 4  5]\n",
            " [ 6  7]\n",
            " [ 8  9]\n",
            " [10 11]\n",
            " [12 13]\n",
            " [14 15]]\n"
          ]
        }
      ]
    },
    {
      "cell_type": "markdown",
      "id": "f80ed534",
      "metadata": {
        "id": "f80ed534"
      },
      "source": [
        "#### Array concatenation and division\n",
        "We can also combine multiple arrays into one and vice versa\n",
        "\n",
        "Concatenation can be achieved using the `np.concatenate`, `np.vstack` and `np.hstack`. `np.concatenate` takes a list of arrays as its first argument"
      ]
    },
    {
      "cell_type": "code",
      "execution_count": null,
      "id": "aca79f3c",
      "metadata": {
        "id": "aca79f3c",
        "colab": {
          "base_uri": "https://localhost:8080/"
        },
        "outputId": "e4a6e21e-da48-44a4-af76-effbc5e2e54e"
      },
      "outputs": [
        {
          "output_type": "execute_result",
          "data": {
            "text/plain": [
              "array([1, 2, 3, 3, 2, 1])"
            ]
          },
          "metadata": {},
          "execution_count": 60
        }
      ],
      "source": [
        "x = np.array([1, 2, 3]) # create an array from a list\n",
        "y = np.array([3, 2, 1]) # create a second array from a list\n",
        "np.concatenate([x, y]) # array list to concatenate"
      ]
    },
    {
      "cell_type": "code",
      "execution_count": null,
      "id": "b1ae7000",
      "metadata": {
        "id": "b1ae7000",
        "colab": {
          "base_uri": "https://localhost:8080/"
        },
        "outputId": "cb1fa8ad-701e-4547-ba5c-67538b421f32"
      },
      "outputs": [
        {
          "output_type": "stream",
          "name": "stdout",
          "text": [
            "[ 1  2  3  3  2  1 99 88 77]\n"
          ]
        }
      ],
      "source": [
        "# we can concatenate more than one array at a time\n",
        "z = [99, 88, 77]\n",
        "print(np.concatenate([x, y, z]))"
      ]
    },
    {
      "cell_type": "markdown",
      "id": "704c9f27",
      "metadata": {
        "id": "704c9f27"
      },
      "source": [
        "We can use the same logic for multidimensional arrays"
      ]
    },
    {
      "cell_type": "code",
      "execution_count": null,
      "id": "9ee83245",
      "metadata": {
        "id": "9ee83245",
        "colab": {
          "base_uri": "https://localhost:8080/"
        },
        "outputId": "f0853966-7715-4802-99ca-f39a69d38a5b"
      },
      "outputs": [
        {
          "output_type": "execute_result",
          "data": {
            "text/plain": [
              "array([[1, 2, 3],\n",
              "       [4, 5, 6],\n",
              "       [1, 2, 3],\n",
              "       [4, 5, 6]])"
            ]
          },
          "metadata": {},
          "execution_count": 62
        }
      ],
      "source": [
        "grid = np.array([[1, 2, 3],\n",
        "                [4, 5, 6]])\n",
        "np.concatenate([grid, grid]) # concatenate on the first axis. Rows"
      ]
    },
    {
      "cell_type": "code",
      "execution_count": null,
      "id": "3a224c6d",
      "metadata": {
        "id": "3a224c6d",
        "colab": {
          "base_uri": "https://localhost:8080/"
        },
        "outputId": "7bbf9793-9860-49ee-b1a6-75206f4460f4"
      },
      "outputs": [
        {
          "output_type": "execute_result",
          "data": {
            "text/plain": [
              "array([[1, 2, 3],\n",
              "       [4, 5, 6]])"
            ]
          },
          "metadata": {},
          "execution_count": 63
        }
      ],
      "source": [
        "grid"
      ]
    },
    {
      "cell_type": "code",
      "execution_count": null,
      "id": "816d430c",
      "metadata": {
        "id": "816d430c",
        "colab": {
          "base_uri": "https://localhost:8080/"
        },
        "outputId": "edbe5838-6fdf-4e12-ca56-b8c5b78d1944"
      },
      "outputs": [
        {
          "output_type": "execute_result",
          "data": {
            "text/plain": [
              "array([[1, 2, 3, 1, 2, 3],\n",
              "       [4, 5, 6, 4, 5, 6]])"
            ]
          },
          "metadata": {},
          "execution_count": 64
        }
      ],
      "source": [
        "# Concatenate on the second axis (zero indexed)\n",
        "np.concatenate([grid, grid], axis=1) # concatenate on columns"
      ]
    },
    {
      "cell_type": "markdown",
      "id": "b7ae51f9",
      "metadata": {
        "id": "b7ae51f9"
      },
      "source": [
        "To work with diferent sized arrays it may be easier to work with `np.vstack` vertical stack, and `np.hstack` horizontal stack"
      ]
    },
    {
      "cell_type": "code",
      "execution_count": null,
      "id": "fde98bad",
      "metadata": {
        "id": "fde98bad",
        "colab": {
          "base_uri": "https://localhost:8080/"
        },
        "outputId": "ec48856e-1488-4399-8cda-f600e3183a2f"
      },
      "outputs": [
        {
          "output_type": "execute_result",
          "data": {
            "text/plain": [
              "array([[1, 2, 3],\n",
              "       [9, 8, 7],\n",
              "       [6, 5, 4]])"
            ]
          },
          "metadata": {},
          "execution_count": 65
        }
      ],
      "source": [
        "x = np.array([1, 2, 3])\n",
        "grid = np.array([[9, 8, 7],\n",
        "                [6, 5, 4]])\n",
        "# stack vertically\n",
        "np.vstack([x, grid])"
      ]
    },
    {
      "cell_type": "code",
      "execution_count": null,
      "id": "5221e2ed",
      "metadata": {
        "id": "5221e2ed",
        "colab": {
          "base_uri": "https://localhost:8080/"
        },
        "outputId": "faf1eabe-56ad-4854-d303-be342e9e4761"
      },
      "outputs": [
        {
          "output_type": "execute_result",
          "data": {
            "text/plain": [
              "array([[ 9,  8,  7, 99],\n",
              "       [ 6,  5,  4, 99]])"
            ]
          },
          "metadata": {},
          "execution_count": 66
        }
      ],
      "source": [
        "# stack horizontally\n",
        "y = np.array([[99],\n",
        "              [99]])\n",
        "np.hstack([grid, y])"
      ]
    },
    {
      "cell_type": "markdown",
      "id": "9feb1cfa",
      "metadata": {
        "id": "9feb1cfa"
      },
      "source": [
        "#### Split arrays\n",
        "Finally we can split arrays using the `np.split`, `np.hplit` and `np.vsplit`. For each of these we need to pass a list of indexes that divide/split our array"
      ]
    },
    {
      "cell_type": "code",
      "execution_count": null,
      "id": "797524e4",
      "metadata": {
        "id": "797524e4",
        "colab": {
          "base_uri": "https://localhost:8080/"
        },
        "outputId": "f9078a1f-17bd-4383-af65-79d3de93733c"
      },
      "outputs": [
        {
          "output_type": "stream",
          "name": "stdout",
          "text": [
            "[1 2 3] [99 88] [77  4  5  6]\n"
          ]
        }
      ],
      "source": [
        "x = [1, 2, 3, 99, 88, 77, 4, 5, 6]\n",
        "x1, x2, x3 = np.split(x, [3, 5]) # split at index 3 and 5, non inclusive\n",
        "print(x1, x2, x3)"
      ]
    },
    {
      "cell_type": "markdown",
      "id": "e5e53a06",
      "metadata": {
        "id": "e5e53a06"
      },
      "source": [
        "Observe that N division/split points lead to N + 1 sub arrays. Similarly `np.hsplit` and `np.vsplit` can be used"
      ]
    },
    {
      "cell_type": "code",
      "execution_count": null,
      "id": "b3efd34f",
      "metadata": {
        "id": "b3efd34f"
      },
      "outputs": [],
      "source": [
        "grid = np.arange(16).reshape((4, 4))"
      ]
    },
    {
      "cell_type": "code",
      "execution_count": null,
      "id": "af0e782b",
      "metadata": {
        "id": "af0e782b",
        "colab": {
          "base_uri": "https://localhost:8080/"
        },
        "outputId": "7039cb5b-bd77-4b3b-abe4-a4fcfc7ce811"
      },
      "outputs": [
        {
          "output_type": "execute_result",
          "data": {
            "text/plain": [
              "array([[ 0,  1,  2,  3],\n",
              "       [ 4,  5,  6,  7],\n",
              "       [ 8,  9, 10, 11],\n",
              "       [12, 13, 14, 15]])"
            ]
          },
          "metadata": {},
          "execution_count": 69
        }
      ],
      "source": [
        "grid"
      ]
    },
    {
      "cell_type": "code",
      "execution_count": null,
      "id": "76bafa23",
      "metadata": {
        "id": "76bafa23",
        "colab": {
          "base_uri": "https://localhost:8080/"
        },
        "outputId": "38deb339-b17f-49bd-9916-bb12fc9ab849"
      },
      "outputs": [
        {
          "output_type": "stream",
          "name": "stdout",
          "text": [
            "[[0 1 2 3]\n",
            " [4 5 6 7]]\n",
            "[[ 8  9 10 11]\n",
            " [12 13 14 15]]\n"
          ]
        }
      ],
      "source": [
        "upper, lower = np.vsplit(grid, [2])\n",
        "print(upper)\n",
        "print(lower)"
      ]
    },
    {
      "cell_type": "code",
      "execution_count": null,
      "id": "4a4474be",
      "metadata": {
        "id": "4a4474be",
        "colab": {
          "base_uri": "https://localhost:8080/"
        },
        "outputId": "6d37aa21-3484-4353-f3bc-7099a9dd142e"
      },
      "outputs": [
        {
          "output_type": "stream",
          "name": "stdout",
          "text": [
            "[[ 0  1]\n",
            " [ 4  5]\n",
            " [ 8  9]\n",
            " [12 13]]\n",
            "[[ 2  3]\n",
            " [ 6  7]\n",
            " [10 11]\n",
            " [14 15]]\n"
          ]
        }
      ],
      "source": [
        "left, right = np.hsplit(grid, [2])\n",
        "print(left)\n",
        "print(right)"
      ]
    },
    {
      "cell_type": "markdown",
      "id": "ec8b4ee0",
      "metadata": {
        "id": "ec8b4ee0"
      },
      "source": [
        "### Universal Functions\n",
        "Next we will look at why Numpy is important for data science and working with arrays.\n",
        "\n",
        "The key to making computation with Numpy very fast is using vectorized operations with Numpy, they key to this is using Numpy Universal Functions.\n",
        "\n",
        "Here is a speed comparison between a traditional for loop and a vectorized operation in Numpy using and array that contains a million values."
      ]
    },
    {
      "cell_type": "code",
      "execution_count": null,
      "id": "7a24439a",
      "metadata": {
        "id": "7a24439a",
        "colab": {
          "base_uri": "https://localhost:8080/"
        },
        "outputId": "5754db90-57ca-43c0-fc00-45bde8927c4e"
      },
      "outputs": [
        {
          "output_type": "execute_result",
          "data": {
            "text/plain": [
              "array([0.16666667, 1.        , 0.25      , 0.25      , 0.125     ])"
            ]
          },
          "metadata": {},
          "execution_count": 72
        }
      ],
      "source": [
        "# Traditional implementation\n",
        "import numpy as np\n",
        "np.random.seed(0)\n",
        "\n",
        "def compute_reciprocals(values):\n",
        "    output = np.empty(len(values))\n",
        "    for i in range(len(values)):\n",
        "        output[i] = 1.0 / values[i]\n",
        "    return output\n",
        "\n",
        "values = np.random.randint(1, 10, size=5)\n",
        "compute_reciprocals(values)"
      ]
    },
    {
      "cell_type": "code",
      "execution_count": null,
      "id": "bdb47a25",
      "metadata": {
        "id": "bdb47a25",
        "colab": {
          "base_uri": "https://localhost:8080/"
        },
        "outputId": "a4d6b5af-da64-4807-e100-531f572bcbcd"
      },
      "outputs": [
        {
          "output_type": "stream",
          "name": "stdout",
          "text": [
            "2.2 s ± 378 ms per loop (mean ± std. dev. of 7 runs, 1 loop each)\n"
          ]
        }
      ],
      "source": [
        "big_array = np.random.randint(1, 100, size=1000000)\n",
        "%timeit compute_reciprocals(big_array)"
      ]
    },
    {
      "cell_type": "markdown",
      "id": "baca9ecf",
      "metadata": {
        "id": "baca9ecf"
      },
      "source": [
        "The code above takes several seconds to run. Lets run it now with a vectorized operation."
      ]
    },
    {
      "cell_type": "code",
      "execution_count": null,
      "id": "06e78ce7",
      "metadata": {
        "id": "06e78ce7",
        "colab": {
          "base_uri": "https://localhost:8080/"
        },
        "outputId": "56d49711-8461-4e51-86c8-be6537362fbc"
      },
      "outputs": [
        {
          "output_type": "stream",
          "name": "stdout",
          "text": [
            "[0.16666667 1.         0.25       0.25       0.125     ]\n",
            "[0.16666667 1.         0.25       0.25       0.125     ]\n"
          ]
        }
      ],
      "source": [
        "print(compute_reciprocals(values))\n",
        "print(1.0 / values)"
      ]
    },
    {
      "cell_type": "code",
      "execution_count": null,
      "id": "04fb63fa",
      "metadata": {
        "id": "04fb63fa",
        "colab": {
          "base_uri": "https://localhost:8080/"
        },
        "outputId": "3c87f7d8-e3de-46f3-8e4f-ec1b2451c678"
      },
      "outputs": [
        {
          "output_type": "stream",
          "name": "stdout",
          "text": [
            "1.87 ms ± 181 µs per loop (mean ± std. dev. of 7 runs, 1000 loops each)\n"
          ]
        }
      ],
      "source": [
        "%timeit (1.0 / big_array)"
      ]
    },
    {
      "cell_type": "markdown",
      "id": "64b0da49",
      "metadata": {
        "id": "64b0da49"
      },
      "source": [
        "We can see that each loop and the consequent total execution time is orders of magnitude faster that the first iteration. Vectorized operations are implemented via ufuncs whose main function is to exectute repeteated operations on values in Numpy arrays.\n",
        "\n",
        "Ufuncs (universal functions) can run between scalars and arrays, two arrays, and multi dimensional arrays."
      ]
    },
    {
      "cell_type": "code",
      "execution_count": null,
      "id": "e3502491",
      "metadata": {
        "id": "e3502491",
        "colab": {
          "base_uri": "https://localhost:8080/"
        },
        "outputId": "57890d29-dd1b-48b7-9964-5f8ac66979b1"
      },
      "outputs": [
        {
          "output_type": "execute_result",
          "data": {
            "text/plain": [
              "array([0.        , 0.5       , 0.66666667, 0.75      , 0.8       ])"
            ]
          },
          "metadata": {},
          "execution_count": 76
        }
      ],
      "source": [
        "np.arange(5) / np.arange(1, 6)"
      ]
    },
    {
      "cell_type": "code",
      "execution_count": null,
      "id": "e222d042",
      "metadata": {
        "id": "e222d042",
        "colab": {
          "base_uri": "https://localhost:8080/"
        },
        "outputId": "b413983b-f29b-4321-cfca-75e3bd419ca6"
      },
      "outputs": [
        {
          "output_type": "execute_result",
          "data": {
            "text/plain": [
              "array([[  1,   2,   4],\n",
              "       [  8,  16,  32],\n",
              "       [ 64, 128, 256]])"
            ]
          },
          "metadata": {},
          "execution_count": 77
        }
      ],
      "source": [
        "# multidimensional example\n",
        "x = np.arange(9).reshape((3, 3))\n",
        "2 ** x"
      ]
    },
    {
      "cell_type": "markdown",
      "id": "ed58e4a8",
      "metadata": {
        "id": "ed58e4a8"
      },
      "source": [
        "### Numpy UFuncs\n",
        "#### Array arithmetic\n",
        "We have standard addition, substraction, multiplication and division"
      ]
    },
    {
      "cell_type": "code",
      "execution_count": null,
      "id": "aa70044e",
      "metadata": {
        "id": "aa70044e",
        "colab": {
          "base_uri": "https://localhost:8080/"
        },
        "outputId": "8c823b70-8a8b-49aa-8ada-1f1047cd2185"
      },
      "outputs": [
        {
          "output_type": "stream",
          "name": "stdout",
          "text": [
            "x     = [0 1 2 3]\n",
            "x + 5 = [5 6 7 8]\n",
            "x - 5 = [-5 -4 -3 -2]\n",
            "x * 2 = [0 2 4 6]\n",
            "x / 2 = [0.  0.5 1.  1.5]\n",
            "x // 2 = [0 0 1 1]\n"
          ]
        }
      ],
      "source": [
        "x = np.arange(4)\n",
        "print(\"x     =\", x)\n",
        "print(\"x + 5 =\", x + 5)\n",
        "print(\"x - 5 =\", x - 5)\n",
        "print(\"x * 2 =\", x * 2)\n",
        "print(\"x / 2 =\", x / 2)\n",
        "print(\"x // 2 =\", x // 2)  # floor division"
      ]
    },
    {
      "cell_type": "code",
      "execution_count": null,
      "id": "ac9d9a4b",
      "metadata": {
        "id": "ac9d9a4b",
        "colab": {
          "base_uri": "https://localhost:8080/"
        },
        "outputId": "2fe2f987-cbea-496f-f3f3-3ed2a048fd6d"
      },
      "outputs": [
        {
          "output_type": "stream",
          "name": "stdout",
          "text": [
            "-x     =  [ 0 -1 -2 -3]\n",
            "x ** 2 =  [0 1 4 9]\n",
            "x % 2  =  [0 1 0 1]\n"
          ]
        }
      ],
      "source": [
        "# unary functions for negation, exponentiation, and modulus\n",
        "print(\"-x     = \", -x)\n",
        "print(\"x ** 2 = \", x ** 2)\n",
        "print(\"x % 2  = \", x % 2)"
      ]
    },
    {
      "cell_type": "markdown",
      "id": "87f006ab",
      "metadata": {
        "id": "87f006ab"
      },
      "source": [
        "All these arithmetic operations are wrappers for Numpy functions\n",
        "\n",
        "|Operator|\tEquivalent ufunc |\tDescription |\n",
        "|:--------:|:--------|:--------|\n",
        "|+ |\tnp.add\t| Addition (e.g., 1 + 1 = 2) |\n",
        "|- |\tnp.subtract | Subtraction (e.g., 3 - 2 = 1)\n",
        "|- |\tnp.negative |\tUnary negation (e.g., -2)\n",
        "|* |\tnp.multiply |\tMultiplication (e.g., 2 * 3 = 6)\n",
        "|/ |\tnp.divide |\tDivision (e.g., 3 / 2 = 1.5)\n",
        "|// |\tnp.floor_divide |\tFloor division (e.g., 3 // 2 = 1)\n",
        "|** |\tnp.power |\tExponentiation (e.g., 2 ** 3 = 8)\n",
        "|% |\tnp.mod |\tModulus/remainder (e.g., 9 % 4 = 1)"
      ]
    },
    {
      "cell_type": "markdown",
      "id": "35b9c0bd",
      "metadata": {
        "id": "35b9c0bd"
      },
      "source": [
        "#### Trigonometric functions\n",
        "We will explore trigonometric functions. Lets start by defining an array of angles."
      ]
    },
    {
      "cell_type": "code",
      "execution_count": null,
      "id": "0b766c19",
      "metadata": {
        "id": "0b766c19"
      },
      "outputs": [],
      "source": [
        "theta = np.linspace(0, np.pi, 3)"
      ]
    },
    {
      "cell_type": "code",
      "execution_count": null,
      "id": "47f52d91",
      "metadata": {
        "id": "47f52d91",
        "colab": {
          "base_uri": "https://localhost:8080/"
        },
        "outputId": "cb408d98-758f-4d00-b435-9b1efaf80640"
      },
      "outputs": [
        {
          "output_type": "stream",
          "name": "stdout",
          "text": [
            "theta      =  [0.         1.57079633 3.14159265]\n",
            "sin(theta) =  [0.0000000e+00 1.0000000e+00 1.2246468e-16]\n",
            "cos(theta) =  [ 1.000000e+00  6.123234e-17 -1.000000e+00]\n",
            "tan(theta) =  [ 0.00000000e+00  1.63312394e+16 -1.22464680e-16]\n"
          ]
        }
      ],
      "source": [
        "print(\"theta      = \", theta)\n",
        "print(\"sin(theta) = \", np.sin(theta))\n",
        "print(\"cos(theta) = \", np.cos(theta))\n",
        "print(\"tan(theta) = \", np.tan(theta))"
      ]
    },
    {
      "cell_type": "code",
      "execution_count": null,
      "id": "5426ce58",
      "metadata": {
        "id": "5426ce58",
        "colab": {
          "base_uri": "https://localhost:8080/"
        },
        "outputId": "dbf0acb1-254b-411e-93d7-c87d0f57fc98"
      },
      "outputs": [
        {
          "output_type": "stream",
          "name": "stdout",
          "text": [
            "x         =  [-1, 0, 1]\n",
            "arcsin(x) =  [-1.57079633  0.          1.57079633]\n",
            "arccos(x) =  [3.14159265 1.57079633 0.        ]\n",
            "arctan(x) =  [-0.78539816  0.          0.78539816]\n"
          ]
        }
      ],
      "source": [
        "# inverse functions\n",
        "x = [-1, 0, 1]\n",
        "print(\"x         = \", x)\n",
        "print(\"arcsin(x) = \", np.arcsin(x))\n",
        "print(\"arccos(x) = \", np.arccos(x))\n",
        "print(\"arctan(x) = \", np.arctan(x))"
      ]
    },
    {
      "cell_type": "markdown",
      "id": "8032e04e",
      "metadata": {
        "id": "8032e04e"
      },
      "source": [
        "#### Exponents and logarithms"
      ]
    },
    {
      "cell_type": "code",
      "execution_count": null,
      "id": "2e2c8677",
      "metadata": {
        "id": "2e2c8677",
        "colab": {
          "base_uri": "https://localhost:8080/"
        },
        "outputId": "45b87ff5-5632-4f47-9e3d-cc3ea085114d"
      },
      "outputs": [
        {
          "output_type": "stream",
          "name": "stdout",
          "text": [
            "x     = [1, 2, 3]\n",
            "e^x   = [ 2.71828183  7.3890561  20.08553692]\n",
            "2^x   = [2. 4. 8.]\n",
            "3^x   = [ 3  9 27]\n"
          ]
        }
      ],
      "source": [
        "x = [1, 2, 3]\n",
        "print(\"x     =\", x)\n",
        "print(\"e^x   =\", np.exp(x))\n",
        "print(\"2^x   =\", np.exp2(x))\n",
        "print(\"3^x   =\", np.power(3, x))"
      ]
    },
    {
      "cell_type": "code",
      "execution_count": null,
      "id": "ca1fad6a",
      "metadata": {
        "id": "ca1fad6a",
        "colab": {
          "base_uri": "https://localhost:8080/"
        },
        "outputId": "2bd89975-fe31-4fcc-9c8c-9e48c2def73b"
      },
      "outputs": [
        {
          "output_type": "stream",
          "name": "stdout",
          "text": [
            "x        = [1, 2, 4, 10]\n",
            "ln(x)    = [0.         0.69314718 1.38629436 2.30258509]\n",
            "log2(x)  = [0.         1.         2.         3.32192809]\n",
            "log10(x) = [0.         0.30103    0.60205999 1.        ]\n"
          ]
        }
      ],
      "source": [
        "# log functions\n",
        "x = [1, 2, 4, 10]\n",
        "print(\"x        =\", x)\n",
        "print(\"ln(x)    =\", np.log(x))\n",
        "print(\"log2(x)  =\", np.log2(x))\n",
        "print(\"log10(x) =\", np.log10(x))"
      ]
    },
    {
      "cell_type": "markdown",
      "id": "353b9c48",
      "metadata": {
        "id": "353b9c48"
      },
      "source": [
        "#### Agregates\n",
        "We can reduce array operations of any ufunc. A reduce repeatedly applies a given operation to the elements of the array until a single result remains.\n",
        "\n",
        "Calling `reduce` on the `add` ufunc results in the sum of all elements in the array"
      ]
    },
    {
      "cell_type": "code",
      "execution_count": null,
      "id": "d17fb9de",
      "metadata": {
        "id": "d17fb9de",
        "colab": {
          "base_uri": "https://localhost:8080/"
        },
        "outputId": "4f3a493f-e2b5-4d05-dd9d-0586a09c2163"
      },
      "outputs": [
        {
          "output_type": "execute_result",
          "data": {
            "text/plain": [
              "15"
            ]
          },
          "metadata": {},
          "execution_count": 85
        }
      ],
      "source": [
        "x = np.arange(1, 6)\n",
        "np.add.reduce(x)"
      ]
    },
    {
      "cell_type": "code",
      "execution_count": null,
      "id": "1222f617",
      "metadata": {
        "id": "1222f617",
        "colab": {
          "base_uri": "https://localhost:8080/"
        },
        "outputId": "48e15a19-54f0-4ed4-d026-64d052e989f9"
      },
      "outputs": [
        {
          "output_type": "execute_result",
          "data": {
            "text/plain": [
              "array([1, 2, 3, 4, 5])"
            ]
          },
          "metadata": {},
          "execution_count": 86
        }
      ],
      "source": [
        "x"
      ]
    },
    {
      "cell_type": "code",
      "execution_count": null,
      "id": "54adf270",
      "metadata": {
        "id": "54adf270",
        "colab": {
          "base_uri": "https://localhost:8080/"
        },
        "outputId": "220f64e5-6e95-4eb7-f04b-b848bac63fb6"
      },
      "outputs": [
        {
          "output_type": "execute_result",
          "data": {
            "text/plain": [
              "120"
            ]
          },
          "metadata": {},
          "execution_count": 87
        }
      ],
      "source": [
        "# calling reduce on multiply\n",
        "# results in the product of all array elements\n",
        "np.multiply.reduce(x)"
      ]
    },
    {
      "cell_type": "code",
      "execution_count": null,
      "id": "aef70bb4",
      "metadata": {
        "id": "aef70bb4",
        "colab": {
          "base_uri": "https://localhost:8080/"
        },
        "outputId": "390dc592-858f-4a37-e6fe-15335fc50962"
      },
      "outputs": [
        {
          "output_type": "execute_result",
          "data": {
            "text/plain": [
              "array([ 1,  3,  6, 10, 15])"
            ]
          },
          "metadata": {},
          "execution_count": 88
        }
      ],
      "source": [
        "# if we would like to store all the intermediate results\n",
        "# we can use accumulate instead\n",
        "np.add.accumulate(x)"
      ]
    },
    {
      "cell_type": "code",
      "execution_count": null,
      "id": "9d35b93b",
      "metadata": {
        "id": "9d35b93b",
        "colab": {
          "base_uri": "https://localhost:8080/"
        },
        "outputId": "5d2d179c-0359-4b08-de39-b85cbec9fd9d"
      },
      "outputs": [
        {
          "output_type": "execute_result",
          "data": {
            "text/plain": [
              "array([  1,   2,   6,  24, 120])"
            ]
          },
          "metadata": {},
          "execution_count": 89
        }
      ],
      "source": [
        "np.multiply.accumulate(x)\n"
      ]
    },
    {
      "cell_type": "markdown",
      "id": "35b9023b",
      "metadata": {
        "id": "35b9023b"
      },
      "source": [
        "### Exercises for participation credit\n",
        "1. Create a new random integer array with Numpy functions. Use a random seed to guarantee the same array every time. Array must be of size (20, 5).\n",
        "2. Calculate the average value of the second column of the array created in exercise 1. Calculate the sum of all elements in columns 3 and 4. You can use built in ufuncs and indexing.\n",
        "\n",
        "We will now use a simple IoT readings dataset for this exercise. This dataset contains IoT temperature readings, where the reading was made (room) and location (reading was outside or inside a room).\n",
        "\n",
        "3. Open the data file `IOT-temp.csv` inside the `iotdata-compressed` file, you will need some program like 7zip or Winrar to uncompress this `iotdata-compressed` folder. Open this file with Pandas and create a new Dataframe with this data. Show the first 10 rows of data. Show the last 10 rows of data. Show data points for index 300 to 350.\n",
        "4. Create a new dataframe from index 1000 to 2000. Rename column `out/in` to `location`. Rename colum `room_id/id` to `room` How many of these readings were made outside? How many were inside?\n",
        "5. Split your new dataframe into readings that were made inside and readings that were made outside. Create a new dataframe with only inside readings. Create a new dataframe only with outside readings. Print the mean value of the temperature for both new dataframes.\n",
        "6. Save both dataframes created in exercise 5 to `csv` files.\n",
        "\n",
        "More information about the dataset for exercises 3 and 4 in [this link](https://www.kaggle.com/datasets/atulanandjha/temperature-readings-iot-devices)"
      ]
    },
    {
      "cell_type": "code",
      "source": [
        "import numpy as np\n",
        "\n",
        "np.random.seed(0)\n",
        "random_array = np.random.randint(0, 100, size=(20, 5))\n",
        "print(\"Random Array:\\n\", random_array)\n",
        "average_second_column = np.mean(random_array[:, 1])\n",
        "print(\"Average value of the second column:\", average_second_column)\n",
        "sum_columns_3_and_4 = np.sum(random_array[:, [2, 3]])\n",
        "print(\"Sum of all elements in columns 3 and 4:\", sum_columns_3_and_4)\n"
      ],
      "metadata": {
        "colab": {
          "base_uri": "https://localhost:8080/"
        },
        "id": "3B_2OYECXF67",
        "outputId": "39bdaf6a-8d3e-4804-b4e5-b925ec457864"
      },
      "id": "3B_2OYECXF67",
      "execution_count": 3,
      "outputs": [
        {
          "output_type": "stream",
          "name": "stdout",
          "text": [
            "Random Array:\n",
            " [[44 47 64 67 67]\n",
            " [ 9 83 21 36 87]\n",
            " [70 88 88 12 58]\n",
            " [65 39 87 46 88]\n",
            " [81 37 25 77 72]\n",
            " [ 9 20 80 69 79]\n",
            " [47 64 82 99 88]\n",
            " [49 29 19 19 14]\n",
            " [39 32 65  9 57]\n",
            " [32 31 74 23 35]\n",
            " [75 55 28 34  0]\n",
            " [ 0 36 53  5 38]\n",
            " [17 79  4 42 58]\n",
            " [31  1 65 41 57]\n",
            " [35 11 46 82 91]\n",
            " [ 0 14 99 53 12]\n",
            " [42 84 75 68  6]\n",
            " [68 47  3 76 52]\n",
            " [78 15 20 99 58]\n",
            " [23 79 13 85 48]]\n",
            "Average value of the second column: 44.55\n",
            "Sum of all elements in columns 3 and 4: 2053\n"
          ]
        }
      ]
    },
    {
      "cell_type": "code",
      "source": [
        "import pandas as pd\n",
        "\n",
        "file_path = 'IOT-temp.csv'\n",
        "iot_df = pd.read_csv(file_path)\n",
        "\n",
        "print(\"First 10 rows of data:\")\n",
        "print(iot_df.head(10))\n",
        "\n",
        "print(\"\\nLast 10 rows of data:\")\n",
        "print(iot_df.tail(10))\n",
        "\n",
        "print(\"\\nData points from index 300 to 350:\")\n",
        "print(iot_df.iloc[300:351])\n",
        "\n",
        "new_df = iot_df.iloc[1000:2001].copy()\n",
        "\n",
        "new_df.rename(columns={'out/in': 'location', 'room_id/id': 'room'}, inplace=True)\n",
        "\n",
        "outside_count = new_df[new_df['location'] == 'out'].shape[0]\n",
        "inside_count = new_df[new_df['location'] == 'in'].shape[0]\n",
        "\n",
        "print(\"\\nNumber of readings made outside:\", outside_count)\n",
        "print(\"Number of readings made inside:\", inside_count)\n",
        "\n",
        "inside_df = new_df[new_df['location'] == 'in'].copy()\n",
        "outside_df = new_df[new_df['location'] == 'out'].copy()\n",
        "\n",
        "inside_mean_temp = inside_df['temperature'].mean()\n",
        "outside_mean_temp = outside_df['temperature'].mean()\n",
        "\n",
        "print(\"\\nMean temperature for inside readings:\", inside_mean_temp)\n",
        "print(\"Mean temperature for outside readings:\", outside_mean_temp)\n",
        "\n",
        "inside_df.to_csv('inside_readings.csv', index=False)\n",
        "outside_df.to_csv('outside_readings.csv', index=False)\n",
        "\n",
        "#it's saying that there is no file that was provided, I'm confused. I think this would be the code though\n"
      ],
      "metadata": {
        "colab": {
          "base_uri": "https://localhost:8080/",
          "height": 365
        },
        "id": "q7h7qsBoa7BC",
        "outputId": "6a010e55-8313-4437-d1bc-05d4662ee96c"
      },
      "id": "q7h7qsBoa7BC",
      "execution_count": 11,
      "outputs": [
        {
          "output_type": "error",
          "ename": "FileNotFoundError",
          "evalue": "[Errno 2] No such file or directory: 'IOT-temp.csv'",
          "traceback": [
            "\u001b[0;31m---------------------------------------------------------------------------\u001b[0m",
            "\u001b[0;31mFileNotFoundError\u001b[0m                         Traceback (most recent call last)",
            "\u001b[0;32m<ipython-input-11-a3bab3d7f30f>\u001b[0m in \u001b[0;36m<cell line: 4>\u001b[0;34m()\u001b[0m\n\u001b[1;32m      2\u001b[0m \u001b[0;34m\u001b[0m\u001b[0m\n\u001b[1;32m      3\u001b[0m \u001b[0mfile_path\u001b[0m \u001b[0;34m=\u001b[0m \u001b[0;34m'IOT-temp.csv'\u001b[0m\u001b[0;34m\u001b[0m\u001b[0;34m\u001b[0m\u001b[0m\n\u001b[0;32m----> 4\u001b[0;31m \u001b[0miot_df\u001b[0m \u001b[0;34m=\u001b[0m \u001b[0mpd\u001b[0m\u001b[0;34m.\u001b[0m\u001b[0mread_csv\u001b[0m\u001b[0;34m(\u001b[0m\u001b[0mfile_path\u001b[0m\u001b[0;34m)\u001b[0m\u001b[0;34m\u001b[0m\u001b[0;34m\u001b[0m\u001b[0m\n\u001b[0m\u001b[1;32m      5\u001b[0m \u001b[0;34m\u001b[0m\u001b[0m\n\u001b[1;32m      6\u001b[0m \u001b[0mprint\u001b[0m\u001b[0;34m(\u001b[0m\u001b[0;34m\"First 10 rows of data:\"\u001b[0m\u001b[0;34m)\u001b[0m\u001b[0;34m\u001b[0m\u001b[0;34m\u001b[0m\u001b[0m\n",
            "\u001b[0;32m/usr/local/lib/python3.10/dist-packages/pandas/io/parsers/readers.py\u001b[0m in \u001b[0;36mread_csv\u001b[0;34m(filepath_or_buffer, sep, delimiter, header, names, index_col, usecols, dtype, engine, converters, true_values, false_values, skipinitialspace, skiprows, skipfooter, nrows, na_values, keep_default_na, na_filter, verbose, skip_blank_lines, parse_dates, infer_datetime_format, keep_date_col, date_parser, date_format, dayfirst, cache_dates, iterator, chunksize, compression, thousands, decimal, lineterminator, quotechar, quoting, doublequote, escapechar, comment, encoding, encoding_errors, dialect, on_bad_lines, delim_whitespace, low_memory, memory_map, float_precision, storage_options, dtype_backend)\u001b[0m\n\u001b[1;32m    910\u001b[0m     \u001b[0mkwds\u001b[0m\u001b[0;34m.\u001b[0m\u001b[0mupdate\u001b[0m\u001b[0;34m(\u001b[0m\u001b[0mkwds_defaults\u001b[0m\u001b[0;34m)\u001b[0m\u001b[0;34m\u001b[0m\u001b[0;34m\u001b[0m\u001b[0m\n\u001b[1;32m    911\u001b[0m \u001b[0;34m\u001b[0m\u001b[0m\n\u001b[0;32m--> 912\u001b[0;31m     \u001b[0;32mreturn\u001b[0m \u001b[0m_read\u001b[0m\u001b[0;34m(\u001b[0m\u001b[0mfilepath_or_buffer\u001b[0m\u001b[0;34m,\u001b[0m \u001b[0mkwds\u001b[0m\u001b[0;34m)\u001b[0m\u001b[0;34m\u001b[0m\u001b[0;34m\u001b[0m\u001b[0m\n\u001b[0m\u001b[1;32m    913\u001b[0m \u001b[0;34m\u001b[0m\u001b[0m\n\u001b[1;32m    914\u001b[0m \u001b[0;34m\u001b[0m\u001b[0m\n",
            "\u001b[0;32m/usr/local/lib/python3.10/dist-packages/pandas/io/parsers/readers.py\u001b[0m in \u001b[0;36m_read\u001b[0;34m(filepath_or_buffer, kwds)\u001b[0m\n\u001b[1;32m    575\u001b[0m \u001b[0;34m\u001b[0m\u001b[0m\n\u001b[1;32m    576\u001b[0m     \u001b[0;31m# Create the parser.\u001b[0m\u001b[0;34m\u001b[0m\u001b[0;34m\u001b[0m\u001b[0m\n\u001b[0;32m--> 577\u001b[0;31m     \u001b[0mparser\u001b[0m \u001b[0;34m=\u001b[0m \u001b[0mTextFileReader\u001b[0m\u001b[0;34m(\u001b[0m\u001b[0mfilepath_or_buffer\u001b[0m\u001b[0;34m,\u001b[0m \u001b[0;34m**\u001b[0m\u001b[0mkwds\u001b[0m\u001b[0;34m)\u001b[0m\u001b[0;34m\u001b[0m\u001b[0;34m\u001b[0m\u001b[0m\n\u001b[0m\u001b[1;32m    578\u001b[0m \u001b[0;34m\u001b[0m\u001b[0m\n\u001b[1;32m    579\u001b[0m     \u001b[0;32mif\u001b[0m \u001b[0mchunksize\u001b[0m \u001b[0;32mor\u001b[0m \u001b[0miterator\u001b[0m\u001b[0;34m:\u001b[0m\u001b[0;34m\u001b[0m\u001b[0;34m\u001b[0m\u001b[0m\n",
            "\u001b[0;32m/usr/local/lib/python3.10/dist-packages/pandas/io/parsers/readers.py\u001b[0m in \u001b[0;36m__init__\u001b[0;34m(self, f, engine, **kwds)\u001b[0m\n\u001b[1;32m   1405\u001b[0m \u001b[0;34m\u001b[0m\u001b[0m\n\u001b[1;32m   1406\u001b[0m         \u001b[0mself\u001b[0m\u001b[0;34m.\u001b[0m\u001b[0mhandles\u001b[0m\u001b[0;34m:\u001b[0m \u001b[0mIOHandles\u001b[0m \u001b[0;34m|\u001b[0m \u001b[0;32mNone\u001b[0m \u001b[0;34m=\u001b[0m \u001b[0;32mNone\u001b[0m\u001b[0;34m\u001b[0m\u001b[0;34m\u001b[0m\u001b[0m\n\u001b[0;32m-> 1407\u001b[0;31m         \u001b[0mself\u001b[0m\u001b[0;34m.\u001b[0m\u001b[0m_engine\u001b[0m \u001b[0;34m=\u001b[0m \u001b[0mself\u001b[0m\u001b[0;34m.\u001b[0m\u001b[0m_make_engine\u001b[0m\u001b[0;34m(\u001b[0m\u001b[0mf\u001b[0m\u001b[0;34m,\u001b[0m \u001b[0mself\u001b[0m\u001b[0;34m.\u001b[0m\u001b[0mengine\u001b[0m\u001b[0;34m)\u001b[0m\u001b[0;34m\u001b[0m\u001b[0;34m\u001b[0m\u001b[0m\n\u001b[0m\u001b[1;32m   1408\u001b[0m \u001b[0;34m\u001b[0m\u001b[0m\n\u001b[1;32m   1409\u001b[0m     \u001b[0;32mdef\u001b[0m \u001b[0mclose\u001b[0m\u001b[0;34m(\u001b[0m\u001b[0mself\u001b[0m\u001b[0;34m)\u001b[0m \u001b[0;34m->\u001b[0m \u001b[0;32mNone\u001b[0m\u001b[0;34m:\u001b[0m\u001b[0;34m\u001b[0m\u001b[0;34m\u001b[0m\u001b[0m\n",
            "\u001b[0;32m/usr/local/lib/python3.10/dist-packages/pandas/io/parsers/readers.py\u001b[0m in \u001b[0;36m_make_engine\u001b[0;34m(self, f, engine)\u001b[0m\n\u001b[1;32m   1659\u001b[0m                 \u001b[0;32mif\u001b[0m \u001b[0;34m\"b\"\u001b[0m \u001b[0;32mnot\u001b[0m \u001b[0;32min\u001b[0m \u001b[0mmode\u001b[0m\u001b[0;34m:\u001b[0m\u001b[0;34m\u001b[0m\u001b[0;34m\u001b[0m\u001b[0m\n\u001b[1;32m   1660\u001b[0m                     \u001b[0mmode\u001b[0m \u001b[0;34m+=\u001b[0m \u001b[0;34m\"b\"\u001b[0m\u001b[0;34m\u001b[0m\u001b[0;34m\u001b[0m\u001b[0m\n\u001b[0;32m-> 1661\u001b[0;31m             self.handles = get_handle(\n\u001b[0m\u001b[1;32m   1662\u001b[0m                 \u001b[0mf\u001b[0m\u001b[0;34m,\u001b[0m\u001b[0;34m\u001b[0m\u001b[0;34m\u001b[0m\u001b[0m\n\u001b[1;32m   1663\u001b[0m                 \u001b[0mmode\u001b[0m\u001b[0;34m,\u001b[0m\u001b[0;34m\u001b[0m\u001b[0;34m\u001b[0m\u001b[0m\n",
            "\u001b[0;32m/usr/local/lib/python3.10/dist-packages/pandas/io/common.py\u001b[0m in \u001b[0;36mget_handle\u001b[0;34m(path_or_buf, mode, encoding, compression, memory_map, is_text, errors, storage_options)\u001b[0m\n\u001b[1;32m    857\u001b[0m         \u001b[0;32mif\u001b[0m \u001b[0mioargs\u001b[0m\u001b[0;34m.\u001b[0m\u001b[0mencoding\u001b[0m \u001b[0;32mand\u001b[0m \u001b[0;34m\"b\"\u001b[0m \u001b[0;32mnot\u001b[0m \u001b[0;32min\u001b[0m \u001b[0mioargs\u001b[0m\u001b[0;34m.\u001b[0m\u001b[0mmode\u001b[0m\u001b[0;34m:\u001b[0m\u001b[0;34m\u001b[0m\u001b[0;34m\u001b[0m\u001b[0m\n\u001b[1;32m    858\u001b[0m             \u001b[0;31m# Encoding\u001b[0m\u001b[0;34m\u001b[0m\u001b[0;34m\u001b[0m\u001b[0m\n\u001b[0;32m--> 859\u001b[0;31m             handle = open(\n\u001b[0m\u001b[1;32m    860\u001b[0m                 \u001b[0mhandle\u001b[0m\u001b[0;34m,\u001b[0m\u001b[0;34m\u001b[0m\u001b[0;34m\u001b[0m\u001b[0m\n\u001b[1;32m    861\u001b[0m                 \u001b[0mioargs\u001b[0m\u001b[0;34m.\u001b[0m\u001b[0mmode\u001b[0m\u001b[0;34m,\u001b[0m\u001b[0;34m\u001b[0m\u001b[0;34m\u001b[0m\u001b[0m\n",
            "\u001b[0;31mFileNotFoundError\u001b[0m: [Errno 2] No such file or directory: 'IOT-temp.csv'"
          ]
        }
      ]
    }
  ],
  "metadata": {
    "kernelspec": {
      "display_name": "Python 3 (ipykernel)",
      "language": "python",
      "name": "python3"
    },
    "language_info": {
      "codemirror_mode": {
        "name": "ipython",
        "version": 3
      },
      "file_extension": ".py",
      "mimetype": "text/x-python",
      "name": "python",
      "nbconvert_exporter": "python",
      "pygments_lexer": "ipython3",
      "version": "3.10.4"
    },
    "colab": {
      "provenance": [],
      "include_colab_link": true
    }
  },
  "nbformat": 4,
  "nbformat_minor": 5
}