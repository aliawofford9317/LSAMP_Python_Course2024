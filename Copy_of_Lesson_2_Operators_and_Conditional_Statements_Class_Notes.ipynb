{
  "cells": [
    {
      "cell_type": "markdown",
      "metadata": {
        "id": "view-in-github",
        "colab_type": "text"
      },
      "source": [
        "<a href=\"https://colab.research.google.com/github/aliawofford9317/LSAMP_Python_Course2024/blob/Lucilla/Copy_of_Lesson_2_Operators_and_Conditional_Statements_Class_Notes.ipynb\" target=\"_parent\"><img src=\"https://colab.research.google.com/assets/colab-badge.svg\" alt=\"Open In Colab\"/></a>"
      ]
    },
    {
      "cell_type": "markdown",
      "id": "83898c59",
      "metadata": {
        "id": "83898c59"
      },
      "source": [
        "## Operators\n",
        "Operators are symbols that indicate how two operands should be manipulated. Operators and operants together form an expresion. Operators will always return a value\n",
        "\n",
        "### Arithmetic Operators\n",
        "- `+` add two operands\n",
        "- `-` substract two operands\n",
        "- `*` multiply two operands\n",
        "- `/` divide two operands\n",
        "- `%` modulus, return the remainder when the first number is divided from the second number.\n",
        "- `//` return integer division\n",
        "- `**` Exponentiation"
      ]
    },
    {
      "cell_type": "code",
      "execution_count": 1,
      "id": "f8762c51",
      "metadata": {
        "id": "f8762c51",
        "outputId": "4886f26e-4fc9-4987-afe0-a4549265c77c",
        "colab": {
          "base_uri": "https://localhost:8080/"
        }
      },
      "outputs": [
        {
          "output_type": "execute_result",
          "data": {
            "text/plain": [
              "9"
            ]
          },
          "metadata": {},
          "execution_count": 1
        }
      ],
      "source": [
        "x = 7\n",
        "y = 2\n",
        "x + y"
      ]
    },
    {
      "cell_type": "code",
      "execution_count": 2,
      "id": "098414f0",
      "metadata": {
        "id": "098414f0",
        "outputId": "ad77c70b-2e49-4db6-a124-9ab45eac7c1d",
        "colab": {
          "base_uri": "https://localhost:8080/"
        }
      },
      "outputs": [
        {
          "output_type": "execute_result",
          "data": {
            "text/plain": [
              "5"
            ]
          },
          "metadata": {},
          "execution_count": 2
        }
      ],
      "source": [
        "x - y"
      ]
    },
    {
      "cell_type": "code",
      "execution_count": 3,
      "id": "57c8f4c2",
      "metadata": {
        "id": "57c8f4c2",
        "outputId": "265fc043-df31-4f12-ad72-04cde03a0e5e",
        "colab": {
          "base_uri": "https://localhost:8080/"
        }
      },
      "outputs": [
        {
          "output_type": "execute_result",
          "data": {
            "text/plain": [
              "14"
            ]
          },
          "metadata": {},
          "execution_count": 3
        }
      ],
      "source": [
        "x * y"
      ]
    },
    {
      "cell_type": "code",
      "execution_count": 4,
      "id": "5ea98586",
      "metadata": {
        "id": "5ea98586",
        "outputId": "6757a15a-8b9c-401b-ee46-40f2534da514",
        "colab": {
          "base_uri": "https://localhost:8080/"
        }
      },
      "outputs": [
        {
          "output_type": "execute_result",
          "data": {
            "text/plain": [
              "3.5"
            ]
          },
          "metadata": {},
          "execution_count": 4
        }
      ],
      "source": [
        "x / y"
      ]
    },
    {
      "cell_type": "code",
      "execution_count": 5,
      "id": "b3275999",
      "metadata": {
        "id": "b3275999",
        "outputId": "51474ea3-4831-4a78-ad9b-016272162623",
        "colab": {
          "base_uri": "https://localhost:8080/"
        }
      },
      "outputs": [
        {
          "output_type": "execute_result",
          "data": {
            "text/plain": [
              "1"
            ]
          },
          "metadata": {},
          "execution_count": 5
        }
      ],
      "source": [
        "x % y"
      ]
    },
    {
      "cell_type": "code",
      "execution_count": 6,
      "id": "e569b719",
      "metadata": {
        "id": "e569b719",
        "outputId": "3254be06-a00c-4d3d-a8f4-e8caa822fbdc",
        "colab": {
          "base_uri": "https://localhost:8080/"
        }
      },
      "outputs": [
        {
          "output_type": "execute_result",
          "data": {
            "text/plain": [
              "3"
            ]
          },
          "metadata": {},
          "execution_count": 6
        }
      ],
      "source": [
        "x // y"
      ]
    },
    {
      "cell_type": "code",
      "execution_count": 7,
      "id": "05090a67",
      "metadata": {
        "id": "05090a67",
        "outputId": "e7a50713-131f-4669-c532-ad9980354392",
        "colab": {
          "base_uri": "https://localhost:8080/"
        }
      },
      "outputs": [
        {
          "output_type": "execute_result",
          "data": {
            "text/plain": [
              "49"
            ]
          },
          "metadata": {},
          "execution_count": 7
        }
      ],
      "source": [
        "x ** y"
      ]
    },
    {
      "cell_type": "markdown",
      "id": "9d9a299f",
      "metadata": {
        "id": "9d9a299f"
      },
      "source": [
        "### Comparison Operators\n",
        "\n",
        "- `==`\tEqual\tx == y\n",
        "- `!=`\tNot equal\tx != y\n",
        "-  `>`\tGreater than\tx > y\n",
        "- `<`\tLess than\tx < y\n",
        "- `>=`\tGreater than or equal to\tx >= y\n",
        "- `<=`\tLess than or equal to\tx <= y"
      ]
    },
    {
      "cell_type": "code",
      "execution_count": 8,
      "id": "24b65b8d",
      "metadata": {
        "id": "24b65b8d",
        "outputId": "b8dd0e3f-c5a0-4f49-b626-4551a6fa6e00",
        "colab": {
          "base_uri": "https://localhost:8080/"
        }
      },
      "outputs": [
        {
          "output_type": "execute_result",
          "data": {
            "text/plain": [
              "False"
            ]
          },
          "metadata": {},
          "execution_count": 8
        }
      ],
      "source": [
        "x = 9\n",
        "y = 1\n",
        "x < y"
      ]
    },
    {
      "cell_type": "code",
      "execution_count": 9,
      "id": "dfff367e",
      "metadata": {
        "id": "dfff367e",
        "outputId": "15ef742b-39ad-4a01-ce9b-7d691cad09ba",
        "colab": {
          "base_uri": "https://localhost:8080/"
        }
      },
      "outputs": [
        {
          "output_type": "execute_result",
          "data": {
            "text/plain": [
              "True"
            ]
          },
          "metadata": {},
          "execution_count": 9
        }
      ],
      "source": [
        "x > y"
      ]
    },
    {
      "cell_type": "code",
      "execution_count": 10,
      "id": "ff31f54b",
      "metadata": {
        "id": "ff31f54b",
        "outputId": "0996af2f-a537-419b-d768-c9e03b88669d",
        "colab": {
          "base_uri": "https://localhost:8080/"
        }
      },
      "outputs": [
        {
          "output_type": "execute_result",
          "data": {
            "text/plain": [
              "False"
            ]
          },
          "metadata": {},
          "execution_count": 10
        }
      ],
      "source": [
        "x == y"
      ]
    },
    {
      "cell_type": "code",
      "execution_count": 11,
      "id": "a61ae583",
      "metadata": {
        "id": "a61ae583",
        "outputId": "2572acad-27eb-4fec-b362-63b4bb92b760",
        "colab": {
          "base_uri": "https://localhost:8080/"
        }
      },
      "outputs": [
        {
          "output_type": "execute_result",
          "data": {
            "text/plain": [
              "True"
            ]
          },
          "metadata": {},
          "execution_count": 11
        }
      ],
      "source": [
        "# Comparisson operators can be concatenated\n",
        "x = 9\n",
        "1 < x and x < 20"
      ]
    },
    {
      "cell_type": "markdown",
      "id": "4e75d36f",
      "metadata": {
        "id": "4e75d36f"
      },
      "source": [
        "### Logical operators\n",
        "- `and` \tReturns True if both statements are true\tx < 5 and  x < 10\n",
        "- `or`\tReturns True if one of the statements is true\tx < 5 or x < 4\n",
        "- `not`\tReverse the result, returns False if the result is true"
      ]
    },
    {
      "cell_type": "code",
      "execution_count": 12,
      "id": "6021e7cd",
      "metadata": {
        "id": "6021e7cd",
        "outputId": "a9eee200-5964-4250-aeb3-a79755d7fa9a",
        "colab": {
          "base_uri": "https://localhost:8080/"
        }
      },
      "outputs": [
        {
          "output_type": "execute_result",
          "data": {
            "text/plain": [
              "True"
            ]
          },
          "metadata": {},
          "execution_count": 12
        }
      ],
      "source": [
        "x = True\n",
        "y = False\n",
        "x or y"
      ]
    },
    {
      "cell_type": "code",
      "execution_count": 13,
      "id": "29263f96",
      "metadata": {
        "id": "29263f96",
        "outputId": "f07248c1-152e-4fe8-d01d-c85f54c73e59",
        "colab": {
          "base_uri": "https://localhost:8080/"
        }
      },
      "outputs": [
        {
          "output_type": "execute_result",
          "data": {
            "text/plain": [
              "False"
            ]
          },
          "metadata": {},
          "execution_count": 13
        }
      ],
      "source": [
        "x and y"
      ]
    },
    {
      "cell_type": "code",
      "execution_count": 14,
      "id": "05abf3b1",
      "metadata": {
        "id": "05abf3b1",
        "outputId": "4d5701d1-14a1-4e47-c071-ed11444866ac",
        "colab": {
          "base_uri": "https://localhost:8080/"
        }
      },
      "outputs": [
        {
          "output_type": "execute_result",
          "data": {
            "text/plain": [
              "False"
            ]
          },
          "metadata": {},
          "execution_count": 14
        }
      ],
      "source": [
        "not x"
      ]
    },
    {
      "cell_type": "code",
      "execution_count": 15,
      "id": "7b444ff8",
      "metadata": {
        "id": "7b444ff8",
        "outputId": "ba9e502a-d0b7-400d-d931-a1ea23c29955",
        "colab": {
          "base_uri": "https://localhost:8080/"
        }
      },
      "outputs": [
        {
          "output_type": "execute_result",
          "data": {
            "text/plain": [
              "True"
            ]
          },
          "metadata": {},
          "execution_count": 15
        }
      ],
      "source": [
        "not y"
      ]
    },
    {
      "cell_type": "markdown",
      "id": "54db517e",
      "metadata": {
        "id": "54db517e"
      },
      "source": [
        "### Membership Operators\n",
        "- `in` \tReturns True if a sequence with the specified value is present in the object\n",
        "- `not in`\tReturns True if a sequence with the specified value is not present in the object"
      ]
    },
    {
      "cell_type": "code",
      "execution_count": 16,
      "id": "eb6d6464",
      "metadata": {
        "id": "eb6d6464",
        "outputId": "80f93ed9-fed4-4f0b-e2a9-0834113c0757",
        "colab": {
          "base_uri": "https://localhost:8080/"
        }
      },
      "outputs": [
        {
          "output_type": "execute_result",
          "data": {
            "text/plain": [
              "True"
            ]
          },
          "metadata": {},
          "execution_count": 16
        }
      ],
      "source": [
        "a = [1, 2, 3, 4, 5]\n",
        "b = 4\n",
        "\n",
        "b in a"
      ]
    },
    {
      "cell_type": "code",
      "execution_count": 17,
      "id": "23972309",
      "metadata": {
        "id": "23972309",
        "outputId": "eb66b642-6354-4990-a2c6-85b78b8a05d5",
        "colab": {
          "base_uri": "https://localhost:8080/"
        }
      },
      "outputs": [
        {
          "output_type": "execute_result",
          "data": {
            "text/plain": [
              "True"
            ]
          },
          "metadata": {},
          "execution_count": 17
        }
      ],
      "source": [
        "c = [2, 3, 4]\n",
        "\n",
        "c not in a"
      ]
    },
    {
      "cell_type": "code",
      "execution_count": 18,
      "id": "15e8c91a",
      "metadata": {
        "id": "15e8c91a",
        "outputId": "899d218d-3ac5-4a91-a86a-b7a16c8da2a6",
        "colab": {
          "base_uri": "https://localhost:8080/"
        }
      },
      "outputs": [
        {
          "output_type": "execute_result",
          "data": {
            "text/plain": [
              "[1, 2, 3, 4, 5, [2, 3, 4]]"
            ]
          },
          "metadata": {},
          "execution_count": 18
        }
      ],
      "source": [
        "a.append([2, 3, 4])\n",
        "a"
      ]
    },
    {
      "cell_type": "code",
      "execution_count": 19,
      "id": "336bb226",
      "metadata": {
        "id": "336bb226",
        "outputId": "e555dba6-613f-469f-d4bd-4b63d8f2c27b",
        "colab": {
          "base_uri": "https://localhost:8080/"
        }
      },
      "outputs": [
        {
          "output_type": "execute_result",
          "data": {
            "text/plain": [
              "True"
            ]
          },
          "metadata": {},
          "execution_count": 19
        }
      ],
      "source": [
        "c in a"
      ]
    },
    {
      "cell_type": "markdown",
      "id": "d7c98cc2",
      "metadata": {
        "id": "d7c98cc2"
      },
      "source": [
        "## Conditional statements\n",
        "Frequently, a program needs to skip over some statements, execute a series of statements repetitively, or choose between alternate sets of statements to execute.\n",
        "\n",
        "That is where control structures come in. A control structure directs the order of execution of the statements in a program\n",
        "\n",
        "### For Loops\n",
        "Will iterate over a list of values, executing an action until all elements are looped over"
      ]
    },
    {
      "cell_type": "code",
      "execution_count": 20,
      "id": "6935c5ca",
      "metadata": {
        "id": "6935c5ca",
        "colab": {
          "base_uri": "https://localhost:8080/"
        },
        "outputId": "538fe22b-5636-4c68-d78b-646b7d929d97"
      },
      "outputs": [
        {
          "output_type": "stream",
          "name": "stdout",
          "text": [
            "Mary\n",
            "joseph\n",
            "Gerard\n",
            "Tom\n"
          ]
        }
      ],
      "source": [
        "# Iterate over names in a list\n",
        "names = ['Mary', 'joseph', 'Gerard', 'Tom']\n",
        "\n",
        "for name in names:\n",
        "  print(name)"
      ]
    },
    {
      "cell_type": "markdown",
      "id": "3b61579d",
      "metadata": {
        "id": "3b61579d"
      },
      "source": [
        "In the previous code, we use `name` as a variable to loop over the name list, we then print the name. Notice the `:` after the for statement, this is part of the `for` syntax. Also notice the indentation (white space) after the semicolon, Python uses whitespace to denote blocks, in other languages `{}` are used."
      ]
    },
    {
      "cell_type": "code",
      "execution_count": 21,
      "id": "25ac4799",
      "metadata": {
        "id": "25ac4799",
        "colab": {
          "base_uri": "https://localhost:8080/"
        },
        "outputId": "7a5507d6-5889-41d2-fbcf-8409c1287bd6"
      },
      "outputs": [
        {
          "output_type": "stream",
          "name": "stdout",
          "text": [
            "J\n",
            "o\n",
            "h\n",
            "n\n",
            " \n",
            "D\n",
            "o\n",
            "e\n"
          ]
        }
      ],
      "source": [
        "# You can also loop over strings and other collections\n",
        "for letter in 'John Doe':\n",
        "  print(letter)"
      ]
    },
    {
      "cell_type": "code",
      "execution_count": 22,
      "id": "073f344e",
      "metadata": {
        "id": "073f344e",
        "colab": {
          "base_uri": "https://localhost:8080/"
        },
        "outputId": "c870ee09-1592-4d73-c8c4-2ace809cc077"
      },
      "outputs": [
        {
          "output_type": "stream",
          "name": "stdout",
          "text": [
            "2_4_6_8_10_"
          ]
        }
      ],
      "source": [
        "for N in [2,4,6,8,10] :\n",
        "  print(N, end='_')"
      ]
    },
    {
      "cell_type": "markdown",
      "id": "6c4ea38a",
      "metadata": {
        "id": "6c4ea38a"
      },
      "source": [
        "Notice the previous block used a sequence, in this case a list we looped over. We use the `in` operator to link them together. More precisely, the list in this case is an *iterator*, a generalized sequence we can loop over.\n",
        "\n",
        "One of the most common used *iterators* is the `range` object, which generates a sequence of numbers\n",
        "\n",
        "Range function:\n",
        "Returns a sequence of numbers in the form `range(start, stop, step)` it can be used in combination with for loops"
      ]
    },
    {
      "cell_type": "code",
      "execution_count": 23,
      "id": "dd623921",
      "metadata": {
        "id": "dd623921",
        "colab": {
          "base_uri": "https://localhost:8080/"
        },
        "outputId": "31a3cd8a-b3be-4839-e0db-c39e0f27ac6d"
      },
      "outputs": [
        {
          "output_type": "stream",
          "name": "stdout",
          "text": [
            "0\n",
            "1\n",
            "2\n",
            "3\n",
            "4\n"
          ]
        }
      ],
      "source": [
        "for i in range (0,5):\n",
        "  print(i)\n"
      ]
    },
    {
      "cell_type": "code",
      "execution_count": 24,
      "id": "a680b133",
      "metadata": {
        "id": "a680b133",
        "colab": {
          "base_uri": "https://localhost:8080/"
        },
        "outputId": "edb14020-30ea-44ea-a508-aae188620be5"
      },
      "outputs": [
        {
          "output_type": "stream",
          "name": "stdout",
          "text": [
            "0\n",
            "2\n",
            "4\n",
            "6\n",
            "8\n"
          ]
        }
      ],
      "source": [
        "for i in range(0 , 10 , 2):\n",
        "  print(i)"
      ]
    },
    {
      "cell_type": "code",
      "execution_count": 25,
      "id": "a08defef",
      "metadata": {
        "id": "a08defef",
        "colab": {
          "base_uri": "https://localhost:8080/"
        },
        "outputId": "c340f459-8cac-45f2-b23c-6631cb0a70a4"
      },
      "outputs": [
        {
          "output_type": "stream",
          "name": "stdout",
          "text": [
            "0 1 2 "
          ]
        }
      ],
      "source": [
        "for i in range(3):\n",
        "  print(i, end=' ')"
      ]
    },
    {
      "cell_type": "markdown",
      "id": "6253eaf8",
      "metadata": {
        "id": "6253eaf8"
      },
      "source": [
        "Range starts at zero by default, and the end of the range is not included. Range can also have other values"
      ]
    },
    {
      "cell_type": "code",
      "execution_count": 26,
      "id": "423d4635",
      "metadata": {
        "id": "423d4635",
        "colab": {
          "base_uri": "https://localhost:8080/"
        },
        "outputId": "6ed9899e-1a4f-4cd6-9ab9-928e97e28639"
      },
      "outputs": [
        {
          "output_type": "execute_result",
          "data": {
            "text/plain": [
              "[5, 6, 7, 8, 9]"
            ]
          },
          "metadata": {},
          "execution_count": 26
        }
      ],
      "source": [
        "# range from 5 to 10, non inclusive\n",
        "list(range(5,10))"
      ]
    },
    {
      "cell_type": "code",
      "execution_count": 27,
      "id": "c87cd13b",
      "metadata": {
        "id": "c87cd13b",
        "colab": {
          "base_uri": "https://localhost:8080/"
        },
        "outputId": "f623cf47-495f-4d2e-92de-6f067464ab61"
      },
      "outputs": [
        {
          "output_type": "execute_result",
          "data": {
            "text/plain": [
              "[0, 5, 10, 15, 20]"
            ]
          },
          "metadata": {},
          "execution_count": 27
        }
      ],
      "source": [
        "# range from 0 to 10 by 5\n",
        "list(range(0 ,21, 5))"
      ]
    },
    {
      "cell_type": "markdown",
      "id": "7b45b8d0",
      "metadata": {
        "id": "7b45b8d0"
      },
      "source": [
        "### A quick review of iterators\n",
        "Many times we need to repeate a similar calculation, in an automated fashion. One of Python answers to this is using the `iterator` object. This object contains a sequence, that will output the next value as long as it is valid. This is generally easily understandable with a list."
      ]
    },
    {
      "cell_type": "code",
      "execution_count": 28,
      "id": "d9c88ac4",
      "metadata": {
        "id": "d9c88ac4",
        "colab": {
          "base_uri": "https://localhost:8080/"
        },
        "outputId": "b929f155-a12e-45ff-e057-247176b09932"
      },
      "outputs": [
        {
          "output_type": "stream",
          "name": "stdout",
          "text": [
            "2468"
          ]
        }
      ],
      "source": [
        "for value in [ 1, 3,5,7]:\n",
        "  print(value + 1, end='')"
      ]
    },
    {
      "cell_type": "markdown",
      "id": "8d6de198",
      "metadata": {
        "id": "8d6de198"
      },
      "source": [
        "We can create an `iterator` object from this previous list, and will output the next value with the built in function `next`"
      ]
    },
    {
      "cell_type": "code",
      "execution_count": 29,
      "id": "e257258c",
      "metadata": {
        "id": "e257258c",
        "colab": {
          "base_uri": "https://localhost:8080/"
        },
        "outputId": "b163b1f4-df75-4ba5-e463-c738d2419047"
      },
      "outputs": [
        {
          "output_type": "execute_result",
          "data": {
            "text/plain": [
              "<list_iterator at 0x7fa993edb880>"
            ]
          },
          "metadata": {},
          "execution_count": 29
        }
      ],
      "source": [
        "# Iterator object\n",
        "iter([1, 3, 5, 7])"
      ]
    },
    {
      "cell_type": "code",
      "execution_count": 30,
      "id": "dfc4ece7",
      "metadata": {
        "id": "dfc4ece7"
      },
      "outputs": [],
      "source": [
        "I = iter([1,3,5,7])"
      ]
    },
    {
      "cell_type": "code",
      "execution_count": 31,
      "id": "906400ed",
      "metadata": {
        "id": "906400ed",
        "colab": {
          "base_uri": "https://localhost:8080/"
        },
        "outputId": "50b6ef6c-87d1-4f6d-86d7-56de23ef4d77"
      },
      "outputs": [
        {
          "output_type": "stream",
          "name": "stdout",
          "text": [
            "1\n"
          ]
        }
      ],
      "source": [
        "print(next(I))"
      ]
    },
    {
      "cell_type": "code",
      "execution_count": 32,
      "id": "191b807d",
      "metadata": {
        "id": "191b807d",
        "colab": {
          "base_uri": "https://localhost:8080/"
        },
        "outputId": "7281d46f-2720-4db1-f5fc-fa63baaee67e"
      },
      "outputs": [
        {
          "output_type": "stream",
          "name": "stdout",
          "text": [
            "3\n"
          ]
        }
      ],
      "source": [
        "print(next(I))"
      ]
    },
    {
      "cell_type": "code",
      "execution_count": 33,
      "id": "f130e256",
      "metadata": {
        "id": "f130e256",
        "colab": {
          "base_uri": "https://localhost:8080/"
        },
        "outputId": "f0fceaa3-9a89-49fe-e7c2-6586057920b7"
      },
      "outputs": [
        {
          "output_type": "stream",
          "name": "stdout",
          "text": [
            "5\n"
          ]
        }
      ],
      "source": [
        "print(next(I))"
      ]
    },
    {
      "cell_type": "code",
      "execution_count": 34,
      "id": "8b89e972",
      "metadata": {
        "id": "8b89e972",
        "colab": {
          "base_uri": "https://localhost:8080/"
        },
        "outputId": "56e06709-4a77-4afe-fe96-199a26b494f5"
      },
      "outputs": [
        {
          "output_type": "stream",
          "name": "stdout",
          "text": [
            "7\n"
          ]
        }
      ],
      "source": [
        "print(next(I))"
      ]
    },
    {
      "cell_type": "code",
      "execution_count": 35,
      "id": "6439e9b3",
      "metadata": {
        "id": "6439e9b3",
        "colab": {
          "base_uri": "https://localhost:8080/",
          "height": 139
        },
        "outputId": "439e2f42-e625-446e-dc33-9aa4d3c54983"
      },
      "outputs": [
        {
          "output_type": "error",
          "ename": "StopIteration",
          "evalue": "",
          "traceback": [
            "\u001b[0;31m---------------------------------------------------------------------------\u001b[0m",
            "\u001b[0;31mStopIteration\u001b[0m                             Traceback (most recent call last)",
            "\u001b[0;32m<ipython-input-35-ea704dfd936c>\u001b[0m in \u001b[0;36m<cell line: 1>\u001b[0;34m()\u001b[0m\n\u001b[0;32m----> 1\u001b[0;31m \u001b[0mprint\u001b[0m\u001b[0;34m(\u001b[0m\u001b[0mnext\u001b[0m\u001b[0;34m(\u001b[0m\u001b[0mI\u001b[0m\u001b[0;34m)\u001b[0m\u001b[0;34m)\u001b[0m\u001b[0;34m\u001b[0m\u001b[0;34m\u001b[0m\u001b[0m\n\u001b[0m",
            "\u001b[0;31mStopIteration\u001b[0m: "
          ]
        }
      ],
      "source": [
        "print(next(I))"
      ]
    },
    {
      "cell_type": "markdown",
      "id": "f776578a",
      "metadata": {
        "id": "f776578a"
      },
      "source": [
        "With this in mind we can see a indirect relationship with the `list` object and the iterator `object`. Lets see and example with the `range` object again. `range` like a list exposes an iterator, and Python knows to treat it *as if it's a list*."
      ]
    },
    {
      "cell_type": "code",
      "execution_count": 36,
      "id": "85cccffe",
      "metadata": {
        "id": "85cccffe",
        "colab": {
          "base_uri": "https://localhost:8080/"
        },
        "outputId": "80499be6-1b38-4c36-f124-0aae9c776ff1"
      },
      "outputs": [
        {
          "output_type": "execute_result",
          "data": {
            "text/plain": [
              "range"
            ]
          },
          "metadata": {},
          "execution_count": 36
        }
      ],
      "source": [
        "type(range(0,10))"
      ]
    },
    {
      "cell_type": "code",
      "execution_count": 37,
      "id": "32162e22",
      "metadata": {
        "id": "32162e22",
        "colab": {
          "base_uri": "https://localhost:8080/"
        },
        "outputId": "9896ef67-5bd0-4bbb-9365-62fe2d3f4c08"
      },
      "outputs": [
        {
          "output_type": "execute_result",
          "data": {
            "text/plain": [
              "<range_iterator at 0x7fa993ed99e0>"
            ]
          },
          "metadata": {},
          "execution_count": 37
        }
      ],
      "source": [
        "iter(range(10))"
      ]
    },
    {
      "cell_type": "code",
      "execution_count": 38,
      "id": "887d3afa",
      "metadata": {
        "id": "887d3afa",
        "colab": {
          "base_uri": "https://localhost:8080/"
        },
        "outputId": "8af51794-63cb-4b08-ff95-760191acb1d6"
      },
      "outputs": [
        {
          "output_type": "stream",
          "name": "stdout",
          "text": [
            "0*1*2*3*4*5*6*7*8*9*"
          ]
        }
      ],
      "source": [
        "for i in range(10):\n",
        "  print (i , end='*')"
      ]
    },
    {
      "cell_type": "markdown",
      "id": "d6ead6ff",
      "metadata": {
        "id": "d6ead6ff"
      },
      "source": [
        "The benefit of having an iterator is the list if never explicitely created. We can see this by doing a range calculation that would otherwise result in an error.\n",
        "\n",
        "If the following code would actually create a list of a trillion values it will use too much memory and our program would crash."
      ]
    },
    {
      "cell_type": "code",
      "execution_count": 39,
      "id": "e4a13147",
      "metadata": {
        "id": "e4a13147",
        "colab": {
          "base_uri": "https://localhost:8080/"
        },
        "outputId": "14620c5b-cc64-45e9-e839-d6fc86480dee"
      },
      "outputs": [
        {
          "output_type": "stream",
          "name": "stdout",
          "text": [
            "0\n",
            "1\n",
            "2\n",
            "3\n",
            "4\n",
            "5\n",
            "6\n",
            "7\n",
            "8\n",
            "9\n"
          ]
        }
      ],
      "source": [
        "n = 10 ** 12\n",
        "for i in range(n):\n",
        "  if i >= 10:\n",
        "    break\n",
        "  print(i)"
      ]
    },
    {
      "cell_type": "markdown",
      "id": "ebbc5d92",
      "metadata": {
        "id": "ebbc5d92"
      },
      "source": [
        "We also have the `count` object, which acts as a infinite range iterator.\n",
        "\n",
        "If this iterator is not stopped it will continue counting up to infinity. That's why we add the `break` statement here."
      ]
    },
    {
      "cell_type": "code",
      "execution_count": 40,
      "id": "94dc99c0",
      "metadata": {
        "id": "94dc99c0",
        "colab": {
          "base_uri": "https://localhost:8080/"
        },
        "outputId": "5d0a1409-b698-462f-d249-14b9897c5db2"
      },
      "outputs": [
        {
          "output_type": "stream",
          "name": "stdout",
          "text": [
            "10\n"
          ]
        }
      ],
      "source": [
        "# import itertools functionality\n",
        "from itertools import count\n",
        "\n",
        "for i in count():\n",
        " if i >= 10:\n",
        "  break\n",
        "print(i)\n"
      ]
    },
    {
      "cell_type": "markdown",
      "id": "25fb40a6",
      "metadata": {
        "id": "25fb40a6"
      },
      "source": [
        "### The if statement\n",
        "`if <expr>:\n",
        "    <statement>`\n",
        "    \n",
        "- <expr> is evaluated in a Boolean context\n",
        "- <statement> is a valid Python statement and must be indented\n",
        "- Notice the `:`, this is required"
      ]
    },
    {
      "cell_type": "code",
      "execution_count": 41,
      "id": "f9e24d81",
      "metadata": {
        "id": "f9e24d81"
      },
      "outputs": [],
      "source": [
        "x = 3\n",
        "y = 10"
      ]
    },
    {
      "cell_type": "code",
      "execution_count": 42,
      "id": "1e77ae67",
      "metadata": {
        "id": "1e77ae67",
        "colab": {
          "base_uri": "https://localhost:8080/"
        },
        "outputId": "3a5e575f-902e-4e9a-e2d0-9ea04c035593"
      },
      "outputs": [
        {
          "output_type": "stream",
          "name": "stdout",
          "text": [
            "x is less than y\n"
          ]
        }
      ],
      "source": [
        "if x < y:\n",
        "  print('x is less than y')"
      ]
    },
    {
      "cell_type": "code",
      "execution_count": 43,
      "id": "dcba6d46",
      "metadata": {
        "id": "dcba6d46",
        "colab": {
          "base_uri": "https://localhost:8080/"
        },
        "outputId": "41521c2c-2e02-4e69-c5c2-a64b2b32b9f7"
      },
      "outputs": [
        {
          "output_type": "execute_result",
          "data": {
            "text/plain": [
              "False"
            ]
          },
          "metadata": {},
          "execution_count": 43
        }
      ],
      "source": [
        "x > y"
      ]
    },
    {
      "cell_type": "code",
      "execution_count": 44,
      "id": "b27629d9",
      "metadata": {
        "id": "b27629d9"
      },
      "outputs": [],
      "source": [
        "if x > y:\n",
        "  print('x is bigger than y')"
      ]
    },
    {
      "cell_type": "code",
      "execution_count": 45,
      "id": "6bb45218",
      "metadata": {
        "id": "6bb45218",
        "colab": {
          "base_uri": "https://localhost:8080/"
        },
        "outputId": "1007377f-e261-4b92-a6fa-764a63e4bf5c"
      },
      "outputs": [
        {
          "output_type": "stream",
          "name": "stdout",
          "text": [
            "Its there\n"
          ]
        }
      ],
      "source": [
        "if 'ello' in 'hello':\n",
        "  print('Its there')"
      ]
    },
    {
      "cell_type": "code",
      "execution_count": 46,
      "id": "a2c3f88f",
      "metadata": {
        "id": "a2c3f88f",
        "colab": {
          "base_uri": "https://localhost:8080/"
        },
        "outputId": "36d61347-f14c-4f4d-d649-f82b4d81b3f8"
      },
      "outputs": [
        {
          "output_type": "stream",
          "name": "stdout",
          "text": [
            "lo is in hello\n",
            "x is less than y\n",
            "statement outside of the second condition\n"
          ]
        }
      ],
      "source": [
        "# We can also nest if statements, remember indentations\n",
        "if 'lo' in 'hello':\n",
        " print('lo is in hello')\n",
        "if x < y :\n",
        "  print ('x is less than y')\n",
        "print('statement outside of the second condition')"
      ]
    },
    {
      "cell_type": "code",
      "execution_count": 47,
      "id": "879f1d9c",
      "metadata": {
        "id": "879f1d9c",
        "colab": {
          "base_uri": "https://localhost:8080/"
        },
        "outputId": "2e67e237-6a2f-4ab0-9309-963f4ffb59d6"
      },
      "outputs": [
        {
          "output_type": "stream",
          "name": "stdout",
          "text": [
            "lo in hello\n",
            "statement outside of the second condition\n"
          ]
        }
      ],
      "source": [
        "# What if x is not less than y?\n",
        "x = 100\n",
        "if 'lo' in 'hello': #this is true\n",
        " print ('lo in hello')\n",
        "\n",
        "\n",
        "if x < y: #this is false\n",
        " print('x is less than y')\n",
        "print('statement outside of the second condition')\n",
        "\n",
        "\n",
        "# this will still run, as it is outside the if statement"
      ]
    },
    {
      "cell_type": "markdown",
      "id": "99ee3f21",
      "metadata": {
        "id": "99ee3f21"
      },
      "source": [
        "Nested for loops are also possible"
      ]
    },
    {
      "cell_type": "code",
      "execution_count": 48,
      "id": "12fb3c76",
      "metadata": {
        "id": "12fb3c76",
        "colab": {
          "base_uri": "https://localhost:8080/"
        },
        "outputId": "c686859b-d390-45e1-a7a6-3d78b9739762"
      },
      "outputs": [
        {
          "output_type": "stream",
          "name": "stdout",
          "text": [
            "a\n",
            "b\n",
            "c\n",
            "1\n",
            "2\n",
            "3\n"
          ]
        }
      ],
      "source": [
        "list1 = [\"a\",\"b\",\"c\"]\n",
        "list2 = [\"1\",\"2\",\"3\"]\n",
        "\n",
        "for x in list1:\n",
        "  print(x)\n",
        "for y in list2:\n",
        " print(y)"
      ]
    },
    {
      "cell_type": "markdown",
      "id": "1c0dfb7e",
      "metadata": {
        "id": "1c0dfb7e"
      },
      "source": [
        "### Optional Exercises\n",
        "\n",
        "1. Create a for loop that prints numbers from 1 to 20 in increments of 2 e.g. 2, 4, 6, 8, ...\n",
        "\n",
        "2. Create a for loop that prints from a list of words in a list. Create a second nested for loop that prints another word from a second list. Every word should from the first list shall be printed with every other word from the second list.\n",
        "\n",
        "`list_a = [\"chicken\", \"veggie\", \"meat\", \"ham\", \"cheese\", \"beef\", \"chocolate\"]`\n",
        "\n",
        "`list_b = [\"sandwich\", \"waffles\", \"pizza\", \"burrito\", \"soup\", \"salad\", \"smoothie\"]`\n",
        "\n",
        "Tip: You may want to use `range(len(list_a))` to iterate over the length of the list.\n",
        "\n",
        "Example output for exercise 2:\n",
        "\n",
        "`chicken sandwich\n",
        "chicken waffles\n",
        "chicken pizza\n",
        "chicken burrito...`\n",
        "\n",
        "`veggie sandwich\n",
        "veggie waffles\n",
        "veggie pizza\n",
        "veggie burrito...`"
      ]
    },
    {
      "cell_type": "code",
      "source": [
        "for i in range(0,20,2):\n",
        "  print(i)"
      ],
      "metadata": {
        "colab": {
          "base_uri": "https://localhost:8080/"
        },
        "id": "3Q7sOjJIYWJ-",
        "outputId": "1860dc06-77ec-4ede-99ae-8aad57917d78"
      },
      "id": "3Q7sOjJIYWJ-",
      "execution_count": 49,
      "outputs": [
        {
          "output_type": "stream",
          "name": "stdout",
          "text": [
            "0\n",
            "2\n",
            "4\n",
            "6\n",
            "8\n",
            "10\n",
            "12\n",
            "14\n",
            "16\n",
            "18\n"
          ]
        }
      ]
    },
    {
      "cell_type": "code",
      "source": [
        "list_a = [\"chicken\", \"veggie\", \"meat\", \"ham\", \"cheese\", \"beef\", \"chocolate\"]\n",
        "\n",
        "list_b = [\"sandwich\", \"waffles\", \"pizza\", \"burrito\", \"soup\", \"salad\", \"smoothie\"]\n",
        "\n",
        "for i in range(len(list_a)):\n",
        "    for j in range(len(list_b)):\n",
        "        print(f\"{list_a[i]} {list_b[j]}\")"
      ],
      "metadata": {
        "colab": {
          "base_uri": "https://localhost:8080/"
        },
        "id": "rW3bEs8qYawe",
        "outputId": "bdcce189-73c4-46c1-ae4d-deb7039960db"
      },
      "id": "rW3bEs8qYawe",
      "execution_count": 56,
      "outputs": [
        {
          "output_type": "stream",
          "name": "stdout",
          "text": [
            "chicken sandwich\n",
            "chicken waffles\n",
            "chicken pizza\n",
            "chicken burrito\n",
            "chicken soup\n",
            "chicken salad\n",
            "chicken smoothie\n",
            "veggie sandwich\n",
            "veggie waffles\n",
            "veggie pizza\n",
            "veggie burrito\n",
            "veggie soup\n",
            "veggie salad\n",
            "veggie smoothie\n",
            "meat sandwich\n",
            "meat waffles\n",
            "meat pizza\n",
            "meat burrito\n",
            "meat soup\n",
            "meat salad\n",
            "meat smoothie\n",
            "ham sandwich\n",
            "ham waffles\n",
            "ham pizza\n",
            "ham burrito\n",
            "ham soup\n",
            "ham salad\n",
            "ham smoothie\n",
            "cheese sandwich\n",
            "cheese waffles\n",
            "cheese pizza\n",
            "cheese burrito\n",
            "cheese soup\n",
            "cheese salad\n",
            "cheese smoothie\n",
            "beef sandwich\n",
            "beef waffles\n",
            "beef pizza\n",
            "beef burrito\n",
            "beef soup\n",
            "beef salad\n",
            "beef smoothie\n",
            "chocolate sandwich\n",
            "chocolate waffles\n",
            "chocolate pizza\n",
            "chocolate burrito\n",
            "chocolate soup\n",
            "chocolate salad\n",
            "chocolate smoothie\n"
          ]
        }
      ]
    },
    {
      "cell_type": "markdown",
      "id": "6bed564d",
      "metadata": {
        "id": "6bed564d"
      },
      "source": [
        "### Combining for and if statments\n",
        "- We can combine for loops and if statements to do different things when conditions are met.\n",
        "- In a for loop the `break` statement will stop the loop\n",
        "- In a for loop the `continue` statement will skip the element"
      ]
    },
    {
      "cell_type": "code",
      "execution_count": 57,
      "id": "b26fb2db",
      "metadata": {
        "id": "b26fb2db",
        "colab": {
          "base_uri": "https://localhost:8080/"
        },
        "outputId": "1a6ff648-644e-4f37-e5d0-dd49cd36e441"
      },
      "outputs": [
        {
          "output_type": "stream",
          "name": "stdout",
          "text": [
            "car\n",
            "bike\n",
            "truck\n",
            "plane\n",
            "boat\n"
          ]
        }
      ],
      "source": [
        "transport = ['car','bike','truck','plane','boat']\n",
        "\n",
        "for element in transport:\n",
        "  print(element)"
      ]
    },
    {
      "cell_type": "code",
      "execution_count": 59,
      "id": "e7df5860",
      "metadata": {
        "id": "e7df5860",
        "colab": {
          "base_uri": "https://localhost:8080/"
        },
        "outputId": "bfdd3ff8-69e3-4d9f-e1dd-5509e188530c"
      },
      "outputs": [
        {
          "output_type": "stream",
          "name": "stdout",
          "text": [
            "car\n",
            "bike\n",
            "truck\n",
            "plane\n",
            "you can fly\n",
            "boat\n"
          ]
        }
      ],
      "source": [
        "for element in transport:\n",
        "  print(element)\n",
        "  if element =='plane':\n",
        "    print(\"you can fly\")"
      ]
    },
    {
      "cell_type": "code",
      "execution_count": 60,
      "id": "35517fcc",
      "metadata": {
        "id": "35517fcc",
        "colab": {
          "base_uri": "https://localhost:8080/"
        },
        "outputId": "19c9b6a1-ff7c-4a11-8a54-5df18e3abb62"
      },
      "outputs": [
        {
          "output_type": "stream",
          "name": "stdout",
          "text": [
            "car\n"
          ]
        }
      ],
      "source": [
        "# Break the loop if condition is met\n",
        "for element in transport:\n",
        "  print(element)\n",
        "  if element == 'plane':\n",
        "    print('you can fly')\n",
        "  break"
      ]
    },
    {
      "cell_type": "code",
      "execution_count": 61,
      "id": "b76ff230",
      "metadata": {
        "id": "b76ff230",
        "colab": {
          "base_uri": "https://localhost:8080/"
        },
        "outputId": "5fb0c150-852e-4d55-8038-1e9611465611"
      },
      "outputs": [
        {
          "output_type": "stream",
          "name": "stdout",
          "text": [
            "boat\n"
          ]
        }
      ],
      "source": [
        "\n",
        "# Skip if condition is met\n",
        "for element in transport:\n",
        "  if element == 'bike':\n",
        "   continue\n",
        "print(element)"
      ]
    },
    {
      "cell_type": "markdown",
      "id": "c6970a8d",
      "metadata": {
        "id": "c6970a8d"
      },
      "source": [
        "Else and elif clauses\n",
        "Sometimes you want to take a different path or do something different if other conditions are met. This is accomplished with an `else` clause.\n",
        "\n",
        "Branching executions can be accomplished by `elif` short for else if, will evaluate an expression and execute if True."
      ]
    },
    {
      "cell_type": "code",
      "execution_count": 62,
      "id": "17477af6",
      "metadata": {
        "id": "17477af6",
        "colab": {
          "base_uri": "https://localhost:8080/"
        },
        "outputId": "b1b04334-9068-483a-af26-620d9501152d"
      },
      "outputs": [
        {
          "output_type": "stream",
          "name": "stdout",
          "text": [
            "car\n",
            "you can drive\n",
            "bike\n",
            "you can drive\n",
            "truck\n",
            "you can drive\n",
            "plane\n",
            "you can fly\n",
            "boat\n",
            "you can float\n"
          ]
        }
      ],
      "source": [
        "for element in transport:\n",
        " print(element)\n",
        " if element == 'plane':\n",
        "  print('you can fly')\n",
        " elif element == 'boat':\n",
        "  print('you can float')\n",
        " else:\n",
        "  print('you can drive')\n"
      ]
    },
    {
      "cell_type": "markdown",
      "id": "85220a7a",
      "metadata": {
        "id": "85220a7a"
      },
      "source": [
        "## Optional exercise\n",
        "Write a program that takes two integer numbers and determines if the numbers are odd or even. Remember the `input()` and `%` function and operator.\n",
        "\n",
        "Additional exercise: do the same computation as above, but for a list of numbers using a `for` loop and `if` statements."
      ]
    },
    {
      "cell_type": "code",
      "source": [],
      "metadata": {
        "id": "x_4zUFoIZ9Rf"
      },
      "id": "x_4zUFoIZ9Rf",
      "execution_count": null,
      "outputs": []
    },
    {
      "cell_type": "markdown",
      "id": "aee7968e",
      "metadata": {
        "id": "aee7968e"
      },
      "source": [
        "### Conditional expressions (ternary operator)\n",
        "This is different from the if statement forms listed above because it is not a control structure that directs the flow of program execution. It acts more like an operator that defines an expression. In the above example, <conditional_expr> is evaluated first. If it is true, the expression evaluates to <expr1>. If it is false, the expression evaluates to <expr2>.\n",
        "    \n",
        "- \\<conditional_expr> ? \\<expr1> : \\<expr2>"
      ]
    },
    {
      "cell_type": "code",
      "execution_count": 69,
      "id": "22237e46",
      "metadata": {
        "id": "22237e46",
        "colab": {
          "base_uri": "https://localhost:8080/"
        },
        "outputId": "d181dad1-0a2d-4e3e-b767-8dacf67feaf7"
      },
      "outputs": [
        {
          "output_type": "stream",
          "name": "stdout",
          "text": [
            "Lets  stay\n"
          ]
        }
      ],
      "source": [
        "rain = True\n",
        "print('Lets ', 'go outside' if not rain else 'stay')"
      ]
    },
    {
      "cell_type": "code",
      "execution_count": 70,
      "id": "9b170387",
      "metadata": {
        "id": "9b170387",
        "colab": {
          "base_uri": "https://localhost:8080/",
          "height": 35
        },
        "outputId": "b7d6628e-7922-4436-b52a-1e79de275261"
      },
      "outputs": [
        {
          "output_type": "execute_result",
          "data": {
            "text/plain": [
              "'Bob'"
            ],
            "application/vnd.google.colaboratory.intrinsic+json": {
              "type": "string"
            }
          },
          "metadata": {},
          "execution_count": 70
        }
      ],
      "source": [
        "name = 'Bob'\n",
        "who = 'Bob' if name == 'Bob' else 'Not Bob'\n",
        "who"
      ]
    },
    {
      "cell_type": "code",
      "execution_count": 71,
      "id": "5a676237",
      "metadata": {
        "id": "5a676237",
        "colab": {
          "base_uri": "https://localhost:8080/",
          "height": 35
        },
        "outputId": "ab98d41f-59c9-40a3-c2a0-7c9ae7af2f89"
      },
      "outputs": [
        {
          "output_type": "execute_result",
          "data": {
            "text/plain": [
              "'Not Bob'"
            ],
            "application/vnd.google.colaboratory.intrinsic+json": {
              "type": "string"
            }
          },
          "metadata": {},
          "execution_count": 71
        }
      ],
      "source": [
        "name = 'Jane'\n",
        "who = 'Bob' if name == 'Bob' else 'Not Bob'\n",
        "who"
      ]
    },
    {
      "cell_type": "markdown",
      "id": "8536faa9",
      "metadata": {
        "id": "8536faa9"
      },
      "source": [
        "## While loops\n",
        "while \\<expr>:\n",
        "\n",
        "    <statement(s)>\n",
        "        \n",
        "<statement(s)> represents the block to be repeatedly executed, often referred to as the body of the loop. This is denoted with indentation, just as in an if statement.\n",
        "\n",
        "The controlling expression, <expr>, typically involves one or more variables that are initialized prior to starting the loop and then modified somewhere in the loop body.\n",
        "    \n",
        "While loops can also use `break` and `continue` statements. You can also use `else` statements once the condition is no longer true"
      ]
    },
    {
      "cell_type": "code",
      "execution_count": 63,
      "id": "2a3797d0",
      "metadata": {
        "id": "2a3797d0",
        "colab": {
          "base_uri": "https://localhost:8080/"
        },
        "outputId": "bcc6a22b-bcef-4e1f-d9af-ede1a052fb68"
      },
      "outputs": [
        {
          "output_type": "stream",
          "name": "stdout",
          "text": [
            "4\n",
            "3\n",
            "2\n",
            "1\n",
            "0\n"
          ]
        }
      ],
      "source": [
        "n = 5\n",
        "while n > 0 :\n",
        "  n = n -1\n",
        "  print(n)"
      ]
    },
    {
      "cell_type": "code",
      "execution_count": 64,
      "id": "edf20339",
      "metadata": {
        "id": "edf20339",
        "colab": {
          "base_uri": "https://localhost:8080/"
        },
        "outputId": "68e15955-19c8-496e-c4e6-0dbedc918440"
      },
      "outputs": [
        {
          "output_type": "stream",
          "name": "stdout",
          "text": [
            "bruce\n",
            "diana\n",
            "derek\n",
            "bob\n",
            "no more names\n"
          ]
        }
      ],
      "source": [
        "names = ['bob', 'derek', 'diana', 'bruce']\n",
        "while names:\n",
        "  print(names.pop())\n",
        "else:\n",
        "  print('no more names')"
      ]
    },
    {
      "cell_type": "markdown",
      "id": "3b4a7594",
      "metadata": {
        "id": "3b4a7594"
      },
      "source": [
        "## Exercises for participation credit\n",
        "Please complete the following exercises and upload your completed notebook to your Github repository for participation credit.\n",
        "\n",
        "1. Write a for loop that adds all numbers from 1 to 100\n",
        "2. Using the list `lst1=[\"Joe\", \"Sarah\", \"Mike\", \"Jess\", \"\", \"Matt\", \"\", \"Greg\"]` create a second list called `lst2`, iterate through the list and add the names to `lst2` only if the element is different to an empty string.\n",
        "3. Take 3 numbers from the user using `input()` save the numbers to a list. Take 3 more numbers from the user and save it to a second list. Iterate over both lists and multiply every number on the first list over every other number on the second list. Print the multiplication result only if the result is an even number, else print the words `The result is odd`."
      ]
    },
    {
      "cell_type": "code",
      "execution_count": 72,
      "id": "63de2ad5",
      "metadata": {
        "id": "63de2ad5",
        "colab": {
          "base_uri": "https://localhost:8080/"
        },
        "outputId": "ed77f652-b0aa-4db1-c012-dd4499d8d66e"
      },
      "outputs": [
        {
          "output_type": "stream",
          "name": "stdout",
          "text": [
            "5050\n"
          ]
        }
      ],
      "source": [
        "totalsum = 0\n",
        "for i in range(1,101):\n",
        "  totalsum +=i\n",
        "\n",
        "print(totalsum)"
      ]
    },
    {
      "cell_type": "code",
      "source": [
        "lst1=[\"Joe\", \"Sarah\", \"Mike\", \"Jess\", \"\", \"Matt\", \"\", \"Greg\"]\n",
        "lst2 =[]\n",
        "\n",
        "for name in lst1:\n",
        "    if name == '':\n",
        "        continue\n",
        "    else:\n",
        "        lst2.append(name)\n",
        "\n",
        "print(lst2)"
      ],
      "metadata": {
        "colab": {
          "base_uri": "https://localhost:8080/"
        },
        "id": "_IDIHVjma31A",
        "outputId": "975b0dbc-2fb2-4b94-d28a-7a25cbf0d04b"
      },
      "id": "_IDIHVjma31A",
      "execution_count": 77,
      "outputs": [
        {
          "output_type": "stream",
          "name": "stdout",
          "text": [
            "['Joe', 'Sarah', 'Mike', 'Jess', 'Matt', 'Greg']\n"
          ]
        }
      ]
    },
    {
      "cell_type": "code",
      "source": [
        "list1 = []\n",
        "print(\"Enter 3 numbers for the first list:\")\n",
        "for _ in range(3):\n",
        "    num = int(input(\"Enter a number: \"))\n",
        "    list1.append(num)\n",
        "list2 = []\n",
        "print(\"Enter 3 numbers for the second list:\")\n",
        "for _ in range(3):\n",
        "    num = int(input(\"Enter a number: \"))\n",
        "    list2.append(num)\n",
        "for num1 in list1:\n",
        "    for num2 in list2:\n",
        "        result = num1 * num2\n",
        "        if result % 2 == 0:\n",
        "            print(f\"The result of {num1} * {num2} is {result}, which is even.\")\n",
        "        else:\n",
        "            print(f\"The result of {num1} * {num2} is {result}. The result is odd.\")"
      ],
      "metadata": {
        "colab": {
          "base_uri": "https://localhost:8080/"
        },
        "id": "-aPgG_qsbfnW",
        "outputId": "6114d608-ad05-4cc4-b8e5-e635e28ecac6"
      },
      "id": "-aPgG_qsbfnW",
      "execution_count": 79,
      "outputs": [
        {
          "output_type": "stream",
          "name": "stdout",
          "text": [
            "Enter 3 numbers for the first list:\n",
            "Enter a number: 3\n",
            "Enter a number: 5\n",
            "Enter a number: 4\n",
            "Enter 3 numbers for the second list:\n",
            "Enter a number: 3\n",
            "Enter a number: 2\n",
            "Enter a number: 4\n",
            "The result of 3 * 3 is 9. The result is odd.\n",
            "The result of 3 * 2 is 6, which is even.\n",
            "The result of 3 * 4 is 12, which is even.\n",
            "The result of 5 * 3 is 15. The result is odd.\n",
            "The result of 5 * 2 is 10, which is even.\n",
            "The result of 5 * 4 is 20, which is even.\n",
            "The result of 4 * 3 is 12, which is even.\n",
            "The result of 4 * 2 is 8, which is even.\n",
            "The result of 4 * 4 is 16, which is even.\n"
          ]
        }
      ]
    }
  ],
  "metadata": {
    "kernelspec": {
      "display_name": "Python 3 (ipykernel)",
      "language": "python",
      "name": "python3"
    },
    "language_info": {
      "codemirror_mode": {
        "name": "ipython",
        "version": 3
      },
      "file_extension": ".py",
      "mimetype": "text/x-python",
      "name": "python",
      "nbconvert_exporter": "python",
      "pygments_lexer": "ipython3",
      "version": "3.10.4"
    },
    "colab": {
      "provenance": [],
      "include_colab_link": true
    }
  },
  "nbformat": 4,
  "nbformat_minor": 5
}