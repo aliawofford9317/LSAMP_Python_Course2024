{
  "nbformat": 4,
  "nbformat_minor": 0,
  "metadata": {
    "colab": {
      "provenance": [],
      "authorship_tag": "ABX9TyMuLzmnJZYMpIRxrqVv8cxR",
      "include_colab_link": true
    },
    "kernelspec": {
      "name": "python3",
      "display_name": "Python 3"
    },
    "language_info": {
      "name": "python"
    }
  },
  "cells": [
    {
      "cell_type": "markdown",
      "metadata": {
        "id": "view-in-github",
        "colab_type": "text"
      },
      "source": [
        "<a href=\"https://colab.research.google.com/github/aliawofford9317/LSAMP_Python_Course2024/blob/DanielaaVargas/Lesson_3a_Exercises.ipynb\" target=\"_parent\"><img src=\"https://colab.research.google.com/assets/colab-badge.svg\" alt=\"Open In Colab\"/></a>"
      ]
    },
    {
      "cell_type": "markdown",
      "source": [
        "# **Operating and Manipulating Data - Exercises**\n",
        "\n",
        "---\n",
        "\n",
        "\n",
        "Daniela Vargas, June 12, 2024"
      ],
      "metadata": {
        "id": "qg4AUIrfmYGS"
      }
    },
    {
      "cell_type": "markdown",
      "source": [
        "Brief description:\n",
        "\n",
        "*   fetch_data() is a function intended to retrieve data from a specific source.\n",
        "*   shutil is a python module containing functions to operate with files and directories (e.g. copying, moving or deleting)\n",
        "*   os is a standard library module that provides functions for interacting with the operating system.\n",
        "\n",
        "\n"
      ],
      "metadata": {
        "id": "YfyVDJLfnvoN"
      }
    },
    {
      "cell_type": "code",
      "execution_count": 76,
      "metadata": {
        "colab": {
          "base_uri": "https://localhost:8080/"
        },
        "id": "QATWrq2ngiD8",
        "outputId": "9e7a6ca9-f3a5-4735-dd3d-a5c04a93152f"
      },
      "outputs": [
        {
          "output_type": "stream",
          "name": "stdout",
          "text": [
            "Cloning into 'LSAMP_Python_Course2024'...\n",
            "remote: Enumerating objects: 135, done.\u001b[K\n",
            "remote: Counting objects: 100% (65/65), done.\u001b[K\n",
            "remote: Compressing objects: 100% (63/63), done.\u001b[K\n",
            "remote: Total 135 (delta 34), reused 1 (delta 1), pack-reused 70\u001b[K\n",
            "Receiving objects: 100% (135/135), 1.41 MiB | 4.29 MiB/s, done.\n",
            "Resolving deltas: 100% (70/70), done.\n"
          ]
        },
        {
          "output_type": "execute_result",
          "data": {
            "text/plain": [
              "<function posix.getcwd()>"
            ]
          },
          "metadata": {},
          "execution_count": 76
        }
      ],
      "source": [
        "def fetch_data():\n",
        "  import os, shutil\n",
        "  cwd = os.getcwd()\n",
        "  if os.path.exists('LSAMP_Python_Course2024'):\n",
        "    shutil.rmtree('LSAMP_Python_Course2024')\n",
        "  !git clone https://github.com/aliawofford9317/LSAMP_Python_Course2024.git\n",
        "  for file in os.listdir('LSAMP_Python_Course2024'):\n",
        "    if file.endswith(('.txt', '.csv')):\n",
        "      shutil.copy('LSAMP_Python_Course2024/{}'.format(file),cwd) #Current Working Directory (CWD): is the folder your Python is operating inside at the moment\n",
        "fetch_data()\n",
        "\n",
        "import os\n",
        "os.getcwd"
      ]
    },
    {
      "cell_type": "markdown",
      "source": [
        "# **SHORT EXERCISE 1**\n",
        "Add all the masses from the planets in the planetary_data_2.txt.\n"
      ],
      "metadata": {
        "id": "yQgnMhtDmb4x"
      }
    },
    {
      "cell_type": "code",
      "source": [
        "#For loop to extract the mass' column\n",
        "Data = open('planetary_data_2.txt')\n",
        "mass = []\n",
        "for line in Data:\n",
        "  splitLine = line.split(',')\n",
        "  mass.append(splitLine[2]) #Creates a new list containing exclusively the masses of the planets\n",
        "del mass[0]\n",
        "mass"
      ],
      "metadata": {
        "colab": {
          "base_uri": "https://localhost:8080/"
        },
        "id": "JgxkEfPiqEKe",
        "outputId": "f605cc1e-e03b-4c58-ce41-38ca8b187e4a"
      },
      "execution_count": 87,
      "outputs": [
        {
          "output_type": "execute_result",
          "data": {
            "text/plain": [
              "[' 60.83', ' 928.43', ' 1083.21', ' 163.18', ' 1431280']"
            ]
          },
          "metadata": {},
          "execution_count": 87
        }
      ]
    },
    {
      "cell_type": "code",
      "source": [
        "#Converting strings to float\n",
        "Mass_float =[float(item) for item in mass]\n",
        "Mass_float"
      ],
      "metadata": {
        "colab": {
          "base_uri": "https://localhost:8080/"
        },
        "id": "9fYTo0xOyylU",
        "outputId": "71f7e674-0495-4d0b-8476-a7bb7424eb18"
      },
      "execution_count": 88,
      "outputs": [
        {
          "output_type": "execute_result",
          "data": {
            "text/plain": [
              "[60.83, 928.43, 1083.21, 163.18, 1431280.0]"
            ]
          },
          "metadata": {},
          "execution_count": 88
        }
      ]
    },
    {
      "cell_type": "code",
      "source": [
        "#Adding the masses of the planets\n",
        "total = 0\n",
        "for value in Mass_float:\n",
        "  total += value\n",
        "print('The total mass of the planets is: ', total, ' kg')"
      ],
      "metadata": {
        "colab": {
          "base_uri": "https://localhost:8080/"
        },
        "id": "R_AQkjw7scKp",
        "outputId": "6b3efc99-d515-4f1f-815d-e01cf3ffa7fd"
      },
      "execution_count": 89,
      "outputs": [
        {
          "output_type": "stream",
          "name": "stdout",
          "text": [
            "The total mass of the planets is:  1433515.65  kg\n"
          ]
        }
      ]
    },
    {
      "cell_type": "markdown",
      "source": [
        "# **SHORT EXERCISE 2**\n",
        "* Read the data from planetary_data_2.txt, split the data by planet.\n",
        "* Create a new list for every planet and add it to a nested list called list_planets. This list contains a list of all the planets and its data.\n",
        "* Write a script that gets an integer number from the user using input().\n",
        "* Return one of the planets from the list, where the index number is the number entered by the user."
      ],
      "metadata": {
        "id": "W5Eo4jKp0_i8"
      }
    },
    {
      "cell_type": "code",
      "source": [
        "Data2 = open('planetary_data_2.txt')\n",
        "Data2.read()"
      ],
      "metadata": {
        "colab": {
          "base_uri": "https://localhost:8080/",
          "height": 87
        },
        "id": "1JA-2lc91bdW",
        "outputId": "6207be9c-bf0e-40ed-a999-f1048115d5a4"
      },
      "execution_count": 106,
      "outputs": [
        {
          "output_type": "execute_result",
          "data": {
            "text/plain": [
              "'Body, Radius (km), Mass (10e21 kg), Density (g/cm3), Gravity (m/s2)\\nMercury, 2439.4, 60.83, 330.11, 5.4291, 3.70\\nVenus,\\t6052, 928.43, 4867.5, 5.243, 8.87\\nEarth,\\t6371.0084, 1083.21, 5972.4, 5.5136, 9.8\\t\\nMars, 3389.5, 163.18, 641.71, 3.9341, 3.71\\nJupiter, 69911, 1431280, 1898187, 1.3262, 24.79'"
            ],
            "application/vnd.google.colaboratory.intrinsic+json": {
              "type": "string"
            }
          },
          "metadata": {},
          "execution_count": 106
        }
      ]
    },
    {
      "cell_type": "code",
      "source": [
        "Data2 = open('planetary_data_2.txt')\n",
        "list_planets = []\n",
        "for line in Data2:\n",
        "  splitL = line.split(',')\n",
        "  list_planets.append(splitL)\n",
        "del list_planets[0]\n",
        "print(list_planets)"
      ],
      "metadata": {
        "colab": {
          "base_uri": "https://localhost:8080/"
        },
        "id": "0H-EbFSL10C6",
        "outputId": "8e572237-445f-4694-fea6-8d8cf1c24461"
      },
      "execution_count": 113,
      "outputs": [
        {
          "output_type": "stream",
          "name": "stdout",
          "text": [
            "[['Mercury', ' 2439.4', ' 60.83', ' 330.11', ' 5.4291', ' 3.70\\n'], ['Venus', '\\t6052', ' 928.43', ' 4867.5', ' 5.243', ' 8.87\\n'], ['Earth', '\\t6371.0084', ' 1083.21', ' 5972.4', ' 5.5136', ' 9.8\\t\\n'], ['Mars', ' 3389.5', ' 163.18', ' 641.71', ' 3.9341', ' 3.71\\n'], ['Jupiter', ' 69911', ' 1431280', ' 1898187', ' 1.3262', ' 24.79']]\n"
          ]
        }
      ]
    },
    {
      "cell_type": "code",
      "source": [
        "integer = int(input())"
      ],
      "metadata": {
        "colab": {
          "base_uri": "https://localhost:8080/"
        },
        "id": "r84QLo6a8cu1",
        "outputId": "26ef693d-1cfa-4275-ecf5-d1d9ea1922a2"
      },
      "execution_count": 130,
      "outputs": [
        {
          "name": "stdout",
          "output_type": "stream",
          "text": [
            "10\n"
          ]
        }
      ]
    },
    {
      "cell_type": "code",
      "source": [
        "if integer <= len(list_planets):\n",
        "  LIST = list_planets[integer]\n",
        "  print(LIST[0])\n",
        "else:\n",
        "  print('Introduce a valid input')\n",
        ""
      ],
      "metadata": {
        "colab": {
          "base_uri": "https://localhost:8080/"
        },
        "id": "LQyXe2ow813Y",
        "outputId": "19398e99-cebb-4f60-d667-e0c00848772e"
      },
      "execution_count": 132,
      "outputs": [
        {
          "output_type": "stream",
          "name": "stdout",
          "text": [
            "Introduce a valid input\n"
          ]
        }
      ]
    },
    {
      "cell_type": "markdown",
      "source": [
        "# **SHORT EXERCISE 3**\n",
        "Create a script that writes numbers from 1 to 100, line by line to a text file."
      ],
      "metadata": {
        "id": "0MKwdF8oB_vc"
      }
    },
    {
      "cell_type": "code",
      "source": [
        "dat = open('append.txt', 'w')\n",
        "inr = 1\n",
        "n = 1\n",
        "while n <= 100:\n",
        "   inr += 1\n",
        "\n",
        "   dat = open('append.txt', 'a')\n",
        "   dat.write(str(n)+'\\n')\n",
        "   n+=1\n",
        "\n",
        "dat.close\n",
        "\n",
        "dat = open('append.txt', 'r')\n",
        "for i in range(inr):\n",
        "  print(dat.readline())\n",
        "dat.close()"
      ],
      "metadata": {
        "colab": {
          "base_uri": "https://localhost:8080/"
        },
        "id": "QM6YoaRbaOBL",
        "outputId": "f0007bc6-d2ba-4549-db9f-54a462dca87e"
      },
      "execution_count": 19,
      "outputs": [
        {
          "output_type": "stream",
          "name": "stdout",
          "text": [
            "1\n",
            "\n",
            "2\n",
            "\n",
            "3\n",
            "\n",
            "4\n",
            "\n",
            "5\n",
            "\n",
            "6\n",
            "\n",
            "7\n",
            "\n",
            "8\n",
            "\n",
            "9\n",
            "\n",
            "10\n",
            "\n",
            "11\n",
            "\n",
            "12\n",
            "\n",
            "13\n",
            "\n",
            "14\n",
            "\n",
            "15\n",
            "\n",
            "16\n",
            "\n",
            "17\n",
            "\n",
            "18\n",
            "\n",
            "19\n",
            "\n",
            "20\n",
            "\n",
            "21\n",
            "\n",
            "22\n",
            "\n",
            "23\n",
            "\n",
            "24\n",
            "\n",
            "25\n",
            "\n",
            "26\n",
            "\n",
            "27\n",
            "\n",
            "28\n",
            "\n",
            "29\n",
            "\n",
            "30\n",
            "\n",
            "31\n",
            "\n",
            "32\n",
            "\n",
            "33\n",
            "\n",
            "34\n",
            "\n",
            "35\n",
            "\n",
            "36\n",
            "\n",
            "37\n",
            "\n",
            "38\n",
            "\n",
            "39\n",
            "\n",
            "40\n",
            "\n",
            "41\n",
            "\n",
            "42\n",
            "\n",
            "43\n",
            "\n",
            "44\n",
            "\n",
            "45\n",
            "\n",
            "46\n",
            "\n",
            "47\n",
            "\n",
            "48\n",
            "\n",
            "49\n",
            "\n",
            "50\n",
            "\n",
            "51\n",
            "\n",
            "52\n",
            "\n",
            "53\n",
            "\n",
            "54\n",
            "\n",
            "55\n",
            "\n",
            "56\n",
            "\n",
            "57\n",
            "\n",
            "58\n",
            "\n",
            "59\n",
            "\n",
            "60\n",
            "\n",
            "61\n",
            "\n",
            "62\n",
            "\n",
            "63\n",
            "\n",
            "64\n",
            "\n",
            "65\n",
            "\n",
            "66\n",
            "\n",
            "67\n",
            "\n",
            "68\n",
            "\n",
            "69\n",
            "\n",
            "70\n",
            "\n",
            "71\n",
            "\n",
            "72\n",
            "\n",
            "73\n",
            "\n",
            "74\n",
            "\n",
            "75\n",
            "\n",
            "76\n",
            "\n",
            "77\n",
            "\n",
            "78\n",
            "\n",
            "79\n",
            "\n",
            "80\n",
            "\n",
            "81\n",
            "\n",
            "82\n",
            "\n",
            "83\n",
            "\n",
            "84\n",
            "\n",
            "85\n",
            "\n",
            "86\n",
            "\n",
            "87\n",
            "\n",
            "88\n",
            "\n",
            "89\n",
            "\n",
            "90\n",
            "\n",
            "91\n",
            "\n",
            "92\n",
            "\n",
            "93\n",
            "\n",
            "94\n",
            "\n",
            "95\n",
            "\n",
            "96\n",
            "\n",
            "97\n",
            "\n",
            "98\n",
            "\n",
            "99\n",
            "\n",
            "100\n",
            "\n",
            "\n"
          ]
        }
      ]
    }
  ]
}