{
  "cells": [
    {
      "cell_type": "markdown",
      "metadata": {
        "id": "view-in-github",
        "colab_type": "text"
      },
      "source": [
        "<a href=\"https://colab.research.google.com/github/aliawofford9317/LSAMP_Python_Course2024/blob/main/Lesson_2_Operators_and_Conditional_Statements.ipynb\" target=\"_parent\"><img src=\"https://colab.research.google.com/assets/colab-badge.svg\" alt=\"Open In Colab\"/></a>"
      ]
    },
    {
      "cell_type": "markdown",
      "id": "83898c59",
      "metadata": {
        "id": "83898c59"
      },
      "source": [
        "## Operators\n",
        "Operators are symbols that indicate how two operands should be manipulated. Operators and operants together form an expresion. Operators will always return a value\n",
        "\n",
        "### Arithmetic Operators\n",
        "- `+` add two operands\n",
        "- `-` substract two operands\n",
        "- `*` multiply two operands\n",
        "- `/` divide two operands\n",
        "- `%` modulus, return the remainder when the first number is divided from the second number.\n",
        "- `//` return integer division\n",
        "- `**` Exponentiation"
      ]
    },
    {
      "cell_type": "code",
      "execution_count": null,
      "id": "f8762c51",
      "metadata": {
        "id": "f8762c51",
        "outputId": "991e5353-5dea-41d4-9c39-e93f2292cfe2"
      },
      "outputs": [
        {
          "data": {
            "text/plain": [
              "9"
            ]
          },
          "execution_count": 1,
          "metadata": {},
          "output_type": "execute_result"
        }
      ],
      "source": [
        "x = 7\n",
        "y = 2\n",
        "x + y"
      ]
    },
    {
      "cell_type": "code",
      "execution_count": null,
      "id": "098414f0",
      "metadata": {
        "id": "098414f0",
        "outputId": "09794929-0ead-41c4-fcef-88caa84391f4"
      },
      "outputs": [
        {
          "data": {
            "text/plain": [
              "5"
            ]
          },
          "execution_count": 2,
          "metadata": {},
          "output_type": "execute_result"
        }
      ],
      "source": [
        "x - y"
      ]
    },
    {
      "cell_type": "code",
      "execution_count": null,
      "id": "57c8f4c2",
      "metadata": {
        "id": "57c8f4c2",
        "outputId": "ac512285-b64e-4f74-d933-a9ec8423f22e"
      },
      "outputs": [
        {
          "data": {
            "text/plain": [
              "14"
            ]
          },
          "execution_count": 3,
          "metadata": {},
          "output_type": "execute_result"
        }
      ],
      "source": [
        "x * y"
      ]
    },
    {
      "cell_type": "code",
      "execution_count": null,
      "id": "5ea98586",
      "metadata": {
        "id": "5ea98586",
        "outputId": "f66ff69a-ee48-43bd-9397-adc8b936ece1"
      },
      "outputs": [
        {
          "data": {
            "text/plain": [
              "3.5"
            ]
          },
          "execution_count": 4,
          "metadata": {},
          "output_type": "execute_result"
        }
      ],
      "source": [
        "x / y"
      ]
    },
    {
      "cell_type": "code",
      "execution_count": null,
      "id": "b3275999",
      "metadata": {
        "id": "b3275999",
        "outputId": "d0b3d944-af9b-472d-d319-9c02fcef7c20"
      },
      "outputs": [
        {
          "data": {
            "text/plain": [
              "1"
            ]
          },
          "execution_count": 5,
          "metadata": {},
          "output_type": "execute_result"
        }
      ],
      "source": [
        "x % y"
      ]
    },
    {
      "cell_type": "code",
      "execution_count": null,
      "id": "e569b719",
      "metadata": {
        "id": "e569b719",
        "outputId": "6aaa70db-03b3-4c88-bb57-4f6a67bd5371"
      },
      "outputs": [
        {
          "data": {
            "text/plain": [
              "3"
            ]
          },
          "execution_count": 6,
          "metadata": {},
          "output_type": "execute_result"
        }
      ],
      "source": [
        "x // y"
      ]
    },
    {
      "cell_type": "code",
      "execution_count": null,
      "id": "05090a67",
      "metadata": {
        "id": "05090a67",
        "outputId": "20d6c8a8-40e1-4b77-c884-a70f3c19dbb5"
      },
      "outputs": [
        {
          "data": {
            "text/plain": [
              "49"
            ]
          },
          "execution_count": 7,
          "metadata": {},
          "output_type": "execute_result"
        }
      ],
      "source": [
        "x ** y"
      ]
    },
    {
      "cell_type": "markdown",
      "id": "9d9a299f",
      "metadata": {
        "id": "9d9a299f"
      },
      "source": [
        "### Comparison Operators\n",
        "\n",
        "- `==`\tEqual\tx == y\n",
        "- `!=`\tNot equal\tx != y\n",
        "-  `>`\tGreater than\tx > y\n",
        "- `<`\tLess than\tx < y\n",
        "- `>=`\tGreater than or equal to\tx >= y\n",
        "- `<=`\tLess than or equal to\tx <= y"
      ]
    },
    {
      "cell_type": "code",
      "execution_count": null,
      "id": "24b65b8d",
      "metadata": {
        "id": "24b65b8d",
        "outputId": "d3f23e4d-72a1-4446-d8c2-259db0dc68d7"
      },
      "outputs": [
        {
          "data": {
            "text/plain": [
              "False"
            ]
          },
          "execution_count": 1,
          "metadata": {},
          "output_type": "execute_result"
        }
      ],
      "source": [
        "x = 9\n",
        "y = 1\n",
        "x < y"
      ]
    },
    {
      "cell_type": "code",
      "execution_count": null,
      "id": "dfff367e",
      "metadata": {
        "id": "dfff367e",
        "outputId": "a2a415a3-9b0b-44e2-afdb-9d3c76cb4398"
      },
      "outputs": [
        {
          "data": {
            "text/plain": [
              "True"
            ]
          },
          "execution_count": 2,
          "metadata": {},
          "output_type": "execute_result"
        }
      ],
      "source": [
        "x > y"
      ]
    },
    {
      "cell_type": "code",
      "execution_count": null,
      "id": "ff31f54b",
      "metadata": {
        "id": "ff31f54b",
        "outputId": "3477a419-f3e9-4436-eac0-a3527bba5001"
      },
      "outputs": [
        {
          "data": {
            "text/plain": [
              "False"
            ]
          },
          "execution_count": 4,
          "metadata": {},
          "output_type": "execute_result"
        }
      ],
      "source": [
        "x == y"
      ]
    },
    {
      "cell_type": "code",
      "execution_count": null,
      "id": "a61ae583",
      "metadata": {
        "id": "a61ae583",
        "outputId": "d2cd6c4f-e399-4601-d98f-a3e90f2fee05"
      },
      "outputs": [
        {
          "data": {
            "text/plain": [
              "True"
            ]
          },
          "execution_count": 5,
          "metadata": {},
          "output_type": "execute_result"
        }
      ],
      "source": [
        "# Comparisson operators can be concatenated\n",
        "x = 9\n",
        "1 < x and x < 20"
      ]
    },
    {
      "cell_type": "markdown",
      "id": "4e75d36f",
      "metadata": {
        "id": "4e75d36f"
      },
      "source": [
        "### Logical operators\n",
        "- `and` \tReturns True if both statements are true\tx < 5 and  x < 10\n",
        "- `or`\tReturns True if one of the statements is true\tx < 5 or x < 4\n",
        "- `not`\tReverse the result, returns False if the result is true"
      ]
    },
    {
      "cell_type": "code",
      "execution_count": null,
      "id": "6021e7cd",
      "metadata": {
        "id": "6021e7cd",
        "outputId": "feb1a9c4-1b45-453e-d406-7ccd9a283311"
      },
      "outputs": [
        {
          "data": {
            "text/plain": [
              "True"
            ]
          },
          "execution_count": 6,
          "metadata": {},
          "output_type": "execute_result"
        }
      ],
      "source": [
        "x = True\n",
        "y = False\n",
        "x or y"
      ]
    },
    {
      "cell_type": "code",
      "execution_count": null,
      "id": "29263f96",
      "metadata": {
        "id": "29263f96",
        "outputId": "f5705290-7932-4713-dab2-383cabaa64b3"
      },
      "outputs": [
        {
          "data": {
            "text/plain": [
              "False"
            ]
          },
          "execution_count": 9,
          "metadata": {},
          "output_type": "execute_result"
        }
      ],
      "source": [
        "x and y"
      ]
    },
    {
      "cell_type": "code",
      "execution_count": null,
      "id": "05abf3b1",
      "metadata": {
        "id": "05abf3b1",
        "outputId": "8be37f10-cfcd-4385-a5b8-228764f83e2d"
      },
      "outputs": [
        {
          "data": {
            "text/plain": [
              "False"
            ]
          },
          "execution_count": 12,
          "metadata": {},
          "output_type": "execute_result"
        }
      ],
      "source": [
        "not x"
      ]
    },
    {
      "cell_type": "code",
      "execution_count": null,
      "id": "7b444ff8",
      "metadata": {
        "id": "7b444ff8",
        "outputId": "300f8357-a476-4dd5-831b-cc3e3e25f4ad"
      },
      "outputs": [
        {
          "data": {
            "text/plain": [
              "True"
            ]
          },
          "execution_count": 15,
          "metadata": {},
          "output_type": "execute_result"
        }
      ],
      "source": [
        "not y"
      ]
    },
    {
      "cell_type": "markdown",
      "id": "54db517e",
      "metadata": {
        "id": "54db517e"
      },
      "source": [
        "### Membership Operators\n",
        "- `in` \tReturns True if a sequence with the specified value is present in the object\n",
        "- `not in`\tReturns True if a sequence with the specified value is not present in the object"
      ]
    },
    {
      "cell_type": "code",
      "execution_count": null,
      "id": "eb6d6464",
      "metadata": {
        "id": "eb6d6464",
        "outputId": "9c1f43a6-2295-40d0-aae3-1c6c01f3347c"
      },
      "outputs": [
        {
          "data": {
            "text/plain": [
              "True"
            ]
          },
          "execution_count": 18,
          "metadata": {},
          "output_type": "execute_result"
        }
      ],
      "source": [
        "a = [1, 2, 3, 4, 5]\n",
        "b = 4\n",
        "\n",
        "b in a"
      ]
    },
    {
      "cell_type": "code",
      "execution_count": null,
      "id": "23972309",
      "metadata": {
        "id": "23972309",
        "outputId": "e4cf8197-d719-4561-d2ee-2f3c3e2bd387"
      },
      "outputs": [
        {
          "data": {
            "text/plain": [
              "True"
            ]
          },
          "execution_count": 19,
          "metadata": {},
          "output_type": "execute_result"
        }
      ],
      "source": [
        "c = [2, 3, 4]\n",
        "\n",
        "c not in a"
      ]
    },
    {
      "cell_type": "code",
      "execution_count": null,
      "id": "15e8c91a",
      "metadata": {
        "id": "15e8c91a",
        "outputId": "f6e7c301-8fa0-461a-dba8-3d3a21890af0"
      },
      "outputs": [
        {
          "data": {
            "text/plain": [
              "[1, 2, 3, 4, 5, [2, 3, 4]]"
            ]
          },
          "execution_count": 20,
          "metadata": {},
          "output_type": "execute_result"
        }
      ],
      "source": [
        "a.append([2, 3, 4])\n",
        "a"
      ]
    },
    {
      "cell_type": "code",
      "execution_count": null,
      "id": "336bb226",
      "metadata": {
        "id": "336bb226",
        "outputId": "60dfa7d5-044a-49e1-f0f8-9e0c9202822c"
      },
      "outputs": [
        {
          "data": {
            "text/plain": [
              "True"
            ]
          },
          "execution_count": 21,
          "metadata": {},
          "output_type": "execute_result"
        }
      ],
      "source": [
        "c in a"
      ]
    },
    {
      "cell_type": "markdown",
      "id": "d7c98cc2",
      "metadata": {
        "id": "d7c98cc2"
      },
      "source": [
        "## Conditional statements\n",
        "Frequently, a program needs to skip over some statements, execute a series of statements repetitively, or choose between alternate sets of statements to execute.\n",
        "\n",
        "That is where control structures come in. A control structure directs the order of execution of the statements in a program\n",
        "\n",
        "### For Loops\n",
        "Will iterate over a list of values, executing an action until all elements are looped over"
      ]
    },
    {
      "cell_type": "code",
      "execution_count": null,
      "id": "6935c5ca",
      "metadata": {
        "id": "6935c5ca",
        "outputId": "69a2d6a2-7e1e-4d99-edad-94faa222d1e6"
      },
      "outputs": [
        {
          "name": "stdout",
          "output_type": "stream",
          "text": [
            "Mary\n",
            "Joseph\n",
            "Gerard\n",
            "Tom\n"
          ]
        }
      ],
      "source": [
        "# Iterate over names in a list\n",
        "names = ['Mary', 'Joseph', 'Gerard', 'Tom']\n",
        "\n",
        "for name in names:\n",
        "    print(name)"
      ]
    },
    {
      "cell_type": "markdown",
      "id": "3b61579d",
      "metadata": {
        "id": "3b61579d"
      },
      "source": [
        "In the previous code, we use `name` as a variable to loop over the name list, we then print the name. Notice the `:` after the for statement, this is part of the `for` syntax. Also notice the indentation (white space) after the semicolon, Python uses whitespace to denote blocks, in other languages `{}` are used."
      ]
    },
    {
      "cell_type": "code",
      "execution_count": null,
      "id": "25ac4799",
      "metadata": {
        "id": "25ac4799",
        "outputId": "30f7ab40-b9f6-4ae1-9a93-81be885c9446"
      },
      "outputs": [
        {
          "name": "stdout",
          "output_type": "stream",
          "text": [
            "J\n",
            "o\n",
            "n\n",
            " \n",
            "D\n",
            "o\n",
            "e\n"
          ]
        }
      ],
      "source": [
        "# You can also loop over strings and other collections\n",
        "for letter in 'Jon Doe':\n",
        "    print(letter)"
      ]
    },
    {
      "cell_type": "code",
      "execution_count": null,
      "id": "073f344e",
      "metadata": {
        "id": "073f344e",
        "outputId": "19c7b9fb-edea-4553-8f63-11c3ac4a49a9"
      },
      "outputs": [
        {
          "name": "stdout",
          "output_type": "stream",
          "text": [
            "2-4-6-8-10-"
          ]
        }
      ],
      "source": [
        "for N in [2, 4, 6, 8, 10]:\n",
        "    print(N, end='-')"
      ]
    },
    {
      "cell_type": "markdown",
      "id": "6c4ea38a",
      "metadata": {
        "id": "6c4ea38a"
      },
      "source": [
        "Notice the previous block used a sequence, in this case a list we looped over. We use the `in` operator to link them together. More precisely, the list in this case is an *iterator*, a generalized sequence we can loop over.\n",
        "\n",
        "One of the most common used *iterators* is the `range` object, which generates a sequence of numbers"
      ]
    },
    {
      "cell_type": "code",
      "execution_count": null,
      "id": "a08defef",
      "metadata": {
        "id": "a08defef",
        "outputId": "01f5b8cb-b9cd-4f5e-9511-f99a9abd3852"
      },
      "outputs": [
        {
          "name": "stdout",
          "output_type": "stream",
          "text": [
            "0 1 2 "
          ]
        }
      ],
      "source": [
        "for i in range(3):\n",
        "    print(i, end=' ')"
      ]
    },
    {
      "cell_type": "markdown",
      "id": "6253eaf8",
      "metadata": {
        "id": "6253eaf8"
      },
      "source": [
        "Range starts at zero by default, and the end of the range is not included. Range can also have other values"
      ]
    },
    {
      "cell_type": "code",
      "execution_count": null,
      "id": "423d4635",
      "metadata": {
        "id": "423d4635",
        "outputId": "460258bb-f1b6-43f1-df24-9cb64c53ecf9"
      },
      "outputs": [
        {
          "data": {
            "text/plain": [
              "[5, 6, 7, 8, 9]"
            ]
          },
          "execution_count": 34,
          "metadata": {},
          "output_type": "execute_result"
        }
      ],
      "source": [
        "# range from 5 to 10, non inclusive\n",
        "list(range(5, 10))"
      ]
    },
    {
      "cell_type": "code",
      "execution_count": null,
      "id": "c87cd13b",
      "metadata": {
        "id": "c87cd13b",
        "outputId": "cc14950a-0f8d-42d9-acad-857d4ccec62b"
      },
      "outputs": [
        {
          "data": {
            "text/plain": [
              "[0, 5, 10, 15, 20]"
            ]
          },
          "execution_count": 38,
          "metadata": {},
          "output_type": "execute_result"
        }
      ],
      "source": [
        "# range from 0 to 10 by 2\n",
        "list(range(0, 21, 5))"
      ]
    },
    {
      "cell_type": "markdown",
      "id": "7b45b8d0",
      "metadata": {
        "id": "7b45b8d0"
      },
      "source": [
        "### A quick review of iterators\n",
        "Many times we need to repeate a similar calculation, in an automated fashion. One of Python answers to this is using the `iterator` object. This object contains a sequence, that will output the next value as long as it is valid. This is generally easily understandable with a list."
      ]
    },
    {
      "cell_type": "code",
      "execution_count": null,
      "id": "d9c88ac4",
      "metadata": {
        "id": "d9c88ac4",
        "outputId": "aa3f31f4-b75c-4354-9e85-5ebea7b55d7c"
      },
      "outputs": [
        {
          "name": "stdout",
          "output_type": "stream",
          "text": [
            "2 4 6 8 "
          ]
        }
      ],
      "source": [
        "for value in [1, 3, 5, 7]:\n",
        "    print(value + 1, end=' ')"
      ]
    },
    {
      "cell_type": "markdown",
      "id": "8d6de198",
      "metadata": {
        "id": "8d6de198"
      },
      "source": [
        "We can create an `iterator` object from this previous list, and will output the next value with the built in function `next`"
      ]
    },
    {
      "cell_type": "code",
      "execution_count": null,
      "id": "e257258c",
      "metadata": {
        "id": "e257258c",
        "outputId": "4bb7ea5c-2a67-4922-c4b2-6d0b0af2dd24"
      },
      "outputs": [
        {
          "data": {
            "text/plain": [
              "<list_iterator at 0x289894fa500>"
            ]
          },
          "execution_count": 40,
          "metadata": {},
          "output_type": "execute_result"
        }
      ],
      "source": [
        "# Iterator object\n",
        "iter([1, 3, 5, 7])"
      ]
    },
    {
      "cell_type": "code",
      "execution_count": null,
      "id": "dfc4ece7",
      "metadata": {
        "id": "dfc4ece7"
      },
      "outputs": [],
      "source": [
        "I = iter([1, 3, 5, 7])"
      ]
    },
    {
      "cell_type": "code",
      "execution_count": null,
      "id": "906400ed",
      "metadata": {
        "id": "906400ed",
        "outputId": "785ffc18-c8af-44d7-e676-b0a948d8c020"
      },
      "outputs": [
        {
          "name": "stdout",
          "output_type": "stream",
          "text": [
            "1\n"
          ]
        }
      ],
      "source": [
        "print(next(I))"
      ]
    },
    {
      "cell_type": "code",
      "execution_count": null,
      "id": "191b807d",
      "metadata": {
        "id": "191b807d",
        "outputId": "f4668783-1ed9-439a-9cdb-acf70a7c289f"
      },
      "outputs": [
        {
          "name": "stdout",
          "output_type": "stream",
          "text": [
            "3\n"
          ]
        }
      ],
      "source": [
        "print(next(I))"
      ]
    },
    {
      "cell_type": "code",
      "execution_count": null,
      "id": "f130e256",
      "metadata": {
        "id": "f130e256",
        "outputId": "bd93201e-e856-4bde-cfd9-b109208fc671"
      },
      "outputs": [
        {
          "name": "stdout",
          "output_type": "stream",
          "text": [
            "5\n"
          ]
        }
      ],
      "source": [
        "print(next(I))"
      ]
    },
    {
      "cell_type": "code",
      "execution_count": null,
      "id": "8b89e972",
      "metadata": {
        "id": "8b89e972",
        "outputId": "cfc12ebb-452b-4073-b7a9-f99d9036255c"
      },
      "outputs": [
        {
          "name": "stdout",
          "output_type": "stream",
          "text": [
            "7\n"
          ]
        }
      ],
      "source": [
        "print(next(I))"
      ]
    },
    {
      "cell_type": "code",
      "execution_count": null,
      "id": "6439e9b3",
      "metadata": {
        "id": "6439e9b3",
        "outputId": "baf65073-1b36-4479-8824-453e0890093c"
      },
      "outputs": [
        {
          "ename": "StopIteration",
          "evalue": "",
          "output_type": "error",
          "traceback": [
            "\u001b[1;31m---------------------------------------------------------------------------\u001b[0m",
            "\u001b[1;31mStopIteration\u001b[0m                             Traceback (most recent call last)",
            "Input \u001b[1;32mIn [46]\u001b[0m, in \u001b[0;36m<module>\u001b[1;34m\u001b[0m\n\u001b[1;32m----> 1\u001b[0m \u001b[38;5;28mprint\u001b[39m(\u001b[38;5;28;43mnext\u001b[39;49m\u001b[43m(\u001b[49m\u001b[43mI\u001b[49m\u001b[43m)\u001b[49m)\n",
            "\u001b[1;31mStopIteration\u001b[0m: "
          ]
        }
      ],
      "source": [
        "print(next(I))"
      ]
    },
    {
      "cell_type": "markdown",
      "id": "f776578a",
      "metadata": {
        "id": "f776578a"
      },
      "source": [
        "With this in mind we can see a indirect relationship with the `list` object and the iterator `object`. Lets see and example with the `range` object again. `range` like a list exposes an iterator, and Python knows to treat it *as if it's a list*."
      ]
    },
    {
      "cell_type": "code",
      "execution_count": null,
      "id": "85cccffe",
      "metadata": {
        "id": "85cccffe",
        "outputId": "c72ec0bf-0488-4e7e-e386-bae60934b8c3"
      },
      "outputs": [
        {
          "data": {
            "text/plain": [
              "range(0, 10)"
            ]
          },
          "execution_count": 47,
          "metadata": {},
          "output_type": "execute_result"
        }
      ],
      "source": [
        "range(0, 10)"
      ]
    },
    {
      "cell_type": "code",
      "execution_count": null,
      "id": "32162e22",
      "metadata": {
        "id": "32162e22",
        "outputId": "281df268-4da4-4e14-c5f1-6b6b91c4f395"
      },
      "outputs": [
        {
          "data": {
            "text/plain": [
              "<range_iterator at 0x28989c820f0>"
            ]
          },
          "execution_count": 48,
          "metadata": {},
          "output_type": "execute_result"
        }
      ],
      "source": [
        "iter(range(10))"
      ]
    },
    {
      "cell_type": "code",
      "execution_count": null,
      "id": "887d3afa",
      "metadata": {
        "id": "887d3afa",
        "outputId": "01d8cc41-e0eb-4274-840e-a3893d6f05a8"
      },
      "outputs": [
        {
          "name": "stdout",
          "output_type": "stream",
          "text": [
            "0*1*2*3*4*5*6*7*8*9*"
          ]
        }
      ],
      "source": [
        "for i in range(10):\n",
        "    print(i, end='*')"
      ]
    },
    {
      "cell_type": "markdown",
      "id": "d6ead6ff",
      "metadata": {
        "id": "d6ead6ff"
      },
      "source": [
        "The benefit of having an iterator is the list if never explicitely created. We can see this by doing a range calculation that would otherwise result in an error.\n",
        "\n",
        "If the following code would actually create a list of a trillion values it will use too much memory and our program would crash."
      ]
    },
    {
      "cell_type": "code",
      "execution_count": null,
      "id": "e4a13147",
      "metadata": {
        "id": "e4a13147",
        "outputId": "95a4edc8-a02b-48a5-9cc3-8edb75117ffa"
      },
      "outputs": [
        {
          "name": "stdout",
          "output_type": "stream",
          "text": [
            "0\n",
            "1\n",
            "2\n",
            "3\n",
            "4\n",
            "5\n",
            "6\n",
            "7\n",
            "8\n",
            "9\n"
          ]
        }
      ],
      "source": [
        "n = 10 ** 12\n",
        "for i in range(n):\n",
        "    if i >= 10:\n",
        "        break\n",
        "    print(i)"
      ]
    },
    {
      "cell_type": "markdown",
      "id": "ebbc5d92",
      "metadata": {
        "id": "ebbc5d92"
      },
      "source": [
        "We also have the `count` object, which acts as a infinite range iterator.\n",
        "\n",
        "If this iterator is not stopped it will continue counting up to infinity. That's why we add the `break` statement here."
      ]
    },
    {
      "cell_type": "code",
      "execution_count": null,
      "id": "94dc99c0",
      "metadata": {
        "id": "94dc99c0",
        "outputId": "2b98db84-6bea-40f7-c4ef-7e9feee59f6b"
      },
      "outputs": [
        {
          "name": "stdout",
          "output_type": "stream",
          "text": [
            "0\n",
            "1\n",
            "2\n",
            "3\n",
            "4\n",
            "5\n",
            "6\n",
            "7\n",
            "8\n",
            "9\n"
          ]
        }
      ],
      "source": [
        "# import itertools functionality\n",
        "from itertools import count\n",
        "\n",
        "for i in count():\n",
        "    if i >= 10:\n",
        "        break\n",
        "    print(i)"
      ]
    },
    {
      "cell_type": "markdown",
      "id": "25fb40a6",
      "metadata": {
        "id": "25fb40a6"
      },
      "source": [
        "### The if statement\n",
        "`if <expr>:\n",
        "    <statement>`\n",
        "    \n",
        "- <expr> is evaluated in a Boolean context\n",
        "- <statement> is a valid Python statement and must be indented\n",
        "- Notice the `:`, this is required"
      ]
    },
    {
      "cell_type": "code",
      "execution_count": null,
      "id": "f9e24d81",
      "metadata": {
        "id": "f9e24d81"
      },
      "outputs": [],
      "source": [
        "x = 3\n",
        "y = 10"
      ]
    },
    {
      "cell_type": "code",
      "execution_count": null,
      "id": "1e77ae67",
      "metadata": {
        "id": "1e77ae67",
        "outputId": "a51a7ad7-481f-46d0-8a09-9a393c5f11a6"
      },
      "outputs": [
        {
          "name": "stdout",
          "output_type": "stream",
          "text": [
            "x is less than y\n"
          ]
        }
      ],
      "source": [
        "if x < y:\n",
        "    print('x is less than y')"
      ]
    },
    {
      "cell_type": "code",
      "execution_count": null,
      "id": "dcba6d46",
      "metadata": {
        "id": "dcba6d46",
        "outputId": "72bf9693-b3fc-4d75-8332-5840ff8ab207"
      },
      "outputs": [
        {
          "data": {
            "text/plain": [
              "False"
            ]
          },
          "execution_count": 54,
          "metadata": {},
          "output_type": "execute_result"
        }
      ],
      "source": [
        "x > y"
      ]
    },
    {
      "cell_type": "code",
      "execution_count": null,
      "id": "b27629d9",
      "metadata": {
        "id": "b27629d9"
      },
      "outputs": [],
      "source": [
        "if x > y:\n",
        "    print('x is bigger than y')"
      ]
    },
    {
      "cell_type": "code",
      "execution_count": null,
      "id": "6bb45218",
      "metadata": {
        "id": "6bb45218",
        "outputId": "acbd43fe-720b-48c6-a2ca-c07c530d45b5"
      },
      "outputs": [
        {
          "name": "stdout",
          "output_type": "stream",
          "text": [
            "Its there\n"
          ]
        }
      ],
      "source": [
        "if 'ello' in 'hello':\n",
        "    print('Its there')"
      ]
    },
    {
      "cell_type": "code",
      "execution_count": null,
      "id": "a2c3f88f",
      "metadata": {
        "id": "a2c3f88f",
        "outputId": "e38574ab-290a-4aa1-b44a-76ba58779cfc"
      },
      "outputs": [
        {
          "name": "stdout",
          "output_type": "stream",
          "text": [
            "lo is in hello\n",
            "x is less than y\n",
            "Statement outside of the second condition\n"
          ]
        }
      ],
      "source": [
        "# We can also nest if statements, remember indentations\n",
        "if 'lo' in 'hello':\n",
        "    print('lo is in hello')\n",
        "\n",
        "    if x < y:\n",
        "        print('x is less than y')\n",
        "    print('Statement outside of the second condition')"
      ]
    },
    {
      "cell_type": "code",
      "execution_count": null,
      "id": "879f1d9c",
      "metadata": {
        "id": "879f1d9c",
        "outputId": "2981f2c5-48e4-48bf-b985-af2d58f9b858"
      },
      "outputs": [
        {
          "name": "stdout",
          "output_type": "stream",
          "text": [
            "lo is in hello\n",
            "Statement outside of the second condition\n"
          ]
        }
      ],
      "source": [
        "# What if x is not less than y?\n",
        "x = 100\n",
        "if 'lo' in 'hello': # this is true\n",
        "    print('lo is in hello')\n",
        "\n",
        "    if x < y: # this is false\n",
        "        print('x is less than y')\n",
        "    print('Statement outside of the second condition') # this will still run, as it is outside the if statement"
      ]
    },
    {
      "cell_type": "markdown",
      "id": "99ee3f21",
      "metadata": {
        "id": "99ee3f21"
      },
      "source": [
        "Nested for loops are also possible"
      ]
    },
    {
      "cell_type": "code",
      "execution_count": null,
      "id": "12fb3c76",
      "metadata": {
        "id": "12fb3c76",
        "outputId": "51258a7b-1bb8-4b00-962a-b3df3936341e"
      },
      "outputs": [
        {
          "name": "stdout",
          "output_type": "stream",
          "text": [
            "a\n",
            "1\n",
            "2\n",
            "3\n",
            "b\n",
            "1\n",
            "2\n",
            "3\n",
            "c\n",
            "1\n",
            "2\n",
            "3\n"
          ]
        }
      ],
      "source": [
        "list1 = [\"a\", \"b\", \"c\"]\n",
        "list2 = [\"1\", \"2\", \"3\"]\n",
        "\n",
        "for x in list1:\n",
        "    print(x)\n",
        "    for y in list2:\n",
        "        print(y)"
      ]
    },
    {
      "cell_type": "markdown",
      "id": "b3f82f7d",
      "metadata": {
        "id": "b3f82f7d"
      },
      "source": [
        "Range function:\n",
        "Returns a sequence of numbers in the form `range(start, stop, step)` it can be used in combination with for loops"
      ]
    },
    {
      "cell_type": "code",
      "execution_count": null,
      "id": "dd623921",
      "metadata": {
        "id": "dd623921",
        "outputId": "180f067b-3ad1-4c5a-b2f0-77f82eca6058"
      },
      "outputs": [
        {
          "name": "stdout",
          "output_type": "stream",
          "text": [
            "0\n",
            "1\n",
            "2\n",
            "3\n",
            "4\n"
          ]
        }
      ],
      "source": [
        "for i in range(0, 5):\n",
        "    print(i)"
      ]
    },
    {
      "cell_type": "code",
      "execution_count": null,
      "id": "a680b133",
      "metadata": {
        "id": "a680b133",
        "outputId": "c8e193c0-e2bc-4393-851f-44f50a4a96ff"
      },
      "outputs": [
        {
          "name": "stdout",
          "output_type": "stream",
          "text": [
            "0\n",
            "2\n",
            "4\n",
            "6\n",
            "8\n"
          ]
        }
      ],
      "source": [
        "for i in range(0, 10, 2):\n",
        "    print(i)"
      ]
    },
    {
      "cell_type": "markdown",
      "id": "1c0dfb7e",
      "metadata": {
        "id": "1c0dfb7e"
      },
      "source": [
        "### Optional Exercises\n",
        "\n",
        "1. Create a for loop that prints numbers from 1 to 20 in increments of 2 e.g. 2, 4, 6, 8, ...\n",
        "\n",
        "2. Create a for loop that prints from a list of words in a list. Create a second nested for loop that prints another word from a second list. Every word should from the first list shall be printed with every other word from the second list.\n",
        "\n",
        "`list_a = [\"chicken\", \"veggie\", \"meat\", \"ham\", \"cheese\", \"beef\", \"chocolate\"]`\n",
        "\n",
        "`list_b = [\"sandwich\", \"waffles\", \"pizza\", \"burrito\", \"soup\", \"salad\", \"smoothie\"]`\n",
        "\n",
        "Tip: You may want to use `range(len(list_a))` to iterate over the length of the list.\n",
        "\n",
        "Example output for exercise 2:\n",
        "\n",
        "`chicken sandwich\n",
        "chicken waffles\n",
        "chicken pizza\n",
        "chicken burrito...`\n",
        "\n",
        "`veggie sandwich\n",
        "veggie waffles\n",
        "veggie pizza\n",
        "veggie burrito...`"
      ]
    },
    {
      "cell_type": "markdown",
      "id": "6bed564d",
      "metadata": {
        "id": "6bed564d"
      },
      "source": [
        "### Combining for and if statments\n",
        "- We can combine for loops and if statements to do different things when conditions are met.\n",
        "- In a for loop the `break` statement will stop the loop\n",
        "- In a for loop the `continue` statement will skip the element"
      ]
    },
    {
      "cell_type": "code",
      "execution_count": null,
      "id": "b26fb2db",
      "metadata": {
        "id": "b26fb2db",
        "outputId": "a0362815-807b-4268-a767-992a36c202e0"
      },
      "outputs": [
        {
          "name": "stdout",
          "output_type": "stream",
          "text": [
            "car\n",
            "bike\n",
            "truck\n",
            "plane\n",
            "boat\n"
          ]
        }
      ],
      "source": [
        "transport = ['car', 'bike', 'truck', 'plane', 'boat']\n",
        "\n",
        "for element in transport:\n",
        "    print(element)"
      ]
    },
    {
      "cell_type": "code",
      "execution_count": null,
      "id": "e7df5860",
      "metadata": {
        "id": "e7df5860",
        "outputId": "6efbea3f-bb70-43d6-a2ba-216c9c0f94a0"
      },
      "outputs": [
        {
          "name": "stdout",
          "output_type": "stream",
          "text": [
            "car\n",
            "bike\n",
            "truck\n",
            "plane\n",
            "You can fly\n",
            "boat\n"
          ]
        }
      ],
      "source": [
        "for element in transport:\n",
        "    print(element)\n",
        "    if element == 'plane':\n",
        "        print('You can fly')"
      ]
    },
    {
      "cell_type": "code",
      "execution_count": null,
      "id": "35517fcc",
      "metadata": {
        "id": "35517fcc",
        "outputId": "f9c84643-c127-476d-96fa-49b081664727"
      },
      "outputs": [
        {
          "name": "stdout",
          "output_type": "stream",
          "text": [
            "car\n",
            "bike\n",
            "truck\n",
            "plane\n",
            "You can fly\n"
          ]
        }
      ],
      "source": [
        "# Break the loop if condition is met\n",
        "for element in transport:\n",
        "    print(element)\n",
        "    if element == 'plane':\n",
        "        print('You can fly')\n",
        "        break"
      ]
    },
    {
      "cell_type": "code",
      "execution_count": null,
      "id": "b76ff230",
      "metadata": {
        "id": "b76ff230",
        "outputId": "45ca1847-f58e-4b7b-b1b7-0f93b6a233e9"
      },
      "outputs": [
        {
          "name": "stdout",
          "output_type": "stream",
          "text": [
            "car\n",
            "truck\n",
            "plane\n",
            "boat\n"
          ]
        }
      ],
      "source": [
        "# Skip if condition is met\n",
        "for element in transport:\n",
        "    if element == 'bike':\n",
        "        continue\n",
        "    print(element)\n"
      ]
    },
    {
      "cell_type": "markdown",
      "id": "c6970a8d",
      "metadata": {
        "id": "c6970a8d"
      },
      "source": [
        "Else and elif clauses\n",
        "Sometimes you want to take a different path or do something different if other conditions are met. This is accomplished with an `else` clause.\n",
        "\n",
        "Branching executions can be accomplished by `elif` short for else if, will evaluate an expression and execute if True."
      ]
    },
    {
      "cell_type": "code",
      "execution_count": null,
      "id": "17477af6",
      "metadata": {
        "id": "17477af6",
        "outputId": "fb400373-cad1-424d-acd3-5408fed3c8b5"
      },
      "outputs": [
        {
          "name": "stdout",
          "output_type": "stream",
          "text": [
            "car\n",
            "You can drive\n",
            "bike\n",
            "You can drive\n",
            "truck\n",
            "You can drive\n",
            "plane\n",
            "You can fly\n",
            "boat\n",
            "You can float\n"
          ]
        }
      ],
      "source": [
        "for element in transport:\n",
        "    print(element)\n",
        "    if element == 'plane':\n",
        "        print('You can fly')\n",
        "    elif element == 'boat':\n",
        "        print('You can float')\n",
        "    else:\n",
        "        print('You can drive')"
      ]
    },
    {
      "cell_type": "markdown",
      "id": "85220a7a",
      "metadata": {
        "id": "85220a7a"
      },
      "source": [
        "## Optional exercise\n",
        "Write a program that takes two integer numbers and determines if the numbers are odd or even. Remember the `input()` and `%` function and operator.\n",
        "\n",
        "Additional exercise: do the same computation as above, but for a list of numbers using a `for` loop and `if` statements."
      ]
    },
    {
      "cell_type": "markdown",
      "id": "aee7968e",
      "metadata": {
        "id": "aee7968e"
      },
      "source": [
        "### Conditional expressions (ternary operator)\n",
        "This is different from the if statement forms listed above because it is not a control structure that directs the flow of program execution. It acts more like an operator that defines an expression. In the above example, <conditional_expr> is evaluated first. If it is true, the expression evaluates to <expr1>. If it is false, the expression evaluates to <expr2>.\n",
        "    \n",
        "- \\<conditional_expr> ? \\<expr1> : \\<expr2>"
      ]
    },
    {
      "cell_type": "code",
      "execution_count": null,
      "id": "22237e46",
      "metadata": {
        "id": "22237e46",
        "outputId": "bc17ccde-2c6c-459e-c87d-3d2e58c0268e"
      },
      "outputs": [
        {
          "name": "stdout",
          "output_type": "stream",
          "text": [
            "Lets  stay\n"
          ]
        }
      ],
      "source": [
        "rain = True\n",
        "print('Lets ', 'go outside' if not rain else 'stay')"
      ]
    },
    {
      "cell_type": "code",
      "execution_count": null,
      "id": "9b170387",
      "metadata": {
        "id": "9b170387",
        "outputId": "051d70d7-7d29-46d3-9282-f0178b31c2d1"
      },
      "outputs": [
        {
          "data": {
            "text/plain": [
              "'Bob'"
            ]
          },
          "execution_count": 69,
          "metadata": {},
          "output_type": "execute_result"
        }
      ],
      "source": [
        "name = 'Bob'\n",
        "who = 'Bob' if name == 'Bob' else 'Not Bob'\n",
        "who"
      ]
    },
    {
      "cell_type": "code",
      "execution_count": null,
      "id": "5a676237",
      "metadata": {
        "id": "5a676237",
        "outputId": "e77229d3-bbd0-4b3c-8c34-699d67bc82aa"
      },
      "outputs": [
        {
          "data": {
            "text/plain": [
              "'Not Bob'"
            ]
          },
          "execution_count": 70,
          "metadata": {},
          "output_type": "execute_result"
        }
      ],
      "source": [
        "name = 'Jane'\n",
        "who = 'Bob' if name == 'Bob' else 'Not Bob'\n",
        "who"
      ]
    },
    {
      "cell_type": "markdown",
      "id": "8536faa9",
      "metadata": {
        "id": "8536faa9"
      },
      "source": [
        "## While loops\n",
        "while \\<expr>:\n",
        "\n",
        "    <statement(s)>\n",
        "        \n",
        "<statement(s)> represents the block to be repeatedly executed, often referred to as the body of the loop. This is denoted with indentation, just as in an if statement.\n",
        "\n",
        "The controlling expression, <expr>, typically involves one or more variables that are initialized prior to starting the loop and then modified somewhere in the loop body.\n",
        "    \n",
        "While loops can also use `break` and `continue` statements. You can also use `else` statements once the condition is no longer true"
      ]
    },
    {
      "cell_type": "code",
      "execution_count": null,
      "id": "2a3797d0",
      "metadata": {
        "id": "2a3797d0",
        "outputId": "f67ff2f5-c40d-402d-84e9-12b00b488771"
      },
      "outputs": [
        {
          "name": "stdout",
          "output_type": "stream",
          "text": [
            "4\n",
            "3\n",
            "2\n",
            "1\n",
            "0\n"
          ]
        }
      ],
      "source": [
        "n = 5\n",
        "while n > 0:\n",
        "    n = n - 1\n",
        "    print(n)"
      ]
    },
    {
      "cell_type": "code",
      "execution_count": null,
      "id": "edf20339",
      "metadata": {
        "id": "edf20339",
        "outputId": "a9e90b0c-cc68-4329-d6a1-ea6ef71f9c68"
      },
      "outputs": [
        {
          "name": "stdout",
          "output_type": "stream",
          "text": [
            "Bruce\n",
            "Diana\n",
            "Derek\n",
            "Bob\n",
            "no more names\n"
          ]
        }
      ],
      "source": [
        "names = ['Bob', 'Derek', 'Diana', 'Bruce']\n",
        "while names:\n",
        "    print(names.pop())\n",
        "else:\n",
        "    print('no more names')"
      ]
    },
    {
      "cell_type": "markdown",
      "id": "3b4a7594",
      "metadata": {
        "id": "3b4a7594"
      },
      "source": [
        "## Exercises for participation credit\n",
        "Please complete the following exercises and upload your completed notebook to your Github repository for participation credit.\n",
        "\n",
        "1. Write a for loop that adds all numbers from 1 to 100\n",
        "2. Using the list `lst1=[\"Joe\", \"Sarah\", \"Mike\", \"Jess\", \"\", \"Matt\", \"\", \"Greg\"]` create a second list called `lst2`, iterate through the list and add the names to `lst2` only if the element is different to an empty string.\n",
        "3. Take 3 numbers from the user using `input()` save the numbers to a list. Take 3 more numbers from the user and save it to a second list. Iterate over both lists and multiply every number on the first list over every other number on the second list. Print the multiplication result only if the result is an even number, else print the words `The result is odd`."
      ]
    },
    {
      "cell_type": "code",
      "execution_count": null,
      "id": "63de2ad5",
      "metadata": {
        "id": "63de2ad5"
      },
      "outputs": [],
      "source": []
    }
  ],
  "metadata": {
    "kernelspec": {
      "display_name": "Python 3 (ipykernel)",
      "language": "python",
      "name": "python3"
    },
    "language_info": {
      "codemirror_mode": {
        "name": "ipython",
        "version": 3
      },
      "file_extension": ".py",
      "mimetype": "text/x-python",
      "name": "python",
      "nbconvert_exporter": "python",
      "pygments_lexer": "ipython3",
      "version": "3.10.4"
    },
    "colab": {
      "provenance": [],
      "include_colab_link": true
    }
  },
  "nbformat": 4,
  "nbformat_minor": 5
}