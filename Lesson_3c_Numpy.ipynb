{
  "cells": [
    {
      "cell_type": "markdown",
      "metadata": {
        "id": "view-in-github",
        "colab_type": "text"
      },
      "source": [
        "<a href=\"https://colab.research.google.com/github/aliawofford9317/LSAMP_Python_Course2024/blob/Valeria/Lesson_3c_Numpy.ipynb\" target=\"_parent\"><img src=\"https://colab.research.google.com/assets/colab-badge.svg\" alt=\"Open In Colab\"/></a>"
      ]
    },
    {
      "cell_type": "markdown",
      "id": "33e7cd2d",
      "metadata": {
        "id": "33e7cd2d"
      },
      "source": [
        "## Numpy\n",
        "\n",
        "Numpy is a numerical library that makes it easy to work with big arrays and matrices.\n",
        "\n",
        "It can be used to make fast arithmetic operations with matrixes. Pandas and Numpy are usually used together, as Pandas builds on NumPy functionality to work with DataFrames.\n",
        "\n",
        "Since Pandas is designed to work with Numpy, almost any Numpy function will work with Pandas Series and DataFrames, lets run some examples."
      ]
    },
    {
      "cell_type": "code",
      "execution_count": null,
      "id": "aa244662",
      "metadata": {
        "id": "aa244662"
      },
      "outputs": [],
      "source": [
        "import numpy as np\n",
        "import pandas as pd"
      ]
    },
    {
      "cell_type": "code",
      "source": [
        "def fetch_data():\n",
        "  import os, shutil\n",
        "  cwd = os.getcwd()\n",
        "  if os.path.exists(\"LSAMP_Python_Course2024\"):\n",
        "    shutil.rmtree(\"LSAMP_Python_Course2024\")\n",
        "  !git clone https://github.com/aliawofford9317/LSAMP_Python_Course2024.git\n",
        "  for file in os.listdir(\"LSAMP_Python_Course2024\"):\n",
        "    if file.endswith((\".txt\",\".csv\")):\n",
        "      shutil.copy(\"LSAMP_Python_Course2024/{}\".format(file),cwd)\n",
        "fetch_data()"
      ],
      "metadata": {
        "id": "zxMPiQt6DQdS"
      },
      "id": "zxMPiQt6DQdS",
      "execution_count": null,
      "outputs": []
    },
    {
      "cell_type": "code",
      "execution_count": null,
      "id": "e43fd3b8",
      "metadata": {
        "id": "e43fd3b8"
      },
      "outputs": [],
      "source": [
        "# Create a container for a pseudo random generator\n",
        "rng = np.random.RandomState()\n",
        "# Create a Pandas Series from our random generator\n",
        "series = pd.Series(rng.randint(0, 10, 4))\n",
        "series"
      ]
    },
    {
      "cell_type": "code",
      "execution_count": null,
      "id": "232435b3",
      "metadata": {
        "id": "232435b3"
      },
      "outputs": [],
      "source": [
        "# Create a Pandas Dataframe with our Numpy random generator\n",
        "# Integer numbers between 0 and 10, 3 rows and 4 columns\n",
        "df = pd.DataFrame(rng.randint(0, 10, (3, 4)),\n",
        "                 columns=['A', 'B', 'C', 'D'])\n",
        "df"
      ]
    },
    {
      "cell_type": "markdown",
      "id": "4d4ed5ee",
      "metadata": {
        "id": "4d4ed5ee"
      },
      "source": [
        "We can use a Numpy function on these Pandas objects and still keep our indexes for order"
      ]
    },
    {
      "cell_type": "code",
      "execution_count": null,
      "id": "5224bee5",
      "metadata": {
        "id": "5224bee5"
      },
      "outputs": [],
      "source": [
        "# Calculate e^x, where x is every element of our array\n",
        "np.exp(series)"
      ]
    },
    {
      "cell_type": "code",
      "execution_count": null,
      "id": "35bafe79",
      "metadata": {
        "id": "35bafe79"
      },
      "outputs": [],
      "source": [
        "# Calculate sin() of every value in the DataFrame multiplied by pi and divided by 4\n",
        "np.sin(df * np.pi / 4)"
      ]
    },
    {
      "cell_type": "markdown",
      "id": "e1c32e4e",
      "metadata": {
        "id": "e1c32e4e"
      },
      "source": [
        "### The Numpy Array\n",
        "Numpy provides mutidimentional arrays, with high efficiency and designed for scientific calculations.\n",
        "\n",
        "An array is similar to a list in Python and can be created from a list.\n",
        "\n",
        "Array have useful atributes we can use. Lets start by defining three random arrays, a single dimension, a two dimension and a tri dimensional array. We will use Numpy random number generator."
      ]
    },
    {
      "cell_type": "code",
      "execution_count": null,
      "id": "83817357",
      "metadata": {
        "id": "83817357"
      },
      "outputs": [],
      "source": [
        "# Import our Numpy package\n",
        "import numpy as np\n",
        "np.random.seed(0) #this will generate the same random arrays every time\n",
        "\n",
        "x1 = np.random.randint(10, size=6) # one dimension\n",
        "x2 = np.random.randint(10, size=(3, 4)) # two dimensions\n",
        "x3 = np.random.randint(10, size=(3, 4, 5)) # tri dimensional array"
      ]
    },
    {
      "cell_type": "markdown",
      "id": "10c39897",
      "metadata": {
        "id": "10c39897"
      },
      "source": [
        "All arrays have the `ndim` (number of dimensions) attribute, `shape` the size of each dimension, and `size` the total array size"
      ]
    },
    {
      "cell_type": "code",
      "execution_count": null,
      "id": "b09dda83",
      "metadata": {
        "id": "b09dda83"
      },
      "outputs": [],
      "source": [
        "print(\"x3 ndim:\", x3.ndim)\n",
        "print(\"x3 sahpe:\", x3.shape)\n",
        "print(\"x3 size:\", x3.size)"
      ]
    },
    {
      "cell_type": "markdown",
      "id": "6732b761",
      "metadata": {
        "id": "6732b761"
      },
      "source": [
        "Other attributes for arrays are `itemsize` shows the byte size of every element in the array, and `nbytes` shows the total bytes size of the array:"
      ]
    },
    {
      "cell_type": "code",
      "execution_count": null,
      "id": "fc1497b3",
      "metadata": {
        "id": "fc1497b3"
      },
      "outputs": [],
      "source": [
        "print(\"x3 itemsize:\", x3.itemsize, \"bytes\")\n",
        "print(\"x3 nbytes\", x3.nbytes, \"bytes\")"
      ]
    },
    {
      "cell_type": "markdown",
      "id": "cd72b1c5",
      "metadata": {
        "id": "cd72b1c5"
      },
      "source": [
        "#### Optional Exercise\n",
        "- Create a 3x3x3 array that contains all random numbers.\n",
        "- Using the previous array, square all the numbers in the array."
      ]
    },
    {
      "cell_type": "markdown",
      "id": "375bb4fc",
      "metadata": {
        "id": "375bb4fc"
      },
      "source": [
        "### Creating arrays with Numpy methods\n",
        "Specially for largers arrays we can use the more efficient methods from Numpy."
      ]
    },
    {
      "cell_type": "code",
      "execution_count": null,
      "id": "35422cd0",
      "metadata": {
        "id": "35422cd0"
      },
      "outputs": [],
      "source": [
        "# Create a length 10 integer array filled with zeros\n",
        "np.zeros(10, dtype=int)"
      ]
    },
    {
      "cell_type": "code",
      "execution_count": null,
      "id": "084f00c9",
      "metadata": {
        "id": "084f00c9"
      },
      "outputs": [],
      "source": [
        "# Create a 3x5 float array filled with ones\n",
        "np.ones((3, 5), dtype=float)"
      ]
    },
    {
      "cell_type": "code",
      "execution_count": null,
      "id": "75a5e0bc",
      "metadata": {
        "id": "75a5e0bc"
      },
      "outputs": [],
      "source": [
        "# Create a 3x5 array filled with 3.14\n",
        "np.full((3, 5), 3.14)"
      ]
    },
    {
      "cell_type": "code",
      "execution_count": null,
      "id": "3ae0beea",
      "metadata": {
        "id": "3ae0beea"
      },
      "outputs": [],
      "source": [
        "# Create an array filled with a linear sequence\n",
        "# Start at 0, end at 20, step size 2\n",
        "np.arange(0, 20, 2)"
      ]
    },
    {
      "cell_type": "code",
      "execution_count": null,
      "id": "db34ed9d",
      "metadata": {
        "id": "db34ed9d"
      },
      "outputs": [],
      "source": [
        "# Create an array of five values evenly spaced between 0 and 1\n",
        "np.linspace(0, 1, 5)"
      ]
    },
    {
      "cell_type": "code",
      "execution_count": null,
      "id": "04480d0a",
      "metadata": {
        "id": "04480d0a"
      },
      "outputs": [],
      "source": [
        "# Create a 3x3 array of uniformly distributed random values between 0 and 1\n",
        "np.random.random((3, 3))"
      ]
    },
    {
      "cell_type": "code",
      "execution_count": null,
      "id": "2dce3446",
      "metadata": {
        "id": "2dce3446"
      },
      "outputs": [],
      "source": [
        "# Create a 3x3 array of normally distributed random values\n",
        "# with mean 0 and standard deviation 1\n",
        "np.random.normal(0, 1, (3, 3))"
      ]
    },
    {
      "cell_type": "code",
      "execution_count": null,
      "id": "8b001f0f",
      "metadata": {
        "id": "8b001f0f"
      },
      "outputs": [],
      "source": [
        "# Create a 3x3 array of random integer in the interval [0, 10]\n",
        "np.random.randint(0, 10, (3, 3))"
      ]
    },
    {
      "cell_type": "code",
      "execution_count": null,
      "id": "be6db5ca",
      "metadata": {
        "id": "be6db5ca"
      },
      "outputs": [],
      "source": [
        "# Create a 3x3 identity matrix\n",
        "np.eye(3)"
      ]
    },
    {
      "cell_type": "code",
      "execution_count": null,
      "id": "7246c404",
      "metadata": {
        "id": "7246c404"
      },
      "outputs": [],
      "source": [
        "# Create an uninitialized array of three integers\n",
        "# The values will be whatever happens to already exist at that memory location\n",
        "np.empty(3)"
      ]
    },
    {
      "cell_type": "markdown",
      "id": "aa580ec3",
      "metadata": {
        "id": "aa580ec3"
      },
      "source": [
        "#### Array indexing\n",
        "Similar to Python lists we can access individual elements in the array. For single dimensional arrays we can use the indexing format using `[]`"
      ]
    },
    {
      "cell_type": "code",
      "execution_count": null,
      "id": "f8b243a5",
      "metadata": {
        "id": "f8b243a5"
      },
      "outputs": [],
      "source": [
        "x1"
      ]
    },
    {
      "cell_type": "code",
      "execution_count": null,
      "id": "6889691d",
      "metadata": {
        "id": "6889691d"
      },
      "outputs": [],
      "source": [
        "x1[0]"
      ]
    },
    {
      "cell_type": "code",
      "execution_count": null,
      "id": "d1658fee",
      "metadata": {
        "id": "d1658fee"
      },
      "outputs": [],
      "source": [
        "x1[4]"
      ]
    },
    {
      "cell_type": "code",
      "execution_count": null,
      "id": "0cd32e10",
      "metadata": {
        "id": "0cd32e10"
      },
      "outputs": [],
      "source": [
        "x1[-6]"
      ]
    },
    {
      "cell_type": "markdown",
      "id": "6d268527",
      "metadata": {
        "id": "6d268527"
      },
      "source": [
        "We can use a similar logic for multi dimensional arrays"
      ]
    },
    {
      "cell_type": "code",
      "execution_count": null,
      "id": "d3fd841c",
      "metadata": {
        "id": "d3fd841c"
      },
      "outputs": [],
      "source": [
        "x2"
      ]
    },
    {
      "cell_type": "code",
      "execution_count": null,
      "id": "c8b6f86b",
      "metadata": {
        "id": "c8b6f86b"
      },
      "outputs": [],
      "source": [
        "x2[0, 3] # Access row 0, column index 3"
      ]
    },
    {
      "cell_type": "code",
      "execution_count": null,
      "id": "97aff3e1",
      "metadata": {
        "id": "97aff3e1"
      },
      "outputs": [],
      "source": [
        "x2[2, -1] # Access row index 2, column index -1"
      ]
    },
    {
      "cell_type": "markdown",
      "id": "d6ae8509",
      "metadata": {
        "id": "d6ae8509"
      },
      "source": [
        "We can use the same logic to change values using array indexing"
      ]
    },
    {
      "cell_type": "code",
      "execution_count": null,
      "id": "125bab47",
      "metadata": {
        "id": "125bab47"
      },
      "outputs": [],
      "source": [
        "x2[2, -1] = 2"
      ]
    },
    {
      "cell_type": "markdown",
      "id": "1935bd53",
      "metadata": {
        "id": "1935bd53"
      },
      "source": [
        "#### Optional Exercise\n",
        "- Create a new array using `arange` this array should contain a total of 4 values.\n",
        "- Select only values in index 2 and index 4.\n",
        "- Change the value of index 3 to 99"
      ]
    },
    {
      "cell_type": "markdown",
      "id": "6ab321d4",
      "metadata": {
        "id": "6ab321d4"
      },
      "source": [
        "#### Sub arrays (slicing)\n",
        "We can also use a similar syntax to Python list slicing to access only parts of the array. The syntax goes as follows:\n",
        "\n",
        "`x[start:stop:step]`\n",
        "Where default start value = 0, stop is the non inclusive stop index, and step the number of items we want to count"
      ]
    },
    {
      "cell_type": "code",
      "execution_count": null,
      "id": "e9fffdca",
      "metadata": {
        "id": "e9fffdca"
      },
      "outputs": [],
      "source": [
        "x = np.arange(10)\n",
        "x"
      ]
    },
    {
      "cell_type": "code",
      "execution_count": null,
      "id": "a3f86d6d",
      "metadata": {
        "id": "a3f86d6d"
      },
      "outputs": [],
      "source": [
        "x[:5] # first five elements"
      ]
    },
    {
      "cell_type": "code",
      "execution_count": null,
      "id": "0ae14e3a",
      "metadata": {
        "id": "0ae14e3a"
      },
      "outputs": [],
      "source": [
        "x[5:] # elements starting from the fifth index"
      ]
    },
    {
      "cell_type": "code",
      "execution_count": null,
      "id": "c03943c1",
      "metadata": {
        "id": "c03943c1"
      },
      "outputs": [],
      "source": [
        "x[4:7] # elements between 4 and non inclusive 7"
      ]
    },
    {
      "cell_type": "code",
      "execution_count": null,
      "id": "f2118cd2",
      "metadata": {
        "id": "f2118cd2"
      },
      "outputs": [],
      "source": [
        "x[::2] # all elements but step size 2"
      ]
    },
    {
      "cell_type": "code",
      "execution_count": null,
      "id": "cf0e7875",
      "metadata": {
        "id": "cf0e7875"
      },
      "outputs": [],
      "source": [
        "x[1::2] # elements every two steps, starting from index 1"
      ]
    },
    {
      "cell_type": "markdown",
      "id": "fc4116ed",
      "metadata": {
        "id": "fc4116ed"
      },
      "source": [
        "We can also use negative step index. In this case the default start and stop values are inverted. This makes it a convenient way to invert an array."
      ]
    },
    {
      "cell_type": "code",
      "execution_count": null,
      "id": "c51433ad",
      "metadata": {
        "id": "c51433ad"
      },
      "outputs": [],
      "source": [
        "x[::-1] # reverse the array"
      ]
    },
    {
      "cell_type": "code",
      "execution_count": null,
      "id": "679b7a8e",
      "metadata": {
        "id": "679b7a8e"
      },
      "outputs": [],
      "source": [
        "x[5::-2] # inverted array starting from the fifth index at minus two step interval"
      ]
    },
    {
      "cell_type": "markdown",
      "id": "5670d312",
      "metadata": {
        "id": "5670d312"
      },
      "source": [
        "We can also select multi dimension sectors of an array. The syntax is similar, with every sector separated by a comma"
      ]
    },
    {
      "cell_type": "code",
      "execution_count": null,
      "id": "592911bc",
      "metadata": {
        "id": "592911bc"
      },
      "outputs": [],
      "source": [
        "x2"
      ]
    },
    {
      "cell_type": "code",
      "execution_count": null,
      "id": "a64ef513",
      "metadata": {
        "id": "a64ef513"
      },
      "outputs": [],
      "source": [
        "x2[:2, :3] # rows with index 0 and 1, and columns with index 0, 1 and 2"
      ]
    },
    {
      "cell_type": "code",
      "execution_count": null,
      "id": "48a6e77d",
      "metadata": {
        "id": "48a6e77d"
      },
      "outputs": [],
      "source": [
        "x2[:3, ::2] # all rows but step size 2"
      ]
    },
    {
      "cell_type": "markdown",
      "id": "0bec0e6f",
      "metadata": {
        "id": "0bec0e6f"
      },
      "source": [
        "#### Reshaping arrays\n",
        "Another useful operation is reshaping, we can use the `reshape()` method. If we wanted to reshape an array by a 3 x 3 array we can use the following syntax"
      ]
    },
    {
      "cell_type": "code",
      "execution_count": null,
      "id": "dd3e54d6",
      "metadata": {
        "id": "dd3e54d6"
      },
      "outputs": [],
      "source": [
        "grid = np.arange(1, 10).reshape((3, 3))\n",
        "grid"
      ]
    },
    {
      "cell_type": "markdown",
      "id": "103616e1",
      "metadata": {
        "id": "103616e1"
      },
      "source": [
        "For this to work the size of the initial array must match the reshaped array.\n",
        "\n",
        "Another common form of reshaping is converting an unidimensional array of rows or columns. We can either use `reshape` or the `nexaxis` keyword inside a slicing operation"
      ]
    },
    {
      "cell_type": "code",
      "execution_count": null,
      "id": "e3a38488",
      "metadata": {
        "id": "e3a38488"
      },
      "outputs": [],
      "source": [
        "x = np.array([1, 2, 3])\n",
        "\n",
        "# row vector via reshape\n",
        "x.reshape(1, 3)"
      ]
    },
    {
      "cell_type": "code",
      "execution_count": null,
      "id": "e8948177",
      "metadata": {
        "id": "e8948177"
      },
      "outputs": [],
      "source": [
        "# row vector via newaxis\n",
        "x[np.newaxis, :]"
      ]
    },
    {
      "cell_type": "code",
      "execution_count": null,
      "id": "c906262d",
      "metadata": {
        "id": "c906262d"
      },
      "outputs": [],
      "source": [
        "# column vector via reshape\n",
        "x.reshape((3, 1))"
      ]
    },
    {
      "cell_type": "code",
      "execution_count": null,
      "id": "34c1ba40",
      "metadata": {
        "id": "34c1ba40"
      },
      "outputs": [],
      "source": [
        "# column vector via newaxis\n",
        "x[:, np.newaxis]"
      ]
    },
    {
      "cell_type": "markdown",
      "id": "1f15b0e7",
      "metadata": {
        "id": "1f15b0e7"
      },
      "source": [
        "#### Optional exercise\n",
        "- Create a new 4x4 array.\n",
        "- Select and print only the first two rows.\n",
        "- Select and print only the last two columns.\n",
        "- Select only the last two rows and first two columns.\n",
        "- Reshape the array into a 8x2 array."
      ]
    },
    {
      "cell_type": "markdown",
      "id": "f80ed534",
      "metadata": {
        "id": "f80ed534"
      },
      "source": [
        "#### Array concatenation and division\n",
        "We can also combine multiple arrays into one and vice versa\n",
        "\n",
        "Concatenation can be achieved using the `np.concatenate`, `np.vstack` and `np.hstack`. `np.concatenate` takes a list of arrays as its first argument"
      ]
    },
    {
      "cell_type": "code",
      "execution_count": null,
      "id": "aca79f3c",
      "metadata": {
        "id": "aca79f3c"
      },
      "outputs": [],
      "source": [
        "x = np.array([1, 2, 3]) # create an array from a list\n",
        "y = np.array([3, 2, 1]) # create a second array from a list\n",
        "np.concatenate([x, y]) # array list to concatenate"
      ]
    },
    {
      "cell_type": "code",
      "execution_count": null,
      "id": "b1ae7000",
      "metadata": {
        "id": "b1ae7000"
      },
      "outputs": [],
      "source": [
        "# we can concatenate more than one array at a time\n",
        "z = [99, 88, 77]\n",
        "print(np.concatenate([x, y, z]))"
      ]
    },
    {
      "cell_type": "markdown",
      "id": "704c9f27",
      "metadata": {
        "id": "704c9f27"
      },
      "source": [
        "We can use the same logic for multidimensional arrays"
      ]
    },
    {
      "cell_type": "code",
      "execution_count": null,
      "id": "9ee83245",
      "metadata": {
        "id": "9ee83245"
      },
      "outputs": [],
      "source": [
        "grid = np.array([[1, 2, 3],\n",
        "                [4, 5, 6]])\n",
        "np.concatenate([grid, grid]) # concatenate on the first axis. Rows"
      ]
    },
    {
      "cell_type": "code",
      "execution_count": null,
      "id": "3a224c6d",
      "metadata": {
        "id": "3a224c6d"
      },
      "outputs": [],
      "source": [
        "grid"
      ]
    },
    {
      "cell_type": "code",
      "execution_count": null,
      "id": "816d430c",
      "metadata": {
        "id": "816d430c"
      },
      "outputs": [],
      "source": [
        "# Concatenate on the second axis (zero indexed)\n",
        "np.concatenate([grid, grid], axis=1) # concatenate on columns"
      ]
    },
    {
      "cell_type": "markdown",
      "id": "b7ae51f9",
      "metadata": {
        "id": "b7ae51f9"
      },
      "source": [
        "To work with diferent sized arrays it may be easier to work with `np.vstack` vertical stack, and `np.hstack` horizontal stack"
      ]
    },
    {
      "cell_type": "code",
      "execution_count": null,
      "id": "fde98bad",
      "metadata": {
        "id": "fde98bad"
      },
      "outputs": [],
      "source": [
        "x = np.array([1, 2, 3])\n",
        "grid = np.array([[9, 8, 7],\n",
        "                [6, 5, 4]])\n",
        "# stack vertically\n",
        "np.vstack([x, grid])"
      ]
    },
    {
      "cell_type": "code",
      "execution_count": null,
      "id": "5221e2ed",
      "metadata": {
        "id": "5221e2ed"
      },
      "outputs": [],
      "source": [
        "# stack horizontally\n",
        "y = np.array([[99],\n",
        "              [99]])\n",
        "np.hstack([grid, y])"
      ]
    },
    {
      "cell_type": "markdown",
      "id": "9feb1cfa",
      "metadata": {
        "id": "9feb1cfa"
      },
      "source": [
        "#### Split arrays\n",
        "Finally we can split arrays using the `np.split`, `np.hplit` and `np.vsplit`. For each of these we need to pass a list of indexes that divide/split our array"
      ]
    },
    {
      "cell_type": "code",
      "execution_count": null,
      "id": "797524e4",
      "metadata": {
        "id": "797524e4"
      },
      "outputs": [],
      "source": [
        "x = [1, 2, 3, 99, 88, 77, 4, 5, 6]\n",
        "x1, x2, x3 = np.split(x, [3, 5]) # split at index 3 and 5, non inclusive\n",
        "print(x1, x2, x3)"
      ]
    },
    {
      "cell_type": "markdown",
      "id": "e5e53a06",
      "metadata": {
        "id": "e5e53a06"
      },
      "source": [
        "Observe that N division/split points lead to N + 1 sub arrays. Similarly `np.hsplit` and `np.vsplit` can be used"
      ]
    },
    {
      "cell_type": "code",
      "execution_count": null,
      "id": "b3efd34f",
      "metadata": {
        "id": "b3efd34f"
      },
      "outputs": [],
      "source": [
        "grid = np.arange(16).reshape((4, 4))"
      ]
    },
    {
      "cell_type": "code",
      "execution_count": null,
      "id": "af0e782b",
      "metadata": {
        "id": "af0e782b"
      },
      "outputs": [],
      "source": [
        "grid"
      ]
    },
    {
      "cell_type": "code",
      "execution_count": null,
      "id": "76bafa23",
      "metadata": {
        "id": "76bafa23"
      },
      "outputs": [],
      "source": [
        "upper, lower = np.vsplit(grid, [2])\n",
        "print(upper)\n",
        "print(lower)"
      ]
    },
    {
      "cell_type": "code",
      "execution_count": null,
      "id": "4a4474be",
      "metadata": {
        "id": "4a4474be"
      },
      "outputs": [],
      "source": [
        "left, right = np.hsplit(grid, [2])\n",
        "print(left)\n",
        "print(right)"
      ]
    },
    {
      "cell_type": "markdown",
      "id": "ec8b4ee0",
      "metadata": {
        "id": "ec8b4ee0"
      },
      "source": [
        "### Universal Functions\n",
        "Next we will look at why Numpy is important for data science and working with arrays.\n",
        "\n",
        "The key to making computation with Numpy very fast is using vectorized operations with Numpy, they key to this is using Numpy Universal Functions.\n",
        "\n",
        "Here is a speed comparison between a traditional for loop and a vectorized operation in Numpy using and array that contains a million values."
      ]
    },
    {
      "cell_type": "code",
      "execution_count": null,
      "id": "7a24439a",
      "metadata": {
        "id": "7a24439a"
      },
      "outputs": [],
      "source": [
        "# Traditional implementation\n",
        "import numpy as np\n",
        "np.random.seed(0)\n",
        "\n",
        "def compute_reciprocals(values):\n",
        "    output = np.empty(len(values))\n",
        "    for i in range(len(values)):\n",
        "        output[i] = 1.0 / values[i]\n",
        "    return output\n",
        "\n",
        "values = np.random.randint(1, 10, size=5)\n",
        "compute_reciprocals(values)"
      ]
    },
    {
      "cell_type": "code",
      "execution_count": null,
      "id": "bdb47a25",
      "metadata": {
        "id": "bdb47a25"
      },
      "outputs": [],
      "source": [
        "big_array = np.random.randint(1, 100, size=1000000)\n",
        "%timeit compute_reciprocals(big_array)"
      ]
    },
    {
      "cell_type": "markdown",
      "id": "baca9ecf",
      "metadata": {
        "id": "baca9ecf"
      },
      "source": [
        "The code above takes several seconds to run. Lets run it now with a vectorized operation."
      ]
    },
    {
      "cell_type": "code",
      "execution_count": null,
      "id": "06e78ce7",
      "metadata": {
        "id": "06e78ce7"
      },
      "outputs": [],
      "source": [
        "print(compute_reciprocals(values))\n",
        "print(1.0 / values)"
      ]
    },
    {
      "cell_type": "code",
      "execution_count": null,
      "id": "04fb63fa",
      "metadata": {
        "id": "04fb63fa"
      },
      "outputs": [],
      "source": [
        "%timeit (1.0 / big_array)"
      ]
    },
    {
      "cell_type": "markdown",
      "id": "64b0da49",
      "metadata": {
        "id": "64b0da49"
      },
      "source": [
        "We can see that each loop and the consequent total execution time is orders of magnitude faster that the first iteration. Vectorized operations are implemented via ufuncs whose main function is to exectute repeteated operations on values in Numpy arrays.\n",
        "\n",
        "Ufuncs (universal functions) can run between scalars and arrays, two arrays, and multi dimensional arrays."
      ]
    },
    {
      "cell_type": "code",
      "execution_count": null,
      "id": "e3502491",
      "metadata": {
        "id": "e3502491"
      },
      "outputs": [],
      "source": [
        "np.arange(5) / np.arange(1, 6)"
      ]
    },
    {
      "cell_type": "code",
      "execution_count": null,
      "id": "e222d042",
      "metadata": {
        "id": "e222d042"
      },
      "outputs": [],
      "source": [
        "# multidimensional example\n",
        "x = np.arange(9).reshape((3, 3))\n",
        "2 ** x"
      ]
    },
    {
      "cell_type": "markdown",
      "id": "ed58e4a8",
      "metadata": {
        "id": "ed58e4a8"
      },
      "source": [
        "### Numpy UFuncs\n",
        "#### Array arithmetic\n",
        "We have standard addition, substraction, multiplication and division"
      ]
    },
    {
      "cell_type": "code",
      "execution_count": null,
      "id": "aa70044e",
      "metadata": {
        "id": "aa70044e"
      },
      "outputs": [],
      "source": [
        "x = np.arange(4)\n",
        "print(\"x     =\", x)\n",
        "print(\"x + 5 =\", x + 5)\n",
        "print(\"x - 5 =\", x - 5)\n",
        "print(\"x * 2 =\", x * 2)\n",
        "print(\"x / 2 =\", x / 2)\n",
        "print(\"x // 2 =\", x // 2)  # floor division"
      ]
    },
    {
      "cell_type": "code",
      "execution_count": null,
      "id": "ac9d9a4b",
      "metadata": {
        "id": "ac9d9a4b"
      },
      "outputs": [],
      "source": [
        "# unary functions for negation, exponentiation, and modulus\n",
        "print(\"-x     = \", -x)\n",
        "print(\"x ** 2 = \", x ** 2)\n",
        "print(\"x % 2  = \", x % 2)"
      ]
    },
    {
      "cell_type": "markdown",
      "id": "87f006ab",
      "metadata": {
        "id": "87f006ab"
      },
      "source": [
        "All these arithmetic operations are wrappers for Numpy functions\n",
        "\n",
        "|Operator|\tEquivalent ufunc |\tDescription |\n",
        "|:--------:|:--------|:--------|\n",
        "|+ |\tnp.add\t| Addition (e.g., 1 + 1 = 2) |\n",
        "|- |\tnp.subtract | Subtraction (e.g., 3 - 2 = 1)\n",
        "|- |\tnp.negative |\tUnary negation (e.g., -2)\n",
        "|* |\tnp.multiply |\tMultiplication (e.g., 2 * 3 = 6)\n",
        "|/ |\tnp.divide |\tDivision (e.g., 3 / 2 = 1.5)\n",
        "|// |\tnp.floor_divide |\tFloor division (e.g., 3 // 2 = 1)\n",
        "|** |\tnp.power |\tExponentiation (e.g., 2 ** 3 = 8)\n",
        "|% |\tnp.mod |\tModulus/remainder (e.g., 9 % 4 = 1)"
      ]
    },
    {
      "cell_type": "markdown",
      "id": "35b9c0bd",
      "metadata": {
        "id": "35b9c0bd"
      },
      "source": [
        "#### Trigonometric functions\n",
        "We will explore trigonometric functions. Lets start by defining an array of angles."
      ]
    },
    {
      "cell_type": "code",
      "execution_count": null,
      "id": "0b766c19",
      "metadata": {
        "id": "0b766c19"
      },
      "outputs": [],
      "source": [
        "theta = np.linspace(0, np.pi, 3)"
      ]
    },
    {
      "cell_type": "code",
      "execution_count": null,
      "id": "47f52d91",
      "metadata": {
        "id": "47f52d91"
      },
      "outputs": [],
      "source": [
        "print(\"theta      = \", theta)\n",
        "print(\"sin(theta) = \", np.sin(theta))\n",
        "print(\"cos(theta) = \", np.cos(theta))\n",
        "print(\"tan(theta) = \", np.tan(theta))"
      ]
    },
    {
      "cell_type": "code",
      "execution_count": null,
      "id": "5426ce58",
      "metadata": {
        "id": "5426ce58"
      },
      "outputs": [],
      "source": [
        "# inverse functions\n",
        "x = [-1, 0, 1]\n",
        "print(\"x         = \", x)\n",
        "print(\"arcsin(x) = \", np.arcsin(x))\n",
        "print(\"arccos(x) = \", np.arccos(x))\n",
        "print(\"arctan(x) = \", np.arctan(x))"
      ]
    },
    {
      "cell_type": "markdown",
      "id": "8032e04e",
      "metadata": {
        "id": "8032e04e"
      },
      "source": [
        "#### Exponents and logarithms"
      ]
    },
    {
      "cell_type": "code",
      "execution_count": null,
      "id": "2e2c8677",
      "metadata": {
        "id": "2e2c8677"
      },
      "outputs": [],
      "source": [
        "x = [1, 2, 3]\n",
        "print(\"x     =\", x)\n",
        "print(\"e^x   =\", np.exp(x))\n",
        "print(\"2^x   =\", np.exp2(x))\n",
        "print(\"3^x   =\", np.power(3, x))"
      ]
    },
    {
      "cell_type": "code",
      "execution_count": null,
      "id": "ca1fad6a",
      "metadata": {
        "id": "ca1fad6a"
      },
      "outputs": [],
      "source": [
        "# log functions\n",
        "x = [1, 2, 4, 10]\n",
        "print(\"x        =\", x)\n",
        "print(\"ln(x)    =\", np.log(x))\n",
        "print(\"log2(x)  =\", np.log2(x))\n",
        "print(\"log10(x) =\", np.log10(x))"
      ]
    },
    {
      "cell_type": "markdown",
      "id": "353b9c48",
      "metadata": {
        "id": "353b9c48"
      },
      "source": [
        "#### Agregates\n",
        "We can reduce array operations of any ufunc. A reduce repeatedly applies a given operation to the elements of the array until a single result remains.\n",
        "\n",
        "Calling `reduce` on the `add` ufunc results in the sum of all elements in the array"
      ]
    },
    {
      "cell_type": "code",
      "execution_count": null,
      "id": "d17fb9de",
      "metadata": {
        "id": "d17fb9de"
      },
      "outputs": [],
      "source": [
        "x = np.arange(1, 6)\n",
        "np.add.reduce(x)"
      ]
    },
    {
      "cell_type": "code",
      "execution_count": null,
      "id": "1222f617",
      "metadata": {
        "id": "1222f617"
      },
      "outputs": [],
      "source": [
        "x"
      ]
    },
    {
      "cell_type": "code",
      "execution_count": null,
      "id": "54adf270",
      "metadata": {
        "id": "54adf270"
      },
      "outputs": [],
      "source": [
        "# calling reduce on multiply\n",
        "# results in the product of all array elements\n",
        "np.multiply.reduce(x)"
      ]
    },
    {
      "cell_type": "code",
      "execution_count": null,
      "id": "aef70bb4",
      "metadata": {
        "id": "aef70bb4"
      },
      "outputs": [],
      "source": [
        "# if we would like to store all the intermediate results\n",
        "# we can use accumulate instead\n",
        "np.add.accumulate(x)"
      ]
    },
    {
      "cell_type": "code",
      "execution_count": null,
      "id": "9d35b93b",
      "metadata": {
        "id": "9d35b93b"
      },
      "outputs": [],
      "source": [
        "np.multiply.accumulate(x)\n"
      ]
    },
    {
      "cell_type": "markdown",
      "id": "35b9023b",
      "metadata": {
        "id": "35b9023b"
      },
      "source": [
        "### Exercises for participation credit\n",
        "1. Create a new random integer array with Numpy functions. Use a random seed to guarantee the same array every time. Array must be of size (20, 5).\n",
        "2. Calculate the average value of the second column of the array created in exercise 1. Calculate the sum of all elements in columns 3 and 4. You can use built in ufuncs and indexing.\n",
        "\n",
        "We will now use a simple IoT readings dataset for this exercise. This dataset contains IoT temperature readings, where the reading was made (room) and location (reading was outside or inside a room).\n",
        "\n",
        "3. Open the data file `IOT-temp.csv` inside the `iotdata-compressed` file, you will need some program like 7zip or Winrar to uncompress this `iotdata-compressed` folder. Open this file with Pandas and create a new Dataframe with this data. Show the first 10 rows of data. Show the last 10 rows of data. Show data points for index 300 to 350.\n",
        "4. Create a new dataframe from index 1000 to 2000. Rename column `out/in` to `location`. Rename colum `room_id/id` to `room` How many of these readings were made outside? How many were inside?\n",
        "5. Split your new dataframe into readings that were made inside and readings that were made outside. Create a new dataframe with only inside readings. Create a new dataframe only with outside readings. Print the mean value of the temperature for both new dataframes.\n",
        "6. Save both dataframes created in exercise 5 to `csv` files.\n",
        "\n",
        "More information about the dataset for exercises 3 and 4 in [this link](https://www.kaggle.com/datasets/atulanandjha/temperature-readings-iot-devices)"
      ]
    }
  ],
  "metadata": {
    "kernelspec": {
      "display_name": "Python 3 (ipykernel)",
      "language": "python",
      "name": "python3"
    },
    "language_info": {
      "codemirror_mode": {
        "name": "ipython",
        "version": 3
      },
      "file_extension": ".py",
      "mimetype": "text/x-python",
      "name": "python",
      "nbconvert_exporter": "python",
      "pygments_lexer": "ipython3",
      "version": "3.10.4"
    },
    "colab": {
      "provenance": [],
      "include_colab_link": true
    }
  },
  "nbformat": 4,
  "nbformat_minor": 5
}