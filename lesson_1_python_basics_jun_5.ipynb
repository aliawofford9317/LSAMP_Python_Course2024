{
  "cells": [
    {
      "cell_type": "markdown",
      "metadata": {
        "id": "view-in-github",
        "colab_type": "text"
      },
      "source": [
        "<a href=\"https://colab.research.google.com/github/aliawofford9317/LSAMP_Python_Course2024/blob/AbigailAnderson/lesson_1_python_basics_jun_5.ipynb\" target=\"_parent\"><img src=\"https://colab.research.google.com/assets/colab-badge.svg\" alt=\"Open In Colab\"/></a>"
      ]
    },
    {
      "cell_type": "markdown",
      "id": "65297d5d",
      "metadata": {
        "id": "65297d5d"
      },
      "source": [
        "## Lesson 1 - Python basics\n",
        "In this lesson we will cover:\n",
        "- What is a variable and how to declare it\n",
        "- Python basic operators\n",
        "- Data types in Python\n",
        "- Lists\n",
        "- Dictionaries\n",
        "- Tuples\n",
        "- Optional exercises\n",
        "\n",
        "All along the lessons you will see comments on the code starting with `#`, these are comment lines and are used to describe what the code is doing"
      ]
    },
    {
      "cell_type": "markdown",
      "id": "d927a42b",
      "metadata": {
        "id": "d927a42b"
      },
      "source": [
        "## What is a variable?\n",
        "\n",
        "Imagine variables as containers to store data values.\n",
        "We can asign values to these containers using the `=` sign."
      ]
    },
    {
      "cell_type": "code",
      "execution_count": 8,
      "id": "d273a7b9",
      "metadata": {
        "id": "d273a7b9"
      },
      "outputs": [],
      "source": [
        "# Here we assign a to 4, and A to \"Python\"\n",
        "a = 4\n",
        "A = \"Python\""
      ]
    },
    {
      "cell_type": "code",
      "execution_count": 9,
      "id": "c6a73ac0",
      "metadata": {
        "id": "c6a73ac0",
        "colab": {
          "base_uri": "https://localhost:8080/"
        },
        "outputId": "114116e0-ab8b-47a8-9a10-9cda984ac679"
      },
      "outputs": [
        {
          "output_type": "stream",
          "name": "stdout",
          "text": [
            "4\n",
            "Python\n"
          ]
        }
      ],
      "source": [
        "# Print the variables\n",
        "print(a)\n",
        "print(A)"
      ]
    },
    {
      "cell_type": "markdown",
      "id": "a800cba9",
      "metadata": {
        "id": "a800cba9"
      },
      "source": [
        "From the example above we can see that variables are case sensitive, so a variable named `Variable` will be different from another one called `variable`.\n",
        "Variable names can consist of uppercase and lowercase letters, digits and underscore. The first character of a variable name cannot be a digit"
      ]
    },
    {
      "cell_type": "code",
      "execution_count": 10,
      "id": "36e9c3df",
      "metadata": {
        "id": "36e9c3df",
        "colab": {
          "base_uri": "https://localhost:8080/"
        },
        "outputId": "041ceb04-1ff1-447b-e80c-0a800e3b5ca6"
      },
      "outputs": [
        {
          "output_type": "stream",
          "name": "stdout",
          "text": [
            "55\n",
            "49\n"
          ]
        }
      ],
      "source": [
        "Variable = 55\n",
        "variable = 49\n",
        "print(Variable)\n",
        "print(variable)"
      ]
    },
    {
      "cell_type": "code",
      "execution_count": 11,
      "id": "3ade135f",
      "metadata": {
        "id": "3ade135f",
        "colab": {
          "base_uri": "https://localhost:8080/",
          "height": 108
        },
        "outputId": "517687ac-4c03-4110-f7c5-4f2190e64a60"
      },
      "outputs": [
        {
          "output_type": "error",
          "ename": "SyntaxError",
          "evalue": "invalid decimal literal (<ipython-input-11-d8360a170a01>, line 2)",
          "traceback": [
            "\u001b[0;36m  File \u001b[0;32m\"<ipython-input-11-d8360a170a01>\"\u001b[0;36m, line \u001b[0;32m2\u001b[0m\n\u001b[0;31m    1_variable=\"Hi\"\u001b[0m\n\u001b[0m     ^\u001b[0m\n\u001b[0;31mSyntaxError\u001b[0m\u001b[0;31m:\u001b[0m invalid decimal literal\n"
          ]
        }
      ],
      "source": [
        "a_variable =\"Hello\"\n",
        "1_variable=\"Hi\"\n",
        "b_variable=\"Hi\""
      ]
    },
    {
      "cell_type": "markdown",
      "id": "c31ad403",
      "metadata": {
        "id": "c31ad403"
      },
      "source": [
        "### Reserved words in Python\n",
        "For variable names:\n",
        "- We can use number, letters and underscores\n",
        "- Variables can include numbers, but not as the first character\n",
        "- There are some reserverd words in Python that cannot be used as variable names:\n",
        "\n",
        "`False\tdef\tif\traise\n",
        "None\tdel\timport\treturn\n",
        "True\telif\tin\ttry\n",
        "and\telse\tis\twhile\n",
        "as\texcept\tlambda\twith\n",
        "assert\tfinally\tnonlocal\tyield\n",
        "break\tfor\tnot\n",
        "class\tfrom\tor\n",
        "continue\tglobal\tpass`\n",
        "\n",
        "You can see this list any time by typing `help(\"keywords\")"
      ]
    },
    {
      "cell_type": "code",
      "execution_count": null,
      "id": "9e951328",
      "metadata": {
        "colab": {
          "base_uri": "https://localhost:8080/"
        },
        "id": "9e951328",
        "outputId": "18ff86af-30b1-474f-9aa8-8e246b2e8018"
      },
      "outputs": [
        {
          "output_type": "stream",
          "name": "stdout",
          "text": [
            "\n",
            "Here is a list of the Python keywords.  Enter any keyword to get more help.\n",
            "\n",
            "False               class               from                or\n",
            "None                continue            global              pass\n",
            "True                def                 if                  raise\n",
            "and                 del                 import              return\n",
            "as                  elif                in                  try\n",
            "assert              else                is                  while\n",
            "async               except              lambda              with\n",
            "await               finally             nonlocal            yield\n",
            "break               for                 not                 \n",
            "\n"
          ]
        }
      ],
      "source": [
        "help(\"keywords\")"
      ]
    },
    {
      "cell_type": "markdown",
      "id": "2ecace5e",
      "metadata": {
        "id": "2ecace5e"
      },
      "source": [
        "## Operators\n",
        "We now know how to create variables. Lets explore the basic operators in Python. Operators are special symbols in Python that carry out arithmetic or logical computations\n",
        "\n",
        "Arithmetic operators are used to perform mathematical operations like addition, substraction, multiplication, etc\n",
        "\n",
        "| Symbol | Operator | Description |\n",
        "|--------|----------|-------------|\n",
        "|   +    | Addition |  Add two operands |\n",
        "| - | Substraction | Substract two operands |\n",
        "| * | Multiplication | Multiply two operands |\n",
        "| / | Division | Divide two operands |\n",
        "| % | Modulus | Remainder of the division of left operand by the right |\n",
        "| // | Floor division |  Division that results into whole number adjusted to the left in the number line |\n",
        "| ** | Exponent | Left operand raised to the power of right |"
      ]
    },
    {
      "cell_type": "code",
      "source": [],
      "metadata": {
        "colab": {
          "base_uri": "https://localhost:8080/"
        },
        "id": "tQsDenmqTxRS",
        "outputId": "691639af-6f64-4a9e-c945-0e1c7a7d452d"
      },
      "id": "tQsDenmqTxRS",
      "execution_count": null,
      "outputs": [
        {
          "output_type": "execute_result",
          "data": {
            "text/plain": [
              "0"
            ]
          },
          "metadata": {},
          "execution_count": 103
        }
      ]
    },
    {
      "cell_type": "markdown",
      "id": "eb521890",
      "metadata": {
        "id": "eb521890"
      },
      "source": [
        "## Types\n",
        "Each variable can be of a particular type, but this type does not needs to be declared when you create the variable, and can even be changed after they have been set"
      ]
    },
    {
      "cell_type": "code",
      "execution_count": 34,
      "id": "f1ce33e5",
      "metadata": {
        "id": "f1ce33e5",
        "colab": {
          "base_uri": "https://localhost:8080/"
        },
        "outputId": "130eb35f-85d7-4ede-c436-54ca3fa87115"
      },
      "outputs": [
        {
          "output_type": "stream",
          "name": "stdout",
          "text": [
            "100\n"
          ]
        }
      ],
      "source": [
        "n = 100 # variable of type integer\n",
        "print(n)"
      ]
    },
    {
      "cell_type": "code",
      "execution_count": 2,
      "id": "9ba75bd0",
      "metadata": {
        "id": "9ba75bd0",
        "colab": {
          "base_uri": "https://localhost:8080/"
        },
        "outputId": "48ab4880-c581-411f-b087-5f17239efae1"
      },
      "outputs": [
        {
          "output_type": "stream",
          "name": "stdout",
          "text": [
            " Now Im a different variable of type string\n"
          ]
        }
      ],
      "source": [
        "n = \" Now Im a different variable of type string\"\n",
        "print(n)"
      ]
    },
    {
      "cell_type": "code",
      "execution_count": 33,
      "id": "643fc42f",
      "metadata": {
        "id": "643fc42f",
        "colab": {
          "base_uri": "https://localhost:8080/"
        },
        "outputId": "a38d6730-5f38-4693-c342-fda961ce441c"
      },
      "outputs": [
        {
          "output_type": "stream",
          "name": "stdout",
          "text": [
            "300 300 300\n"
          ]
        }
      ],
      "source": [
        "# python allows for a chanied variable assignments\n",
        "a = b = c= 300\n",
        "print(a,b,c)\n"
      ]
    },
    {
      "cell_type": "markdown",
      "id": "e4e0ed01",
      "metadata": {
        "id": "e4e0ed01"
      },
      "source": [
        "Python is a highly object-oriented language. Every itme of data in Python is an object of a specific type or class. Consider the following code. Python does the following:\n",
        "- Create a integer object\n",
        "- Gives a value of 300\n",
        "- Displays it to the console"
      ]
    },
    {
      "cell_type": "code",
      "execution_count": 32,
      "id": "a62138f0",
      "metadata": {
        "id": "a62138f0",
        "colab": {
          "base_uri": "https://localhost:8080/"
        },
        "outputId": "90f53805-b9a8-48a1-df42-df6875d02ec4"
      },
      "outputs": [
        {
          "output_type": "stream",
          "name": "stdout",
          "text": [
            "100\n"
          ]
        }
      ],
      "source": [
        "print(100)"
      ]
    },
    {
      "cell_type": "markdown",
      "id": "85e49441",
      "metadata": {
        "id": "85e49441"
      },
      "source": [
        "To see the actual integer object you can use the `type()` function"
      ]
    },
    {
      "cell_type": "code",
      "execution_count": 31,
      "id": "5cbda040",
      "metadata": {
        "id": "5cbda040",
        "colab": {
          "base_uri": "https://localhost:8080/"
        },
        "outputId": "2d82707c-b595-4ea1-e432-99ce1cdccb16"
      },
      "outputs": [
        {
          "output_type": "execute_result",
          "data": {
            "text/plain": [
              "int"
            ]
          },
          "metadata": {},
          "execution_count": 31
        }
      ],
      "source": [
        "type(100)"
      ]
    },
    {
      "cell_type": "markdown",
      "id": "64edd62c",
      "metadata": {
        "id": "64edd62c"
      },
      "source": [
        "## Basic Data Types\n",
        "- Numeric (integer numbers, floating point)\n",
        "- String (letters, characters)\n",
        "- Boolean (True or False, 0 or 1)"
      ]
    },
    {
      "cell_type": "markdown",
      "id": "2f8cd151",
      "metadata": {
        "id": "2f8cd151"
      },
      "source": [
        "### Integers\n",
        "An integer value can be as big as you need it to be, this is only constrained by the amount of memory in the system. Python will interpret a sequence of decimal digits without any prefix to be a decimal number:"
      ]
    },
    {
      "cell_type": "code",
      "execution_count": 1,
      "id": "46402c16",
      "metadata": {
        "id": "46402c16",
        "colab": {
          "base_uri": "https://localhost:8080/"
        },
        "outputId": "7b913e72-ceff-4829-8c31-7743900ab9d3"
      },
      "outputs": [
        {
          "output_type": "stream",
          "name": "stdout",
          "text": [
            "123456789123456789123456789123456789123456789123456789123456789123456789123456789123456789\n"
          ]
        }
      ],
      "source": [
        "print(123456789123456789123456789123456789123456789123456789123456789123456789123456789123456789)\n"
      ]
    },
    {
      "cell_type": "code",
      "execution_count": 3,
      "id": "2698b8d4",
      "metadata": {
        "id": "2698b8d4",
        "colab": {
          "base_uri": "https://localhost:8080/"
        },
        "outputId": "0e1c444c-a9f1-4e74-e5d5-b8a90dbb23d3"
      },
      "outputs": [
        {
          "output_type": "stream",
          "name": "stdout",
          "text": [
            "10\n"
          ]
        }
      ],
      "source": [
        "print(10)"
      ]
    },
    {
      "cell_type": "code",
      "execution_count": 4,
      "id": "fa03d0d3",
      "metadata": {
        "id": "fa03d0d3",
        "colab": {
          "base_uri": "https://localhost:8080/"
        },
        "outputId": "329edefd-9d9b-47ba-ed6a-62ab159c371a"
      },
      "outputs": [
        {
          "output_type": "stream",
          "name": "stdout",
          "text": [
            "2\n",
            "8\n",
            "16\n"
          ]
        }
      ],
      "source": [
        "#Binary representation\n",
        "#use 0b prefix\n",
        "print(0b10)\n",
        "\n",
        "#Octal representation\n",
        "#use 0O prefix\n",
        "print(0O10)\n",
        "\n",
        "#Hexadecimal representation\n",
        "#use 0X prefix\n",
        "print(0X10)"
      ]
    },
    {
      "cell_type": "code",
      "source": [
        "## Quick Check for knowlege how would you check the data type for the following representations previous binary (0b10),Octal(0O10) and hexadecial (0X10) and what are they?"
      ],
      "metadata": {
        "id": "v3-ma7tY6Htw"
      },
      "execution_count": null,
      "outputs": [],
      "id": "v3-ma7tY6Htw"
    },
    {
      "cell_type": "code",
      "execution_count": 5,
      "metadata": {
        "id": "36a83fc0",
        "colab": {
          "base_uri": "https://localhost:8080/"
        },
        "outputId": "d898ffa6-6c73-458e-8a33-68913ac0a18d"
      },
      "outputs": [
        {
          "output_type": "execute_result",
          "data": {
            "text/plain": [
              "int"
            ]
          },
          "metadata": {},
          "execution_count": 5
        }
      ],
      "source": [
        "#Answer for binary 0b10\n",
        "type(0b10)"
      ],
      "id": "36a83fc0"
    },
    {
      "cell_type": "code",
      "execution_count": 6,
      "metadata": {
        "id": "7e26ec9e",
        "colab": {
          "base_uri": "https://localhost:8080/"
        },
        "outputId": "9d71e585-eaea-483e-9a95-a81a1aef46c3"
      },
      "outputs": [
        {
          "output_type": "execute_result",
          "data": {
            "text/plain": [
              "int"
            ]
          },
          "metadata": {},
          "execution_count": 6
        }
      ],
      "source": [
        "# Answer for Octal for 0O10\n",
        "type(0O10)"
      ],
      "id": "7e26ec9e"
    },
    {
      "cell_type": "code",
      "execution_count": 7,
      "metadata": {
        "id": "3e11bb06",
        "colab": {
          "base_uri": "https://localhost:8080/"
        },
        "outputId": "bb25b5eb-86f1-4b96-b811-7037585c7a65"
      },
      "outputs": [
        {
          "output_type": "execute_result",
          "data": {
            "text/plain": [
              "int"
            ]
          },
          "metadata": {},
          "execution_count": 7
        }
      ],
      "source": [
        "#Answer for hexidecimal 0X10\n",
        "type(0X10)"
      ],
      "id": "3e11bb06"
    },
    {
      "cell_type": "markdown",
      "id": "9fe061d9",
      "metadata": {
        "id": "9fe061d9"
      },
      "source": [
        "### Floating point numbers\n",
        "The `float` type designates a floating-point number, which specifies a decimal point. This can also represent scientific notation using the character `e` or `E`"
      ]
    },
    {
      "cell_type": "code",
      "execution_count": 12,
      "id": "96c151b0",
      "metadata": {
        "id": "96c151b0",
        "outputId": "72e59028-b4f0-4db3-e108-3e5bc189cf1f",
        "colab": {
          "base_uri": "https://localhost:8080/"
        }
      },
      "outputs": [
        {
          "output_type": "execute_result",
          "data": {
            "text/plain": [
              "3.14"
            ]
          },
          "metadata": {},
          "execution_count": 12
        }
      ],
      "source": [
        "3.14"
      ]
    },
    {
      "cell_type": "code",
      "execution_count": 13,
      "id": "689dee34",
      "metadata": {
        "id": "689dee34",
        "colab": {
          "base_uri": "https://localhost:8080/"
        },
        "outputId": "c531d07b-674c-413a-a40f-c33de07b8e0a"
      },
      "outputs": [
        {
          "output_type": "execute_result",
          "data": {
            "text/plain": [
              "float"
            ]
          },
          "metadata": {},
          "execution_count": 13
        }
      ],
      "source": [
        "type(3.14)"
      ]
    },
    {
      "cell_type": "code",
      "execution_count": 14,
      "id": "8a599c7a",
      "metadata": {
        "id": "8a599c7a",
        "colab": {
          "base_uri": "https://localhost:8080/"
        },
        "outputId": "be3cff91-7d93-4b31-dc63-5d9793d9262e"
      },
      "outputs": [
        {
          "output_type": "execute_result",
          "data": {
            "text/plain": [
              "0.99"
            ]
          },
          "metadata": {},
          "execution_count": 14
        }
      ],
      "source": [
        ".99"
      ]
    },
    {
      "cell_type": "code",
      "execution_count": 15,
      "id": "b597680a",
      "metadata": {
        "id": "b597680a",
        "colab": {
          "base_uri": "https://localhost:8080/"
        },
        "outputId": "cc318815-f11a-444e-e5b1-02d0eed58677"
      },
      "outputs": [
        {
          "output_type": "execute_result",
          "data": {
            "text/plain": [
              "500000000.0"
            ]
          },
          "metadata": {},
          "execution_count": 15
        }
      ],
      "source": [
        "5e8"
      ]
    },
    {
      "cell_type": "code",
      "execution_count": 16,
      "id": "6af99295",
      "metadata": {
        "id": "6af99295",
        "outputId": "a49f4ea6-44dc-4e23-af20-be67a7ffde11",
        "colab": {
          "base_uri": "https://localhost:8080/"
        }
      },
      "outputs": [
        {
          "output_type": "execute_result",
          "data": {
            "text/plain": [
              "float"
            ]
          },
          "metadata": {},
          "execution_count": 16
        }
      ],
      "source": [
        "type(5e8)"
      ]
    },
    {
      "cell_type": "code",
      "execution_count": 17,
      "id": "dc9d4797",
      "metadata": {
        "id": "dc9d4797",
        "colab": {
          "base_uri": "https://localhost:8080/"
        },
        "outputId": "be03a56c-26cb-4123-a645-a2356dd9b3ae"
      },
      "outputs": [
        {
          "output_type": "execute_result",
          "data": {
            "text/plain": [
              "5.67e-06"
            ]
          },
          "metadata": {},
          "execution_count": 17
        }
      ],
      "source": [
        "5.67E-6"
      ]
    },
    {
      "cell_type": "code",
      "execution_count": 18,
      "id": "c0379fb3",
      "metadata": {
        "id": "c0379fb3",
        "colab": {
          "base_uri": "https://localhost:8080/"
        },
        "outputId": "ddf76517-c946-4dd1-f7ef-5fab1dc7cbb7"
      },
      "outputs": [
        {
          "output_type": "execute_result",
          "data": {
            "text/plain": [
              "10.0"
            ]
          },
          "metadata": {},
          "execution_count": 18
        }
      ],
      "source": [
        "#We can also convert or cast a integer to a float with float().\n",
        "\n",
        "float(10)"
      ]
    },
    {
      "cell_type": "markdown",
      "id": "6fd43043",
      "metadata": {
        "id": "6fd43043"
      },
      "source": [
        "Almost all platforms represent Python float values as 64-bit “double-precision” values, according to the IEEE 754 standard. In that case, the maximum value a floating-point number can have is approximately 1.8 ⨉ 10308. Python will indicate a number greater than that by the string inf"
      ]
    },
    {
      "cell_type": "code",
      "execution_count": 19,
      "id": "8488b000",
      "metadata": {
        "id": "8488b000",
        "colab": {
          "base_uri": "https://localhost:8080/"
        },
        "outputId": "1875bfbe-4a51-4891-ee02-2e56edff8588"
      },
      "outputs": [
        {
          "output_type": "execute_result",
          "data": {
            "text/plain": [
              "1.79e+308"
            ]
          },
          "metadata": {},
          "execution_count": 19
        }
      ],
      "source": [
        "1.79e308"
      ]
    },
    {
      "cell_type": "code",
      "execution_count": 20,
      "id": "e9e58b9a",
      "metadata": {
        "id": "e9e58b9a",
        "colab": {
          "base_uri": "https://localhost:8080/"
        },
        "outputId": "085f0f2a-8710-4781-f171-fab410f2b0b3"
      },
      "outputs": [
        {
          "output_type": "execute_result",
          "data": {
            "text/plain": [
              "inf"
            ]
          },
          "metadata": {},
          "execution_count": 20
        }
      ],
      "source": [
        "1.8e308"
      ]
    },
    {
      "cell_type": "markdown",
      "id": "545099db",
      "metadata": {
        "id": "545099db"
      },
      "source": [
        "The closest a nonzero number can be to zero is approximately 5.0 ⨉ 10-324. Anything closer to zero than that is effectively zero:"
      ]
    },
    {
      "cell_type": "code",
      "execution_count": 21,
      "id": "2da777ac",
      "metadata": {
        "id": "2da777ac",
        "colab": {
          "base_uri": "https://localhost:8080/"
        },
        "outputId": "730dfd9c-df67-4aab-f4ef-7a60323fc1a5"
      },
      "outputs": [
        {
          "output_type": "execute_result",
          "data": {
            "text/plain": [
              "5e-324"
            ]
          },
          "metadata": {},
          "execution_count": 21
        }
      ],
      "source": [
        "5e-324"
      ]
    },
    {
      "cell_type": "code",
      "execution_count": 22,
      "id": "cdde2a65",
      "metadata": {
        "id": "cdde2a65",
        "colab": {
          "base_uri": "https://localhost:8080/"
        },
        "outputId": "e9eafbc4-20f2-4708-8254-2af082ec411f"
      },
      "outputs": [
        {
          "output_type": "execute_result",
          "data": {
            "text/plain": [
              "0.0"
            ]
          },
          "metadata": {},
          "execution_count": 22
        }
      ],
      "source": [
        "1e-325"
      ]
    },
    {
      "cell_type": "markdown",
      "id": "69cf2b84",
      "metadata": {
        "id": "69cf2b84"
      },
      "source": [
        "In most cases the internal representation of a floating-point number is an approximation of the actual value. In practice, the difference between the actual value and the represented value is very small and should not usually cause significant problems."
      ]
    },
    {
      "cell_type": "code",
      "execution_count": 30,
      "id": "05711ac5",
      "metadata": {
        "id": "05711ac5",
        "colab": {
          "base_uri": "https://localhost:8080/"
        },
        "outputId": "e65265e7-723b-407a-e551-1081930b22a7"
      },
      "outputs": [
        {
          "output_type": "execute_result",
          "data": {
            "text/plain": [
              "False"
            ]
          },
          "metadata": {},
          "execution_count": 30
        }
      ],
      "source": [
        "# == means 'is equal?' or 'is this equal to this?'\n",
        "0.1 +0.2 == 0.3"
      ]
    },
    {
      "cell_type": "code",
      "execution_count": 24,
      "id": "c4f0446e",
      "metadata": {
        "id": "c4f0446e",
        "colab": {
          "base_uri": "https://localhost:8080/"
        },
        "outputId": "7bdb7765-c63d-4931-8960-27efd28f08b7"
      },
      "outputs": [
        {
          "output_type": "stream",
          "name": "stdout",
          "text": [
            "0.1 = 0.10000000000000001\n"
          ]
        }
      ],
      "source": [
        "#Lets format our float numbers to have 17 decimal places\n",
        "print( \"0.1 = {0:.17f}\".format(0.1))"
      ]
    },
    {
      "cell_type": "markdown",
      "id": "4f5896de",
      "metadata": {
        "id": "4f5896de"
      },
      "source": [
        "### Complex numbers\n",
        "Complex numbers are specified as `<real part>+<imaginary part>j`. You can print only the real or imaginary part by using `.imag` or `.real`"
      ]
    },
    {
      "cell_type": "code",
      "execution_count": 25,
      "id": "298bf4f7",
      "metadata": {
        "id": "298bf4f7",
        "outputId": "988ae29e-8e15-4bb4-c231-b282d098a821",
        "colab": {
          "base_uri": "https://localhost:8080/"
        }
      },
      "outputs": [
        {
          "output_type": "execute_result",
          "data": {
            "text/plain": [
              "(2+5j)"
            ]
          },
          "metadata": {},
          "execution_count": 25
        }
      ],
      "source": [
        "2+5j"
      ]
    },
    {
      "cell_type": "code",
      "execution_count": 26,
      "id": "55f38c7c",
      "metadata": {
        "id": "55f38c7c",
        "outputId": "c371de53-0ae9-4cdf-9633-18f0c6ab7ac1",
        "colab": {
          "base_uri": "https://localhost:8080/"
        }
      },
      "outputs": [
        {
          "output_type": "execute_result",
          "data": {
            "text/plain": [
              "complex"
            ]
          },
          "metadata": {},
          "execution_count": 26
        }
      ],
      "source": [
        "type(2+5j)"
      ]
    },
    {
      "cell_type": "code",
      "execution_count": 28,
      "id": "d8d84ba7",
      "metadata": {
        "id": "d8d84ba7",
        "outputId": "c8f5fdf1-bc2a-4a3b-9486-56e4dd462d5e",
        "colab": {
          "base_uri": "https://localhost:8080/"
        }
      },
      "outputs": [
        {
          "output_type": "execute_result",
          "data": {
            "text/plain": [
              "1.0"
            ]
          },
          "metadata": {},
          "execution_count": 28
        }
      ],
      "source": [
        "comp = 1+2j\n",
        "comp.real"
      ]
    },
    {
      "cell_type": "code",
      "execution_count": 29,
      "id": "19826f04",
      "metadata": {
        "id": "19826f04",
        "colab": {
          "base_uri": "https://localhost:8080/"
        },
        "outputId": "35e51feb-e4a7-486a-a7a4-39a1c229684e"
      },
      "outputs": [
        {
          "output_type": "execute_result",
          "data": {
            "text/plain": [
              "2.0"
            ]
          },
          "metadata": {},
          "execution_count": 29
        }
      ],
      "source": [
        "# try printing the imaginary part\n",
        "comp.imag"
      ]
    },
    {
      "cell_type": "markdown",
      "id": "59bb12dd",
      "metadata": {
        "id": "59bb12dd"
      },
      "source": [
        "### Strings\n",
        "Strings are sequences of character data. In Python this is called `str`.\n",
        "Strings can be limited by single or double quotes."
      ]
    },
    {
      "cell_type": "code",
      "execution_count": 35,
      "id": "78aea91a",
      "metadata": {
        "id": "78aea91a",
        "colab": {
          "base_uri": "https://localhost:8080/"
        },
        "outputId": "7eaccdbe-e3d6-4934-8336-83c88e3547d9"
      },
      "outputs": [
        {
          "output_type": "stream",
          "name": "stdout",
          "text": [
            "This is a string\n"
          ]
        },
        {
          "output_type": "execute_result",
          "data": {
            "text/plain": [
              "str"
            ]
          },
          "metadata": {},
          "execution_count": 35
        }
      ],
      "source": [
        "#Try printing using This is a string using and check data type \"\"\n",
        "print(\"This is a string\")\n",
        "type(\"What is my type?\")"
      ]
    },
    {
      "cell_type": "code",
      "execution_count": 36,
      "id": "22b82343",
      "metadata": {
        "id": "22b82343",
        "colab": {
          "base_uri": "https://localhost:8080/"
        },
        "outputId": "8d2db839-c5bb-45cc-c6e8-76bbcc036612"
      },
      "outputs": [
        {
          "output_type": "stream",
          "name": "stdout",
          "text": [
            "This is a string\n"
          ]
        },
        {
          "output_type": "execute_result",
          "data": {
            "text/plain": [
              "str"
            ]
          },
          "metadata": {},
          "execution_count": 36
        }
      ],
      "source": [
        "# Try printing string using '' and check the data type\n",
        "print('This is a string')\n",
        "type('What is my type')"
      ]
    },
    {
      "cell_type": "markdown",
      "id": "145cb9e7",
      "metadata": {
        "id": "145cb9e7"
      },
      "source": [
        "A string can contain as many characters as you wish. The only limit is the computer memory. A string can also be empty."
      ]
    },
    {
      "cell_type": "code",
      "execution_count": 37,
      "id": "1f921753",
      "metadata": {
        "id": "1f921753",
        "colab": {
          "base_uri": "https://localhost:8080/"
        },
        "outputId": "dbe24abb-73d1-417e-8ba8-459e3ca0c507"
      },
      "outputs": [
        {
          "output_type": "execute_result",
          "data": {
            "text/plain": [
              "str"
            ]
          },
          "metadata": {},
          "execution_count": 37
        }
      ],
      "source": [
        "''\n",
        "type('')"
      ]
    },
    {
      "cell_type": "code",
      "execution_count": 38,
      "id": "8d4d828d",
      "metadata": {
        "id": "8d4d828d",
        "colab": {
          "base_uri": "https://localhost:8080/"
        },
        "outputId": "b6e66b65-b4f0-4455-f018-5669b76d60da"
      },
      "outputs": [
        {
          "output_type": "stream",
          "name": "stdout",
          "text": [
            " \"HI HOW ARE YOU\" \n"
          ]
        }
      ],
      "source": [
        "#Double and single quotes can be combined\n",
        "\n",
        "print(' \"HI HOW ARE YOU\" ')"
      ]
    },
    {
      "cell_type": "markdown",
      "id": "78932997",
      "metadata": {
        "id": "78932997"
      },
      "source": [
        "Here are some useful string functions, concatenation and indexing"
      ]
    },
    {
      "cell_type": "code",
      "execution_count": 43,
      "id": "10ae543b",
      "metadata": {
        "id": "10ae543b",
        "colab": {
          "base_uri": "https://localhost:8080/"
        },
        "outputId": "70cede11-c7e3-4886-97fb-501046cdb8f7"
      },
      "outputs": [
        {
          "output_type": "execute_result",
          "data": {
            "text/plain": [
              "17"
            ]
          },
          "metadata": {},
          "execution_count": 43
        }
      ],
      "source": [
        "message = \"what do you like?\"\n",
        "# length of string\n",
        "len(message)"
      ]
    },
    {
      "cell_type": "code",
      "execution_count": 45,
      "id": "38b2f65c",
      "metadata": {
        "id": "38b2f65c",
        "colab": {
          "base_uri": "https://localhost:8080/",
          "height": 35
        },
        "outputId": "d1b9eea0-995d-4ffc-d452-f25f67a5f01e"
      },
      "outputs": [
        {
          "output_type": "execute_result",
          "data": {
            "text/plain": [
              "'WHAT DO YOU LIKE?'"
            ],
            "application/vnd.google.colaboratory.intrinsic+json": {
              "type": "string"
            }
          },
          "metadata": {},
          "execution_count": 45
        }
      ],
      "source": [
        "# Make upper-case. See also str.lower()\n",
        "message.upper()"
      ]
    },
    {
      "cell_type": "code",
      "execution_count": 46,
      "id": "f30c3eec",
      "metadata": {
        "id": "f30c3eec",
        "colab": {
          "base_uri": "https://localhost:8080/",
          "height": 35
        },
        "outputId": "acfed5cd-d7bb-4c7b-c05b-a5de62755a68"
      },
      "outputs": [
        {
          "output_type": "execute_result",
          "data": {
            "text/plain": [
              "'what do you like?'"
            ],
            "application/vnd.google.colaboratory.intrinsic+json": {
              "type": "string"
            }
          },
          "metadata": {},
          "execution_count": 46
        }
      ],
      "source": [
        "# Make lower-case.\n",
        "message.lower()"
      ]
    },
    {
      "cell_type": "code",
      "execution_count": null,
      "id": "58378fff",
      "metadata": {
        "id": "58378fff",
        "outputId": "2069a2fe-f66c-412d-9d62-0fafd90a999d"
      },
      "outputs": [
        {
          "data": {
            "text/plain": [
              "'What do you like?'"
            ]
          },
          "execution_count": 49,
          "metadata": {},
          "output_type": "execute_result"
        }
      ],
      "source": [
        "# Capitalize. See also str.title()\n",
        "message.capitalize()"
      ]
    },
    {
      "cell_type": "code",
      "execution_count": 47,
      "id": "e6b59e79",
      "metadata": {
        "id": "e6b59e79",
        "colab": {
          "base_uri": "https://localhost:8080/",
          "height": 35
        },
        "outputId": "3a00d64b-e462-446b-dc00-73655e7aafa3"
      },
      "outputs": [
        {
          "output_type": "execute_result",
          "data": {
            "text/plain": [
              "'What Do You Like?'"
            ],
            "application/vnd.google.colaboratory.intrinsic+json": {
              "type": "string"
            }
          },
          "metadata": {},
          "execution_count": 47
        }
      ],
      "source": [
        "# Capitalize every first letter\n",
        "message.title()"
      ]
    },
    {
      "cell_type": "code",
      "execution_count": 50,
      "id": "b45c0f40",
      "metadata": {
        "id": "b45c0f40",
        "colab": {
          "base_uri": "https://localhost:8080/",
          "height": 35
        },
        "outputId": "0cf487c1-8948-4b94-da22-582b187e4d0b"
      },
      "outputs": [
        {
          "output_type": "execute_result",
          "data": {
            "text/plain": [
              "'what do you like? I like python'"
            ],
            "application/vnd.google.colaboratory.intrinsic+json": {
              "type": "string"
            }
          },
          "metadata": {},
          "execution_count": 50
        }
      ],
      "source": [
        "# How to Concatenate or join two or more strings with +\n",
        "message + ' I like python'"
      ]
    },
    {
      "cell_type": "code",
      "execution_count": 54,
      "id": "4c466e71",
      "metadata": {
        "id": "4c466e71",
        "colab": {
          "base_uri": "https://localhost:8080/",
          "height": 35
        },
        "outputId": "11bbe1a8-480c-4f3a-a689-bb1770fb97d7"
      },
      "outputs": [
        {
          "output_type": "execute_result",
          "data": {
            "text/plain": [
              "'I like PythonI like PythonI like PythonI like PythonI like Python'"
            ],
            "application/vnd.google.colaboratory.intrinsic+json": {
              "type": "string"
            }
          },
          "metadata": {},
          "execution_count": 54
        }
      ],
      "source": [
        "# an astherisc * will multiply your string\n",
        "like = \"I like Python\"\n",
        "like *  5"
      ]
    },
    {
      "cell_type": "markdown",
      "id": "a151b0f1",
      "metadata": {
        "id": "a151b0f1"
      },
      "source": [
        "Indexing means accesing the individual elements or characters of a string (or list, as you will see later). To index a string use the `[]` brackets and the number you want to index. Just remember Python uses zero-based index."
      ]
    },
    {
      "cell_type": "code",
      "execution_count": 55,
      "id": "d49a55db",
      "metadata": {
        "id": "d49a55db",
        "colab": {
          "base_uri": "https://localhost:8080/",
          "height": 35
        },
        "outputId": "c1866534-a149-4381-bdb5-2f2ab4c3389a"
      },
      "outputs": [
        {
          "output_type": "execute_result",
          "data": {
            "text/plain": [
              "'I'"
            ],
            "application/vnd.google.colaboratory.intrinsic+json": {
              "type": "string"
            }
          },
          "metadata": {},
          "execution_count": 55
        }
      ],
      "source": [
        "#indexing\n",
        "like[0]"
      ]
    },
    {
      "cell_type": "code",
      "execution_count": 57,
      "id": "ff85a50d",
      "metadata": {
        "id": "ff85a50d",
        "colab": {
          "base_uri": "https://localhost:8080/"
        },
        "outputId": "fb98485c-2a5f-4e83-d95f-19a91997bb50"
      },
      "outputs": [
        {
          "output_type": "stream",
          "name": "stdout",
          "text": [
            "I   l i k e\n"
          ]
        }
      ],
      "source": [
        "print(like[0], like[1], like[2], like[3], like[4], like[5])"
      ]
    },
    {
      "cell_type": "code",
      "execution_count": null,
      "id": "474dcf0c",
      "metadata": {
        "id": "474dcf0c"
      },
      "outputs": [],
      "source": []
    },
    {
      "cell_type": "code",
      "execution_count": 58,
      "id": "a72d19c1",
      "metadata": {
        "id": "a72d19c1",
        "colab": {
          "base_uri": "https://localhost:8080/",
          "height": 35
        },
        "outputId": "8120237e-1ddb-4e3b-8e8f-5384cf2ed5de"
      },
      "outputs": [
        {
          "output_type": "execute_result",
          "data": {
            "text/plain": [
              "'n'"
            ],
            "application/vnd.google.colaboratory.intrinsic+json": {
              "type": "string"
            }
          },
          "metadata": {},
          "execution_count": 58
        }
      ],
      "source": [
        "# A negative index will start counting from the right side\n",
        "# Here is the last letter\n",
        "like[-1]"
      ]
    },
    {
      "cell_type": "markdown",
      "id": "5fe325f2",
      "metadata": {
        "id": "5fe325f2"
      },
      "source": [
        "### Optional Exercise\n",
        "Create two string variables, one with your first name, another with your last name.\n",
        "- Concatenate these two variables\n",
        "- Index just the first letter of your name and the first letter of your last name using `[]`, concatenate and print these two characters.\n",
        "- Can you print the initials of your first and last name but this time only in lowercase letters?\n",
        "- Try to print the following rectangle using only string multiplication with `*`\n",
        "\n",
        "`**************` \\\n",
        "`*            *` \\\n",
        "`*            *` \\\n",
        "`*            *` \\\n",
        "`*            *` \\\n",
        "`*            *` \\\n",
        "`**************`"
      ]
    },
    {
      "cell_type": "markdown",
      "id": "6a3766cf",
      "metadata": {
        "id": "6a3766cf"
      },
      "source": [
        "### Boolean Type\n",
        "Objects of Boolean type may have one of two values, `True` or `False`:\n",
        "Expressions in Python are often evaluated in Boolean context, meaning they are interpreted to represent truth or falsehood."
      ]
    },
    {
      "cell_type": "code",
      "execution_count": 59,
      "id": "fbb1b3cc",
      "metadata": {
        "id": "fbb1b3cc",
        "colab": {
          "base_uri": "https://localhost:8080/"
        },
        "outputId": "b45efa03-7767-420f-c7ec-a810af06ff7b"
      },
      "outputs": [
        {
          "output_type": "execute_result",
          "data": {
            "text/plain": [
              "True"
            ]
          },
          "metadata": {},
          "execution_count": 59
        }
      ],
      "source": [
        "# Compare if 4 if less than 5\n",
        "\n",
        "result= (4 < 5)\n",
        "result"
      ]
    },
    {
      "cell_type": "code",
      "execution_count": 60,
      "id": "c61ec305",
      "metadata": {
        "id": "c61ec305",
        "outputId": "c2322e91-6896-4e4a-b793-ec383f0d7a57",
        "colab": {
          "base_uri": "https://localhost:8080/"
        }
      },
      "outputs": [
        {
          "output_type": "execute_result",
          "data": {
            "text/plain": [
              "bool"
            ]
          },
          "metadata": {},
          "execution_count": 60
        }
      ],
      "source": [
        "type(result)"
      ]
    },
    {
      "cell_type": "code",
      "execution_count": 61,
      "id": "b0e45897",
      "metadata": {
        "id": "b0e45897",
        "colab": {
          "base_uri": "https://localhost:8080/"
        },
        "outputId": "5af3a7ca-352a-43fd-aeb9-7d022a520f98"
      },
      "outputs": [
        {
          "output_type": "stream",
          "name": "stdout",
          "text": [
            "True False\n"
          ]
        }
      ],
      "source": [
        "print(True, False)"
      ]
    },
    {
      "cell_type": "code",
      "execution_count": 62,
      "id": "b5aab6f0",
      "metadata": {
        "id": "b5aab6f0",
        "outputId": "00d6b5c1-f6fb-49f2-c117-ebc28f73bc74",
        "colab": {
          "base_uri": "https://localhost:8080/"
        }
      },
      "outputs": [
        {
          "output_type": "execute_result",
          "data": {
            "text/plain": [
              "True"
            ]
          },
          "metadata": {},
          "execution_count": 62
        }
      ],
      "source": [
        "# Not zero\n",
        "bool(2014)"
      ]
    },
    {
      "cell_type": "code",
      "execution_count": 63,
      "id": "3e20f5c3",
      "metadata": {
        "id": "3e20f5c3",
        "outputId": "97ac281a-553a-43ee-8cec-d28d2b4db206",
        "colab": {
          "base_uri": "https://localhost:8080/"
        }
      },
      "outputs": [
        {
          "output_type": "execute_result",
          "data": {
            "text/plain": [
              "False"
            ]
          },
          "metadata": {},
          "execution_count": 63
        }
      ],
      "source": [
        "# A zero is equal to False\n",
        "bool(0)"
      ]
    },
    {
      "cell_type": "code",
      "execution_count": 65,
      "id": "67d70d06",
      "metadata": {
        "id": "67d70d06",
        "outputId": "b5bcd0d1-97a0-4612-9ae7-732b2e872955",
        "colab": {
          "base_uri": "https://localhost:8080/"
        }
      },
      "outputs": [
        {
          "output_type": "execute_result",
          "data": {
            "text/plain": [
              "True"
            ]
          },
          "metadata": {},
          "execution_count": 65
        }
      ],
      "source": [
        "# Also not zero\n",
        "bool(3.1414)"
      ]
    },
    {
      "cell_type": "code",
      "execution_count": 66,
      "id": "61a8db9a",
      "metadata": {
        "id": "61a8db9a",
        "outputId": "6cfdea89-9ca5-432f-8c3f-6e9eafddad72",
        "colab": {
          "base_uri": "https://localhost:8080/"
        }
      },
      "outputs": [
        {
          "output_type": "execute_result",
          "data": {
            "text/plain": [
              "False"
            ]
          },
          "metadata": {},
          "execution_count": 66
        }
      ],
      "source": [
        "# try a bool on None\n",
        "bool(None)"
      ]
    },
    {
      "cell_type": "code",
      "execution_count": 67,
      "id": "c4ac8aec",
      "metadata": {
        "id": "c4ac8aec",
        "colab": {
          "base_uri": "https://localhost:8080/"
        },
        "outputId": "61faaf07-cdfd-4c75-c922-7403c1ce677f"
      },
      "outputs": [
        {
          "output_type": "execute_result",
          "data": {
            "text/plain": [
              "False"
            ]
          },
          "metadata": {},
          "execution_count": 67
        }
      ],
      "source": [
        "# what about an Empty string bool\n",
        "bool('')"
      ]
    },
    {
      "cell_type": "code",
      "execution_count": 68,
      "id": "b55886b2",
      "metadata": {
        "id": "b55886b2",
        "colab": {
          "base_uri": "https://localhost:8080/"
        },
        "outputId": "e987151b-0fdd-4b33-e0ed-5d5ff777aacf"
      },
      "outputs": [
        {
          "output_type": "execute_result",
          "data": {
            "text/plain": [
              "True"
            ]
          },
          "metadata": {},
          "execution_count": 68
        }
      ],
      "source": [
        "bool(\"abc\")"
      ]
    },
    {
      "cell_type": "code",
      "execution_count": 69,
      "id": "510bda47",
      "metadata": {
        "id": "510bda47",
        "colab": {
          "base_uri": "https://localhost:8080/"
        },
        "outputId": "a240c7a4-1f93-4afe-d58f-cc3090df80f7"
      },
      "outputs": [
        {
          "output_type": "execute_result",
          "data": {
            "text/plain": [
              "True"
            ]
          },
          "metadata": {},
          "execution_count": 69
        }
      ],
      "source": [
        "bool([1, 2, 3])"
      ]
    },
    {
      "cell_type": "code",
      "execution_count": 70,
      "id": "6466ab80",
      "metadata": {
        "id": "6466ab80",
        "colab": {
          "base_uri": "https://localhost:8080/"
        },
        "outputId": "bbed4e5b-e3ef-40a4-f0b8-32b7e85ee6a5"
      },
      "outputs": [
        {
          "output_type": "execute_result",
          "data": {
            "text/plain": [
              "False"
            ]
          },
          "metadata": {},
          "execution_count": 70
        }
      ],
      "source": [
        "# Empty list\n",
        "bool([])"
      ]
    },
    {
      "cell_type": "code",
      "execution_count": 71,
      "id": "a1082049",
      "metadata": {
        "id": "a1082049",
        "colab": {
          "base_uri": "https://localhost:8080/"
        },
        "outputId": "38b89df9-66bc-408c-8a5e-0d6d69a86efe"
      },
      "outputs": [
        {
          "output_type": "execute_result",
          "data": {
            "text/plain": [
              "False"
            ]
          },
          "metadata": {},
          "execution_count": 71
        }
      ],
      "source": [
        "bool(0.0)"
      ]
    },
    {
      "cell_type": "code",
      "execution_count": 72,
      "id": "0f4a3cf2",
      "metadata": {
        "id": "0f4a3cf2",
        "colab": {
          "base_uri": "https://localhost:8080/"
        },
        "outputId": "25b52efd-6671-4f88-f126-b346cbf5aeb9"
      },
      "outputs": [
        {
          "output_type": "execute_result",
          "data": {
            "text/plain": [
              "True"
            ]
          },
          "metadata": {},
          "execution_count": 72
        }
      ],
      "source": [
        "bool(1.0)"
      ]
    },
    {
      "cell_type": "code",
      "execution_count": 73,
      "id": "a5ad8551",
      "metadata": {
        "id": "a5ad8551",
        "colab": {
          "base_uri": "https://localhost:8080/"
        },
        "outputId": "6e6234cc-12fc-48d7-fc64-6cf46f0dfddb"
      },
      "outputs": [
        {
          "output_type": "execute_result",
          "data": {
            "text/plain": [
              "1"
            ]
          },
          "metadata": {},
          "execution_count": 73
        }
      ],
      "source": [
        "int(True)"
      ]
    },
    {
      "cell_type": "code",
      "execution_count": 74,
      "id": "ebaa2672",
      "metadata": {
        "id": "ebaa2672",
        "colab": {
          "base_uri": "https://localhost:8080/"
        },
        "outputId": "39455c39-2db4-4233-e239-ed948809647b"
      },
      "outputs": [
        {
          "output_type": "execute_result",
          "data": {
            "text/plain": [
              "0"
            ]
          },
          "metadata": {},
          "execution_count": 74
        }
      ],
      "source": [
        "int(False)"
      ]
    },
    {
      "cell_type": "markdown",
      "id": "156dfe28",
      "metadata": {
        "id": "156dfe28"
      },
      "source": [
        "### Other useful data types\n",
        "### Lists\n",
        "Lists are mutable collections of objects, similar to arrays in other programming languages. Lists are defined in Python by enclosing a comma-separated sequence of objects in square brackets `[]`\n",
        "- Lists are ordered\n",
        "- Lists can contain different types of objects\n",
        "- List objects can be accessed by index\n",
        "- Lists can be nested to arbitrary depth e.g. list of lists\n",
        "- Lists are mutable, they can be changed"
      ]
    },
    {
      "cell_type": "code",
      "execution_count": 76,
      "id": "4add7d38",
      "metadata": {
        "id": "4add7d38",
        "colab": {
          "base_uri": "https://localhost:8080/"
        },
        "outputId": "b529df26-563c-44de-d17e-de0ff28bb153"
      },
      "outputs": [
        {
          "output_type": "execute_result",
          "data": {
            "text/plain": [
              "['John', 'Mary', 'Max', 'Wanda']"
            ]
          },
          "metadata": {},
          "execution_count": 76
        }
      ],
      "source": [
        "# Creating a string list\n",
        "friends = ['John', 'Mary', 'Max', 'Wanda']\n",
        "friends"
      ]
    },
    {
      "cell_type": "code",
      "execution_count": 77,
      "id": "65faca10",
      "metadata": {
        "id": "65faca10",
        "colab": {
          "base_uri": "https://localhost:8080/"
        },
        "outputId": "78c90aa4-0acc-4a8b-d757-922e1f08d994"
      },
      "outputs": [
        {
          "output_type": "execute_result",
          "data": {
            "text/plain": [
              "False"
            ]
          },
          "metadata": {},
          "execution_count": 77
        }
      ],
      "source": [
        "# Lists are ordered\n",
        "# lists with the same elements in different order are not the same\n",
        "a = [1, 2, 3, 4]\n",
        "b = [2, 1, 3, 4]\n",
        "\n",
        "a == b"
      ]
    },
    {
      "cell_type": "code",
      "execution_count": 78,
      "id": "14fa7954",
      "metadata": {
        "id": "14fa7954",
        "colab": {
          "base_uri": "https://localhost:8080/"
        },
        "outputId": "db401b98-8645-490b-cadd-be9103313dbd"
      },
      "outputs": [
        {
          "output_type": "execute_result",
          "data": {
            "text/plain": [
              "False"
            ]
          },
          "metadata": {},
          "execution_count": 78
        }
      ],
      "source": [
        "a is b"
      ]
    },
    {
      "cell_type": "code",
      "execution_count": 79,
      "id": "d0ae682c",
      "metadata": {
        "id": "d0ae682c",
        "colab": {
          "base_uri": "https://localhost:8080/"
        },
        "outputId": "afd8d994-1087-4862-fde7-b166c7caf0cd"
      },
      "outputs": [
        {
          "output_type": "execute_result",
          "data": {
            "text/plain": [
              "[10, 3.14, 'hello', True]"
            ]
          },
          "metadata": {},
          "execution_count": 79
        }
      ],
      "source": [
        "# Lists can contain different types of objects\n",
        "c = [ 10, 3.14, 'hello', True]\n",
        "c"
      ]
    },
    {
      "cell_type": "code",
      "execution_count": 80,
      "id": "1be3520d",
      "metadata": {
        "id": "1be3520d",
        "colab": {
          "base_uri": "https://localhost:8080/"
        },
        "outputId": "2edb60b3-a1ba-44a8-c67a-12945b24f59f"
      },
      "outputs": [
        {
          "output_type": "execute_result",
          "data": {
            "text/plain": [
              "list"
            ]
          },
          "metadata": {},
          "execution_count": 80
        }
      ],
      "source": [
        "type(c)"
      ]
    },
    {
      "cell_type": "code",
      "execution_count": 84,
      "id": "33c22ce1",
      "metadata": {
        "id": "33c22ce1",
        "colab": {
          "base_uri": "https://localhost:8080/"
        },
        "outputId": "423cdcd8-6042-480d-ac34-bcac28c11440"
      },
      "outputs": [
        {
          "output_type": "execute_result",
          "data": {
            "text/plain": [
              "bool"
            ]
          },
          "metadata": {},
          "execution_count": 84
        }
      ],
      "source": [
        "type(c[3])"
      ]
    },
    {
      "cell_type": "code",
      "execution_count": 87,
      "id": "64a0c4a9",
      "metadata": {
        "id": "64a0c4a9"
      },
      "outputs": [],
      "source": [
        "# Lists can contain the same object multiple times\n",
        "d = ['bark' , 'cat' , 'dog']"
      ]
    },
    {
      "cell_type": "code",
      "execution_count": 88,
      "id": "2ea04079",
      "metadata": {
        "id": "2ea04079",
        "colab": {
          "base_uri": "https://localhost:8080/",
          "height": 35
        },
        "outputId": "884bfc05-3f7d-406d-ee56-1d15c62b2f18"
      },
      "outputs": [
        {
          "output_type": "execute_result",
          "data": {
            "text/plain": [
              "'bark'"
            ],
            "application/vnd.google.colaboratory.intrinsic+json": {
              "type": "string"
            }
          },
          "metadata": {},
          "execution_count": 88
        }
      ],
      "source": [
        "# Lists objects can be accessed by index\n",
        "d[0]"
      ]
    },
    {
      "cell_type": "code",
      "execution_count": 89,
      "id": "5c65e5ee",
      "metadata": {
        "id": "5c65e5ee",
        "colab": {
          "base_uri": "https://localhost:8080/",
          "height": 35
        },
        "outputId": "2a769666-9dd3-4999-f13e-2c71855d99aa"
      },
      "outputs": [
        {
          "output_type": "execute_result",
          "data": {
            "text/plain": [
              "'cat'"
            ],
            "application/vnd.google.colaboratory.intrinsic+json": {
              "type": "string"
            }
          },
          "metadata": {},
          "execution_count": 89
        }
      ],
      "source": [
        "d[1]"
      ]
    },
    {
      "cell_type": "code",
      "execution_count": 95,
      "id": "b0d744d5",
      "metadata": {
        "id": "b0d744d5",
        "colab": {
          "base_uri": "https://localhost:8080/",
          "height": 35
        },
        "outputId": "6977a4ae-b569-41c7-f416-63263f003477"
      },
      "outputs": [
        {
          "output_type": "execute_result",
          "data": {
            "text/plain": [
              "'dog'"
            ],
            "application/vnd.google.colaboratory.intrinsic+json": {
              "type": "string"
            }
          },
          "metadata": {},
          "execution_count": 95
        }
      ],
      "source": [
        "# Remember a negative index counts from the end of the list\n",
        "d[-1]"
      ]
    },
    {
      "cell_type": "markdown",
      "id": "1b769660",
      "metadata": {
        "id": "1b769660"
      },
      "source": [
        "Slicing a list means taking a range of the objects that exist in that list, this is done by the square brackets and two index numbers separated by `:` similar to this `[0:3]`. In a list `a`, `a[m:n]` returns the portion of a from index m to, but not including, index n"
      ]
    },
    {
      "cell_type": "code",
      "execution_count": 101,
      "id": "f2db9054",
      "metadata": {
        "id": "f2db9054",
        "colab": {
          "base_uri": "https://localhost:8080/"
        },
        "outputId": "68acf12d-9573-42af-e2c6-9f555f335635"
      },
      "outputs": [
        {
          "output_type": "execute_result",
          "data": {
            "text/plain": [
              "['John', 'Mary']"
            ]
          },
          "metadata": {},
          "execution_count": 101
        }
      ],
      "source": [
        "#slicing list\n",
        "friends\n",
        "friends[0:2]"
      ]
    },
    {
      "cell_type": "code",
      "execution_count": 108,
      "id": "b6d5d7d6",
      "metadata": {
        "id": "b6d5d7d6",
        "colab": {
          "base_uri": "https://localhost:8080/"
        },
        "outputId": "944920e7-61fb-4b21-cf40-0eb8194288d7"
      },
      "outputs": [
        {
          "output_type": "execute_result",
          "data": {
            "text/plain": [
              "['John', 'Mary', 'Max']"
            ]
          },
          "metadata": {},
          "execution_count": 108
        }
      ],
      "source": [
        "# not including index 3\n",
        "friends[0:3]"
      ]
    },
    {
      "cell_type": "code",
      "execution_count": 106,
      "id": "000942df",
      "metadata": {
        "id": "000942df",
        "colab": {
          "base_uri": "https://localhost:8080/",
          "height": 35
        },
        "outputId": "dd267a31-ec89-45c8-9ae1-5127a17a93d9"
      },
      "outputs": [
        {
          "output_type": "execute_result",
          "data": {
            "text/plain": [
              "'Wanda'"
            ],
            "application/vnd.google.colaboratory.intrinsic+json": {
              "type": "string"
            }
          },
          "metadata": {},
          "execution_count": 106
        }
      ],
      "source": [
        "friends[3]"
      ]
    },
    {
      "cell_type": "code",
      "execution_count": 109,
      "id": "2a5e7c1e",
      "metadata": {
        "id": "2a5e7c1e",
        "colab": {
          "base_uri": "https://localhost:8080/"
        },
        "outputId": "e0e4870d-0727-4e76-83f7-867eb41678b8"
      },
      "outputs": [
        {
          "output_type": "execute_result",
          "data": {
            "text/plain": [
              "['Mary', 'Max', 'Wanda']"
            ]
          },
          "metadata": {},
          "execution_count": 109
        }
      ],
      "source": [
        "# Negative slicing is supported\n",
        "friends[-3 : 4]"
      ]
    },
    {
      "cell_type": "code",
      "execution_count": 110,
      "id": "538dcb72",
      "metadata": {
        "id": "538dcb72",
        "outputId": "010ef874-00b3-4241-e8c9-7ba521921c26",
        "colab": {
          "base_uri": "https://localhost:8080/"
        }
      },
      "outputs": [
        {
          "output_type": "execute_result",
          "data": {
            "text/plain": [
              "['John', 'Mary', 'Max']"
            ]
          },
          "metadata": {},
          "execution_count": 110
        }
      ],
      "source": [
        "# Omiting the first index starts at the beginning of the list\n",
        "friends[:3]"
      ]
    },
    {
      "cell_type": "code",
      "execution_count": 111,
      "id": "21e387e2",
      "metadata": {
        "id": "21e387e2",
        "colab": {
          "base_uri": "https://localhost:8080/"
        },
        "outputId": "c4894e7b-64e6-488f-e6c2-15ae93b8ecef"
      },
      "outputs": [
        {
          "output_type": "execute_result",
          "data": {
            "text/plain": [
              "['John', 'Mary', 'Max', 'Wanda']"
            ]
          },
          "metadata": {},
          "execution_count": 111
        }
      ],
      "source": [
        "# Omiting the second index extend the slice to the end of the list\n",
        "friends[0:]"
      ]
    },
    {
      "cell_type": "code",
      "execution_count": 112,
      "id": "187c870f",
      "metadata": {
        "id": "187c870f",
        "colab": {
          "base_uri": "https://localhost:8080/"
        },
        "outputId": "dbc4b131-8dd6-4590-fcc5-b628e15e11b4"
      },
      "outputs": [
        {
          "output_type": "execute_result",
          "data": {
            "text/plain": [
              "['John', 'Max']"
            ]
          },
          "metadata": {},
          "execution_count": 112
        }
      ],
      "source": [
        "# You can also specify a step\n",
        "friends[0:4:2]"
      ]
    },
    {
      "cell_type": "code",
      "execution_count": 113,
      "id": "7e202ccb",
      "metadata": {
        "id": "7e202ccb",
        "colab": {
          "base_uri": "https://localhost:8080/"
        },
        "outputId": "3a585573-23ef-4eb5-9c07-7267d53cfe01"
      },
      "outputs": [
        {
          "output_type": "execute_result",
          "data": {
            "text/plain": [
              "[0, 1, 2, 3, 4, 5, 6, 7, 8, 9]"
            ]
          },
          "metadata": {},
          "execution_count": 113
        }
      ],
      "source": [
        "# Lets visualize step/stride with a numeric list\n",
        "numbers = [0, 1, 2, 3, 4, 5, 6, 7, 8, 9]\n",
        "numbers"
      ]
    },
    {
      "cell_type": "code",
      "execution_count": 114,
      "id": "e5b4299b",
      "metadata": {
        "id": "e5b4299b",
        "colab": {
          "base_uri": "https://localhost:8080/"
        },
        "outputId": "08714287-f882-4ebc-edd6-71fb1c7d6829"
      },
      "outputs": [
        {
          "output_type": "execute_result",
          "data": {
            "text/plain": [
              "[0, 2, 4, 6, 8]"
            ]
          },
          "metadata": {},
          "execution_count": 114
        }
      ],
      "source": [
        "# Start in index 0, include all elements, step every 2 elements\n",
        "numbers[0::2]"
      ]
    },
    {
      "cell_type": "code",
      "execution_count": 115,
      "id": "ae80c559",
      "metadata": {
        "id": "ae80c559",
        "colab": {
          "base_uri": "https://localhost:8080/",
          "height": 35
        },
        "outputId": "c0a059df-2a88-4d15-b023-02f537a33b6c"
      },
      "outputs": [
        {
          "output_type": "execute_result",
          "data": {
            "text/plain": [
              "'Hello'"
            ],
            "application/vnd.google.colaboratory.intrinsic+json": {
              "type": "string"
            }
          },
          "metadata": {},
          "execution_count": 115
        }
      ],
      "source": [
        "# You can also slice strings!\n",
        "message = 'Hello'\n",
        "message[:]"
      ]
    },
    {
      "cell_type": "code",
      "execution_count": 118,
      "id": "499bcc44",
      "metadata": {
        "id": "499bcc44",
        "colab": {
          "base_uri": "https://localhost:8080/",
          "height": 35
        },
        "outputId": "cb6086ba-880d-4f82-93fb-3529a68df801"
      },
      "outputs": [
        {
          "output_type": "execute_result",
          "data": {
            "text/plain": [
              "'llo'"
            ],
            "application/vnd.google.colaboratory.intrinsic+json": {
              "type": "string"
            }
          },
          "metadata": {},
          "execution_count": 118
        }
      ],
      "source": [
        "message[2:5]"
      ]
    },
    {
      "cell_type": "markdown",
      "id": "752a8084",
      "metadata": {
        "id": "752a8084"
      },
      "source": [
        "The concatenation (+) and replication (*) operators:\n"
      ]
    },
    {
      "cell_type": "code",
      "execution_count": 119,
      "id": "89d9c0ee",
      "metadata": {
        "id": "89d9c0ee",
        "colab": {
          "base_uri": "https://localhost:8080/"
        },
        "outputId": "227b2343-dd54-4475-eea9-73a317a90ca7"
      },
      "outputs": [
        {
          "output_type": "execute_result",
          "data": {
            "text/plain": [
              "['hello', 'yes', 'no']"
            ]
          },
          "metadata": {},
          "execution_count": 119
        }
      ],
      "source": [
        "e = ['hello', 'yes', 'no']\n",
        "e"
      ]
    },
    {
      "cell_type": "code",
      "execution_count": 125,
      "id": "aa2f6237",
      "metadata": {
        "id": "aa2f6237",
        "colab": {
          "base_uri": "https://localhost:8080/"
        },
        "outputId": "26422ebd-df81-47a0-a17f-6137ad428dd5"
      },
      "outputs": [
        {
          "output_type": "execute_result",
          "data": {
            "text/plain": [
              "['hello', 'yes', 'no', 'here', 'mylist']"
            ]
          },
          "metadata": {},
          "execution_count": 125
        }
      ],
      "source": [
        "e + ['here' , 'mylist']"
      ]
    },
    {
      "cell_type": "code",
      "execution_count": 126,
      "id": "ed1fac87",
      "metadata": {
        "id": "ed1fac87",
        "colab": {
          "base_uri": "https://localhost:8080/"
        },
        "outputId": "c10b8d4a-5190-4cc5-b38c-3e397a611ea6"
      },
      "outputs": [
        {
          "output_type": "execute_result",
          "data": {
            "text/plain": [
              "['hello', 'yes', 'no', 'hello', 'yes', 'no']"
            ]
          },
          "metadata": {},
          "execution_count": 126
        }
      ],
      "source": [
        "e * 2"
      ]
    },
    {
      "cell_type": "markdown",
      "id": "553f2fb4",
      "metadata": {
        "id": "553f2fb4"
      },
      "source": [
        "The len(), min(), and max() functions"
      ]
    },
    {
      "cell_type": "code",
      "execution_count": 127,
      "id": "639a486a",
      "metadata": {
        "id": "639a486a",
        "colab": {
          "base_uri": "https://localhost:8080/"
        },
        "outputId": "e9299cd2-a04c-484e-87c1-14cafbfe7578"
      },
      "outputs": [
        {
          "output_type": "execute_result",
          "data": {
            "text/plain": [
              "5"
            ]
          },
          "metadata": {},
          "execution_count": 127
        }
      ],
      "source": [
        "f = [5, 10, 15, 20, 25]\n",
        "len(f)"
      ]
    },
    {
      "cell_type": "code",
      "execution_count": 128,
      "id": "fa4cfa36",
      "metadata": {
        "id": "fa4cfa36",
        "colab": {
          "base_uri": "https://localhost:8080/"
        },
        "outputId": "71e9f0e9-ecc6-4e97-ecf5-6741d8b1b600"
      },
      "outputs": [
        {
          "output_type": "execute_result",
          "data": {
            "text/plain": [
              "5"
            ]
          },
          "metadata": {},
          "execution_count": 128
        }
      ],
      "source": [
        "min(f)\n",
        "# Try this function with a string list. Can you explain what is happening?"
      ]
    },
    {
      "cell_type": "code",
      "execution_count": 129,
      "id": "43f778ea",
      "metadata": {
        "id": "43f778ea",
        "colab": {
          "base_uri": "https://localhost:8080/"
        },
        "outputId": "f4da3123-4c03-44bc-c083-df4f79d7e488"
      },
      "outputs": [
        {
          "output_type": "execute_result",
          "data": {
            "text/plain": [
              "25"
            ]
          },
          "metadata": {},
          "execution_count": 129
        }
      ],
      "source": [
        "max(f)\n",
        "# Try this function with a string list. Can you explain what is happening?"
      ]
    },
    {
      "cell_type": "markdown",
      "id": "e93b35a1",
      "metadata": {
        "id": "e93b35a1"
      },
      "source": [
        "Lists can be nested"
      ]
    },
    {
      "cell_type": "code",
      "execution_count": 130,
      "id": "67c25d8e",
      "metadata": {
        "id": "67c25d8e",
        "colab": {
          "base_uri": "https://localhost:8080/"
        },
        "outputId": "7f5ac22d-7581-48c8-8a43-a0ee0c02f3fd"
      },
      "outputs": [
        {
          "output_type": "execute_result",
          "data": {
            "text/plain": [
              "[[1, 2, 3, 4], [10, 20, 30], ['hello', 'from', 'my list']]"
            ]
          },
          "metadata": {},
          "execution_count": 130
        }
      ],
      "source": [
        "my_lists = [[1, 2, 3, 4], [10, 20, 30], ['hello', 'from', 'my list']]\n",
        "my_lists"
      ]
    },
    {
      "cell_type": "code",
      "execution_count": 131,
      "id": "926818e8",
      "metadata": {
        "id": "926818e8",
        "colab": {
          "base_uri": "https://localhost:8080/"
        },
        "outputId": "76af6f71-edba-4c32-c282-a874481b95b3"
      },
      "outputs": [
        {
          "output_type": "execute_result",
          "data": {
            "text/plain": [
              "[1, 2, 3, 4]"
            ]
          },
          "metadata": {},
          "execution_count": 131
        }
      ],
      "source": [
        "my_lists[0]"
      ]
    },
    {
      "cell_type": "code",
      "execution_count": 134,
      "id": "2656eb4d",
      "metadata": {
        "id": "2656eb4d",
        "colab": {
          "base_uri": "https://localhost:8080/"
        },
        "outputId": "ea9df8a0-8b9b-433f-8abb-3fdb80dc958d"
      },
      "outputs": [
        {
          "output_type": "execute_result",
          "data": {
            "text/plain": [
              "3"
            ]
          },
          "metadata": {},
          "execution_count": 134
        }
      ],
      "source": [
        "# Accessing the second index\n",
        "my_lists[0][2]"
      ]
    },
    {
      "cell_type": "code",
      "execution_count": 135,
      "id": "3f9b96c5",
      "metadata": {
        "id": "3f9b96c5",
        "colab": {
          "base_uri": "https://localhost:8080/"
        },
        "outputId": "ba87ea97-1049-4d2e-cd41-da91e6fa428d"
      },
      "outputs": [
        {
          "output_type": "execute_result",
          "data": {
            "text/plain": [
              "['hello', 'from', 'my list']"
            ]
          },
          "metadata": {},
          "execution_count": 135
        }
      ],
      "source": [
        "my_lists[2]"
      ]
    },
    {
      "cell_type": "markdown",
      "id": "4388b319",
      "metadata": {
        "id": "4388b319"
      },
      "source": [
        "Lists are mutable, meaning they can be changed"
      ]
    },
    {
      "cell_type": "code",
      "execution_count": 146,
      "id": "c400c936",
      "metadata": {
        "id": "c400c936",
        "outputId": "408c829f-1fd2-4912-e179-a5c0f33869d7",
        "colab": {
          "base_uri": "https://localhost:8080/"
        }
      },
      "outputs": [
        {
          "output_type": "execute_result",
          "data": {
            "text/plain": [
              "['eggs', 'cheese', 'milk', 'bread']"
            ]
          },
          "metadata": {},
          "execution_count": 146
        }
      ],
      "source": [
        "groceries = ['eggs', 'cheese', 'milk', 'bread']\n",
        "groceries"
      ]
    },
    {
      "cell_type": "code",
      "execution_count": 147,
      "id": "5483caa4",
      "metadata": {
        "id": "5483caa4"
      },
      "outputs": [],
      "source": [
        "groceries[2] = 'soy milk'"
      ]
    },
    {
      "cell_type": "code",
      "execution_count": 148,
      "id": "767edce9",
      "metadata": {
        "id": "767edce9",
        "outputId": "e3c340de-3a93-454f-ed54-10c796cd6b4c",
        "colab": {
          "base_uri": "https://localhost:8080/"
        }
      },
      "outputs": [
        {
          "output_type": "execute_result",
          "data": {
            "text/plain": [
              "['eggs', 'cheese', 'soy milk', 'bread']"
            ]
          },
          "metadata": {},
          "execution_count": 148
        }
      ],
      "source": [
        "groceries"
      ]
    },
    {
      "cell_type": "code",
      "execution_count": 149,
      "id": "2c70d911",
      "metadata": {
        "id": "2c70d911",
        "colab": {
          "base_uri": "https://localhost:8080/"
        },
        "outputId": "2771bcd3-01cd-41fb-c0fc-d3be4db4499e"
      },
      "outputs": [
        {
          "output_type": "execute_result",
          "data": {
            "text/plain": [
              "['eggs', 'soy milk', 'bread']"
            ]
          },
          "metadata": {},
          "execution_count": 149
        }
      ],
      "source": [
        "# delete an element with del()\n",
        "del groceries[1]\n",
        "groceries"
      ]
    },
    {
      "cell_type": "code",
      "execution_count": 150,
      "id": "9b43a237",
      "metadata": {
        "id": "9b43a237"
      },
      "outputs": [],
      "source": [
        "# Add a value at the end of a list with append\n",
        "\n",
        "groceries.append('coffee')"
      ]
    },
    {
      "cell_type": "code",
      "execution_count": 152,
      "id": "90ba3f90",
      "metadata": {
        "id": "90ba3f90",
        "outputId": "c8e23b67-6551-4465-9f9f-5e9935ce1a02",
        "colab": {
          "base_uri": "https://localhost:8080/"
        }
      },
      "outputs": [
        {
          "output_type": "execute_result",
          "data": {
            "text/plain": [
              "['bread', 'coffee', 'eggs', 'soy milk']"
            ]
          },
          "metadata": {},
          "execution_count": 152
        }
      ],
      "source": [
        "# sort a list\n",
        "groceries.sort()\n",
        "groceries"
      ]
    },
    {
      "cell_type": "code",
      "execution_count": 170,
      "id": "fb475e99",
      "metadata": {
        "id": "fb475e99",
        "outputId": "415e660b-fd8a-4069-b172-db60dad68756",
        "colab": {
          "base_uri": "https://localhost:8080/"
        }
      },
      "outputs": [
        {
          "output_type": "execute_result",
          "data": {
            "text/plain": [
              "[22, 18, 15, 25, 26, 19, 35, 42]"
            ]
          },
          "metadata": {},
          "execution_count": 170
        }
      ],
      "source": [
        "ages = [22, 18, 15, 25, 26, 19, 35, 42]\n",
        "ages"
      ]
    },
    {
      "cell_type": "code",
      "execution_count": 171,
      "id": "a35aaf5a",
      "metadata": {
        "id": "a35aaf5a",
        "colab": {
          "base_uri": "https://localhost:8080/"
        },
        "outputId": "8a45d9d6-0db3-4bf0-ecfa-38f9f0c98e51"
      },
      "outputs": [
        {
          "output_type": "execute_result",
          "data": {
            "text/plain": [
              "[15, 18, 19, 22, 25, 26, 35, 42]"
            ]
          },
          "metadata": {},
          "execution_count": 171
        }
      ],
      "source": [
        "ages.sort()\n",
        "ages"
      ]
    },
    {
      "cell_type": "code",
      "execution_count": 158,
      "id": "402772f3",
      "metadata": {
        "id": "402772f3",
        "colab": {
          "base_uri": "https://localhost:8080/"
        },
        "outputId": "f3d1897c-275d-40f6-93df-14c89506125d"
      },
      "outputs": [
        {
          "output_type": "execute_result",
          "data": {
            "text/plain": [
              "[42, 35, 26, 25, 22, 19, 18, 15]"
            ]
          },
          "metadata": {},
          "execution_count": 158
        }
      ],
      "source": [
        "# Invert a list\n",
        "ages[::-1]"
      ]
    },
    {
      "cell_type": "code",
      "execution_count": null,
      "id": "bba06ef4",
      "metadata": {
        "id": "bba06ef4"
      },
      "outputs": [],
      "source": []
    },
    {
      "cell_type": "code",
      "execution_count": 172,
      "id": "0579280f",
      "metadata": {
        "id": "0579280f",
        "colab": {
          "base_uri": "https://localhost:8080/"
        },
        "outputId": "25bf5d67-161b-417c-fa44-6c8f862a73a6"
      },
      "outputs": [
        {
          "output_type": "execute_result",
          "data": {
            "text/plain": [
              "[15, 18, 22, 25, 26, 35, 42]"
            ]
          },
          "metadata": {},
          "execution_count": 172
        }
      ],
      "source": [
        "# Delete an element from a specified index\n",
        "ages.pop(2)\n",
        "ages"
      ]
    },
    {
      "cell_type": "code",
      "execution_count": 173,
      "id": "edff7aa5",
      "metadata": {
        "id": "edff7aa5",
        "colab": {
          "base_uri": "https://localhost:8080/"
        },
        "outputId": "d8c2abcc-3bda-4644-f7bd-ffc02d8f39dc"
      },
      "outputs": [
        {
          "output_type": "execute_result",
          "data": {
            "text/plain": [
              "[15, 18, 22, 26, 35, 42]"
            ]
          },
          "metadata": {},
          "execution_count": 173
        }
      ],
      "source": [
        "# You can also specify a value to remove with .remove()\n",
        "ages.remove(25)\n",
        "ages"
      ]
    },
    {
      "cell_type": "code",
      "execution_count": 176,
      "id": "1ef9eb85",
      "metadata": {
        "id": "1ef9eb85",
        "colab": {
          "base_uri": "https://localhost:8080/"
        },
        "outputId": "97a84cd9-a83e-43b0-c2b9-14b894afd670"
      },
      "outputs": [
        {
          "output_type": "execute_result",
          "data": {
            "text/plain": [
              "[15, 18, 30, 30, 22, 30, 26, 35, 42]"
            ]
          },
          "metadata": {},
          "execution_count": 176
        }
      ],
      "source": [
        "# Insert a value at a specified index\n",
        "ages.insert(2,30)\n",
        "ages"
      ]
    },
    {
      "cell_type": "markdown",
      "id": "fbfce63d",
      "metadata": {
        "id": "fbfce63d"
      },
      "source": [
        "### Tuples\n",
        "Tuples are static ordered collections of objects.\n",
        "Tuples are identical to lists except in the following:\n",
        "- Tuples are defined by `()`\n",
        "- Tuples are inmutable, they cannot change"
      ]
    },
    {
      "cell_type": "code",
      "execution_count": 178,
      "id": "5d74f8dc",
      "metadata": {
        "id": "5d74f8dc",
        "colab": {
          "base_uri": "https://localhost:8080/"
        },
        "outputId": "03c4690a-fb94-466a-bd5b-24b007a58081"
      },
      "outputs": [
        {
          "output_type": "execute_result",
          "data": {
            "text/plain": [
              "('here', 'is', 'a', 'tuple')"
            ]
          },
          "metadata": {},
          "execution_count": 178
        }
      ],
      "source": [
        "t = ('here' , 'is' , 'a' , 'tuple')\n",
        "t"
      ]
    },
    {
      "cell_type": "code",
      "execution_count": 179,
      "id": "6a640ad9",
      "metadata": {
        "id": "6a640ad9",
        "colab": {
          "base_uri": "https://localhost:8080/",
          "height": 35
        },
        "outputId": "d2176119-6f2f-43f5-bf9f-6da3078d6bd8"
      },
      "outputs": [
        {
          "output_type": "execute_result",
          "data": {
            "text/plain": [
              "'here'"
            ],
            "application/vnd.google.colaboratory.intrinsic+json": {
              "type": "string"
            }
          },
          "metadata": {},
          "execution_count": 179
        }
      ],
      "source": [
        "t[0]"
      ]
    },
    {
      "cell_type": "code",
      "execution_count": 180,
      "id": "1776cf43",
      "metadata": {
        "id": "1776cf43",
        "colab": {
          "base_uri": "https://localhost:8080/"
        },
        "outputId": "0521e53b-e31b-4c18-f18b-b072bc879dcb"
      },
      "outputs": [
        {
          "output_type": "execute_result",
          "data": {
            "text/plain": [
              "('here', 'is', 'a', 'tuple')"
            ]
          },
          "metadata": {},
          "execution_count": 180
        }
      ],
      "source": [
        "t[0:]"
      ]
    },
    {
      "cell_type": "code",
      "execution_count": 181,
      "id": "604bf39d",
      "metadata": {
        "id": "604bf39d",
        "colab": {
          "base_uri": "https://localhost:8080/",
          "height": 35
        },
        "outputId": "38075a3b-56ba-4ee7-db9a-c1cc558ff9a6"
      },
      "outputs": [
        {
          "output_type": "execute_result",
          "data": {
            "text/plain": [
              "'tuple'"
            ],
            "application/vnd.google.colaboratory.intrinsic+json": {
              "type": "string"
            }
          },
          "metadata": {},
          "execution_count": 181
        }
      ],
      "source": [
        "t[-1]"
      ]
    },
    {
      "cell_type": "code",
      "execution_count": 182,
      "id": "4d9d6c44",
      "metadata": {
        "id": "4d9d6c44",
        "colab": {
          "base_uri": "https://localhost:8080/"
        },
        "outputId": "6daacfdd-bc9a-4c38-cd0a-697dedc93ce3"
      },
      "outputs": [
        {
          "output_type": "execute_result",
          "data": {
            "text/plain": [
              "('is', 'a')"
            ]
          },
          "metadata": {},
          "execution_count": 182
        }
      ],
      "source": [
        "t[1:3]"
      ]
    },
    {
      "cell_type": "code",
      "execution_count": 183,
      "id": "ab2dd269",
      "metadata": {
        "id": "ab2dd269",
        "colab": {
          "base_uri": "https://localhost:8080/",
          "height": 162
        },
        "outputId": "f7148cee-b1c6-4c15-a5d1-1accafefce7e"
      },
      "outputs": [
        {
          "output_type": "error",
          "ename": "TypeError",
          "evalue": "'tuple' object does not support item assignment",
          "traceback": [
            "\u001b[0;31m---------------------------------------------------------------------------\u001b[0m",
            "\u001b[0;31mTypeError\u001b[0m                                 Traceback (most recent call last)",
            "\u001b[0;32m<ipython-input-183-eba597517669>\u001b[0m in \u001b[0;36m<cell line: 2>\u001b[0;34m()\u001b[0m\n\u001b[1;32m      1\u001b[0m \u001b[0;31m# you cannot modify a tuple\u001b[0m\u001b[0;34m\u001b[0m\u001b[0;34m\u001b[0m\u001b[0m\n\u001b[0;32m----> 2\u001b[0;31m \u001b[0mt\u001b[0m\u001b[0;34m[\u001b[0m\u001b[0;36m2\u001b[0m\u001b[0;34m]\u001b[0m \u001b[0;34m=\u001b[0m \u001b[0;34m'one'\u001b[0m\u001b[0;34m\u001b[0m\u001b[0;34m\u001b[0m\u001b[0m\n\u001b[0m",
            "\u001b[0;31mTypeError\u001b[0m: 'tuple' object does not support item assignment"
          ]
        }
      ],
      "source": [
        "# you cannot modify a tuple\n",
        "t[2] = 'one'"
      ]
    },
    {
      "cell_type": "markdown",
      "id": "46859bd8",
      "metadata": {
        "id": "46859bd8"
      },
      "source": [
        "Why use a tuple?\n",
        "Program execution is faster when manipulating a tuple than it is for the equivalent list. (This is probably not going to be noticeable when the list or tuple is small.)\n",
        "\n",
        "Sometimes you don’t want data to be modified. If the values in the collection are meant to remain constant for the life of the program, using a tuple instead of a list guards against accidental modification."
      ]
    },
    {
      "cell_type": "markdown",
      "id": "6f65270a",
      "metadata": {
        "id": "6f65270a"
      },
      "source": [
        "### Finally, dictionaries\n",
        "Dictionaries and lists share the following characteristics:\n",
        "\n",
        "- Both are mutable.\n",
        "- Both are dynamic. They can grow and shrink as needed.\n",
        "- Both can be nested. A list can contain another list. A dictionary can contain another dictionary. A dictionary can also contain a list, and vice versa.\n",
        "\n",
        "Dictionaries differ from lists primarily in how elements are accessed:\n",
        "\n",
        "- List elements are accessed by their position in the list, via indexing.\n",
        "- Dictionary elements are accessed via keys.\n",
        "\n",
        "`{key:value}`"
      ]
    },
    {
      "cell_type": "code",
      "execution_count": 184,
      "id": "a629af63",
      "metadata": {
        "id": "a629af63",
        "colab": {
          "base_uri": "https://localhost:8080/"
        },
        "outputId": "549f28ee-39ec-4ea2-a86c-d269873869e2"
      },
      "outputs": [
        {
          "output_type": "execute_result",
          "data": {
            "text/plain": [
              "{'USA': 'Baseball', 'Canada': 'Hockey', 'Mexico': 'Soccer'}"
            ]
          },
          "metadata": {},
          "execution_count": 184
        }
      ],
      "source": [
        "d = {'USA' : 'Baseball', 'Canada' : 'Hockey', 'Mexico' : 'Soccer'}\n",
        "d"
      ]
    },
    {
      "cell_type": "code",
      "execution_count": 186,
      "id": "0fb41624",
      "metadata": {
        "id": "0fb41624",
        "colab": {
          "base_uri": "https://localhost:8080/",
          "height": 35
        },
        "outputId": "ef776dbd-d9d3-445a-b073-82721fd21199"
      },
      "outputs": [
        {
          "output_type": "execute_result",
          "data": {
            "text/plain": [
              "'Baseball'"
            ],
            "application/vnd.google.colaboratory.intrinsic+json": {
              "type": "string"
            }
          },
          "metadata": {},
          "execution_count": 186
        }
      ],
      "source": [
        "# To access a value, call the dictionary key\n",
        "d['USA']"
      ]
    },
    {
      "cell_type": "code",
      "execution_count": 187,
      "id": "50c3d9ac",
      "metadata": {
        "id": "50c3d9ac",
        "colab": {
          "base_uri": "https://localhost:8080/"
        },
        "outputId": "48412975-85a7-4541-d4db-150fbb118f39"
      },
      "outputs": [
        {
          "output_type": "execute_result",
          "data": {
            "text/plain": [
              "{'USA': 'Football', 'Canada': 'Hockey', 'Mexico': 'Soccer'}"
            ]
          },
          "metadata": {},
          "execution_count": 187
        }
      ],
      "source": [
        "# Dictionaries can be changed\n",
        "d['USA'] = 'Football'\n",
        "d"
      ]
    },
    {
      "cell_type": "code",
      "execution_count": 188,
      "id": "f879a757",
      "metadata": {
        "id": "f879a757",
        "colab": {
          "base_uri": "https://localhost:8080/"
        },
        "outputId": "348441a5-5094-4713-b1ee-016fd0e2d7a7"
      },
      "outputs": [
        {
          "output_type": "execute_result",
          "data": {
            "text/plain": [
              "{'USA': 'Football',\n",
              " 'Canada': 'Hockey',\n",
              " 'Mexico': 'Soccer',\n",
              " 'Chile': 'Bird watching'}"
            ]
          },
          "metadata": {},
          "execution_count": 188
        }
      ],
      "source": [
        "# To add a new key value just assign a new one\n",
        "d['Chile'] = 'Bird watching'\n",
        "d"
      ]
    },
    {
      "cell_type": "code",
      "execution_count": 189,
      "id": "2f1c3d60",
      "metadata": {
        "id": "2f1c3d60",
        "colab": {
          "base_uri": "https://localhost:8080/"
        },
        "outputId": "4b0a5b79-753d-4d3d-e7fa-d022d9f073d6"
      },
      "outputs": [
        {
          "output_type": "execute_result",
          "data": {
            "text/plain": [
              "{'USA': 'Football', 'Canada': 'Hockey', 'Mexico': 'Soccer', 'Chile': 'Surfing'}"
            ]
          },
          "metadata": {},
          "execution_count": 189
        }
      ],
      "source": [
        "# Updating an entry works similarly\n",
        "d['Chile'] = 'Surfing'\n",
        "d"
      ]
    },
    {
      "cell_type": "code",
      "execution_count": 192,
      "id": "7a889e3f",
      "metadata": {
        "id": "7a889e3f",
        "colab": {
          "base_uri": "https://localhost:8080/"
        },
        "outputId": "efd6dd8c-07d6-4c53-a95d-3a9eeca0c535"
      },
      "outputs": [
        {
          "output_type": "execute_result",
          "data": {
            "text/plain": [
              "{'USA': 'Football', 'Canada': 'Hockey', 'Chile': 'Surfing'}"
            ]
          },
          "metadata": {},
          "execution_count": 192
        }
      ],
      "source": [
        "# To delete an element use the del statement and the key\n",
        "del d['Mexico']\n",
        "d"
      ]
    },
    {
      "cell_type": "code",
      "execution_count": 193,
      "id": "0334f47c",
      "metadata": {
        "id": "0334f47c",
        "colab": {
          "base_uri": "https://localhost:8080/"
        },
        "outputId": "1347efc9-3c50-400b-ba56-65d5b13bdb95"
      },
      "outputs": [
        {
          "output_type": "execute_result",
          "data": {
            "text/plain": [
              "{3: 'd', 2: 'c', 1: 'b', 0: 'a'}"
            ]
          },
          "metadata": {},
          "execution_count": 193
        }
      ],
      "source": [
        "# Integers can also be used as keys\n",
        "d2 = { 3 : 'd' , 2 : 'c' , 1 : 'b' , 0 : 'a'}\n",
        "d2"
      ]
    },
    {
      "cell_type": "code",
      "execution_count": 194,
      "id": "99be702d",
      "metadata": {
        "id": "99be702d",
        "colab": {
          "base_uri": "https://localhost:8080/",
          "height": 35
        },
        "outputId": "c30ba842-36f0-4756-f514-59722866ffc2"
      },
      "outputs": [
        {
          "output_type": "execute_result",
          "data": {
            "text/plain": [
              "'a'"
            ],
            "application/vnd.google.colaboratory.intrinsic+json": {
              "type": "string"
            }
          },
          "metadata": {},
          "execution_count": 194
        }
      ],
      "source": [
        "d2[0]"
      ]
    },
    {
      "cell_type": "code",
      "execution_count": 195,
      "id": "15e701ad",
      "metadata": {
        "id": "15e701ad",
        "outputId": "29ecafe3-e46c-4c5b-a540-8f1dcc6f05bd",
        "colab": {
          "base_uri": "https://localhost:8080/"
        }
      },
      "outputs": [
        {
          "output_type": "execute_result",
          "data": {
            "text/plain": [
              "{'names': ['Jon', 'Bob', 'Randy'],\n",
              " 'ages': [25, 26, 27],\n",
              " 'pets': {'dog': 'Max', 'cat': 'Butter', 'turtle': 'Speedy'}}"
            ]
          },
          "metadata": {},
          "execution_count": 195
        }
      ],
      "source": [
        "d3 = {}\n",
        "\n",
        "d3['names'] = ['Jon', 'Bob', 'Randy']\n",
        "d3['ages'] = [ 25, 26, 27]\n",
        "d3['pets'] = {'dog' : 'Max', 'cat' : 'Butter', 'turtle' : 'Speedy'}\n",
        "\n",
        "d3"
      ]
    },
    {
      "cell_type": "code",
      "execution_count": 196,
      "id": "c944027e",
      "metadata": {
        "id": "c944027e",
        "colab": {
          "base_uri": "https://localhost:8080/",
          "height": 35
        },
        "outputId": "314abd65-27c3-40ce-a9e7-90f14d1c992f"
      },
      "outputs": [
        {
          "output_type": "execute_result",
          "data": {
            "text/plain": [
              "'Butter'"
            ],
            "application/vnd.google.colaboratory.intrinsic+json": {
              "type": "string"
            }
          },
          "metadata": {},
          "execution_count": 196
        }
      ],
      "source": [
        "# Access a nested dictionary value\n",
        "d3['pets']['cat']"
      ]
    },
    {
      "cell_type": "code",
      "execution_count": 197,
      "id": "6b9ddfa5",
      "metadata": {
        "id": "6b9ddfa5",
        "colab": {
          "base_uri": "https://localhost:8080/"
        },
        "outputId": "78357574-631e-4887-c371-54444e6131e0"
      },
      "outputs": [
        {
          "output_type": "execute_result",
          "data": {
            "text/plain": [
              "27"
            ]
          },
          "metadata": {},
          "execution_count": 197
        }
      ],
      "source": [
        "# Access a nested list value\n",
        "d3['ages'][2]"
      ]
    },
    {
      "cell_type": "markdown",
      "id": "c7ee73a0",
      "metadata": {
        "id": "c7ee73a0"
      },
      "source": [
        "Some dictionary methods\n",
        "- keys()\n",
        "- values()\n",
        "- clear()\n",
        "- pop()"
      ]
    },
    {
      "cell_type": "code",
      "execution_count": 198,
      "id": "0ead69bf",
      "metadata": {
        "id": "0ead69bf",
        "colab": {
          "base_uri": "https://localhost:8080/"
        },
        "outputId": "5571dc52-4c62-4717-b7ad-ede4989bdee9"
      },
      "outputs": [
        {
          "output_type": "execute_result",
          "data": {
            "text/plain": [
              "dict_keys(['names', 'ages', 'pets'])"
            ]
          },
          "metadata": {},
          "execution_count": 198
        }
      ],
      "source": [
        "# Return keys in dictionary\n",
        "d3.keys()"
      ]
    },
    {
      "cell_type": "code",
      "execution_count": 199,
      "id": "296fc747",
      "metadata": {
        "id": "296fc747",
        "colab": {
          "base_uri": "https://localhost:8080/"
        },
        "outputId": "2356db0b-a234-449e-8bbe-e44e4a2ac8d9"
      },
      "outputs": [
        {
          "output_type": "execute_result",
          "data": {
            "text/plain": [
              "{'dog': 'Max', 'cat': 'Butter', 'turtle': 'Speedy'}"
            ]
          },
          "metadata": {},
          "execution_count": 199
        }
      ],
      "source": [
        "# Return values in dictionary\n",
        "d3.pop('pets')"
      ]
    },
    {
      "cell_type": "code",
      "execution_count": 201,
      "id": "228dc067",
      "metadata": {
        "id": "228dc067"
      },
      "outputs": [],
      "source": [
        "d3.clear()"
      ]
    },
    {
      "cell_type": "code",
      "execution_count": 202,
      "id": "119265b0",
      "metadata": {
        "id": "119265b0",
        "colab": {
          "base_uri": "https://localhost:8080/"
        },
        "outputId": "705b56b4-2cce-42e3-bd60-936b07f3f6a8"
      },
      "outputs": [
        {
          "output_type": "execute_result",
          "data": {
            "text/plain": [
              "{}"
            ]
          },
          "metadata": {},
          "execution_count": 202
        }
      ],
      "source": [
        "d3"
      ]
    },
    {
      "cell_type": "code",
      "execution_count": null,
      "id": "aec6f54e",
      "metadata": {
        "id": "aec6f54e"
      },
      "outputs": [],
      "source": [
        "# Clear a dictionary\n"
      ]
    },
    {
      "cell_type": "markdown",
      "id": "80ae6538",
      "metadata": {
        "id": "80ae6538"
      },
      "source": [
        "## Converting Data types\n",
        "- To convert to String `str()`\n",
        "- To convert to Integer `int()`\n",
        "- To convert to Float `float()`\n",
        "- To convert to Bool `bool()`"
      ]
    },
    {
      "cell_type": "code",
      "execution_count": 203,
      "id": "9bb3accb",
      "metadata": {
        "id": "9bb3accb",
        "colab": {
          "base_uri": "https://localhost:8080/",
          "height": 35
        },
        "outputId": "7b373fbe-0507-4f20-bd39-5920ce7739bb"
      },
      "outputs": [
        {
          "output_type": "execute_result",
          "data": {
            "text/plain": [
              "'23'"
            ],
            "application/vnd.google.colaboratory.intrinsic+json": {
              "type": "string"
            }
          },
          "metadata": {},
          "execution_count": 203
        }
      ],
      "source": [
        "age = 23\n",
        "str(age)"
      ]
    },
    {
      "cell_type": "code",
      "execution_count": 205,
      "id": "3d5febf9",
      "metadata": {
        "id": "3d5febf9",
        "colab": {
          "base_uri": "https://localhost:8080/"
        },
        "outputId": "24308ce8-9aaa-4fb4-c5be-c3f757f290e4"
      },
      "outputs": [
        {
          "output_type": "stream",
          "name": "stdout",
          "text": [
            "23 years old\n"
          ]
        }
      ],
      "source": [
        "print(str(age)+ ' years old')"
      ]
    },
    {
      "cell_type": "markdown",
      "id": "74e8584c",
      "metadata": {
        "id": "74e8584c"
      },
      "source": [
        "## Exercises for participation credit\n",
        "Please complete the following exercises and upload your completed notebook to your Github repository for participation credit.\n",
        "\n",
        "We can use `input()` to catch input from the user. This is a string type variable."
      ]
    },
    {
      "cell_type": "code",
      "source": [
        "x = input('Enter your value')\n",
        "print(x)"
      ],
      "metadata": {
        "colab": {
          "base_uri": "https://localhost:8080/"
        },
        "id": "CrMr-2adzTde",
        "outputId": "23736425-476e-4a6d-ec41-1628ed2b89f8"
      },
      "id": "CrMr-2adzTde",
      "execution_count": 209,
      "outputs": [
        {
          "output_type": "stream",
          "name": "stdout",
          "text": [
            "Enter your value8\n",
            "8\n"
          ]
        }
      ]
    },
    {
      "cell_type": "markdown",
      "id": "d21d74a0",
      "metadata": {
        "id": "d21d74a0"
      },
      "source": [
        "1. Write a code that gets two integers from the user. Save the first input as `a` and the second value as `b`. Run and print the following operations:\n",
        " - a + b\n",
        " - a - b\n",
        " - a * b\n",
        " - a ** b\n",
        " - a / b"
      ]
    },
    {
      "cell_type": "code",
      "source": [
        "a = int(input('Enter your value'))\n",
        "b = int(input('Enter your second value'))"
      ],
      "metadata": {
        "colab": {
          "base_uri": "https://localhost:8080/"
        },
        "id": "wqHooUKVzh1t",
        "outputId": "4674727a-27a0-4018-9cdc-f3ca29ef5672"
      },
      "id": "wqHooUKVzh1t",
      "execution_count": 214,
      "outputs": [
        {
          "name": "stdout",
          "output_type": "stream",
          "text": [
            "Enter your value10\n",
            "Enter your second value2\n"
          ]
        }
      ]
    },
    {
      "cell_type": "code",
      "source": [
        "a + b"
      ],
      "metadata": {
        "colab": {
          "base_uri": "https://localhost:8080/"
        },
        "id": "Psy4-3Xu00s1",
        "outputId": "7a82e42f-436d-4988-fc23-ce42688de9e4"
      },
      "id": "Psy4-3Xu00s1",
      "execution_count": 215,
      "outputs": [
        {
          "output_type": "execute_result",
          "data": {
            "text/plain": [
              "12"
            ]
          },
          "metadata": {},
          "execution_count": 215
        }
      ]
    },
    {
      "cell_type": "code",
      "source": [
        "a - b"
      ],
      "metadata": {
        "colab": {
          "base_uri": "https://localhost:8080/"
        },
        "id": "U_Fq8P8R1gVM",
        "outputId": "90b2e1fa-57d6-4d35-dfcf-d2d1f4faf735"
      },
      "id": "U_Fq8P8R1gVM",
      "execution_count": 216,
      "outputs": [
        {
          "output_type": "execute_result",
          "data": {
            "text/plain": [
              "8"
            ]
          },
          "metadata": {},
          "execution_count": 216
        }
      ]
    },
    {
      "cell_type": "code",
      "source": [
        "a * b"
      ],
      "metadata": {
        "colab": {
          "base_uri": "https://localhost:8080/"
        },
        "id": "uG_Xq-ah1iFU",
        "outputId": "c6204806-6a7b-4f92-a2de-3df3775ff807"
      },
      "id": "uG_Xq-ah1iFU",
      "execution_count": 217,
      "outputs": [
        {
          "output_type": "execute_result",
          "data": {
            "text/plain": [
              "20"
            ]
          },
          "metadata": {},
          "execution_count": 217
        }
      ]
    },
    {
      "cell_type": "code",
      "source": [
        "a ** b"
      ],
      "metadata": {
        "colab": {
          "base_uri": "https://localhost:8080/"
        },
        "id": "8oU_q8We1jyO",
        "outputId": "3e8f905c-986c-4447-b5f5-026ec597d195"
      },
      "id": "8oU_q8We1jyO",
      "execution_count": 218,
      "outputs": [
        {
          "output_type": "execute_result",
          "data": {
            "text/plain": [
              "100"
            ]
          },
          "metadata": {},
          "execution_count": 218
        }
      ]
    },
    {
      "cell_type": "code",
      "source": [
        "int(a / b)"
      ],
      "metadata": {
        "colab": {
          "base_uri": "https://localhost:8080/"
        },
        "id": "_f8zTe8F1qhJ",
        "outputId": "92c0996e-ef93-4537-ba86-7834327fcfd0"
      },
      "id": "_f8zTe8F1qhJ",
      "execution_count": 221,
      "outputs": [
        {
          "output_type": "execute_result",
          "data": {
            "text/plain": [
              "5"
            ]
          },
          "metadata": {},
          "execution_count": 221
        }
      ]
    },
    {
      "cell_type": "markdown",
      "id": "c9cf9f05",
      "metadata": {
        "id": "c9cf9f05"
      },
      "source": [
        "2. Reverse this list aList = [100, 200, 300, 400, 500]. Expected result = [500, 400, 300, 200, 100]"
      ]
    },
    {
      "cell_type": "code",
      "source": [
        "aList = [100, 200, 300, 400, 500]\n",
        "aList[::-1]"
      ],
      "metadata": {
        "colab": {
          "base_uri": "https://localhost:8080/"
        },
        "id": "_XAXyXLG1zIc",
        "outputId": "54b92b72-b908-415e-a0ff-f61cee4bc717"
      },
      "id": "_XAXyXLG1zIc",
      "execution_count": 222,
      "outputs": [
        {
          "output_type": "execute_result",
          "data": {
            "text/plain": [
              "[500, 400, 300, 200, 100]"
            ]
          },
          "metadata": {},
          "execution_count": 222
        }
      ]
    },
    {
      "cell_type": "markdown",
      "id": "7793dda3",
      "metadata": {
        "id": "7793dda3"
      },
      "source": [
        "3. Create the following list ` ['My', 'name', 'is', 'Kelly']`\n",
        "\n",
        "Using only these two lists:\n",
        "- `list1 = [\"M\", \"na\", \"i\", \"Ke\"]`\n",
        "- `list2 = [\"y\", \"me\", \"s\", \"lly\"]`"
      ]
    },
    {
      "cell_type": "code",
      "source": [
        "list1 = ['M', 'na', 'i', 'Ke']\n",
        "list2 = ['y', 'me', 's', 'lly']"
      ],
      "metadata": {
        "id": "D9Ebnt2G2L_S"
      },
      "id": "D9Ebnt2G2L_S",
      "execution_count": 223,
      "outputs": []
    },
    {
      "cell_type": "code",
      "source": [
        "list3 = [list1[0] + list2[0], list1[1] + list2[1], list1[2] +list2[2], list1[3] + list2[3]]\n",
        "list3"
      ],
      "metadata": {
        "colab": {
          "base_uri": "https://localhost:8080/"
        },
        "id": "2EaZra6l9ZDM",
        "outputId": "a7264205-49c9-46d2-d997-acde484bbacc"
      },
      "id": "2EaZra6l9ZDM",
      "execution_count": 230,
      "outputs": [
        {
          "output_type": "execute_result",
          "data": {
            "text/plain": [
              "['My', 'name', 'is', 'Kelly']"
            ]
          },
          "metadata": {},
          "execution_count": 230
        }
      ]
    },
    {
      "cell_type": "markdown",
      "id": "e9f296ee",
      "metadata": {
        "id": "e9f296ee"
      },
      "source": [
        "4. Split the following list in 3 equal sized lists. Invert the the new lists\n",
        "- Original list [11, 45, 8, 23, 14, 12, 78, 45, 89]\n",
        "\n",
        "\n",
        "- Chunk 1 [11, 45, 8]\n",
        "\n",
        "After reversing it [8, 45, 11]\n",
        "\n",
        "- Chunk 2 [23, 14, 12]\n",
        "\n",
        "After reversing it [12, 14, 23]\n",
        "\n",
        "- Chunk 3 [78, 45, 89]\n",
        "\n",
        "After reversing it [89, 45, 78]"
      ]
    },
    {
      "cell_type": "code",
      "execution_count": 231,
      "id": "b02e2848",
      "metadata": {
        "id": "b02e2848",
        "colab": {
          "base_uri": "https://localhost:8080/"
        },
        "outputId": "c5594076-6e91-4738-8a87-06893ce700b1"
      },
      "outputs": [
        {
          "output_type": "execute_result",
          "data": {
            "text/plain": [
              "[11, 45, 8, 23, 14, 12, 78, 45, 89]"
            ]
          },
          "metadata": {},
          "execution_count": 231
        }
      ],
      "source": [
        "og_list = [11, 45, 8, 23, 14, 12, 78, 45, 89]\n",
        "og_list"
      ]
    },
    {
      "cell_type": "code",
      "source": [
        "chunk1= og_list[0:3]\n",
        "chunk1"
      ],
      "metadata": {
        "colab": {
          "base_uri": "https://localhost:8080/"
        },
        "id": "t9BZeZuB-bpA",
        "outputId": "c60dfe72-51f3-4ae2-94ec-bac171e235e9"
      },
      "id": "t9BZeZuB-bpA",
      "execution_count": 236,
      "outputs": [
        {
          "output_type": "execute_result",
          "data": {
            "text/plain": [
              "[11, 45, 8]"
            ]
          },
          "metadata": {},
          "execution_count": 236
        }
      ]
    },
    {
      "cell_type": "code",
      "source": [
        "chunk1[::-1]"
      ],
      "metadata": {
        "colab": {
          "base_uri": "https://localhost:8080/"
        },
        "id": "XpPrtJCZ-j98",
        "outputId": "9b2f2284-7439-4c71-d1da-372b5765d0b1"
      },
      "id": "XpPrtJCZ-j98",
      "execution_count": 237,
      "outputs": [
        {
          "output_type": "execute_result",
          "data": {
            "text/plain": [
              "[8, 45, 11]"
            ]
          },
          "metadata": {},
          "execution_count": 237
        }
      ]
    },
    {
      "cell_type": "code",
      "source": [
        "chunk2= og_list[3:6]\n",
        "chunk2"
      ],
      "metadata": {
        "colab": {
          "base_uri": "https://localhost:8080/"
        },
        "id": "LYbx0-8G-zoo",
        "outputId": "ff231e78-7451-418b-c431-e2bcce9436cb"
      },
      "id": "LYbx0-8G-zoo",
      "execution_count": 238,
      "outputs": [
        {
          "output_type": "execute_result",
          "data": {
            "text/plain": [
              "[23, 14, 12]"
            ]
          },
          "metadata": {},
          "execution_count": 238
        }
      ]
    },
    {
      "cell_type": "code",
      "source": [
        "chunk2[::-1]"
      ],
      "metadata": {
        "colab": {
          "base_uri": "https://localhost:8080/"
        },
        "id": "LowVorXE-_-F",
        "outputId": "68345458-f6a3-46eb-8054-5c0e85c88814"
      },
      "id": "LowVorXE-_-F",
      "execution_count": 239,
      "outputs": [
        {
          "output_type": "execute_result",
          "data": {
            "text/plain": [
              "[12, 14, 23]"
            ]
          },
          "metadata": {},
          "execution_count": 239
        }
      ]
    },
    {
      "cell_type": "code",
      "source": [
        "chunk3= og_list[6:]\n",
        "chunk3"
      ],
      "metadata": {
        "colab": {
          "base_uri": "https://localhost:8080/"
        },
        "id": "6zS9KVab_Dgo",
        "outputId": "48198077-7555-4040-efe7-5c9aac815900"
      },
      "id": "6zS9KVab_Dgo",
      "execution_count": 240,
      "outputs": [
        {
          "output_type": "execute_result",
          "data": {
            "text/plain": [
              "[78, 45, 89]"
            ]
          },
          "metadata": {},
          "execution_count": 240
        }
      ]
    },
    {
      "cell_type": "code",
      "source": [
        "chunk3[::-1]"
      ],
      "metadata": {
        "colab": {
          "base_uri": "https://localhost:8080/"
        },
        "id": "JTQXJVw2_MbR",
        "outputId": "34b95c51-3449-4b25-a245-2ac5e995be12"
      },
      "id": "JTQXJVw2_MbR",
      "execution_count": 241,
      "outputs": [
        {
          "output_type": "execute_result",
          "data": {
            "text/plain": [
              "[89, 45, 78]"
            ]
          },
          "metadata": {},
          "execution_count": 241
        }
      ]
    }
  ],
  "metadata": {
    "kernelspec": {
      "display_name": "Python 3 (ipykernel)",
      "language": "python",
      "name": "python3"
    },
    "language_info": {
      "codemirror_mode": {
        "name": "ipython",
        "version": 3
      },
      "file_extension": ".py",
      "mimetype": "text/x-python",
      "name": "python",
      "nbconvert_exporter": "python",
      "pygments_lexer": "ipython3",
      "version": "3.10.4"
    },
    "colab": {
      "provenance": [],
      "include_colab_link": true
    }
  },
  "nbformat": 4,
  "nbformat_minor": 5
}