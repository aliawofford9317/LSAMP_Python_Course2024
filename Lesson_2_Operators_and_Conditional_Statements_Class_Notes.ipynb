{
  "cells": [
    {
      "cell_type": "markdown",
      "metadata": {
        "id": "view-in-github",
        "colab_type": "text"
      },
      "source": [
        "<a href=\"https://colab.research.google.com/github/aliawofford9317/LSAMP_Python_Course2024/blob/Abdellatif_2024/Lesson_2_Operators_and_Conditional_Statements_Class_Notes.ipynb\" target=\"_parent\"><img src=\"https://colab.research.google.com/assets/colab-badge.svg\" alt=\"Open In Colab\"/></a>"
      ]
    },
    {
      "cell_type": "markdown",
      "id": "83898c59",
      "metadata": {
        "id": "83898c59"
      },
      "source": [
        "## Operators\n",
        "Operators are symbols that indicate how two operands should be manipulated. Operators and operants together form an expresion. Operators will always return a value\n",
        "\n",
        "### Arithmetic Operators\n",
        "- `+` add two operands\n",
        "- `-` substract two operands\n",
        "- `*` multiply two operands\n",
        "- `/` divide two operands\n",
        "- `%` modulus, return the remainder when the first number is divided from the second number.\n",
        "- `//` return integer division\n",
        "- `**` Exponentiation"
      ]
    },
    {
      "cell_type": "code",
      "execution_count": null,
      "id": "f8762c51",
      "metadata": {
        "id": "f8762c51",
        "outputId": "41f33238-06c5-403f-8777-3267b0415ea1",
        "colab": {
          "base_uri": "https://localhost:8080/"
        }
      },
      "outputs": [
        {
          "output_type": "execute_result",
          "data": {
            "text/plain": [
              "9"
            ]
          },
          "metadata": {},
          "execution_count": 1
        }
      ],
      "source": [
        "x = 7\n",
        "y = 2\n",
        "x + y"
      ]
    },
    {
      "cell_type": "code",
      "execution_count": null,
      "id": "098414f0",
      "metadata": {
        "id": "098414f0",
        "outputId": "a445e430-94f5-4a83-dd13-5226b601a9a8",
        "colab": {
          "base_uri": "https://localhost:8080/"
        }
      },
      "outputs": [
        {
          "output_type": "execute_result",
          "data": {
            "text/plain": [
              "5"
            ]
          },
          "metadata": {},
          "execution_count": 2
        }
      ],
      "source": [
        "x - y"
      ]
    },
    {
      "cell_type": "code",
      "execution_count": null,
      "id": "57c8f4c2",
      "metadata": {
        "id": "57c8f4c2",
        "outputId": "a1167a3f-12b4-45e8-b8a4-9e3cd3dfcee6",
        "colab": {
          "base_uri": "https://localhost:8080/"
        }
      },
      "outputs": [
        {
          "output_type": "execute_result",
          "data": {
            "text/plain": [
              "14"
            ]
          },
          "metadata": {},
          "execution_count": 3
        }
      ],
      "source": [
        "x * y"
      ]
    },
    {
      "cell_type": "code",
      "execution_count": null,
      "id": "5ea98586",
      "metadata": {
        "id": "5ea98586",
        "outputId": "0f30e3b4-45e7-467f-9776-7d450cff62b5",
        "colab": {
          "base_uri": "https://localhost:8080/"
        }
      },
      "outputs": [
        {
          "output_type": "execute_result",
          "data": {
            "text/plain": [
              "3.5"
            ]
          },
          "metadata": {},
          "execution_count": 4
        }
      ],
      "source": [
        "x / y"
      ]
    },
    {
      "cell_type": "code",
      "execution_count": null,
      "id": "b3275999",
      "metadata": {
        "id": "b3275999",
        "outputId": "56a10ff1-9aca-41dd-a792-8f7e8e874218",
        "colab": {
          "base_uri": "https://localhost:8080/"
        }
      },
      "outputs": [
        {
          "output_type": "execute_result",
          "data": {
            "text/plain": [
              "1"
            ]
          },
          "metadata": {},
          "execution_count": 5
        }
      ],
      "source": [
        "x % y"
      ]
    },
    {
      "cell_type": "code",
      "execution_count": null,
      "id": "e569b719",
      "metadata": {
        "id": "e569b719",
        "outputId": "95c47dbd-a410-4adc-e88d-03a223042f79",
        "colab": {
          "base_uri": "https://localhost:8080/"
        }
      },
      "outputs": [
        {
          "output_type": "execute_result",
          "data": {
            "text/plain": [
              "3"
            ]
          },
          "metadata": {},
          "execution_count": 6
        }
      ],
      "source": [
        "x // y"
      ]
    },
    {
      "cell_type": "code",
      "execution_count": null,
      "id": "05090a67",
      "metadata": {
        "id": "05090a67",
        "outputId": "ccd7b537-8a55-4e08-b384-39072dc0b54f",
        "colab": {
          "base_uri": "https://localhost:8080/"
        }
      },
      "outputs": [
        {
          "output_type": "execute_result",
          "data": {
            "text/plain": [
              "49"
            ]
          },
          "metadata": {},
          "execution_count": 8
        }
      ],
      "source": [
        "x ** y"
      ]
    },
    {
      "cell_type": "markdown",
      "id": "9d9a299f",
      "metadata": {
        "id": "9d9a299f"
      },
      "source": [
        "### Comparison Operators\n",
        "\n",
        "- `==`\tEqual\tx == y\n",
        "- `!=`\tNot equal\tx != y\n",
        "-  `>`\tGreater than\tx > y\n",
        "- `<`\tLess than\tx < y\n",
        "- `>=`\tGreater than or equal to\tx >= y\n",
        "- `<=`\tLess than or equal to\tx <= y"
      ]
    },
    {
      "cell_type": "code",
      "execution_count": null,
      "id": "24b65b8d",
      "metadata": {
        "id": "24b65b8d",
        "outputId": "6f9907ce-32df-46b5-aa6d-44917cf24bfc",
        "colab": {
          "base_uri": "https://localhost:8080/"
        }
      },
      "outputs": [
        {
          "output_type": "execute_result",
          "data": {
            "text/plain": [
              "False"
            ]
          },
          "metadata": {},
          "execution_count": 9
        }
      ],
      "source": [
        "x = 9\n",
        "y = 1\n",
        "x < y"
      ]
    },
    {
      "cell_type": "code",
      "execution_count": null,
      "id": "dfff367e",
      "metadata": {
        "id": "dfff367e",
        "outputId": "d5819202-4856-42e1-fd1d-a25ce3544c7f",
        "colab": {
          "base_uri": "https://localhost:8080/"
        }
      },
      "outputs": [
        {
          "output_type": "execute_result",
          "data": {
            "text/plain": [
              "True"
            ]
          },
          "metadata": {},
          "execution_count": 10
        }
      ],
      "source": [
        "x > y"
      ]
    },
    {
      "cell_type": "code",
      "execution_count": null,
      "id": "ff31f54b",
      "metadata": {
        "id": "ff31f54b",
        "outputId": "f7571ddf-2346-4de6-91a8-135d52d7703d",
        "colab": {
          "base_uri": "https://localhost:8080/"
        }
      },
      "outputs": [
        {
          "output_type": "execute_result",
          "data": {
            "text/plain": [
              "False"
            ]
          },
          "metadata": {},
          "execution_count": 11
        }
      ],
      "source": [
        "x == y"
      ]
    },
    {
      "cell_type": "code",
      "execution_count": null,
      "id": "a61ae583",
      "metadata": {
        "id": "a61ae583",
        "outputId": "8f9c75ab-6234-4c4a-ca62-8b83d6d46db6",
        "colab": {
          "base_uri": "https://localhost:8080/"
        }
      },
      "outputs": [
        {
          "output_type": "execute_result",
          "data": {
            "text/plain": [
              "True"
            ]
          },
          "metadata": {},
          "execution_count": 12
        }
      ],
      "source": [
        "# Comparisson operators can be concatenated\n",
        "x = 9\n",
        "1 < x and x < 20"
      ]
    },
    {
      "cell_type": "markdown",
      "id": "4e75d36f",
      "metadata": {
        "id": "4e75d36f"
      },
      "source": [
        "### Logical operators\n",
        "- `and` \tReturns True if both statements are true\tx < 5 and  x < 10\n",
        "- `or`\tReturns True if one of the statements is true\tx < 5 or x < 4\n",
        "- `not`\tReverse the result, returns False if the result is true"
      ]
    },
    {
      "cell_type": "code",
      "execution_count": null,
      "id": "6021e7cd",
      "metadata": {
        "id": "6021e7cd",
        "outputId": "eda1bb3b-3c0e-4a27-aa14-88413b05a07c",
        "colab": {
          "base_uri": "https://localhost:8080/"
        }
      },
      "outputs": [
        {
          "output_type": "execute_result",
          "data": {
            "text/plain": [
              "True"
            ]
          },
          "metadata": {},
          "execution_count": 13
        }
      ],
      "source": [
        "x = True\n",
        "y = False\n",
        "x or y"
      ]
    },
    {
      "cell_type": "code",
      "execution_count": null,
      "id": "29263f96",
      "metadata": {
        "id": "29263f96",
        "outputId": "650fc4a7-6416-4681-922b-d476ca33af78",
        "colab": {
          "base_uri": "https://localhost:8080/"
        }
      },
      "outputs": [
        {
          "output_type": "execute_result",
          "data": {
            "text/plain": [
              "False"
            ]
          },
          "metadata": {},
          "execution_count": 15
        }
      ],
      "source": [
        "x and y"
      ]
    },
    {
      "cell_type": "code",
      "execution_count": null,
      "id": "05abf3b1",
      "metadata": {
        "id": "05abf3b1",
        "outputId": "32f70f68-e0da-43a5-96e5-1880e68cd246",
        "colab": {
          "base_uri": "https://localhost:8080/"
        }
      },
      "outputs": [
        {
          "output_type": "execute_result",
          "data": {
            "text/plain": [
              "False"
            ]
          },
          "metadata": {},
          "execution_count": 14
        }
      ],
      "source": [
        "not x"
      ]
    },
    {
      "cell_type": "code",
      "execution_count": null,
      "id": "7b444ff8",
      "metadata": {
        "id": "7b444ff8",
        "outputId": "4be98acf-52e2-46f4-e942-c93b142d99b2",
        "colab": {
          "base_uri": "https://localhost:8080/"
        }
      },
      "outputs": [
        {
          "output_type": "execute_result",
          "data": {
            "text/plain": [
              "True"
            ]
          },
          "metadata": {},
          "execution_count": 16
        }
      ],
      "source": [
        "not y"
      ]
    },
    {
      "cell_type": "markdown",
      "id": "54db517e",
      "metadata": {
        "id": "54db517e"
      },
      "source": [
        "### Membership Operators\n",
        "- `in` \tReturns True if a sequence with the specified value is present in the object\n",
        "- `not in`\tReturns True if a sequence with the specified value is not present in the object"
      ]
    },
    {
      "cell_type": "code",
      "execution_count": null,
      "id": "eb6d6464",
      "metadata": {
        "id": "eb6d6464",
        "outputId": "92008264-16cb-4fb5-f1cc-db406ce834c4",
        "colab": {
          "base_uri": "https://localhost:8080/"
        }
      },
      "outputs": [
        {
          "output_type": "execute_result",
          "data": {
            "text/plain": [
              "True"
            ]
          },
          "metadata": {},
          "execution_count": 17
        }
      ],
      "source": [
        "a = [1, 2, 3, 4, 5]\n",
        "b = 4\n",
        "\n",
        "b in a"
      ]
    },
    {
      "cell_type": "code",
      "execution_count": null,
      "id": "23972309",
      "metadata": {
        "id": "23972309",
        "outputId": "d87018d3-96c6-473a-9930-65194415e8cc",
        "colab": {
          "base_uri": "https://localhost:8080/"
        }
      },
      "outputs": [
        {
          "output_type": "execute_result",
          "data": {
            "text/plain": [
              "True"
            ]
          },
          "metadata": {},
          "execution_count": 18
        }
      ],
      "source": [
        "c = [2, 3, 4]\n",
        "\n",
        "c not in a"
      ]
    },
    {
      "cell_type": "code",
      "execution_count": null,
      "id": "15e8c91a",
      "metadata": {
        "id": "15e8c91a",
        "outputId": "31ccf49f-f1c9-4f0f-fedd-ccd52119d922",
        "colab": {
          "base_uri": "https://localhost:8080/"
        }
      },
      "outputs": [
        {
          "output_type": "execute_result",
          "data": {
            "text/plain": [
              "[1, 2, 3, 4, 5, [2, 3, 4]]"
            ]
          },
          "metadata": {},
          "execution_count": 19
        }
      ],
      "source": [
        "a.append([2, 3, 4])\n",
        "a"
      ]
    },
    {
      "cell_type": "code",
      "execution_count": null,
      "id": "336bb226",
      "metadata": {
        "id": "336bb226",
        "outputId": "4e580e6c-8f15-4673-af44-3de52ecd42cc"
      },
      "outputs": [
        {
          "data": {
            "text/plain": [
              "True"
            ]
          },
          "execution_count": 21,
          "metadata": {},
          "output_type": "execute_result"
        }
      ],
      "source": [
        "c in a"
      ]
    },
    {
      "cell_type": "markdown",
      "id": "d7c98cc2",
      "metadata": {
        "id": "d7c98cc2"
      },
      "source": [
        "## Conditional statements\n",
        "Frequently, a program needs to skip over some statements, execute a series of statements repetitively, or choose between alternate sets of statements to execute.\n",
        "\n",
        "That is where control structures come in. A control structure directs the order of execution of the statements in a program\n",
        "\n",
        "### For Loops\n",
        "Will iterate over a list of values, executing an action until all elements are looped over"
      ]
    },
    {
      "cell_type": "code",
      "execution_count": null,
      "id": "6935c5ca",
      "metadata": {
        "id": "6935c5ca",
        "colab": {
          "base_uri": "https://localhost:8080/"
        },
        "outputId": "9f70d342-7206-4254-9f24-51169968e68b"
      },
      "outputs": [
        {
          "output_type": "stream",
          "name": "stdout",
          "text": [
            "Mary\n",
            "mark\n",
            "tony\n",
            "peter\n"
          ]
        }
      ],
      "source": [
        "# Iterate over names in a list\n",
        "\n",
        "names =['Mary', 'mark','tony','peter']\n",
        "\n",
        "for name in names:\n",
        "  print(name)"
      ]
    },
    {
      "cell_type": "markdown",
      "id": "3b61579d",
      "metadata": {
        "id": "3b61579d"
      },
      "source": [
        "In the previous code, we use `name` as a variable to loop over the name list, we then print the name. Notice the `:` after the for statement, this is part of the `for` syntax. Also notice the indentation (white space) after the semicolon, Python uses whitespace to denote blocks, in other languages `{}` are used."
      ]
    },
    {
      "cell_type": "code",
      "execution_count": null,
      "id": "25ac4799",
      "metadata": {
        "id": "25ac4799",
        "colab": {
          "base_uri": "https://localhost:8080/"
        },
        "outputId": "7d2e5a7c-3980-46d5-e6ff-4dc7c3ec3431"
      },
      "outputs": [
        {
          "output_type": "stream",
          "name": "stdout",
          "text": [
            "j\n",
            "o\n",
            "n\n",
            " \n",
            "D\n",
            "o\n",
            "e\n"
          ]
        }
      ],
      "source": [
        "# You can also loop over strings and other collections\n",
        "\n",
        "for letter in 'jon Doe':\n",
        "  print(letter)"
      ]
    },
    {
      "cell_type": "code",
      "execution_count": null,
      "id": "073f344e",
      "metadata": {
        "id": "073f344e",
        "colab": {
          "base_uri": "https://localhost:8080/"
        },
        "outputId": "2e24c899-6dcf-4ffe-bbd2-6395bf5c1033"
      },
      "outputs": [
        {
          "output_type": "stream",
          "name": "stdout",
          "text": [
            "2_4_6_8_10_"
          ]
        }
      ],
      "source": [
        "for N in [2,4,6,8,10]:\n",
        "  print(N,end='_')"
      ]
    },
    {
      "cell_type": "markdown",
      "id": "6c4ea38a",
      "metadata": {
        "id": "6c4ea38a"
      },
      "source": [
        "Notice the previous block used a sequence, in this case a list we looped over. We use the `in` operator to link them together. More precisely, the list in this case is an *iterator*, a generalized sequence we can loop over.\n",
        "\n",
        "One of the most common used *iterators* is the `range` object, which generates a sequence of numbers\n",
        "\n",
        "Range function:\n",
        "Returns a sequence of numbers in the form `range(start, stop, step)` it can be used in combination with for loops"
      ]
    },
    {
      "cell_type": "code",
      "execution_count": null,
      "id": "dd623921",
      "metadata": {
        "id": "dd623921",
        "colab": {
          "base_uri": "https://localhost:8080/"
        },
        "outputId": "7e5d90c1-5099-440b-aa5c-38780e246ab3"
      },
      "outputs": [
        {
          "output_type": "stream",
          "name": "stdout",
          "text": [
            "0\n",
            "1\n",
            "2\n",
            "3\n",
            "4\n"
          ]
        }
      ],
      "source": [
        "for i in range(0,5):\n",
        "  print(i)"
      ]
    },
    {
      "cell_type": "code",
      "execution_count": null,
      "id": "a680b133",
      "metadata": {
        "id": "a680b133",
        "colab": {
          "base_uri": "https://localhost:8080/"
        },
        "outputId": "32868a93-cb35-422d-c605-ff378a5ef274"
      },
      "outputs": [
        {
          "output_type": "stream",
          "name": "stdout",
          "text": [
            "0\n",
            "2\n",
            "4\n",
            "6\n",
            "8\n"
          ]
        }
      ],
      "source": [
        "for i in range(0,10,2):\n",
        "  print(i)"
      ]
    },
    {
      "cell_type": "code",
      "execution_count": null,
      "id": "a08defef",
      "metadata": {
        "id": "a08defef",
        "colab": {
          "base_uri": "https://localhost:8080/"
        },
        "outputId": "86e910dc-9477-43fe-cb6b-7237ea76323a"
      },
      "outputs": [
        {
          "output_type": "stream",
          "name": "stdout",
          "text": [
            "012"
          ]
        }
      ],
      "source": [
        "for i in range(3):\n",
        "  print(i, end='')"
      ]
    },
    {
      "cell_type": "markdown",
      "id": "6253eaf8",
      "metadata": {
        "id": "6253eaf8"
      },
      "source": [
        "Range starts at zero by default, and the end of the range is not included. Range can also have other values"
      ]
    },
    {
      "cell_type": "code",
      "execution_count": null,
      "id": "423d4635",
      "metadata": {
        "id": "423d4635",
        "colab": {
          "base_uri": "https://localhost:8080/"
        },
        "outputId": "37e9607d-ffef-4485-f85f-7b15d2c7a9ef"
      },
      "outputs": [
        {
          "output_type": "execute_result",
          "data": {
            "text/plain": [
              "[5, 6, 7, 8, 9]"
            ]
          },
          "metadata": {},
          "execution_count": 29
        }
      ],
      "source": [
        "# range from 5 to 10, non inclusive\n",
        "\n",
        "list(range(5,10))"
      ]
    },
    {
      "cell_type": "code",
      "execution_count": null,
      "id": "c87cd13b",
      "metadata": {
        "id": "c87cd13b",
        "colab": {
          "base_uri": "https://localhost:8080/"
        },
        "outputId": "1e005d80-33e8-4184-93aa-88a1f263d5a3"
      },
      "outputs": [
        {
          "output_type": "execute_result",
          "data": {
            "text/plain": [
              "[0, 5, 10, 15, 20]"
            ]
          },
          "metadata": {},
          "execution_count": 31
        }
      ],
      "source": [
        "# range from 0 to 10 by 5\n",
        "\n",
        "list(range(0,21,5))"
      ]
    },
    {
      "cell_type": "markdown",
      "id": "7b45b8d0",
      "metadata": {
        "id": "7b45b8d0"
      },
      "source": [
        "### A quick review of iterators\n",
        "Many times we need to repeate a similar calculation, in an automated fashion. One of Python answers to this is using the `iterator` object. This object contains a sequence, that will output the next value as long as it is valid. This is generally easily understandable with a list."
      ]
    },
    {
      "cell_type": "code",
      "execution_count": null,
      "id": "d9c88ac4",
      "metadata": {
        "id": "d9c88ac4"
      },
      "outputs": [],
      "source": [
        "for value in [1,3,5,7]:\n",
        "\n",
        "  print(value + 1,end=\" \")"
      ]
    },
    {
      "cell_type": "markdown",
      "id": "8d6de198",
      "metadata": {
        "id": "8d6de198"
      },
      "source": [
        "We can create an `iterator` object from this previous list, and will output the next value with the built in function `next`"
      ]
    },
    {
      "cell_type": "code",
      "execution_count": null,
      "id": "e257258c",
      "metadata": {
        "id": "e257258c",
        "colab": {
          "base_uri": "https://localhost:8080/"
        },
        "outputId": "b2d37249-d14d-4333-c254-240efc319372"
      },
      "outputs": [
        {
          "output_type": "execute_result",
          "data": {
            "text/plain": [
              "<list_iterator at 0x7bd3330b68f0>"
            ]
          },
          "metadata": {},
          "execution_count": 36
        }
      ],
      "source": [
        "# Iterator object\n",
        "\n",
        "iter([1,3,5,7])"
      ]
    },
    {
      "cell_type": "code",
      "execution_count": null,
      "id": "dfc4ece7",
      "metadata": {
        "id": "dfc4ece7"
      },
      "outputs": [],
      "source": [
        "I = iter([1,3,5,7])"
      ]
    },
    {
      "cell_type": "code",
      "execution_count": null,
      "id": "906400ed",
      "metadata": {
        "id": "906400ed",
        "colab": {
          "base_uri": "https://localhost:8080/"
        },
        "outputId": "c33d845d-477b-43eb-f154-a110f7d8f81b"
      },
      "outputs": [
        {
          "output_type": "stream",
          "name": "stdout",
          "text": [
            "1\n"
          ]
        }
      ],
      "source": [
        "print(next(I))"
      ]
    },
    {
      "cell_type": "code",
      "execution_count": null,
      "id": "191b807d",
      "metadata": {
        "id": "191b807d",
        "colab": {
          "base_uri": "https://localhost:8080/"
        },
        "outputId": "d7e86db7-436b-47e4-ecb1-50ae8a4bf73c"
      },
      "outputs": [
        {
          "output_type": "stream",
          "name": "stdout",
          "text": [
            "3\n"
          ]
        }
      ],
      "source": [
        "print(next(I))"
      ]
    },
    {
      "cell_type": "code",
      "execution_count": null,
      "id": "f130e256",
      "metadata": {
        "id": "f130e256",
        "colab": {
          "base_uri": "https://localhost:8080/"
        },
        "outputId": "444c0d79-c331-43e4-ff27-60544ddeba5f"
      },
      "outputs": [
        {
          "output_type": "stream",
          "name": "stdout",
          "text": [
            "5\n"
          ]
        }
      ],
      "source": [
        "print(next(I))"
      ]
    },
    {
      "cell_type": "code",
      "execution_count": null,
      "id": "8b89e972",
      "metadata": {
        "id": "8b89e972",
        "colab": {
          "base_uri": "https://localhost:8080/"
        },
        "outputId": "617ead13-de9e-4914-ef53-19e97c2649d0"
      },
      "outputs": [
        {
          "output_type": "stream",
          "name": "stdout",
          "text": [
            "7\n"
          ]
        }
      ],
      "source": [
        "print(next(I))"
      ]
    },
    {
      "cell_type": "code",
      "execution_count": null,
      "id": "6439e9b3",
      "metadata": {
        "id": "6439e9b3",
        "colab": {
          "base_uri": "https://localhost:8080/",
          "height": 139
        },
        "outputId": "99ce776a-ab94-481e-c7f4-0e8271036371"
      },
      "outputs": [
        {
          "output_type": "error",
          "ename": "StopIteration",
          "evalue": "",
          "traceback": [
            "\u001b[0;31m---------------------------------------------------------------------------\u001b[0m",
            "\u001b[0;31mStopIteration\u001b[0m                             Traceback (most recent call last)",
            "\u001b[0;32m<ipython-input-42-ea704dfd936c>\u001b[0m in \u001b[0;36m<cell line: 1>\u001b[0;34m()\u001b[0m\n\u001b[0;32m----> 1\u001b[0;31m \u001b[0mprint\u001b[0m\u001b[0;34m(\u001b[0m\u001b[0mnext\u001b[0m\u001b[0;34m(\u001b[0m\u001b[0mI\u001b[0m\u001b[0;34m)\u001b[0m\u001b[0;34m)\u001b[0m\u001b[0;34m\u001b[0m\u001b[0;34m\u001b[0m\u001b[0m\n\u001b[0m",
            "\u001b[0;31mStopIteration\u001b[0m: "
          ]
        }
      ],
      "source": [
        "print(next(I))"
      ]
    },
    {
      "cell_type": "markdown",
      "id": "f776578a",
      "metadata": {
        "id": "f776578a"
      },
      "source": [
        "With this in mind we can see a indirect relationship with the `list` object and the iterator `object`. Lets see and example with the `range` object again. `range` like a list exposes an iterator, and Python knows to treat it *as if it's a list*."
      ]
    },
    {
      "cell_type": "code",
      "execution_count": null,
      "id": "85cccffe",
      "metadata": {
        "id": "85cccffe",
        "colab": {
          "base_uri": "https://localhost:8080/"
        },
        "outputId": "09d5c30e-9fa1-48b0-c59d-310e69d10e5f"
      },
      "outputs": [
        {
          "output_type": "execute_result",
          "data": {
            "text/plain": [
              "range"
            ]
          },
          "metadata": {},
          "execution_count": 44
        }
      ],
      "source": [
        "type(range(0,10))"
      ]
    },
    {
      "cell_type": "code",
      "execution_count": null,
      "id": "32162e22",
      "metadata": {
        "id": "32162e22",
        "colab": {
          "base_uri": "https://localhost:8080/"
        },
        "outputId": "c9cbf333-e8ca-4e05-821b-1c9907779ad7"
      },
      "outputs": [
        {
          "output_type": "execute_result",
          "data": {
            "text/plain": [
              "<range_iterator at 0x7bd3330b42a0>"
            ]
          },
          "metadata": {},
          "execution_count": 43
        }
      ],
      "source": [
        "iter(range(10))"
      ]
    },
    {
      "cell_type": "code",
      "execution_count": null,
      "id": "887d3afa",
      "metadata": {
        "id": "887d3afa",
        "colab": {
          "base_uri": "https://localhost:8080/"
        },
        "outputId": "773d1a90-a6af-4059-f7ba-898e14d86b99"
      },
      "outputs": [
        {
          "output_type": "stream",
          "name": "stdout",
          "text": [
            "0*1*2*3*4*5*6*7*8*9*"
          ]
        }
      ],
      "source": [
        "for i in range(10):\n",
        "  print(i, end='*')"
      ]
    },
    {
      "cell_type": "markdown",
      "id": "d6ead6ff",
      "metadata": {
        "id": "d6ead6ff"
      },
      "source": [
        "The benefit of having an iterator is the list if never explicitely created. We can see this by doing a range calculation that would otherwise result in an error.\n",
        "\n",
        "If the following code would actually create a list of a trillion values it will use too much memory and our program would crash."
      ]
    },
    {
      "cell_type": "code",
      "execution_count": null,
      "id": "e4a13147",
      "metadata": {
        "id": "e4a13147",
        "colab": {
          "base_uri": "https://localhost:8080/"
        },
        "outputId": "8024dd37-dfb3-4f13-ecbc-12da7c1f3e94"
      },
      "outputs": [
        {
          "output_type": "stream",
          "name": "stdout",
          "text": [
            "0\n",
            "1\n",
            "2\n",
            "3\n",
            "4\n",
            "5\n",
            "6\n",
            "7\n",
            "8\n",
            "9\n"
          ]
        }
      ],
      "source": [
        "n = 10 ** 12\n",
        "\n",
        "for i in range(n):\n",
        "  if i>= 10:\n",
        "    break\n",
        "  print(i)"
      ]
    },
    {
      "cell_type": "markdown",
      "id": "ebbc5d92",
      "metadata": {
        "id": "ebbc5d92"
      },
      "source": [
        "We also have the `count` object, which acts as a infinite range iterator.\n",
        "\n",
        "If this iterator is not stopped it will continue counting up to infinity. That's why we add the `break` statement here."
      ]
    },
    {
      "cell_type": "code",
      "execution_count": null,
      "id": "94dc99c0",
      "metadata": {
        "id": "94dc99c0",
        "colab": {
          "base_uri": "https://localhost:8080/"
        },
        "outputId": "57c1cbdb-fc26-48fd-b386-6b9536c5ce54"
      },
      "outputs": [
        {
          "output_type": "stream",
          "name": "stdout",
          "text": [
            "0\n",
            "1\n",
            "2\n",
            "3\n",
            "4\n",
            "5\n",
            "6\n",
            "7\n",
            "8\n",
            "9\n"
          ]
        }
      ],
      "source": [
        "# import itertools functionality\n",
        "from itertools import count\n",
        "\n",
        "for i in count():\n",
        "  if i >= 10:\n",
        "    break\n",
        "\n",
        "  print(i)\n"
      ]
    },
    {
      "cell_type": "markdown",
      "id": "25fb40a6",
      "metadata": {
        "id": "25fb40a6"
      },
      "source": [
        "### The if statement\n",
        "`if <expr>:\n",
        "    <statement>`\n",
        "    \n",
        "- <expr> is evaluated in a Boolean context\n",
        "- <statement> is a valid Python statement and must be indented\n",
        "- Notice the `:`, this is required"
      ]
    },
    {
      "cell_type": "code",
      "execution_count": null,
      "id": "f9e24d81",
      "metadata": {
        "id": "f9e24d81"
      },
      "outputs": [],
      "source": [
        "x = 3\n",
        "y = 10\n",
        "\n"
      ]
    },
    {
      "cell_type": "code",
      "execution_count": null,
      "id": "1e77ae67",
      "metadata": {
        "id": "1e77ae67",
        "colab": {
          "base_uri": "https://localhost:8080/"
        },
        "outputId": "1206f444-dc1b-4b10-b3c4-1a5048fd1d58"
      },
      "outputs": [
        {
          "output_type": "stream",
          "name": "stdout",
          "text": [
            "x is less than y\n"
          ]
        }
      ],
      "source": [
        "if x < y:\n",
        "  print('x is less than y')"
      ]
    },
    {
      "cell_type": "code",
      "execution_count": null,
      "id": "dcba6d46",
      "metadata": {
        "id": "dcba6d46",
        "colab": {
          "base_uri": "https://localhost:8080/"
        },
        "outputId": "3b28b0ed-838c-40cf-ca5c-2447ccf03938"
      },
      "outputs": [
        {
          "output_type": "execute_result",
          "data": {
            "text/plain": [
              "False"
            ]
          },
          "metadata": {},
          "execution_count": 60
        }
      ],
      "source": [
        "x > y"
      ]
    },
    {
      "cell_type": "code",
      "execution_count": null,
      "id": "b27629d9",
      "metadata": {
        "id": "b27629d9"
      },
      "outputs": [],
      "source": [
        "if x > y:\n",
        "  print(\"x is bigger than y\")"
      ]
    },
    {
      "cell_type": "code",
      "execution_count": null,
      "id": "6bb45218",
      "metadata": {
        "id": "6bb45218",
        "colab": {
          "base_uri": "https://localhost:8080/"
        },
        "outputId": "043150fc-9b66-41e2-897c-0db6b57bc22c"
      },
      "outputs": [
        {
          "output_type": "stream",
          "name": "stdout",
          "text": [
            "its there\n"
          ]
        }
      ],
      "source": [
        "if 'ello' in 'hello':\n",
        "  print('its there')"
      ]
    },
    {
      "cell_type": "code",
      "execution_count": null,
      "id": "a2c3f88f",
      "metadata": {
        "id": "a2c3f88f",
        "colab": {
          "base_uri": "https://localhost:8080/"
        },
        "outputId": "3e167da7-e53a-42eb-c4ab-2d4f8d437341"
      },
      "outputs": [
        {
          "output_type": "stream",
          "name": "stdout",
          "text": [
            "lo is in hello\n",
            "x is less than y\n",
            "statement outside of the second condition\n"
          ]
        }
      ],
      "source": [
        "# We can also nest if statements, remember indentations\n",
        "\n",
        "if 'lo' in \"hello\":\n",
        "  print('lo is in hello')\n",
        "  if x< y:\n",
        "    print('x is less than y')\n",
        "    print('statement outside of the second condition')"
      ]
    },
    {
      "cell_type": "code",
      "execution_count": null,
      "id": "879f1d9c",
      "metadata": {
        "id": "879f1d9c",
        "colab": {
          "base_uri": "https://localhost:8080/"
        },
        "outputId": "6ff1dbba-3435-4edc-e82d-16c2098da36d"
      },
      "outputs": [
        {
          "output_type": "stream",
          "name": "stdout",
          "text": [
            "lo is in hellol\n",
            "Statement outside of the second condition\n"
          ]
        }
      ],
      "source": [
        "# What if x is not less than y?\n",
        "x = 100\n",
        "\n",
        "if 'ello' in 'hello': # this is true\n",
        "  print('lo is in hellol')\n",
        "\n",
        "  if x < y: # this is false\n",
        "    print('x is less than y')\n",
        "\n",
        "  print('Statement outside of the second condition')\n",
        "# this will still run, as it is outside the if statement\n"
      ]
    },
    {
      "cell_type": "markdown",
      "id": "99ee3f21",
      "metadata": {
        "id": "99ee3f21"
      },
      "source": [
        "Nested for loops are also possible"
      ]
    },
    {
      "cell_type": "code",
      "execution_count": null,
      "id": "12fb3c76",
      "metadata": {
        "id": "12fb3c76",
        "colab": {
          "base_uri": "https://localhost:8080/"
        },
        "outputId": "a7bbff13-bc88-498b-ab4e-85188a8065e7"
      },
      "outputs": [
        {
          "output_type": "stream",
          "name": "stdout",
          "text": [
            "a\n",
            "1\n",
            "2\n",
            "3\n",
            "b\n",
            "1\n",
            "2\n",
            "3\n",
            "c\n",
            "1\n",
            "2\n",
            "3\n"
          ]
        }
      ],
      "source": [
        "list1 =['a','b','c']\n",
        "list2 =['1','2','3']\n",
        "\n",
        "for x in list1:\n",
        "  print(x)\n",
        "  for y in list2:\n",
        "    print(y)"
      ]
    },
    {
      "cell_type": "markdown",
      "id": "1c0dfb7e",
      "metadata": {
        "id": "1c0dfb7e"
      },
      "source": [
        "### Optional Exercises\n",
        "\n",
        "1. Create a for loop that prints numbers from 1 to 20 in increments of 2 e.g. 2, 4, 6, 8, ...\n",
        "\n",
        "2. Create a for loop that prints from a list of words in a list. Create a second nested for loop that prints another word from a second list. Every word should from the first list shall be printed with every other word from the second list.\n",
        "\n",
        "`list_a = [\"chicken\", \"veggie\", \"meat\", \"ham\", \"cheese\", \"beef\", \"chocolate\"]`\n",
        "\n",
        "`list_b = [\"sandwich\", \"waffles\", \"pizza\", \"burrito\", \"soup\", \"salad\", \"smoothie\"]`\n",
        "\n",
        "Tip: You may want to use `range(len(list_a))` to iterate over the length of the list.\n",
        "\n",
        "Example output for exercise 2:\n",
        "\n",
        "`chicken sandwich\n",
        "chicken waffles\n",
        "chicken pizza\n",
        "chicken burrito...`\n",
        "\n",
        "`veggie sandwich\n",
        "veggie waffles\n",
        "veggie pizza\n",
        "veggie burrito...`"
      ]
    },
    {
      "cell_type": "code",
      "source": [
        "for i in range(2, 21, 2):\n",
        "    print(i)\n",
        "\n",
        "\n",
        "list_1 = [\"chicken\", \"veggie\", \"meat\", \"ham\", \"cheese\", \"beef\", \"chocolate\"]\n",
        "list_2 = [\"sandwich\", \"waffles\", \"pizza\", \"burrito\", \"soup\", \"salad\", \"smoothie\"]\n",
        "\n",
        "for i in range(len(list_1)):\n",
        "    for g in range(len(list_2)):\n",
        "        print(f\"{list_1[i]} {list_2[g]}\")"
      ],
      "metadata": {
        "colab": {
          "base_uri": "https://localhost:8080/"
        },
        "id": "2limWVSU8PGz",
        "outputId": "62413020-ec5f-4e54-ee0a-a0fa17c07a0d"
      },
      "id": "2limWVSU8PGz",
      "execution_count": null,
      "outputs": [
        {
          "output_type": "stream",
          "name": "stdout",
          "text": [
            "2\n",
            "4\n",
            "6\n",
            "8\n",
            "10\n",
            "12\n",
            "14\n",
            "16\n",
            "18\n",
            "20\n",
            "chicken sandwich\n",
            "chicken waffles\n",
            "chicken pizza\n",
            "chicken burrito\n",
            "chicken soup\n",
            "chicken salad\n",
            "chicken smoothie\n",
            "veggie sandwich\n",
            "veggie waffles\n",
            "veggie pizza\n",
            "veggie burrito\n",
            "veggie soup\n",
            "veggie salad\n",
            "veggie smoothie\n",
            "meat sandwich\n",
            "meat waffles\n",
            "meat pizza\n",
            "meat burrito\n",
            "meat soup\n",
            "meat salad\n",
            "meat smoothie\n",
            "ham sandwich\n",
            "ham waffles\n",
            "ham pizza\n",
            "ham burrito\n",
            "ham soup\n",
            "ham salad\n",
            "ham smoothie\n",
            "cheese sandwich\n",
            "cheese waffles\n",
            "cheese pizza\n",
            "cheese burrito\n",
            "cheese soup\n",
            "cheese salad\n",
            "cheese smoothie\n",
            "beef sandwich\n",
            "beef waffles\n",
            "beef pizza\n",
            "beef burrito\n",
            "beef soup\n",
            "beef salad\n",
            "beef smoothie\n",
            "chocolate sandwich\n",
            "chocolate waffles\n",
            "chocolate pizza\n",
            "chocolate burrito\n",
            "chocolate soup\n",
            "chocolate salad\n",
            "chocolate smoothie\n"
          ]
        }
      ]
    },
    {
      "cell_type": "markdown",
      "id": "6bed564d",
      "metadata": {
        "id": "6bed564d"
      },
      "source": [
        "### Combining for and if statments\n",
        "- We can combine for loops and if statements to do different things when conditions are met.\n",
        "- In a for loop the `break` statement will stop the loop\n",
        "- In a for loop the `continue` statement will skip the element"
      ]
    },
    {
      "cell_type": "code",
      "execution_count": null,
      "id": "b26fb2db",
      "metadata": {
        "id": "b26fb2db"
      },
      "outputs": [],
      "source": [
        "transport=['car','bike','truck','plane','boat']"
      ]
    },
    {
      "cell_type": "code",
      "execution_count": null,
      "id": "e7df5860",
      "metadata": {
        "id": "e7df5860",
        "colab": {
          "base_uri": "https://localhost:8080/"
        },
        "outputId": "998441bf-9656-4936-d6a5-7f2a77a9d37e"
      },
      "outputs": [
        {
          "output_type": "stream",
          "name": "stdout",
          "text": [
            "car\n",
            "bike\n",
            "truck\n",
            "plane\n",
            "boat\n"
          ]
        }
      ],
      "source": [
        "for element in transport:\n",
        "  print(element)"
      ]
    },
    {
      "cell_type": "code",
      "execution_count": null,
      "id": "35517fcc",
      "metadata": {
        "id": "35517fcc",
        "colab": {
          "base_uri": "https://localhost:8080/"
        },
        "outputId": "c8c5a134-dc1e-4f10-a957-ed51f809d4ad"
      },
      "outputs": [
        {
          "output_type": "stream",
          "name": "stdout",
          "text": [
            "car\n",
            "bike\n",
            "truck\n",
            "plane\n",
            "you can fly\n"
          ]
        }
      ],
      "source": [
        "# Break the loop if condition is met\n",
        "for element in transport:\n",
        "  print(element)\n",
        "  if element =='plane':\n",
        "    print(\"you can fly\")\n",
        "    break"
      ]
    },
    {
      "cell_type": "code",
      "execution_count": null,
      "id": "b76ff230",
      "metadata": {
        "id": "b76ff230",
        "colab": {
          "base_uri": "https://localhost:8080/"
        },
        "outputId": "2b2a7d8a-404e-474e-d917-756714e10d81"
      },
      "outputs": [
        {
          "output_type": "stream",
          "name": "stdout",
          "text": [
            "boat\n"
          ]
        }
      ],
      "source": [
        "# Skip if condition is met\n",
        "\n",
        "for element in transport:\n",
        "  if element =='bike':\n",
        "    continue\n",
        "print(element)\n"
      ]
    },
    {
      "cell_type": "markdown",
      "id": "c6970a8d",
      "metadata": {
        "id": "c6970a8d"
      },
      "source": [
        "Else and elif clauses\n",
        "Sometimes you want to take a different path or do something different if other conditions are met. This is accomplished with an `else` clause.\n",
        "\n",
        "Branching executions can be accomplished by `elif` short for else if, will evaluate an expression and execute if True."
      ]
    },
    {
      "cell_type": "code",
      "execution_count": null,
      "id": "17477af6",
      "metadata": {
        "id": "17477af6",
        "colab": {
          "base_uri": "https://localhost:8080/"
        },
        "outputId": "2bdcfda6-6867-48e3-f930-eec7e6b00398"
      },
      "outputs": [
        {
          "output_type": "stream",
          "name": "stdout",
          "text": [
            "car\n",
            "u can drive\n",
            "bike\n",
            "u can drive\n",
            "truck\n",
            "u can drive\n",
            "plane\n",
            "you can fly\n",
            "boat\n",
            "you can flot\n"
          ]
        }
      ],
      "source": [
        "for element in transport:\n",
        "  print(element)\n",
        "  if element == 'plane':\n",
        "    print('you can fly')\n",
        "  elif element == \"boat\":\n",
        "    print(\"you can flot\")\n",
        "  else:\n",
        "    print(\"u can drive\")\n"
      ]
    },
    {
      "cell_type": "markdown",
      "id": "85220a7a",
      "metadata": {
        "id": "85220a7a"
      },
      "source": [
        "## Optional exercise\n",
        "Write a program that takes two integer numbers and determines if the numbers are odd or even. Remember the `input()` and `%` function and operator.\n",
        "\n",
        "Additional exercise: do the same computation as above, but for a list of numbers using a `for` loop and `if` statements."
      ]
    },
    {
      "cell_type": "code",
      "source": [
        "num = int(input(\"Enter First interger:\"))\n",
        "##integer = input(\"Enter Second integer\")\n",
        "\n",
        "if (num % 2) == 0:\n",
        "  print(\"num is even\")\n",
        "\n",
        "else:\n",
        "\n",
        "    print(\"num is odd\")\n"
      ],
      "metadata": {
        "colab": {
          "base_uri": "https://localhost:8080/"
        },
        "id": "D_63Gdzp5iBe",
        "outputId": "846054a6-4cef-4ea2-e08c-7a8d7a2719a6"
      },
      "id": "D_63Gdzp5iBe",
      "execution_count": null,
      "outputs": [
        {
          "output_type": "stream",
          "name": "stdout",
          "text": [
            "Enter First interger:24\n",
            "num is even\n"
          ]
        }
      ]
    },
    {
      "cell_type": "markdown",
      "id": "aee7968e",
      "metadata": {
        "id": "aee7968e"
      },
      "source": [
        "### Conditional expressions (ternary operator)\n",
        "This is different from the if statement forms listed above because it is not a control structure that directs the flow of program execution. It acts more like an operator that defines an expression. In the above example, <conditional_expr> is evaluated first. If it is true, the expression evaluates to <expr1>. If it is false, the expression evaluates to <expr2>.\n",
        "    \n",
        "- \\<conditional_expr> ? \\<expr1> : \\<expr2>"
      ]
    },
    {
      "cell_type": "code",
      "execution_count": null,
      "id": "22237e46",
      "metadata": {
        "id": "22237e46",
        "colab": {
          "base_uri": "https://localhost:8080/"
        },
        "outputId": "7500191e-6d0a-4e95-e1d3-1bc88c5f81c3"
      },
      "outputs": [
        {
          "output_type": "stream",
          "name": "stdout",
          "text": [
            "Lets  stay\n"
          ]
        }
      ],
      "source": [
        "rain = True\n",
        "print('Lets ', 'go outside' if not rain else 'stay')"
      ]
    },
    {
      "cell_type": "code",
      "execution_count": null,
      "id": "9b170387",
      "metadata": {
        "id": "9b170387"
      },
      "outputs": [],
      "source": [
        "#name = 'Bob'\n",
        "#who = 'Bob' if name == 'Bob' else 'Not Bob'\n",
        "#who"
      ]
    },
    {
      "cell_type": "code",
      "execution_count": null,
      "id": "5a676237",
      "metadata": {
        "id": "5a676237"
      },
      "outputs": [],
      "source": [
        "#name = 'Jane'\n",
        "#who = 'Bob' if name == 'Bob' else 'Not Bob'\n",
        "#who"
      ]
    },
    {
      "cell_type": "markdown",
      "id": "8536faa9",
      "metadata": {
        "id": "8536faa9"
      },
      "source": [
        "## While loops\n",
        "while \\<expr>:\n",
        "\n",
        "    <statement(s)>\n",
        "        \n",
        "<statement(s)> represents the block to be repeatedly executed, often referred to as the body of the loop. This is denoted with indentation, just as in an if statement.\n",
        "\n",
        "The controlling expression, <expr>, typically involves one or more variables that are initialized prior to starting the loop and then modified somewhere in the loop body.\n",
        "    \n",
        "While loops can also use `break` and `continue` statements. You can also use `else` statements once the condition is no longer true"
      ]
    },
    {
      "cell_type": "code",
      "execution_count": null,
      "id": "2a3797d0",
      "metadata": {
        "id": "2a3797d0",
        "colab": {
          "base_uri": "https://localhost:8080/"
        },
        "outputId": "ca7785d7-3425-45a8-fbf6-21d432504bd1"
      },
      "outputs": [
        {
          "output_type": "stream",
          "name": "stdout",
          "text": [
            "4\n",
            "3\n",
            "2\n",
            "1\n",
            "0\n"
          ]
        }
      ],
      "source": [
        "n = 5\n",
        "\n",
        "while n > 0:\n",
        "  n = n-1\n",
        "  print(n)"
      ]
    },
    {
      "cell_type": "code",
      "execution_count": null,
      "id": "edf20339",
      "metadata": {
        "id": "edf20339",
        "colab": {
          "base_uri": "https://localhost:8080/"
        },
        "outputId": "4f786683-d663-497e-e7b7-d3b47f8ce4f8"
      },
      "outputs": [
        {
          "output_type": "stream",
          "name": "stdout",
          "text": [
            "peter\n",
            "tony\n",
            "mark\n",
            "Mary\n",
            "no more names\n"
          ]
        }
      ],
      "source": [
        "name = ['bob',\"Abdellatif\", \"luke\"]\n",
        "\n",
        "while names:\n",
        "  print(names.pop())\n",
        "else:\n",
        "    print(\"no more names\")"
      ]
    },
    {
      "cell_type": "markdown",
      "id": "3b4a7594",
      "metadata": {
        "id": "3b4a7594"
      },
      "source": [
        "## Exercises for participation credit\n",
        "Please complete the following exercises and upload your completed notebook to your Github repository for participation credit.\n",
        "\n",
        "1. Write a for loop that adds all numbers from 1 to 100\n",
        "2. Using the list `lst1=[\"Joe\", \"Sarah\", \"Mike\", \"Jess\", \"\", \"Matt\", \"\", \"Greg\"]` create a second list called `lst2`, iterate through the list and add the names to `lst2` only if the element is different to an empty string.\n",
        "3. Take 3 numbers from the user using `input()` save the numbers to a list. Take 3 more numbers from the user and save it to a second list. Iterate over both lists and multiply every number on the first list over every other number on the second list. Print the multiplication result only if the result is an even number, else print the words `The result is odd`."
      ]
    },
    {
      "cell_type": "code",
      "execution_count": null,
      "id": "63de2ad5",
      "metadata": {
        "id": "63de2ad5",
        "colab": {
          "base_uri": "https://localhost:8080/"
        },
        "outputId": "a8ceca19-8366-46c4-ee1b-ec65e3420597"
      },
      "outputs": [
        {
          "output_type": "stream",
          "name": "stdout",
          "text": [
            "The sum of numbers from 1 to 100 is: 5050\n"
          ]
        }
      ],
      "source": [
        "total = 0\n",
        "\n",
        "for i in range(1, 101):\n",
        "    total +=i\n",
        "\n",
        "print(\"The sum of numbers from 1 to 100 is:\", total)\n",
        "\n",
        "\n"
      ]
    },
    {
      "cell_type": "code",
      "source": [
        "lst1 = [\"Joe\", \"Sarah\", \"Mike\", \"Jess\", \"\", \"Matt\", \"\", \"Greg\"]\n",
        "lst2 = []\n",
        "\n",
        "for names in lst1:\n",
        "    if names != \"\":\n",
        "        lst2.append(names)\n",
        "\n",
        "print(\"The list is:\", lst2)"
      ],
      "metadata": {
        "colab": {
          "base_uri": "https://localhost:8080/"
        },
        "id": "FEQu4wzE_sxO",
        "outputId": "78164764-81a0-4f39-d45c-33e699f07c20"
      },
      "id": "FEQu4wzE_sxO",
      "execution_count": null,
      "outputs": [
        {
          "output_type": "stream",
          "name": "stdout",
          "text": [
            "The  list is: ['Joe', 'Sarah', 'Mike', 'Jess', 'Matt', 'Greg']\n"
          ]
        }
      ]
    }
  ],
  "metadata": {
    "kernelspec": {
      "display_name": "Python 3 (ipykernel)",
      "language": "python",
      "name": "python3"
    },
    "language_info": {
      "codemirror_mode": {
        "name": "ipython",
        "version": 3
      },
      "file_extension": ".py",
      "mimetype": "text/x-python",
      "name": "python",
      "nbconvert_exporter": "python",
      "pygments_lexer": "ipython3",
      "version": "3.10.4"
    },
    "colab": {
      "provenance": [],
      "include_colab_link": true
    }
  },
  "nbformat": 4,
  "nbformat_minor": 5
}