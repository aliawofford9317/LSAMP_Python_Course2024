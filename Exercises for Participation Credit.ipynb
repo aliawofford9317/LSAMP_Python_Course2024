{
  "nbformat": 4,
  "nbformat_minor": 0,
  "metadata": {
    "colab": {
      "provenance": [],
      "authorship_tag": "ABX9TyODwESsMOZERKq+TmJqqS81",
      "include_colab_link": true
    },
    "kernelspec": {
      "name": "python3",
      "display_name": "Python 3"
    },
    "language_info": {
      "name": "python"
    }
  },
  "cells": [
    {
      "cell_type": "markdown",
      "metadata": {
        "id": "view-in-github",
        "colab_type": "text"
      },
      "source": [
        "<a href=\"https://colab.research.google.com/github/aliawofford9317/LSAMP_Python_Course2024/blob/DanielaaVargas/Exercises%20for%20Participation%20Credit.ipynb\" target=\"_parent\"><img src=\"https://colab.research.google.com/assets/colab-badge.svg\" alt=\"Open In Colab\"/></a>"
      ]
    },
    {
      "cell_type": "code",
      "execution_count": 12,
      "metadata": {
        "colab": {
          "base_uri": "https://localhost:8080/"
        },
        "id": "-aw81Wa4BBWN",
        "outputId": "63c390f6-12c2-4206-8371-92cb5ef232d7"
      },
      "outputs": [
        {
          "output_type": "stream",
          "name": "stdout",
          "text": [
            "10\n",
            "100\n",
            "a+b =  110\n",
            "a-b =  -90\n",
            "a*b =  1000\n",
            "a**b =  10000000000000000000000000000000000000000000000000000000000000000000000000000000000000000000000000000\n",
            "a/b =  0.1\n",
            "\n",
            " [500, 400, 300, 200, 100]\n",
            "\n",
            " ['My', 'name', 'is', 'Kelly']\n",
            "\n",
            "Chunk1:  [11, 45, 8]\n",
            "RevChunk1:  [8, 45, 11]\n",
            "Chunk2:  [23, 14, 12]\n",
            "RevChunk2 [12, 14, 23]\n",
            "Chunk3:  [78, 45, 89]\n",
            "RevChunk3:  [89, 45, 78]\n"
          ]
        }
      ],
      "source": [
        "#EXERCISES FOR PARTICIPATION CREDIT 06/07/24\n",
        "\n",
        "#1.) Operations with integers\n",
        "a = int(input())\n",
        "b = int(input())\n",
        "\n",
        "print('a+b = ', a+b)\n",
        "print('a-b = ', a-b)\n",
        "print('a*b = ', a*b)\n",
        "print('a**b = ', a**b)\n",
        "print('a/b = ', a/b)\n",
        "\n",
        "#2.) Operations with lists: Reversing lists\n",
        "aList = [100, 200, 300, 400, 500]\n",
        "print('\\n', aList[::-1])\n",
        "\n",
        "#3.) Operations with lists: Adding lists\n",
        "import operator\n",
        "\n",
        "list1 = [\"M\", \"na\", \"i\", \"Ke\"]\n",
        "list2 = [\"y\", \"me\", \"s\", \"lly\"]\n",
        "\n",
        "List = list(map(operator.add, list1, list2))\n",
        "print('\\n', List)\n",
        "\n",
        "#4.) Operations with lists: Spliting of Lists\n",
        "\n",
        "Numbers = [11,45,8,23,14,12,78,45,89]\n",
        "#Chunk1\n",
        "Chunk1 = Numbers[0:3]\n",
        "print('\\nChunk1: ', Chunk1)\n",
        "print('RevChunk1: ', Chunk1[::-1])\n",
        "\n",
        "#Chunk2\n",
        "Chunk2 = Numbers[3:6]\n",
        "print('Chunk2: ', Chunk2)\n",
        "print('RevChunk2', Chunk2[::-1])\n",
        "\n",
        "#Chunk3\n",
        "Chunk3 = Numbers[6:9]\n",
        "print('Chunk3: ', Chunk3)\n",
        "print('RevChunk3: ', Chunk3[::-1])\n",
        "\n"
      ]
    }
  ]
}