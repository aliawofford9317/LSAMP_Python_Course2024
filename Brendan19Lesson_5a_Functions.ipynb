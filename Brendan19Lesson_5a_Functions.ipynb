{
  "cells": [
    {
      "cell_type": "markdown",
      "metadata": {
        "id": "view-in-github",
        "colab_type": "text"
      },
      "source": [
        "<a href=\"https://colab.research.google.com/github/aliawofford9317/LSAMP_Python_Course2024/blob/Brendan-Gamor/Brendan19Lesson_5a_Functions.ipynb\" target=\"_parent\"><img src=\"https://colab.research.google.com/assets/colab-badge.svg\" alt=\"Open In Colab\"/></a>"
      ]
    },
    {
      "cell_type": "markdown",
      "id": "d30f8f43",
      "metadata": {
        "id": "d30f8f43"
      },
      "source": [
        "## Functions\n",
        "A function is a block of code with an associated name that receives and input and follows a sequence of statements. It returns a value or completes a task. It can be called as many times as needed.\n",
        "\n",
        "The use of functions is a very important component of the so-called structured programming paradigm, and it has several advantages:\n",
        "\n",
        "- **modularization:** allows a complex program to be segmented into a series of simpler parts or modules, thus facilitating programming and debugging.\n",
        "- **reuse:** allows you to reuse the same function in different programs. Python has a number of functions built into the language, and also allows you to create user-defined functions to be used in your own programs.\n",
        "\n",
        "DEF The **def** statement is a function definition used to create user-defined function objects.\n",
        "\n",
        "A function definition is an executable statement. Its execution binds the name of the function in the current local namespace to a function object (a wrapper around the executable code for the function). This function object contains a reference to the global local namespace as the global namespace to be used when the function is called.\n",
        "\n",
        "The function definition does not execute the body of the function; this is executed only when the function is called.\n",
        "\n",
        "The syntax for defining a Python function is as follows:\n",
        "\n",
        "def <function_name> ([\\<parameters>]):\n",
        "\n",
        "    \\<statements>"
      ]
    },
    {
      "cell_type": "code",
      "execution_count": null,
      "id": "be6cf6dd",
      "metadata": {
        "id": "be6cf6dd"
      },
      "outputs": [],
      "source": [
        "def hello(arg):\n",
        "        print (\"Hello\", arg, \"!\")"
      ]
    },
    {
      "cell_type": "code",
      "execution_count": null,
      "id": "e7d80121",
      "metadata": {
        "id": "e7d80121",
        "outputId": "581f1ebe-e2c4-4531-928e-2dfaf105ae46",
        "colab": {
          "base_uri": "https://localhost:8080/"
        }
      },
      "outputs": [
        {
          "output_type": "stream",
          "name": "stdout",
          "text": [
            "Hello World !\n"
          ]
        }
      ],
      "source": [
        "hello(\"World\")"
      ]
    },
    {
      "cell_type": "markdown",
      "id": "a85b53ab",
      "metadata": {
        "id": "a85b53ab"
      },
      "source": [
        "hello(8)"
      ]
    },
    {
      "cell_type": "markdown",
      "id": "c924d5b4",
      "metadata": {
        "id": "c924d5b4"
      },
      "source": [
        "Functions must be indented, similar to control structures"
      ]
    },
    {
      "cell_type": "markdown",
      "id": "d9d344e3",
      "metadata": {
        "id": "d9d344e3"
      },
      "source": [
        "### Modularity\n",
        "Functions allow complex processes to be broken into smaller steps. Lets imagine that you have a program that needs 3 steps to complete. Your program could be broken up like this:"
      ]
    },
    {
      "cell_type": "markdown",
      "id": "d60fd332",
      "metadata": {
        "id": "d60fd332"
      },
      "source": [
        "`# Your program`\n",
        "\n",
        "`# Step 1`\n",
        "\n",
        "`<statement>`\n",
        "\n",
        "`<statement>`\n",
        "\n",
        "`<statement>`\n",
        "\n",
        "`# Step 2`\n",
        "\n",
        "`<statement>`\n",
        "\n",
        "`<statement>`\n",
        "\n",
        "`<statement>`\n",
        "\n",
        "`# Step 3`\n",
        "\n",
        "`<statement>`\n",
        "\n",
        "`<statement>`\n",
        "\n",
        "`<statement>`\n"
      ]
    },
    {
      "cell_type": "markdown",
      "id": "c1d1aa77",
      "metadata": {
        "id": "c1d1aa77"
      },
      "source": [
        "If we were to break this code into functions it would look like this pseudocode.\n",
        "\n",
        "In the following example we have broken up the code into separate functions that can focus on a specific step. The main program just calls these functions at the end of the script."
      ]
    },
    {
      "cell_type": "code",
      "execution_count": null,
      "id": "fb4bfaa4",
      "metadata": {
        "id": "fb4bfaa4"
      },
      "outputs": [],
      "source": [
        "# Your program\n",
        "def step_one():\n",
        "    # your statements\n",
        "    pass # will not do anything. Works as a placeholder\n",
        "\n",
        "def step_two():\n",
        "    # your step two statements\n",
        "    pass # will not do anything. Works as a placeholder\n",
        "\n",
        "def step_three():\n",
        "    # your step three statements\n",
        "    pass # will not do anything. Works as a placeholder\n",
        "\n",
        "# the main program\n",
        "step_one()\n",
        "step_two()\n",
        "step_three()"
      ]
    },
    {
      "cell_type": "markdown",
      "id": "300735ee",
      "metadata": {
        "id": "300735ee"
      },
      "source": [
        "Notice that defining a function does not call it, you need to call it whenever you want to use it in your code, here is a short example to illustrate this:"
      ]
    },
    {
      "cell_type": "code",
      "execution_count": null,
      "id": "b1128a90",
      "metadata": {
        "id": "b1128a90",
        "outputId": "a82fcb99-e7e1-4e1a-e150-ffa046f38b7c",
        "colab": {
          "base_uri": "https://localhost:8080/"
        }
      },
      "outputs": [
        {
          "output_type": "stream",
          "name": "stdout",
          "text": [
            "Before calling my_func()\n",
            "Inside the function\n",
            "After calling my_func()\n"
          ]
        }
      ],
      "source": [
        "def my_func():\n",
        "    msg = 'Inside the function'\n",
        "    print(msg)\n",
        "\n",
        "print('Before calling my_func()')\n",
        "my_func()\n",
        "print('After calling my_func()')"
      ]
    },
    {
      "cell_type": "markdown",
      "id": "e7f9a4a7",
      "metadata": {
        "id": "e7f9a4a7"
      },
      "source": [
        "### Arguments and parameters\n",
        "When defining a function the values which are received are called parameters, but during the call the values which are sent are called arguments.\n",
        "\n",
        "By position When you send arguments to a function, they are received in order in the defined parameters. They are therefore said to be positional arguments:"
      ]
    },
    {
      "cell_type": "code",
      "execution_count": null,
      "id": "2fea1cdf",
      "metadata": {
        "id": "2fea1cdf"
      },
      "outputs": [],
      "source": [
        "def cars(qty, color, price):\n",
        "    print(f'{qty} {color} car costs ${price:.2f}')"
      ]
    },
    {
      "cell_type": "code",
      "execution_count": null,
      "id": "111f5750",
      "metadata": {
        "id": "111f5750",
        "outputId": "a3845096-b6c9-42ab-ccd6-d516b0e06ab0",
        "colab": {
          "base_uri": "https://localhost:8080/"
        }
      },
      "outputs": [
        {
          "output_type": "stream",
          "name": "stdout",
          "text": [
            "1 green car costs $3000.99\n"
          ]
        }
      ],
      "source": [
        "cars(1, 'green', 3000.99)"
      ]
    },
    {
      "cell_type": "markdown",
      "id": "cc341139",
      "metadata": {
        "id": "cc341139"
      },
      "source": [
        "For this function to work correctly you need to pass the arguments in order, but nothing stops you from passing arguments in different order:"
      ]
    },
    {
      "cell_type": "code",
      "execution_count": null,
      "id": "2ea61a33",
      "metadata": {
        "id": "2ea61a33",
        "outputId": "f9ae3f65-3419-4775-9ee8-05987855fb7c",
        "colab": {
          "base_uri": "https://localhost:8080/"
        }
      },
      "outputs": [
        {
          "output_type": "stream",
          "name": "stdout",
          "text": [
            "3000.99 green car costs $1.00\n"
          ]
        }
      ],
      "source": [
        "cars(3000.99, 'green', 1)"
      ]
    },
    {
      "cell_type": "markdown",
      "id": "c9e1c735",
      "metadata": {
        "id": "c9e1c735"
      },
      "source": [
        "So when passing arguments as positional arguments these must be in the correct order and also in the correct number. When trying to pass too many or too few paramenters an error will pop up, telling your there are too few or too many arguments:"
      ]
    },
    {
      "cell_type": "code",
      "execution_count": null,
      "id": "e727864a",
      "metadata": {
        "id": "e727864a",
        "outputId": "53a19839-8ee6-4e96-b4a7-4bc6afd565a0",
        "colab": {
          "base_uri": "https://localhost:8080/",
          "height": 144
        }
      },
      "outputs": [
        {
          "output_type": "error",
          "ename": "TypeError",
          "evalue": "cars() takes 3 positional arguments but 4 were given",
          "traceback": [
            "\u001b[0;31m---------------------------------------------------------------------------\u001b[0m",
            "\u001b[0;31mTypeError\u001b[0m                                 Traceback (most recent call last)",
            "\u001b[0;32m<ipython-input-8-f8af490c0129>\u001b[0m in \u001b[0;36m<cell line: 1>\u001b[0;34m()\u001b[0m\n\u001b[0;32m----> 1\u001b[0;31m \u001b[0mcars\u001b[0m\u001b[0;34m(\u001b[0m\u001b[0;36m1\u001b[0m\u001b[0;34m,\u001b[0m \u001b[0;34m'red'\u001b[0m\u001b[0;34m,\u001b[0m \u001b[0;36m4000.99\u001b[0m\u001b[0;34m,\u001b[0m \u001b[0;34m'blue'\u001b[0m\u001b[0;34m)\u001b[0m\u001b[0;34m\u001b[0m\u001b[0;34m\u001b[0m\u001b[0m\n\u001b[0m",
            "\u001b[0;31mTypeError\u001b[0m: cars() takes 3 positional arguments but 4 were given"
          ]
        }
      ],
      "source": [
        "cars(1, 'red', 4000.99, 'blue')"
      ]
    },
    {
      "cell_type": "code",
      "execution_count": null,
      "id": "923c3692",
      "metadata": {
        "id": "923c3692",
        "outputId": "7eb4401a-f97a-4fc9-9a43-1da11869ead0",
        "colab": {
          "base_uri": "https://localhost:8080/",
          "height": 144
        }
      },
      "outputs": [
        {
          "output_type": "error",
          "ename": "TypeError",
          "evalue": "cars() missing 1 required positional argument: 'price'",
          "traceback": [
            "\u001b[0;31m---------------------------------------------------------------------------\u001b[0m",
            "\u001b[0;31mTypeError\u001b[0m                                 Traceback (most recent call last)",
            "\u001b[0;32m<ipython-input-9-24bfc4a3ac9a>\u001b[0m in \u001b[0;36m<cell line: 1>\u001b[0;34m()\u001b[0m\n\u001b[0;32m----> 1\u001b[0;31m \u001b[0mcars\u001b[0m\u001b[0;34m(\u001b[0m\u001b[0;36m1\u001b[0m\u001b[0;34m,\u001b[0m \u001b[0;34m'red'\u001b[0m\u001b[0;34m)\u001b[0m\u001b[0;34m\u001b[0m\u001b[0;34m\u001b[0m\u001b[0m\n\u001b[0m",
            "\u001b[0;31mTypeError\u001b[0m: cars() missing 1 required positional argument: 'price'"
          ]
        }
      ],
      "source": [
        "cars(1, 'red')"
      ]
    },
    {
      "cell_type": "markdown",
      "id": "a51c8ef0",
      "metadata": {
        "id": "a51c8ef0"
      },
      "source": [
        "#### Keyword arguments\n",
        "When calling a function you can specify arguments in the form of \"keyword\"=\"value\". Each keyword must match a parameter in the Python function definition. Here is how we could call our function using keyword arguments:"
      ]
    },
    {
      "cell_type": "code",
      "execution_count": null,
      "id": "84bb1191",
      "metadata": {
        "id": "84bb1191",
        "outputId": "8d4cc126-6919-41a1-d498-dd08ae5f4d7a",
        "colab": {
          "base_uri": "https://localhost:8080/"
        }
      },
      "outputs": [
        {
          "output_type": "stream",
          "name": "stdout",
          "text": [
            "2 green car costs $9999.99\n"
          ]
        }
      ],
      "source": [
        "cars(color='green', price=9999.99, qty=2)"
      ]
    },
    {
      "cell_type": "markdown",
      "id": "02c5eda1",
      "metadata": {
        "id": "02c5eda1"
      },
      "source": [
        "If you don't match the declared parameters this will generate an exception:"
      ]
    },
    {
      "cell_type": "code",
      "execution_count": null,
      "id": "87cf07e4",
      "metadata": {
        "id": "87cf07e4",
        "outputId": "14f1ede7-6358-43b5-e0ee-8eb1b35eca71",
        "colab": {
          "base_uri": "https://localhost:8080/",
          "height": 144
        }
      },
      "outputs": [
        {
          "output_type": "error",
          "ename": "TypeError",
          "evalue": "cars() got an unexpected keyword argument 'cost'",
          "traceback": [
            "\u001b[0;31m---------------------------------------------------------------------------\u001b[0m",
            "\u001b[0;31mTypeError\u001b[0m                                 Traceback (most recent call last)",
            "\u001b[0;32m<ipython-input-11-e1ca3b1292f8>\u001b[0m in \u001b[0;36m<cell line: 1>\u001b[0;34m()\u001b[0m\n\u001b[0;32m----> 1\u001b[0;31m \u001b[0mcars\u001b[0m\u001b[0;34m(\u001b[0m\u001b[0mcolor\u001b[0m\u001b[0;34m=\u001b[0m\u001b[0;34m'green'\u001b[0m\u001b[0;34m,\u001b[0m \u001b[0mcost\u001b[0m\u001b[0;34m=\u001b[0m\u001b[0;36m9999.99\u001b[0m\u001b[0;34m,\u001b[0m \u001b[0mqty\u001b[0m\u001b[0;34m=\u001b[0m\u001b[0;36m2\u001b[0m\u001b[0;34m)\u001b[0m\u001b[0;34m\u001b[0m\u001b[0;34m\u001b[0m\u001b[0m\n\u001b[0m",
            "\u001b[0;31mTypeError\u001b[0m: cars() got an unexpected keyword argument 'cost'"
          ]
        }
      ],
      "source": [
        "cars(color='green', cost=9999.99, qty=2)"
      ]
    },
    {
      "cell_type": "markdown",
      "id": "a9bdf821",
      "metadata": {
        "id": "a9bdf821"
      },
      "source": [
        "Also the number of arguments must still match:"
      ]
    },
    {
      "cell_type": "code",
      "execution_count": null,
      "id": "b07c47f0",
      "metadata": {
        "id": "b07c47f0",
        "outputId": "f30f6138-d298-4561-fc47-dcb4e46d9e66",
        "colab": {
          "base_uri": "https://localhost:8080/",
          "height": 144
        }
      },
      "outputs": [
        {
          "output_type": "error",
          "ename": "TypeError",
          "evalue": "cars() missing 1 required positional argument: 'qty'",
          "traceback": [
            "\u001b[0;31m---------------------------------------------------------------------------\u001b[0m",
            "\u001b[0;31mTypeError\u001b[0m                                 Traceback (most recent call last)",
            "\u001b[0;32m<ipython-input-12-72fb14e874ba>\u001b[0m in \u001b[0;36m<cell line: 1>\u001b[0;34m()\u001b[0m\n\u001b[0;32m----> 1\u001b[0;31m \u001b[0mcars\u001b[0m\u001b[0;34m(\u001b[0m\u001b[0mcolor\u001b[0m\u001b[0;34m=\u001b[0m\u001b[0;34m'green'\u001b[0m\u001b[0;34m,\u001b[0m \u001b[0mprice\u001b[0m\u001b[0;34m=\u001b[0m\u001b[0;36m9999.99\u001b[0m\u001b[0;34m)\u001b[0m\u001b[0;34m\u001b[0m\u001b[0;34m\u001b[0m\u001b[0m\n\u001b[0m",
            "\u001b[0;31mTypeError\u001b[0m: cars() missing 1 required positional argument: 'qty'"
          ]
        }
      ],
      "source": [
        "cars(color='green', price=9999.99)"
      ]
    },
    {
      "cell_type": "code",
      "execution_count": null,
      "id": "5066fe79",
      "metadata": {
        "id": "5066fe79",
        "outputId": "fa3bed49-b7e3-4c2a-fe74-94db7006c337"
      },
      "outputs": [
        {
          "ename": "TypeError",
          "evalue": "cars() got an unexpected keyword argument 'color2'",
          "output_type": "error",
          "traceback": [
            "\u001b[1;31m---------------------------------------------------------------------------\u001b[0m",
            "\u001b[1;31mTypeError\u001b[0m                                 Traceback (most recent call last)",
            "Input \u001b[1;32mIn [25]\u001b[0m, in \u001b[0;36m<module>\u001b[1;34m\u001b[0m\n\u001b[1;32m----> 1\u001b[0m \u001b[43mcars\u001b[49m\u001b[43m(\u001b[49m\u001b[43mcolor\u001b[49m\u001b[38;5;241;43m=\u001b[39;49m\u001b[38;5;124;43m'\u001b[39;49m\u001b[38;5;124;43mgreen\u001b[39;49m\u001b[38;5;124;43m'\u001b[39;49m\u001b[43m,\u001b[49m\u001b[43m \u001b[49m\u001b[43mprice\u001b[49m\u001b[38;5;241;43m=\u001b[39;49m\u001b[38;5;241;43m9999.99\u001b[39;49m\u001b[43m,\u001b[49m\u001b[43m \u001b[49m\u001b[43mqty\u001b[49m\u001b[38;5;241;43m=\u001b[39;49m\u001b[38;5;241;43m2\u001b[39;49m\u001b[43m,\u001b[49m\u001b[43m \u001b[49m\u001b[43mcolor2\u001b[49m\u001b[38;5;241;43m=\u001b[39;49m\u001b[38;5;124;43m'\u001b[39;49m\u001b[38;5;124;43mred\u001b[39;49m\u001b[38;5;124;43m'\u001b[39;49m\u001b[43m)\u001b[49m\n",
            "\u001b[1;31mTypeError\u001b[0m: cars() got an unexpected keyword argument 'color2'"
          ]
        }
      ],
      "source": [
        "cars(color='green', price=9999.99, qty=2, color2='red')"
      ]
    },
    {
      "cell_type": "markdown",
      "id": "c553e258",
      "metadata": {
        "id": "c553e258"
      },
      "source": [
        "You can also use a function by combining positional and keyword arguments. When using this combination, the positional arguments must come first:"
      ]
    },
    {
      "cell_type": "code",
      "execution_count": null,
      "id": "c11d3e8d",
      "metadata": {
        "id": "c11d3e8d",
        "outputId": "c9873b84-cd13-45ad-c118-b4b954167250",
        "colab": {
          "base_uri": "https://localhost:8080/"
        }
      },
      "outputs": [
        {
          "output_type": "stream",
          "name": "stdout",
          "text": [
            "2 green car costs $9999.99\n"
          ]
        }
      ],
      "source": [
        "cars(2, color='green', price=9999.99)"
      ]
    },
    {
      "cell_type": "markdown",
      "id": "41c9471b",
      "metadata": {
        "id": "41c9471b"
      },
      "source": [
        "### Default parameters\n",
        "A default or optional parameter takes the value of the default value set at definition when this argument is left out on function call:"
      ]
    },
    {
      "cell_type": "code",
      "execution_count": null,
      "id": "511c4609",
      "metadata": {
        "id": "511c4609"
      },
      "outputs": [],
      "source": [
        "def substract(a = 2, b = 3):\n",
        "     return a - b"
      ]
    },
    {
      "cell_type": "code",
      "execution_count": null,
      "id": "4834298b",
      "metadata": {
        "id": "4834298b",
        "outputId": "6e69f323-e4ea-47cf-f564-263e6279051c",
        "colab": {
          "base_uri": "https://localhost:8080/"
        }
      },
      "outputs": [
        {
          "output_type": "execute_result",
          "data": {
            "text/plain": [
              "-2"
            ]
          },
          "metadata": {},
          "execution_count": 15
        }
      ],
      "source": [
        "substract(1, b=3)"
      ]
    },
    {
      "cell_type": "markdown",
      "id": "7d319392",
      "metadata": {
        "id": "7d319392"
      },
      "source": [
        "Or you can define it by name"
      ]
    },
    {
      "cell_type": "code",
      "execution_count": null,
      "id": "8ecb6616",
      "metadata": {
        "id": "8ecb6616",
        "outputId": "8ede63f6-b94c-452a-c503-605ad8a6a4e3",
        "colab": {
          "base_uri": "https://localhost:8080/"
        }
      },
      "outputs": [
        {
          "output_type": "execute_result",
          "data": {
            "text/plain": [
              "6"
            ]
          },
          "metadata": {},
          "execution_count": 16
        }
      ],
      "source": [
        "substract(b = 4, a = 10)"
      ]
    },
    {
      "cell_type": "code",
      "execution_count": null,
      "id": "ce8f9e7d",
      "metadata": {
        "id": "ce8f9e7d",
        "outputId": "2eb40234-595d-427b-f764-b18b4b7a703a",
        "colab": {
          "base_uri": "https://localhost:8080/"
        }
      },
      "outputs": [
        {
          "output_type": "execute_result",
          "data": {
            "text/plain": [
              "-1"
            ]
          },
          "metadata": {},
          "execution_count": 17
        }
      ],
      "source": [
        "# Default parameters\n",
        "substract()"
      ]
    },
    {
      "cell_type": "markdown",
      "id": "f456d52b",
      "metadata": {
        "id": "f456d52b"
      },
      "source": [
        "#### The *return* statement\n",
        "Many times we need our functions to do two things:\n",
        "1. Run the function, terminate it and pass the execution back to the caller (could be the main program).\n",
        "2. Pass data back to the caller.\n",
        "\n",
        "A `return` statement causes immediate exit from the function and transfer of execution to the caller. By default functions will return to the caller when the last statement of the function body is executed. Return statements don't need to be at the end of functions, knowing this we can put use them in multiple places in our functions. Check out the following examples:"
      ]
    },
    {
      "cell_type": "code",
      "execution_count": null,
      "id": "7b1a4d70",
      "metadata": {
        "id": "7b1a4d70",
        "outputId": "71d974ec-3d48-4a86-e78d-6d72ef913053",
        "colab": {
          "base_uri": "https://localhost:8080/"
        }
      },
      "outputs": [
        {
          "output_type": "stream",
          "name": "stdout",
          "text": [
            "Hello\n",
            "world\n"
          ]
        }
      ],
      "source": [
        "def my_f():\n",
        "    print('Hello')\n",
        "    print('world')\n",
        "    return\n",
        "my_f()"
      ]
    },
    {
      "cell_type": "code",
      "execution_count": null,
      "id": "729779e9",
      "metadata": {
        "id": "729779e9",
        "outputId": "b5a3b23f-4aaf-4742-9d38-0b3c0369b390",
        "colab": {
          "base_uri": "https://localhost:8080/"
        }
      },
      "outputs": [
        {
          "output_type": "stream",
          "name": "stdout",
          "text": [
            "55\n"
          ]
        }
      ],
      "source": [
        "def my_f(x):\n",
        "    if x < 0:\n",
        "        return\n",
        "    if x > 100:\n",
        "        return\n",
        "    print(x)\n",
        "my_f(-3)\n",
        "my_f(150)\n",
        "my_f(55)"
      ]
    },
    {
      "cell_type": "markdown",
      "id": "b3aafaa1",
      "metadata": {
        "id": "b3aafaa1"
      },
      "source": [
        "You can see that this would be useful to check for errors at the start of the function, and use `return` if there is a problem"
      ]
    },
    {
      "cell_type": "markdown",
      "id": "159d8708",
      "metadata": {
        "id": "159d8708"
      },
      "source": [
        "#### Return data to the caller\n",
        "In addition to exiting a function, the `return` statement is also used to pass data back to the caller. We can return expressions, and Python will return the value of this evaluated expression"
      ]
    },
    {
      "cell_type": "code",
      "execution_count": null,
      "id": "a46ea7b8",
      "metadata": {
        "id": "a46ea7b8",
        "outputId": "9c405279-afb6-47f1-d809-e1b954d8124e",
        "colab": {
          "base_uri": "https://localhost:8080/",
          "height": 35
        }
      },
      "outputs": [
        {
          "output_type": "execute_result",
          "data": {
            "text/plain": [
              "'Hi'"
            ],
            "application/vnd.google.colaboratory.intrinsic+json": {
              "type": "string"
            }
          },
          "metadata": {},
          "execution_count": 20
        }
      ],
      "source": [
        "def my_f():\n",
        "    return 'Hi'\n",
        "\n",
        "my_f()"
      ]
    },
    {
      "cell_type": "code",
      "execution_count": null,
      "id": "0944e6f6",
      "metadata": {
        "id": "0944e6f6",
        "outputId": "f13520c1-e802-4ab7-b065-43b9a2eb2138",
        "colab": {
          "base_uri": "https://localhost:8080/",
          "height": 35
        }
      },
      "outputs": [
        {
          "output_type": "execute_result",
          "data": {
            "text/plain": [
              "'Hi'"
            ],
            "application/vnd.google.colaboratory.intrinsic+json": {
              "type": "string"
            }
          },
          "metadata": {},
          "execution_count": 21
        }
      ],
      "source": [
        "var = my_f()\n",
        "var"
      ]
    },
    {
      "cell_type": "markdown",
      "id": "1f5d58fc",
      "metadata": {
        "id": "1f5d58fc"
      },
      "source": [
        "A function can return any type of object, either a string, dictionary, or any of the other data types that we have seen so far:"
      ]
    },
    {
      "cell_type": "code",
      "execution_count": null,
      "id": "c90007c7",
      "metadata": {
        "id": "c90007c7",
        "outputId": "2e6d69ea-6402-4814-8ee4-8ebf31e38d4a",
        "colab": {
          "base_uri": "https://localhost:8080/",
          "height": 35
        }
      },
      "outputs": [
        {
          "output_type": "execute_result",
          "data": {
            "text/plain": [
              "'llo'"
            ],
            "application/vnd.google.colaboratory.intrinsic+json": {
              "type": "string"
            }
          },
          "metadata": {},
          "execution_count": 22
        }
      ],
      "source": [
        "def my_f():\n",
        "    return 'Hello'\n",
        "\n",
        "my_f()[2:5] # Slicing the returned string"
      ]
    },
    {
      "cell_type": "code",
      "execution_count": null,
      "id": "8f6d9b36",
      "metadata": {
        "id": "8f6d9b36",
        "outputId": "542b4d54-5a91-45a0-98a9-2252f3b4e01d",
        "colab": {
          "base_uri": "https://localhost:8080/"
        }
      },
      "outputs": [
        {
          "output_type": "execute_result",
          "data": {
            "text/plain": [
              "['a', 'b', 'c']"
            ]
          },
          "metadata": {},
          "execution_count": 23
        }
      ],
      "source": [
        "def my_f2():\n",
        "    return ['a', 'b', 'c', 'd', 'e']\n",
        "\n",
        "my_f2()[:3]"
      ]
    },
    {
      "cell_type": "markdown",
      "id": "9393c3c6",
      "metadata": {
        "id": "9393c3c6"
      },
      "source": [
        "When multiple comma separated expressions are returned, Python will pack them as a tuple:"
      ]
    },
    {
      "cell_type": "code",
      "execution_count": null,
      "id": "9826f172",
      "metadata": {
        "id": "9826f172",
        "outputId": "186dd9fc-830b-432b-b1f3-6f40fd5ab8e2",
        "colab": {
          "base_uri": "https://localhost:8080/"
        }
      },
      "outputs": [
        {
          "output_type": "execute_result",
          "data": {
            "text/plain": [
              "('hello', 'my')"
            ]
          },
          "metadata": {},
          "execution_count": 24
        }
      ],
      "source": [
        "def my_f3():\n",
        "    return 'hello', 'from', 'my', 'function'\n",
        "\n",
        "my_f3()[0::2]"
      ]
    },
    {
      "cell_type": "markdown",
      "id": "62e8685e",
      "metadata": {
        "id": "62e8685e"
      },
      "source": [
        "If nothing is specified, a `None` type will be returned:"
      ]
    },
    {
      "cell_type": "code",
      "execution_count": null,
      "id": "a4c6cbcc",
      "metadata": {
        "id": "a4c6cbcc",
        "outputId": "fb775129-8c46-481d-a74f-fe1309673eac",
        "colab": {
          "base_uri": "https://localhost:8080/"
        }
      },
      "outputs": [
        {
          "output_type": "stream",
          "name": "stdout",
          "text": [
            "None\n"
          ]
        }
      ],
      "source": [
        "def f():\n",
        "    return\n",
        "\n",
        "print(f())"
      ]
    },
    {
      "cell_type": "markdown",
      "id": "e20d1404",
      "metadata": {
        "id": "e20d1404"
      },
      "source": [
        "###  **Exercises**\n",
        "1. Create a function that returns the addition, substraction, multiplication, and division of two numbers `a` and `b`, the default values for these numbers are 1.\n",
        "2. Create a similar function as exercises 1, but add a parameter that selects the operation to be performed called `op`, and has the following options `op='sum'`, `op='sub'`, `op='mul'` and `op='div'`. Each of this options correspond to a single operation. The function default value is addition. Use return statements to return the selected operation.\n",
        "3. Create a function that returns `n` terms of the Fibonacci Series. Example output:\n",
        "\n",
        "`fibonacci(10)\n",
        "0\n",
        "1\n",
        "1\n",
        "2\n",
        "3\n",
        "5\n",
        "8\n",
        "13\n",
        "21\n",
        "34`"
      ]
    },
    {
      "cell_type": "code",
      "source": [
        "def basic_arithmetic(a=1, b=1):\n",
        "    addition = a + b\n",
        "    subtraction = a - b\n",
        "    multiplication = a * b\n",
        "    division = a / b if b != 0 else None\n",
        "    return addition, subtraction, multiplication, division\n",
        "\n",
        "result = basic_arithmetic(5, 3)\n",
        "print(\"Addition:\", result[0])\n",
        "print(\"Subtraction:\", result[1])\n",
        "print(\"Multiplication:\", result[2])\n",
        "print(\"Division:\", result[3])\n"
      ],
      "metadata": {
        "colab": {
          "base_uri": "https://localhost:8080/"
        },
        "id": "T_aDT2YudoxA",
        "outputId": "8e695965-9740-4ceb-b118-a39e9fdd7ec5"
      },
      "id": "T_aDT2YudoxA",
      "execution_count": 6,
      "outputs": [
        {
          "output_type": "stream",
          "name": "stdout",
          "text": [
            "Addition: 8\n",
            "Subtraction: 2\n",
            "Multiplication: 15\n",
            "Division: 1.6666666666666667\n"
          ]
        }
      ]
    },
    {
      "cell_type": "code",
      "source": [
        "def selected_operation(a=1, b=1, op='sum'):\n",
        "    if op == 'sum':\n",
        "        return a + b\n",
        "    elif op == 'sub':\n",
        "        return a - b\n",
        "    elif op == 'mul':\n",
        "        return a * b\n",
        "    elif op == 'div':\n",
        "        return a / b if b != 0 else None\n",
        "    else:\n",
        "        return \"Invalid operation\"\n",
        "\n",
        "print(\"Sum:\", selected_operation(5, 3, 'sum'))\n",
        "print(\"Subtraction:\", selected_operation(5, 3, 'sub'))\n",
        "print(\"Multiplication:\", selected_operation(5, 3, 'mul'))\n",
        "print(\"Division:\", selected_operation(5, 3, 'div'))\n"
      ],
      "metadata": {
        "colab": {
          "base_uri": "https://localhost:8080/"
        },
        "id": "s-0O2FRTd9uC",
        "outputId": "5306a9ce-18aa-4f4e-ae3e-524d1b5ef5e5"
      },
      "id": "s-0O2FRTd9uC",
      "execution_count": 5,
      "outputs": [
        {
          "output_type": "stream",
          "name": "stdout",
          "text": [
            "Sum: 8\n",
            "Subtraction: 2\n",
            "Multiplication: 15\n",
            "Division: 1.6666666666666667\n"
          ]
        }
      ]
    },
    {
      "cell_type": "code",
      "source": [
        "def fibonacci(n):\n",
        "    a, b = 0, 1\n",
        "    for _ in range(n):\n",
        "        print(a)\n",
        "        a, b = b, a + b\n",
        "\n",
        "fibonacci(10)\n"
      ],
      "metadata": {
        "colab": {
          "base_uri": "https://localhost:8080/"
        },
        "id": "wZFy52XmeCUZ",
        "outputId": "2b78e20b-76dd-4a41-d1c6-f7bb3879f02f"
      },
      "id": "wZFy52XmeCUZ",
      "execution_count": 4,
      "outputs": [
        {
          "output_type": "stream",
          "name": "stdout",
          "text": [
            "0\n",
            "1\n",
            "1\n",
            "2\n",
            "3\n",
            "5\n",
            "8\n",
            "13\n",
            "21\n",
            "34\n"
          ]
        }
      ]
    },
    {
      "cell_type": "markdown",
      "id": "0232b46c",
      "metadata": {
        "id": "0232b46c"
      },
      "source": [
        "### Indeterminate arguments\n",
        "Used when we are not sure how many arguments will be received by the function. This requires the `arg` parameter"
      ]
    },
    {
      "cell_type": "code",
      "execution_count": null,
      "id": "8d1f4f88",
      "metadata": {
        "id": "8d1f4f88"
      },
      "outputs": [],
      "source": [
        "def indeter_position(*args):\n",
        "    for arg in args:\n",
        "        print (arg)"
      ]
    },
    {
      "cell_type": "code",
      "execution_count": null,
      "id": "81b501bc",
      "metadata": {
        "id": "81b501bc",
        "outputId": "8efe7b87-0998-41a3-e079-2f5ec9bd67a0",
        "colab": {
          "base_uri": "https://localhost:8080/"
        }
      },
      "outputs": [
        {
          "output_type": "stream",
          "name": "stdout",
          "text": [
            "5\n",
            "Hello world\n",
            "[1, 2, 3, 4, 5]\n",
            "a\n",
            "4\n",
            "8\n"
          ]
        }
      ],
      "source": [
        "indeter_position(5,\"Hello world\",[1,2,3,4,5],\"a\",4,8)"
      ]
    },
    {
      "cell_type": "markdown",
      "id": "6a67eef9",
      "metadata": {
        "id": "6a67eef9"
      },
      "source": [
        "### By name\n",
        "Using the keyword args or `kwargs`. This operator uses dictionary packing and unpacking to deliver the arguments. These are expected to be value-pairs and should be packed into a dictionary."
      ]
    },
    {
      "cell_type": "code",
      "execution_count": null,
      "id": "244f38b6",
      "metadata": {
        "id": "244f38b6"
      },
      "outputs": [],
      "source": [
        "def indet_name(**kwargs):\n",
        "     for kwarg in kwargs:\n",
        "            print (kwarg, \"=>\", kwargs[kwarg])"
      ]
    },
    {
      "cell_type": "code",
      "execution_count": null,
      "id": "1fa75489",
      "metadata": {
        "id": "1fa75489",
        "outputId": "f275b3a6-538f-4d6b-840e-3945971962ea",
        "colab": {
          "base_uri": "https://localhost:8080/"
        }
      },
      "outputs": [
        {
          "output_type": "stream",
          "name": "stdout",
          "text": [
            "n => 5\n",
            "c => Hello\n",
            "l => [1, 2, 3, 4, 5]\n"
          ]
        }
      ],
      "source": [
        "indet_name(n=5, c=\"Hello\", l=[1,2,3,4,5])"
      ]
    },
    {
      "cell_type": "markdown",
      "id": "67acbf80",
      "metadata": {
        "id": "67acbf80"
      },
      "source": [
        "### Mixing args and kwargs\n",
        "- First regular arguments\n",
        "- Second *args\n",
        "- Third *kwargs\n",
        "\n",
        "You can think of `*args` as a variable length positional argument list and `**kwargs` as a variable-length keyword argument list."
      ]
    },
    {
      "cell_type": "code",
      "execution_count": null,
      "id": "420e1c60",
      "metadata": {
        "id": "420e1c60",
        "outputId": "692a9ff6-034c-4d16-9802-bfc170a12264",
        "colab": {
          "base_uri": "https://localhost:8080/"
        }
      },
      "outputs": [
        {
          "output_type": "stream",
          "name": "stdout",
          "text": [
            "a = 10\n",
            "b = 20\n",
            "args = 1\n",
            "args = 2\n",
            "args = 3\n",
            "args = 4\n",
            "x = Hey\n",
            "y = hello\n",
            "z = there\n"
          ]
        }
      ],
      "source": [
        "def function(a, b, *args, **kwargs):\n",
        "    print(\"a =\", a)\n",
        "    print(\"b =\", b)\n",
        "    for arg in args:\n",
        "        print(\"args =\", arg)\n",
        "    for key, value in kwargs.items():\n",
        "        print(key, \"=\", value)\n",
        "\n",
        "function(10, 20, 1, 2, 3, 4, x=\"Hey\", y=\"hello\", z=\"there\")"
      ]
    },
    {
      "cell_type": "markdown",
      "id": "ba5a77b0",
      "metadata": {
        "id": "ba5a77b0"
      },
      "source": [
        "*Tuple unpacking*\n",
        "Using `*` we can extract values from a list or tuple to be used as function arguments"
      ]
    },
    {
      "cell_type": "code",
      "execution_count": null,
      "id": "26c664db",
      "metadata": {
        "id": "26c664db",
        "colab": {
          "base_uri": "https://localhost:8080/"
        },
        "outputId": "c95b3f88-b800-4d53-c7b5-ee9bffcf1f37"
      },
      "outputs": [
        {
          "output_type": "stream",
          "name": "stdout",
          "text": [
            "a = 10\n",
            "b = 20\n",
            "args = 1\n",
            "args = 2\n",
            "args = 3\n",
            "args = 4\n",
            "x = Hello\n",
            "y = there\n",
            "z = hi\n"
          ]
        }
      ],
      "source": [
        "def function(a, b, *args, **kwargs):\n",
        "    print(\"a =\", a)\n",
        "    print(\"b =\", b)\n",
        "    for arg in args:\n",
        "        print(\"args =\", arg)\n",
        "    for key, value in kwargs.items():\n",
        "        print(key, \"=\", value)\n",
        "\n",
        "args = [1, 2, 3, 4]\n",
        "kwargs = {'x':\"Hello\", 'y':\"there\", 'z':\"hi\"}\n",
        "\n",
        "function(10, 20, *args, **kwargs)"
      ]
    },
    {
      "cell_type": "markdown",
      "id": "6a9c3a8f",
      "metadata": {
        "id": "6a9c3a8f"
      },
      "source": [
        "### Docsstrings\n",
        "A docstring is used to supply documentation for a function. It can contain the function purpuse, arguments, information about return values. The docstring should be a string statement enclosed in triple quotes `\"\"\"`"
      ]
    },
    {
      "cell_type": "code",
      "execution_count": null,
      "id": "02b8ed37",
      "metadata": {
        "id": "02b8ed37",
        "outputId": "b6acef46-bdca-4699-b371-7df3bcbd9fa9",
        "colab": {
          "base_uri": "https://localhost:8080/"
        }
      },
      "outputs": [
        {
          "output_type": "stream",
          "name": "stdout",
          "text": [
            "Perform addition of two numbers a and b\n",
            "\n",
            "    Keyword arguments:\n",
            "    a -- The first number\n",
            "    b -- The second number\n",
            "    \n"
          ]
        }
      ],
      "source": [
        "def sum(a=0, b=1):\n",
        "    \"\"\"Perform addition of two numbers a and b\n",
        "\n",
        "    Keyword arguments:\n",
        "    a -- The first number\n",
        "    b -- The second number\n",
        "    \"\"\"\n",
        "    return a + b\n",
        "\n",
        "print(sum.__doc__)\n"
      ]
    },
    {
      "cell_type": "code",
      "execution_count": null,
      "id": "d929bf9a",
      "metadata": {
        "id": "d929bf9a",
        "outputId": "9aa1d815-fc0a-4e1d-a8c6-fe42338346d5",
        "colab": {
          "base_uri": "https://localhost:8080/"
        }
      },
      "outputs": [
        {
          "output_type": "stream",
          "name": "stdout",
          "text": [
            "Help on function sum in module __main__:\n",
            "\n",
            "sum(a=0, b=1)\n",
            "    Perform addition of two numbers a and b\n",
            "    \n",
            "    Keyword arguments:\n",
            "    a -- The first number\n",
            "    b -- The second number\n",
            "\n"
          ]
        }
      ],
      "source": [
        "# alternative docstring\n",
        "help(sum)"
      ]
    },
    {
      "cell_type": "markdown",
      "id": "462c2c9f",
      "metadata": {
        "id": "462c2c9f"
      },
      "source": [
        "### Function annotations\n",
        "As of version 3.0, Python provides an additional feature for documenting a function called a function annotation. Annotations provide a way to attach metadata to a function’s parameters and return value.\n",
        "\n",
        "To add an annotation to a Python function parameter, insert a colon (:) followed by any expression after the parameter name in the function definition. To add an annotation to the return value, add the characters -> and any expression between the closing parenthesis of the parameter list and the colon that terminates the function header. Here’s an example:"
      ]
    },
    {
      "cell_type": "code",
      "execution_count": null,
      "id": "a5aa57d2",
      "metadata": {
        "id": "a5aa57d2"
      },
      "outputs": [],
      "source": [
        "def f(a: '<a>', b: '<b>') -> '<ret_value>':\n",
        "...     pass"
      ]
    },
    {
      "cell_type": "markdown",
      "id": "8bac0bec",
      "metadata": {
        "id": "8bac0bec"
      },
      "source": [
        "The annotation for parameter a is the string `<a>`, for b the string `<b>`, and for the function return value the string '<ret_value>'.\n",
        "\n",
        "The Python interpreter creates a dictionary from the annotations and assigns them to another special dunder attribute of the function called __annotations__. The annotations for the Python function f() shown above can be displayed as follows:"
      ]
    },
    {
      "cell_type": "code",
      "execution_count": null,
      "id": "2e6c0368",
      "metadata": {
        "id": "2e6c0368",
        "outputId": "cdd36b5a-c89c-457b-8515-88b09f34ae23",
        "colab": {
          "base_uri": "https://localhost:8080/"
        }
      },
      "outputs": [
        {
          "output_type": "execute_result",
          "data": {
            "text/plain": [
              "{'a': '<a>', 'b': '<b>', 'return': '<ret_value>'}"
            ]
          },
          "metadata": {},
          "execution_count": 35
        }
      ],
      "source": [
        "f.__annotations__"
      ]
    },
    {
      "cell_type": "markdown",
      "id": "4e3b7bb2",
      "metadata": {
        "id": "4e3b7bb2"
      },
      "source": [
        "Note that annotations aren’t restricted to string values. They can be any expression or object. For example, you might annotate with type objects:"
      ]
    },
    {
      "cell_type": "code",
      "execution_count": null,
      "id": "c4db4276",
      "metadata": {
        "id": "c4db4276",
        "outputId": "f71d906c-7148-4804-fe19-610c71d186d2",
        "colab": {
          "base_uri": "https://localhost:8080/"
        }
      },
      "outputs": [
        {
          "output_type": "stream",
          "name": "stdout",
          "text": [
            "1 foo\n"
          ]
        },
        {
          "output_type": "execute_result",
          "data": {
            "text/plain": [
              "{'a': int, 'b': str, 'return': float}"
            ]
          },
          "metadata": {},
          "execution_count": 37
        }
      ],
      "source": [
        "def f(a: int, b: str) -> float:\n",
        "    print(a, b)\n",
        "    return(3.5)\n",
        "\n",
        "\n",
        "f(1, 'foo')\n",
        "\n",
        "f.__annotations__"
      ]
    },
    {
      "cell_type": "markdown",
      "id": "903d75a2",
      "metadata": {
        "id": "903d75a2"
      },
      "source": [
        "An annotation can even be a composite object like a list or a dictionary, so it’s possible to attach multiple items of metadata to the parameters and return value:"
      ]
    },
    {
      "cell_type": "code",
      "execution_count": null,
      "id": "f5c192fc",
      "metadata": {
        "id": "f5c192fc",
        "outputId": "d6f97843-82b8-45ca-b6ba-d53378afe0c7",
        "colab": {
          "base_uri": "https://localhost:8080/"
        }
      },
      "outputs": [
        {
          "output_type": "execute_result",
          "data": {
            "text/plain": [
              "248.84534390000002"
            ]
          },
          "metadata": {},
          "execution_count": 36
        }
      ],
      "source": [
        "def area(\n",
        "...     r: {\n",
        "...            'desc': 'radius of circle',\n",
        "...            'type': float\n",
        "...        }) -> \\\n",
        "...        {\n",
        "...            'desc': 'area of circle',\n",
        "...            'type': float\n",
        "...        }:\n",
        "...     return 3.14159 * (r ** 2)\n",
        "\n",
        "area(8.9)"
      ]
    },
    {
      "cell_type": "code",
      "execution_count": null,
      "id": "79043d05",
      "metadata": {
        "id": "79043d05",
        "outputId": "223e399d-294d-4ad7-bf17-7c3b6270fdcd",
        "colab": {
          "base_uri": "https://localhost:8080/"
        }
      },
      "outputs": [
        {
          "output_type": "execute_result",
          "data": {
            "text/plain": [
              "{'r': {'desc': 'radius of circle', 'type': float},\n",
              " 'return': {'desc': 'area of circle', 'type': float}}"
            ]
          },
          "metadata": {},
          "execution_count": 38
        }
      ],
      "source": [
        "area.__annotations__"
      ]
    },
    {
      "cell_type": "code",
      "execution_count": null,
      "id": "0e046f53",
      "metadata": {
        "id": "0e046f53",
        "outputId": "8dea0972-44f0-4b4a-e4ef-bfb45f249e91",
        "colab": {
          "base_uri": "https://localhost:8080/",
          "height": 35
        }
      },
      "outputs": [
        {
          "output_type": "execute_result",
          "data": {
            "text/plain": [
              "'radius of circle'"
            ],
            "application/vnd.google.colaboratory.intrinsic+json": {
              "type": "string"
            }
          },
          "metadata": {},
          "execution_count": 39
        }
      ],
      "source": [
        "area.__annotations__['r']['desc']"
      ]
    },
    {
      "cell_type": "code",
      "execution_count": null,
      "id": "958306e9",
      "metadata": {
        "id": "958306e9",
        "outputId": "7bca22f0-500e-415c-99d7-3f0da344fd6a",
        "colab": {
          "base_uri": "https://localhost:8080/"
        }
      },
      "outputs": [
        {
          "output_type": "execute_result",
          "data": {
            "text/plain": [
              "float"
            ]
          },
          "metadata": {},
          "execution_count": 40
        }
      ],
      "source": [
        "area.__annotations__['return']['type']"
      ]
    },
    {
      "cell_type": "markdown",
      "id": "f52566a2",
      "metadata": {
        "id": "f52566a2"
      },
      "source": [
        "Annotations don’t impose any semantic restrictions on the code whatsoever. They’re simply bits of metadata attached to the Python function parameters and return value. Python dutifully stashes them in a dictionary, assigns the dictionary to the function’s __annotations__ dunder attribute, and that’s it. Annotations are completely optional and don’t have any impact on Python function execution at all.\n",
        "\n",
        "Annotations make good documentation. You can specify the same information in the docstring, of course, but placing it directly in the function definition adds clarity. The types of the arguments and the return value are obvious on sight for a function header like this:"
      ]
    },
    {
      "cell_type": "code",
      "execution_count": null,
      "id": "37f99e50",
      "metadata": {
        "id": "37f99e50"
      },
      "outputs": [],
      "source": []
    }
  ],
  "metadata": {
    "kernelspec": {
      "display_name": "Python 3 (ipykernel)",
      "language": "python",
      "name": "python3"
    },
    "language_info": {
      "codemirror_mode": {
        "name": "ipython",
        "version": 3
      },
      "file_extension": ".py",
      "mimetype": "text/x-python",
      "name": "python",
      "nbconvert_exporter": "python",
      "pygments_lexer": "ipython3",
      "version": "3.10.4"
    },
    "colab": {
      "provenance": [],
      "include_colab_link": true
    }
  },
  "nbformat": 4,
  "nbformat_minor": 5
}